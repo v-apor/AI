{
 "cells": [
  {
   "cell_type": "code",
   "execution_count": 1,
   "metadata": {},
   "outputs": [],
   "source": [
    "import pandas as pd\n",
    "import numpy as np"
   ]
  },
  {
   "cell_type": "code",
   "execution_count": 2,
   "metadata": {},
   "outputs": [],
   "source": [
    "%matplotlib inline"
   ]
  },
  {
   "cell_type": "code",
   "execution_count": 3,
   "metadata": {},
   "outputs": [],
   "source": [
    "from plotly import __version__"
   ]
  },
  {
   "cell_type": "code",
   "execution_count": 4,
   "metadata": {},
   "outputs": [
    {
     "name": "stdout",
     "output_type": "stream",
     "text": [
      "4.8.1\n"
     ]
    }
   ],
   "source": [
    "print(__version__)"
   ]
  },
  {
   "cell_type": "code",
   "execution_count": 5,
   "metadata": {},
   "outputs": [],
   "source": [
    "import cufflinks as cf"
   ]
  },
  {
   "cell_type": "code",
   "execution_count": 6,
   "metadata": {},
   "outputs": [],
   "source": [
    "from plotly.offline import download_plotlyjs, init_notebook_mode,plot, iplot"
   ]
  },
  {
   "cell_type": "code",
   "execution_count": 7,
   "metadata": {},
   "outputs": [
    {
     "data": {
      "text/html": [
       "        <script type=\"text/javascript\">\n",
       "        window.PlotlyConfig = {MathJaxConfig: 'local'};\n",
       "        if (window.MathJax) {MathJax.Hub.Config({SVG: {font: \"STIX-Web\"}});}\n",
       "        if (typeof require !== 'undefined') {\n",
       "        require.undef(\"plotly\");\n",
       "        requirejs.config({\n",
       "            paths: {\n",
       "                'plotly': ['https://cdn.plot.ly/plotly-latest.min']\n",
       "            }\n",
       "        });\n",
       "        require(['plotly'], function(Plotly) {\n",
       "            window._Plotly = Plotly;\n",
       "        });\n",
       "        }\n",
       "        </script>\n",
       "        "
      ]
     },
     "metadata": {},
     "output_type": "display_data"
    }
   ],
   "source": [
    "init_notebook_mode(connected=True)"
   ]
  },
  {
   "cell_type": "code",
   "execution_count": 8,
   "metadata": {},
   "outputs": [
    {
     "data": {
      "text/html": [
       "        <script type=\"text/javascript\">\n",
       "        window.PlotlyConfig = {MathJaxConfig: 'local'};\n",
       "        if (window.MathJax) {MathJax.Hub.Config({SVG: {font: \"STIX-Web\"}});}\n",
       "        if (typeof require !== 'undefined') {\n",
       "        require.undef(\"plotly\");\n",
       "        requirejs.config({\n",
       "            paths: {\n",
       "                'plotly': ['https://cdn.plot.ly/plotly-latest.min']\n",
       "            }\n",
       "        });\n",
       "        require(['plotly'], function(Plotly) {\n",
       "            window._Plotly = Plotly;\n",
       "        });\n",
       "        }\n",
       "        </script>\n",
       "        "
      ]
     },
     "metadata": {},
     "output_type": "display_data"
    }
   ],
   "source": [
    "cf.go_offline()"
   ]
  },
  {
   "cell_type": "code",
   "execution_count": 9,
   "metadata": {},
   "outputs": [
    {
     "data": {
      "text/html": [
       "<div>\n",
       "<style scoped>\n",
       "    .dataframe tbody tr th:only-of-type {\n",
       "        vertical-align: middle;\n",
       "    }\n",
       "\n",
       "    .dataframe tbody tr th {\n",
       "        vertical-align: top;\n",
       "    }\n",
       "\n",
       "    .dataframe thead th {\n",
       "        text-align: right;\n",
       "    }\n",
       "</style>\n",
       "<table border=\"1\" class=\"dataframe\">\n",
       "  <thead>\n",
       "    <tr style=\"text-align: right;\">\n",
       "      <th></th>\n",
       "      <th>A</th>\n",
       "      <th>B</th>\n",
       "      <th>C</th>\n",
       "      <th>D</th>\n",
       "    </tr>\n",
       "  </thead>\n",
       "  <tbody>\n",
       "    <tr>\n",
       "      <th>0</th>\n",
       "      <td>-0.352836</td>\n",
       "      <td>-1.514546</td>\n",
       "      <td>-2.370402</td>\n",
       "      <td>0.553739</td>\n",
       "    </tr>\n",
       "    <tr>\n",
       "      <th>1</th>\n",
       "      <td>-0.284491</td>\n",
       "      <td>-0.013673</td>\n",
       "      <td>0.710914</td>\n",
       "      <td>1.727573</td>\n",
       "    </tr>\n",
       "    <tr>\n",
       "      <th>2</th>\n",
       "      <td>2.203326</td>\n",
       "      <td>-0.782924</td>\n",
       "      <td>0.630963</td>\n",
       "      <td>1.216431</td>\n",
       "    </tr>\n",
       "    <tr>\n",
       "      <th>3</th>\n",
       "      <td>1.191491</td>\n",
       "      <td>2.175811</td>\n",
       "      <td>-2.844286</td>\n",
       "      <td>-0.357619</td>\n",
       "    </tr>\n",
       "    <tr>\n",
       "      <th>4</th>\n",
       "      <td>-0.564391</td>\n",
       "      <td>0.014005</td>\n",
       "      <td>-0.003781</td>\n",
       "      <td>-0.276638</td>\n",
       "    </tr>\n",
       "  </tbody>\n",
       "</table>\n",
       "</div>"
      ],
      "text/plain": [
       "          A         B         C         D\n",
       "0 -0.352836 -1.514546 -2.370402  0.553739\n",
       "1 -0.284491 -0.013673  0.710914  1.727573\n",
       "2  2.203326 -0.782924  0.630963  1.216431\n",
       "3  1.191491  2.175811 -2.844286 -0.357619\n",
       "4 -0.564391  0.014005 -0.003781 -0.276638"
      ]
     },
     "execution_count": 9,
     "metadata": {},
     "output_type": "execute_result"
    }
   ],
   "source": [
    "# DATA\n",
    "df = pd.DataFrame(np.random.randn(100,4), columns='A B C D'.split())\n",
    "df.head()"
   ]
  },
  {
   "cell_type": "code",
   "execution_count": 10,
   "metadata": {},
   "outputs": [
    {
     "data": {
      "text/html": [
       "<div>\n",
       "<style scoped>\n",
       "    .dataframe tbody tr th:only-of-type {\n",
       "        vertical-align: middle;\n",
       "    }\n",
       "\n",
       "    .dataframe tbody tr th {\n",
       "        vertical-align: top;\n",
       "    }\n",
       "\n",
       "    .dataframe thead th {\n",
       "        text-align: right;\n",
       "    }\n",
       "</style>\n",
       "<table border=\"1\" class=\"dataframe\">\n",
       "  <thead>\n",
       "    <tr style=\"text-align: right;\">\n",
       "      <th></th>\n",
       "      <th>Category</th>\n",
       "      <th>Values</th>\n",
       "    </tr>\n",
       "  </thead>\n",
       "  <tbody>\n",
       "    <tr>\n",
       "      <th>0</th>\n",
       "      <td>A</td>\n",
       "      <td>14</td>\n",
       "    </tr>\n",
       "    <tr>\n",
       "      <th>1</th>\n",
       "      <td>B</td>\n",
       "      <td>61</td>\n",
       "    </tr>\n",
       "    <tr>\n",
       "      <th>2</th>\n",
       "      <td>C</td>\n",
       "      <td>75</td>\n",
       "    </tr>\n",
       "  </tbody>\n",
       "</table>\n",
       "</div>"
      ],
      "text/plain": [
       "  Category  Values\n",
       "0        A      14\n",
       "1        B      61\n",
       "2        C      75"
      ]
     },
     "execution_count": 10,
     "metadata": {},
     "output_type": "execute_result"
    }
   ],
   "source": [
    "df2 = pd.DataFrame({'Category':'A B C'.split(), 'Values':[14,61,75]})\n",
    "df2.head()"
   ]
  },
  {
   "cell_type": "code",
   "execution_count": 11,
   "metadata": {},
   "outputs": [
    {
     "data": {
      "text/plain": [
       "<matplotlib.axes._subplots.AxesSubplot at 0x28e6ac950c8>"
      ]
     },
     "execution_count": 11,
     "metadata": {},
     "output_type": "execute_result"
    },
    {
     "data": {
      "image/png": "[encoded data removed]",
      "text/plain": [
       "<Figure size 432x288 with 1 Axes>"
      ]
     },
     "metadata": {
      "needs_background": "light"
     },
     "output_type": "display_data"
    }
   ],
   "source": [
    "df.plot()"
   ]
  },
  {
   "cell_type": "code",
   "execution_count": 12,
   "metadata": {},
   "outputs": [
    {
     "data": {
      "application/vnd.plotly.v1+json": {
       "config": {
        "linkText": "Export to plot.ly",
        "plotlyServerURL": "https://plot.ly",
        "showLink": true
       },
       "data": [
        {
         "line": {
          "color": "rgba(255, 153, 51, 1.0)",
          "dash": "solid",
          "shape": "linear",
          "width": 1.3
         },
         "mode": "lines",
         "name": "A",
         "text": "",
         "type": "scatter",
         "x": [
          0,
          1,
          2,
          3,
          4,
          5,
          6,
          7,
          8,
          9,
          10,
          11,
          12,
          13,
          14,
          15,
          16,
          17,
          18,
          19,
          20,
          21,
          22,
          23,
          24,
          25,
          26,
          27,
          28,
          29,
          30,
          31,
          32,
          33,
          34,
          35,
          36,
          37,
          38,
          39,
          40,
          41,
          42,
          43,
          44,
          45,
          46,
          47,
          48,
          49,
          50,
          51,
          52,
          53,
          54,
          55,
          56,
          57,
          58,
          59,
          60,
          61,
          62,
          63,
          64,
          65,
          66,
          67,
          68,
          69,
          70,
          71,
          72,
          73,
          74,
          75,
          76,
          77,
          78,
          79,
          80,
          81,
          82,
          83,
          84,
          85,
          86,
          87,
          88,
          89,
          90,
          91,
          92,
          93,
          94,
          95,
          96,
          97,
          98,
          99
         ],
         "y": [
          -0.3528362464153668,
          -0.284490578588392,
          2.203326375137168,
          1.1914906229339413,
          -0.5643907599811814,
          2.7798718153014357,
          1.1392230478947218,
          -0.3969084492198873,
          -0.8431354506721372,
          -1.2113706937321673,
          -1.1232328854452367,
          0.4518665654795515,
          0.15108658835894914,
          -1.7197708096350655,
          -0.07078563077906978,
          -0.980891266191066,
          -2.0065915820068994,
          0.04405074044947059,
          -0.1816391125056839,
          0.7598049797859753,
          -1.096012407090366,
          -1.4973956161707278,
          -2.2293808754538005,
          -0.15494190096890462,
          -0.8404676595449304,
          -1.5864444840611043,
          -1.271828143859151,
          0.233536485699503,
          0.32955043668175693,
          1.1595295612279588,
          -0.5278554404367857,
          -0.16303045205008881,
          -1.7674739515583324,
          0.33892658874933296,
          0.19685617323938542,
          0.33023853338745474,
          0.03730643652616613,
          0.32496894629056994,
          0.23244779523287074,
          -0.01842197648227652,
          -1.1672830340101563,
          -0.40440266128609065,
          2.07759282848088,
          0.14020699314040225,
          0.11670666187449041,
          -1.3759216802724983,
          2.3270704249878746,
          0.3972406311737788,
          0.17442023752997537,
          -0.2800525759529055,
          0.4506210148099999,
          2.6202326404140677,
          1.0653150560571336,
          1.7095140209602646,
          0.7990198343521421,
          -0.8281912607199876,
          -0.806280334150687,
          1.6979095908090678,
          -0.8672712204039527,
          1.1005741543620384,
          -0.6546095261109552,
          0.9048167986183359,
          -0.7100506115690377,
          0.648084430407177,
          0.9447881732500704,
          -0.4713552039565896,
          0.21402616654041448,
          -0.935151045365892,
          1.2150495379117552,
          -0.43140919672950967,
          -1.1891048756132958,
          0.9847206464209383,
          0.40945681494002684,
          -0.8066269723088334,
          -0.6687296314674605,
          -1.0238807147882825,
          -0.2700469623402802,
          0.5690651238713944,
          0.6865219970682781,
          0.6483901625701793,
          1.2905559982270822,
          0.8178639588042602,
          1.1575135611917569,
          -2.0984711888019745,
          -1.7762476161655396,
          -0.6748575307003194,
          -0.21849196898810175,
          -0.5753702112145309,
          -0.3920858562314582,
          0.6970390930379042,
          -1.4429250467452353,
          -0.3166115618643759,
          -0.3519621812877541,
          -0.4525464016079805,
          0.5423829440734289,
          -0.36691990004214553,
          -0.7611303390249726,
          2.0511135768496143,
          -0.9598352743683791,
          -0.37398827024180453
         ]
        },
        {
         "line": {
          "color": "rgba(55, 128, 191, 1.0)",
          "dash": "solid",
          "shape": "linear",
          "width": 1.3
         },
         "mode": "lines",
         "name": "B",
         "text": "",
         "type": "scatter",
         "x": [
          0,
          1,
          2,
          3,
          4,
          5,
          6,
          7,
          8,
          9,
          10,
          11,
          12,
          13,
          14,
          15,
          16,
          17,
          18,
          19,
          20,
          21,
          22,
          23,
          24,
          25,
          26,
          27,
          28,
          29,
          30,
          31,
          32,
          33,
          34,
          35,
          36,
          37,
          38,
          39,
          40,
          41,
          42,
          43,
          44,
          45,
          46,
          47,
          48,
          49,
          50,
          51,
          52,
          53,
          54,
          55,
          56,
          57,
          58,
          59,
          60,
          61,
          62,
          63,
          64,
          65,
          66,
          67,
          68,
          69,
          70,
          71,
          72,
          73,
          74,
          75,
          76,
          77,
          78,
          79,
          80,
          81,
          82,
          83,
          84,
          85,
          86,
          87,
          88,
          89,
          90,
          91,
          92,
          93,
          94,
          95,
          96,
          97,
          98,
          99
         ],
         "y": [
          -1.5145455118176767,
          -0.01367326820150052,
          -0.7829236033971367,
          2.1758105864782173,
          0.014005493606606743,
          -0.408817628815818,
          -1.9692976906687827,
          0.7934251922172569,
          -0.10928246963521912,
          -1.8675911342151044,
          -0.291350381007704,
          -0.2861757143497499,
          0.45182196198038505,
          -1.3540852014076956,
          0.11849633147728272,
          -1.4831515290012542,
          -0.15594664619415652,
          0.8218005891800004,
          -1.3196893908390053,
          0.9516245220412897,
          1.0245182381659395,
          -0.9086606060000463,
          0.3667342867629603,
          2.1748246081996387,
          -1.4412403414461203,
          1.3547356288206962,
          0.07448038483912717,
          -2.0463557158127803,
          -0.2466438968154346,
          0.7427704569505088,
          0.7393827811394357,
          0.3470737898934057,
          -0.21339715374304669,
          -0.29843604210654695,
          -0.26984569594619834,
          -0.7380914719749732,
          0.085445841445681,
          -0.03377606407086046,
          -0.20658488335554978,
          -0.2320627365179663,
          0.6895012608888704,
          -1.9625798027603658,
          -1.3809616631815926,
          1.270026636907869,
          -1.1676750826700475,
          0.6835442102993022,
          -0.10819067203435048,
          -0.38848646939043074,
          -1.3146096093947917,
          1.2343026179645644,
          -1.1578924940873192,
          0.9311809476907813,
          -0.9408852209315937,
          0.2777851236373851,
          -0.2792794125675632,
          0.5699172325515569,
          1.1815215185447847,
          -0.4101575978585351,
          -1.3520086334848345,
          -0.2206896804793058,
          -0.635846746095747,
          -2.2801475925723,
          -0.13273463837665134,
          -1.4357460149388654,
          -2.0947528958618142,
          -1.4043908765273556,
          1.235437712356553,
          -0.2961297710843259,
          0.712446862050636,
          -0.5733163055127384,
          0.8724480526635303,
          0.34296687693318517,
          -1.8772458375662273,
          0.04838875314046682,
          1.1439410329456652,
          -1.4074872363653521,
          -0.41353126423716985,
          -1.2891804111532066,
          -0.8016211831893039,
          -1.1778852829324677,
          0.8601306959837082,
          -0.7846632368352668,
          0.8951888056616729,
          -0.1209386568012941,
          0.3507332670458818,
          0.40839273692365535,
          1.3923988082070355,
          0.5898704076273781,
          1.4937796385060818,
          0.9554951083022206,
          -0.12453902532811652,
          -1.280101497255287,
          -0.8670228686188641,
          -0.6542483247746392,
          -0.27107332066291734,
          1.7482116014051732,
          1.6179167104189263,
          -0.627179728211577,
          0.7520281731249727,
          -0.5689711239929849
         ]
        },
        {
         "line": {
          "color": "rgba(50, 171, 96, 1.0)",
          "dash": "solid",
          "shape": "linear",
          "width": 1.3
         },
         "mode": "lines",
         "name": "C",
         "text": "",
         "type": "scatter",
         "x": [
          0,
          1,
          2,
          3,
          4,
          5,
          6,
          7,
          8,
          9,
          10,
          11,
          12,
          13,
          14,
          15,
          16,
          17,
          18,
          19,
          20,
          21,
          22,
          23,
          24,
          25,
          26,
          27,
          28,
          29,
          30,
          31,
          32,
          33,
          34,
          35,
          36,
          37,
          38,
          39,
          40,
          41,
          42,
          43,
          44,
          45,
          46,
          47,
          48,
          49,
          50,
          51,
          52,
          53,
          54,
          55,
          56,
          57,
          58,
          59,
          60,
          61,
          62,
          63,
          64,
          65,
          66,
          67,
          68,
          69,
          70,
          71,
          72,
          73,
          74,
          75,
          76,
          77,
          78,
          79,
          80,
          81,
          82,
          83,
          84,
          85,
          86,
          87,
          88,
          89,
          90,
          91,
          92,
          93,
          94,
          95,
          96,
          97,
          98,
          99
         ],
         "y": [
          -2.3704016563776555,
          0.710914398419287,
          0.6309631659503724,
          -2.8442861967365327,
          -0.0037811628578325435,
          -0.6382947031932034,
          -0.5832920116811756,
          1.1026000251690178,
          -0.4489180991658564,
          1.05520211811089,
          1.1082161681792269,
          0.046435857114627235,
          -0.2510267408961941,
          -0.4371164022967774,
          -0.5726351450065652,
          -0.4558868992851681,
          0.8045657127614613,
          -0.6143361630344545,
          -1.6160987259954223,
          1.3057845255800853,
          -0.7461470247736539,
          0.1750160823313732,
          -1.1067051377260886,
          -0.5204797459819671,
          -1.4376613633318407,
          -0.46334884147883815,
          0.9571971280775794,
          0.10750091380559694,
          0.2999155740381957,
          0.2185691512067851,
          -0.2579678098624532,
          1.3217142621895663,
          0.4953794816082393,
          -0.024538641741287965,
          -0.07153303580223697,
          -0.1793581282707107,
          -0.06729147187170058,
          -2.557307701474324,
          -0.1060324200332444,
          0.31169871316192516,
          1.3348243165181144,
          -1.9852327530302238,
          -0.5047144315416485,
          2.0115813901704973,
          0.7134892560485943,
          0.5484249921365187,
          0.11248846492915397,
          0.08333088334699466,
          -1.3682499335799407,
          -0.6974724359103268,
          0.37716037785946616,
          0.17044734212634838,
          0.12590105794568657,
          0.7343765332029945,
          -1.4006553322902726,
          1.0398357714966402,
          1.1634583514551176,
          1.58060380206921,
          -1.2613190243691939,
          1.2877452491185823,
          1.2460599997934427,
          0.3613975529675301,
          0.21462586530124092,
          -0.6090968319472858,
          0.23882620428736073,
          0.00036416526394703947,
          -1.2276092246013988,
          -0.8340878876745745,
          -0.08872398862382311,
          -0.061588045991439896,
          0.07524987023586598,
          1.153665247704061,
          -0.10204239551389348,
          1.3361090973740046,
          -0.5740083415431523,
          -0.8577488708805439,
          -0.4261175399792977,
          0.9653094704371724,
          -0.8173212555447603,
          1.0639239966446306,
          1.4278115423329014,
          0.7042444273074215,
          0.22693524735557136,
          -0.7652187063502671,
          -0.2502387171320374,
          0.5676968944730754,
          0.5943365371060254,
          0.6837008990404221,
          0.45789611494130283,
          -0.35489134846406123,
          -0.4914581973149613,
          -0.4131351259857275,
          -1.023404819406341,
          0.1370090793966986,
          0.961244139221754,
          0.007385617385094512,
          1.0517038093011737,
          -1.3085422591568026,
          -0.11633946117127415,
          -1.8454019863290603
         ]
        },
        {
         "line": {
          "color": "rgba(128, 0, 128, 1.0)",
          "dash": "solid",
          "shape": "linear",
          "width": 1.3
         },
         "mode": "lines",
         "name": "D",
         "text": "",
         "type": "scatter",
         "x": [
          0,
          1,
          2,
          3,
          4,
          5,
          6,
          7,
          8,
          9,
          10,
          11,
          12,
          13,
          14,
          15,
          16,
          17,
          18,
          19,
          20,
          21,
          22,
          23,
          24,
          25,
          26,
          27,
          28,
          29,
          30,
          31,
          32,
          33,
          34,
          35,
          36,
          37,
          38,
          39,
          40,
          41,
          42,
          43,
          44,
          45,
          46,
          47,
          48,
          49,
          50,
          51,
          52,
          53,
          54,
          55,
          56,
          57,
          58,
          59,
          60,
          61,
          62,
          63,
          64,
          65,
          66,
          67,
          68,
          69,
          70,
          71,
          72,
          73,
          74,
          75,
          76,
          77,
          78,
          79,
          80,
          81,
          82,
          83,
          84,
          85,
          86,
          87,
          88,
          89,
          90,
          91,
          92,
          93,
          94,
          95,
          96,
          97,
          98,
          99
         ],
         "y": [
          0.5537390638675553,
          1.7275733675276843,
          1.216431303443142,
          -0.35761928337126386,
          -0.2766384153037906,
          0.9175563269542514,
          0.7913703760222024,
          0.6220956147817989,
          -0.9831544551054343,
          1.0285919896520503,
          -0.31358613968988003,
          -0.775285515456309,
          0.9121360708078701,
          -1.3392510286273374,
          -0.2247116800768073,
          0.9541268394764304,
          -1.2930827345554905,
          -0.1794147558476305,
          -0.204389594528781,
          -0.5649726476650159,
          -0.22933740132582756,
          -0.12357211924056424,
          0.4077407006940749,
          2.043079024269626,
          -1.8966506055913155,
          0.37506058424840283,
          -0.3557237502946604,
          -1.1658294796761153,
          -0.3314174317554599,
          0.5145784433956135,
          -0.17837855724679227,
          0.5819743037137235,
          -0.2170352844294026,
          -1.5008635117509095,
          0.4430612675009117,
          -0.5607325848055742,
          -0.8927402578611204,
          -1.00706359189859,
          0.7062444360618905,
          0.37532512452690064,
          -0.60918430290378,
          -0.3994943366348986,
          0.17679870439558548,
          -1.174429900552088,
          -1.3649070274623116,
          0.8110181135624027,
          1.2204650689075098,
          -0.04066020848211326,
          -0.798661941308709,
          -0.9230544760455293,
          2.48660459433927,
          -0.06274331502043014,
          -1.1079901104727323,
          0.149286669555233,
          -0.41689930404468056,
          -1.2000400022790192,
          -0.5385790202389502,
          -0.9264732450946596,
          0.34937348613737107,
          -0.38320883769824815,
          1.3675813627800308,
          0.3696598404405374,
          0.31873612059708706,
          0.8654078552911361,
          -1.5376213372959873,
          -0.1947903323528216,
          -1.1909326220751137,
          0.10457430890020339,
          0.6050940987273143,
          -0.5132853593327287,
          -0.7755845604958479,
          1.7023984579456823,
          0.38754335554690883,
          -0.9282832799462417,
          -0.5055032937398403,
          -0.05673078953268362,
          0.7475335009747427,
          -0.06210187278705163,
          1.5377080899458013,
          -0.6697979120234541,
          0.29250646337732666,
          -0.157303460931491,
          1.2745952342564728,
          -2.0248042313737624,
          -0.09095499158177012,
          0.330332051144852,
          -1.421859288088006,
          0.8450082617292108,
          -0.5335434113230583,
          -0.2855092868899809,
          -0.0021180714025973127,
          -0.3188647510560923,
          0.7484749193984869,
          1.2867921778713245,
          0.13640248363414795,
          0.6299953592964012,
          0.33263293241450487,
          0.1985242742168156,
          0.5004590278283447,
          -0.33700623860984585
         ]
        }
       ],
       "layout": {
        "legend": {
         "bgcolor": "#F5F6F9",
         "font": {
          "color": "#4D5663"
         }
        },
        "paper_bgcolor": "#F5F6F9",
        "plot_bgcolor": "#F5F6F9",
        "template": {
         "data": {
          "bar": [
           {
            "error_x": {
             "color": "#2a3f5f"
            },
            "error_y": {
             "color": "#2a3f5f"
            },
            "marker": {
             "line": {
              "color": "#E5ECF6",
              "width": 0.5
             }
            },
            "type": "bar"
           }
          ],
          "barpolar": [
           {
            "marker": {
             "line": {
              "color": "#E5ECF6",
              "width": 0.5
             }
            },
            "type": "barpolar"
           }
          ],
          "carpet": [
           {
            "aaxis": {
             "endlinecolor": "#2a3f5f",
             "gridcolor": "white",
             "linecolor": "white",
             "minorgridcolor": "white",
             "startlinecolor": "#2a3f5f"
            },
            "baxis": {
             "endlinecolor": "#2a3f5f",
             "gridcolor": "white",
             "linecolor": "white",
             "minorgridcolor": "white",
             "startlinecolor": "#2a3f5f"
            },
            "type": "carpet"
           }
          ],
          "choropleth": [
           {
            "colorbar": {
             "outlinewidth": 0,
             "ticks": ""
            },
            "type": "choropleth"
           }
          ],
          "contour": [
           {
            "colorbar": {
             "outlinewidth": 0,
             "ticks": ""
            },
            "colorscale": [
             [
              0,
              "#0d0887"
             ],
             [
              0.1111111111111111,
              "#46039f"
             ],
             [
              0.2222222222222222,
              "#7201a8"
             ],
             [
              0.3333333333333333,
              "#9c179e"
             ],
             [
              0.4444444444444444,
              "#bd3786"
             ],
             [
              0.5555555555555556,
              "#d8576b"
             ],
             [
              0.6666666666666666,
              "#ed7953"
             ],
             [
              0.7777777777777778,
              "#fb9f3a"
             ],
             [
              0.8888888888888888,
              "#fdca26"
             ],
             [
              1,
              "#f0f921"
             ]
            ],
            "type": "contour"
           }
          ],
          "contourcarpet": [
           {
            "colorbar": {
             "outlinewidth": 0,
             "ticks": ""
            },
            "type": "contourcarpet"
           }
          ],
          "heatmap": [
           {
            "colorbar": {
             "outlinewidth": 0,
             "ticks": ""
            },
            "colorscale": [
             [
              0,
              "#0d0887"
             ],
             [
              0.1111111111111111,
              "#46039f"
             ],
             [
              0.2222222222222222,
              "#7201a8"
             ],
             [
              0.3333333333333333,
              "#9c179e"
             ],
             [
              0.4444444444444444,
              "#bd3786"
             ],
             [
              0.5555555555555556,
              "#d8576b"
             ],
             [
              0.6666666666666666,
              "#ed7953"
             ],
             [
              0.7777777777777778,
              "#fb9f3a"
             ],
             [
              0.8888888888888888,
              "#fdca26"
             ],
             [
              1,
              "#f0f921"
             ]
            ],
            "type": "heatmap"
           }
          ],
          "heatmapgl": [
           {
            "colorbar": {
             "outlinewidth": 0,
             "ticks": ""
            },
            "colorscale": [
             [
              0,
              "#0d0887"
             ],
             [
              0.1111111111111111,
              "#46039f"
             ],
             [
              0.2222222222222222,
              "#7201a8"
             ],
             [
              0.3333333333333333,
              "#9c179e"
             ],
             [
              0.4444444444444444,
              "#bd3786"
             ],
             [
              0.5555555555555556,
              "#d8576b"
             ],
             [
              0.6666666666666666,
              "#ed7953"
             ],
             [
              0.7777777777777778,
              "#fb9f3a"
             ],
             [
              0.8888888888888888,
              "#fdca26"
             ],
             [
              1,
              "#f0f921"
             ]
            ],
            "type": "heatmapgl"
           }
          ],
          "histogram": [
           {
            "marker": {
             "colorbar": {
              "outlinewidth": 0,
              "ticks": ""
             }
            },
            "type": "histogram"
           }
          ],
          "histogram2d": [
           {
            "colorbar": {
             "outlinewidth": 0,
             "ticks": ""
            },
            "colorscale": [
             [
              0,
              "#0d0887"
             ],
             [
              0.1111111111111111,
              "#46039f"
             ],
             [
              0.2222222222222222,
              "#7201a8"
             ],
             [
              0.3333333333333333,
              "#9c179e"
             ],
             [
              0.4444444444444444,
              "#bd3786"
             ],
             [
              0.5555555555555556,
              "#d8576b"
             ],
             [
              0.6666666666666666,
              "#ed7953"
             ],
             [
              0.7777777777777778,
              "#fb9f3a"
             ],
             [
              0.8888888888888888,
              "#fdca26"
             ],
             [
              1,
              "#f0f921"
             ]
            ],
            "type": "histogram2d"
           }
          ],
          "histogram2dcontour": [
           {
            "colorbar": {
             "outlinewidth": 0,
             "ticks": ""
            },
            "colorscale": [
             [
              0,
              "#0d0887"
             ],
             [
              0.1111111111111111,
              "#46039f"
             ],
             [
              0.2222222222222222,
              "#7201a8"
             ],
             [
              0.3333333333333333,
              "#9c179e"
             ],
             [
              0.4444444444444444,
              "#bd3786"
             ],
             [
              0.5555555555555556,
              "#d8576b"
             ],
             [
              0.6666666666666666,
              "#ed7953"
             ],
             [
              0.7777777777777778,
              "#fb9f3a"
             ],
             [
              0.8888888888888888,
              "#fdca26"
             ],
             [
              1,
              "#f0f921"
             ]
            ],
            "type": "histogram2dcontour"
           }
          ],
          "mesh3d": [
           {
            "colorbar": {
             "outlinewidth": 0,
             "ticks": ""
            },
            "type": "mesh3d"
           }
          ],
          "parcoords": [
           {
            "line": {
             "colorbar": {
              "outlinewidth": 0,
              "ticks": ""
             }
            },
            "type": "parcoords"
           }
          ],
          "pie": [
           {
            "automargin": true,
            "type": "pie"
           }
          ],
          "scatter": [
           {
            "marker": {
             "colorbar": {
              "outlinewidth": 0,
              "ticks": ""
             }
            },
            "type": "scatter"
           }
          ],
          "scatter3d": [
           {
            "line": {
             "colorbar": {
              "outlinewidth": 0,
              "ticks": ""
             }
            },
            "marker": {
             "colorbar": {
              "outlinewidth": 0,
              "ticks": ""
             }
            },
            "type": "scatter3d"
           }
          ],
          "scattercarpet": [
           {
            "marker": {
             "colorbar": {
              "outlinewidth": 0,
              "ticks": ""
             }
            },
            "type": "scattercarpet"
           }
          ],
          "scattergeo": [
           {
            "marker": {
             "colorbar": {
              "outlinewidth": 0,
              "ticks": ""
             }
            },
            "type": "scattergeo"
           }
          ],
          "scattergl": [
           {
            "marker": {
             "colorbar": {
              "outlinewidth": 0,
              "ticks": ""
             }
            },
            "type": "scattergl"
           }
          ],
          "scattermapbox": [
           {
            "marker": {
             "colorbar": {
              "outlinewidth": 0,
              "ticks": ""
             }
            },
            "type": "scattermapbox"
           }
          ],
          "scatterpolar": [
           {
            "marker": {
             "colorbar": {
              "outlinewidth": 0,
              "ticks": ""
             }
            },
            "type": "scatterpolar"
           }
          ],
          "scatterpolargl": [
           {
            "marker": {
             "colorbar": {
              "outlinewidth": 0,
              "ticks": ""
             }
            },
            "type": "scatterpolargl"
           }
          ],
          "scatterternary": [
           {
            "marker": {
             "colorbar": {
              "outlinewidth": 0,
              "ticks": ""
             }
            },
            "type": "scatterternary"
           }
          ],
          "surface": [
           {
            "colorbar": {
             "outlinewidth": 0,
             "ticks": ""
            },
            "colorscale": [
             [
              0,
              "#0d0887"
             ],
             [
              0.1111111111111111,
              "#46039f"
             ],
             [
              0.2222222222222222,
              "#7201a8"
             ],
             [
              0.3333333333333333,
              "#9c179e"
             ],
             [
              0.4444444444444444,
              "#bd3786"
             ],
             [
              0.5555555555555556,
              "#d8576b"
             ],
             [
              0.6666666666666666,
              "#ed7953"
             ],
             [
              0.7777777777777778,
              "#fb9f3a"
             ],
             [
              0.8888888888888888,
              "#fdca26"
             ],
             [
              1,
              "#f0f921"
             ]
            ],
            "type": "surface"
           }
          ],
          "table": [
           {
            "cells": {
             "fill": {
              "color": "#EBF0F8"
             },
             "line": {
              "color": "white"
             }
            },
            "header": {
             "fill": {
              "color": "#C8D4E3"
             },
             "line": {
              "color": "white"
             }
            },
            "type": "table"
           }
          ]
         },
         "layout": {
          "annotationdefaults": {
           "arrowcolor": "#2a3f5f",
           "arrowhead": 0,
           "arrowwidth": 1
          },
          "coloraxis": {
           "colorbar": {
            "outlinewidth": 0,
            "ticks": ""
           }
          },
          "colorscale": {
           "diverging": [
            [
             0,
             "#8e0152"
            ],
            [
             0.1,
             "#c51b7d"
            ],
            [
             0.2,
             "#de77ae"
            ],
            [
             0.3,
             "#f1b6da"
            ],
            [
             0.4,
             "#fde0ef"
            ],
            [
             0.5,
             "#f7f7f7"
            ],
            [
             0.6,
             "#e6f5d0"
            ],
            [
             0.7,
             "#b8e186"
            ],
            [
             0.8,
             "#7fbc41"
            ],
            [
             0.9,
             "#4d9221"
            ],
            [
             1,
             "#276419"
            ]
           ],
           "sequential": [
            [
             0,
             "#0d0887"
            ],
            [
             0.1111111111111111,
             "#46039f"
            ],
            [
             0.2222222222222222,
             "#7201a8"
            ],
            [
             0.3333333333333333,
             "#9c179e"
            ],
            [
             0.4444444444444444,
             "#bd3786"
            ],
            [
             0.5555555555555556,
             "#d8576b"
            ],
            [
             0.6666666666666666,
             "#ed7953"
            ],
            [
             0.7777777777777778,
             "#fb9f3a"
            ],
            [
             0.8888888888888888,
             "#fdca26"
            ],
            [
             1,
             "#f0f921"
            ]
           ],
           "sequentialminus": [
            [
             0,
             "#0d0887"
            ],
            [
             0.1111111111111111,
             "#46039f"
            ],
            [
             0.2222222222222222,
             "#7201a8"
            ],
            [
             0.3333333333333333,
             "#9c179e"
            ],
            [
             0.4444444444444444,
             "#bd3786"
            ],
            [
             0.5555555555555556,
             "#d8576b"
            ],
            [
             0.6666666666666666,
             "#ed7953"
            ],
            [
             0.7777777777777778,
             "#fb9f3a"
            ],
            [
             0.8888888888888888,
             "#fdca26"
            ],
            [
             1,
             "#f0f921"
            ]
           ]
          },
          "colorway": [
           "#636efa",
           "#EF553B",
           "#00cc96",
           "#ab63fa",
           "#FFA15A",
           "#19d3f3",
           "#FF6692",
           "#B6E880",
           "#FF97FF",
           "#FECB52"
          ],
          "font": {
           "color": "#2a3f5f"
          },
          "geo": {
           "bgcolor": "white",
           "lakecolor": "white",
           "landcolor": "#E5ECF6",
           "showlakes": true,
           "showland": true,
           "subunitcolor": "white"
          },
          "hoverlabel": {
           "align": "left"
          },
          "hovermode": "closest",
          "mapbox": {
           "style": "light"
          },
          "paper_bgcolor": "white",
          "plot_bgcolor": "#E5ECF6",
          "polar": {
           "angularaxis": {
            "gridcolor": "white",
            "linecolor": "white",
            "ticks": ""
           },
           "bgcolor": "#E5ECF6",
           "radialaxis": {
            "gridcolor": "white",
            "linecolor": "white",
            "ticks": ""
           }
          },
          "scene": {
           "xaxis": {
            "backgroundcolor": "#E5ECF6",
            "gridcolor": "white",
            "gridwidth": 2,
            "linecolor": "white",
            "showbackground": true,
            "ticks": "",
            "zerolinecolor": "white"
           },
           "yaxis": {
            "backgroundcolor": "#E5ECF6",
            "gridcolor": "white",
            "gridwidth": 2,
            "linecolor": "white",
            "showbackground": true,
            "ticks": "",
            "zerolinecolor": "white"
           },
           "zaxis": {
            "backgroundcolor": "#E5ECF6",
            "gridcolor": "white",
            "gridwidth": 2,
            "linecolor": "white",
            "showbackground": true,
            "ticks": "",
            "zerolinecolor": "white"
           }
          },
          "shapedefaults": {
           "line": {
            "color": "#2a3f5f"
           }
          },
          "ternary": {
           "aaxis": {
            "gridcolor": "white",
            "linecolor": "white",
            "ticks": ""
           },
           "baxis": {
            "gridcolor": "white",
            "linecolor": "white",
            "ticks": ""
           },
           "bgcolor": "#E5ECF6",
           "caxis": {
            "gridcolor": "white",
            "linecolor": "white",
            "ticks": ""
           }
          },
          "title": {
           "x": 0.05
          },
          "xaxis": {
           "automargin": true,
           "gridcolor": "white",
           "linecolor": "white",
           "ticks": "",
           "title": {
            "standoff": 15
           },
           "zerolinecolor": "white",
           "zerolinewidth": 2
          },
          "yaxis": {
           "automargin": true,
           "gridcolor": "white",
           "linecolor": "white",
           "ticks": "",
           "title": {
            "standoff": 15
           },
           "zerolinecolor": "white",
           "zerolinewidth": 2
          }
         }
        },
        "title": {
         "font": {
          "color": "#4D5663"
         }
        },
        "xaxis": {
         "gridcolor": "#E1E5ED",
         "showgrid": true,
         "tickfont": {
          "color": "#4D5663"
         },
         "title": {
          "font": {
           "color": "#4D5663"
          },
          "text": ""
         },
         "zerolinecolor": "#E1E5ED"
        },
        "yaxis": {
         "gridcolor": "#E1E5ED",
         "showgrid": true,
         "tickfont": {
          "color": "#4D5663"
         },
         "title": {
          "font": {
           "color": "#4D5663"
          },
          "text": ""
         },
         "zerolinecolor": "#E1E5ED"
        }
       }
      },
      "text/html": [
       "<div>\n",
       "        \n",
       "        \n",
       "            <div id=\"4bbb0648-074d-4c7e-abb2-82b931612da2\" class=\"plotly-graph-div\" style=\"height:525px; width:100%;\"></div>\n",
       "            <script type=\"text/javascript\">\n",
       "                require([\"plotly\"], function(Plotly) {\n",
       "                    window.PLOTLYENV=window.PLOTLYENV || {};\n",
       "                    window.PLOTLYENV.BASE_URL='https://plot.ly';\n",
       "                    \n",
       "                if (document.getElementById(\"4bbb0648-074d-4c7e-abb2-82b931612da2\")) {\n",
       "                    Plotly.newPlot(\n",
       "                        '4bbb0648-074d-4c7e-abb2-82b931612da2',\n",
       "                        [{\"line\": {\"color\": \"rgba(255, 153, 51, 1.0)\", \"dash\": \"solid\", \"shape\": \"linear\", \"width\": 1.3}, \"mode\": \"lines\", \"name\": \"A\", \"text\": \"\", \"type\": \"scatter\", \"x\": [0, 1, 2, 3, 4, 5, 6, 7, 8, 9, 10, 11, 12, 13, 14, 15, 16, 17, 18, 19, 20, 21, 22, 23, 24, 25, 26, 27, 28, 29, 30, 31, 32, 33, 34, 35, 36, 37, 38, 39, 40, 41, 42, 43, 44, 45, 46, 47, 48, 49, 50, 51, 52, 53, 54, 55, 56, 57, 58, 59, 60, 61, 62, 63, 64, 65, 66, 67, 68, 69, 70, 71, 72, 73, 74, 75, 76, 77, 78, 79, 80, 81, 82, 83, 84, 85, 86, 87, 88, 89, 90, 91, 92, 93, 94, 95, 96, 97, 98, 99], \"y\": [-0.3528362464153668, -0.284490578588392, 2.203326375137168, 1.1914906229339413, -0.5643907599811814, 2.7798718153014357, 1.1392230478947218, -0.3969084492198873, -0.8431354506721372, -1.2113706937321673, -1.1232328854452367, 0.4518665654795515, 0.15108658835894914, -1.7197708096350655, -0.07078563077906978, -0.980891266191066, -2.0065915820068994, 0.04405074044947059, -0.1816391125056839, 0.7598049797859753, -1.096012407090366, -1.4973956161707278, -2.2293808754538005, -0.15494190096890462, -0.8404676595449304, -1.5864444840611043, -1.271828143859151, 0.233536485699503, 0.32955043668175693, 1.1595295612279588, -0.5278554404367857, -0.16303045205008881, -1.7674739515583324, 0.33892658874933296, 0.19685617323938542, 0.33023853338745474, 0.03730643652616613, 0.32496894629056994, 0.23244779523287074, -0.01842197648227652, -1.1672830340101563, -0.40440266128609065, 2.07759282848088, 0.14020699314040225, 0.11670666187449041, -1.3759216802724983, 2.3270704249878746, 0.3972406311737788, 0.17442023752997537, -0.2800525759529055, 0.4506210148099999, 2.6202326404140677, 1.0653150560571336, 1.7095140209602646, 0.7990198343521421, -0.8281912607199876, -0.806280334150687, 1.6979095908090678, -0.8672712204039527, 1.1005741543620384, -0.6546095261109552, 0.9048167986183359, -0.7100506115690377, 0.648084430407177, 0.9447881732500704, -0.4713552039565896, 0.21402616654041448, -0.935151045365892, 1.2150495379117552, -0.43140919672950967, -1.1891048756132958, 0.9847206464209383, 0.40945681494002684, -0.8066269723088334, -0.6687296314674605, -1.0238807147882825, -0.2700469623402802, 0.5690651238713944, 0.6865219970682781, 0.6483901625701793, 1.2905559982270822, 0.8178639588042602, 1.1575135611917569, -2.0984711888019745, -1.7762476161655396, -0.6748575307003194, -0.21849196898810175, -0.5753702112145309, -0.3920858562314582, 0.6970390930379042, -1.4429250467452353, -0.3166115618643759, -0.3519621812877541, -0.4525464016079805, 0.5423829440734289, -0.36691990004214553, -0.7611303390249726, 2.0511135768496143, -0.9598352743683791, -0.37398827024180453]}, {\"line\": {\"color\": \"rgba(55, 128, 191, 1.0)\", \"dash\": \"solid\", \"shape\": \"linear\", \"width\": 1.3}, \"mode\": \"lines\", \"name\": \"B\", \"text\": \"\", \"type\": \"scatter\", \"x\": [0, 1, 2, 3, 4, 5, 6, 7, 8, 9, 10, 11, 12, 13, 14, 15, 16, 17, 18, 19, 20, 21, 22, 23, 24, 25, 26, 27, 28, 29, 30, 31, 32, 33, 34, 35, 36, 37, 38, 39, 40, 41, 42, 43, 44, 45, 46, 47, 48, 49, 50, 51, 52, 53, 54, 55, 56, 57, 58, 59, 60, 61, 62, 63, 64, 65, 66, 67, 68, 69, 70, 71, 72, 73, 74, 75, 76, 77, 78, 79, 80, 81, 82, 83, 84, 85, 86, 87, 88, 89, 90, 91, 92, 93, 94, 95, 96, 97, 98, 99], \"y\": [-1.5145455118176767, -0.01367326820150052, -0.7829236033971367, 2.1758105864782173, 0.014005493606606743, -0.408817628815818, -1.9692976906687827, 0.7934251922172569, -0.10928246963521912, -1.8675911342151044, -0.291350381007704, -0.2861757143497499, 0.45182196198038505, -1.3540852014076956, 0.11849633147728272, -1.4831515290012542, -0.15594664619415652, 0.8218005891800004, -1.3196893908390053, 0.9516245220412897, 1.0245182381659395, -0.9086606060000463, 0.3667342867629603, 2.1748246081996387, -1.4412403414461203, 1.3547356288206962, 0.07448038483912717, -2.0463557158127803, -0.2466438968154346, 0.7427704569505088, 0.7393827811394357, 0.3470737898934057, -0.21339715374304669, -0.29843604210654695, -0.26984569594619834, -0.7380914719749732, 0.085445841445681, -0.03377606407086046, -0.20658488335554978, -0.2320627365179663, 0.6895012608888704, -1.9625798027603658, -1.3809616631815926, 1.270026636907869, -1.1676750826700475, 0.6835442102993022, -0.10819067203435048, -0.38848646939043074, -1.3146096093947917, 1.2343026179645644, -1.1578924940873192, 0.9311809476907813, -0.9408852209315937, 0.2777851236373851, -0.2792794125675632, 0.5699172325515569, 1.1815215185447847, -0.4101575978585351, -1.3520086334848345, -0.2206896804793058, -0.635846746095747, -2.2801475925723, -0.13273463837665134, -1.4357460149388654, -2.0947528958618142, -1.4043908765273556, 1.235437712356553, -0.2961297710843259, 0.712446862050636, -0.5733163055127384, 0.8724480526635303, 0.34296687693318517, -1.8772458375662273, 0.04838875314046682, 1.1439410329456652, -1.4074872363653521, -0.41353126423716985, -1.2891804111532066, -0.8016211831893039, -1.1778852829324677, 0.8601306959837082, -0.7846632368352668, 0.8951888056616729, -0.1209386568012941, 0.3507332670458818, 0.40839273692365535, 1.3923988082070355, 0.5898704076273781, 1.4937796385060818, 0.9554951083022206, -0.12453902532811652, -1.280101497255287, -0.8670228686188641, -0.6542483247746392, -0.27107332066291734, 1.7482116014051732, 1.6179167104189263, -0.627179728211577, 0.7520281731249727, -0.5689711239929849]}, {\"line\": {\"color\": \"rgba(50, 171, 96, 1.0)\", \"dash\": \"solid\", \"shape\": \"linear\", \"width\": 1.3}, \"mode\": \"lines\", \"name\": \"C\", \"text\": \"\", \"type\": \"scatter\", \"x\": [0, 1, 2, 3, 4, 5, 6, 7, 8, 9, 10, 11, 12, 13, 14, 15, 16, 17, 18, 19, 20, 21, 22, 23, 24, 25, 26, 27, 28, 29, 30, 31, 32, 33, 34, 35, 36, 37, 38, 39, 40, 41, 42, 43, 44, 45, 46, 47, 48, 49, 50, 51, 52, 53, 54, 55, 56, 57, 58, 59, 60, 61, 62, 63, 64, 65, 66, 67, 68, 69, 70, 71, 72, 73, 74, 75, 76, 77, 78, 79, 80, 81, 82, 83, 84, 85, 86, 87, 88, 89, 90, 91, 92, 93, 94, 95, 96, 97, 98, 99], \"y\": [-2.3704016563776555, 0.710914398419287, 0.6309631659503724, -2.8442861967365327, -0.0037811628578325435, -0.6382947031932034, -0.5832920116811756, 1.1026000251690178, -0.4489180991658564, 1.05520211811089, 1.1082161681792269, 0.046435857114627235, -0.2510267408961941, -0.4371164022967774, -0.5726351450065652, -0.4558868992851681, 0.8045657127614613, -0.6143361630344545, -1.6160987259954223, 1.3057845255800853, -0.7461470247736539, 0.1750160823313732, -1.1067051377260886, -0.5204797459819671, -1.4376613633318407, -0.46334884147883815, 0.9571971280775794, 0.10750091380559694, 0.2999155740381957, 0.2185691512067851, -0.2579678098624532, 1.3217142621895663, 0.4953794816082393, -0.024538641741287965, -0.07153303580223697, -0.1793581282707107, -0.06729147187170058, -2.557307701474324, -0.1060324200332444, 0.31169871316192516, 1.3348243165181144, -1.9852327530302238, -0.5047144315416485, 2.0115813901704973, 0.7134892560485943, 0.5484249921365187, 0.11248846492915397, 0.08333088334699466, -1.3682499335799407, -0.6974724359103268, 0.37716037785946616, 0.17044734212634838, 0.12590105794568657, 0.7343765332029945, -1.4006553322902726, 1.0398357714966402, 1.1634583514551176, 1.58060380206921, -1.2613190243691939, 1.2877452491185823, 1.2460599997934427, 0.3613975529675301, 0.21462586530124092, -0.6090968319472858, 0.23882620428736073, 0.00036416526394703947, -1.2276092246013988, -0.8340878876745745, -0.08872398862382311, -0.061588045991439896, 0.07524987023586598, 1.153665247704061, -0.10204239551389348, 1.3361090973740046, -0.5740083415431523, -0.8577488708805439, -0.4261175399792977, 0.9653094704371724, -0.8173212555447603, 1.0639239966446306, 1.4278115423329014, 0.7042444273074215, 0.22693524735557136, -0.7652187063502671, -0.2502387171320374, 0.5676968944730754, 0.5943365371060254, 0.6837008990404221, 0.45789611494130283, -0.35489134846406123, -0.4914581973149613, -0.4131351259857275, -1.023404819406341, 0.1370090793966986, 0.961244139221754, 0.007385617385094512, 1.0517038093011737, -1.3085422591568026, -0.11633946117127415, -1.8454019863290603]}, {\"line\": {\"color\": \"rgba(128, 0, 128, 1.0)\", \"dash\": \"solid\", \"shape\": \"linear\", \"width\": 1.3}, \"mode\": \"lines\", \"name\": \"D\", \"text\": \"\", \"type\": \"scatter\", \"x\": [0, 1, 2, 3, 4, 5, 6, 7, 8, 9, 10, 11, 12, 13, 14, 15, 16, 17, 18, 19, 20, 21, 22, 23, 24, 25, 26, 27, 28, 29, 30, 31, 32, 33, 34, 35, 36, 37, 38, 39, 40, 41, 42, 43, 44, 45, 46, 47, 48, 49, 50, 51, 52, 53, 54, 55, 56, 57, 58, 59, 60, 61, 62, 63, 64, 65, 66, 67, 68, 69, 70, 71, 72, 73, 74, 75, 76, 77, 78, 79, 80, 81, 82, 83, 84, 85, 86, 87, 88, 89, 90, 91, 92, 93, 94, 95, 96, 97, 98, 99], \"y\": [0.5537390638675553, 1.7275733675276843, 1.216431303443142, -0.35761928337126386, -0.2766384153037906, 0.9175563269542514, 0.7913703760222024, 0.6220956147817989, -0.9831544551054343, 1.0285919896520503, -0.31358613968988003, -0.775285515456309, 0.9121360708078701, -1.3392510286273374, -0.2247116800768073, 0.9541268394764304, -1.2930827345554905, -0.1794147558476305, -0.204389594528781, -0.5649726476650159, -0.22933740132582756, -0.12357211924056424, 0.4077407006940749, 2.043079024269626, -1.8966506055913155, 0.37506058424840283, -0.3557237502946604, -1.1658294796761153, -0.3314174317554599, 0.5145784433956135, -0.17837855724679227, 0.5819743037137235, -0.2170352844294026, -1.5008635117509095, 0.4430612675009117, -0.5607325848055742, -0.8927402578611204, -1.00706359189859, 0.7062444360618905, 0.37532512452690064, -0.60918430290378, -0.3994943366348986, 0.17679870439558548, -1.174429900552088, -1.3649070274623116, 0.8110181135624027, 1.2204650689075098, -0.04066020848211326, -0.798661941308709, -0.9230544760455293, 2.48660459433927, -0.06274331502043014, -1.1079901104727323, 0.149286669555233, -0.41689930404468056, -1.2000400022790192, -0.5385790202389502, -0.9264732450946596, 0.34937348613737107, -0.38320883769824815, 1.3675813627800308, 0.3696598404405374, 0.31873612059708706, 0.8654078552911361, -1.5376213372959873, -0.1947903323528216, -1.1909326220751137, 0.10457430890020339, 0.6050940987273143, -0.5132853593327287, -0.7755845604958479, 1.7023984579456823, 0.38754335554690883, -0.9282832799462417, -0.5055032937398403, -0.05673078953268362, 0.7475335009747427, -0.06210187278705163, 1.5377080899458013, -0.6697979120234541, 0.29250646337732666, -0.157303460931491, 1.2745952342564728, -2.0248042313737624, -0.09095499158177012, 0.330332051144852, -1.421859288088006, 0.8450082617292108, -0.5335434113230583, -0.2855092868899809, -0.0021180714025973127, -0.3188647510560923, 0.7484749193984869, 1.2867921778713245, 0.13640248363414795, 0.6299953592964012, 0.33263293241450487, 0.1985242742168156, 0.5004590278283447, -0.33700623860984585]}],\n",
       "                        {\"legend\": {\"bgcolor\": \"#F5F6F9\", \"font\": {\"color\": \"#4D5663\"}}, \"paper_bgcolor\": \"#F5F6F9\", \"plot_bgcolor\": \"#F5F6F9\", \"template\": {\"data\": {\"bar\": [{\"error_x\": {\"color\": \"#2a3f5f\"}, \"error_y\": {\"color\": \"#2a3f5f\"}, \"marker\": {\"line\": {\"color\": \"#E5ECF6\", \"width\": 0.5}}, \"type\": \"bar\"}], \"barpolar\": [{\"marker\": {\"line\": {\"color\": \"#E5ECF6\", \"width\": 0.5}}, \"type\": \"barpolar\"}], \"carpet\": [{\"aaxis\": {\"endlinecolor\": \"#2a3f5f\", \"gridcolor\": \"white\", \"linecolor\": \"white\", \"minorgridcolor\": \"white\", \"startlinecolor\": \"#2a3f5f\"}, \"baxis\": {\"endlinecolor\": \"#2a3f5f\", \"gridcolor\": \"white\", \"linecolor\": \"white\", \"minorgridcolor\": \"white\", \"startlinecolor\": \"#2a3f5f\"}, \"type\": \"carpet\"}], \"choropleth\": [{\"colorbar\": {\"outlinewidth\": 0, \"ticks\": \"\"}, \"type\": \"choropleth\"}], \"contour\": [{\"colorbar\": {\"outlinewidth\": 0, \"ticks\": \"\"}, \"colorscale\": [[0.0, \"#0d0887\"], [0.1111111111111111, \"#46039f\"], [0.2222222222222222, \"#7201a8\"], [0.3333333333333333, \"#9c179e\"], [0.4444444444444444, \"#bd3786\"], [0.5555555555555556, \"#d8576b\"], [0.6666666666666666, \"#ed7953\"], [0.7777777777777778, \"#fb9f3a\"], [0.8888888888888888, \"#fdca26\"], [1.0, \"#f0f921\"]], \"type\": \"contour\"}], \"contourcarpet\": [{\"colorbar\": {\"outlinewidth\": 0, \"ticks\": \"\"}, \"type\": \"contourcarpet\"}], \"heatmap\": [{\"colorbar\": {\"outlinewidth\": 0, \"ticks\": \"\"}, \"colorscale\": [[0.0, \"#0d0887\"], [0.1111111111111111, \"#46039f\"], [0.2222222222222222, \"#7201a8\"], [0.3333333333333333, \"#9c179e\"], [0.4444444444444444, \"#bd3786\"], [0.5555555555555556, \"#d8576b\"], [0.6666666666666666, \"#ed7953\"], [0.7777777777777778, \"#fb9f3a\"], [0.8888888888888888, \"#fdca26\"], [1.0, \"#f0f921\"]], \"type\": \"heatmap\"}], \"heatmapgl\": [{\"colorbar\": {\"outlinewidth\": 0, \"ticks\": \"\"}, \"colorscale\": [[0.0, \"#0d0887\"], [0.1111111111111111, \"#46039f\"], [0.2222222222222222, \"#7201a8\"], [0.3333333333333333, \"#9c179e\"], [0.4444444444444444, \"#bd3786\"], [0.5555555555555556, \"#d8576b\"], [0.6666666666666666, \"#ed7953\"], [0.7777777777777778, \"#fb9f3a\"], [0.8888888888888888, \"#fdca26\"], [1.0, \"#f0f921\"]], \"type\": \"heatmapgl\"}], \"histogram\": [{\"marker\": {\"colorbar\": {\"outlinewidth\": 0, \"ticks\": \"\"}}, \"type\": \"histogram\"}], \"histogram2d\": [{\"colorbar\": {\"outlinewidth\": 0, \"ticks\": \"\"}, \"colorscale\": [[0.0, \"#0d0887\"], [0.1111111111111111, \"#46039f\"], [0.2222222222222222, \"#7201a8\"], [0.3333333333333333, \"#9c179e\"], [0.4444444444444444, \"#bd3786\"], [0.5555555555555556, \"#d8576b\"], [0.6666666666666666, \"#ed7953\"], [0.7777777777777778, \"#fb9f3a\"], [0.8888888888888888, \"#fdca26\"], [1.0, \"#f0f921\"]], \"type\": \"histogram2d\"}], \"histogram2dcontour\": [{\"colorbar\": {\"outlinewidth\": 0, \"ticks\": \"\"}, \"colorscale\": [[0.0, \"#0d0887\"], [0.1111111111111111, \"#46039f\"], [0.2222222222222222, \"#7201a8\"], [0.3333333333333333, \"#9c179e\"], [0.4444444444444444, \"#bd3786\"], [0.5555555555555556, \"#d8576b\"], [0.6666666666666666, \"#ed7953\"], [0.7777777777777778, \"#fb9f3a\"], [0.8888888888888888, \"#fdca26\"], [1.0, \"#f0f921\"]], \"type\": \"histogram2dcontour\"}], \"mesh3d\": [{\"colorbar\": {\"outlinewidth\": 0, \"ticks\": \"\"}, \"type\": \"mesh3d\"}], \"parcoords\": [{\"line\": {\"colorbar\": {\"outlinewidth\": 0, \"ticks\": \"\"}}, \"type\": \"parcoords\"}], \"pie\": [{\"automargin\": true, \"type\": \"pie\"}], \"scatter\": [{\"marker\": {\"colorbar\": {\"outlinewidth\": 0, \"ticks\": \"\"}}, \"type\": \"scatter\"}], \"scatter3d\": [{\"line\": {\"colorbar\": {\"outlinewidth\": 0, \"ticks\": \"\"}}, \"marker\": {\"colorbar\": {\"outlinewidth\": 0, \"ticks\": \"\"}}, \"type\": \"scatter3d\"}], \"scattercarpet\": [{\"marker\": {\"colorbar\": {\"outlinewidth\": 0, \"ticks\": \"\"}}, \"type\": \"scattercarpet\"}], \"scattergeo\": [{\"marker\": {\"colorbar\": {\"outlinewidth\": 0, \"ticks\": \"\"}}, \"type\": \"scattergeo\"}], \"scattergl\": [{\"marker\": {\"colorbar\": {\"outlinewidth\": 0, \"ticks\": \"\"}}, \"type\": \"scattergl\"}], \"scattermapbox\": [{\"marker\": {\"colorbar\": {\"outlinewidth\": 0, \"ticks\": \"\"}}, \"type\": \"scattermapbox\"}], \"scatterpolar\": [{\"marker\": {\"colorbar\": {\"outlinewidth\": 0, \"ticks\": \"\"}}, \"type\": \"scatterpolar\"}], \"scatterpolargl\": [{\"marker\": {\"colorbar\": {\"outlinewidth\": 0, \"ticks\": \"\"}}, \"type\": \"scatterpolargl\"}], \"scatterternary\": [{\"marker\": {\"colorbar\": {\"outlinewidth\": 0, \"ticks\": \"\"}}, \"type\": \"scatterternary\"}], \"surface\": [{\"colorbar\": {\"outlinewidth\": 0, \"ticks\": \"\"}, \"colorscale\": [[0.0, \"#0d0887\"], [0.1111111111111111, \"#46039f\"], [0.2222222222222222, \"#7201a8\"], [0.3333333333333333, \"#9c179e\"], [0.4444444444444444, \"#bd3786\"], [0.5555555555555556, \"#d8576b\"], [0.6666666666666666, \"#ed7953\"], [0.7777777777777778, \"#fb9f3a\"], [0.8888888888888888, \"#fdca26\"], [1.0, \"#f0f921\"]], \"type\": \"surface\"}], \"table\": [{\"cells\": {\"fill\": {\"color\": \"#EBF0F8\"}, \"line\": {\"color\": \"white\"}}, \"header\": {\"fill\": {\"color\": \"#C8D4E3\"}, \"line\": {\"color\": \"white\"}}, \"type\": \"table\"}]}, \"layout\": {\"annotationdefaults\": {\"arrowcolor\": \"#2a3f5f\", \"arrowhead\": 0, \"arrowwidth\": 1}, \"coloraxis\": {\"colorbar\": {\"outlinewidth\": 0, \"ticks\": \"\"}}, \"colorscale\": {\"diverging\": [[0, \"#8e0152\"], [0.1, \"#c51b7d\"], [0.2, \"#de77ae\"], [0.3, \"#f1b6da\"], [0.4, \"#fde0ef\"], [0.5, \"#f7f7f7\"], [0.6, \"#e6f5d0\"], [0.7, \"#b8e186\"], [0.8, \"#7fbc41\"], [0.9, \"#4d9221\"], [1, \"#276419\"]], \"sequential\": [[0.0, \"#0d0887\"], [0.1111111111111111, \"#46039f\"], [0.2222222222222222, \"#7201a8\"], [0.3333333333333333, \"#9c179e\"], [0.4444444444444444, \"#bd3786\"], [0.5555555555555556, \"#d8576b\"], [0.6666666666666666, \"#ed7953\"], [0.7777777777777778, \"#fb9f3a\"], [0.8888888888888888, \"#fdca26\"], [1.0, \"#f0f921\"]], \"sequentialminus\": [[0.0, \"#0d0887\"], [0.1111111111111111, \"#46039f\"], [0.2222222222222222, \"#7201a8\"], [0.3333333333333333, \"#9c179e\"], [0.4444444444444444, \"#bd3786\"], [0.5555555555555556, \"#d8576b\"], [0.6666666666666666, \"#ed7953\"], [0.7777777777777778, \"#fb9f3a\"], [0.8888888888888888, \"#fdca26\"], [1.0, \"#f0f921\"]]}, \"colorway\": [\"#636efa\", \"#EF553B\", \"#00cc96\", \"#ab63fa\", \"#FFA15A\", \"#19d3f3\", \"#FF6692\", \"#B6E880\", \"#FF97FF\", \"#FECB52\"], \"font\": {\"color\": \"#2a3f5f\"}, \"geo\": {\"bgcolor\": \"white\", \"lakecolor\": \"white\", \"landcolor\": \"#E5ECF6\", \"showlakes\": true, \"showland\": true, \"subunitcolor\": \"white\"}, \"hoverlabel\": {\"align\": \"left\"}, \"hovermode\": \"closest\", \"mapbox\": {\"style\": \"light\"}, \"paper_bgcolor\": \"white\", \"plot_bgcolor\": \"#E5ECF6\", \"polar\": {\"angularaxis\": {\"gridcolor\": \"white\", \"linecolor\": \"white\", \"ticks\": \"\"}, \"bgcolor\": \"#E5ECF6\", \"radialaxis\": {\"gridcolor\": \"white\", \"linecolor\": \"white\", \"ticks\": \"\"}}, \"scene\": {\"xaxis\": {\"backgroundcolor\": \"#E5ECF6\", \"gridcolor\": \"white\", \"gridwidth\": 2, \"linecolor\": \"white\", \"showbackground\": true, \"ticks\": \"\", \"zerolinecolor\": \"white\"}, \"yaxis\": {\"backgroundcolor\": \"#E5ECF6\", \"gridcolor\": \"white\", \"gridwidth\": 2, \"linecolor\": \"white\", \"showbackground\": true, \"ticks\": \"\", \"zerolinecolor\": \"white\"}, \"zaxis\": {\"backgroundcolor\": \"#E5ECF6\", \"gridcolor\": \"white\", \"gridwidth\": 2, \"linecolor\": \"white\", \"showbackground\": true, \"ticks\": \"\", \"zerolinecolor\": \"white\"}}, \"shapedefaults\": {\"line\": {\"color\": \"#2a3f5f\"}}, \"ternary\": {\"aaxis\": {\"gridcolor\": \"white\", \"linecolor\": \"white\", \"ticks\": \"\"}, \"baxis\": {\"gridcolor\": \"white\", \"linecolor\": \"white\", \"ticks\": \"\"}, \"bgcolor\": \"#E5ECF6\", \"caxis\": {\"gridcolor\": \"white\", \"linecolor\": \"white\", \"ticks\": \"\"}}, \"title\": {\"x\": 0.05}, \"xaxis\": {\"automargin\": true, \"gridcolor\": \"white\", \"linecolor\": \"white\", \"ticks\": \"\", \"title\": {\"standoff\": 15}, \"zerolinecolor\": \"white\", \"zerolinewidth\": 2}, \"yaxis\": {\"automargin\": true, \"gridcolor\": \"white\", \"linecolor\": \"white\", \"ticks\": \"\", \"title\": {\"standoff\": 15}, \"zerolinecolor\": \"white\", \"zerolinewidth\": 2}}}, \"title\": {\"font\": {\"color\": \"#4D5663\"}}, \"xaxis\": {\"gridcolor\": \"#E1E5ED\", \"showgrid\": true, \"tickfont\": {\"color\": \"#4D5663\"}, \"title\": {\"font\": {\"color\": \"#4D5663\"}, \"text\": \"\"}, \"zerolinecolor\": \"#E1E5ED\"}, \"yaxis\": {\"gridcolor\": \"#E1E5ED\", \"showgrid\": true, \"tickfont\": {\"color\": \"#4D5663\"}, \"title\": {\"font\": {\"color\": \"#4D5663\"}, \"text\": \"\"}, \"zerolinecolor\": \"#E1E5ED\"}},\n",
       "                        {\"showLink\": true, \"linkText\": \"Export to plot.ly\", \"plotlyServerURL\": \"https://plot.ly\", \"responsive\": true}\n",
       "                    ).then(function(){\n",
       "                            \n",
       "var gd = document.getElementById('4bbb0648-074d-4c7e-abb2-82b931612da2');\n",
       "var x = new MutationObserver(function (mutations, observer) {{\n",
       "        var display = window.getComputedStyle(gd).display;\n",
       "        if (!display || display === 'none') {{\n",
       "            console.log([gd, 'removed!']);\n",
       "            Plotly.purge(gd);\n",
       "            observer.disconnect();\n",
       "        }}\n",
       "}});\n",
       "\n",
       "// Listen for the removal of the full notebook cells\n",
       "var notebookContainer = gd.closest('#notebook-container');\n",
       "if (notebookContainer) {{\n",
       "    x.observe(notebookContainer, {childList: true});\n",
       "}}\n",
       "\n",
       "// Listen for the clearing of the current output cell\n",
       "var outputEl = gd.closest('.output');\n",
       "if (outputEl) {{\n",
       "    x.observe(outputEl, {childList: true});\n",
       "}}\n",
       "\n",
       "                        })\n",
       "                };\n",
       "                });\n",
       "            </script>\n",
       "        </div>"
      ]
     },
     "metadata": {},
     "output_type": "display_data"
    }
   ],
   "source": [
    "df.iplot()"
   ]
  },
  {
   "cell_type": "code",
   "execution_count": 13,
   "metadata": {},
   "outputs": [
    {
     "data": {
      "application/vnd.plotly.v1+json": {
       "config": {
        "linkText": "Export to plot.ly",
        "plotlyServerURL": "https://plot.ly",
        "showLink": true
       },
       "data": [
        {
         "line": {
          "color": "rgba(255, 153, 51, 1.0)",
          "dash": "solid",
          "shape": "linear",
          "width": 1.3
         },
         "mode": "lines",
         "name": "B",
         "text": "",
         "type": "scatter",
         "x": [
          -0.3528362464153668,
          -0.284490578588392,
          2.203326375137168,
          1.1914906229339413,
          -0.5643907599811814,
          2.7798718153014357,
          1.1392230478947218,
          -0.3969084492198873,
          -0.8431354506721372,
          -1.2113706937321673,
          -1.1232328854452367,
          0.4518665654795515,
          0.15108658835894914,
          -1.7197708096350655,
          -0.07078563077906978,
          -0.980891266191066,
          -2.0065915820068994,
          0.04405074044947059,
          -0.1816391125056839,
          0.7598049797859753,
          -1.096012407090366,
          -1.4973956161707278,
          -2.2293808754538005,
          -0.15494190096890462,
          -0.8404676595449304,
          -1.5864444840611043,
          -1.271828143859151,
          0.233536485699503,
          0.32955043668175693,
          1.1595295612279588,
          -0.5278554404367857,
          -0.16303045205008881,
          -1.7674739515583324,
          0.33892658874933296,
          0.19685617323938542,
          0.33023853338745474,
          0.03730643652616613,
          0.32496894629056994,
          0.23244779523287074,
          -0.01842197648227652,
          -1.1672830340101563,
          -0.40440266128609065,
          2.07759282848088,
          0.14020699314040225,
          0.11670666187449041,
          -1.3759216802724983,
          2.3270704249878746,
          0.3972406311737788,
          0.17442023752997537,
          -0.2800525759529055,
          0.4506210148099999,
          2.6202326404140677,
          1.0653150560571336,
          1.7095140209602646,
          0.7990198343521421,
          -0.8281912607199876,
          -0.806280334150687,
          1.6979095908090678,
          -0.8672712204039527,
          1.1005741543620384,
          -0.6546095261109552,
          0.9048167986183359,
          -0.7100506115690377,
          0.648084430407177,
          0.9447881732500704,
          -0.4713552039565896,
          0.21402616654041448,
          -0.935151045365892,
          1.2150495379117552,
          -0.43140919672950967,
          -1.1891048756132958,
          0.9847206464209383,
          0.40945681494002684,
          -0.8066269723088334,
          -0.6687296314674605,
          -1.0238807147882825,
          -0.2700469623402802,
          0.5690651238713944,
          0.6865219970682781,
          0.6483901625701793,
          1.2905559982270822,
          0.8178639588042602,
          1.1575135611917569,
          -2.0984711888019745,
          -1.7762476161655396,
          -0.6748575307003194,
          -0.21849196898810175,
          -0.5753702112145309,
          -0.3920858562314582,
          0.6970390930379042,
          -1.4429250467452353,
          -0.3166115618643759,
          -0.3519621812877541,
          -0.4525464016079805,
          0.5423829440734289,
          -0.36691990004214553,
          -0.7611303390249726,
          2.0511135768496143,
          -0.9598352743683791,
          -0.37398827024180453
         ],
         "y": [
          -1.5145455118176767,
          -0.01367326820150052,
          -0.7829236033971367,
          2.1758105864782173,
          0.014005493606606743,
          -0.408817628815818,
          -1.9692976906687827,
          0.7934251922172569,
          -0.10928246963521912,
          -1.8675911342151044,
          -0.291350381007704,
          -0.2861757143497499,
          0.45182196198038505,
          -1.3540852014076956,
          0.11849633147728272,
          -1.4831515290012542,
          -0.15594664619415652,
          0.8218005891800004,
          -1.3196893908390053,
          0.9516245220412897,
          1.0245182381659395,
          -0.9086606060000463,
          0.3667342867629603,
          2.1748246081996387,
          -1.4412403414461203,
          1.3547356288206962,
          0.07448038483912717,
          -2.0463557158127803,
          -0.2466438968154346,
          0.7427704569505088,
          0.7393827811394357,
          0.3470737898934057,
          -0.21339715374304669,
          -0.29843604210654695,
          -0.26984569594619834,
          -0.7380914719749732,
          0.085445841445681,
          -0.03377606407086046,
          -0.20658488335554978,
          -0.2320627365179663,
          0.6895012608888704,
          -1.9625798027603658,
          -1.3809616631815926,
          1.270026636907869,
          -1.1676750826700475,
          0.6835442102993022,
          -0.10819067203435048,
          -0.38848646939043074,
          -1.3146096093947917,
          1.2343026179645644,
          -1.1578924940873192,
          0.9311809476907813,
          -0.9408852209315937,
          0.2777851236373851,
          -0.2792794125675632,
          0.5699172325515569,
          1.1815215185447847,
          -0.4101575978585351,
          -1.3520086334848345,
          -0.2206896804793058,
          -0.635846746095747,
          -2.2801475925723,
          -0.13273463837665134,
          -1.4357460149388654,
          -2.0947528958618142,
          -1.4043908765273556,
          1.235437712356553,
          -0.2961297710843259,
          0.712446862050636,
          -0.5733163055127384,
          0.8724480526635303,
          0.34296687693318517,
          -1.8772458375662273,
          0.04838875314046682,
          1.1439410329456652,
          -1.4074872363653521,
          -0.41353126423716985,
          -1.2891804111532066,
          -0.8016211831893039,
          -1.1778852829324677,
          0.8601306959837082,
          -0.7846632368352668,
          0.8951888056616729,
          -0.1209386568012941,
          0.3507332670458818,
          0.40839273692365535,
          1.3923988082070355,
          0.5898704076273781,
          1.4937796385060818,
          0.9554951083022206,
          -0.12453902532811652,
          -1.280101497255287,
          -0.8670228686188641,
          -0.6542483247746392,
          -0.27107332066291734,
          1.7482116014051732,
          1.6179167104189263,
          -0.627179728211577,
          0.7520281731249727,
          -0.5689711239929849
         ]
        }
       ],
       "layout": {
        "legend": {
         "bgcolor": "#F5F6F9",
         "font": {
          "color": "#4D5663"
         }
        },
        "paper_bgcolor": "#F5F6F9",
        "plot_bgcolor": "#F5F6F9",
        "template": {
         "data": {
          "bar": [
           {
            "error_x": {
             "color": "#2a3f5f"
            },
            "error_y": {
             "color": "#2a3f5f"
            },
            "marker": {
             "line": {
              "color": "#E5ECF6",
              "width": 0.5
             }
            },
            "type": "bar"
           }
          ],
          "barpolar": [
           {
            "marker": {
             "line": {
              "color": "#E5ECF6",
              "width": 0.5
             }
            },
            "type": "barpolar"
           }
          ],
          "carpet": [
           {
            "aaxis": {
             "endlinecolor": "#2a3f5f",
             "gridcolor": "white",
             "linecolor": "white",
             "minorgridcolor": "white",
             "startlinecolor": "#2a3f5f"
            },
            "baxis": {
             "endlinecolor": "#2a3f5f",
             "gridcolor": "white",
             "linecolor": "white",
             "minorgridcolor": "white",
             "startlinecolor": "#2a3f5f"
            },
            "type": "carpet"
           }
          ],
          "choropleth": [
           {
            "colorbar": {
             "outlinewidth": 0,
             "ticks": ""
            },
            "type": "choropleth"
           }
          ],
          "contour": [
           {
            "colorbar": {
             "outlinewidth": 0,
             "ticks": ""
            },
            "colorscale": [
             [
              0,
              "#0d0887"
             ],
             [
              0.1111111111111111,
              "#46039f"
             ],
             [
              0.2222222222222222,
              "#7201a8"
             ],
             [
              0.3333333333333333,
              "#9c179e"
             ],
             [
              0.4444444444444444,
              "#bd3786"
             ],
             [
              0.5555555555555556,
              "#d8576b"
             ],
             [
              0.6666666666666666,
              "#ed7953"
             ],
             [
              0.7777777777777778,
              "#fb9f3a"
             ],
             [
              0.8888888888888888,
              "#fdca26"
             ],
             [
              1,
              "#f0f921"
             ]
            ],
            "type": "contour"
           }
          ],
          "contourcarpet": [
           {
            "colorbar": {
             "outlinewidth": 0,
             "ticks": ""
            },
            "type": "contourcarpet"
           }
          ],
          "heatmap": [
           {
            "colorbar": {
             "outlinewidth": 0,
             "ticks": ""
            },
            "colorscale": [
             [
              0,
              "#0d0887"
             ],
             [
              0.1111111111111111,
              "#46039f"
             ],
             [
              0.2222222222222222,
              "#7201a8"
             ],
             [
              0.3333333333333333,
              "#9c179e"
             ],
             [
              0.4444444444444444,
              "#bd3786"
             ],
             [
              0.5555555555555556,
              "#d8576b"
             ],
             [
              0.6666666666666666,
              "#ed7953"
             ],
             [
              0.7777777777777778,
              "#fb9f3a"
             ],
             [
              0.8888888888888888,
              "#fdca26"
             ],
             [
              1,
              "#f0f921"
             ]
            ],
            "type": "heatmap"
           }
          ],
          "heatmapgl": [
           {
            "colorbar": {
             "outlinewidth": 0,
             "ticks": ""
            },
            "colorscale": [
             [
              0,
              "#0d0887"
             ],
             [
              0.1111111111111111,
              "#46039f"
             ],
             [
              0.2222222222222222,
              "#7201a8"
             ],
             [
              0.3333333333333333,
              "#9c179e"
             ],
             [
              0.4444444444444444,
              "#bd3786"
             ],
             [
              0.5555555555555556,
              "#d8576b"
             ],
             [
              0.6666666666666666,
              "#ed7953"
             ],
             [
              0.7777777777777778,
              "#fb9f3a"
             ],
             [
              0.8888888888888888,
              "#fdca26"
             ],
             [
              1,
              "#f0f921"
             ]
            ],
            "type": "heatmapgl"
           }
          ],
          "histogram": [
           {
            "marker": {
             "colorbar": {
              "outlinewidth": 0,
              "ticks": ""
             }
            },
            "type": "histogram"
           }
          ],
          "histogram2d": [
           {
            "colorbar": {
             "outlinewidth": 0,
             "ticks": ""
            },
            "colorscale": [
             [
              0,
              "#0d0887"
             ],
             [
              0.1111111111111111,
              "#46039f"
             ],
             [
              0.2222222222222222,
              "#7201a8"
             ],
             [
              0.3333333333333333,
              "#9c179e"
             ],
             [
              0.4444444444444444,
              "#bd3786"
             ],
             [
              0.5555555555555556,
              "#d8576b"
             ],
             [
              0.6666666666666666,
              "#ed7953"
             ],
             [
              0.7777777777777778,
              "#fb9f3a"
             ],
             [
              0.8888888888888888,
              "#fdca26"
             ],
             [
              1,
              "#f0f921"
             ]
            ],
            "type": "histogram2d"
           }
          ],
          "histogram2dcontour": [
           {
            "colorbar": {
             "outlinewidth": 0,
             "ticks": ""
            },
            "colorscale": [
             [
              0,
              "#0d0887"
             ],
             [
              0.1111111111111111,
              "#46039f"
             ],
             [
              0.2222222222222222,
              "#7201a8"
             ],
             [
              0.3333333333333333,
              "#9c179e"
             ],
             [
              0.4444444444444444,
              "#bd3786"
             ],
             [
              0.5555555555555556,
              "#d8576b"
             ],
             [
              0.6666666666666666,
              "#ed7953"
             ],
             [
              0.7777777777777778,
              "#fb9f3a"
             ],
             [
              0.8888888888888888,
              "#fdca26"
             ],
             [
              1,
              "#f0f921"
             ]
            ],
            "type": "histogram2dcontour"
           }
          ],
          "mesh3d": [
           {
            "colorbar": {
             "outlinewidth": 0,
             "ticks": ""
            },
            "type": "mesh3d"
           }
          ],
          "parcoords": [
           {
            "line": {
             "colorbar": {
              "outlinewidth": 0,
              "ticks": ""
             }
            },
            "type": "parcoords"
           }
          ],
          "pie": [
           {
            "automargin": true,
            "type": "pie"
           }
          ],
          "scatter": [
           {
            "marker": {
             "colorbar": {
              "outlinewidth": 0,
              "ticks": ""
             }
            },
            "type": "scatter"
           }
          ],
          "scatter3d": [
           {
            "line": {
             "colorbar": {
              "outlinewidth": 0,
              "ticks": ""
             }
            },
            "marker": {
             "colorbar": {
              "outlinewidth": 0,
              "ticks": ""
             }
            },
            "type": "scatter3d"
           }
          ],
          "scattercarpet": [
           {
            "marker": {
             "colorbar": {
              "outlinewidth": 0,
              "ticks": ""
             }
            },
            "type": "scattercarpet"
           }
          ],
          "scattergeo": [
           {
            "marker": {
             "colorbar": {
              "outlinewidth": 0,
              "ticks": ""
             }
            },
            "type": "scattergeo"
           }
          ],
          "scattergl": [
           {
            "marker": {
             "colorbar": {
              "outlinewidth": 0,
              "ticks": ""
             }
            },
            "type": "scattergl"
           }
          ],
          "scattermapbox": [
           {
            "marker": {
             "colorbar": {
              "outlinewidth": 0,
              "ticks": ""
             }
            },
            "type": "scattermapbox"
           }
          ],
          "scatterpolar": [
           {
            "marker": {
             "colorbar": {
              "outlinewidth": 0,
              "ticks": ""
             }
            },
            "type": "scatterpolar"
           }
          ],
          "scatterpolargl": [
           {
            "marker": {
             "colorbar": {
              "outlinewidth": 0,
              "ticks": ""
             }
            },
            "type": "scatterpolargl"
           }
          ],
          "scatterternary": [
           {
            "marker": {
             "colorbar": {
              "outlinewidth": 0,
              "ticks": ""
             }
            },
            "type": "scatterternary"
           }
          ],
          "surface": [
           {
            "colorbar": {
             "outlinewidth": 0,
             "ticks": ""
            },
            "colorscale": [
             [
              0,
              "#0d0887"
             ],
             [
              0.1111111111111111,
              "#46039f"
             ],
             [
              0.2222222222222222,
              "#7201a8"
             ],
             [
              0.3333333333333333,
              "#9c179e"
             ],
             [
              0.4444444444444444,
              "#bd3786"
             ],
             [
              0.5555555555555556,
              "#d8576b"
             ],
             [
              0.6666666666666666,
              "#ed7953"
             ],
             [
              0.7777777777777778,
              "#fb9f3a"
             ],
             [
              0.8888888888888888,
              "#fdca26"
             ],
             [
              1,
              "#f0f921"
             ]
            ],
            "type": "surface"
           }
          ],
          "table": [
           {
            "cells": {
             "fill": {
              "color": "#EBF0F8"
             },
             "line": {
              "color": "white"
             }
            },
            "header": {
             "fill": {
              "color": "#C8D4E3"
             },
             "line": {
              "color": "white"
             }
            },
            "type": "table"
           }
          ]
         },
         "layout": {
          "annotationdefaults": {
           "arrowcolor": "#2a3f5f",
           "arrowhead": 0,
           "arrowwidth": 1
          },
          "coloraxis": {
           "colorbar": {
            "outlinewidth": 0,
            "ticks": ""
           }
          },
          "colorscale": {
           "diverging": [
            [
             0,
             "#8e0152"
            ],
            [
             0.1,
             "#c51b7d"
            ],
            [
             0.2,
             "#de77ae"
            ],
            [
             0.3,
             "#f1b6da"
            ],
            [
             0.4,
             "#fde0ef"
            ],
            [
             0.5,
             "#f7f7f7"
            ],
            [
             0.6,
             "#e6f5d0"
            ],
            [
             0.7,
             "#b8e186"
            ],
            [
             0.8,
             "#7fbc41"
            ],
            [
             0.9,
             "#4d9221"
            ],
            [
             1,
             "#276419"
            ]
           ],
           "sequential": [
            [
             0,
             "#0d0887"
            ],
            [
             0.1111111111111111,
             "#46039f"
            ],
            [
             0.2222222222222222,
             "#7201a8"
            ],
            [
             0.3333333333333333,
             "#9c179e"
            ],
            [
             0.4444444444444444,
             "#bd3786"
            ],
            [
             0.5555555555555556,
             "#d8576b"
            ],
            [
             0.6666666666666666,
             "#ed7953"
            ],
            [
             0.7777777777777778,
             "#fb9f3a"
            ],
            [
             0.8888888888888888,
             "#fdca26"
            ],
            [
             1,
             "#f0f921"
            ]
           ],
           "sequentialminus": [
            [
             0,
             "#0d0887"
            ],
            [
             0.1111111111111111,
             "#46039f"
            ],
            [
             0.2222222222222222,
             "#7201a8"
            ],
            [
             0.3333333333333333,
             "#9c179e"
            ],
            [
             0.4444444444444444,
             "#bd3786"
            ],
            [
             0.5555555555555556,
             "#d8576b"
            ],
            [
             0.6666666666666666,
             "#ed7953"
            ],
            [
             0.7777777777777778,
             "#fb9f3a"
            ],
            [
             0.8888888888888888,
             "#fdca26"
            ],
            [
             1,
             "#f0f921"
            ]
           ]
          },
          "colorway": [
           "#636efa",
           "#EF553B",
           "#00cc96",
           "#ab63fa",
           "#FFA15A",
           "#19d3f3",
           "#FF6692",
           "#B6E880",
           "#FF97FF",
           "#FECB52"
          ],
          "font": {
           "color": "#2a3f5f"
          },
          "geo": {
           "bgcolor": "white",
           "lakecolor": "white",
           "landcolor": "#E5ECF6",
           "showlakes": true,
           "showland": true,
           "subunitcolor": "white"
          },
          "hoverlabel": {
           "align": "left"
          },
          "hovermode": "closest",
          "mapbox": {
           "style": "light"
          },
          "paper_bgcolor": "white",
          "plot_bgcolor": "#E5ECF6",
          "polar": {
           "angularaxis": {
            "gridcolor": "white",
            "linecolor": "white",
            "ticks": ""
           },
           "bgcolor": "#E5ECF6",
           "radialaxis": {
            "gridcolor": "white",
            "linecolor": "white",
            "ticks": ""
           }
          },
          "scene": {
           "xaxis": {
            "backgroundcolor": "#E5ECF6",
            "gridcolor": "white",
            "gridwidth": 2,
            "linecolor": "white",
            "showbackground": true,
            "ticks": "",
            "zerolinecolor": "white"
           },
           "yaxis": {
            "backgroundcolor": "#E5ECF6",
            "gridcolor": "white",
            "gridwidth": 2,
            "linecolor": "white",
            "showbackground": true,
            "ticks": "",
            "zerolinecolor": "white"
           },
           "zaxis": {
            "backgroundcolor": "#E5ECF6",
            "gridcolor": "white",
            "gridwidth": 2,
            "linecolor": "white",
            "showbackground": true,
            "ticks": "",
            "zerolinecolor": "white"
           }
          },
          "shapedefaults": {
           "line": {
            "color": "#2a3f5f"
           }
          },
          "ternary": {
           "aaxis": {
            "gridcolor": "white",
            "linecolor": "white",
            "ticks": ""
           },
           "baxis": {
            "gridcolor": "white",
            "linecolor": "white",
            "ticks": ""
           },
           "bgcolor": "#E5ECF6",
           "caxis": {
            "gridcolor": "white",
            "linecolor": "white",
            "ticks": ""
           }
          },
          "title": {
           "x": 0.05
          },
          "xaxis": {
           "automargin": true,
           "gridcolor": "white",
           "linecolor": "white",
           "ticks": "",
           "title": {
            "standoff": 15
           },
           "zerolinecolor": "white",
           "zerolinewidth": 2
          },
          "yaxis": {
           "automargin": true,
           "gridcolor": "white",
           "linecolor": "white",
           "ticks": "",
           "title": {
            "standoff": 15
           },
           "zerolinecolor": "white",
           "zerolinewidth": 2
          }
         }
        },
        "title": {
         "font": {
          "color": "#4D5663"
         }
        },
        "xaxis": {
         "gridcolor": "#E1E5ED",
         "showgrid": true,
         "tickfont": {
          "color": "#4D5663"
         },
         "title": {
          "font": {
           "color": "#4D5663"
          },
          "text": ""
         },
         "zerolinecolor": "#E1E5ED"
        },
        "yaxis": {
         "gridcolor": "#E1E5ED",
         "showgrid": true,
         "tickfont": {
          "color": "#4D5663"
         },
         "title": {
          "font": {
           "color": "#4D5663"
          },
          "text": ""
         },
         "zerolinecolor": "#E1E5ED"
        }
       }
      },
      "text/html": [
       "<div>\n",
       "        \n",
       "        \n",
       "            <div id=\"4c4722ce-6a81-4474-9623-afece0f7ac58\" class=\"plotly-graph-div\" style=\"height:525px; width:100%;\"></div>\n",
       "            <script type=\"text/javascript\">\n",
       "                require([\"plotly\"], function(Plotly) {\n",
       "                    window.PLOTLYENV=window.PLOTLYENV || {};\n",
       "                    window.PLOTLYENV.BASE_URL='https://plot.ly';\n",
       "                    \n",
       "                if (document.getElementById(\"4c4722ce-6a81-4474-9623-afece0f7ac58\")) {\n",
       "                    Plotly.newPlot(\n",
       "                        '4c4722ce-6a81-4474-9623-afece0f7ac58',\n",
       "                        [{\"line\": {\"color\": \"rgba(255, 153, 51, 1.0)\", \"dash\": \"solid\", \"shape\": \"linear\", \"width\": 1.3}, \"mode\": \"lines\", \"name\": \"B\", \"text\": \"\", \"type\": \"scatter\", \"x\": [-0.3528362464153668, -0.284490578588392, 2.203326375137168, 1.1914906229339413, -0.5643907599811814, 2.7798718153014357, 1.1392230478947218, -0.3969084492198873, -0.8431354506721372, -1.2113706937321673, -1.1232328854452367, 0.4518665654795515, 0.15108658835894914, -1.7197708096350655, -0.07078563077906978, -0.980891266191066, -2.0065915820068994, 0.04405074044947059, -0.1816391125056839, 0.7598049797859753, -1.096012407090366, -1.4973956161707278, -2.2293808754538005, -0.15494190096890462, -0.8404676595449304, -1.5864444840611043, -1.271828143859151, 0.233536485699503, 0.32955043668175693, 1.1595295612279588, -0.5278554404367857, -0.16303045205008881, -1.7674739515583324, 0.33892658874933296, 0.19685617323938542, 0.33023853338745474, 0.03730643652616613, 0.32496894629056994, 0.23244779523287074, -0.01842197648227652, -1.1672830340101563, -0.40440266128609065, 2.07759282848088, 0.14020699314040225, 0.11670666187449041, -1.3759216802724983, 2.3270704249878746, 0.3972406311737788, 0.17442023752997537, -0.2800525759529055, 0.4506210148099999, 2.6202326404140677, 1.0653150560571336, 1.7095140209602646, 0.7990198343521421, -0.8281912607199876, -0.806280334150687, 1.6979095908090678, -0.8672712204039527, 1.1005741543620384, -0.6546095261109552, 0.9048167986183359, -0.7100506115690377, 0.648084430407177, 0.9447881732500704, -0.4713552039565896, 0.21402616654041448, -0.935151045365892, 1.2150495379117552, -0.43140919672950967, -1.1891048756132958, 0.9847206464209383, 0.40945681494002684, -0.8066269723088334, -0.6687296314674605, -1.0238807147882825, -0.2700469623402802, 0.5690651238713944, 0.6865219970682781, 0.6483901625701793, 1.2905559982270822, 0.8178639588042602, 1.1575135611917569, -2.0984711888019745, -1.7762476161655396, -0.6748575307003194, -0.21849196898810175, -0.5753702112145309, -0.3920858562314582, 0.6970390930379042, -1.4429250467452353, -0.3166115618643759, -0.3519621812877541, -0.4525464016079805, 0.5423829440734289, -0.36691990004214553, -0.7611303390249726, 2.0511135768496143, -0.9598352743683791, -0.37398827024180453], \"y\": [-1.5145455118176767, -0.01367326820150052, -0.7829236033971367, 2.1758105864782173, 0.014005493606606743, -0.408817628815818, -1.9692976906687827, 0.7934251922172569, -0.10928246963521912, -1.8675911342151044, -0.291350381007704, -0.2861757143497499, 0.45182196198038505, -1.3540852014076956, 0.11849633147728272, -1.4831515290012542, -0.15594664619415652, 0.8218005891800004, -1.3196893908390053, 0.9516245220412897, 1.0245182381659395, -0.9086606060000463, 0.3667342867629603, 2.1748246081996387, -1.4412403414461203, 1.3547356288206962, 0.07448038483912717, -2.0463557158127803, -0.2466438968154346, 0.7427704569505088, 0.7393827811394357, 0.3470737898934057, -0.21339715374304669, -0.29843604210654695, -0.26984569594619834, -0.7380914719749732, 0.085445841445681, -0.03377606407086046, -0.20658488335554978, -0.2320627365179663, 0.6895012608888704, -1.9625798027603658, -1.3809616631815926, 1.270026636907869, -1.1676750826700475, 0.6835442102993022, -0.10819067203435048, -0.38848646939043074, -1.3146096093947917, 1.2343026179645644, -1.1578924940873192, 0.9311809476907813, -0.9408852209315937, 0.2777851236373851, -0.2792794125675632, 0.5699172325515569, 1.1815215185447847, -0.4101575978585351, -1.3520086334848345, -0.2206896804793058, -0.635846746095747, -2.2801475925723, -0.13273463837665134, -1.4357460149388654, -2.0947528958618142, -1.4043908765273556, 1.235437712356553, -0.2961297710843259, 0.712446862050636, -0.5733163055127384, 0.8724480526635303, 0.34296687693318517, -1.8772458375662273, 0.04838875314046682, 1.1439410329456652, -1.4074872363653521, -0.41353126423716985, -1.2891804111532066, -0.8016211831893039, -1.1778852829324677, 0.8601306959837082, -0.7846632368352668, 0.8951888056616729, -0.1209386568012941, 0.3507332670458818, 0.40839273692365535, 1.3923988082070355, 0.5898704076273781, 1.4937796385060818, 0.9554951083022206, -0.12453902532811652, -1.280101497255287, -0.8670228686188641, -0.6542483247746392, -0.27107332066291734, 1.7482116014051732, 1.6179167104189263, -0.627179728211577, 0.7520281731249727, -0.5689711239929849]}],\n",
       "                        {\"legend\": {\"bgcolor\": \"#F5F6F9\", \"font\": {\"color\": \"#4D5663\"}}, \"paper_bgcolor\": \"#F5F6F9\", \"plot_bgcolor\": \"#F5F6F9\", \"template\": {\"data\": {\"bar\": [{\"error_x\": {\"color\": \"#2a3f5f\"}, \"error_y\": {\"color\": \"#2a3f5f\"}, \"marker\": {\"line\": {\"color\": \"#E5ECF6\", \"width\": 0.5}}, \"type\": \"bar\"}], \"barpolar\": [{\"marker\": {\"line\": {\"color\": \"#E5ECF6\", \"width\": 0.5}}, \"type\": \"barpolar\"}], \"carpet\": [{\"aaxis\": {\"endlinecolor\": \"#2a3f5f\", \"gridcolor\": \"white\", \"linecolor\": \"white\", \"minorgridcolor\": \"white\", \"startlinecolor\": \"#2a3f5f\"}, \"baxis\": {\"endlinecolor\": \"#2a3f5f\", \"gridcolor\": \"white\", \"linecolor\": \"white\", \"minorgridcolor\": \"white\", \"startlinecolor\": \"#2a3f5f\"}, \"type\": \"carpet\"}], \"choropleth\": [{\"colorbar\": {\"outlinewidth\": 0, \"ticks\": \"\"}, \"type\": \"choropleth\"}], \"contour\": [{\"colorbar\": {\"outlinewidth\": 0, \"ticks\": \"\"}, \"colorscale\": [[0.0, \"#0d0887\"], [0.1111111111111111, \"#46039f\"], [0.2222222222222222, \"#7201a8\"], [0.3333333333333333, \"#9c179e\"], [0.4444444444444444, \"#bd3786\"], [0.5555555555555556, \"#d8576b\"], [0.6666666666666666, \"#ed7953\"], [0.7777777777777778, \"#fb9f3a\"], [0.8888888888888888, \"#fdca26\"], [1.0, \"#f0f921\"]], \"type\": \"contour\"}], \"contourcarpet\": [{\"colorbar\": {\"outlinewidth\": 0, \"ticks\": \"\"}, \"type\": \"contourcarpet\"}], \"heatmap\": [{\"colorbar\": {\"outlinewidth\": 0, \"ticks\": \"\"}, \"colorscale\": [[0.0, \"#0d0887\"], [0.1111111111111111, \"#46039f\"], [0.2222222222222222, \"#7201a8\"], [0.3333333333333333, \"#9c179e\"], [0.4444444444444444, \"#bd3786\"], [0.5555555555555556, \"#d8576b\"], [0.6666666666666666, \"#ed7953\"], [0.7777777777777778, \"#fb9f3a\"], [0.8888888888888888, \"#fdca26\"], [1.0, \"#f0f921\"]], \"type\": \"heatmap\"}], \"heatmapgl\": [{\"colorbar\": {\"outlinewidth\": 0, \"ticks\": \"\"}, \"colorscale\": [[0.0, \"#0d0887\"], [0.1111111111111111, \"#46039f\"], [0.2222222222222222, \"#7201a8\"], [0.3333333333333333, \"#9c179e\"], [0.4444444444444444, \"#bd3786\"], [0.5555555555555556, \"#d8576b\"], [0.6666666666666666, \"#ed7953\"], [0.7777777777777778, \"#fb9f3a\"], [0.8888888888888888, \"#fdca26\"], [1.0, \"#f0f921\"]], \"type\": \"heatmapgl\"}], \"histogram\": [{\"marker\": {\"colorbar\": {\"outlinewidth\": 0, \"ticks\": \"\"}}, \"type\": \"histogram\"}], \"histogram2d\": [{\"colorbar\": {\"outlinewidth\": 0, \"ticks\": \"\"}, \"colorscale\": [[0.0, \"#0d0887\"], [0.1111111111111111, \"#46039f\"], [0.2222222222222222, \"#7201a8\"], [0.3333333333333333, \"#9c179e\"], [0.4444444444444444, \"#bd3786\"], [0.5555555555555556, \"#d8576b\"], [0.6666666666666666, \"#ed7953\"], [0.7777777777777778, \"#fb9f3a\"], [0.8888888888888888, \"#fdca26\"], [1.0, \"#f0f921\"]], \"type\": \"histogram2d\"}], \"histogram2dcontour\": [{\"colorbar\": {\"outlinewidth\": 0, \"ticks\": \"\"}, \"colorscale\": [[0.0, \"#0d0887\"], [0.1111111111111111, \"#46039f\"], [0.2222222222222222, \"#7201a8\"], [0.3333333333333333, \"#9c179e\"], [0.4444444444444444, \"#bd3786\"], [0.5555555555555556, \"#d8576b\"], [0.6666666666666666, \"#ed7953\"], [0.7777777777777778, \"#fb9f3a\"], [0.8888888888888888, \"#fdca26\"], [1.0, \"#f0f921\"]], \"type\": \"histogram2dcontour\"}], \"mesh3d\": [{\"colorbar\": {\"outlinewidth\": 0, \"ticks\": \"\"}, \"type\": \"mesh3d\"}], \"parcoords\": [{\"line\": {\"colorbar\": {\"outlinewidth\": 0, \"ticks\": \"\"}}, \"type\": \"parcoords\"}], \"pie\": [{\"automargin\": true, \"type\": \"pie\"}], \"scatter\": [{\"marker\": {\"colorbar\": {\"outlinewidth\": 0, \"ticks\": \"\"}}, \"type\": \"scatter\"}], \"scatter3d\": [{\"line\": {\"colorbar\": {\"outlinewidth\": 0, \"ticks\": \"\"}}, \"marker\": {\"colorbar\": {\"outlinewidth\": 0, \"ticks\": \"\"}}, \"type\": \"scatter3d\"}], \"scattercarpet\": [{\"marker\": {\"colorbar\": {\"outlinewidth\": 0, \"ticks\": \"\"}}, \"type\": \"scattercarpet\"}], \"scattergeo\": [{\"marker\": {\"colorbar\": {\"outlinewidth\": 0, \"ticks\": \"\"}}, \"type\": \"scattergeo\"}], \"scattergl\": [{\"marker\": {\"colorbar\": {\"outlinewidth\": 0, \"ticks\": \"\"}}, \"type\": \"scattergl\"}], \"scattermapbox\": [{\"marker\": {\"colorbar\": {\"outlinewidth\": 0, \"ticks\": \"\"}}, \"type\": \"scattermapbox\"}], \"scatterpolar\": [{\"marker\": {\"colorbar\": {\"outlinewidth\": 0, \"ticks\": \"\"}}, \"type\": \"scatterpolar\"}], \"scatterpolargl\": [{\"marker\": {\"colorbar\": {\"outlinewidth\": 0, \"ticks\": \"\"}}, \"type\": \"scatterpolargl\"}], \"scatterternary\": [{\"marker\": {\"colorbar\": {\"outlinewidth\": 0, \"ticks\": \"\"}}, \"type\": \"scatterternary\"}], \"surface\": [{\"colorbar\": {\"outlinewidth\": 0, \"ticks\": \"\"}, \"colorscale\": [[0.0, \"#0d0887\"], [0.1111111111111111, \"#46039f\"], [0.2222222222222222, \"#7201a8\"], [0.3333333333333333, \"#9c179e\"], [0.4444444444444444, \"#bd3786\"], [0.5555555555555556, \"#d8576b\"], [0.6666666666666666, \"#ed7953\"], [0.7777777777777778, \"#fb9f3a\"], [0.8888888888888888, \"#fdca26\"], [1.0, \"#f0f921\"]], \"type\": \"surface\"}], \"table\": [{\"cells\": {\"fill\": {\"color\": \"#EBF0F8\"}, \"line\": {\"color\": \"white\"}}, \"header\": {\"fill\": {\"color\": \"#C8D4E3\"}, \"line\": {\"color\": \"white\"}}, \"type\": \"table\"}]}, \"layout\": {\"annotationdefaults\": {\"arrowcolor\": \"#2a3f5f\", \"arrowhead\": 0, \"arrowwidth\": 1}, \"coloraxis\": {\"colorbar\": {\"outlinewidth\": 0, \"ticks\": \"\"}}, \"colorscale\": {\"diverging\": [[0, \"#8e0152\"], [0.1, \"#c51b7d\"], [0.2, \"#de77ae\"], [0.3, \"#f1b6da\"], [0.4, \"#fde0ef\"], [0.5, \"#f7f7f7\"], [0.6, \"#e6f5d0\"], [0.7, \"#b8e186\"], [0.8, \"#7fbc41\"], [0.9, \"#4d9221\"], [1, \"#276419\"]], \"sequential\": [[0.0, \"#0d0887\"], [0.1111111111111111, \"#46039f\"], [0.2222222222222222, \"#7201a8\"], [0.3333333333333333, \"#9c179e\"], [0.4444444444444444, \"#bd3786\"], [0.5555555555555556, \"#d8576b\"], [0.6666666666666666, \"#ed7953\"], [0.7777777777777778, \"#fb9f3a\"], [0.8888888888888888, \"#fdca26\"], [1.0, \"#f0f921\"]], \"sequentialminus\": [[0.0, \"#0d0887\"], [0.1111111111111111, \"#46039f\"], [0.2222222222222222, \"#7201a8\"], [0.3333333333333333, \"#9c179e\"], [0.4444444444444444, \"#bd3786\"], [0.5555555555555556, \"#d8576b\"], [0.6666666666666666, \"#ed7953\"], [0.7777777777777778, \"#fb9f3a\"], [0.8888888888888888, \"#fdca26\"], [1.0, \"#f0f921\"]]}, \"colorway\": [\"#636efa\", \"#EF553B\", \"#00cc96\", \"#ab63fa\", \"#FFA15A\", \"#19d3f3\", \"#FF6692\", \"#B6E880\", \"#FF97FF\", \"#FECB52\"], \"font\": {\"color\": \"#2a3f5f\"}, \"geo\": {\"bgcolor\": \"white\", \"lakecolor\": \"white\", \"landcolor\": \"#E5ECF6\", \"showlakes\": true, \"showland\": true, \"subunitcolor\": \"white\"}, \"hoverlabel\": {\"align\": \"left\"}, \"hovermode\": \"closest\", \"mapbox\": {\"style\": \"light\"}, \"paper_bgcolor\": \"white\", \"plot_bgcolor\": \"#E5ECF6\", \"polar\": {\"angularaxis\": {\"gridcolor\": \"white\", \"linecolor\": \"white\", \"ticks\": \"\"}, \"bgcolor\": \"#E5ECF6\", \"radialaxis\": {\"gridcolor\": \"white\", \"linecolor\": \"white\", \"ticks\": \"\"}}, \"scene\": {\"xaxis\": {\"backgroundcolor\": \"#E5ECF6\", \"gridcolor\": \"white\", \"gridwidth\": 2, \"linecolor\": \"white\", \"showbackground\": true, \"ticks\": \"\", \"zerolinecolor\": \"white\"}, \"yaxis\": {\"backgroundcolor\": \"#E5ECF6\", \"gridcolor\": \"white\", \"gridwidth\": 2, \"linecolor\": \"white\", \"showbackground\": true, \"ticks\": \"\", \"zerolinecolor\": \"white\"}, \"zaxis\": {\"backgroundcolor\": \"#E5ECF6\", \"gridcolor\": \"white\", \"gridwidth\": 2, \"linecolor\": \"white\", \"showbackground\": true, \"ticks\": \"\", \"zerolinecolor\": \"white\"}}, \"shapedefaults\": {\"line\": {\"color\": \"#2a3f5f\"}}, \"ternary\": {\"aaxis\": {\"gridcolor\": \"white\", \"linecolor\": \"white\", \"ticks\": \"\"}, \"baxis\": {\"gridcolor\": \"white\", \"linecolor\": \"white\", \"ticks\": \"\"}, \"bgcolor\": \"#E5ECF6\", \"caxis\": {\"gridcolor\": \"white\", \"linecolor\": \"white\", \"ticks\": \"\"}}, \"title\": {\"x\": 0.05}, \"xaxis\": {\"automargin\": true, \"gridcolor\": \"white\", \"linecolor\": \"white\", \"ticks\": \"\", \"title\": {\"standoff\": 15}, \"zerolinecolor\": \"white\", \"zerolinewidth\": 2}, \"yaxis\": {\"automargin\": true, \"gridcolor\": \"white\", \"linecolor\": \"white\", \"ticks\": \"\", \"title\": {\"standoff\": 15}, \"zerolinecolor\": \"white\", \"zerolinewidth\": 2}}}, \"title\": {\"font\": {\"color\": \"#4D5663\"}}, \"xaxis\": {\"gridcolor\": \"#E1E5ED\", \"showgrid\": true, \"tickfont\": {\"color\": \"#4D5663\"}, \"title\": {\"font\": {\"color\": \"#4D5663\"}, \"text\": \"\"}, \"zerolinecolor\": \"#E1E5ED\"}, \"yaxis\": {\"gridcolor\": \"#E1E5ED\", \"showgrid\": true, \"tickfont\": {\"color\": \"#4D5663\"}, \"title\": {\"font\": {\"color\": \"#4D5663\"}, \"text\": \"\"}, \"zerolinecolor\": \"#E1E5ED\"}},\n",
       "                        {\"showLink\": true, \"linkText\": \"Export to plot.ly\", \"plotlyServerURL\": \"https://plot.ly\", \"responsive\": true}\n",
       "                    ).then(function(){\n",
       "                            \n",
       "var gd = document.getElementById('4c4722ce-6a81-4474-9623-afece0f7ac58');\n",
       "var x = new MutationObserver(function (mutations, observer) {{\n",
       "        var display = window.getComputedStyle(gd).display;\n",
       "        if (!display || display === 'none') {{\n",
       "            console.log([gd, 'removed!']);\n",
       "            Plotly.purge(gd);\n",
       "            observer.disconnect();\n",
       "        }}\n",
       "}});\n",
       "\n",
       "// Listen for the removal of the full notebook cells\n",
       "var notebookContainer = gd.closest('#notebook-container');\n",
       "if (notebookContainer) {{\n",
       "    x.observe(notebookContainer, {childList: true});\n",
       "}}\n",
       "\n",
       "// Listen for the clearing of the current output cell\n",
       "var outputEl = gd.closest('.output');\n",
       "if (outputEl) {{\n",
       "    x.observe(outputEl, {childList: true});\n",
       "}}\n",
       "\n",
       "                        })\n",
       "                };\n",
       "                });\n",
       "            </script>\n",
       "        </div>"
      ]
     },
     "metadata": {},
     "output_type": "display_data"
    }
   ],
   "source": [
    "df.iplot(kind='scatter', x='A', y='B')"
   ]
  },
  {
   "cell_type": "code",
   "execution_count": 14,
   "metadata": {},
   "outputs": [
    {
     "data": {
      "application/vnd.plotly.v1+json": {
       "config": {
        "linkText": "Export to plot.ly",
        "plotlyServerURL": "https://plot.ly",
        "showLink": true
       },
       "data": [
        {
         "line": {
          "color": "rgba(255, 153, 51, 1.0)",
          "dash": "solid",
          "shape": "linear",
          "width": 1.3
         },
         "marker": {
          "size": 12,
          "symbol": "circle"
         },
         "mode": "markers",
         "name": "B",
         "text": "",
         "type": "scatter",
         "x": [
          -0.3528362464153668,
          -0.284490578588392,
          2.203326375137168,
          1.1914906229339413,
          -0.5643907599811814,
          2.7798718153014357,
          1.1392230478947218,
          -0.3969084492198873,
          -0.8431354506721372,
          -1.2113706937321673,
          -1.1232328854452367,
          0.4518665654795515,
          0.15108658835894914,
          -1.7197708096350655,
          -0.07078563077906978,
          -0.980891266191066,
          -2.0065915820068994,
          0.04405074044947059,
          -0.1816391125056839,
          0.7598049797859753,
          -1.096012407090366,
          -1.4973956161707278,
          -2.2293808754538005,
          -0.15494190096890462,
          -0.8404676595449304,
          -1.5864444840611043,
          -1.271828143859151,
          0.233536485699503,
          0.32955043668175693,
          1.1595295612279588,
          -0.5278554404367857,
          -0.16303045205008881,
          -1.7674739515583324,
          0.33892658874933296,
          0.19685617323938542,
          0.33023853338745474,
          0.03730643652616613,
          0.32496894629056994,
          0.23244779523287074,
          -0.01842197648227652,
          -1.1672830340101563,
          -0.40440266128609065,
          2.07759282848088,
          0.14020699314040225,
          0.11670666187449041,
          -1.3759216802724983,
          2.3270704249878746,
          0.3972406311737788,
          0.17442023752997537,
          -0.2800525759529055,
          0.4506210148099999,
          2.6202326404140677,
          1.0653150560571336,
          1.7095140209602646,
          0.7990198343521421,
          -0.8281912607199876,
          -0.806280334150687,
          1.6979095908090678,
          -0.8672712204039527,
          1.1005741543620384,
          -0.6546095261109552,
          0.9048167986183359,
          -0.7100506115690377,
          0.648084430407177,
          0.9447881732500704,
          -0.4713552039565896,
          0.21402616654041448,
          -0.935151045365892,
          1.2150495379117552,
          -0.43140919672950967,
          -1.1891048756132958,
          0.9847206464209383,
          0.40945681494002684,
          -0.8066269723088334,
          -0.6687296314674605,
          -1.0238807147882825,
          -0.2700469623402802,
          0.5690651238713944,
          0.6865219970682781,
          0.6483901625701793,
          1.2905559982270822,
          0.8178639588042602,
          1.1575135611917569,
          -2.0984711888019745,
          -1.7762476161655396,
          -0.6748575307003194,
          -0.21849196898810175,
          -0.5753702112145309,
          -0.3920858562314582,
          0.6970390930379042,
          -1.4429250467452353,
          -0.3166115618643759,
          -0.3519621812877541,
          -0.4525464016079805,
          0.5423829440734289,
          -0.36691990004214553,
          -0.7611303390249726,
          2.0511135768496143,
          -0.9598352743683791,
          -0.37398827024180453
         ],
         "y": [
          -1.5145455118176767,
          -0.01367326820150052,
          -0.7829236033971367,
          2.1758105864782173,
          0.014005493606606743,
          -0.408817628815818,
          -1.9692976906687827,
          0.7934251922172569,
          -0.10928246963521912,
          -1.8675911342151044,
          -0.291350381007704,
          -0.2861757143497499,
          0.45182196198038505,
          -1.3540852014076956,
          0.11849633147728272,
          -1.4831515290012542,
          -0.15594664619415652,
          0.8218005891800004,
          -1.3196893908390053,
          0.9516245220412897,
          1.0245182381659395,
          -0.9086606060000463,
          0.3667342867629603,
          2.1748246081996387,
          -1.4412403414461203,
          1.3547356288206962,
          0.07448038483912717,
          -2.0463557158127803,
          -0.2466438968154346,
          0.7427704569505088,
          0.7393827811394357,
          0.3470737898934057,
          -0.21339715374304669,
          -0.29843604210654695,
          -0.26984569594619834,
          -0.7380914719749732,
          0.085445841445681,
          -0.03377606407086046,
          -0.20658488335554978,
          -0.2320627365179663,
          0.6895012608888704,
          -1.9625798027603658,
          -1.3809616631815926,
          1.270026636907869,
          -1.1676750826700475,
          0.6835442102993022,
          -0.10819067203435048,
          -0.38848646939043074,
          -1.3146096093947917,
          1.2343026179645644,
          -1.1578924940873192,
          0.9311809476907813,
          -0.9408852209315937,
          0.2777851236373851,
          -0.2792794125675632,
          0.5699172325515569,
          1.1815215185447847,
          -0.4101575978585351,
          -1.3520086334848345,
          -0.2206896804793058,
          -0.635846746095747,
          -2.2801475925723,
          -0.13273463837665134,
          -1.4357460149388654,
          -2.0947528958618142,
          -1.4043908765273556,
          1.235437712356553,
          -0.2961297710843259,
          0.712446862050636,
          -0.5733163055127384,
          0.8724480526635303,
          0.34296687693318517,
          -1.8772458375662273,
          0.04838875314046682,
          1.1439410329456652,
          -1.4074872363653521,
          -0.41353126423716985,
          -1.2891804111532066,
          -0.8016211831893039,
          -1.1778852829324677,
          0.8601306959837082,
          -0.7846632368352668,
          0.8951888056616729,
          -0.1209386568012941,
          0.3507332670458818,
          0.40839273692365535,
          1.3923988082070355,
          0.5898704076273781,
          1.4937796385060818,
          0.9554951083022206,
          -0.12453902532811652,
          -1.280101497255287,
          -0.8670228686188641,
          -0.6542483247746392,
          -0.27107332066291734,
          1.7482116014051732,
          1.6179167104189263,
          -0.627179728211577,
          0.7520281731249727,
          -0.5689711239929849
         ]
        }
       ],
       "layout": {
        "legend": {
         "bgcolor": "#F5F6F9",
         "font": {
          "color": "#4D5663"
         }
        },
        "paper_bgcolor": "#F5F6F9",
        "plot_bgcolor": "#F5F6F9",
        "template": {
         "data": {
          "bar": [
           {
            "error_x": {
             "color": "#2a3f5f"
            },
            "error_y": {
             "color": "#2a3f5f"
            },
            "marker": {
             "line": {
              "color": "#E5ECF6",
              "width": 0.5
             }
            },
            "type": "bar"
           }
          ],
          "barpolar": [
           {
            "marker": {
             "line": {
              "color": "#E5ECF6",
              "width": 0.5
             }
            },
            "type": "barpolar"
           }
          ],
          "carpet": [
           {
            "aaxis": {
             "endlinecolor": "#2a3f5f",
             "gridcolor": "white",
             "linecolor": "white",
             "minorgridcolor": "white",
             "startlinecolor": "#2a3f5f"
            },
            "baxis": {
             "endlinecolor": "#2a3f5f",
             "gridcolor": "white",
             "linecolor": "white",
             "minorgridcolor": "white",
             "startlinecolor": "#2a3f5f"
            },
            "type": "carpet"
           }
          ],
          "choropleth": [
           {
            "colorbar": {
             "outlinewidth": 0,
             "ticks": ""
            },
            "type": "choropleth"
           }
          ],
          "contour": [
           {
            "colorbar": {
             "outlinewidth": 0,
             "ticks": ""
            },
            "colorscale": [
             [
              0,
              "#0d0887"
             ],
             [
              0.1111111111111111,
              "#46039f"
             ],
             [
              0.2222222222222222,
              "#7201a8"
             ],
             [
              0.3333333333333333,
              "#9c179e"
             ],
             [
              0.4444444444444444,
              "#bd3786"
             ],
             [
              0.5555555555555556,
              "#d8576b"
             ],
             [
              0.6666666666666666,
              "#ed7953"
             ],
             [
              0.7777777777777778,
              "#fb9f3a"
             ],
             [
              0.8888888888888888,
              "#fdca26"
             ],
             [
              1,
              "#f0f921"
             ]
            ],
            "type": "contour"
           }
          ],
          "contourcarpet": [
           {
            "colorbar": {
             "outlinewidth": 0,
             "ticks": ""
            },
            "type": "contourcarpet"
           }
          ],
          "heatmap": [
           {
            "colorbar": {
             "outlinewidth": 0,
             "ticks": ""
            },
            "colorscale": [
             [
              0,
              "#0d0887"
             ],
             [
              0.1111111111111111,
              "#46039f"
             ],
             [
              0.2222222222222222,
              "#7201a8"
             ],
             [
              0.3333333333333333,
              "#9c179e"
             ],
             [
              0.4444444444444444,
              "#bd3786"
             ],
             [
              0.5555555555555556,
              "#d8576b"
             ],
             [
              0.6666666666666666,
              "#ed7953"
             ],
             [
              0.7777777777777778,
              "#fb9f3a"
             ],
             [
              0.8888888888888888,
              "#fdca26"
             ],
             [
              1,
              "#f0f921"
             ]
            ],
            "type": "heatmap"
           }
          ],
          "heatmapgl": [
           {
            "colorbar": {
             "outlinewidth": 0,
             "ticks": ""
            },
            "colorscale": [
             [
              0,
              "#0d0887"
             ],
             [
              0.1111111111111111,
              "#46039f"
             ],
             [
              0.2222222222222222,
              "#7201a8"
             ],
             [
              0.3333333333333333,
              "#9c179e"
             ],
             [
              0.4444444444444444,
              "#bd3786"
             ],
             [
              0.5555555555555556,
              "#d8576b"
             ],
             [
              0.6666666666666666,
              "#ed7953"
             ],
             [
              0.7777777777777778,
              "#fb9f3a"
             ],
             [
              0.8888888888888888,
              "#fdca26"
             ],
             [
              1,
              "#f0f921"
             ]
            ],
            "type": "heatmapgl"
           }
          ],
          "histogram": [
           {
            "marker": {
             "colorbar": {
              "outlinewidth": 0,
              "ticks": ""
             }
            },
            "type": "histogram"
           }
          ],
          "histogram2d": [
           {
            "colorbar": {
             "outlinewidth": 0,
             "ticks": ""
            },
            "colorscale": [
             [
              0,
              "#0d0887"
             ],
             [
              0.1111111111111111,
              "#46039f"
             ],
             [
              0.2222222222222222,
              "#7201a8"
             ],
             [
              0.3333333333333333,
              "#9c179e"
             ],
             [
              0.4444444444444444,
              "#bd3786"
             ],
             [
              0.5555555555555556,
              "#d8576b"
             ],
             [
              0.6666666666666666,
              "#ed7953"
             ],
             [
              0.7777777777777778,
              "#fb9f3a"
             ],
             [
              0.8888888888888888,
              "#fdca26"
             ],
             [
              1,
              "#f0f921"
             ]
            ],
            "type": "histogram2d"
           }
          ],
          "histogram2dcontour": [
           {
            "colorbar": {
             "outlinewidth": 0,
             "ticks": ""
            },
            "colorscale": [
             [
              0,
              "#0d0887"
             ],
             [
              0.1111111111111111,
              "#46039f"
             ],
             [
              0.2222222222222222,
              "#7201a8"
             ],
             [
              0.3333333333333333,
              "#9c179e"
             ],
             [
              0.4444444444444444,
              "#bd3786"
             ],
             [
              0.5555555555555556,
              "#d8576b"
             ],
             [
              0.6666666666666666,
              "#ed7953"
             ],
             [
              0.7777777777777778,
              "#fb9f3a"
             ],
             [
              0.8888888888888888,
              "#fdca26"
             ],
             [
              1,
              "#f0f921"
             ]
            ],
            "type": "histogram2dcontour"
           }
          ],
          "mesh3d": [
           {
            "colorbar": {
             "outlinewidth": 0,
             "ticks": ""
            },
            "type": "mesh3d"
           }
          ],
          "parcoords": [
           {
            "line": {
             "colorbar": {
              "outlinewidth": 0,
              "ticks": ""
             }
            },
            "type": "parcoords"
           }
          ],
          "pie": [
           {
            "automargin": true,
            "type": "pie"
           }
          ],
          "scatter": [
           {
            "marker": {
             "colorbar": {
              "outlinewidth": 0,
              "ticks": ""
             }
            },
            "type": "scatter"
           }
          ],
          "scatter3d": [
           {
            "line": {
             "colorbar": {
              "outlinewidth": 0,
              "ticks": ""
             }
            },
            "marker": {
             "colorbar": {
              "outlinewidth": 0,
              "ticks": ""
             }
            },
            "type": "scatter3d"
           }
          ],
          "scattercarpet": [
           {
            "marker": {
             "colorbar": {
              "outlinewidth": 0,
              "ticks": ""
             }
            },
            "type": "scattercarpet"
           }
          ],
          "scattergeo": [
           {
            "marker": {
             "colorbar": {
              "outlinewidth": 0,
              "ticks": ""
             }
            },
            "type": "scattergeo"
           }
          ],
          "scattergl": [
           {
            "marker": {
             "colorbar": {
              "outlinewidth": 0,
              "ticks": ""
             }
            },
            "type": "scattergl"
           }
          ],
          "scattermapbox": [
           {
            "marker": {
             "colorbar": {
              "outlinewidth": 0,
              "ticks": ""
             }
            },
            "type": "scattermapbox"
           }
          ],
          "scatterpolar": [
           {
            "marker": {
             "colorbar": {
              "outlinewidth": 0,
              "ticks": ""
             }
            },
            "type": "scatterpolar"
           }
          ],
          "scatterpolargl": [
           {
            "marker": {
             "colorbar": {
              "outlinewidth": 0,
              "ticks": ""
             }
            },
            "type": "scatterpolargl"
           }
          ],
          "scatterternary": [
           {
            "marker": {
             "colorbar": {
              "outlinewidth": 0,
              "ticks": ""
             }
            },
            "type": "scatterternary"
           }
          ],
          "surface": [
           {
            "colorbar": {
             "outlinewidth": 0,
             "ticks": ""
            },
            "colorscale": [
             [
              0,
              "#0d0887"
             ],
             [
              0.1111111111111111,
              "#46039f"
             ],
             [
              0.2222222222222222,
              "#7201a8"
             ],
             [
              0.3333333333333333,
              "#9c179e"
             ],
             [
              0.4444444444444444,
              "#bd3786"
             ],
             [
              0.5555555555555556,
              "#d8576b"
             ],
             [
              0.6666666666666666,
              "#ed7953"
             ],
             [
              0.7777777777777778,
              "#fb9f3a"
             ],
             [
              0.8888888888888888,
              "#fdca26"
             ],
             [
              1,
              "#f0f921"
             ]
            ],
            "type": "surface"
           }
          ],
          "table": [
           {
            "cells": {
             "fill": {
              "color": "#EBF0F8"
             },
             "line": {
              "color": "white"
             }
            },
            "header": {
             "fill": {
              "color": "#C8D4E3"
             },
             "line": {
              "color": "white"
             }
            },
            "type": "table"
           }
          ]
         },
         "layout": {
          "annotationdefaults": {
           "arrowcolor": "#2a3f5f",
           "arrowhead": 0,
           "arrowwidth": 1
          },
          "coloraxis": {
           "colorbar": {
            "outlinewidth": 0,
            "ticks": ""
           }
          },
          "colorscale": {
           "diverging": [
            [
             0,
             "#8e0152"
            ],
            [
             0.1,
             "#c51b7d"
            ],
            [
             0.2,
             "#de77ae"
            ],
            [
             0.3,
             "#f1b6da"
            ],
            [
             0.4,
             "#fde0ef"
            ],
            [
             0.5,
             "#f7f7f7"
            ],
            [
             0.6,
             "#e6f5d0"
            ],
            [
             0.7,
             "#b8e186"
            ],
            [
             0.8,
             "#7fbc41"
            ],
            [
             0.9,
             "#4d9221"
            ],
            [
             1,
             "#276419"
            ]
           ],
           "sequential": [
            [
             0,
             "#0d0887"
            ],
            [
             0.1111111111111111,
             "#46039f"
            ],
            [
             0.2222222222222222,
             "#7201a8"
            ],
            [
             0.3333333333333333,
             "#9c179e"
            ],
            [
             0.4444444444444444,
             "#bd3786"
            ],
            [
             0.5555555555555556,
             "#d8576b"
            ],
            [
             0.6666666666666666,
             "#ed7953"
            ],
            [
             0.7777777777777778,
             "#fb9f3a"
            ],
            [
             0.8888888888888888,
             "#fdca26"
            ],
            [
             1,
             "#f0f921"
            ]
           ],
           "sequentialminus": [
            [
             0,
             "#0d0887"
            ],
            [
             0.1111111111111111,
             "#46039f"
            ],
            [
             0.2222222222222222,
             "#7201a8"
            ],
            [
             0.3333333333333333,
             "#9c179e"
            ],
            [
             0.4444444444444444,
             "#bd3786"
            ],
            [
             0.5555555555555556,
             "#d8576b"
            ],
            [
             0.6666666666666666,
             "#ed7953"
            ],
            [
             0.7777777777777778,
             "#fb9f3a"
            ],
            [
             0.8888888888888888,
             "#fdca26"
            ],
            [
             1,
             "#f0f921"
            ]
           ]
          },
          "colorway": [
           "#636efa",
           "#EF553B",
           "#00cc96",
           "#ab63fa",
           "#FFA15A",
           "#19d3f3",
           "#FF6692",
           "#B6E880",
           "#FF97FF",
           "#FECB52"
          ],
          "font": {
           "color": "#2a3f5f"
          },
          "geo": {
           "bgcolor": "white",
           "lakecolor": "white",
           "landcolor": "#E5ECF6",
           "showlakes": true,
           "showland": true,
           "subunitcolor": "white"
          },
          "hoverlabel": {
           "align": "left"
          },
          "hovermode": "closest",
          "mapbox": {
           "style": "light"
          },
          "paper_bgcolor": "white",
          "plot_bgcolor": "#E5ECF6",
          "polar": {
           "angularaxis": {
            "gridcolor": "white",
            "linecolor": "white",
            "ticks": ""
           },
           "bgcolor": "#E5ECF6",
           "radialaxis": {
            "gridcolor": "white",
            "linecolor": "white",
            "ticks": ""
           }
          },
          "scene": {
           "xaxis": {
            "backgroundcolor": "#E5ECF6",
            "gridcolor": "white",
            "gridwidth": 2,
            "linecolor": "white",
            "showbackground": true,
            "ticks": "",
            "zerolinecolor": "white"
           },
           "yaxis": {
            "backgroundcolor": "#E5ECF6",
            "gridcolor": "white",
            "gridwidth": 2,
            "linecolor": "white",
            "showbackground": true,
            "ticks": "",
            "zerolinecolor": "white"
           },
           "zaxis": {
            "backgroundcolor": "#E5ECF6",
            "gridcolor": "white",
            "gridwidth": 2,
            "linecolor": "white",
            "showbackground": true,
            "ticks": "",
            "zerolinecolor": "white"
           }
          },
          "shapedefaults": {
           "line": {
            "color": "#2a3f5f"
           }
          },
          "ternary": {
           "aaxis": {
            "gridcolor": "white",
            "linecolor": "white",
            "ticks": ""
           },
           "baxis": {
            "gridcolor": "white",
            "linecolor": "white",
            "ticks": ""
           },
           "bgcolor": "#E5ECF6",
           "caxis": {
            "gridcolor": "white",
            "linecolor": "white",
            "ticks": ""
           }
          },
          "title": {
           "x": 0.05
          },
          "xaxis": {
           "automargin": true,
           "gridcolor": "white",
           "linecolor": "white",
           "ticks": "",
           "title": {
            "standoff": 15
           },
           "zerolinecolor": "white",
           "zerolinewidth": 2
          },
          "yaxis": {
           "automargin": true,
           "gridcolor": "white",
           "linecolor": "white",
           "ticks": "",
           "title": {
            "standoff": 15
           },
           "zerolinecolor": "white",
           "zerolinewidth": 2
          }
         }
        },
        "title": {
         "font": {
          "color": "#4D5663"
         }
        },
        "xaxis": {
         "gridcolor": "#E1E5ED",
         "showgrid": true,
         "tickfont": {
          "color": "#4D5663"
         },
         "title": {
          "font": {
           "color": "#4D5663"
          },
          "text": ""
         },
         "zerolinecolor": "#E1E5ED"
        },
        "yaxis": {
         "gridcolor": "#E1E5ED",
         "showgrid": true,
         "tickfont": {
          "color": "#4D5663"
         },
         "title": {
          "font": {
           "color": "#4D5663"
          },
          "text": ""
         },
         "zerolinecolor": "#E1E5ED"
        }
       }
      },
      "text/html": [
       "<div>\n",
       "        \n",
       "        \n",
       "            <div id=\"069335da-4041-4aad-b9d3-aa2ebf7e96cb\" class=\"plotly-graph-div\" style=\"height:525px; width:100%;\"></div>\n",
       "            <script type=\"text/javascript\">\n",
       "                require([\"plotly\"], function(Plotly) {\n",
       "                    window.PLOTLYENV=window.PLOTLYENV || {};\n",
       "                    window.PLOTLYENV.BASE_URL='https://plot.ly';\n",
       "                    \n",
       "                if (document.getElementById(\"069335da-4041-4aad-b9d3-aa2ebf7e96cb\")) {\n",
       "                    Plotly.newPlot(\n",
       "                        '069335da-4041-4aad-b9d3-aa2ebf7e96cb',\n",
       "                        [{\"line\": {\"color\": \"rgba(255, 153, 51, 1.0)\", \"dash\": \"solid\", \"shape\": \"linear\", \"width\": 1.3}, \"marker\": {\"size\": 12, \"symbol\": \"circle\"}, \"mode\": \"markers\", \"name\": \"B\", \"text\": \"\", \"type\": \"scatter\", \"x\": [-0.3528362464153668, -0.284490578588392, 2.203326375137168, 1.1914906229339413, -0.5643907599811814, 2.7798718153014357, 1.1392230478947218, -0.3969084492198873, -0.8431354506721372, -1.2113706937321673, -1.1232328854452367, 0.4518665654795515, 0.15108658835894914, -1.7197708096350655, -0.07078563077906978, -0.980891266191066, -2.0065915820068994, 0.04405074044947059, -0.1816391125056839, 0.7598049797859753, -1.096012407090366, -1.4973956161707278, -2.2293808754538005, -0.15494190096890462, -0.8404676595449304, -1.5864444840611043, -1.271828143859151, 0.233536485699503, 0.32955043668175693, 1.1595295612279588, -0.5278554404367857, -0.16303045205008881, -1.7674739515583324, 0.33892658874933296, 0.19685617323938542, 0.33023853338745474, 0.03730643652616613, 0.32496894629056994, 0.23244779523287074, -0.01842197648227652, -1.1672830340101563, -0.40440266128609065, 2.07759282848088, 0.14020699314040225, 0.11670666187449041, -1.3759216802724983, 2.3270704249878746, 0.3972406311737788, 0.17442023752997537, -0.2800525759529055, 0.4506210148099999, 2.6202326404140677, 1.0653150560571336, 1.7095140209602646, 0.7990198343521421, -0.8281912607199876, -0.806280334150687, 1.6979095908090678, -0.8672712204039527, 1.1005741543620384, -0.6546095261109552, 0.9048167986183359, -0.7100506115690377, 0.648084430407177, 0.9447881732500704, -0.4713552039565896, 0.21402616654041448, -0.935151045365892, 1.2150495379117552, -0.43140919672950967, -1.1891048756132958, 0.9847206464209383, 0.40945681494002684, -0.8066269723088334, -0.6687296314674605, -1.0238807147882825, -0.2700469623402802, 0.5690651238713944, 0.6865219970682781, 0.6483901625701793, 1.2905559982270822, 0.8178639588042602, 1.1575135611917569, -2.0984711888019745, -1.7762476161655396, -0.6748575307003194, -0.21849196898810175, -0.5753702112145309, -0.3920858562314582, 0.6970390930379042, -1.4429250467452353, -0.3166115618643759, -0.3519621812877541, -0.4525464016079805, 0.5423829440734289, -0.36691990004214553, -0.7611303390249726, 2.0511135768496143, -0.9598352743683791, -0.37398827024180453], \"y\": [-1.5145455118176767, -0.01367326820150052, -0.7829236033971367, 2.1758105864782173, 0.014005493606606743, -0.408817628815818, -1.9692976906687827, 0.7934251922172569, -0.10928246963521912, -1.8675911342151044, -0.291350381007704, -0.2861757143497499, 0.45182196198038505, -1.3540852014076956, 0.11849633147728272, -1.4831515290012542, -0.15594664619415652, 0.8218005891800004, -1.3196893908390053, 0.9516245220412897, 1.0245182381659395, -0.9086606060000463, 0.3667342867629603, 2.1748246081996387, -1.4412403414461203, 1.3547356288206962, 0.07448038483912717, -2.0463557158127803, -0.2466438968154346, 0.7427704569505088, 0.7393827811394357, 0.3470737898934057, -0.21339715374304669, -0.29843604210654695, -0.26984569594619834, -0.7380914719749732, 0.085445841445681, -0.03377606407086046, -0.20658488335554978, -0.2320627365179663, 0.6895012608888704, -1.9625798027603658, -1.3809616631815926, 1.270026636907869, -1.1676750826700475, 0.6835442102993022, -0.10819067203435048, -0.38848646939043074, -1.3146096093947917, 1.2343026179645644, -1.1578924940873192, 0.9311809476907813, -0.9408852209315937, 0.2777851236373851, -0.2792794125675632, 0.5699172325515569, 1.1815215185447847, -0.4101575978585351, -1.3520086334848345, -0.2206896804793058, -0.635846746095747, -2.2801475925723, -0.13273463837665134, -1.4357460149388654, -2.0947528958618142, -1.4043908765273556, 1.235437712356553, -0.2961297710843259, 0.712446862050636, -0.5733163055127384, 0.8724480526635303, 0.34296687693318517, -1.8772458375662273, 0.04838875314046682, 1.1439410329456652, -1.4074872363653521, -0.41353126423716985, -1.2891804111532066, -0.8016211831893039, -1.1778852829324677, 0.8601306959837082, -0.7846632368352668, 0.8951888056616729, -0.1209386568012941, 0.3507332670458818, 0.40839273692365535, 1.3923988082070355, 0.5898704076273781, 1.4937796385060818, 0.9554951083022206, -0.12453902532811652, -1.280101497255287, -0.8670228686188641, -0.6542483247746392, -0.27107332066291734, 1.7482116014051732, 1.6179167104189263, -0.627179728211577, 0.7520281731249727, -0.5689711239929849]}],\n",
       "                        {\"legend\": {\"bgcolor\": \"#F5F6F9\", \"font\": {\"color\": \"#4D5663\"}}, \"paper_bgcolor\": \"#F5F6F9\", \"plot_bgcolor\": \"#F5F6F9\", \"template\": {\"data\": {\"bar\": [{\"error_x\": {\"color\": \"#2a3f5f\"}, \"error_y\": {\"color\": \"#2a3f5f\"}, \"marker\": {\"line\": {\"color\": \"#E5ECF6\", \"width\": 0.5}}, \"type\": \"bar\"}], \"barpolar\": [{\"marker\": {\"line\": {\"color\": \"#E5ECF6\", \"width\": 0.5}}, \"type\": \"barpolar\"}], \"carpet\": [{\"aaxis\": {\"endlinecolor\": \"#2a3f5f\", \"gridcolor\": \"white\", \"linecolor\": \"white\", \"minorgridcolor\": \"white\", \"startlinecolor\": \"#2a3f5f\"}, \"baxis\": {\"endlinecolor\": \"#2a3f5f\", \"gridcolor\": \"white\", \"linecolor\": \"white\", \"minorgridcolor\": \"white\", \"startlinecolor\": \"#2a3f5f\"}, \"type\": \"carpet\"}], \"choropleth\": [{\"colorbar\": {\"outlinewidth\": 0, \"ticks\": \"\"}, \"type\": \"choropleth\"}], \"contour\": [{\"colorbar\": {\"outlinewidth\": 0, \"ticks\": \"\"}, \"colorscale\": [[0.0, \"#0d0887\"], [0.1111111111111111, \"#46039f\"], [0.2222222222222222, \"#7201a8\"], [0.3333333333333333, \"#9c179e\"], [0.4444444444444444, \"#bd3786\"], [0.5555555555555556, \"#d8576b\"], [0.6666666666666666, \"#ed7953\"], [0.7777777777777778, \"#fb9f3a\"], [0.8888888888888888, \"#fdca26\"], [1.0, \"#f0f921\"]], \"type\": \"contour\"}], \"contourcarpet\": [{\"colorbar\": {\"outlinewidth\": 0, \"ticks\": \"\"}, \"type\": \"contourcarpet\"}], \"heatmap\": [{\"colorbar\": {\"outlinewidth\": 0, \"ticks\": \"\"}, \"colorscale\": [[0.0, \"#0d0887\"], [0.1111111111111111, \"#46039f\"], [0.2222222222222222, \"#7201a8\"], [0.3333333333333333, \"#9c179e\"], [0.4444444444444444, \"#bd3786\"], [0.5555555555555556, \"#d8576b\"], [0.6666666666666666, \"#ed7953\"], [0.7777777777777778, \"#fb9f3a\"], [0.8888888888888888, \"#fdca26\"], [1.0, \"#f0f921\"]], \"type\": \"heatmap\"}], \"heatmapgl\": [{\"colorbar\": {\"outlinewidth\": 0, \"ticks\": \"\"}, \"colorscale\": [[0.0, \"#0d0887\"], [0.1111111111111111, \"#46039f\"], [0.2222222222222222, \"#7201a8\"], [0.3333333333333333, \"#9c179e\"], [0.4444444444444444, \"#bd3786\"], [0.5555555555555556, \"#d8576b\"], [0.6666666666666666, \"#ed7953\"], [0.7777777777777778, \"#fb9f3a\"], [0.8888888888888888, \"#fdca26\"], [1.0, \"#f0f921\"]], \"type\": \"heatmapgl\"}], \"histogram\": [{\"marker\": {\"colorbar\": {\"outlinewidth\": 0, \"ticks\": \"\"}}, \"type\": \"histogram\"}], \"histogram2d\": [{\"colorbar\": {\"outlinewidth\": 0, \"ticks\": \"\"}, \"colorscale\": [[0.0, \"#0d0887\"], [0.1111111111111111, \"#46039f\"], [0.2222222222222222, \"#7201a8\"], [0.3333333333333333, \"#9c179e\"], [0.4444444444444444, \"#bd3786\"], [0.5555555555555556, \"#d8576b\"], [0.6666666666666666, \"#ed7953\"], [0.7777777777777778, \"#fb9f3a\"], [0.8888888888888888, \"#fdca26\"], [1.0, \"#f0f921\"]], \"type\": \"histogram2d\"}], \"histogram2dcontour\": [{\"colorbar\": {\"outlinewidth\": 0, \"ticks\": \"\"}, \"colorscale\": [[0.0, \"#0d0887\"], [0.1111111111111111, \"#46039f\"], [0.2222222222222222, \"#7201a8\"], [0.3333333333333333, \"#9c179e\"], [0.4444444444444444, \"#bd3786\"], [0.5555555555555556, \"#d8576b\"], [0.6666666666666666, \"#ed7953\"], [0.7777777777777778, \"#fb9f3a\"], [0.8888888888888888, \"#fdca26\"], [1.0, \"#f0f921\"]], \"type\": \"histogram2dcontour\"}], \"mesh3d\": [{\"colorbar\": {\"outlinewidth\": 0, \"ticks\": \"\"}, \"type\": \"mesh3d\"}], \"parcoords\": [{\"line\": {\"colorbar\": {\"outlinewidth\": 0, \"ticks\": \"\"}}, \"type\": \"parcoords\"}], \"pie\": [{\"automargin\": true, \"type\": \"pie\"}], \"scatter\": [{\"marker\": {\"colorbar\": {\"outlinewidth\": 0, \"ticks\": \"\"}}, \"type\": \"scatter\"}], \"scatter3d\": [{\"line\": {\"colorbar\": {\"outlinewidth\": 0, \"ticks\": \"\"}}, \"marker\": {\"colorbar\": {\"outlinewidth\": 0, \"ticks\": \"\"}}, \"type\": \"scatter3d\"}], \"scattercarpet\": [{\"marker\": {\"colorbar\": {\"outlinewidth\": 0, \"ticks\": \"\"}}, \"type\": \"scattercarpet\"}], \"scattergeo\": [{\"marker\": {\"colorbar\": {\"outlinewidth\": 0, \"ticks\": \"\"}}, \"type\": \"scattergeo\"}], \"scattergl\": [{\"marker\": {\"colorbar\": {\"outlinewidth\": 0, \"ticks\": \"\"}}, \"type\": \"scattergl\"}], \"scattermapbox\": [{\"marker\": {\"colorbar\": {\"outlinewidth\": 0, \"ticks\": \"\"}}, \"type\": \"scattermapbox\"}], \"scatterpolar\": [{\"marker\": {\"colorbar\": {\"outlinewidth\": 0, \"ticks\": \"\"}}, \"type\": \"scatterpolar\"}], \"scatterpolargl\": [{\"marker\": {\"colorbar\": {\"outlinewidth\": 0, \"ticks\": \"\"}}, \"type\": \"scatterpolargl\"}], \"scatterternary\": [{\"marker\": {\"colorbar\": {\"outlinewidth\": 0, \"ticks\": \"\"}}, \"type\": \"scatterternary\"}], \"surface\": [{\"colorbar\": {\"outlinewidth\": 0, \"ticks\": \"\"}, \"colorscale\": [[0.0, \"#0d0887\"], [0.1111111111111111, \"#46039f\"], [0.2222222222222222, \"#7201a8\"], [0.3333333333333333, \"#9c179e\"], [0.4444444444444444, \"#bd3786\"], [0.5555555555555556, \"#d8576b\"], [0.6666666666666666, \"#ed7953\"], [0.7777777777777778, \"#fb9f3a\"], [0.8888888888888888, \"#fdca26\"], [1.0, \"#f0f921\"]], \"type\": \"surface\"}], \"table\": [{\"cells\": {\"fill\": {\"color\": \"#EBF0F8\"}, \"line\": {\"color\": \"white\"}}, \"header\": {\"fill\": {\"color\": \"#C8D4E3\"}, \"line\": {\"color\": \"white\"}}, \"type\": \"table\"}]}, \"layout\": {\"annotationdefaults\": {\"arrowcolor\": \"#2a3f5f\", \"arrowhead\": 0, \"arrowwidth\": 1}, \"coloraxis\": {\"colorbar\": {\"outlinewidth\": 0, \"ticks\": \"\"}}, \"colorscale\": {\"diverging\": [[0, \"#8e0152\"], [0.1, \"#c51b7d\"], [0.2, \"#de77ae\"], [0.3, \"#f1b6da\"], [0.4, \"#fde0ef\"], [0.5, \"#f7f7f7\"], [0.6, \"#e6f5d0\"], [0.7, \"#b8e186\"], [0.8, \"#7fbc41\"], [0.9, \"#4d9221\"], [1, \"#276419\"]], \"sequential\": [[0.0, \"#0d0887\"], [0.1111111111111111, \"#46039f\"], [0.2222222222222222, \"#7201a8\"], [0.3333333333333333, \"#9c179e\"], [0.4444444444444444, \"#bd3786\"], [0.5555555555555556, \"#d8576b\"], [0.6666666666666666, \"#ed7953\"], [0.7777777777777778, \"#fb9f3a\"], [0.8888888888888888, \"#fdca26\"], [1.0, \"#f0f921\"]], \"sequentialminus\": [[0.0, \"#0d0887\"], [0.1111111111111111, \"#46039f\"], [0.2222222222222222, \"#7201a8\"], [0.3333333333333333, \"#9c179e\"], [0.4444444444444444, \"#bd3786\"], [0.5555555555555556, \"#d8576b\"], [0.6666666666666666, \"#ed7953\"], [0.7777777777777778, \"#fb9f3a\"], [0.8888888888888888, \"#fdca26\"], [1.0, \"#f0f921\"]]}, \"colorway\": [\"#636efa\", \"#EF553B\", \"#00cc96\", \"#ab63fa\", \"#FFA15A\", \"#19d3f3\", \"#FF6692\", \"#B6E880\", \"#FF97FF\", \"#FECB52\"], \"font\": {\"color\": \"#2a3f5f\"}, \"geo\": {\"bgcolor\": \"white\", \"lakecolor\": \"white\", \"landcolor\": \"#E5ECF6\", \"showlakes\": true, \"showland\": true, \"subunitcolor\": \"white\"}, \"hoverlabel\": {\"align\": \"left\"}, \"hovermode\": \"closest\", \"mapbox\": {\"style\": \"light\"}, \"paper_bgcolor\": \"white\", \"plot_bgcolor\": \"#E5ECF6\", \"polar\": {\"angularaxis\": {\"gridcolor\": \"white\", \"linecolor\": \"white\", \"ticks\": \"\"}, \"bgcolor\": \"#E5ECF6\", \"radialaxis\": {\"gridcolor\": \"white\", \"linecolor\": \"white\", \"ticks\": \"\"}}, \"scene\": {\"xaxis\": {\"backgroundcolor\": \"#E5ECF6\", \"gridcolor\": \"white\", \"gridwidth\": 2, \"linecolor\": \"white\", \"showbackground\": true, \"ticks\": \"\", \"zerolinecolor\": \"white\"}, \"yaxis\": {\"backgroundcolor\": \"#E5ECF6\", \"gridcolor\": \"white\", \"gridwidth\": 2, \"linecolor\": \"white\", \"showbackground\": true, \"ticks\": \"\", \"zerolinecolor\": \"white\"}, \"zaxis\": {\"backgroundcolor\": \"#E5ECF6\", \"gridcolor\": \"white\", \"gridwidth\": 2, \"linecolor\": \"white\", \"showbackground\": true, \"ticks\": \"\", \"zerolinecolor\": \"white\"}}, \"shapedefaults\": {\"line\": {\"color\": \"#2a3f5f\"}}, \"ternary\": {\"aaxis\": {\"gridcolor\": \"white\", \"linecolor\": \"white\", \"ticks\": \"\"}, \"baxis\": {\"gridcolor\": \"white\", \"linecolor\": \"white\", \"ticks\": \"\"}, \"bgcolor\": \"#E5ECF6\", \"caxis\": {\"gridcolor\": \"white\", \"linecolor\": \"white\", \"ticks\": \"\"}}, \"title\": {\"x\": 0.05}, \"xaxis\": {\"automargin\": true, \"gridcolor\": \"white\", \"linecolor\": \"white\", \"ticks\": \"\", \"title\": {\"standoff\": 15}, \"zerolinecolor\": \"white\", \"zerolinewidth\": 2}, \"yaxis\": {\"automargin\": true, \"gridcolor\": \"white\", \"linecolor\": \"white\", \"ticks\": \"\", \"title\": {\"standoff\": 15}, \"zerolinecolor\": \"white\", \"zerolinewidth\": 2}}}, \"title\": {\"font\": {\"color\": \"#4D5663\"}}, \"xaxis\": {\"gridcolor\": \"#E1E5ED\", \"showgrid\": true, \"tickfont\": {\"color\": \"#4D5663\"}, \"title\": {\"font\": {\"color\": \"#4D5663\"}, \"text\": \"\"}, \"zerolinecolor\": \"#E1E5ED\"}, \"yaxis\": {\"gridcolor\": \"#E1E5ED\", \"showgrid\": true, \"tickfont\": {\"color\": \"#4D5663\"}, \"title\": {\"font\": {\"color\": \"#4D5663\"}, \"text\": \"\"}, \"zerolinecolor\": \"#E1E5ED\"}},\n",
       "                        {\"showLink\": true, \"linkText\": \"Export to plot.ly\", \"plotlyServerURL\": \"https://plot.ly\", \"responsive\": true}\n",
       "                    ).then(function(){\n",
       "                            \n",
       "var gd = document.getElementById('069335da-4041-4aad-b9d3-aa2ebf7e96cb');\n",
       "var x = new MutationObserver(function (mutations, observer) {{\n",
       "        var display = window.getComputedStyle(gd).display;\n",
       "        if (!display || display === 'none') {{\n",
       "            console.log([gd, 'removed!']);\n",
       "            Plotly.purge(gd);\n",
       "            observer.disconnect();\n",
       "        }}\n",
       "}});\n",
       "\n",
       "// Listen for the removal of the full notebook cells\n",
       "var notebookContainer = gd.closest('#notebook-container');\n",
       "if (notebookContainer) {{\n",
       "    x.observe(notebookContainer, {childList: true});\n",
       "}}\n",
       "\n",
       "// Listen for the clearing of the current output cell\n",
       "var outputEl = gd.closest('.output');\n",
       "if (outputEl) {{\n",
       "    x.observe(outputEl, {childList: true});\n",
       "}}\n",
       "\n",
       "                        })\n",
       "                };\n",
       "                });\n",
       "            </script>\n",
       "        </div>"
      ]
     },
     "metadata": {},
     "output_type": "display_data"
    }
   ],
   "source": [
    "# Note by default it tries to connect all the points\n",
    "df.iplot(kind='scatter', x='A', y='B', mode='markers')"
   ]
  },
  {
   "cell_type": "code",
   "execution_count": 15,
   "metadata": {},
   "outputs": [
    {
     "data": {
      "application/vnd.plotly.v1+json": {
       "config": {
        "linkText": "Export to plot.ly",
        "plotlyServerURL": "https://plot.ly",
        "showLink": true
       },
       "data": [
        {
         "marker": {
          "color": "rgba(255, 153, 51, 0.6)",
          "line": {
           "color": "rgba(255, 153, 51, 1.0)",
           "width": 1
          }
         },
         "name": "Values",
         "orientation": "v",
         "text": "",
         "type": "bar",
         "x": [
          "A",
          "B",
          "C"
         ],
         "y": [
          14,
          61,
          75
         ]
        }
       ],
       "layout": {
        "legend": {
         "bgcolor": "#F5F6F9",
         "font": {
          "color": "#4D5663"
         }
        },
        "paper_bgcolor": "#F5F6F9",
        "plot_bgcolor": "#F5F6F9",
        "template": {
         "data": {
          "bar": [
           {
            "error_x": {
             "color": "#2a3f5f"
            },
            "error_y": {
             "color": "#2a3f5f"
            },
            "marker": {
             "line": {
              "color": "#E5ECF6",
              "width": 0.5
             }
            },
            "type": "bar"
           }
          ],
          "barpolar": [
           {
            "marker": {
             "line": {
              "color": "#E5ECF6",
              "width": 0.5
             }
            },
            "type": "barpolar"
           }
          ],
          "carpet": [
           {
            "aaxis": {
             "endlinecolor": "#2a3f5f",
             "gridcolor": "white",
             "linecolor": "white",
             "minorgridcolor": "white",
             "startlinecolor": "#2a3f5f"
            },
            "baxis": {
             "endlinecolor": "#2a3f5f",
             "gridcolor": "white",
             "linecolor": "white",
             "minorgridcolor": "white",
             "startlinecolor": "#2a3f5f"
            },
            "type": "carpet"
           }
          ],
          "choropleth": [
           {
            "colorbar": {
             "outlinewidth": 0,
             "ticks": ""
            },
            "type": "choropleth"
           }
          ],
          "contour": [
           {
            "colorbar": {
             "outlinewidth": 0,
             "ticks": ""
            },
            "colorscale": [
             [
              0,
              "#0d0887"
             ],
             [
              0.1111111111111111,
              "#46039f"
             ],
             [
              0.2222222222222222,
              "#7201a8"
             ],
             [
              0.3333333333333333,
              "#9c179e"
             ],
             [
              0.4444444444444444,
              "#bd3786"
             ],
             [
              0.5555555555555556,
              "#d8576b"
             ],
             [
              0.6666666666666666,
              "#ed7953"
             ],
             [
              0.7777777777777778,
              "#fb9f3a"
             ],
             [
              0.8888888888888888,
              "#fdca26"
             ],
             [
              1,
              "#f0f921"
             ]
            ],
            "type": "contour"
           }
          ],
          "contourcarpet": [
           {
            "colorbar": {
             "outlinewidth": 0,
             "ticks": ""
            },
            "type": "contourcarpet"
           }
          ],
          "heatmap": [
           {
            "colorbar": {
             "outlinewidth": 0,
             "ticks": ""
            },
            "colorscale": [
             [
              0,
              "#0d0887"
             ],
             [
              0.1111111111111111,
              "#46039f"
             ],
             [
              0.2222222222222222,
              "#7201a8"
             ],
             [
              0.3333333333333333,
              "#9c179e"
             ],
             [
              0.4444444444444444,
              "#bd3786"
             ],
             [
              0.5555555555555556,
              "#d8576b"
             ],
             [
              0.6666666666666666,
              "#ed7953"
             ],
             [
              0.7777777777777778,
              "#fb9f3a"
             ],
             [
              0.8888888888888888,
              "#fdca26"
             ],
             [
              1,
              "#f0f921"
             ]
            ],
            "type": "heatmap"
           }
          ],
          "heatmapgl": [
           {
            "colorbar": {
             "outlinewidth": 0,
             "ticks": ""
            },
            "colorscale": [
             [
              0,
              "#0d0887"
             ],
             [
              0.1111111111111111,
              "#46039f"
             ],
             [
              0.2222222222222222,
              "#7201a8"
             ],
             [
              0.3333333333333333,
              "#9c179e"
             ],
             [
              0.4444444444444444,
              "#bd3786"
             ],
             [
              0.5555555555555556,
              "#d8576b"
             ],
             [
              0.6666666666666666,
              "#ed7953"
             ],
             [
              0.7777777777777778,
              "#fb9f3a"
             ],
             [
              0.8888888888888888,
              "#fdca26"
             ],
             [
              1,
              "#f0f921"
             ]
            ],
            "type": "heatmapgl"
           }
          ],
          "histogram": [
           {
            "marker": {
             "colorbar": {
              "outlinewidth": 0,
              "ticks": ""
             }
            },
            "type": "histogram"
           }
          ],
          "histogram2d": [
           {
            "colorbar": {
             "outlinewidth": 0,
             "ticks": ""
            },
            "colorscale": [
             [
              0,
              "#0d0887"
             ],
             [
              0.1111111111111111,
              "#46039f"
             ],
             [
              0.2222222222222222,
              "#7201a8"
             ],
             [
              0.3333333333333333,
              "#9c179e"
             ],
             [
              0.4444444444444444,
              "#bd3786"
             ],
             [
              0.5555555555555556,
              "#d8576b"
             ],
             [
              0.6666666666666666,
              "#ed7953"
             ],
             [
              0.7777777777777778,
              "#fb9f3a"
             ],
             [
              0.8888888888888888,
              "#fdca26"
             ],
             [
              1,
              "#f0f921"
             ]
            ],
            "type": "histogram2d"
           }
          ],
          "histogram2dcontour": [
           {
            "colorbar": {
             "outlinewidth": 0,
             "ticks": ""
            },
            "colorscale": [
             [
              0,
              "#0d0887"
             ],
             [
              0.1111111111111111,
              "#46039f"
             ],
             [
              0.2222222222222222,
              "#7201a8"
             ],
             [
              0.3333333333333333,
              "#9c179e"
             ],
             [
              0.4444444444444444,
              "#bd3786"
             ],
             [
              0.5555555555555556,
              "#d8576b"
             ],
             [
              0.6666666666666666,
              "#ed7953"
             ],
             [
              0.7777777777777778,
              "#fb9f3a"
             ],
             [
              0.8888888888888888,
              "#fdca26"
             ],
             [
              1,
              "#f0f921"
             ]
            ],
            "type": "histogram2dcontour"
           }
          ],
          "mesh3d": [
           {
            "colorbar": {
             "outlinewidth": 0,
             "ticks": ""
            },
            "type": "mesh3d"
           }
          ],
          "parcoords": [
           {
            "line": {
             "colorbar": {
              "outlinewidth": 0,
              "ticks": ""
             }
            },
            "type": "parcoords"
           }
          ],
          "pie": [
           {
            "automargin": true,
            "type": "pie"
           }
          ],
          "scatter": [
           {
            "marker": {
             "colorbar": {
              "outlinewidth": 0,
              "ticks": ""
             }
            },
            "type": "scatter"
           }
          ],
          "scatter3d": [
           {
            "line": {
             "colorbar": {
              "outlinewidth": 0,
              "ticks": ""
             }
            },
            "marker": {
             "colorbar": {
              "outlinewidth": 0,
              "ticks": ""
             }
            },
            "type": "scatter3d"
           }
          ],
          "scattercarpet": [
           {
            "marker": {
             "colorbar": {
              "outlinewidth": 0,
              "ticks": ""
             }
            },
            "type": "scattercarpet"
           }
          ],
          "scattergeo": [
           {
            "marker": {
             "colorbar": {
              "outlinewidth": 0,
              "ticks": ""
             }
            },
            "type": "scattergeo"
           }
          ],
          "scattergl": [
           {
            "marker": {
             "colorbar": {
              "outlinewidth": 0,
              "ticks": ""
             }
            },
            "type": "scattergl"
           }
          ],
          "scattermapbox": [
           {
            "marker": {
             "colorbar": {
              "outlinewidth": 0,
              "ticks": ""
             }
            },
            "type": "scattermapbox"
           }
          ],
          "scatterpolar": [
           {
            "marker": {
             "colorbar": {
              "outlinewidth": 0,
              "ticks": ""
             }
            },
            "type": "scatterpolar"
           }
          ],
          "scatterpolargl": [
           {
            "marker": {
             "colorbar": {
              "outlinewidth": 0,
              "ticks": ""
             }
            },
            "type": "scatterpolargl"
           }
          ],
          "scatterternary": [
           {
            "marker": {
             "colorbar": {
              "outlinewidth": 0,
              "ticks": ""
             }
            },
            "type": "scatterternary"
           }
          ],
          "surface": [
           {
            "colorbar": {
             "outlinewidth": 0,
             "ticks": ""
            },
            "colorscale": [
             [
              0,
              "#0d0887"
             ],
             [
              0.1111111111111111,
              "#46039f"
             ],
             [
              0.2222222222222222,
              "#7201a8"
             ],
             [
              0.3333333333333333,
              "#9c179e"
             ],
             [
              0.4444444444444444,
              "#bd3786"
             ],
             [
              0.5555555555555556,
              "#d8576b"
             ],
             [
              0.6666666666666666,
              "#ed7953"
             ],
             [
              0.7777777777777778,
              "#fb9f3a"
             ],
             [
              0.8888888888888888,
              "#fdca26"
             ],
             [
              1,
              "#f0f921"
             ]
            ],
            "type": "surface"
           }
          ],
          "table": [
           {
            "cells": {
             "fill": {
              "color": "#EBF0F8"
             },
             "line": {
              "color": "white"
             }
            },
            "header": {
             "fill": {
              "color": "#C8D4E3"
             },
             "line": {
              "color": "white"
             }
            },
            "type": "table"
           }
          ]
         },
         "layout": {
          "annotationdefaults": {
           "arrowcolor": "#2a3f5f",
           "arrowhead": 0,
           "arrowwidth": 1
          },
          "coloraxis": {
           "colorbar": {
            "outlinewidth": 0,
            "ticks": ""
           }
          },
          "colorscale": {
           "diverging": [
            [
             0,
             "#8e0152"
            ],
            [
             0.1,
             "#c51b7d"
            ],
            [
             0.2,
             "#de77ae"
            ],
            [
             0.3,
             "#f1b6da"
            ],
            [
             0.4,
             "#fde0ef"
            ],
            [
             0.5,
             "#f7f7f7"
            ],
            [
             0.6,
             "#e6f5d0"
            ],
            [
             0.7,
             "#b8e186"
            ],
            [
             0.8,
             "#7fbc41"
            ],
            [
             0.9,
             "#4d9221"
            ],
            [
             1,
             "#276419"
            ]
           ],
           "sequential": [
            [
             0,
             "#0d0887"
            ],
            [
             0.1111111111111111,
             "#46039f"
            ],
            [
             0.2222222222222222,
             "#7201a8"
            ],
            [
             0.3333333333333333,
             "#9c179e"
            ],
            [
             0.4444444444444444,
             "#bd3786"
            ],
            [
             0.5555555555555556,
             "#d8576b"
            ],
            [
             0.6666666666666666,
             "#ed7953"
            ],
            [
             0.7777777777777778,
             "#fb9f3a"
            ],
            [
             0.8888888888888888,
             "#fdca26"
            ],
            [
             1,
             "#f0f921"
            ]
           ],
           "sequentialminus": [
            [
             0,
             "#0d0887"
            ],
            [
             0.1111111111111111,
             "#46039f"
            ],
            [
             0.2222222222222222,
             "#7201a8"
            ],
            [
             0.3333333333333333,
             "#9c179e"
            ],
            [
             0.4444444444444444,
             "#bd3786"
            ],
            [
             0.5555555555555556,
             "#d8576b"
            ],
            [
             0.6666666666666666,
             "#ed7953"
            ],
            [
             0.7777777777777778,
             "#fb9f3a"
            ],
            [
             0.8888888888888888,
             "#fdca26"
            ],
            [
             1,
             "#f0f921"
            ]
           ]
          },
          "colorway": [
           "#636efa",
           "#EF553B",
           "#00cc96",
           "#ab63fa",
           "#FFA15A",
           "#19d3f3",
           "#FF6692",
           "#B6E880",
           "#FF97FF",
           "#FECB52"
          ],
          "font": {
           "color": "#2a3f5f"
          },
          "geo": {
           "bgcolor": "white",
           "lakecolor": "white",
           "landcolor": "#E5ECF6",
           "showlakes": true,
           "showland": true,
           "subunitcolor": "white"
          },
          "hoverlabel": {
           "align": "left"
          },
          "hovermode": "closest",
          "mapbox": {
           "style": "light"
          },
          "paper_bgcolor": "white",
          "plot_bgcolor": "#E5ECF6",
          "polar": {
           "angularaxis": {
            "gridcolor": "white",
            "linecolor": "white",
            "ticks": ""
           },
           "bgcolor": "#E5ECF6",
           "radialaxis": {
            "gridcolor": "white",
            "linecolor": "white",
            "ticks": ""
           }
          },
          "scene": {
           "xaxis": {
            "backgroundcolor": "#E5ECF6",
            "gridcolor": "white",
            "gridwidth": 2,
            "linecolor": "white",
            "showbackground": true,
            "ticks": "",
            "zerolinecolor": "white"
           },
           "yaxis": {
            "backgroundcolor": "#E5ECF6",
            "gridcolor": "white",
            "gridwidth": 2,
            "linecolor": "white",
            "showbackground": true,
            "ticks": "",
            "zerolinecolor": "white"
           },
           "zaxis": {
            "backgroundcolor": "#E5ECF6",
            "gridcolor": "white",
            "gridwidth": 2,
            "linecolor": "white",
            "showbackground": true,
            "ticks": "",
            "zerolinecolor": "white"
           }
          },
          "shapedefaults": {
           "line": {
            "color": "#2a3f5f"
           }
          },
          "ternary": {
           "aaxis": {
            "gridcolor": "white",
            "linecolor": "white",
            "ticks": ""
           },
           "baxis": {
            "gridcolor": "white",
            "linecolor": "white",
            "ticks": ""
           },
           "bgcolor": "#E5ECF6",
           "caxis": {
            "gridcolor": "white",
            "linecolor": "white",
            "ticks": ""
           }
          },
          "title": {
           "x": 0.05
          },
          "xaxis": {
           "automargin": true,
           "gridcolor": "white",
           "linecolor": "white",
           "ticks": "",
           "title": {
            "standoff": 15
           },
           "zerolinecolor": "white",
           "zerolinewidth": 2
          },
          "yaxis": {
           "automargin": true,
           "gridcolor": "white",
           "linecolor": "white",
           "ticks": "",
           "title": {
            "standoff": 15
           },
           "zerolinecolor": "white",
           "zerolinewidth": 2
          }
         }
        },
        "title": {
         "font": {
          "color": "#4D5663"
         }
        },
        "xaxis": {
         "gridcolor": "#E1E5ED",
         "showgrid": true,
         "tickfont": {
          "color": "#4D5663"
         },
         "title": {
          "font": {
           "color": "#4D5663"
          },
          "text": ""
         },
         "zerolinecolor": "#E1E5ED"
        },
        "yaxis": {
         "gridcolor": "#E1E5ED",
         "showgrid": true,
         "tickfont": {
          "color": "#4D5663"
         },
         "title": {
          "font": {
           "color": "#4D5663"
          },
          "text": ""
         },
         "zerolinecolor": "#E1E5ED"
        }
       }
      },
      "text/html": [
       "<div>\n",
       "        \n",
       "        \n",
       "            <div id=\"e680f70e-3aab-455f-89f0-83164a1a395e\" class=\"plotly-graph-div\" style=\"height:525px; width:100%;\"></div>\n",
       "            <script type=\"text/javascript\">\n",
       "                require([\"plotly\"], function(Plotly) {\n",
       "                    window.PLOTLYENV=window.PLOTLYENV || {};\n",
       "                    window.PLOTLYENV.BASE_URL='https://plot.ly';\n",
       "                    \n",
       "                if (document.getElementById(\"e680f70e-3aab-455f-89f0-83164a1a395e\")) {\n",
       "                    Plotly.newPlot(\n",
       "                        'e680f70e-3aab-455f-89f0-83164a1a395e',\n",
       "                        [{\"marker\": {\"color\": \"rgba(255, 153, 51, 0.6)\", \"line\": {\"color\": \"rgba(255, 153, 51, 1.0)\", \"width\": 1}}, \"name\": \"Values\", \"orientation\": \"v\", \"text\": \"\", \"type\": \"bar\", \"x\": [\"A\", \"B\", \"C\"], \"y\": [14, 61, 75]}],\n",
       "                        {\"legend\": {\"bgcolor\": \"#F5F6F9\", \"font\": {\"color\": \"#4D5663\"}}, \"paper_bgcolor\": \"#F5F6F9\", \"plot_bgcolor\": \"#F5F6F9\", \"template\": {\"data\": {\"bar\": [{\"error_x\": {\"color\": \"#2a3f5f\"}, \"error_y\": {\"color\": \"#2a3f5f\"}, \"marker\": {\"line\": {\"color\": \"#E5ECF6\", \"width\": 0.5}}, \"type\": \"bar\"}], \"barpolar\": [{\"marker\": {\"line\": {\"color\": \"#E5ECF6\", \"width\": 0.5}}, \"type\": \"barpolar\"}], \"carpet\": [{\"aaxis\": {\"endlinecolor\": \"#2a3f5f\", \"gridcolor\": \"white\", \"linecolor\": \"white\", \"minorgridcolor\": \"white\", \"startlinecolor\": \"#2a3f5f\"}, \"baxis\": {\"endlinecolor\": \"#2a3f5f\", \"gridcolor\": \"white\", \"linecolor\": \"white\", \"minorgridcolor\": \"white\", \"startlinecolor\": \"#2a3f5f\"}, \"type\": \"carpet\"}], \"choropleth\": [{\"colorbar\": {\"outlinewidth\": 0, \"ticks\": \"\"}, \"type\": \"choropleth\"}], \"contour\": [{\"colorbar\": {\"outlinewidth\": 0, \"ticks\": \"\"}, \"colorscale\": [[0.0, \"#0d0887\"], [0.1111111111111111, \"#46039f\"], [0.2222222222222222, \"#7201a8\"], [0.3333333333333333, \"#9c179e\"], [0.4444444444444444, \"#bd3786\"], [0.5555555555555556, \"#d8576b\"], [0.6666666666666666, \"#ed7953\"], [0.7777777777777778, \"#fb9f3a\"], [0.8888888888888888, \"#fdca26\"], [1.0, \"#f0f921\"]], \"type\": \"contour\"}], \"contourcarpet\": [{\"colorbar\": {\"outlinewidth\": 0, \"ticks\": \"\"}, \"type\": \"contourcarpet\"}], \"heatmap\": [{\"colorbar\": {\"outlinewidth\": 0, \"ticks\": \"\"}, \"colorscale\": [[0.0, \"#0d0887\"], [0.1111111111111111, \"#46039f\"], [0.2222222222222222, \"#7201a8\"], [0.3333333333333333, \"#9c179e\"], [0.4444444444444444, \"#bd3786\"], [0.5555555555555556, \"#d8576b\"], [0.6666666666666666, \"#ed7953\"], [0.7777777777777778, \"#fb9f3a\"], [0.8888888888888888, \"#fdca26\"], [1.0, \"#f0f921\"]], \"type\": \"heatmap\"}], \"heatmapgl\": [{\"colorbar\": {\"outlinewidth\": 0, \"ticks\": \"\"}, \"colorscale\": [[0.0, \"#0d0887\"], [0.1111111111111111, \"#46039f\"], [0.2222222222222222, \"#7201a8\"], [0.3333333333333333, \"#9c179e\"], [0.4444444444444444, \"#bd3786\"], [0.5555555555555556, \"#d8576b\"], [0.6666666666666666, \"#ed7953\"], [0.7777777777777778, \"#fb9f3a\"], [0.8888888888888888, \"#fdca26\"], [1.0, \"#f0f921\"]], \"type\": \"heatmapgl\"}], \"histogram\": [{\"marker\": {\"colorbar\": {\"outlinewidth\": 0, \"ticks\": \"\"}}, \"type\": \"histogram\"}], \"histogram2d\": [{\"colorbar\": {\"outlinewidth\": 0, \"ticks\": \"\"}, \"colorscale\": [[0.0, \"#0d0887\"], [0.1111111111111111, \"#46039f\"], [0.2222222222222222, \"#7201a8\"], [0.3333333333333333, \"#9c179e\"], [0.4444444444444444, \"#bd3786\"], [0.5555555555555556, \"#d8576b\"], [0.6666666666666666, \"#ed7953\"], [0.7777777777777778, \"#fb9f3a\"], [0.8888888888888888, \"#fdca26\"], [1.0, \"#f0f921\"]], \"type\": \"histogram2d\"}], \"histogram2dcontour\": [{\"colorbar\": {\"outlinewidth\": 0, \"ticks\": \"\"}, \"colorscale\": [[0.0, \"#0d0887\"], [0.1111111111111111, \"#46039f\"], [0.2222222222222222, \"#7201a8\"], [0.3333333333333333, \"#9c179e\"], [0.4444444444444444, \"#bd3786\"], [0.5555555555555556, \"#d8576b\"], [0.6666666666666666, \"#ed7953\"], [0.7777777777777778, \"#fb9f3a\"], [0.8888888888888888, \"#fdca26\"], [1.0, \"#f0f921\"]], \"type\": \"histogram2dcontour\"}], \"mesh3d\": [{\"colorbar\": {\"outlinewidth\": 0, \"ticks\": \"\"}, \"type\": \"mesh3d\"}], \"parcoords\": [{\"line\": {\"colorbar\": {\"outlinewidth\": 0, \"ticks\": \"\"}}, \"type\": \"parcoords\"}], \"pie\": [{\"automargin\": true, \"type\": \"pie\"}], \"scatter\": [{\"marker\": {\"colorbar\": {\"outlinewidth\": 0, \"ticks\": \"\"}}, \"type\": \"scatter\"}], \"scatter3d\": [{\"line\": {\"colorbar\": {\"outlinewidth\": 0, \"ticks\": \"\"}}, \"marker\": {\"colorbar\": {\"outlinewidth\": 0, \"ticks\": \"\"}}, \"type\": \"scatter3d\"}], \"scattercarpet\": [{\"marker\": {\"colorbar\": {\"outlinewidth\": 0, \"ticks\": \"\"}}, \"type\": \"scattercarpet\"}], \"scattergeo\": [{\"marker\": {\"colorbar\": {\"outlinewidth\": 0, \"ticks\": \"\"}}, \"type\": \"scattergeo\"}], \"scattergl\": [{\"marker\": {\"colorbar\": {\"outlinewidth\": 0, \"ticks\": \"\"}}, \"type\": \"scattergl\"}], \"scattermapbox\": [{\"marker\": {\"colorbar\": {\"outlinewidth\": 0, \"ticks\": \"\"}}, \"type\": \"scattermapbox\"}], \"scatterpolar\": [{\"marker\": {\"colorbar\": {\"outlinewidth\": 0, \"ticks\": \"\"}}, \"type\": \"scatterpolar\"}], \"scatterpolargl\": [{\"marker\": {\"colorbar\": {\"outlinewidth\": 0, \"ticks\": \"\"}}, \"type\": \"scatterpolargl\"}], \"scatterternary\": [{\"marker\": {\"colorbar\": {\"outlinewidth\": 0, \"ticks\": \"\"}}, \"type\": \"scatterternary\"}], \"surface\": [{\"colorbar\": {\"outlinewidth\": 0, \"ticks\": \"\"}, \"colorscale\": [[0.0, \"#0d0887\"], [0.1111111111111111, \"#46039f\"], [0.2222222222222222, \"#7201a8\"], [0.3333333333333333, \"#9c179e\"], [0.4444444444444444, \"#bd3786\"], [0.5555555555555556, \"#d8576b\"], [0.6666666666666666, \"#ed7953\"], [0.7777777777777778, \"#fb9f3a\"], [0.8888888888888888, \"#fdca26\"], [1.0, \"#f0f921\"]], \"type\": \"surface\"}], \"table\": [{\"cells\": {\"fill\": {\"color\": \"#EBF0F8\"}, \"line\": {\"color\": \"white\"}}, \"header\": {\"fill\": {\"color\": \"#C8D4E3\"}, \"line\": {\"color\": \"white\"}}, \"type\": \"table\"}]}, \"layout\": {\"annotationdefaults\": {\"arrowcolor\": \"#2a3f5f\", \"arrowhead\": 0, \"arrowwidth\": 1}, \"coloraxis\": {\"colorbar\": {\"outlinewidth\": 0, \"ticks\": \"\"}}, \"colorscale\": {\"diverging\": [[0, \"#8e0152\"], [0.1, \"#c51b7d\"], [0.2, \"#de77ae\"], [0.3, \"#f1b6da\"], [0.4, \"#fde0ef\"], [0.5, \"#f7f7f7\"], [0.6, \"#e6f5d0\"], [0.7, \"#b8e186\"], [0.8, \"#7fbc41\"], [0.9, \"#4d9221\"], [1, \"#276419\"]], \"sequential\": [[0.0, \"#0d0887\"], [0.1111111111111111, \"#46039f\"], [0.2222222222222222, \"#7201a8\"], [0.3333333333333333, \"#9c179e\"], [0.4444444444444444, \"#bd3786\"], [0.5555555555555556, \"#d8576b\"], [0.6666666666666666, \"#ed7953\"], [0.7777777777777778, \"#fb9f3a\"], [0.8888888888888888, \"#fdca26\"], [1.0, \"#f0f921\"]], \"sequentialminus\": [[0.0, \"#0d0887\"], [0.1111111111111111, \"#46039f\"], [0.2222222222222222, \"#7201a8\"], [0.3333333333333333, \"#9c179e\"], [0.4444444444444444, \"#bd3786\"], [0.5555555555555556, \"#d8576b\"], [0.6666666666666666, \"#ed7953\"], [0.7777777777777778, \"#fb9f3a\"], [0.8888888888888888, \"#fdca26\"], [1.0, \"#f0f921\"]]}, \"colorway\": [\"#636efa\", \"#EF553B\", \"#00cc96\", \"#ab63fa\", \"#FFA15A\", \"#19d3f3\", \"#FF6692\", \"#B6E880\", \"#FF97FF\", \"#FECB52\"], \"font\": {\"color\": \"#2a3f5f\"}, \"geo\": {\"bgcolor\": \"white\", \"lakecolor\": \"white\", \"landcolor\": \"#E5ECF6\", \"showlakes\": true, \"showland\": true, \"subunitcolor\": \"white\"}, \"hoverlabel\": {\"align\": \"left\"}, \"hovermode\": \"closest\", \"mapbox\": {\"style\": \"light\"}, \"paper_bgcolor\": \"white\", \"plot_bgcolor\": \"#E5ECF6\", \"polar\": {\"angularaxis\": {\"gridcolor\": \"white\", \"linecolor\": \"white\", \"ticks\": \"\"}, \"bgcolor\": \"#E5ECF6\", \"radialaxis\": {\"gridcolor\": \"white\", \"linecolor\": \"white\", \"ticks\": \"\"}}, \"scene\": {\"xaxis\": {\"backgroundcolor\": \"#E5ECF6\", \"gridcolor\": \"white\", \"gridwidth\": 2, \"linecolor\": \"white\", \"showbackground\": true, \"ticks\": \"\", \"zerolinecolor\": \"white\"}, \"yaxis\": {\"backgroundcolor\": \"#E5ECF6\", \"gridcolor\": \"white\", \"gridwidth\": 2, \"linecolor\": \"white\", \"showbackground\": true, \"ticks\": \"\", \"zerolinecolor\": \"white\"}, \"zaxis\": {\"backgroundcolor\": \"#E5ECF6\", \"gridcolor\": \"white\", \"gridwidth\": 2, \"linecolor\": \"white\", \"showbackground\": true, \"ticks\": \"\", \"zerolinecolor\": \"white\"}}, \"shapedefaults\": {\"line\": {\"color\": \"#2a3f5f\"}}, \"ternary\": {\"aaxis\": {\"gridcolor\": \"white\", \"linecolor\": \"white\", \"ticks\": \"\"}, \"baxis\": {\"gridcolor\": \"white\", \"linecolor\": \"white\", \"ticks\": \"\"}, \"bgcolor\": \"#E5ECF6\", \"caxis\": {\"gridcolor\": \"white\", \"linecolor\": \"white\", \"ticks\": \"\"}}, \"title\": {\"x\": 0.05}, \"xaxis\": {\"automargin\": true, \"gridcolor\": \"white\", \"linecolor\": \"white\", \"ticks\": \"\", \"title\": {\"standoff\": 15}, \"zerolinecolor\": \"white\", \"zerolinewidth\": 2}, \"yaxis\": {\"automargin\": true, \"gridcolor\": \"white\", \"linecolor\": \"white\", \"ticks\": \"\", \"title\": {\"standoff\": 15}, \"zerolinecolor\": \"white\", \"zerolinewidth\": 2}}}, \"title\": {\"font\": {\"color\": \"#4D5663\"}}, \"xaxis\": {\"gridcolor\": \"#E1E5ED\", \"showgrid\": true, \"tickfont\": {\"color\": \"#4D5663\"}, \"title\": {\"font\": {\"color\": \"#4D5663\"}, \"text\": \"\"}, \"zerolinecolor\": \"#E1E5ED\"}, \"yaxis\": {\"gridcolor\": \"#E1E5ED\", \"showgrid\": true, \"tickfont\": {\"color\": \"#4D5663\"}, \"title\": {\"font\": {\"color\": \"#4D5663\"}, \"text\": \"\"}, \"zerolinecolor\": \"#E1E5ED\"}},\n",
       "                        {\"showLink\": true, \"linkText\": \"Export to plot.ly\", \"plotlyServerURL\": \"https://plot.ly\", \"responsive\": true}\n",
       "                    ).then(function(){\n",
       "                            \n",
       "var gd = document.getElementById('e680f70e-3aab-455f-89f0-83164a1a395e');\n",
       "var x = new MutationObserver(function (mutations, observer) {{\n",
       "        var display = window.getComputedStyle(gd).display;\n",
       "        if (!display || display === 'none') {{\n",
       "            console.log([gd, 'removed!']);\n",
       "            Plotly.purge(gd);\n",
       "            observer.disconnect();\n",
       "        }}\n",
       "}});\n",
       "\n",
       "// Listen for the removal of the full notebook cells\n",
       "var notebookContainer = gd.closest('#notebook-container');\n",
       "if (notebookContainer) {{\n",
       "    x.observe(notebookContainer, {childList: true});\n",
       "}}\n",
       "\n",
       "// Listen for the clearing of the current output cell\n",
       "var outputEl = gd.closest('.output');\n",
       "if (outputEl) {{\n",
       "    x.observe(outputEl, {childList: true});\n",
       "}}\n",
       "\n",
       "                        })\n",
       "                };\n",
       "                });\n",
       "            </script>\n",
       "        </div>"
      ]
     },
     "metadata": {},
     "output_type": "display_data"
    }
   ],
   "source": [
    "df2.iplot(kind='bar', x='Category', y='Values')"
   ]
  },
  {
   "cell_type": "code",
   "execution_count": 16,
   "metadata": {},
   "outputs": [
    {
     "data": {
      "text/html": [
       "<div>\n",
       "<style scoped>\n",
       "    .dataframe tbody tr th:only-of-type {\n",
       "        vertical-align: middle;\n",
       "    }\n",
       "\n",
       "    .dataframe tbody tr th {\n",
       "        vertical-align: top;\n",
       "    }\n",
       "\n",
       "    .dataframe thead th {\n",
       "        text-align: right;\n",
       "    }\n",
       "</style>\n",
       "<table border=\"1\" class=\"dataframe\">\n",
       "  <thead>\n",
       "    <tr style=\"text-align: right;\">\n",
       "      <th></th>\n",
       "      <th>A</th>\n",
       "      <th>B</th>\n",
       "      <th>C</th>\n",
       "      <th>D</th>\n",
       "    </tr>\n",
       "  </thead>\n",
       "  <tbody>\n",
       "    <tr>\n",
       "      <th>0</th>\n",
       "      <td>-0.352836</td>\n",
       "      <td>-1.514546</td>\n",
       "      <td>-2.370402</td>\n",
       "      <td>0.553739</td>\n",
       "    </tr>\n",
       "    <tr>\n",
       "      <th>1</th>\n",
       "      <td>-0.284491</td>\n",
       "      <td>-0.013673</td>\n",
       "      <td>0.710914</td>\n",
       "      <td>1.727573</td>\n",
       "    </tr>\n",
       "    <tr>\n",
       "      <th>2</th>\n",
       "      <td>2.203326</td>\n",
       "      <td>-0.782924</td>\n",
       "      <td>0.630963</td>\n",
       "      <td>1.216431</td>\n",
       "    </tr>\n",
       "    <tr>\n",
       "      <th>3</th>\n",
       "      <td>1.191491</td>\n",
       "      <td>2.175811</td>\n",
       "      <td>-2.844286</td>\n",
       "      <td>-0.357619</td>\n",
       "    </tr>\n",
       "    <tr>\n",
       "      <th>4</th>\n",
       "      <td>-0.564391</td>\n",
       "      <td>0.014005</td>\n",
       "      <td>-0.003781</td>\n",
       "      <td>-0.276638</td>\n",
       "    </tr>\n",
       "  </tbody>\n",
       "</table>\n",
       "</div>"
      ],
      "text/plain": [
       "          A         B         C         D\n",
       "0 -0.352836 -1.514546 -2.370402  0.553739\n",
       "1 -0.284491 -0.013673  0.710914  1.727573\n",
       "2  2.203326 -0.782924  0.630963  1.216431\n",
       "3  1.191491  2.175811 -2.844286 -0.357619\n",
       "4 -0.564391  0.014005 -0.003781 -0.276638"
      ]
     },
     "execution_count": 16,
     "metadata": {},
     "output_type": "execute_result"
    }
   ],
   "source": [
    "df.head()"
   ]
  },
  {
   "cell_type": "code",
   "execution_count": 17,
   "metadata": {},
   "outputs": [
    {
     "data": {
      "application/vnd.plotly.v1+json": {
       "config": {
        "linkText": "Export to plot.ly",
        "plotlyServerURL": "https://plot.ly",
        "showLink": true
       },
       "data": [
        {
         "marker": {
          "color": "rgba(255, 153, 51, 0.6)",
          "line": {
           "color": "rgba(255, 153, 51, 1.0)",
           "width": 1
          }
         },
         "name": "A",
         "orientation": "v",
         "text": "",
         "type": "bar",
         "x": [
          0,
          1,
          2,
          3,
          4,
          5,
          6,
          7,
          8,
          9,
          10,
          11,
          12,
          13,
          14,
          15,
          16,
          17,
          18,
          19,
          20,
          21,
          22,
          23,
          24,
          25,
          26,
          27,
          28,
          29,
          30,
          31,
          32,
          33,
          34,
          35,
          36,
          37,
          38,
          39,
          40,
          41,
          42,
          43,
          44,
          45,
          46,
          47,
          48,
          49,
          50,
          51,
          52,
          53,
          54,
          55,
          56,
          57,
          58,
          59,
          60,
          61,
          62,
          63,
          64,
          65,
          66,
          67,
          68,
          69,
          70,
          71,
          72,
          73,
          74,
          75,
          76,
          77,
          78,
          79,
          80,
          81,
          82,
          83,
          84,
          85,
          86,
          87,
          88,
          89,
          90,
          91,
          92,
          93,
          94,
          95,
          96,
          97,
          98,
          99
         ],
         "y": [
          -0.3528362464153668,
          -0.284490578588392,
          2.203326375137168,
          1.1914906229339413,
          -0.5643907599811814,
          2.7798718153014357,
          1.1392230478947218,
          -0.3969084492198873,
          -0.8431354506721372,
          -1.2113706937321673,
          -1.1232328854452367,
          0.4518665654795515,
          0.15108658835894914,
          -1.7197708096350655,
          -0.07078563077906978,
          -0.980891266191066,
          -2.0065915820068994,
          0.04405074044947059,
          -0.1816391125056839,
          0.7598049797859753,
          -1.096012407090366,
          -1.4973956161707278,
          -2.2293808754538005,
          -0.15494190096890462,
          -0.8404676595449304,
          -1.5864444840611043,
          -1.271828143859151,
          0.233536485699503,
          0.32955043668175693,
          1.1595295612279588,
          -0.5278554404367857,
          -0.16303045205008881,
          -1.7674739515583324,
          0.33892658874933296,
          0.19685617323938542,
          0.33023853338745474,
          0.03730643652616613,
          0.32496894629056994,
          0.23244779523287074,
          -0.01842197648227652,
          -1.1672830340101563,
          -0.40440266128609065,
          2.07759282848088,
          0.14020699314040225,
          0.11670666187449041,
          -1.3759216802724983,
          2.3270704249878746,
          0.3972406311737788,
          0.17442023752997537,
          -0.2800525759529055,
          0.4506210148099999,
          2.6202326404140677,
          1.0653150560571336,
          1.7095140209602646,
          0.7990198343521421,
          -0.8281912607199876,
          -0.806280334150687,
          1.6979095908090678,
          -0.8672712204039527,
          1.1005741543620384,
          -0.6546095261109552,
          0.9048167986183359,
          -0.7100506115690377,
          0.648084430407177,
          0.9447881732500704,
          -0.4713552039565896,
          0.21402616654041448,
          -0.935151045365892,
          1.2150495379117552,
          -0.43140919672950967,
          -1.1891048756132958,
          0.9847206464209383,
          0.40945681494002684,
          -0.8066269723088334,
          -0.6687296314674605,
          -1.0238807147882825,
          -0.2700469623402802,
          0.5690651238713944,
          0.6865219970682781,
          0.6483901625701793,
          1.2905559982270822,
          0.8178639588042602,
          1.1575135611917569,
          -2.0984711888019745,
          -1.7762476161655396,
          -0.6748575307003194,
          -0.21849196898810175,
          -0.5753702112145309,
          -0.3920858562314582,
          0.6970390930379042,
          -1.4429250467452353,
          -0.3166115618643759,
          -0.3519621812877541,
          -0.4525464016079805,
          0.5423829440734289,
          -0.36691990004214553,
          -0.7611303390249726,
          2.0511135768496143,
          -0.9598352743683791,
          -0.37398827024180453
         ]
        },
        {
         "marker": {
          "color": "rgba(55, 128, 191, 0.6)",
          "line": {
           "color": "rgba(55, 128, 191, 1.0)",
           "width": 1
          }
         },
         "name": "B",
         "orientation": "v",
         "text": "",
         "type": "bar",
         "x": [
          0,
          1,
          2,
          3,
          4,
          5,
          6,
          7,
          8,
          9,
          10,
          11,
          12,
          13,
          14,
          15,
          16,
          17,
          18,
          19,
          20,
          21,
          22,
          23,
          24,
          25,
          26,
          27,
          28,
          29,
          30,
          31,
          32,
          33,
          34,
          35,
          36,
          37,
          38,
          39,
          40,
          41,
          42,
          43,
          44,
          45,
          46,
          47,
          48,
          49,
          50,
          51,
          52,
          53,
          54,
          55,
          56,
          57,
          58,
          59,
          60,
          61,
          62,
          63,
          64,
          65,
          66,
          67,
          68,
          69,
          70,
          71,
          72,
          73,
          74,
          75,
          76,
          77,
          78,
          79,
          80,
          81,
          82,
          83,
          84,
          85,
          86,
          87,
          88,
          89,
          90,
          91,
          92,
          93,
          94,
          95,
          96,
          97,
          98,
          99
         ],
         "y": [
          -1.5145455118176767,
          -0.01367326820150052,
          -0.7829236033971367,
          2.1758105864782173,
          0.014005493606606743,
          -0.408817628815818,
          -1.9692976906687827,
          0.7934251922172569,
          -0.10928246963521912,
          -1.8675911342151044,
          -0.291350381007704,
          -0.2861757143497499,
          0.45182196198038505,
          -1.3540852014076956,
          0.11849633147728272,
          -1.4831515290012542,
          -0.15594664619415652,
          0.8218005891800004,
          -1.3196893908390053,
          0.9516245220412897,
          1.0245182381659395,
          -0.9086606060000463,
          0.3667342867629603,
          2.1748246081996387,
          -1.4412403414461203,
          1.3547356288206962,
          0.07448038483912717,
          -2.0463557158127803,
          -0.2466438968154346,
          0.7427704569505088,
          0.7393827811394357,
          0.3470737898934057,
          -0.21339715374304669,
          -0.29843604210654695,
          -0.26984569594619834,
          -0.7380914719749732,
          0.085445841445681,
          -0.03377606407086046,
          -0.20658488335554978,
          -0.2320627365179663,
          0.6895012608888704,
          -1.9625798027603658,
          -1.3809616631815926,
          1.270026636907869,
          -1.1676750826700475,
          0.6835442102993022,
          -0.10819067203435048,
          -0.38848646939043074,
          -1.3146096093947917,
          1.2343026179645644,
          -1.1578924940873192,
          0.9311809476907813,
          -0.9408852209315937,
          0.2777851236373851,
          -0.2792794125675632,
          0.5699172325515569,
          1.1815215185447847,
          -0.4101575978585351,
          -1.3520086334848345,
          -0.2206896804793058,
          -0.635846746095747,
          -2.2801475925723,
          -0.13273463837665134,
          -1.4357460149388654,
          -2.0947528958618142,
          -1.4043908765273556,
          1.235437712356553,
          -0.2961297710843259,
          0.712446862050636,
          -0.5733163055127384,
          0.8724480526635303,
          0.34296687693318517,
          -1.8772458375662273,
          0.04838875314046682,
          1.1439410329456652,
          -1.4074872363653521,
          -0.41353126423716985,
          -1.2891804111532066,
          -0.8016211831893039,
          -1.1778852829324677,
          0.8601306959837082,
          -0.7846632368352668,
          0.8951888056616729,
          -0.1209386568012941,
          0.3507332670458818,
          0.40839273692365535,
          1.3923988082070355,
          0.5898704076273781,
          1.4937796385060818,
          0.9554951083022206,
          -0.12453902532811652,
          -1.280101497255287,
          -0.8670228686188641,
          -0.6542483247746392,
          -0.27107332066291734,
          1.7482116014051732,
          1.6179167104189263,
          -0.627179728211577,
          0.7520281731249727,
          -0.5689711239929849
         ]
        },
        {
         "marker": {
          "color": "rgba(50, 171, 96, 0.6)",
          "line": {
           "color": "rgba(50, 171, 96, 1.0)",
           "width": 1
          }
         },
         "name": "C",
         "orientation": "v",
         "text": "",
         "type": "bar",
         "x": [
          0,
          1,
          2,
          3,
          4,
          5,
          6,
          7,
          8,
          9,
          10,
          11,
          12,
          13,
          14,
          15,
          16,
          17,
          18,
          19,
          20,
          21,
          22,
          23,
          24,
          25,
          26,
          27,
          28,
          29,
          30,
          31,
          32,
          33,
          34,
          35,
          36,
          37,
          38,
          39,
          40,
          41,
          42,
          43,
          44,
          45,
          46,
          47,
          48,
          49,
          50,
          51,
          52,
          53,
          54,
          55,
          56,
          57,
          58,
          59,
          60,
          61,
          62,
          63,
          64,
          65,
          66,
          67,
          68,
          69,
          70,
          71,
          72,
          73,
          74,
          75,
          76,
          77,
          78,
          79,
          80,
          81,
          82,
          83,
          84,
          85,
          86,
          87,
          88,
          89,
          90,
          91,
          92,
          93,
          94,
          95,
          96,
          97,
          98,
          99
         ],
         "y": [
          -2.3704016563776555,
          0.710914398419287,
          0.6309631659503724,
          -2.8442861967365327,
          -0.0037811628578325435,
          -0.6382947031932034,
          -0.5832920116811756,
          1.1026000251690178,
          -0.4489180991658564,
          1.05520211811089,
          1.1082161681792269,
          0.046435857114627235,
          -0.2510267408961941,
          -0.4371164022967774,
          -0.5726351450065652,
          -0.4558868992851681,
          0.8045657127614613,
          -0.6143361630344545,
          -1.6160987259954223,
          1.3057845255800853,
          -0.7461470247736539,
          0.1750160823313732,
          -1.1067051377260886,
          -0.5204797459819671,
          -1.4376613633318407,
          -0.46334884147883815,
          0.9571971280775794,
          0.10750091380559694,
          0.2999155740381957,
          0.2185691512067851,
          -0.2579678098624532,
          1.3217142621895663,
          0.4953794816082393,
          -0.024538641741287965,
          -0.07153303580223697,
          -0.1793581282707107,
          -0.06729147187170058,
          -2.557307701474324,
          -0.1060324200332444,
          0.31169871316192516,
          1.3348243165181144,
          -1.9852327530302238,
          -0.5047144315416485,
          2.0115813901704973,
          0.7134892560485943,
          0.5484249921365187,
          0.11248846492915397,
          0.08333088334699466,
          -1.3682499335799407,
          -0.6974724359103268,
          0.37716037785946616,
          0.17044734212634838,
          0.12590105794568657,
          0.7343765332029945,
          -1.4006553322902726,
          1.0398357714966402,
          1.1634583514551176,
          1.58060380206921,
          -1.2613190243691939,
          1.2877452491185823,
          1.2460599997934427,
          0.3613975529675301,
          0.21462586530124092,
          -0.6090968319472858,
          0.23882620428736073,
          0.00036416526394703947,
          -1.2276092246013988,
          -0.8340878876745745,
          -0.08872398862382311,
          -0.061588045991439896,
          0.07524987023586598,
          1.153665247704061,
          -0.10204239551389348,
          1.3361090973740046,
          -0.5740083415431523,
          -0.8577488708805439,
          -0.4261175399792977,
          0.9653094704371724,
          -0.8173212555447603,
          1.0639239966446306,
          1.4278115423329014,
          0.7042444273074215,
          0.22693524735557136,
          -0.7652187063502671,
          -0.2502387171320374,
          0.5676968944730754,
          0.5943365371060254,
          0.6837008990404221,
          0.45789611494130283,
          -0.35489134846406123,
          -0.4914581973149613,
          -0.4131351259857275,
          -1.023404819406341,
          0.1370090793966986,
          0.961244139221754,
          0.007385617385094512,
          1.0517038093011737,
          -1.3085422591568026,
          -0.11633946117127415,
          -1.8454019863290603
         ]
        },
        {
         "marker": {
          "color": "rgba(128, 0, 128, 0.6)",
          "line": {
           "color": "rgba(128, 0, 128, 1.0)",
           "width": 1
          }
         },
         "name": "D",
         "orientation": "v",
         "text": "",
         "type": "bar",
         "x": [
          0,
          1,
          2,
          3,
          4,
          5,
          6,
          7,
          8,
          9,
          10,
          11,
          12,
          13,
          14,
          15,
          16,
          17,
          18,
          19,
          20,
          21,
          22,
          23,
          24,
          25,
          26,
          27,
          28,
          29,
          30,
          31,
          32,
          33,
          34,
          35,
          36,
          37,
          38,
          39,
          40,
          41,
          42,
          43,
          44,
          45,
          46,
          47,
          48,
          49,
          50,
          51,
          52,
          53,
          54,
          55,
          56,
          57,
          58,
          59,
          60,
          61,
          62,
          63,
          64,
          65,
          66,
          67,
          68,
          69,
          70,
          71,
          72,
          73,
          74,
          75,
          76,
          77,
          78,
          79,
          80,
          81,
          82,
          83,
          84,
          85,
          86,
          87,
          88,
          89,
          90,
          91,
          92,
          93,
          94,
          95,
          96,
          97,
          98,
          99
         ],
         "y": [
          0.5537390638675553,
          1.7275733675276843,
          1.216431303443142,
          -0.35761928337126386,
          -0.2766384153037906,
          0.9175563269542514,
          0.7913703760222024,
          0.6220956147817989,
          -0.9831544551054343,
          1.0285919896520503,
          -0.31358613968988003,
          -0.775285515456309,
          0.9121360708078701,
          -1.3392510286273374,
          -0.2247116800768073,
          0.9541268394764304,
          -1.2930827345554905,
          -0.1794147558476305,
          -0.204389594528781,
          -0.5649726476650159,
          -0.22933740132582756,
          -0.12357211924056424,
          0.4077407006940749,
          2.043079024269626,
          -1.8966506055913155,
          0.37506058424840283,
          -0.3557237502946604,
          -1.1658294796761153,
          -0.3314174317554599,
          0.5145784433956135,
          -0.17837855724679227,
          0.5819743037137235,
          -0.2170352844294026,
          -1.5008635117509095,
          0.4430612675009117,
          -0.5607325848055742,
          -0.8927402578611204,
          -1.00706359189859,
          0.7062444360618905,
          0.37532512452690064,
          -0.60918430290378,
          -0.3994943366348986,
          0.17679870439558548,
          -1.174429900552088,
          -1.3649070274623116,
          0.8110181135624027,
          1.2204650689075098,
          -0.04066020848211326,
          -0.798661941308709,
          -0.9230544760455293,
          2.48660459433927,
          -0.06274331502043014,
          -1.1079901104727323,
          0.149286669555233,
          -0.41689930404468056,
          -1.2000400022790192,
          -0.5385790202389502,
          -0.9264732450946596,
          0.34937348613737107,
          -0.38320883769824815,
          1.3675813627800308,
          0.3696598404405374,
          0.31873612059708706,
          0.8654078552911361,
          -1.5376213372959873,
          -0.1947903323528216,
          -1.1909326220751137,
          0.10457430890020339,
          0.6050940987273143,
          -0.5132853593327287,
          -0.7755845604958479,
          1.7023984579456823,
          0.38754335554690883,
          -0.9282832799462417,
          -0.5055032937398403,
          -0.05673078953268362,
          0.7475335009747427,
          -0.06210187278705163,
          1.5377080899458013,
          -0.6697979120234541,
          0.29250646337732666,
          -0.157303460931491,
          1.2745952342564728,
          -2.0248042313737624,
          -0.09095499158177012,
          0.330332051144852,
          -1.421859288088006,
          0.8450082617292108,
          -0.5335434113230583,
          -0.2855092868899809,
          -0.0021180714025973127,
          -0.3188647510560923,
          0.7484749193984869,
          1.2867921778713245,
          0.13640248363414795,
          0.6299953592964012,
          0.33263293241450487,
          0.1985242742168156,
          0.5004590278283447,
          -0.33700623860984585
         ]
        }
       ],
       "layout": {
        "legend": {
         "bgcolor": "#F5F6F9",
         "font": {
          "color": "#4D5663"
         }
        },
        "paper_bgcolor": "#F5F6F9",
        "plot_bgcolor": "#F5F6F9",
        "template": {
         "data": {
          "bar": [
           {
            "error_x": {
             "color": "#2a3f5f"
            },
            "error_y": {
             "color": "#2a3f5f"
            },
            "marker": {
             "line": {
              "color": "#E5ECF6",
              "width": 0.5
             }
            },
            "type": "bar"
           }
          ],
          "barpolar": [
           {
            "marker": {
             "line": {
              "color": "#E5ECF6",
              "width": 0.5
             }
            },
            "type": "barpolar"
           }
          ],
          "carpet": [
           {
            "aaxis": {
             "endlinecolor": "#2a3f5f",
             "gridcolor": "white",
             "linecolor": "white",
             "minorgridcolor": "white",
             "startlinecolor": "#2a3f5f"
            },
            "baxis": {
             "endlinecolor": "#2a3f5f",
             "gridcolor": "white",
             "linecolor": "white",
             "minorgridcolor": "white",
             "startlinecolor": "#2a3f5f"
            },
            "type": "carpet"
           }
          ],
          "choropleth": [
           {
            "colorbar": {
             "outlinewidth": 0,
             "ticks": ""
            },
            "type": "choropleth"
           }
          ],
          "contour": [
           {
            "colorbar": {
             "outlinewidth": 0,
             "ticks": ""
            },
            "colorscale": [
             [
              0,
              "#0d0887"
             ],
             [
              0.1111111111111111,
              "#46039f"
             ],
             [
              0.2222222222222222,
              "#7201a8"
             ],
             [
              0.3333333333333333,
              "#9c179e"
             ],
             [
              0.4444444444444444,
              "#bd3786"
             ],
             [
              0.5555555555555556,
              "#d8576b"
             ],
             [
              0.6666666666666666,
              "#ed7953"
             ],
             [
              0.7777777777777778,
              "#fb9f3a"
             ],
             [
              0.8888888888888888,
              "#fdca26"
             ],
             [
              1,
              "#f0f921"
             ]
            ],
            "type": "contour"
           }
          ],
          "contourcarpet": [
           {
            "colorbar": {
             "outlinewidth": 0,
             "ticks": ""
            },
            "type": "contourcarpet"
           }
          ],
          "heatmap": [
           {
            "colorbar": {
             "outlinewidth": 0,
             "ticks": ""
            },
            "colorscale": [
             [
              0,
              "#0d0887"
             ],
             [
              0.1111111111111111,
              "#46039f"
             ],
             [
              0.2222222222222222,
              "#7201a8"
             ],
             [
              0.3333333333333333,
              "#9c179e"
             ],
             [
              0.4444444444444444,
              "#bd3786"
             ],
             [
              0.5555555555555556,
              "#d8576b"
             ],
             [
              0.6666666666666666,
              "#ed7953"
             ],
             [
              0.7777777777777778,
              "#fb9f3a"
             ],
             [
              0.8888888888888888,
              "#fdca26"
             ],
             [
              1,
              "#f0f921"
             ]
            ],
            "type": "heatmap"
           }
          ],
          "heatmapgl": [
           {
            "colorbar": {
             "outlinewidth": 0,
             "ticks": ""
            },
            "colorscale": [
             [
              0,
              "#0d0887"
             ],
             [
              0.1111111111111111,
              "#46039f"
             ],
             [
              0.2222222222222222,
              "#7201a8"
             ],
             [
              0.3333333333333333,
              "#9c179e"
             ],
             [
              0.4444444444444444,
              "#bd3786"
             ],
             [
              0.5555555555555556,
              "#d8576b"
             ],
             [
              0.6666666666666666,
              "#ed7953"
             ],
             [
              0.7777777777777778,
              "#fb9f3a"
             ],
             [
              0.8888888888888888,
              "#fdca26"
             ],
             [
              1,
              "#f0f921"
             ]
            ],
            "type": "heatmapgl"
           }
          ],
          "histogram": [
           {
            "marker": {
             "colorbar": {
              "outlinewidth": 0,
              "ticks": ""
             }
            },
            "type": "histogram"
           }
          ],
          "histogram2d": [
           {
            "colorbar": {
             "outlinewidth": 0,
             "ticks": ""
            },
            "colorscale": [
             [
              0,
              "#0d0887"
             ],
             [
              0.1111111111111111,
              "#46039f"
             ],
             [
              0.2222222222222222,
              "#7201a8"
             ],
             [
              0.3333333333333333,
              "#9c179e"
             ],
             [
              0.4444444444444444,
              "#bd3786"
             ],
             [
              0.5555555555555556,
              "#d8576b"
             ],
             [
              0.6666666666666666,
              "#ed7953"
             ],
             [
              0.7777777777777778,
              "#fb9f3a"
             ],
             [
              0.8888888888888888,
              "#fdca26"
             ],
             [
              1,
              "#f0f921"
             ]
            ],
            "type": "histogram2d"
           }
          ],
          "histogram2dcontour": [
           {
            "colorbar": {
             "outlinewidth": 0,
             "ticks": ""
            },
            "colorscale": [
             [
              0,
              "#0d0887"
             ],
             [
              0.1111111111111111,
              "#46039f"
             ],
             [
              0.2222222222222222,
              "#7201a8"
             ],
             [
              0.3333333333333333,
              "#9c179e"
             ],
             [
              0.4444444444444444,
              "#bd3786"
             ],
             [
              0.5555555555555556,
              "#d8576b"
             ],
             [
              0.6666666666666666,
              "#ed7953"
             ],
             [
              0.7777777777777778,
              "#fb9f3a"
             ],
             [
              0.8888888888888888,
              "#fdca26"
             ],
             [
              1,
              "#f0f921"
             ]
            ],
            "type": "histogram2dcontour"
           }
          ],
          "mesh3d": [
           {
            "colorbar": {
             "outlinewidth": 0,
             "ticks": ""
            },
            "type": "mesh3d"
           }
          ],
          "parcoords": [
           {
            "line": {
             "colorbar": {
              "outlinewidth": 0,
              "ticks": ""
             }
            },
            "type": "parcoords"
           }
          ],
          "pie": [
           {
            "automargin": true,
            "type": "pie"
           }
          ],
          "scatter": [
           {
            "marker": {
             "colorbar": {
              "outlinewidth": 0,
              "ticks": ""
             }
            },
            "type": "scatter"
           }
          ],
          "scatter3d": [
           {
            "line": {
             "colorbar": {
              "outlinewidth": 0,
              "ticks": ""
             }
            },
            "marker": {
             "colorbar": {
              "outlinewidth": 0,
              "ticks": ""
             }
            },
            "type": "scatter3d"
           }
          ],
          "scattercarpet": [
           {
            "marker": {
             "colorbar": {
              "outlinewidth": 0,
              "ticks": ""
             }
            },
            "type": "scattercarpet"
           }
          ],
          "scattergeo": [
           {
            "marker": {
             "colorbar": {
              "outlinewidth": 0,
              "ticks": ""
             }
            },
            "type": "scattergeo"
           }
          ],
          "scattergl": [
           {
            "marker": {
             "colorbar": {
              "outlinewidth": 0,
              "ticks": ""
             }
            },
            "type": "scattergl"
           }
          ],
          "scattermapbox": [
           {
            "marker": {
             "colorbar": {
              "outlinewidth": 0,
              "ticks": ""
             }
            },
            "type": "scattermapbox"
           }
          ],
          "scatterpolar": [
           {
            "marker": {
             "colorbar": {
              "outlinewidth": 0,
              "ticks": ""
             }
            },
            "type": "scatterpolar"
           }
          ],
          "scatterpolargl": [
           {
            "marker": {
             "colorbar": {
              "outlinewidth": 0,
              "ticks": ""
             }
            },
            "type": "scatterpolargl"
           }
          ],
          "scatterternary": [
           {
            "marker": {
             "colorbar": {
              "outlinewidth": 0,
              "ticks": ""
             }
            },
            "type": "scatterternary"
           }
          ],
          "surface": [
           {
            "colorbar": {
             "outlinewidth": 0,
             "ticks": ""
            },
            "colorscale": [
             [
              0,
              "#0d0887"
             ],
             [
              0.1111111111111111,
              "#46039f"
             ],
             [
              0.2222222222222222,
              "#7201a8"
             ],
             [
              0.3333333333333333,
              "#9c179e"
             ],
             [
              0.4444444444444444,
              "#bd3786"
             ],
             [
              0.5555555555555556,
              "#d8576b"
             ],
             [
              0.6666666666666666,
              "#ed7953"
             ],
             [
              0.7777777777777778,
              "#fb9f3a"
             ],
             [
              0.8888888888888888,
              "#fdca26"
             ],
             [
              1,
              "#f0f921"
             ]
            ],
            "type": "surface"
           }
          ],
          "table": [
           {
            "cells": {
             "fill": {
              "color": "#EBF0F8"
             },
             "line": {
              "color": "white"
             }
            },
            "header": {
             "fill": {
              "color": "#C8D4E3"
             },
             "line": {
              "color": "white"
             }
            },
            "type": "table"
           }
          ]
         },
         "layout": {
          "annotationdefaults": {
           "arrowcolor": "#2a3f5f",
           "arrowhead": 0,
           "arrowwidth": 1
          },
          "coloraxis": {
           "colorbar": {
            "outlinewidth": 0,
            "ticks": ""
           }
          },
          "colorscale": {
           "diverging": [
            [
             0,
             "#8e0152"
            ],
            [
             0.1,
             "#c51b7d"
            ],
            [
             0.2,
             "#de77ae"
            ],
            [
             0.3,
             "#f1b6da"
            ],
            [
             0.4,
             "#fde0ef"
            ],
            [
             0.5,
             "#f7f7f7"
            ],
            [
             0.6,
             "#e6f5d0"
            ],
            [
             0.7,
             "#b8e186"
            ],
            [
             0.8,
             "#7fbc41"
            ],
            [
             0.9,
             "#4d9221"
            ],
            [
             1,
             "#276419"
            ]
           ],
           "sequential": [
            [
             0,
             "#0d0887"
            ],
            [
             0.1111111111111111,
             "#46039f"
            ],
            [
             0.2222222222222222,
             "#7201a8"
            ],
            [
             0.3333333333333333,
             "#9c179e"
            ],
            [
             0.4444444444444444,
             "#bd3786"
            ],
            [
             0.5555555555555556,
             "#d8576b"
            ],
            [
             0.6666666666666666,
             "#ed7953"
            ],
            [
             0.7777777777777778,
             "#fb9f3a"
            ],
            [
             0.8888888888888888,
             "#fdca26"
            ],
            [
             1,
             "#f0f921"
            ]
           ],
           "sequentialminus": [
            [
             0,
             "#0d0887"
            ],
            [
             0.1111111111111111,
             "#46039f"
            ],
            [
             0.2222222222222222,
             "#7201a8"
            ],
            [
             0.3333333333333333,
             "#9c179e"
            ],
            [
             0.4444444444444444,
             "#bd3786"
            ],
            [
             0.5555555555555556,
             "#d8576b"
            ],
            [
             0.6666666666666666,
             "#ed7953"
            ],
            [
             0.7777777777777778,
             "#fb9f3a"
            ],
            [
             0.8888888888888888,
             "#fdca26"
            ],
            [
             1,
             "#f0f921"
            ]
           ]
          },
          "colorway": [
           "#636efa",
           "#EF553B",
           "#00cc96",
           "#ab63fa",
           "#FFA15A",
           "#19d3f3",
           "#FF6692",
           "#B6E880",
           "#FF97FF",
           "#FECB52"
          ],
          "font": {
           "color": "#2a3f5f"
          },
          "geo": {
           "bgcolor": "white",
           "lakecolor": "white",
           "landcolor": "#E5ECF6",
           "showlakes": true,
           "showland": true,
           "subunitcolor": "white"
          },
          "hoverlabel": {
           "align": "left"
          },
          "hovermode": "closest",
          "mapbox": {
           "style": "light"
          },
          "paper_bgcolor": "white",
          "plot_bgcolor": "#E5ECF6",
          "polar": {
           "angularaxis": {
            "gridcolor": "white",
            "linecolor": "white",
            "ticks": ""
           },
           "bgcolor": "#E5ECF6",
           "radialaxis": {
            "gridcolor": "white",
            "linecolor": "white",
            "ticks": ""
           }
          },
          "scene": {
           "xaxis": {
            "backgroundcolor": "#E5ECF6",
            "gridcolor": "white",
            "gridwidth": 2,
            "linecolor": "white",
            "showbackground": true,
            "ticks": "",
            "zerolinecolor": "white"
           },
           "yaxis": {
            "backgroundcolor": "#E5ECF6",
            "gridcolor": "white",
            "gridwidth": 2,
            "linecolor": "white",
            "showbackground": true,
            "ticks": "",
            "zerolinecolor": "white"
           },
           "zaxis": {
            "backgroundcolor": "#E5ECF6",
            "gridcolor": "white",
            "gridwidth": 2,
            "linecolor": "white",
            "showbackground": true,
            "ticks": "",
            "zerolinecolor": "white"
           }
          },
          "shapedefaults": {
           "line": {
            "color": "#2a3f5f"
           }
          },
          "ternary": {
           "aaxis": {
            "gridcolor": "white",
            "linecolor": "white",
            "ticks": ""
           },
           "baxis": {
            "gridcolor": "white",
            "linecolor": "white",
            "ticks": ""
           },
           "bgcolor": "#E5ECF6",
           "caxis": {
            "gridcolor": "white",
            "linecolor": "white",
            "ticks": ""
           }
          },
          "title": {
           "x": 0.05
          },
          "xaxis": {
           "automargin": true,
           "gridcolor": "white",
           "linecolor": "white",
           "ticks": "",
           "title": {
            "standoff": 15
           },
           "zerolinecolor": "white",
           "zerolinewidth": 2
          },
          "yaxis": {
           "automargin": true,
           "gridcolor": "white",
           "linecolor": "white",
           "ticks": "",
           "title": {
            "standoff": 15
           },
           "zerolinecolor": "white",
           "zerolinewidth": 2
          }
         }
        },
        "title": {
         "font": {
          "color": "#4D5663"
         }
        },
        "xaxis": {
         "gridcolor": "#E1E5ED",
         "showgrid": true,
         "tickfont": {
          "color": "#4D5663"
         },
         "title": {
          "font": {
           "color": "#4D5663"
          },
          "text": ""
         },
         "zerolinecolor": "#E1E5ED"
        },
        "yaxis": {
         "gridcolor": "#E1E5ED",
         "showgrid": true,
         "tickfont": {
          "color": "#4D5663"
         },
         "title": {
          "font": {
           "color": "#4D5663"
          },
          "text": ""
         },
         "zerolinecolor": "#E1E5ED"
        }
       }
      },
      "text/html": [
       "<div>\n",
       "        \n",
       "        \n",
       "            <div id=\"5460aa36-f347-4152-ba49-c24b20ff851b\" class=\"plotly-graph-div\" style=\"height:525px; width:100%;\"></div>\n",
       "            <script type=\"text/javascript\">\n",
       "                require([\"plotly\"], function(Plotly) {\n",
       "                    window.PLOTLYENV=window.PLOTLYENV || {};\n",
       "                    window.PLOTLYENV.BASE_URL='https://plot.ly';\n",
       "                    \n",
       "                if (document.getElementById(\"5460aa36-f347-4152-ba49-c24b20ff851b\")) {\n",
       "                    Plotly.newPlot(\n",
       "                        '5460aa36-f347-4152-ba49-c24b20ff851b',\n",
       "                        [{\"marker\": {\"color\": \"rgba(255, 153, 51, 0.6)\", \"line\": {\"color\": \"rgba(255, 153, 51, 1.0)\", \"width\": 1}}, \"name\": \"A\", \"orientation\": \"v\", \"text\": \"\", \"type\": \"bar\", \"x\": [0, 1, 2, 3, 4, 5, 6, 7, 8, 9, 10, 11, 12, 13, 14, 15, 16, 17, 18, 19, 20, 21, 22, 23, 24, 25, 26, 27, 28, 29, 30, 31, 32, 33, 34, 35, 36, 37, 38, 39, 40, 41, 42, 43, 44, 45, 46, 47, 48, 49, 50, 51, 52, 53, 54, 55, 56, 57, 58, 59, 60, 61, 62, 63, 64, 65, 66, 67, 68, 69, 70, 71, 72, 73, 74, 75, 76, 77, 78, 79, 80, 81, 82, 83, 84, 85, 86, 87, 88, 89, 90, 91, 92, 93, 94, 95, 96, 97, 98, 99], \"y\": [-0.3528362464153668, -0.284490578588392, 2.203326375137168, 1.1914906229339413, -0.5643907599811814, 2.7798718153014357, 1.1392230478947218, -0.3969084492198873, -0.8431354506721372, -1.2113706937321673, -1.1232328854452367, 0.4518665654795515, 0.15108658835894914, -1.7197708096350655, -0.07078563077906978, -0.980891266191066, -2.0065915820068994, 0.04405074044947059, -0.1816391125056839, 0.7598049797859753, -1.096012407090366, -1.4973956161707278, -2.2293808754538005, -0.15494190096890462, -0.8404676595449304, -1.5864444840611043, -1.271828143859151, 0.233536485699503, 0.32955043668175693, 1.1595295612279588, -0.5278554404367857, -0.16303045205008881, -1.7674739515583324, 0.33892658874933296, 0.19685617323938542, 0.33023853338745474, 0.03730643652616613, 0.32496894629056994, 0.23244779523287074, -0.01842197648227652, -1.1672830340101563, -0.40440266128609065, 2.07759282848088, 0.14020699314040225, 0.11670666187449041, -1.3759216802724983, 2.3270704249878746, 0.3972406311737788, 0.17442023752997537, -0.2800525759529055, 0.4506210148099999, 2.6202326404140677, 1.0653150560571336, 1.7095140209602646, 0.7990198343521421, -0.8281912607199876, -0.806280334150687, 1.6979095908090678, -0.8672712204039527, 1.1005741543620384, -0.6546095261109552, 0.9048167986183359, -0.7100506115690377, 0.648084430407177, 0.9447881732500704, -0.4713552039565896, 0.21402616654041448, -0.935151045365892, 1.2150495379117552, -0.43140919672950967, -1.1891048756132958, 0.9847206464209383, 0.40945681494002684, -0.8066269723088334, -0.6687296314674605, -1.0238807147882825, -0.2700469623402802, 0.5690651238713944, 0.6865219970682781, 0.6483901625701793, 1.2905559982270822, 0.8178639588042602, 1.1575135611917569, -2.0984711888019745, -1.7762476161655396, -0.6748575307003194, -0.21849196898810175, -0.5753702112145309, -0.3920858562314582, 0.6970390930379042, -1.4429250467452353, -0.3166115618643759, -0.3519621812877541, -0.4525464016079805, 0.5423829440734289, -0.36691990004214553, -0.7611303390249726, 2.0511135768496143, -0.9598352743683791, -0.37398827024180453]}, {\"marker\": {\"color\": \"rgba(55, 128, 191, 0.6)\", \"line\": {\"color\": \"rgba(55, 128, 191, 1.0)\", \"width\": 1}}, \"name\": \"B\", \"orientation\": \"v\", \"text\": \"\", \"type\": \"bar\", \"x\": [0, 1, 2, 3, 4, 5, 6, 7, 8, 9, 10, 11, 12, 13, 14, 15, 16, 17, 18, 19, 20, 21, 22, 23, 24, 25, 26, 27, 28, 29, 30, 31, 32, 33, 34, 35, 36, 37, 38, 39, 40, 41, 42, 43, 44, 45, 46, 47, 48, 49, 50, 51, 52, 53, 54, 55, 56, 57, 58, 59, 60, 61, 62, 63, 64, 65, 66, 67, 68, 69, 70, 71, 72, 73, 74, 75, 76, 77, 78, 79, 80, 81, 82, 83, 84, 85, 86, 87, 88, 89, 90, 91, 92, 93, 94, 95, 96, 97, 98, 99], \"y\": [-1.5145455118176767, -0.01367326820150052, -0.7829236033971367, 2.1758105864782173, 0.014005493606606743, -0.408817628815818, -1.9692976906687827, 0.7934251922172569, -0.10928246963521912, -1.8675911342151044, -0.291350381007704, -0.2861757143497499, 0.45182196198038505, -1.3540852014076956, 0.11849633147728272, -1.4831515290012542, -0.15594664619415652, 0.8218005891800004, -1.3196893908390053, 0.9516245220412897, 1.0245182381659395, -0.9086606060000463, 0.3667342867629603, 2.1748246081996387, -1.4412403414461203, 1.3547356288206962, 0.07448038483912717, -2.0463557158127803, -0.2466438968154346, 0.7427704569505088, 0.7393827811394357, 0.3470737898934057, -0.21339715374304669, -0.29843604210654695, -0.26984569594619834, -0.7380914719749732, 0.085445841445681, -0.03377606407086046, -0.20658488335554978, -0.2320627365179663, 0.6895012608888704, -1.9625798027603658, -1.3809616631815926, 1.270026636907869, -1.1676750826700475, 0.6835442102993022, -0.10819067203435048, -0.38848646939043074, -1.3146096093947917, 1.2343026179645644, -1.1578924940873192, 0.9311809476907813, -0.9408852209315937, 0.2777851236373851, -0.2792794125675632, 0.5699172325515569, 1.1815215185447847, -0.4101575978585351, -1.3520086334848345, -0.2206896804793058, -0.635846746095747, -2.2801475925723, -0.13273463837665134, -1.4357460149388654, -2.0947528958618142, -1.4043908765273556, 1.235437712356553, -0.2961297710843259, 0.712446862050636, -0.5733163055127384, 0.8724480526635303, 0.34296687693318517, -1.8772458375662273, 0.04838875314046682, 1.1439410329456652, -1.4074872363653521, -0.41353126423716985, -1.2891804111532066, -0.8016211831893039, -1.1778852829324677, 0.8601306959837082, -0.7846632368352668, 0.8951888056616729, -0.1209386568012941, 0.3507332670458818, 0.40839273692365535, 1.3923988082070355, 0.5898704076273781, 1.4937796385060818, 0.9554951083022206, -0.12453902532811652, -1.280101497255287, -0.8670228686188641, -0.6542483247746392, -0.27107332066291734, 1.7482116014051732, 1.6179167104189263, -0.627179728211577, 0.7520281731249727, -0.5689711239929849]}, {\"marker\": {\"color\": \"rgba(50, 171, 96, 0.6)\", \"line\": {\"color\": \"rgba(50, 171, 96, 1.0)\", \"width\": 1}}, \"name\": \"C\", \"orientation\": \"v\", \"text\": \"\", \"type\": \"bar\", \"x\": [0, 1, 2, 3, 4, 5, 6, 7, 8, 9, 10, 11, 12, 13, 14, 15, 16, 17, 18, 19, 20, 21, 22, 23, 24, 25, 26, 27, 28, 29, 30, 31, 32, 33, 34, 35, 36, 37, 38, 39, 40, 41, 42, 43, 44, 45, 46, 47, 48, 49, 50, 51, 52, 53, 54, 55, 56, 57, 58, 59, 60, 61, 62, 63, 64, 65, 66, 67, 68, 69, 70, 71, 72, 73, 74, 75, 76, 77, 78, 79, 80, 81, 82, 83, 84, 85, 86, 87, 88, 89, 90, 91, 92, 93, 94, 95, 96, 97, 98, 99], \"y\": [-2.3704016563776555, 0.710914398419287, 0.6309631659503724, -2.8442861967365327, -0.0037811628578325435, -0.6382947031932034, -0.5832920116811756, 1.1026000251690178, -0.4489180991658564, 1.05520211811089, 1.1082161681792269, 0.046435857114627235, -0.2510267408961941, -0.4371164022967774, -0.5726351450065652, -0.4558868992851681, 0.8045657127614613, -0.6143361630344545, -1.6160987259954223, 1.3057845255800853, -0.7461470247736539, 0.1750160823313732, -1.1067051377260886, -0.5204797459819671, -1.4376613633318407, -0.46334884147883815, 0.9571971280775794, 0.10750091380559694, 0.2999155740381957, 0.2185691512067851, -0.2579678098624532, 1.3217142621895663, 0.4953794816082393, -0.024538641741287965, -0.07153303580223697, -0.1793581282707107, -0.06729147187170058, -2.557307701474324, -0.1060324200332444, 0.31169871316192516, 1.3348243165181144, -1.9852327530302238, -0.5047144315416485, 2.0115813901704973, 0.7134892560485943, 0.5484249921365187, 0.11248846492915397, 0.08333088334699466, -1.3682499335799407, -0.6974724359103268, 0.37716037785946616, 0.17044734212634838, 0.12590105794568657, 0.7343765332029945, -1.4006553322902726, 1.0398357714966402, 1.1634583514551176, 1.58060380206921, -1.2613190243691939, 1.2877452491185823, 1.2460599997934427, 0.3613975529675301, 0.21462586530124092, -0.6090968319472858, 0.23882620428736073, 0.00036416526394703947, -1.2276092246013988, -0.8340878876745745, -0.08872398862382311, -0.061588045991439896, 0.07524987023586598, 1.153665247704061, -0.10204239551389348, 1.3361090973740046, -0.5740083415431523, -0.8577488708805439, -0.4261175399792977, 0.9653094704371724, -0.8173212555447603, 1.0639239966446306, 1.4278115423329014, 0.7042444273074215, 0.22693524735557136, -0.7652187063502671, -0.2502387171320374, 0.5676968944730754, 0.5943365371060254, 0.6837008990404221, 0.45789611494130283, -0.35489134846406123, -0.4914581973149613, -0.4131351259857275, -1.023404819406341, 0.1370090793966986, 0.961244139221754, 0.007385617385094512, 1.0517038093011737, -1.3085422591568026, -0.11633946117127415, -1.8454019863290603]}, {\"marker\": {\"color\": \"rgba(128, 0, 128, 0.6)\", \"line\": {\"color\": \"rgba(128, 0, 128, 1.0)\", \"width\": 1}}, \"name\": \"D\", \"orientation\": \"v\", \"text\": \"\", \"type\": \"bar\", \"x\": [0, 1, 2, 3, 4, 5, 6, 7, 8, 9, 10, 11, 12, 13, 14, 15, 16, 17, 18, 19, 20, 21, 22, 23, 24, 25, 26, 27, 28, 29, 30, 31, 32, 33, 34, 35, 36, 37, 38, 39, 40, 41, 42, 43, 44, 45, 46, 47, 48, 49, 50, 51, 52, 53, 54, 55, 56, 57, 58, 59, 60, 61, 62, 63, 64, 65, 66, 67, 68, 69, 70, 71, 72, 73, 74, 75, 76, 77, 78, 79, 80, 81, 82, 83, 84, 85, 86, 87, 88, 89, 90, 91, 92, 93, 94, 95, 96, 97, 98, 99], \"y\": [0.5537390638675553, 1.7275733675276843, 1.216431303443142, -0.35761928337126386, -0.2766384153037906, 0.9175563269542514, 0.7913703760222024, 0.6220956147817989, -0.9831544551054343, 1.0285919896520503, -0.31358613968988003, -0.775285515456309, 0.9121360708078701, -1.3392510286273374, -0.2247116800768073, 0.9541268394764304, -1.2930827345554905, -0.1794147558476305, -0.204389594528781, -0.5649726476650159, -0.22933740132582756, -0.12357211924056424, 0.4077407006940749, 2.043079024269626, -1.8966506055913155, 0.37506058424840283, -0.3557237502946604, -1.1658294796761153, -0.3314174317554599, 0.5145784433956135, -0.17837855724679227, 0.5819743037137235, -0.2170352844294026, -1.5008635117509095, 0.4430612675009117, -0.5607325848055742, -0.8927402578611204, -1.00706359189859, 0.7062444360618905, 0.37532512452690064, -0.60918430290378, -0.3994943366348986, 0.17679870439558548, -1.174429900552088, -1.3649070274623116, 0.8110181135624027, 1.2204650689075098, -0.04066020848211326, -0.798661941308709, -0.9230544760455293, 2.48660459433927, -0.06274331502043014, -1.1079901104727323, 0.149286669555233, -0.41689930404468056, -1.2000400022790192, -0.5385790202389502, -0.9264732450946596, 0.34937348613737107, -0.38320883769824815, 1.3675813627800308, 0.3696598404405374, 0.31873612059708706, 0.8654078552911361, -1.5376213372959873, -0.1947903323528216, -1.1909326220751137, 0.10457430890020339, 0.6050940987273143, -0.5132853593327287, -0.7755845604958479, 1.7023984579456823, 0.38754335554690883, -0.9282832799462417, -0.5055032937398403, -0.05673078953268362, 0.7475335009747427, -0.06210187278705163, 1.5377080899458013, -0.6697979120234541, 0.29250646337732666, -0.157303460931491, 1.2745952342564728, -2.0248042313737624, -0.09095499158177012, 0.330332051144852, -1.421859288088006, 0.8450082617292108, -0.5335434113230583, -0.2855092868899809, -0.0021180714025973127, -0.3188647510560923, 0.7484749193984869, 1.2867921778713245, 0.13640248363414795, 0.6299953592964012, 0.33263293241450487, 0.1985242742168156, 0.5004590278283447, -0.33700623860984585]}],\n",
       "                        {\"legend\": {\"bgcolor\": \"#F5F6F9\", \"font\": {\"color\": \"#4D5663\"}}, \"paper_bgcolor\": \"#F5F6F9\", \"plot_bgcolor\": \"#F5F6F9\", \"template\": {\"data\": {\"bar\": [{\"error_x\": {\"color\": \"#2a3f5f\"}, \"error_y\": {\"color\": \"#2a3f5f\"}, \"marker\": {\"line\": {\"color\": \"#E5ECF6\", \"width\": 0.5}}, \"type\": \"bar\"}], \"barpolar\": [{\"marker\": {\"line\": {\"color\": \"#E5ECF6\", \"width\": 0.5}}, \"type\": \"barpolar\"}], \"carpet\": [{\"aaxis\": {\"endlinecolor\": \"#2a3f5f\", \"gridcolor\": \"white\", \"linecolor\": \"white\", \"minorgridcolor\": \"white\", \"startlinecolor\": \"#2a3f5f\"}, \"baxis\": {\"endlinecolor\": \"#2a3f5f\", \"gridcolor\": \"white\", \"linecolor\": \"white\", \"minorgridcolor\": \"white\", \"startlinecolor\": \"#2a3f5f\"}, \"type\": \"carpet\"}], \"choropleth\": [{\"colorbar\": {\"outlinewidth\": 0, \"ticks\": \"\"}, \"type\": \"choropleth\"}], \"contour\": [{\"colorbar\": {\"outlinewidth\": 0, \"ticks\": \"\"}, \"colorscale\": [[0.0, \"#0d0887\"], [0.1111111111111111, \"#46039f\"], [0.2222222222222222, \"#7201a8\"], [0.3333333333333333, \"#9c179e\"], [0.4444444444444444, \"#bd3786\"], [0.5555555555555556, \"#d8576b\"], [0.6666666666666666, \"#ed7953\"], [0.7777777777777778, \"#fb9f3a\"], [0.8888888888888888, \"#fdca26\"], [1.0, \"#f0f921\"]], \"type\": \"contour\"}], \"contourcarpet\": [{\"colorbar\": {\"outlinewidth\": 0, \"ticks\": \"\"}, \"type\": \"contourcarpet\"}], \"heatmap\": [{\"colorbar\": {\"outlinewidth\": 0, \"ticks\": \"\"}, \"colorscale\": [[0.0, \"#0d0887\"], [0.1111111111111111, \"#46039f\"], [0.2222222222222222, \"#7201a8\"], [0.3333333333333333, \"#9c179e\"], [0.4444444444444444, \"#bd3786\"], [0.5555555555555556, \"#d8576b\"], [0.6666666666666666, \"#ed7953\"], [0.7777777777777778, \"#fb9f3a\"], [0.8888888888888888, \"#fdca26\"], [1.0, \"#f0f921\"]], \"type\": \"heatmap\"}], \"heatmapgl\": [{\"colorbar\": {\"outlinewidth\": 0, \"ticks\": \"\"}, \"colorscale\": [[0.0, \"#0d0887\"], [0.1111111111111111, \"#46039f\"], [0.2222222222222222, \"#7201a8\"], [0.3333333333333333, \"#9c179e\"], [0.4444444444444444, \"#bd3786\"], [0.5555555555555556, \"#d8576b\"], [0.6666666666666666, \"#ed7953\"], [0.7777777777777778, \"#fb9f3a\"], [0.8888888888888888, \"#fdca26\"], [1.0, \"#f0f921\"]], \"type\": \"heatmapgl\"}], \"histogram\": [{\"marker\": {\"colorbar\": {\"outlinewidth\": 0, \"ticks\": \"\"}}, \"type\": \"histogram\"}], \"histogram2d\": [{\"colorbar\": {\"outlinewidth\": 0, \"ticks\": \"\"}, \"colorscale\": [[0.0, \"#0d0887\"], [0.1111111111111111, \"#46039f\"], [0.2222222222222222, \"#7201a8\"], [0.3333333333333333, \"#9c179e\"], [0.4444444444444444, \"#bd3786\"], [0.5555555555555556, \"#d8576b\"], [0.6666666666666666, \"#ed7953\"], [0.7777777777777778, \"#fb9f3a\"], [0.8888888888888888, \"#fdca26\"], [1.0, \"#f0f921\"]], \"type\": \"histogram2d\"}], \"histogram2dcontour\": [{\"colorbar\": {\"outlinewidth\": 0, \"ticks\": \"\"}, \"colorscale\": [[0.0, \"#0d0887\"], [0.1111111111111111, \"#46039f\"], [0.2222222222222222, \"#7201a8\"], [0.3333333333333333, \"#9c179e\"], [0.4444444444444444, \"#bd3786\"], [0.5555555555555556, \"#d8576b\"], [0.6666666666666666, \"#ed7953\"], [0.7777777777777778, \"#fb9f3a\"], [0.8888888888888888, \"#fdca26\"], [1.0, \"#f0f921\"]], \"type\": \"histogram2dcontour\"}], \"mesh3d\": [{\"colorbar\": {\"outlinewidth\": 0, \"ticks\": \"\"}, \"type\": \"mesh3d\"}], \"parcoords\": [{\"line\": {\"colorbar\": {\"outlinewidth\": 0, \"ticks\": \"\"}}, \"type\": \"parcoords\"}], \"pie\": [{\"automargin\": true, \"type\": \"pie\"}], \"scatter\": [{\"marker\": {\"colorbar\": {\"outlinewidth\": 0, \"ticks\": \"\"}}, \"type\": \"scatter\"}], \"scatter3d\": [{\"line\": {\"colorbar\": {\"outlinewidth\": 0, \"ticks\": \"\"}}, \"marker\": {\"colorbar\": {\"outlinewidth\": 0, \"ticks\": \"\"}}, \"type\": \"scatter3d\"}], \"scattercarpet\": [{\"marker\": {\"colorbar\": {\"outlinewidth\": 0, \"ticks\": \"\"}}, \"type\": \"scattercarpet\"}], \"scattergeo\": [{\"marker\": {\"colorbar\": {\"outlinewidth\": 0, \"ticks\": \"\"}}, \"type\": \"scattergeo\"}], \"scattergl\": [{\"marker\": {\"colorbar\": {\"outlinewidth\": 0, \"ticks\": \"\"}}, \"type\": \"scattergl\"}], \"scattermapbox\": [{\"marker\": {\"colorbar\": {\"outlinewidth\": 0, \"ticks\": \"\"}}, \"type\": \"scattermapbox\"}], \"scatterpolar\": [{\"marker\": {\"colorbar\": {\"outlinewidth\": 0, \"ticks\": \"\"}}, \"type\": \"scatterpolar\"}], \"scatterpolargl\": [{\"marker\": {\"colorbar\": {\"outlinewidth\": 0, \"ticks\": \"\"}}, \"type\": \"scatterpolargl\"}], \"scatterternary\": [{\"marker\": {\"colorbar\": {\"outlinewidth\": 0, \"ticks\": \"\"}}, \"type\": \"scatterternary\"}], \"surface\": [{\"colorbar\": {\"outlinewidth\": 0, \"ticks\": \"\"}, \"colorscale\": [[0.0, \"#0d0887\"], [0.1111111111111111, \"#46039f\"], [0.2222222222222222, \"#7201a8\"], [0.3333333333333333, \"#9c179e\"], [0.4444444444444444, \"#bd3786\"], [0.5555555555555556, \"#d8576b\"], [0.6666666666666666, \"#ed7953\"], [0.7777777777777778, \"#fb9f3a\"], [0.8888888888888888, \"#fdca26\"], [1.0, \"#f0f921\"]], \"type\": \"surface\"}], \"table\": [{\"cells\": {\"fill\": {\"color\": \"#EBF0F8\"}, \"line\": {\"color\": \"white\"}}, \"header\": {\"fill\": {\"color\": \"#C8D4E3\"}, \"line\": {\"color\": \"white\"}}, \"type\": \"table\"}]}, \"layout\": {\"annotationdefaults\": {\"arrowcolor\": \"#2a3f5f\", \"arrowhead\": 0, \"arrowwidth\": 1}, \"coloraxis\": {\"colorbar\": {\"outlinewidth\": 0, \"ticks\": \"\"}}, \"colorscale\": {\"diverging\": [[0, \"#8e0152\"], [0.1, \"#c51b7d\"], [0.2, \"#de77ae\"], [0.3, \"#f1b6da\"], [0.4, \"#fde0ef\"], [0.5, \"#f7f7f7\"], [0.6, \"#e6f5d0\"], [0.7, \"#b8e186\"], [0.8, \"#7fbc41\"], [0.9, \"#4d9221\"], [1, \"#276419\"]], \"sequential\": [[0.0, \"#0d0887\"], [0.1111111111111111, \"#46039f\"], [0.2222222222222222, \"#7201a8\"], [0.3333333333333333, \"#9c179e\"], [0.4444444444444444, \"#bd3786\"], [0.5555555555555556, \"#d8576b\"], [0.6666666666666666, \"#ed7953\"], [0.7777777777777778, \"#fb9f3a\"], [0.8888888888888888, \"#fdca26\"], [1.0, \"#f0f921\"]], \"sequentialminus\": [[0.0, \"#0d0887\"], [0.1111111111111111, \"#46039f\"], [0.2222222222222222, \"#7201a8\"], [0.3333333333333333, \"#9c179e\"], [0.4444444444444444, \"#bd3786\"], [0.5555555555555556, \"#d8576b\"], [0.6666666666666666, \"#ed7953\"], [0.7777777777777778, \"#fb9f3a\"], [0.8888888888888888, \"#fdca26\"], [1.0, \"#f0f921\"]]}, \"colorway\": [\"#636efa\", \"#EF553B\", \"#00cc96\", \"#ab63fa\", \"#FFA15A\", \"#19d3f3\", \"#FF6692\", \"#B6E880\", \"#FF97FF\", \"#FECB52\"], \"font\": {\"color\": \"#2a3f5f\"}, \"geo\": {\"bgcolor\": \"white\", \"lakecolor\": \"white\", \"landcolor\": \"#E5ECF6\", \"showlakes\": true, \"showland\": true, \"subunitcolor\": \"white\"}, \"hoverlabel\": {\"align\": \"left\"}, \"hovermode\": \"closest\", \"mapbox\": {\"style\": \"light\"}, \"paper_bgcolor\": \"white\", \"plot_bgcolor\": \"#E5ECF6\", \"polar\": {\"angularaxis\": {\"gridcolor\": \"white\", \"linecolor\": \"white\", \"ticks\": \"\"}, \"bgcolor\": \"#E5ECF6\", \"radialaxis\": {\"gridcolor\": \"white\", \"linecolor\": \"white\", \"ticks\": \"\"}}, \"scene\": {\"xaxis\": {\"backgroundcolor\": \"#E5ECF6\", \"gridcolor\": \"white\", \"gridwidth\": 2, \"linecolor\": \"white\", \"showbackground\": true, \"ticks\": \"\", \"zerolinecolor\": \"white\"}, \"yaxis\": {\"backgroundcolor\": \"#E5ECF6\", \"gridcolor\": \"white\", \"gridwidth\": 2, \"linecolor\": \"white\", \"showbackground\": true, \"ticks\": \"\", \"zerolinecolor\": \"white\"}, \"zaxis\": {\"backgroundcolor\": \"#E5ECF6\", \"gridcolor\": \"white\", \"gridwidth\": 2, \"linecolor\": \"white\", \"showbackground\": true, \"ticks\": \"\", \"zerolinecolor\": \"white\"}}, \"shapedefaults\": {\"line\": {\"color\": \"#2a3f5f\"}}, \"ternary\": {\"aaxis\": {\"gridcolor\": \"white\", \"linecolor\": \"white\", \"ticks\": \"\"}, \"baxis\": {\"gridcolor\": \"white\", \"linecolor\": \"white\", \"ticks\": \"\"}, \"bgcolor\": \"#E5ECF6\", \"caxis\": {\"gridcolor\": \"white\", \"linecolor\": \"white\", \"ticks\": \"\"}}, \"title\": {\"x\": 0.05}, \"xaxis\": {\"automargin\": true, \"gridcolor\": \"white\", \"linecolor\": \"white\", \"ticks\": \"\", \"title\": {\"standoff\": 15}, \"zerolinecolor\": \"white\", \"zerolinewidth\": 2}, \"yaxis\": {\"automargin\": true, \"gridcolor\": \"white\", \"linecolor\": \"white\", \"ticks\": \"\", \"title\": {\"standoff\": 15}, \"zerolinecolor\": \"white\", \"zerolinewidth\": 2}}}, \"title\": {\"font\": {\"color\": \"#4D5663\"}}, \"xaxis\": {\"gridcolor\": \"#E1E5ED\", \"showgrid\": true, \"tickfont\": {\"color\": \"#4D5663\"}, \"title\": {\"font\": {\"color\": \"#4D5663\"}, \"text\": \"\"}, \"zerolinecolor\": \"#E1E5ED\"}, \"yaxis\": {\"gridcolor\": \"#E1E5ED\", \"showgrid\": true, \"tickfont\": {\"color\": \"#4D5663\"}, \"title\": {\"font\": {\"color\": \"#4D5663\"}, \"text\": \"\"}, \"zerolinecolor\": \"#E1E5ED\"}},\n",
       "                        {\"showLink\": true, \"linkText\": \"Export to plot.ly\", \"plotlyServerURL\": \"https://plot.ly\", \"responsive\": true}\n",
       "                    ).then(function(){\n",
       "                            \n",
       "var gd = document.getElementById('5460aa36-f347-4152-ba49-c24b20ff851b');\n",
       "var x = new MutationObserver(function (mutations, observer) {{\n",
       "        var display = window.getComputedStyle(gd).display;\n",
       "        if (!display || display === 'none') {{\n",
       "            console.log([gd, 'removed!']);\n",
       "            Plotly.purge(gd);\n",
       "            observer.disconnect();\n",
       "        }}\n",
       "}});\n",
       "\n",
       "// Listen for the removal of the full notebook cells\n",
       "var notebookContainer = gd.closest('#notebook-container');\n",
       "if (notebookContainer) {{\n",
       "    x.observe(notebookContainer, {childList: true});\n",
       "}}\n",
       "\n",
       "// Listen for the clearing of the current output cell\n",
       "var outputEl = gd.closest('.output');\n",
       "if (outputEl) {{\n",
       "    x.observe(outputEl, {childList: true});\n",
       "}}\n",
       "\n",
       "                        })\n",
       "                };\n",
       "                });\n",
       "            </script>\n",
       "        </div>"
      ]
     },
     "metadata": {},
     "output_type": "display_data"
    }
   ],
   "source": [
    "df.iplot(kind='bar')\n",
    "# not what we want"
   ]
  },
  {
   "cell_type": "code",
   "execution_count": 18,
   "metadata": {},
   "outputs": [
    {
     "data": {
      "application/vnd.plotly.v1+json": {
       "config": {
        "linkText": "Export to plot.ly",
        "plotlyServerURL": "https://plot.ly",
        "showLink": true
       },
       "data": [
        {
         "marker": {
          "color": "rgba(255, 153, 51, 0.6)",
          "line": {
           "color": "rgba(255, 153, 51, 1.0)",
           "width": 1
          }
         },
         "name": "None",
         "orientation": "v",
         "text": "",
         "type": "bar",
         "x": [
          "A",
          "B",
          "C",
          "D"
         ],
         "y": [
          -4.179212462068664,
          -15.49928947009524,
          -2.3482272992086486,
          -2.5781802950217614
         ]
        }
       ],
       "layout": {
        "legend": {
         "bgcolor": "#F5F6F9",
         "font": {
          "color": "#4D5663"
         }
        },
        "paper_bgcolor": "#F5F6F9",
        "plot_bgcolor": "#F5F6F9",
        "template": {
         "data": {
          "bar": [
           {
            "error_x": {
             "color": "#2a3f5f"
            },
            "error_y": {
             "color": "#2a3f5f"
            },
            "marker": {
             "line": {
              "color": "#E5ECF6",
              "width": 0.5
             }
            },
            "type": "bar"
           }
          ],
          "barpolar": [
           {
            "marker": {
             "line": {
              "color": "#E5ECF6",
              "width": 0.5
             }
            },
            "type": "barpolar"
           }
          ],
          "carpet": [
           {
            "aaxis": {
             "endlinecolor": "#2a3f5f",
             "gridcolor": "white",
             "linecolor": "white",
             "minorgridcolor": "white",
             "startlinecolor": "#2a3f5f"
            },
            "baxis": {
             "endlinecolor": "#2a3f5f",
             "gridcolor": "white",
             "linecolor": "white",
             "minorgridcolor": "white",
             "startlinecolor": "#2a3f5f"
            },
            "type": "carpet"
           }
          ],
          "choropleth": [
           {
            "colorbar": {
             "outlinewidth": 0,
             "ticks": ""
            },
            "type": "choropleth"
           }
          ],
          "contour": [
           {
            "colorbar": {
             "outlinewidth": 0,
             "ticks": ""
            },
            "colorscale": [
             [
              0,
              "#0d0887"
             ],
             [
              0.1111111111111111,
              "#46039f"
             ],
             [
              0.2222222222222222,
              "#7201a8"
             ],
             [
              0.3333333333333333,
              "#9c179e"
             ],
             [
              0.4444444444444444,
              "#bd3786"
             ],
             [
              0.5555555555555556,
              "#d8576b"
             ],
             [
              0.6666666666666666,
              "#ed7953"
             ],
             [
              0.7777777777777778,
              "#fb9f3a"
             ],
             [
              0.8888888888888888,
              "#fdca26"
             ],
             [
              1,
              "#f0f921"
             ]
            ],
            "type": "contour"
           }
          ],
          "contourcarpet": [
           {
            "colorbar": {
             "outlinewidth": 0,
             "ticks": ""
            },
            "type": "contourcarpet"
           }
          ],
          "heatmap": [
           {
            "colorbar": {
             "outlinewidth": 0,
             "ticks": ""
            },
            "colorscale": [
             [
              0,
              "#0d0887"
             ],
             [
              0.1111111111111111,
              "#46039f"
             ],
             [
              0.2222222222222222,
              "#7201a8"
             ],
             [
              0.3333333333333333,
              "#9c179e"
             ],
             [
              0.4444444444444444,
              "#bd3786"
             ],
             [
              0.5555555555555556,
              "#d8576b"
             ],
             [
              0.6666666666666666,
              "#ed7953"
             ],
             [
              0.7777777777777778,
              "#fb9f3a"
             ],
             [
              0.8888888888888888,
              "#fdca26"
             ],
             [
              1,
              "#f0f921"
             ]
            ],
            "type": "heatmap"
           }
          ],
          "heatmapgl": [
           {
            "colorbar": {
             "outlinewidth": 0,
             "ticks": ""
            },
            "colorscale": [
             [
              0,
              "#0d0887"
             ],
             [
              0.1111111111111111,
              "#46039f"
             ],
             [
              0.2222222222222222,
              "#7201a8"
             ],
             [
              0.3333333333333333,
              "#9c179e"
             ],
             [
              0.4444444444444444,
              "#bd3786"
             ],
             [
              0.5555555555555556,
              "#d8576b"
             ],
             [
              0.6666666666666666,
              "#ed7953"
             ],
             [
              0.7777777777777778,
              "#fb9f3a"
             ],
             [
              0.8888888888888888,
              "#fdca26"
             ],
             [
              1,
              "#f0f921"
             ]
            ],
            "type": "heatmapgl"
           }
          ],
          "histogram": [
           {
            "marker": {
             "colorbar": {
              "outlinewidth": 0,
              "ticks": ""
             }
            },
            "type": "histogram"
           }
          ],
          "histogram2d": [
           {
            "colorbar": {
             "outlinewidth": 0,
             "ticks": ""
            },
            "colorscale": [
             [
              0,
              "#0d0887"
             ],
             [
              0.1111111111111111,
              "#46039f"
             ],
             [
              0.2222222222222222,
              "#7201a8"
             ],
             [
              0.3333333333333333,
              "#9c179e"
             ],
             [
              0.4444444444444444,
              "#bd3786"
             ],
             [
              0.5555555555555556,
              "#d8576b"
             ],
             [
              0.6666666666666666,
              "#ed7953"
             ],
             [
              0.7777777777777778,
              "#fb9f3a"
             ],
             [
              0.8888888888888888,
              "#fdca26"
             ],
             [
              1,
              "#f0f921"
             ]
            ],
            "type": "histogram2d"
           }
          ],
          "histogram2dcontour": [
           {
            "colorbar": {
             "outlinewidth": 0,
             "ticks": ""
            },
            "colorscale": [
             [
              0,
              "#0d0887"
             ],
             [
              0.1111111111111111,
              "#46039f"
             ],
             [
              0.2222222222222222,
              "#7201a8"
             ],
             [
              0.3333333333333333,
              "#9c179e"
             ],
             [
              0.4444444444444444,
              "#bd3786"
             ],
             [
              0.5555555555555556,
              "#d8576b"
             ],
             [
              0.6666666666666666,
              "#ed7953"
             ],
             [
              0.7777777777777778,
              "#fb9f3a"
             ],
             [
              0.8888888888888888,
              "#fdca26"
             ],
             [
              1,
              "#f0f921"
             ]
            ],
            "type": "histogram2dcontour"
           }
          ],
          "mesh3d": [
           {
            "colorbar": {
             "outlinewidth": 0,
             "ticks": ""
            },
            "type": "mesh3d"
           }
          ],
          "parcoords": [
           {
            "line": {
             "colorbar": {
              "outlinewidth": 0,
              "ticks": ""
             }
            },
            "type": "parcoords"
           }
          ],
          "pie": [
           {
            "automargin": true,
            "type": "pie"
           }
          ],
          "scatter": [
           {
            "marker": {
             "colorbar": {
              "outlinewidth": 0,
              "ticks": ""
             }
            },
            "type": "scatter"
           }
          ],
          "scatter3d": [
           {
            "line": {
             "colorbar": {
              "outlinewidth": 0,
              "ticks": ""
             }
            },
            "marker": {
             "colorbar": {
              "outlinewidth": 0,
              "ticks": ""
             }
            },
            "type": "scatter3d"
           }
          ],
          "scattercarpet": [
           {
            "marker": {
             "colorbar": {
              "outlinewidth": 0,
              "ticks": ""
             }
            },
            "type": "scattercarpet"
           }
          ],
          "scattergeo": [
           {
            "marker": {
             "colorbar": {
              "outlinewidth": 0,
              "ticks": ""
             }
            },
            "type": "scattergeo"
           }
          ],
          "scattergl": [
           {
            "marker": {
             "colorbar": {
              "outlinewidth": 0,
              "ticks": ""
             }
            },
            "type": "scattergl"
           }
          ],
          "scattermapbox": [
           {
            "marker": {
             "colorbar": {
              "outlinewidth": 0,
              "ticks": ""
             }
            },
            "type": "scattermapbox"
           }
          ],
          "scatterpolar": [
           {
            "marker": {
             "colorbar": {
              "outlinewidth": 0,
              "ticks": ""
             }
            },
            "type": "scatterpolar"
           }
          ],
          "scatterpolargl": [
           {
            "marker": {
             "colorbar": {
              "outlinewidth": 0,
              "ticks": ""
             }
            },
            "type": "scatterpolargl"
           }
          ],
          "scatterternary": [
           {
            "marker": {
             "colorbar": {
              "outlinewidth": 0,
              "ticks": ""
             }
            },
            "type": "scatterternary"
           }
          ],
          "surface": [
           {
            "colorbar": {
             "outlinewidth": 0,
             "ticks": ""
            },
            "colorscale": [
             [
              0,
              "#0d0887"
             ],
             [
              0.1111111111111111,
              "#46039f"
             ],
             [
              0.2222222222222222,
              "#7201a8"
             ],
             [
              0.3333333333333333,
              "#9c179e"
             ],
             [
              0.4444444444444444,
              "#bd3786"
             ],
             [
              0.5555555555555556,
              "#d8576b"
             ],
             [
              0.6666666666666666,
              "#ed7953"
             ],
             [
              0.7777777777777778,
              "#fb9f3a"
             ],
             [
              0.8888888888888888,
              "#fdca26"
             ],
             [
              1,
              "#f0f921"
             ]
            ],
            "type": "surface"
           }
          ],
          "table": [
           {
            "cells": {
             "fill": {
              "color": "#EBF0F8"
             },
             "line": {
              "color": "white"
             }
            },
            "header": {
             "fill": {
              "color": "#C8D4E3"
             },
             "line": {
              "color": "white"
             }
            },
            "type": "table"
           }
          ]
         },
         "layout": {
          "annotationdefaults": {
           "arrowcolor": "#2a3f5f",
           "arrowhead": 0,
           "arrowwidth": 1
          },
          "coloraxis": {
           "colorbar": {
            "outlinewidth": 0,
            "ticks": ""
           }
          },
          "colorscale": {
           "diverging": [
            [
             0,
             "#8e0152"
            ],
            [
             0.1,
             "#c51b7d"
            ],
            [
             0.2,
             "#de77ae"
            ],
            [
             0.3,
             "#f1b6da"
            ],
            [
             0.4,
             "#fde0ef"
            ],
            [
             0.5,
             "#f7f7f7"
            ],
            [
             0.6,
             "#e6f5d0"
            ],
            [
             0.7,
             "#b8e186"
            ],
            [
             0.8,
             "#7fbc41"
            ],
            [
             0.9,
             "#4d9221"
            ],
            [
             1,
             "#276419"
            ]
           ],
           "sequential": [
            [
             0,
             "#0d0887"
            ],
            [
             0.1111111111111111,
             "#46039f"
            ],
            [
             0.2222222222222222,
             "#7201a8"
            ],
            [
             0.3333333333333333,
             "#9c179e"
            ],
            [
             0.4444444444444444,
             "#bd3786"
            ],
            [
             0.5555555555555556,
             "#d8576b"
            ],
            [
             0.6666666666666666,
             "#ed7953"
            ],
            [
             0.7777777777777778,
             "#fb9f3a"
            ],
            [
             0.8888888888888888,
             "#fdca26"
            ],
            [
             1,
             "#f0f921"
            ]
           ],
           "sequentialminus": [
            [
             0,
             "#0d0887"
            ],
            [
             0.1111111111111111,
             "#46039f"
            ],
            [
             0.2222222222222222,
             "#7201a8"
            ],
            [
             0.3333333333333333,
             "#9c179e"
            ],
            [
             0.4444444444444444,
             "#bd3786"
            ],
            [
             0.5555555555555556,
             "#d8576b"
            ],
            [
             0.6666666666666666,
             "#ed7953"
            ],
            [
             0.7777777777777778,
             "#fb9f3a"
            ],
            [
             0.8888888888888888,
             "#fdca26"
            ],
            [
             1,
             "#f0f921"
            ]
           ]
          },
          "colorway": [
           "#636efa",
           "#EF553B",
           "#00cc96",
           "#ab63fa",
           "#FFA15A",
           "#19d3f3",
           "#FF6692",
           "#B6E880",
           "#FF97FF",
           "#FECB52"
          ],
          "font": {
           "color": "#2a3f5f"
          },
          "geo": {
           "bgcolor": "white",
           "lakecolor": "white",
           "landcolor": "#E5ECF6",
           "showlakes": true,
           "showland": true,
           "subunitcolor": "white"
          },
          "hoverlabel": {
           "align": "left"
          },
          "hovermode": "closest",
          "mapbox": {
           "style": "light"
          },
          "paper_bgcolor": "white",
          "plot_bgcolor": "#E5ECF6",
          "polar": {
           "angularaxis": {
            "gridcolor": "white",
            "linecolor": "white",
            "ticks": ""
           },
           "bgcolor": "#E5ECF6",
           "radialaxis": {
            "gridcolor": "white",
            "linecolor": "white",
            "ticks": ""
           }
          },
          "scene": {
           "xaxis": {
            "backgroundcolor": "#E5ECF6",
            "gridcolor": "white",
            "gridwidth": 2,
            "linecolor": "white",
            "showbackground": true,
            "ticks": "",
            "zerolinecolor": "white"
           },
           "yaxis": {
            "backgroundcolor": "#E5ECF6",
            "gridcolor": "white",
            "gridwidth": 2,
            "linecolor": "white",
            "showbackground": true,
            "ticks": "",
            "zerolinecolor": "white"
           },
           "zaxis": {
            "backgroundcolor": "#E5ECF6",
            "gridcolor": "white",
            "gridwidth": 2,
            "linecolor": "white",
            "showbackground": true,
            "ticks": "",
            "zerolinecolor": "white"
           }
          },
          "shapedefaults": {
           "line": {
            "color": "#2a3f5f"
           }
          },
          "ternary": {
           "aaxis": {
            "gridcolor": "white",
            "linecolor": "white",
            "ticks": ""
           },
           "baxis": {
            "gridcolor": "white",
            "linecolor": "white",
            "ticks": ""
           },
           "bgcolor": "#E5ECF6",
           "caxis": {
            "gridcolor": "white",
            "linecolor": "white",
            "ticks": ""
           }
          },
          "title": {
           "x": 0.05
          },
          "xaxis": {
           "automargin": true,
           "gridcolor": "white",
           "linecolor": "white",
           "ticks": "",
           "title": {
            "standoff": 15
           },
           "zerolinecolor": "white",
           "zerolinewidth": 2
          },
          "yaxis": {
           "automargin": true,
           "gridcolor": "white",
           "linecolor": "white",
           "ticks": "",
           "title": {
            "standoff": 15
           },
           "zerolinecolor": "white",
           "zerolinewidth": 2
          }
         }
        },
        "title": {
         "font": {
          "color": "#4D5663"
         }
        },
        "xaxis": {
         "gridcolor": "#E1E5ED",
         "showgrid": true,
         "tickfont": {
          "color": "#4D5663"
         },
         "title": {
          "font": {
           "color": "#4D5663"
          },
          "text": ""
         },
         "zerolinecolor": "#E1E5ED"
        },
        "yaxis": {
         "gridcolor": "#E1E5ED",
         "showgrid": true,
         "tickfont": {
          "color": "#4D5663"
         },
         "title": {
          "font": {
           "color": "#4D5663"
          },
          "text": ""
         },
         "zerolinecolor": "#E1E5ED"
        }
       }
      },
      "text/html": [
       "<div>\n",
       "        \n",
       "        \n",
       "            <div id=\"78498a00-5787-4cfd-b6d6-5cbe103d8d53\" class=\"plotly-graph-div\" style=\"height:525px; width:100%;\"></div>\n",
       "            <script type=\"text/javascript\">\n",
       "                require([\"plotly\"], function(Plotly) {\n",
       "                    window.PLOTLYENV=window.PLOTLYENV || {};\n",
       "                    window.PLOTLYENV.BASE_URL='https://plot.ly';\n",
       "                    \n",
       "                if (document.getElementById(\"78498a00-5787-4cfd-b6d6-5cbe103d8d53\")) {\n",
       "                    Plotly.newPlot(\n",
       "                        '78498a00-5787-4cfd-b6d6-5cbe103d8d53',\n",
       "                        [{\"marker\": {\"color\": \"rgba(255, 153, 51, 0.6)\", \"line\": {\"color\": \"rgba(255, 153, 51, 1.0)\", \"width\": 1}}, \"name\": \"None\", \"orientation\": \"v\", \"text\": \"\", \"type\": \"bar\", \"x\": [\"A\", \"B\", \"C\", \"D\"], \"y\": [-4.179212462068664, -15.49928947009524, -2.3482272992086486, -2.5781802950217614]}],\n",
       "                        {\"legend\": {\"bgcolor\": \"#F5F6F9\", \"font\": {\"color\": \"#4D5663\"}}, \"paper_bgcolor\": \"#F5F6F9\", \"plot_bgcolor\": \"#F5F6F9\", \"template\": {\"data\": {\"bar\": [{\"error_x\": {\"color\": \"#2a3f5f\"}, \"error_y\": {\"color\": \"#2a3f5f\"}, \"marker\": {\"line\": {\"color\": \"#E5ECF6\", \"width\": 0.5}}, \"type\": \"bar\"}], \"barpolar\": [{\"marker\": {\"line\": {\"color\": \"#E5ECF6\", \"width\": 0.5}}, \"type\": \"barpolar\"}], \"carpet\": [{\"aaxis\": {\"endlinecolor\": \"#2a3f5f\", \"gridcolor\": \"white\", \"linecolor\": \"white\", \"minorgridcolor\": \"white\", \"startlinecolor\": \"#2a3f5f\"}, \"baxis\": {\"endlinecolor\": \"#2a3f5f\", \"gridcolor\": \"white\", \"linecolor\": \"white\", \"minorgridcolor\": \"white\", \"startlinecolor\": \"#2a3f5f\"}, \"type\": \"carpet\"}], \"choropleth\": [{\"colorbar\": {\"outlinewidth\": 0, \"ticks\": \"\"}, \"type\": \"choropleth\"}], \"contour\": [{\"colorbar\": {\"outlinewidth\": 0, \"ticks\": \"\"}, \"colorscale\": [[0.0, \"#0d0887\"], [0.1111111111111111, \"#46039f\"], [0.2222222222222222, \"#7201a8\"], [0.3333333333333333, \"#9c179e\"], [0.4444444444444444, \"#bd3786\"], [0.5555555555555556, \"#d8576b\"], [0.6666666666666666, \"#ed7953\"], [0.7777777777777778, \"#fb9f3a\"], [0.8888888888888888, \"#fdca26\"], [1.0, \"#f0f921\"]], \"type\": \"contour\"}], \"contourcarpet\": [{\"colorbar\": {\"outlinewidth\": 0, \"ticks\": \"\"}, \"type\": \"contourcarpet\"}], \"heatmap\": [{\"colorbar\": {\"outlinewidth\": 0, \"ticks\": \"\"}, \"colorscale\": [[0.0, \"#0d0887\"], [0.1111111111111111, \"#46039f\"], [0.2222222222222222, \"#7201a8\"], [0.3333333333333333, \"#9c179e\"], [0.4444444444444444, \"#bd3786\"], [0.5555555555555556, \"#d8576b\"], [0.6666666666666666, \"#ed7953\"], [0.7777777777777778, \"#fb9f3a\"], [0.8888888888888888, \"#fdca26\"], [1.0, \"#f0f921\"]], \"type\": \"heatmap\"}], \"heatmapgl\": [{\"colorbar\": {\"outlinewidth\": 0, \"ticks\": \"\"}, \"colorscale\": [[0.0, \"#0d0887\"], [0.1111111111111111, \"#46039f\"], [0.2222222222222222, \"#7201a8\"], [0.3333333333333333, \"#9c179e\"], [0.4444444444444444, \"#bd3786\"], [0.5555555555555556, \"#d8576b\"], [0.6666666666666666, \"#ed7953\"], [0.7777777777777778, \"#fb9f3a\"], [0.8888888888888888, \"#fdca26\"], [1.0, \"#f0f921\"]], \"type\": \"heatmapgl\"}], \"histogram\": [{\"marker\": {\"colorbar\": {\"outlinewidth\": 0, \"ticks\": \"\"}}, \"type\": \"histogram\"}], \"histogram2d\": [{\"colorbar\": {\"outlinewidth\": 0, \"ticks\": \"\"}, \"colorscale\": [[0.0, \"#0d0887\"], [0.1111111111111111, \"#46039f\"], [0.2222222222222222, \"#7201a8\"], [0.3333333333333333, \"#9c179e\"], [0.4444444444444444, \"#bd3786\"], [0.5555555555555556, \"#d8576b\"], [0.6666666666666666, \"#ed7953\"], [0.7777777777777778, \"#fb9f3a\"], [0.8888888888888888, \"#fdca26\"], [1.0, \"#f0f921\"]], \"type\": \"histogram2d\"}], \"histogram2dcontour\": [{\"colorbar\": {\"outlinewidth\": 0, \"ticks\": \"\"}, \"colorscale\": [[0.0, \"#0d0887\"], [0.1111111111111111, \"#46039f\"], [0.2222222222222222, \"#7201a8\"], [0.3333333333333333, \"#9c179e\"], [0.4444444444444444, \"#bd3786\"], [0.5555555555555556, \"#d8576b\"], [0.6666666666666666, \"#ed7953\"], [0.7777777777777778, \"#fb9f3a\"], [0.8888888888888888, \"#fdca26\"], [1.0, \"#f0f921\"]], \"type\": \"histogram2dcontour\"}], \"mesh3d\": [{\"colorbar\": {\"outlinewidth\": 0, \"ticks\": \"\"}, \"type\": \"mesh3d\"}], \"parcoords\": [{\"line\": {\"colorbar\": {\"outlinewidth\": 0, \"ticks\": \"\"}}, \"type\": \"parcoords\"}], \"pie\": [{\"automargin\": true, \"type\": \"pie\"}], \"scatter\": [{\"marker\": {\"colorbar\": {\"outlinewidth\": 0, \"ticks\": \"\"}}, \"type\": \"scatter\"}], \"scatter3d\": [{\"line\": {\"colorbar\": {\"outlinewidth\": 0, \"ticks\": \"\"}}, \"marker\": {\"colorbar\": {\"outlinewidth\": 0, \"ticks\": \"\"}}, \"type\": \"scatter3d\"}], \"scattercarpet\": [{\"marker\": {\"colorbar\": {\"outlinewidth\": 0, \"ticks\": \"\"}}, \"type\": \"scattercarpet\"}], \"scattergeo\": [{\"marker\": {\"colorbar\": {\"outlinewidth\": 0, \"ticks\": \"\"}}, \"type\": \"scattergeo\"}], \"scattergl\": [{\"marker\": {\"colorbar\": {\"outlinewidth\": 0, \"ticks\": \"\"}}, \"type\": \"scattergl\"}], \"scattermapbox\": [{\"marker\": {\"colorbar\": {\"outlinewidth\": 0, \"ticks\": \"\"}}, \"type\": \"scattermapbox\"}], \"scatterpolar\": [{\"marker\": {\"colorbar\": {\"outlinewidth\": 0, \"ticks\": \"\"}}, \"type\": \"scatterpolar\"}], \"scatterpolargl\": [{\"marker\": {\"colorbar\": {\"outlinewidth\": 0, \"ticks\": \"\"}}, \"type\": \"scatterpolargl\"}], \"scatterternary\": [{\"marker\": {\"colorbar\": {\"outlinewidth\": 0, \"ticks\": \"\"}}, \"type\": \"scatterternary\"}], \"surface\": [{\"colorbar\": {\"outlinewidth\": 0, \"ticks\": \"\"}, \"colorscale\": [[0.0, \"#0d0887\"], [0.1111111111111111, \"#46039f\"], [0.2222222222222222, \"#7201a8\"], [0.3333333333333333, \"#9c179e\"], [0.4444444444444444, \"#bd3786\"], [0.5555555555555556, \"#d8576b\"], [0.6666666666666666, \"#ed7953\"], [0.7777777777777778, \"#fb9f3a\"], [0.8888888888888888, \"#fdca26\"], [1.0, \"#f0f921\"]], \"type\": \"surface\"}], \"table\": [{\"cells\": {\"fill\": {\"color\": \"#EBF0F8\"}, \"line\": {\"color\": \"white\"}}, \"header\": {\"fill\": {\"color\": \"#C8D4E3\"}, \"line\": {\"color\": \"white\"}}, \"type\": \"table\"}]}, \"layout\": {\"annotationdefaults\": {\"arrowcolor\": \"#2a3f5f\", \"arrowhead\": 0, \"arrowwidth\": 1}, \"coloraxis\": {\"colorbar\": {\"outlinewidth\": 0, \"ticks\": \"\"}}, \"colorscale\": {\"diverging\": [[0, \"#8e0152\"], [0.1, \"#c51b7d\"], [0.2, \"#de77ae\"], [0.3, \"#f1b6da\"], [0.4, \"#fde0ef\"], [0.5, \"#f7f7f7\"], [0.6, \"#e6f5d0\"], [0.7, \"#b8e186\"], [0.8, \"#7fbc41\"], [0.9, \"#4d9221\"], [1, \"#276419\"]], \"sequential\": [[0.0, \"#0d0887\"], [0.1111111111111111, \"#46039f\"], [0.2222222222222222, \"#7201a8\"], [0.3333333333333333, \"#9c179e\"], [0.4444444444444444, \"#bd3786\"], [0.5555555555555556, \"#d8576b\"], [0.6666666666666666, \"#ed7953\"], [0.7777777777777778, \"#fb9f3a\"], [0.8888888888888888, \"#fdca26\"], [1.0, \"#f0f921\"]], \"sequentialminus\": [[0.0, \"#0d0887\"], [0.1111111111111111, \"#46039f\"], [0.2222222222222222, \"#7201a8\"], [0.3333333333333333, \"#9c179e\"], [0.4444444444444444, \"#bd3786\"], [0.5555555555555556, \"#d8576b\"], [0.6666666666666666, \"#ed7953\"], [0.7777777777777778, \"#fb9f3a\"], [0.8888888888888888, \"#fdca26\"], [1.0, \"#f0f921\"]]}, \"colorway\": [\"#636efa\", \"#EF553B\", \"#00cc96\", \"#ab63fa\", \"#FFA15A\", \"#19d3f3\", \"#FF6692\", \"#B6E880\", \"#FF97FF\", \"#FECB52\"], \"font\": {\"color\": \"#2a3f5f\"}, \"geo\": {\"bgcolor\": \"white\", \"lakecolor\": \"white\", \"landcolor\": \"#E5ECF6\", \"showlakes\": true, \"showland\": true, \"subunitcolor\": \"white\"}, \"hoverlabel\": {\"align\": \"left\"}, \"hovermode\": \"closest\", \"mapbox\": {\"style\": \"light\"}, \"paper_bgcolor\": \"white\", \"plot_bgcolor\": \"#E5ECF6\", \"polar\": {\"angularaxis\": {\"gridcolor\": \"white\", \"linecolor\": \"white\", \"ticks\": \"\"}, \"bgcolor\": \"#E5ECF6\", \"radialaxis\": {\"gridcolor\": \"white\", \"linecolor\": \"white\", \"ticks\": \"\"}}, \"scene\": {\"xaxis\": {\"backgroundcolor\": \"#E5ECF6\", \"gridcolor\": \"white\", \"gridwidth\": 2, \"linecolor\": \"white\", \"showbackground\": true, \"ticks\": \"\", \"zerolinecolor\": \"white\"}, \"yaxis\": {\"backgroundcolor\": \"#E5ECF6\", \"gridcolor\": \"white\", \"gridwidth\": 2, \"linecolor\": \"white\", \"showbackground\": true, \"ticks\": \"\", \"zerolinecolor\": \"white\"}, \"zaxis\": {\"backgroundcolor\": \"#E5ECF6\", \"gridcolor\": \"white\", \"gridwidth\": 2, \"linecolor\": \"white\", \"showbackground\": true, \"ticks\": \"\", \"zerolinecolor\": \"white\"}}, \"shapedefaults\": {\"line\": {\"color\": \"#2a3f5f\"}}, \"ternary\": {\"aaxis\": {\"gridcolor\": \"white\", \"linecolor\": \"white\", \"ticks\": \"\"}, \"baxis\": {\"gridcolor\": \"white\", \"linecolor\": \"white\", \"ticks\": \"\"}, \"bgcolor\": \"#E5ECF6\", \"caxis\": {\"gridcolor\": \"white\", \"linecolor\": \"white\", \"ticks\": \"\"}}, \"title\": {\"x\": 0.05}, \"xaxis\": {\"automargin\": true, \"gridcolor\": \"white\", \"linecolor\": \"white\", \"ticks\": \"\", \"title\": {\"standoff\": 15}, \"zerolinecolor\": \"white\", \"zerolinewidth\": 2}, \"yaxis\": {\"automargin\": true, \"gridcolor\": \"white\", \"linecolor\": \"white\", \"ticks\": \"\", \"title\": {\"standoff\": 15}, \"zerolinecolor\": \"white\", \"zerolinewidth\": 2}}}, \"title\": {\"font\": {\"color\": \"#4D5663\"}}, \"xaxis\": {\"gridcolor\": \"#E1E5ED\", \"showgrid\": true, \"tickfont\": {\"color\": \"#4D5663\"}, \"title\": {\"font\": {\"color\": \"#4D5663\"}, \"text\": \"\"}, \"zerolinecolor\": \"#E1E5ED\"}, \"yaxis\": {\"gridcolor\": \"#E1E5ED\", \"showgrid\": true, \"tickfont\": {\"color\": \"#4D5663\"}, \"title\": {\"font\": {\"color\": \"#4D5663\"}, \"text\": \"\"}, \"zerolinecolor\": \"#E1E5ED\"}},\n",
       "                        {\"showLink\": true, \"linkText\": \"Export to plot.ly\", \"plotlyServerURL\": \"https://plot.ly\", \"responsive\": true}\n",
       "                    ).then(function(){\n",
       "                            \n",
       "var gd = document.getElementById('78498a00-5787-4cfd-b6d6-5cbe103d8d53');\n",
       "var x = new MutationObserver(function (mutations, observer) {{\n",
       "        var display = window.getComputedStyle(gd).display;\n",
       "        if (!display || display === 'none') {{\n",
       "            console.log([gd, 'removed!']);\n",
       "            Plotly.purge(gd);\n",
       "            observer.disconnect();\n",
       "        }}\n",
       "}});\n",
       "\n",
       "// Listen for the removal of the full notebook cells\n",
       "var notebookContainer = gd.closest('#notebook-container');\n",
       "if (notebookContainer) {{\n",
       "    x.observe(notebookContainer, {childList: true});\n",
       "}}\n",
       "\n",
       "// Listen for the clearing of the current output cell\n",
       "var outputEl = gd.closest('.output');\n",
       "if (outputEl) {{\n",
       "    x.observe(outputEl, {childList: true});\n",
       "}}\n",
       "\n",
       "                        })\n",
       "                };\n",
       "                });\n",
       "            </script>\n",
       "        </div>"
      ]
     },
     "metadata": {},
     "output_type": "display_data"
    }
   ],
   "source": [
    "df.sum().iplot(kind='bar')"
   ]
  },
  {
   "cell_type": "code",
   "execution_count": 19,
   "metadata": {},
   "outputs": [
    {
     "data": {
      "application/vnd.plotly.v1+json": {
       "config": {
        "linkText": "Export to plot.ly",
        "plotlyServerURL": "https://plot.ly",
        "showLink": true
       },
       "data": [
        {
         "boxpoints": false,
         "line": {
          "width": 1.3
         },
         "marker": {
          "color": "rgba(255, 153, 51, 1.0)"
         },
         "name": "A",
         "orientation": "v",
         "type": "box",
         "y": [
          -0.3528362464153668,
          -0.284490578588392,
          2.203326375137168,
          1.1914906229339413,
          -0.5643907599811814,
          2.7798718153014357,
          1.1392230478947218,
          -0.3969084492198873,
          -0.8431354506721372,
          -1.2113706937321673,
          -1.1232328854452367,
          0.4518665654795515,
          0.15108658835894914,
          -1.7197708096350655,
          -0.07078563077906978,
          -0.980891266191066,
          -2.0065915820068994,
          0.04405074044947059,
          -0.1816391125056839,
          0.7598049797859753,
          -1.096012407090366,
          -1.4973956161707278,
          -2.2293808754538005,
          -0.15494190096890462,
          -0.8404676595449304,
          -1.5864444840611043,
          -1.271828143859151,
          0.233536485699503,
          0.32955043668175693,
          1.1595295612279588,
          -0.5278554404367857,
          -0.16303045205008881,
          -1.7674739515583324,
          0.33892658874933296,
          0.19685617323938542,
          0.33023853338745474,
          0.03730643652616613,
          0.32496894629056994,
          0.23244779523287074,
          -0.01842197648227652,
          -1.1672830340101563,
          -0.40440266128609065,
          2.07759282848088,
          0.14020699314040225,
          0.11670666187449041,
          -1.3759216802724983,
          2.3270704249878746,
          0.3972406311737788,
          0.17442023752997537,
          -0.2800525759529055,
          0.4506210148099999,
          2.6202326404140677,
          1.0653150560571336,
          1.7095140209602646,
          0.7990198343521421,
          -0.8281912607199876,
          -0.806280334150687,
          1.6979095908090678,
          -0.8672712204039527,
          1.1005741543620384,
          -0.6546095261109552,
          0.9048167986183359,
          -0.7100506115690377,
          0.648084430407177,
          0.9447881732500704,
          -0.4713552039565896,
          0.21402616654041448,
          -0.935151045365892,
          1.2150495379117552,
          -0.43140919672950967,
          -1.1891048756132958,
          0.9847206464209383,
          0.40945681494002684,
          -0.8066269723088334,
          -0.6687296314674605,
          -1.0238807147882825,
          -0.2700469623402802,
          0.5690651238713944,
          0.6865219970682781,
          0.6483901625701793,
          1.2905559982270822,
          0.8178639588042602,
          1.1575135611917569,
          -2.0984711888019745,
          -1.7762476161655396,
          -0.6748575307003194,
          -0.21849196898810175,
          -0.5753702112145309,
          -0.3920858562314582,
          0.6970390930379042,
          -1.4429250467452353,
          -0.3166115618643759,
          -0.3519621812877541,
          -0.4525464016079805,
          0.5423829440734289,
          -0.36691990004214553,
          -0.7611303390249726,
          2.0511135768496143,
          -0.9598352743683791,
          -0.37398827024180453
         ]
        },
        {
         "boxpoints": false,
         "line": {
          "width": 1.3
         },
         "marker": {
          "color": "rgba(55, 128, 191, 1.0)"
         },
         "name": "B",
         "orientation": "v",
         "type": "box",
         "y": [
          -1.5145455118176767,
          -0.01367326820150052,
          -0.7829236033971367,
          2.1758105864782173,
          0.014005493606606743,
          -0.408817628815818,
          -1.9692976906687827,
          0.7934251922172569,
          -0.10928246963521912,
          -1.8675911342151044,
          -0.291350381007704,
          -0.2861757143497499,
          0.45182196198038505,
          -1.3540852014076956,
          0.11849633147728272,
          -1.4831515290012542,
          -0.15594664619415652,
          0.8218005891800004,
          -1.3196893908390053,
          0.9516245220412897,
          1.0245182381659395,
          -0.9086606060000463,
          0.3667342867629603,
          2.1748246081996387,
          -1.4412403414461203,
          1.3547356288206962,
          0.07448038483912717,
          -2.0463557158127803,
          -0.2466438968154346,
          0.7427704569505088,
          0.7393827811394357,
          0.3470737898934057,
          -0.21339715374304669,
          -0.29843604210654695,
          -0.26984569594619834,
          -0.7380914719749732,
          0.085445841445681,
          -0.03377606407086046,
          -0.20658488335554978,
          -0.2320627365179663,
          0.6895012608888704,
          -1.9625798027603658,
          -1.3809616631815926,
          1.270026636907869,
          -1.1676750826700475,
          0.6835442102993022,
          -0.10819067203435048,
          -0.38848646939043074,
          -1.3146096093947917,
          1.2343026179645644,
          -1.1578924940873192,
          0.9311809476907813,
          -0.9408852209315937,
          0.2777851236373851,
          -0.2792794125675632,
          0.5699172325515569,
          1.1815215185447847,
          -0.4101575978585351,
          -1.3520086334848345,
          -0.2206896804793058,
          -0.635846746095747,
          -2.2801475925723,
          -0.13273463837665134,
          -1.4357460149388654,
          -2.0947528958618142,
          -1.4043908765273556,
          1.235437712356553,
          -0.2961297710843259,
          0.712446862050636,
          -0.5733163055127384,
          0.8724480526635303,
          0.34296687693318517,
          -1.8772458375662273,
          0.04838875314046682,
          1.1439410329456652,
          -1.4074872363653521,
          -0.41353126423716985,
          -1.2891804111532066,
          -0.8016211831893039,
          -1.1778852829324677,
          0.8601306959837082,
          -0.7846632368352668,
          0.8951888056616729,
          -0.1209386568012941,
          0.3507332670458818,
          0.40839273692365535,
          1.3923988082070355,
          0.5898704076273781,
          1.4937796385060818,
          0.9554951083022206,
          -0.12453902532811652,
          -1.280101497255287,
          -0.8670228686188641,
          -0.6542483247746392,
          -0.27107332066291734,
          1.7482116014051732,
          1.6179167104189263,
          -0.627179728211577,
          0.7520281731249727,
          -0.5689711239929849
         ]
        },
        {
         "boxpoints": false,
         "line": {
          "width": 1.3
         },
         "marker": {
          "color": "rgba(50, 171, 96, 1.0)"
         },
         "name": "C",
         "orientation": "v",
         "type": "box",
         "y": [
          -2.3704016563776555,
          0.710914398419287,
          0.6309631659503724,
          -2.8442861967365327,
          -0.0037811628578325435,
          -0.6382947031932034,
          -0.5832920116811756,
          1.1026000251690178,
          -0.4489180991658564,
          1.05520211811089,
          1.1082161681792269,
          0.046435857114627235,
          -0.2510267408961941,
          -0.4371164022967774,
          -0.5726351450065652,
          -0.4558868992851681,
          0.8045657127614613,
          -0.6143361630344545,
          -1.6160987259954223,
          1.3057845255800853,
          -0.7461470247736539,
          0.1750160823313732,
          -1.1067051377260886,
          -0.5204797459819671,
          -1.4376613633318407,
          -0.46334884147883815,
          0.9571971280775794,
          0.10750091380559694,
          0.2999155740381957,
          0.2185691512067851,
          -0.2579678098624532,
          1.3217142621895663,
          0.4953794816082393,
          -0.024538641741287965,
          -0.07153303580223697,
          -0.1793581282707107,
          -0.06729147187170058,
          -2.557307701474324,
          -0.1060324200332444,
          0.31169871316192516,
          1.3348243165181144,
          -1.9852327530302238,
          -0.5047144315416485,
          2.0115813901704973,
          0.7134892560485943,
          0.5484249921365187,
          0.11248846492915397,
          0.08333088334699466,
          -1.3682499335799407,
          -0.6974724359103268,
          0.37716037785946616,
          0.17044734212634838,
          0.12590105794568657,
          0.7343765332029945,
          -1.4006553322902726,
          1.0398357714966402,
          1.1634583514551176,
          1.58060380206921,
          -1.2613190243691939,
          1.2877452491185823,
          1.2460599997934427,
          0.3613975529675301,
          0.21462586530124092,
          -0.6090968319472858,
          0.23882620428736073,
          0.00036416526394703947,
          -1.2276092246013988,
          -0.8340878876745745,
          -0.08872398862382311,
          -0.061588045991439896,
          0.07524987023586598,
          1.153665247704061,
          -0.10204239551389348,
          1.3361090973740046,
          -0.5740083415431523,
          -0.8577488708805439,
          -0.4261175399792977,
          0.9653094704371724,
          -0.8173212555447603,
          1.0639239966446306,
          1.4278115423329014,
          0.7042444273074215,
          0.22693524735557136,
          -0.7652187063502671,
          -0.2502387171320374,
          0.5676968944730754,
          0.5943365371060254,
          0.6837008990404221,
          0.45789611494130283,
          -0.35489134846406123,
          -0.4914581973149613,
          -0.4131351259857275,
          -1.023404819406341,
          0.1370090793966986,
          0.961244139221754,
          0.007385617385094512,
          1.0517038093011737,
          -1.3085422591568026,
          -0.11633946117127415,
          -1.8454019863290603
         ]
        },
        {
         "boxpoints": false,
         "line": {
          "width": 1.3
         },
         "marker": {
          "color": "rgba(128, 0, 128, 1.0)"
         },
         "name": "D",
         "orientation": "v",
         "type": "box",
         "y": [
          0.5537390638675553,
          1.7275733675276843,
          1.216431303443142,
          -0.35761928337126386,
          -0.2766384153037906,
          0.9175563269542514,
          0.7913703760222024,
          0.6220956147817989,
          -0.9831544551054343,
          1.0285919896520503,
          -0.31358613968988003,
          -0.775285515456309,
          0.9121360708078701,
          -1.3392510286273374,
          -0.2247116800768073,
          0.9541268394764304,
          -1.2930827345554905,
          -0.1794147558476305,
          -0.204389594528781,
          -0.5649726476650159,
          -0.22933740132582756,
          -0.12357211924056424,
          0.4077407006940749,
          2.043079024269626,
          -1.8966506055913155,
          0.37506058424840283,
          -0.3557237502946604,
          -1.1658294796761153,
          -0.3314174317554599,
          0.5145784433956135,
          -0.17837855724679227,
          0.5819743037137235,
          -0.2170352844294026,
          -1.5008635117509095,
          0.4430612675009117,
          -0.5607325848055742,
          -0.8927402578611204,
          -1.00706359189859,
          0.7062444360618905,
          0.37532512452690064,
          -0.60918430290378,
          -0.3994943366348986,
          0.17679870439558548,
          -1.174429900552088,
          -1.3649070274623116,
          0.8110181135624027,
          1.2204650689075098,
          -0.04066020848211326,
          -0.798661941308709,
          -0.9230544760455293,
          2.48660459433927,
          -0.06274331502043014,
          -1.1079901104727323,
          0.149286669555233,
          -0.41689930404468056,
          -1.2000400022790192,
          -0.5385790202389502,
          -0.9264732450946596,
          0.34937348613737107,
          -0.38320883769824815,
          1.3675813627800308,
          0.3696598404405374,
          0.31873612059708706,
          0.8654078552911361,
          -1.5376213372959873,
          -0.1947903323528216,
          -1.1909326220751137,
          0.10457430890020339,
          0.6050940987273143,
          -0.5132853593327287,
          -0.7755845604958479,
          1.7023984579456823,
          0.38754335554690883,
          -0.9282832799462417,
          -0.5055032937398403,
          -0.05673078953268362,
          0.7475335009747427,
          -0.06210187278705163,
          1.5377080899458013,
          -0.6697979120234541,
          0.29250646337732666,
          -0.157303460931491,
          1.2745952342564728,
          -2.0248042313737624,
          -0.09095499158177012,
          0.330332051144852,
          -1.421859288088006,
          0.8450082617292108,
          -0.5335434113230583,
          -0.2855092868899809,
          -0.0021180714025973127,
          -0.3188647510560923,
          0.7484749193984869,
          1.2867921778713245,
          0.13640248363414795,
          0.6299953592964012,
          0.33263293241450487,
          0.1985242742168156,
          0.5004590278283447,
          -0.33700623860984585
         ]
        }
       ],
       "layout": {
        "legend": {
         "bgcolor": "#F5F6F9",
         "font": {
          "color": "#4D5663"
         }
        },
        "paper_bgcolor": "#F5F6F9",
        "plot_bgcolor": "#F5F6F9",
        "template": {
         "data": {
          "bar": [
           {
            "error_x": {
             "color": "#2a3f5f"
            },
            "error_y": {
             "color": "#2a3f5f"
            },
            "marker": {
             "line": {
              "color": "#E5ECF6",
              "width": 0.5
             }
            },
            "type": "bar"
           }
          ],
          "barpolar": [
           {
            "marker": {
             "line": {
              "color": "#E5ECF6",
              "width": 0.5
             }
            },
            "type": "barpolar"
           }
          ],
          "carpet": [
           {
            "aaxis": {
             "endlinecolor": "#2a3f5f",
             "gridcolor": "white",
             "linecolor": "white",
             "minorgridcolor": "white",
             "startlinecolor": "#2a3f5f"
            },
            "baxis": {
             "endlinecolor": "#2a3f5f",
             "gridcolor": "white",
             "linecolor": "white",
             "minorgridcolor": "white",
             "startlinecolor": "#2a3f5f"
            },
            "type": "carpet"
           }
          ],
          "choropleth": [
           {
            "colorbar": {
             "outlinewidth": 0,
             "ticks": ""
            },
            "type": "choropleth"
           }
          ],
          "contour": [
           {
            "colorbar": {
             "outlinewidth": 0,
             "ticks": ""
            },
            "colorscale": [
             [
              0,
              "#0d0887"
             ],
             [
              0.1111111111111111,
              "#46039f"
             ],
             [
              0.2222222222222222,
              "#7201a8"
             ],
             [
              0.3333333333333333,
              "#9c179e"
             ],
             [
              0.4444444444444444,
              "#bd3786"
             ],
             [
              0.5555555555555556,
              "#d8576b"
             ],
             [
              0.6666666666666666,
              "#ed7953"
             ],
             [
              0.7777777777777778,
              "#fb9f3a"
             ],
             [
              0.8888888888888888,
              "#fdca26"
             ],
             [
              1,
              "#f0f921"
             ]
            ],
            "type": "contour"
           }
          ],
          "contourcarpet": [
           {
            "colorbar": {
             "outlinewidth": 0,
             "ticks": ""
            },
            "type": "contourcarpet"
           }
          ],
          "heatmap": [
           {
            "colorbar": {
             "outlinewidth": 0,
             "ticks": ""
            },
            "colorscale": [
             [
              0,
              "#0d0887"
             ],
             [
              0.1111111111111111,
              "#46039f"
             ],
             [
              0.2222222222222222,
              "#7201a8"
             ],
             [
              0.3333333333333333,
              "#9c179e"
             ],
             [
              0.4444444444444444,
              "#bd3786"
             ],
             [
              0.5555555555555556,
              "#d8576b"
             ],
             [
              0.6666666666666666,
              "#ed7953"
             ],
             [
              0.7777777777777778,
              "#fb9f3a"
             ],
             [
              0.8888888888888888,
              "#fdca26"
             ],
             [
              1,
              "#f0f921"
             ]
            ],
            "type": "heatmap"
           }
          ],
          "heatmapgl": [
           {
            "colorbar": {
             "outlinewidth": 0,
             "ticks": ""
            },
            "colorscale": [
             [
              0,
              "#0d0887"
             ],
             [
              0.1111111111111111,
              "#46039f"
             ],
             [
              0.2222222222222222,
              "#7201a8"
             ],
             [
              0.3333333333333333,
              "#9c179e"
             ],
             [
              0.4444444444444444,
              "#bd3786"
             ],
             [
              0.5555555555555556,
              "#d8576b"
             ],
             [
              0.6666666666666666,
              "#ed7953"
             ],
             [
              0.7777777777777778,
              "#fb9f3a"
             ],
             [
              0.8888888888888888,
              "#fdca26"
             ],
             [
              1,
              "#f0f921"
             ]
            ],
            "type": "heatmapgl"
           }
          ],
          "histogram": [
           {
            "marker": {
             "colorbar": {
              "outlinewidth": 0,
              "ticks": ""
             }
            },
            "type": "histogram"
           }
          ],
          "histogram2d": [
           {
            "colorbar": {
             "outlinewidth": 0,
             "ticks": ""
            },
            "colorscale": [
             [
              0,
              "#0d0887"
             ],
             [
              0.1111111111111111,
              "#46039f"
             ],
             [
              0.2222222222222222,
              "#7201a8"
             ],
             [
              0.3333333333333333,
              "#9c179e"
             ],
             [
              0.4444444444444444,
              "#bd3786"
             ],
             [
              0.5555555555555556,
              "#d8576b"
             ],
             [
              0.6666666666666666,
              "#ed7953"
             ],
             [
              0.7777777777777778,
              "#fb9f3a"
             ],
             [
              0.8888888888888888,
              "#fdca26"
             ],
             [
              1,
              "#f0f921"
             ]
            ],
            "type": "histogram2d"
           }
          ],
          "histogram2dcontour": [
           {
            "colorbar": {
             "outlinewidth": 0,
             "ticks": ""
            },
            "colorscale": [
             [
              0,
              "#0d0887"
             ],
             [
              0.1111111111111111,
              "#46039f"
             ],
             [
              0.2222222222222222,
              "#7201a8"
             ],
             [
              0.3333333333333333,
              "#9c179e"
             ],
             [
              0.4444444444444444,
              "#bd3786"
             ],
             [
              0.5555555555555556,
              "#d8576b"
             ],
             [
              0.6666666666666666,
              "#ed7953"
             ],
             [
              0.7777777777777778,
              "#fb9f3a"
             ],
             [
              0.8888888888888888,
              "#fdca26"
             ],
             [
              1,
              "#f0f921"
             ]
            ],
            "type": "histogram2dcontour"
           }
          ],
          "mesh3d": [
           {
            "colorbar": {
             "outlinewidth": 0,
             "ticks": ""
            },
            "type": "mesh3d"
           }
          ],
          "parcoords": [
           {
            "line": {
             "colorbar": {
              "outlinewidth": 0,
              "ticks": ""
             }
            },
            "type": "parcoords"
           }
          ],
          "pie": [
           {
            "automargin": true,
            "type": "pie"
           }
          ],
          "scatter": [
           {
            "marker": {
             "colorbar": {
              "outlinewidth": 0,
              "ticks": ""
             }
            },
            "type": "scatter"
           }
          ],
          "scatter3d": [
           {
            "line": {
             "colorbar": {
              "outlinewidth": 0,
              "ticks": ""
             }
            },
            "marker": {
             "colorbar": {
              "outlinewidth": 0,
              "ticks": ""
             }
            },
            "type": "scatter3d"
           }
          ],
          "scattercarpet": [
           {
            "marker": {
             "colorbar": {
              "outlinewidth": 0,
              "ticks": ""
             }
            },
            "type": "scattercarpet"
           }
          ],
          "scattergeo": [
           {
            "marker": {
             "colorbar": {
              "outlinewidth": 0,
              "ticks": ""
             }
            },
            "type": "scattergeo"
           }
          ],
          "scattergl": [
           {
            "marker": {
             "colorbar": {
              "outlinewidth": 0,
              "ticks": ""
             }
            },
            "type": "scattergl"
           }
          ],
          "scattermapbox": [
           {
            "marker": {
             "colorbar": {
              "outlinewidth": 0,
              "ticks": ""
             }
            },
            "type": "scattermapbox"
           }
          ],
          "scatterpolar": [
           {
            "marker": {
             "colorbar": {
              "outlinewidth": 0,
              "ticks": ""
             }
            },
            "type": "scatterpolar"
           }
          ],
          "scatterpolargl": [
           {
            "marker": {
             "colorbar": {
              "outlinewidth": 0,
              "ticks": ""
             }
            },
            "type": "scatterpolargl"
           }
          ],
          "scatterternary": [
           {
            "marker": {
             "colorbar": {
              "outlinewidth": 0,
              "ticks": ""
             }
            },
            "type": "scatterternary"
           }
          ],
          "surface": [
           {
            "colorbar": {
             "outlinewidth": 0,
             "ticks": ""
            },
            "colorscale": [
             [
              0,
              "#0d0887"
             ],
             [
              0.1111111111111111,
              "#46039f"
             ],
             [
              0.2222222222222222,
              "#7201a8"
             ],
             [
              0.3333333333333333,
              "#9c179e"
             ],
             [
              0.4444444444444444,
              "#bd3786"
             ],
             [
              0.5555555555555556,
              "#d8576b"
             ],
             [
              0.6666666666666666,
              "#ed7953"
             ],
             [
              0.7777777777777778,
              "#fb9f3a"
             ],
             [
              0.8888888888888888,
              "#fdca26"
             ],
             [
              1,
              "#f0f921"
             ]
            ],
            "type": "surface"
           }
          ],
          "table": [
           {
            "cells": {
             "fill": {
              "color": "#EBF0F8"
             },
             "line": {
              "color": "white"
             }
            },
            "header": {
             "fill": {
              "color": "#C8D4E3"
             },
             "line": {
              "color": "white"
             }
            },
            "type": "table"
           }
          ]
         },
         "layout": {
          "annotationdefaults": {
           "arrowcolor": "#2a3f5f",
           "arrowhead": 0,
           "arrowwidth": 1
          },
          "coloraxis": {
           "colorbar": {
            "outlinewidth": 0,
            "ticks": ""
           }
          },
          "colorscale": {
           "diverging": [
            [
             0,
             "#8e0152"
            ],
            [
             0.1,
             "#c51b7d"
            ],
            [
             0.2,
             "#de77ae"
            ],
            [
             0.3,
             "#f1b6da"
            ],
            [
             0.4,
             "#fde0ef"
            ],
            [
             0.5,
             "#f7f7f7"
            ],
            [
             0.6,
             "#e6f5d0"
            ],
            [
             0.7,
             "#b8e186"
            ],
            [
             0.8,
             "#7fbc41"
            ],
            [
             0.9,
             "#4d9221"
            ],
            [
             1,
             "#276419"
            ]
           ],
           "sequential": [
            [
             0,
             "#0d0887"
            ],
            [
             0.1111111111111111,
             "#46039f"
            ],
            [
             0.2222222222222222,
             "#7201a8"
            ],
            [
             0.3333333333333333,
             "#9c179e"
            ],
            [
             0.4444444444444444,
             "#bd3786"
            ],
            [
             0.5555555555555556,
             "#d8576b"
            ],
            [
             0.6666666666666666,
             "#ed7953"
            ],
            [
             0.7777777777777778,
             "#fb9f3a"
            ],
            [
             0.8888888888888888,
             "#fdca26"
            ],
            [
             1,
             "#f0f921"
            ]
           ],
           "sequentialminus": [
            [
             0,
             "#0d0887"
            ],
            [
             0.1111111111111111,
             "#46039f"
            ],
            [
             0.2222222222222222,
             "#7201a8"
            ],
            [
             0.3333333333333333,
             "#9c179e"
            ],
            [
             0.4444444444444444,
             "#bd3786"
            ],
            [
             0.5555555555555556,
             "#d8576b"
            ],
            [
             0.6666666666666666,
             "#ed7953"
            ],
            [
             0.7777777777777778,
             "#fb9f3a"
            ],
            [
             0.8888888888888888,
             "#fdca26"
            ],
            [
             1,
             "#f0f921"
            ]
           ]
          },
          "colorway": [
           "#636efa",
           "#EF553B",
           "#00cc96",
           "#ab63fa",
           "#FFA15A",
           "#19d3f3",
           "#FF6692",
           "#B6E880",
           "#FF97FF",
           "#FECB52"
          ],
          "font": {
           "color": "#2a3f5f"
          },
          "geo": {
           "bgcolor": "white",
           "lakecolor": "white",
           "landcolor": "#E5ECF6",
           "showlakes": true,
           "showland": true,
           "subunitcolor": "white"
          },
          "hoverlabel": {
           "align": "left"
          },
          "hovermode": "closest",
          "mapbox": {
           "style": "light"
          },
          "paper_bgcolor": "white",
          "plot_bgcolor": "#E5ECF6",
          "polar": {
           "angularaxis": {
            "gridcolor": "white",
            "linecolor": "white",
            "ticks": ""
           },
           "bgcolor": "#E5ECF6",
           "radialaxis": {
            "gridcolor": "white",
            "linecolor": "white",
            "ticks": ""
           }
          },
          "scene": {
           "xaxis": {
            "backgroundcolor": "#E5ECF6",
            "gridcolor": "white",
            "gridwidth": 2,
            "linecolor": "white",
            "showbackground": true,
            "ticks": "",
            "zerolinecolor": "white"
           },
           "yaxis": {
            "backgroundcolor": "#E5ECF6",
            "gridcolor": "white",
            "gridwidth": 2,
            "linecolor": "white",
            "showbackground": true,
            "ticks": "",
            "zerolinecolor": "white"
           },
           "zaxis": {
            "backgroundcolor": "#E5ECF6",
            "gridcolor": "white",
            "gridwidth": 2,
            "linecolor": "white",
            "showbackground": true,
            "ticks": "",
            "zerolinecolor": "white"
           }
          },
          "shapedefaults": {
           "line": {
            "color": "#2a3f5f"
           }
          },
          "ternary": {
           "aaxis": {
            "gridcolor": "white",
            "linecolor": "white",
            "ticks": ""
           },
           "baxis": {
            "gridcolor": "white",
            "linecolor": "white",
            "ticks": ""
           },
           "bgcolor": "#E5ECF6",
           "caxis": {
            "gridcolor": "white",
            "linecolor": "white",
            "ticks": ""
           }
          },
          "title": {
           "x": 0.05
          },
          "xaxis": {
           "automargin": true,
           "gridcolor": "white",
           "linecolor": "white",
           "ticks": "",
           "title": {
            "standoff": 15
           },
           "zerolinecolor": "white",
           "zerolinewidth": 2
          },
          "yaxis": {
           "automargin": true,
           "gridcolor": "white",
           "linecolor": "white",
           "ticks": "",
           "title": {
            "standoff": 15
           },
           "zerolinecolor": "white",
           "zerolinewidth": 2
          }
         }
        },
        "title": {
         "font": {
          "color": "#4D5663"
         }
        },
        "xaxis": {
         "gridcolor": "#E1E5ED",
         "showgrid": true,
         "tickfont": {
          "color": "#4D5663"
         },
         "title": {
          "font": {
           "color": "#4D5663"
          },
          "text": ""
         },
         "zerolinecolor": "#E1E5ED"
        },
        "yaxis": {
         "gridcolor": "#E1E5ED",
         "showgrid": true,
         "tickfont": {
          "color": "#4D5663"
         },
         "title": {
          "font": {
           "color": "#4D5663"
          },
          "text": ""
         },
         "zerolinecolor": "#E1E5ED"
        }
       }
      },
      "text/html": [
       "<div>\n",
       "        \n",
       "        \n",
       "            <div id=\"dc40ba7f-7f07-4ddb-b57f-ff6673d4ff78\" class=\"plotly-graph-div\" style=\"height:525px; width:100%;\"></div>\n",
       "            <script type=\"text/javascript\">\n",
       "                require([\"plotly\"], function(Plotly) {\n",
       "                    window.PLOTLYENV=window.PLOTLYENV || {};\n",
       "                    window.PLOTLYENV.BASE_URL='https://plot.ly';\n",
       "                    \n",
       "                if (document.getElementById(\"dc40ba7f-7f07-4ddb-b57f-ff6673d4ff78\")) {\n",
       "                    Plotly.newPlot(\n",
       "                        'dc40ba7f-7f07-4ddb-b57f-ff6673d4ff78',\n",
       "                        [{\"boxpoints\": false, \"line\": {\"width\": 1.3}, \"marker\": {\"color\": \"rgba(255, 153, 51, 1.0)\"}, \"name\": \"A\", \"orientation\": \"v\", \"type\": \"box\", \"y\": [-0.3528362464153668, -0.284490578588392, 2.203326375137168, 1.1914906229339413, -0.5643907599811814, 2.7798718153014357, 1.1392230478947218, -0.3969084492198873, -0.8431354506721372, -1.2113706937321673, -1.1232328854452367, 0.4518665654795515, 0.15108658835894914, -1.7197708096350655, -0.07078563077906978, -0.980891266191066, -2.0065915820068994, 0.04405074044947059, -0.1816391125056839, 0.7598049797859753, -1.096012407090366, -1.4973956161707278, -2.2293808754538005, -0.15494190096890462, -0.8404676595449304, -1.5864444840611043, -1.271828143859151, 0.233536485699503, 0.32955043668175693, 1.1595295612279588, -0.5278554404367857, -0.16303045205008881, -1.7674739515583324, 0.33892658874933296, 0.19685617323938542, 0.33023853338745474, 0.03730643652616613, 0.32496894629056994, 0.23244779523287074, -0.01842197648227652, -1.1672830340101563, -0.40440266128609065, 2.07759282848088, 0.14020699314040225, 0.11670666187449041, -1.3759216802724983, 2.3270704249878746, 0.3972406311737788, 0.17442023752997537, -0.2800525759529055, 0.4506210148099999, 2.6202326404140677, 1.0653150560571336, 1.7095140209602646, 0.7990198343521421, -0.8281912607199876, -0.806280334150687, 1.6979095908090678, -0.8672712204039527, 1.1005741543620384, -0.6546095261109552, 0.9048167986183359, -0.7100506115690377, 0.648084430407177, 0.9447881732500704, -0.4713552039565896, 0.21402616654041448, -0.935151045365892, 1.2150495379117552, -0.43140919672950967, -1.1891048756132958, 0.9847206464209383, 0.40945681494002684, -0.8066269723088334, -0.6687296314674605, -1.0238807147882825, -0.2700469623402802, 0.5690651238713944, 0.6865219970682781, 0.6483901625701793, 1.2905559982270822, 0.8178639588042602, 1.1575135611917569, -2.0984711888019745, -1.7762476161655396, -0.6748575307003194, -0.21849196898810175, -0.5753702112145309, -0.3920858562314582, 0.6970390930379042, -1.4429250467452353, -0.3166115618643759, -0.3519621812877541, -0.4525464016079805, 0.5423829440734289, -0.36691990004214553, -0.7611303390249726, 2.0511135768496143, -0.9598352743683791, -0.37398827024180453]}, {\"boxpoints\": false, \"line\": {\"width\": 1.3}, \"marker\": {\"color\": \"rgba(55, 128, 191, 1.0)\"}, \"name\": \"B\", \"orientation\": \"v\", \"type\": \"box\", \"y\": [-1.5145455118176767, -0.01367326820150052, -0.7829236033971367, 2.1758105864782173, 0.014005493606606743, -0.408817628815818, -1.9692976906687827, 0.7934251922172569, -0.10928246963521912, -1.8675911342151044, -0.291350381007704, -0.2861757143497499, 0.45182196198038505, -1.3540852014076956, 0.11849633147728272, -1.4831515290012542, -0.15594664619415652, 0.8218005891800004, -1.3196893908390053, 0.9516245220412897, 1.0245182381659395, -0.9086606060000463, 0.3667342867629603, 2.1748246081996387, -1.4412403414461203, 1.3547356288206962, 0.07448038483912717, -2.0463557158127803, -0.2466438968154346, 0.7427704569505088, 0.7393827811394357, 0.3470737898934057, -0.21339715374304669, -0.29843604210654695, -0.26984569594619834, -0.7380914719749732, 0.085445841445681, -0.03377606407086046, -0.20658488335554978, -0.2320627365179663, 0.6895012608888704, -1.9625798027603658, -1.3809616631815926, 1.270026636907869, -1.1676750826700475, 0.6835442102993022, -0.10819067203435048, -0.38848646939043074, -1.3146096093947917, 1.2343026179645644, -1.1578924940873192, 0.9311809476907813, -0.9408852209315937, 0.2777851236373851, -0.2792794125675632, 0.5699172325515569, 1.1815215185447847, -0.4101575978585351, -1.3520086334848345, -0.2206896804793058, -0.635846746095747, -2.2801475925723, -0.13273463837665134, -1.4357460149388654, -2.0947528958618142, -1.4043908765273556, 1.235437712356553, -0.2961297710843259, 0.712446862050636, -0.5733163055127384, 0.8724480526635303, 0.34296687693318517, -1.8772458375662273, 0.04838875314046682, 1.1439410329456652, -1.4074872363653521, -0.41353126423716985, -1.2891804111532066, -0.8016211831893039, -1.1778852829324677, 0.8601306959837082, -0.7846632368352668, 0.8951888056616729, -0.1209386568012941, 0.3507332670458818, 0.40839273692365535, 1.3923988082070355, 0.5898704076273781, 1.4937796385060818, 0.9554951083022206, -0.12453902532811652, -1.280101497255287, -0.8670228686188641, -0.6542483247746392, -0.27107332066291734, 1.7482116014051732, 1.6179167104189263, -0.627179728211577, 0.7520281731249727, -0.5689711239929849]}, {\"boxpoints\": false, \"line\": {\"width\": 1.3}, \"marker\": {\"color\": \"rgba(50, 171, 96, 1.0)\"}, \"name\": \"C\", \"orientation\": \"v\", \"type\": \"box\", \"y\": [-2.3704016563776555, 0.710914398419287, 0.6309631659503724, -2.8442861967365327, -0.0037811628578325435, -0.6382947031932034, -0.5832920116811756, 1.1026000251690178, -0.4489180991658564, 1.05520211811089, 1.1082161681792269, 0.046435857114627235, -0.2510267408961941, -0.4371164022967774, -0.5726351450065652, -0.4558868992851681, 0.8045657127614613, -0.6143361630344545, -1.6160987259954223, 1.3057845255800853, -0.7461470247736539, 0.1750160823313732, -1.1067051377260886, -0.5204797459819671, -1.4376613633318407, -0.46334884147883815, 0.9571971280775794, 0.10750091380559694, 0.2999155740381957, 0.2185691512067851, -0.2579678098624532, 1.3217142621895663, 0.4953794816082393, -0.024538641741287965, -0.07153303580223697, -0.1793581282707107, -0.06729147187170058, -2.557307701474324, -0.1060324200332444, 0.31169871316192516, 1.3348243165181144, -1.9852327530302238, -0.5047144315416485, 2.0115813901704973, 0.7134892560485943, 0.5484249921365187, 0.11248846492915397, 0.08333088334699466, -1.3682499335799407, -0.6974724359103268, 0.37716037785946616, 0.17044734212634838, 0.12590105794568657, 0.7343765332029945, -1.4006553322902726, 1.0398357714966402, 1.1634583514551176, 1.58060380206921, -1.2613190243691939, 1.2877452491185823, 1.2460599997934427, 0.3613975529675301, 0.21462586530124092, -0.6090968319472858, 0.23882620428736073, 0.00036416526394703947, -1.2276092246013988, -0.8340878876745745, -0.08872398862382311, -0.061588045991439896, 0.07524987023586598, 1.153665247704061, -0.10204239551389348, 1.3361090973740046, -0.5740083415431523, -0.8577488708805439, -0.4261175399792977, 0.9653094704371724, -0.8173212555447603, 1.0639239966446306, 1.4278115423329014, 0.7042444273074215, 0.22693524735557136, -0.7652187063502671, -0.2502387171320374, 0.5676968944730754, 0.5943365371060254, 0.6837008990404221, 0.45789611494130283, -0.35489134846406123, -0.4914581973149613, -0.4131351259857275, -1.023404819406341, 0.1370090793966986, 0.961244139221754, 0.007385617385094512, 1.0517038093011737, -1.3085422591568026, -0.11633946117127415, -1.8454019863290603]}, {\"boxpoints\": false, \"line\": {\"width\": 1.3}, \"marker\": {\"color\": \"rgba(128, 0, 128, 1.0)\"}, \"name\": \"D\", \"orientation\": \"v\", \"type\": \"box\", \"y\": [0.5537390638675553, 1.7275733675276843, 1.216431303443142, -0.35761928337126386, -0.2766384153037906, 0.9175563269542514, 0.7913703760222024, 0.6220956147817989, -0.9831544551054343, 1.0285919896520503, -0.31358613968988003, -0.775285515456309, 0.9121360708078701, -1.3392510286273374, -0.2247116800768073, 0.9541268394764304, -1.2930827345554905, -0.1794147558476305, -0.204389594528781, -0.5649726476650159, -0.22933740132582756, -0.12357211924056424, 0.4077407006940749, 2.043079024269626, -1.8966506055913155, 0.37506058424840283, -0.3557237502946604, -1.1658294796761153, -0.3314174317554599, 0.5145784433956135, -0.17837855724679227, 0.5819743037137235, -0.2170352844294026, -1.5008635117509095, 0.4430612675009117, -0.5607325848055742, -0.8927402578611204, -1.00706359189859, 0.7062444360618905, 0.37532512452690064, -0.60918430290378, -0.3994943366348986, 0.17679870439558548, -1.174429900552088, -1.3649070274623116, 0.8110181135624027, 1.2204650689075098, -0.04066020848211326, -0.798661941308709, -0.9230544760455293, 2.48660459433927, -0.06274331502043014, -1.1079901104727323, 0.149286669555233, -0.41689930404468056, -1.2000400022790192, -0.5385790202389502, -0.9264732450946596, 0.34937348613737107, -0.38320883769824815, 1.3675813627800308, 0.3696598404405374, 0.31873612059708706, 0.8654078552911361, -1.5376213372959873, -0.1947903323528216, -1.1909326220751137, 0.10457430890020339, 0.6050940987273143, -0.5132853593327287, -0.7755845604958479, 1.7023984579456823, 0.38754335554690883, -0.9282832799462417, -0.5055032937398403, -0.05673078953268362, 0.7475335009747427, -0.06210187278705163, 1.5377080899458013, -0.6697979120234541, 0.29250646337732666, -0.157303460931491, 1.2745952342564728, -2.0248042313737624, -0.09095499158177012, 0.330332051144852, -1.421859288088006, 0.8450082617292108, -0.5335434113230583, -0.2855092868899809, -0.0021180714025973127, -0.3188647510560923, 0.7484749193984869, 1.2867921778713245, 0.13640248363414795, 0.6299953592964012, 0.33263293241450487, 0.1985242742168156, 0.5004590278283447, -0.33700623860984585]}],\n",
       "                        {\"legend\": {\"bgcolor\": \"#F5F6F9\", \"font\": {\"color\": \"#4D5663\"}}, \"paper_bgcolor\": \"#F5F6F9\", \"plot_bgcolor\": \"#F5F6F9\", \"template\": {\"data\": {\"bar\": [{\"error_x\": {\"color\": \"#2a3f5f\"}, \"error_y\": {\"color\": \"#2a3f5f\"}, \"marker\": {\"line\": {\"color\": \"#E5ECF6\", \"width\": 0.5}}, \"type\": \"bar\"}], \"barpolar\": [{\"marker\": {\"line\": {\"color\": \"#E5ECF6\", \"width\": 0.5}}, \"type\": \"barpolar\"}], \"carpet\": [{\"aaxis\": {\"endlinecolor\": \"#2a3f5f\", \"gridcolor\": \"white\", \"linecolor\": \"white\", \"minorgridcolor\": \"white\", \"startlinecolor\": \"#2a3f5f\"}, \"baxis\": {\"endlinecolor\": \"#2a3f5f\", \"gridcolor\": \"white\", \"linecolor\": \"white\", \"minorgridcolor\": \"white\", \"startlinecolor\": \"#2a3f5f\"}, \"type\": \"carpet\"}], \"choropleth\": [{\"colorbar\": {\"outlinewidth\": 0, \"ticks\": \"\"}, \"type\": \"choropleth\"}], \"contour\": [{\"colorbar\": {\"outlinewidth\": 0, \"ticks\": \"\"}, \"colorscale\": [[0.0, \"#0d0887\"], [0.1111111111111111, \"#46039f\"], [0.2222222222222222, \"#7201a8\"], [0.3333333333333333, \"#9c179e\"], [0.4444444444444444, \"#bd3786\"], [0.5555555555555556, \"#d8576b\"], [0.6666666666666666, \"#ed7953\"], [0.7777777777777778, \"#fb9f3a\"], [0.8888888888888888, \"#fdca26\"], [1.0, \"#f0f921\"]], \"type\": \"contour\"}], \"contourcarpet\": [{\"colorbar\": {\"outlinewidth\": 0, \"ticks\": \"\"}, \"type\": \"contourcarpet\"}], \"heatmap\": [{\"colorbar\": {\"outlinewidth\": 0, \"ticks\": \"\"}, \"colorscale\": [[0.0, \"#0d0887\"], [0.1111111111111111, \"#46039f\"], [0.2222222222222222, \"#7201a8\"], [0.3333333333333333, \"#9c179e\"], [0.4444444444444444, \"#bd3786\"], [0.5555555555555556, \"#d8576b\"], [0.6666666666666666, \"#ed7953\"], [0.7777777777777778, \"#fb9f3a\"], [0.8888888888888888, \"#fdca26\"], [1.0, \"#f0f921\"]], \"type\": \"heatmap\"}], \"heatmapgl\": [{\"colorbar\": {\"outlinewidth\": 0, \"ticks\": \"\"}, \"colorscale\": [[0.0, \"#0d0887\"], [0.1111111111111111, \"#46039f\"], [0.2222222222222222, \"#7201a8\"], [0.3333333333333333, \"#9c179e\"], [0.4444444444444444, \"#bd3786\"], [0.5555555555555556, \"#d8576b\"], [0.6666666666666666, \"#ed7953\"], [0.7777777777777778, \"#fb9f3a\"], [0.8888888888888888, \"#fdca26\"], [1.0, \"#f0f921\"]], \"type\": \"heatmapgl\"}], \"histogram\": [{\"marker\": {\"colorbar\": {\"outlinewidth\": 0, \"ticks\": \"\"}}, \"type\": \"histogram\"}], \"histogram2d\": [{\"colorbar\": {\"outlinewidth\": 0, \"ticks\": \"\"}, \"colorscale\": [[0.0, \"#0d0887\"], [0.1111111111111111, \"#46039f\"], [0.2222222222222222, \"#7201a8\"], [0.3333333333333333, \"#9c179e\"], [0.4444444444444444, \"#bd3786\"], [0.5555555555555556, \"#d8576b\"], [0.6666666666666666, \"#ed7953\"], [0.7777777777777778, \"#fb9f3a\"], [0.8888888888888888, \"#fdca26\"], [1.0, \"#f0f921\"]], \"type\": \"histogram2d\"}], \"histogram2dcontour\": [{\"colorbar\": {\"outlinewidth\": 0, \"ticks\": \"\"}, \"colorscale\": [[0.0, \"#0d0887\"], [0.1111111111111111, \"#46039f\"], [0.2222222222222222, \"#7201a8\"], [0.3333333333333333, \"#9c179e\"], [0.4444444444444444, \"#bd3786\"], [0.5555555555555556, \"#d8576b\"], [0.6666666666666666, \"#ed7953\"], [0.7777777777777778, \"#fb9f3a\"], [0.8888888888888888, \"#fdca26\"], [1.0, \"#f0f921\"]], \"type\": \"histogram2dcontour\"}], \"mesh3d\": [{\"colorbar\": {\"outlinewidth\": 0, \"ticks\": \"\"}, \"type\": \"mesh3d\"}], \"parcoords\": [{\"line\": {\"colorbar\": {\"outlinewidth\": 0, \"ticks\": \"\"}}, \"type\": \"parcoords\"}], \"pie\": [{\"automargin\": true, \"type\": \"pie\"}], \"scatter\": [{\"marker\": {\"colorbar\": {\"outlinewidth\": 0, \"ticks\": \"\"}}, \"type\": \"scatter\"}], \"scatter3d\": [{\"line\": {\"colorbar\": {\"outlinewidth\": 0, \"ticks\": \"\"}}, \"marker\": {\"colorbar\": {\"outlinewidth\": 0, \"ticks\": \"\"}}, \"type\": \"scatter3d\"}], \"scattercarpet\": [{\"marker\": {\"colorbar\": {\"outlinewidth\": 0, \"ticks\": \"\"}}, \"type\": \"scattercarpet\"}], \"scattergeo\": [{\"marker\": {\"colorbar\": {\"outlinewidth\": 0, \"ticks\": \"\"}}, \"type\": \"scattergeo\"}], \"scattergl\": [{\"marker\": {\"colorbar\": {\"outlinewidth\": 0, \"ticks\": \"\"}}, \"type\": \"scattergl\"}], \"scattermapbox\": [{\"marker\": {\"colorbar\": {\"outlinewidth\": 0, \"ticks\": \"\"}}, \"type\": \"scattermapbox\"}], \"scatterpolar\": [{\"marker\": {\"colorbar\": {\"outlinewidth\": 0, \"ticks\": \"\"}}, \"type\": \"scatterpolar\"}], \"scatterpolargl\": [{\"marker\": {\"colorbar\": {\"outlinewidth\": 0, \"ticks\": \"\"}}, \"type\": \"scatterpolargl\"}], \"scatterternary\": [{\"marker\": {\"colorbar\": {\"outlinewidth\": 0, \"ticks\": \"\"}}, \"type\": \"scatterternary\"}], \"surface\": [{\"colorbar\": {\"outlinewidth\": 0, \"ticks\": \"\"}, \"colorscale\": [[0.0, \"#0d0887\"], [0.1111111111111111, \"#46039f\"], [0.2222222222222222, \"#7201a8\"], [0.3333333333333333, \"#9c179e\"], [0.4444444444444444, \"#bd3786\"], [0.5555555555555556, \"#d8576b\"], [0.6666666666666666, \"#ed7953\"], [0.7777777777777778, \"#fb9f3a\"], [0.8888888888888888, \"#fdca26\"], [1.0, \"#f0f921\"]], \"type\": \"surface\"}], \"table\": [{\"cells\": {\"fill\": {\"color\": \"#EBF0F8\"}, \"line\": {\"color\": \"white\"}}, \"header\": {\"fill\": {\"color\": \"#C8D4E3\"}, \"line\": {\"color\": \"white\"}}, \"type\": \"table\"}]}, \"layout\": {\"annotationdefaults\": {\"arrowcolor\": \"#2a3f5f\", \"arrowhead\": 0, \"arrowwidth\": 1}, \"coloraxis\": {\"colorbar\": {\"outlinewidth\": 0, \"ticks\": \"\"}}, \"colorscale\": {\"diverging\": [[0, \"#8e0152\"], [0.1, \"#c51b7d\"], [0.2, \"#de77ae\"], [0.3, \"#f1b6da\"], [0.4, \"#fde0ef\"], [0.5, \"#f7f7f7\"], [0.6, \"#e6f5d0\"], [0.7, \"#b8e186\"], [0.8, \"#7fbc41\"], [0.9, \"#4d9221\"], [1, \"#276419\"]], \"sequential\": [[0.0, \"#0d0887\"], [0.1111111111111111, \"#46039f\"], [0.2222222222222222, \"#7201a8\"], [0.3333333333333333, \"#9c179e\"], [0.4444444444444444, \"#bd3786\"], [0.5555555555555556, \"#d8576b\"], [0.6666666666666666, \"#ed7953\"], [0.7777777777777778, \"#fb9f3a\"], [0.8888888888888888, \"#fdca26\"], [1.0, \"#f0f921\"]], \"sequentialminus\": [[0.0, \"#0d0887\"], [0.1111111111111111, \"#46039f\"], [0.2222222222222222, \"#7201a8\"], [0.3333333333333333, \"#9c179e\"], [0.4444444444444444, \"#bd3786\"], [0.5555555555555556, \"#d8576b\"], [0.6666666666666666, \"#ed7953\"], [0.7777777777777778, \"#fb9f3a\"], [0.8888888888888888, \"#fdca26\"], [1.0, \"#f0f921\"]]}, \"colorway\": [\"#636efa\", \"#EF553B\", \"#00cc96\", \"#ab63fa\", \"#FFA15A\", \"#19d3f3\", \"#FF6692\", \"#B6E880\", \"#FF97FF\", \"#FECB52\"], \"font\": {\"color\": \"#2a3f5f\"}, \"geo\": {\"bgcolor\": \"white\", \"lakecolor\": \"white\", \"landcolor\": \"#E5ECF6\", \"showlakes\": true, \"showland\": true, \"subunitcolor\": \"white\"}, \"hoverlabel\": {\"align\": \"left\"}, \"hovermode\": \"closest\", \"mapbox\": {\"style\": \"light\"}, \"paper_bgcolor\": \"white\", \"plot_bgcolor\": \"#E5ECF6\", \"polar\": {\"angularaxis\": {\"gridcolor\": \"white\", \"linecolor\": \"white\", \"ticks\": \"\"}, \"bgcolor\": \"#E5ECF6\", \"radialaxis\": {\"gridcolor\": \"white\", \"linecolor\": \"white\", \"ticks\": \"\"}}, \"scene\": {\"xaxis\": {\"backgroundcolor\": \"#E5ECF6\", \"gridcolor\": \"white\", \"gridwidth\": 2, \"linecolor\": \"white\", \"showbackground\": true, \"ticks\": \"\", \"zerolinecolor\": \"white\"}, \"yaxis\": {\"backgroundcolor\": \"#E5ECF6\", \"gridcolor\": \"white\", \"gridwidth\": 2, \"linecolor\": \"white\", \"showbackground\": true, \"ticks\": \"\", \"zerolinecolor\": \"white\"}, \"zaxis\": {\"backgroundcolor\": \"#E5ECF6\", \"gridcolor\": \"white\", \"gridwidth\": 2, \"linecolor\": \"white\", \"showbackground\": true, \"ticks\": \"\", \"zerolinecolor\": \"white\"}}, \"shapedefaults\": {\"line\": {\"color\": \"#2a3f5f\"}}, \"ternary\": {\"aaxis\": {\"gridcolor\": \"white\", \"linecolor\": \"white\", \"ticks\": \"\"}, \"baxis\": {\"gridcolor\": \"white\", \"linecolor\": \"white\", \"ticks\": \"\"}, \"bgcolor\": \"#E5ECF6\", \"caxis\": {\"gridcolor\": \"white\", \"linecolor\": \"white\", \"ticks\": \"\"}}, \"title\": {\"x\": 0.05}, \"xaxis\": {\"automargin\": true, \"gridcolor\": \"white\", \"linecolor\": \"white\", \"ticks\": \"\", \"title\": {\"standoff\": 15}, \"zerolinecolor\": \"white\", \"zerolinewidth\": 2}, \"yaxis\": {\"automargin\": true, \"gridcolor\": \"white\", \"linecolor\": \"white\", \"ticks\": \"\", \"title\": {\"standoff\": 15}, \"zerolinecolor\": \"white\", \"zerolinewidth\": 2}}}, \"title\": {\"font\": {\"color\": \"#4D5663\"}}, \"xaxis\": {\"gridcolor\": \"#E1E5ED\", \"showgrid\": true, \"tickfont\": {\"color\": \"#4D5663\"}, \"title\": {\"font\": {\"color\": \"#4D5663\"}, \"text\": \"\"}, \"zerolinecolor\": \"#E1E5ED\"}, \"yaxis\": {\"gridcolor\": \"#E1E5ED\", \"showgrid\": true, \"tickfont\": {\"color\": \"#4D5663\"}, \"title\": {\"font\": {\"color\": \"#4D5663\"}, \"text\": \"\"}, \"zerolinecolor\": \"#E1E5ED\"}},\n",
       "                        {\"showLink\": true, \"linkText\": \"Export to plot.ly\", \"plotlyServerURL\": \"https://plot.ly\", \"responsive\": true}\n",
       "                    ).then(function(){\n",
       "                            \n",
       "var gd = document.getElementById('dc40ba7f-7f07-4ddb-b57f-ff6673d4ff78');\n",
       "var x = new MutationObserver(function (mutations, observer) {{\n",
       "        var display = window.getComputedStyle(gd).display;\n",
       "        if (!display || display === 'none') {{\n",
       "            console.log([gd, 'removed!']);\n",
       "            Plotly.purge(gd);\n",
       "            observer.disconnect();\n",
       "        }}\n",
       "}});\n",
       "\n",
       "// Listen for the removal of the full notebook cells\n",
       "var notebookContainer = gd.closest('#notebook-container');\n",
       "if (notebookContainer) {{\n",
       "    x.observe(notebookContainer, {childList: true});\n",
       "}}\n",
       "\n",
       "// Listen for the clearing of the current output cell\n",
       "var outputEl = gd.closest('.output');\n",
       "if (outputEl) {{\n",
       "    x.observe(outputEl, {childList: true});\n",
       "}}\n",
       "\n",
       "                        })\n",
       "                };\n",
       "                });\n",
       "            </script>\n",
       "        </div>"
      ]
     },
     "metadata": {},
     "output_type": "display_data"
    }
   ],
   "source": [
    "df.iplot(kind='box')"
   ]
  },
  {
   "cell_type": "code",
   "execution_count": 20,
   "metadata": {},
   "outputs": [],
   "source": [
    "# 3D surfaceplot"
   ]
  },
  {
   "cell_type": "code",
   "execution_count": 28,
   "metadata": {},
   "outputs": [
    {
     "data": {
      "text/html": [
       "<div>\n",
       "<style scoped>\n",
       "    .dataframe tbody tr th:only-of-type {\n",
       "        vertical-align: middle;\n",
       "    }\n",
       "\n",
       "    .dataframe tbody tr th {\n",
       "        vertical-align: top;\n",
       "    }\n",
       "\n",
       "    .dataframe thead th {\n",
       "        text-align: right;\n",
       "    }\n",
       "</style>\n",
       "<table border=\"1\" class=\"dataframe\">\n",
       "  <thead>\n",
       "    <tr style=\"text-align: right;\">\n",
       "      <th></th>\n",
       "      <th>x</th>\n",
       "      <th>y</th>\n",
       "      <th>z</th>\n",
       "    </tr>\n",
       "  </thead>\n",
       "  <tbody>\n",
       "    <tr>\n",
       "      <th>0</th>\n",
       "      <td>1</td>\n",
       "      <td>10</td>\n",
       "      <td>500</td>\n",
       "    </tr>\n",
       "    <tr>\n",
       "      <th>1</th>\n",
       "      <td>2</td>\n",
       "      <td>20</td>\n",
       "      <td>400</td>\n",
       "    </tr>\n",
       "    <tr>\n",
       "      <th>2</th>\n",
       "      <td>3</td>\n",
       "      <td>30</td>\n",
       "      <td>100</td>\n",
       "    </tr>\n",
       "    <tr>\n",
       "      <th>3</th>\n",
       "      <td>4</td>\n",
       "      <td>20</td>\n",
       "      <td>610</td>\n",
       "    </tr>\n",
       "    <tr>\n",
       "      <th>4</th>\n",
       "      <td>5</td>\n",
       "      <td>25</td>\n",
       "      <td>300</td>\n",
       "    </tr>\n",
       "  </tbody>\n",
       "</table>\n",
       "</div>"
      ],
      "text/plain": [
       "   x   y    z\n",
       "0  1  10  500\n",
       "1  2  20  400\n",
       "2  3  30  100\n",
       "3  4  20  610\n",
       "4  5  25  300"
      ]
     },
     "execution_count": 28,
     "metadata": {},
     "output_type": "execute_result"
    }
   ],
   "source": [
    "df3 = pd.DataFrame({'x':[1,2,3,4,5], 'y':[10,20,30,20,25], 'z':[500,400,100,610,300]})\n",
    "df3"
   ]
  },
  {
   "cell_type": "code",
   "execution_count": 23,
   "metadata": {},
   "outputs": [
    {
     "data": {
      "application/vnd.plotly.v1+json": {
       "config": {
        "linkText": "Export to plot.ly",
        "plotlyServerURL": "https://plot.ly",
        "showLink": true
       },
       "data": [
        {
         "colorscale": [
          [
           0,
           "rgb(255, 153, 51)"
          ],
          [
           0.1111111111111111,
           "rgb(55, 128, 191)"
          ],
          [
           0.2222222222222222,
           "rgb(50, 171, 96)"
          ],
          [
           0.3333333333333333,
           "rgb(128, 0, 128)"
          ],
          [
           0.4444444444444444,
           "rgb(219, 64, 82)"
          ],
          [
           0.5555555555555556,
           "rgb(0, 128, 128)"
          ],
          [
           0.6666666666666666,
           "rgb(255, 255, 51)"
          ],
          [
           0.7777777777777778,
           "rgb(128, 128, 0)"
          ],
          [
           0.8888888888888888,
           "rgb(251, 128, 114)"
          ],
          [
           1,
           "rgb(128, 177, 211)"
          ]
         ],
         "type": "surface",
         "x": [
          0,
          1,
          2,
          3,
          4
         ],
         "y": [
          "x",
          "y",
          "z"
         ],
         "z": [
          [
           1,
           2,
           3,
           4,
           5
          ],
          [
           10,
           20,
           30,
           20,
           25
          ],
          [
           500,
           400,
           100,
           200,
           300
          ]
         ]
        }
       ],
       "layout": {
        "legend": {
         "bgcolor": "#F5F6F9",
         "font": {
          "color": "#4D5663"
         }
        },
        "paper_bgcolor": "#F5F6F9",
        "plot_bgcolor": "#F5F6F9",
        "template": {
         "data": {
          "bar": [
           {
            "error_x": {
             "color": "#2a3f5f"
            },
            "error_y": {
             "color": "#2a3f5f"
            },
            "marker": {
             "line": {
              "color": "#E5ECF6",
              "width": 0.5
             }
            },
            "type": "bar"
           }
          ],
          "barpolar": [
           {
            "marker": {
             "line": {
              "color": "#E5ECF6",
              "width": 0.5
             }
            },
            "type": "barpolar"
           }
          ],
          "carpet": [
           {
            "aaxis": {
             "endlinecolor": "#2a3f5f",
             "gridcolor": "white",
             "linecolor": "white",
             "minorgridcolor": "white",
             "startlinecolor": "#2a3f5f"
            },
            "baxis": {
             "endlinecolor": "#2a3f5f",
             "gridcolor": "white",
             "linecolor": "white",
             "minorgridcolor": "white",
             "startlinecolor": "#2a3f5f"
            },
            "type": "carpet"
           }
          ],
          "choropleth": [
           {
            "colorbar": {
             "outlinewidth": 0,
             "ticks": ""
            },
            "type": "choropleth"
           }
          ],
          "contour": [
           {
            "colorbar": {
             "outlinewidth": 0,
             "ticks": ""
            },
            "colorscale": [
             [
              0,
              "#0d0887"
             ],
             [
              0.1111111111111111,
              "#46039f"
             ],
             [
              0.2222222222222222,
              "#7201a8"
             ],
             [
              0.3333333333333333,
              "#9c179e"
             ],
             [
              0.4444444444444444,
              "#bd3786"
             ],
             [
              0.5555555555555556,
              "#d8576b"
             ],
             [
              0.6666666666666666,
              "#ed7953"
             ],
             [
              0.7777777777777778,
              "#fb9f3a"
             ],
             [
              0.8888888888888888,
              "#fdca26"
             ],
             [
              1,
              "#f0f921"
             ]
            ],
            "type": "contour"
           }
          ],
          "contourcarpet": [
           {
            "colorbar": {
             "outlinewidth": 0,
             "ticks": ""
            },
            "type": "contourcarpet"
           }
          ],
          "heatmap": [
           {
            "colorbar": {
             "outlinewidth": 0,
             "ticks": ""
            },
            "colorscale": [
             [
              0,
              "#0d0887"
             ],
             [
              0.1111111111111111,
              "#46039f"
             ],
             [
              0.2222222222222222,
              "#7201a8"
             ],
             [
              0.3333333333333333,
              "#9c179e"
             ],
             [
              0.4444444444444444,
              "#bd3786"
             ],
             [
              0.5555555555555556,
              "#d8576b"
             ],
             [
              0.6666666666666666,
              "#ed7953"
             ],
             [
              0.7777777777777778,
              "#fb9f3a"
             ],
             [
              0.8888888888888888,
              "#fdca26"
             ],
             [
              1,
              "#f0f921"
             ]
            ],
            "type": "heatmap"
           }
          ],
          "heatmapgl": [
           {
            "colorbar": {
             "outlinewidth": 0,
             "ticks": ""
            },
            "colorscale": [
             [
              0,
              "#0d0887"
             ],
             [
              0.1111111111111111,
              "#46039f"
             ],
             [
              0.2222222222222222,
              "#7201a8"
             ],
             [
              0.3333333333333333,
              "#9c179e"
             ],
             [
              0.4444444444444444,
              "#bd3786"
             ],
             [
              0.5555555555555556,
              "#d8576b"
             ],
             [
              0.6666666666666666,
              "#ed7953"
             ],
             [
              0.7777777777777778,
              "#fb9f3a"
             ],
             [
              0.8888888888888888,
              "#fdca26"
             ],
             [
              1,
              "#f0f921"
             ]
            ],
            "type": "heatmapgl"
           }
          ],
          "histogram": [
           {
            "marker": {
             "colorbar": {
              "outlinewidth": 0,
              "ticks": ""
             }
            },
            "type": "histogram"
           }
          ],
          "histogram2d": [
           {
            "colorbar": {
             "outlinewidth": 0,
             "ticks": ""
            },
            "colorscale": [
             [
              0,
              "#0d0887"
             ],
             [
              0.1111111111111111,
              "#46039f"
             ],
             [
              0.2222222222222222,
              "#7201a8"
             ],
             [
              0.3333333333333333,
              "#9c179e"
             ],
             [
              0.4444444444444444,
              "#bd3786"
             ],
             [
              0.5555555555555556,
              "#d8576b"
             ],
             [
              0.6666666666666666,
              "#ed7953"
             ],
             [
              0.7777777777777778,
              "#fb9f3a"
             ],
             [
              0.8888888888888888,
              "#fdca26"
             ],
             [
              1,
              "#f0f921"
             ]
            ],
            "type": "histogram2d"
           }
          ],
          "histogram2dcontour": [
           {
            "colorbar": {
             "outlinewidth": 0,
             "ticks": ""
            },
            "colorscale": [
             [
              0,
              "#0d0887"
             ],
             [
              0.1111111111111111,
              "#46039f"
             ],
             [
              0.2222222222222222,
              "#7201a8"
             ],
             [
              0.3333333333333333,
              "#9c179e"
             ],
             [
              0.4444444444444444,
              "#bd3786"
             ],
             [
              0.5555555555555556,
              "#d8576b"
             ],
             [
              0.6666666666666666,
              "#ed7953"
             ],
             [
              0.7777777777777778,
              "#fb9f3a"
             ],
             [
              0.8888888888888888,
              "#fdca26"
             ],
             [
              1,
              "#f0f921"
             ]
            ],
            "type": "histogram2dcontour"
           }
          ],
          "mesh3d": [
           {
            "colorbar": {
             "outlinewidth": 0,
             "ticks": ""
            },
            "type": "mesh3d"
           }
          ],
          "parcoords": [
           {
            "line": {
             "colorbar": {
              "outlinewidth": 0,
              "ticks": ""
             }
            },
            "type": "parcoords"
           }
          ],
          "pie": [
           {
            "automargin": true,
            "type": "pie"
           }
          ],
          "scatter": [
           {
            "marker": {
             "colorbar": {
              "outlinewidth": 0,
              "ticks": ""
             }
            },
            "type": "scatter"
           }
          ],
          "scatter3d": [
           {
            "line": {
             "colorbar": {
              "outlinewidth": 0,
              "ticks": ""
             }
            },
            "marker": {
             "colorbar": {
              "outlinewidth": 0,
              "ticks": ""
             }
            },
            "type": "scatter3d"
           }
          ],
          "scattercarpet": [
           {
            "marker": {
             "colorbar": {
              "outlinewidth": 0,
              "ticks": ""
             }
            },
            "type": "scattercarpet"
           }
          ],
          "scattergeo": [
           {
            "marker": {
             "colorbar": {
              "outlinewidth": 0,
              "ticks": ""
             }
            },
            "type": "scattergeo"
           }
          ],
          "scattergl": [
           {
            "marker": {
             "colorbar": {
              "outlinewidth": 0,
              "ticks": ""
             }
            },
            "type": "scattergl"
           }
          ],
          "scattermapbox": [
           {
            "marker": {
             "colorbar": {
              "outlinewidth": 0,
              "ticks": ""
             }
            },
            "type": "scattermapbox"
           }
          ],
          "scatterpolar": [
           {
            "marker": {
             "colorbar": {
              "outlinewidth": 0,
              "ticks": ""
             }
            },
            "type": "scatterpolar"
           }
          ],
          "scatterpolargl": [
           {
            "marker": {
             "colorbar": {
              "outlinewidth": 0,
              "ticks": ""
             }
            },
            "type": "scatterpolargl"
           }
          ],
          "scatterternary": [
           {
            "marker": {
             "colorbar": {
              "outlinewidth": 0,
              "ticks": ""
             }
            },
            "type": "scatterternary"
           }
          ],
          "surface": [
           {
            "colorbar": {
             "outlinewidth": 0,
             "ticks": ""
            },
            "colorscale": [
             [
              0,
              "#0d0887"
             ],
             [
              0.1111111111111111,
              "#46039f"
             ],
             [
              0.2222222222222222,
              "#7201a8"
             ],
             [
              0.3333333333333333,
              "#9c179e"
             ],
             [
              0.4444444444444444,
              "#bd3786"
             ],
             [
              0.5555555555555556,
              "#d8576b"
             ],
             [
              0.6666666666666666,
              "#ed7953"
             ],
             [
              0.7777777777777778,
              "#fb9f3a"
             ],
             [
              0.8888888888888888,
              "#fdca26"
             ],
             [
              1,
              "#f0f921"
             ]
            ],
            "type": "surface"
           }
          ],
          "table": [
           {
            "cells": {
             "fill": {
              "color": "#EBF0F8"
             },
             "line": {
              "color": "white"
             }
            },
            "header": {
             "fill": {
              "color": "#C8D4E3"
             },
             "line": {
              "color": "white"
             }
            },
            "type": "table"
           }
          ]
         },
         "layout": {
          "annotationdefaults": {
           "arrowcolor": "#2a3f5f",
           "arrowhead": 0,
           "arrowwidth": 1
          },
          "coloraxis": {
           "colorbar": {
            "outlinewidth": 0,
            "ticks": ""
           }
          },
          "colorscale": {
           "diverging": [
            [
             0,
             "#8e0152"
            ],
            [
             0.1,
             "#c51b7d"
            ],
            [
             0.2,
             "#de77ae"
            ],
            [
             0.3,
             "#f1b6da"
            ],
            [
             0.4,
             "#fde0ef"
            ],
            [
             0.5,
             "#f7f7f7"
            ],
            [
             0.6,
             "#e6f5d0"
            ],
            [
             0.7,
             "#b8e186"
            ],
            [
             0.8,
             "#7fbc41"
            ],
            [
             0.9,
             "#4d9221"
            ],
            [
             1,
             "#276419"
            ]
           ],
           "sequential": [
            [
             0,
             "#0d0887"
            ],
            [
             0.1111111111111111,
             "#46039f"
            ],
            [
             0.2222222222222222,
             "#7201a8"
            ],
            [
             0.3333333333333333,
             "#9c179e"
            ],
            [
             0.4444444444444444,
             "#bd3786"
            ],
            [
             0.5555555555555556,
             "#d8576b"
            ],
            [
             0.6666666666666666,
             "#ed7953"
            ],
            [
             0.7777777777777778,
             "#fb9f3a"
            ],
            [
             0.8888888888888888,
             "#fdca26"
            ],
            [
             1,
             "#f0f921"
            ]
           ],
           "sequentialminus": [
            [
             0,
             "#0d0887"
            ],
            [
             0.1111111111111111,
             "#46039f"
            ],
            [
             0.2222222222222222,
             "#7201a8"
            ],
            [
             0.3333333333333333,
             "#9c179e"
            ],
            [
             0.4444444444444444,
             "#bd3786"
            ],
            [
             0.5555555555555556,
             "#d8576b"
            ],
            [
             0.6666666666666666,
             "#ed7953"
            ],
            [
             0.7777777777777778,
             "#fb9f3a"
            ],
            [
             0.8888888888888888,
             "#fdca26"
            ],
            [
             1,
             "#f0f921"
            ]
           ]
          },
          "colorway": [
           "#636efa",
           "#EF553B",
           "#00cc96",
           "#ab63fa",
           "#FFA15A",
           "#19d3f3",
           "#FF6692",
           "#B6E880",
           "#FF97FF",
           "#FECB52"
          ],
          "font": {
           "color": "#2a3f5f"
          },
          "geo": {
           "bgcolor": "white",
           "lakecolor": "white",
           "landcolor": "#E5ECF6",
           "showlakes": true,
           "showland": true,
           "subunitcolor": "white"
          },
          "hoverlabel": {
           "align": "left"
          },
          "hovermode": "closest",
          "mapbox": {
           "style": "light"
          },
          "paper_bgcolor": "white",
          "plot_bgcolor": "#E5ECF6",
          "polar": {
           "angularaxis": {
            "gridcolor": "white",
            "linecolor": "white",
            "ticks": ""
           },
           "bgcolor": "#E5ECF6",
           "radialaxis": {
            "gridcolor": "white",
            "linecolor": "white",
            "ticks": ""
           }
          },
          "scene": {
           "xaxis": {
            "backgroundcolor": "#E5ECF6",
            "gridcolor": "white",
            "gridwidth": 2,
            "linecolor": "white",
            "showbackground": true,
            "ticks": "",
            "zerolinecolor": "white"
           },
           "yaxis": {
            "backgroundcolor": "#E5ECF6",
            "gridcolor": "white",
            "gridwidth": 2,
            "linecolor": "white",
            "showbackground": true,
            "ticks": "",
            "zerolinecolor": "white"
           },
           "zaxis": {
            "backgroundcolor": "#E5ECF6",
            "gridcolor": "white",
            "gridwidth": 2,
            "linecolor": "white",
            "showbackground": true,
            "ticks": "",
            "zerolinecolor": "white"
           }
          },
          "shapedefaults": {
           "line": {
            "color": "#2a3f5f"
           }
          },
          "ternary": {
           "aaxis": {
            "gridcolor": "white",
            "linecolor": "white",
            "ticks": ""
           },
           "baxis": {
            "gridcolor": "white",
            "linecolor": "white",
            "ticks": ""
           },
           "bgcolor": "#E5ECF6",
           "caxis": {
            "gridcolor": "white",
            "linecolor": "white",
            "ticks": ""
           }
          },
          "title": {
           "x": 0.05
          },
          "xaxis": {
           "automargin": true,
           "gridcolor": "white",
           "linecolor": "white",
           "ticks": "",
           "title": {
            "standoff": 15
           },
           "zerolinecolor": "white",
           "zerolinewidth": 2
          },
          "yaxis": {
           "automargin": true,
           "gridcolor": "white",
           "linecolor": "white",
           "ticks": "",
           "title": {
            "standoff": 15
           },
           "zerolinecolor": "white",
           "zerolinewidth": 2
          }
         }
        },
        "title": {
         "font": {
          "color": "#4D5663"
         }
        },
        "xaxis": {
         "gridcolor": "#E1E5ED",
         "showgrid": true,
         "tickfont": {
          "color": "#4D5663"
         },
         "title": {
          "font": {
           "color": "#4D5663"
          },
          "text": ""
         },
         "zerolinecolor": "#E1E5ED"
        },
        "yaxis": {
         "gridcolor": "#E1E5ED",
         "showgrid": true,
         "tickfont": {
          "color": "#4D5663"
         },
         "title": {
          "font": {
           "color": "#4D5663"
          },
          "text": ""
         },
         "zerolinecolor": "#E1E5ED"
        }
       }
      },
      "text/html": [
       "<div>\n",
       "        \n",
       "        \n",
       "            <div id=\"5553bd3e-f77a-4e95-aa8a-5d744fc05cfc\" class=\"plotly-graph-div\" style=\"height:525px; width:100%;\"></div>\n",
       "            <script type=\"text/javascript\">\n",
       "                require([\"plotly\"], function(Plotly) {\n",
       "                    window.PLOTLYENV=window.PLOTLYENV || {};\n",
       "                    window.PLOTLYENV.BASE_URL='https://plot.ly';\n",
       "                    \n",
       "                if (document.getElementById(\"5553bd3e-f77a-4e95-aa8a-5d744fc05cfc\")) {\n",
       "                    Plotly.newPlot(\n",
       "                        '5553bd3e-f77a-4e95-aa8a-5d744fc05cfc',\n",
       "                        [{\"colorscale\": [[0.0, \"rgb(255, 153, 51)\"], [0.1111111111111111, \"rgb(55, 128, 191)\"], [0.2222222222222222, \"rgb(50, 171, 96)\"], [0.3333333333333333, \"rgb(128, 0, 128)\"], [0.4444444444444444, \"rgb(219, 64, 82)\"], [0.5555555555555556, \"rgb(0, 128, 128)\"], [0.6666666666666666, \"rgb(255, 255, 51)\"], [0.7777777777777778, \"rgb(128, 128, 0)\"], [0.8888888888888888, \"rgb(251, 128, 114)\"], [1.0, \"rgb(128, 177, 211)\"]], \"type\": \"surface\", \"x\": [0, 1, 2, 3, 4], \"y\": [\"x\", \"y\", \"z\"], \"z\": [[1, 2, 3, 4, 5], [10, 20, 30, 20, 25], [500, 400, 100, 200, 300]]}],\n",
       "                        {\"legend\": {\"bgcolor\": \"#F5F6F9\", \"font\": {\"color\": \"#4D5663\"}}, \"paper_bgcolor\": \"#F5F6F9\", \"plot_bgcolor\": \"#F5F6F9\", \"template\": {\"data\": {\"bar\": [{\"error_x\": {\"color\": \"#2a3f5f\"}, \"error_y\": {\"color\": \"#2a3f5f\"}, \"marker\": {\"line\": {\"color\": \"#E5ECF6\", \"width\": 0.5}}, \"type\": \"bar\"}], \"barpolar\": [{\"marker\": {\"line\": {\"color\": \"#E5ECF6\", \"width\": 0.5}}, \"type\": \"barpolar\"}], \"carpet\": [{\"aaxis\": {\"endlinecolor\": \"#2a3f5f\", \"gridcolor\": \"white\", \"linecolor\": \"white\", \"minorgridcolor\": \"white\", \"startlinecolor\": \"#2a3f5f\"}, \"baxis\": {\"endlinecolor\": \"#2a3f5f\", \"gridcolor\": \"white\", \"linecolor\": \"white\", \"minorgridcolor\": \"white\", \"startlinecolor\": \"#2a3f5f\"}, \"type\": \"carpet\"}], \"choropleth\": [{\"colorbar\": {\"outlinewidth\": 0, \"ticks\": \"\"}, \"type\": \"choropleth\"}], \"contour\": [{\"colorbar\": {\"outlinewidth\": 0, \"ticks\": \"\"}, \"colorscale\": [[0.0, \"#0d0887\"], [0.1111111111111111, \"#46039f\"], [0.2222222222222222, \"#7201a8\"], [0.3333333333333333, \"#9c179e\"], [0.4444444444444444, \"#bd3786\"], [0.5555555555555556, \"#d8576b\"], [0.6666666666666666, \"#ed7953\"], [0.7777777777777778, \"#fb9f3a\"], [0.8888888888888888, \"#fdca26\"], [1.0, \"#f0f921\"]], \"type\": \"contour\"}], \"contourcarpet\": [{\"colorbar\": {\"outlinewidth\": 0, \"ticks\": \"\"}, \"type\": \"contourcarpet\"}], \"heatmap\": [{\"colorbar\": {\"outlinewidth\": 0, \"ticks\": \"\"}, \"colorscale\": [[0.0, \"#0d0887\"], [0.1111111111111111, \"#46039f\"], [0.2222222222222222, \"#7201a8\"], [0.3333333333333333, \"#9c179e\"], [0.4444444444444444, \"#bd3786\"], [0.5555555555555556, \"#d8576b\"], [0.6666666666666666, \"#ed7953\"], [0.7777777777777778, \"#fb9f3a\"], [0.8888888888888888, \"#fdca26\"], [1.0, \"#f0f921\"]], \"type\": \"heatmap\"}], \"heatmapgl\": [{\"colorbar\": {\"outlinewidth\": 0, \"ticks\": \"\"}, \"colorscale\": [[0.0, \"#0d0887\"], [0.1111111111111111, \"#46039f\"], [0.2222222222222222, \"#7201a8\"], [0.3333333333333333, \"#9c179e\"], [0.4444444444444444, \"#bd3786\"], [0.5555555555555556, \"#d8576b\"], [0.6666666666666666, \"#ed7953\"], [0.7777777777777778, \"#fb9f3a\"], [0.8888888888888888, \"#fdca26\"], [1.0, \"#f0f921\"]], \"type\": \"heatmapgl\"}], \"histogram\": [{\"marker\": {\"colorbar\": {\"outlinewidth\": 0, \"ticks\": \"\"}}, \"type\": \"histogram\"}], \"histogram2d\": [{\"colorbar\": {\"outlinewidth\": 0, \"ticks\": \"\"}, \"colorscale\": [[0.0, \"#0d0887\"], [0.1111111111111111, \"#46039f\"], [0.2222222222222222, \"#7201a8\"], [0.3333333333333333, \"#9c179e\"], [0.4444444444444444, \"#bd3786\"], [0.5555555555555556, \"#d8576b\"], [0.6666666666666666, \"#ed7953\"], [0.7777777777777778, \"#fb9f3a\"], [0.8888888888888888, \"#fdca26\"], [1.0, \"#f0f921\"]], \"type\": \"histogram2d\"}], \"histogram2dcontour\": [{\"colorbar\": {\"outlinewidth\": 0, \"ticks\": \"\"}, \"colorscale\": [[0.0, \"#0d0887\"], [0.1111111111111111, \"#46039f\"], [0.2222222222222222, \"#7201a8\"], [0.3333333333333333, \"#9c179e\"], [0.4444444444444444, \"#bd3786\"], [0.5555555555555556, \"#d8576b\"], [0.6666666666666666, \"#ed7953\"], [0.7777777777777778, \"#fb9f3a\"], [0.8888888888888888, \"#fdca26\"], [1.0, \"#f0f921\"]], \"type\": \"histogram2dcontour\"}], \"mesh3d\": [{\"colorbar\": {\"outlinewidth\": 0, \"ticks\": \"\"}, \"type\": \"mesh3d\"}], \"parcoords\": [{\"line\": {\"colorbar\": {\"outlinewidth\": 0, \"ticks\": \"\"}}, \"type\": \"parcoords\"}], \"pie\": [{\"automargin\": true, \"type\": \"pie\"}], \"scatter\": [{\"marker\": {\"colorbar\": {\"outlinewidth\": 0, \"ticks\": \"\"}}, \"type\": \"scatter\"}], \"scatter3d\": [{\"line\": {\"colorbar\": {\"outlinewidth\": 0, \"ticks\": \"\"}}, \"marker\": {\"colorbar\": {\"outlinewidth\": 0, \"ticks\": \"\"}}, \"type\": \"scatter3d\"}], \"scattercarpet\": [{\"marker\": {\"colorbar\": {\"outlinewidth\": 0, \"ticks\": \"\"}}, \"type\": \"scattercarpet\"}], \"scattergeo\": [{\"marker\": {\"colorbar\": {\"outlinewidth\": 0, \"ticks\": \"\"}}, \"type\": \"scattergeo\"}], \"scattergl\": [{\"marker\": {\"colorbar\": {\"outlinewidth\": 0, \"ticks\": \"\"}}, \"type\": \"scattergl\"}], \"scattermapbox\": [{\"marker\": {\"colorbar\": {\"outlinewidth\": 0, \"ticks\": \"\"}}, \"type\": \"scattermapbox\"}], \"scatterpolar\": [{\"marker\": {\"colorbar\": {\"outlinewidth\": 0, \"ticks\": \"\"}}, \"type\": \"scatterpolar\"}], \"scatterpolargl\": [{\"marker\": {\"colorbar\": {\"outlinewidth\": 0, \"ticks\": \"\"}}, \"type\": \"scatterpolargl\"}], \"scatterternary\": [{\"marker\": {\"colorbar\": {\"outlinewidth\": 0, \"ticks\": \"\"}}, \"type\": \"scatterternary\"}], \"surface\": [{\"colorbar\": {\"outlinewidth\": 0, \"ticks\": \"\"}, \"colorscale\": [[0.0, \"#0d0887\"], [0.1111111111111111, \"#46039f\"], [0.2222222222222222, \"#7201a8\"], [0.3333333333333333, \"#9c179e\"], [0.4444444444444444, \"#bd3786\"], [0.5555555555555556, \"#d8576b\"], [0.6666666666666666, \"#ed7953\"], [0.7777777777777778, \"#fb9f3a\"], [0.8888888888888888, \"#fdca26\"], [1.0, \"#f0f921\"]], \"type\": \"surface\"}], \"table\": [{\"cells\": {\"fill\": {\"color\": \"#EBF0F8\"}, \"line\": {\"color\": \"white\"}}, \"header\": {\"fill\": {\"color\": \"#C8D4E3\"}, \"line\": {\"color\": \"white\"}}, \"type\": \"table\"}]}, \"layout\": {\"annotationdefaults\": {\"arrowcolor\": \"#2a3f5f\", \"arrowhead\": 0, \"arrowwidth\": 1}, \"coloraxis\": {\"colorbar\": {\"outlinewidth\": 0, \"ticks\": \"\"}}, \"colorscale\": {\"diverging\": [[0, \"#8e0152\"], [0.1, \"#c51b7d\"], [0.2, \"#de77ae\"], [0.3, \"#f1b6da\"], [0.4, \"#fde0ef\"], [0.5, \"#f7f7f7\"], [0.6, \"#e6f5d0\"], [0.7, \"#b8e186\"], [0.8, \"#7fbc41\"], [0.9, \"#4d9221\"], [1, \"#276419\"]], \"sequential\": [[0.0, \"#0d0887\"], [0.1111111111111111, \"#46039f\"], [0.2222222222222222, \"#7201a8\"], [0.3333333333333333, \"#9c179e\"], [0.4444444444444444, \"#bd3786\"], [0.5555555555555556, \"#d8576b\"], [0.6666666666666666, \"#ed7953\"], [0.7777777777777778, \"#fb9f3a\"], [0.8888888888888888, \"#fdca26\"], [1.0, \"#f0f921\"]], \"sequentialminus\": [[0.0, \"#0d0887\"], [0.1111111111111111, \"#46039f\"], [0.2222222222222222, \"#7201a8\"], [0.3333333333333333, \"#9c179e\"], [0.4444444444444444, \"#bd3786\"], [0.5555555555555556, \"#d8576b\"], [0.6666666666666666, \"#ed7953\"], [0.7777777777777778, \"#fb9f3a\"], [0.8888888888888888, \"#fdca26\"], [1.0, \"#f0f921\"]]}, \"colorway\": [\"#636efa\", \"#EF553B\", \"#00cc96\", \"#ab63fa\", \"#FFA15A\", \"#19d3f3\", \"#FF6692\", \"#B6E880\", \"#FF97FF\", \"#FECB52\"], \"font\": {\"color\": \"#2a3f5f\"}, \"geo\": {\"bgcolor\": \"white\", \"lakecolor\": \"white\", \"landcolor\": \"#E5ECF6\", \"showlakes\": true, \"showland\": true, \"subunitcolor\": \"white\"}, \"hoverlabel\": {\"align\": \"left\"}, \"hovermode\": \"closest\", \"mapbox\": {\"style\": \"light\"}, \"paper_bgcolor\": \"white\", \"plot_bgcolor\": \"#E5ECF6\", \"polar\": {\"angularaxis\": {\"gridcolor\": \"white\", \"linecolor\": \"white\", \"ticks\": \"\"}, \"bgcolor\": \"#E5ECF6\", \"radialaxis\": {\"gridcolor\": \"white\", \"linecolor\": \"white\", \"ticks\": \"\"}}, \"scene\": {\"xaxis\": {\"backgroundcolor\": \"#E5ECF6\", \"gridcolor\": \"white\", \"gridwidth\": 2, \"linecolor\": \"white\", \"showbackground\": true, \"ticks\": \"\", \"zerolinecolor\": \"white\"}, \"yaxis\": {\"backgroundcolor\": \"#E5ECF6\", \"gridcolor\": \"white\", \"gridwidth\": 2, \"linecolor\": \"white\", \"showbackground\": true, \"ticks\": \"\", \"zerolinecolor\": \"white\"}, \"zaxis\": {\"backgroundcolor\": \"#E5ECF6\", \"gridcolor\": \"white\", \"gridwidth\": 2, \"linecolor\": \"white\", \"showbackground\": true, \"ticks\": \"\", \"zerolinecolor\": \"white\"}}, \"shapedefaults\": {\"line\": {\"color\": \"#2a3f5f\"}}, \"ternary\": {\"aaxis\": {\"gridcolor\": \"white\", \"linecolor\": \"white\", \"ticks\": \"\"}, \"baxis\": {\"gridcolor\": \"white\", \"linecolor\": \"white\", \"ticks\": \"\"}, \"bgcolor\": \"#E5ECF6\", \"caxis\": {\"gridcolor\": \"white\", \"linecolor\": \"white\", \"ticks\": \"\"}}, \"title\": {\"x\": 0.05}, \"xaxis\": {\"automargin\": true, \"gridcolor\": \"white\", \"linecolor\": \"white\", \"ticks\": \"\", \"title\": {\"standoff\": 15}, \"zerolinecolor\": \"white\", \"zerolinewidth\": 2}, \"yaxis\": {\"automargin\": true, \"gridcolor\": \"white\", \"linecolor\": \"white\", \"ticks\": \"\", \"title\": {\"standoff\": 15}, \"zerolinecolor\": \"white\", \"zerolinewidth\": 2}}}, \"title\": {\"font\": {\"color\": \"#4D5663\"}}, \"xaxis\": {\"gridcolor\": \"#E1E5ED\", \"showgrid\": true, \"tickfont\": {\"color\": \"#4D5663\"}, \"title\": {\"font\": {\"color\": \"#4D5663\"}, \"text\": \"\"}, \"zerolinecolor\": \"#E1E5ED\"}, \"yaxis\": {\"gridcolor\": \"#E1E5ED\", \"showgrid\": true, \"tickfont\": {\"color\": \"#4D5663\"}, \"title\": {\"font\": {\"color\": \"#4D5663\"}, \"text\": \"\"}, \"zerolinecolor\": \"#E1E5ED\"}},\n",
       "                        {\"showLink\": true, \"linkText\": \"Export to plot.ly\", \"plotlyServerURL\": \"https://plot.ly\", \"responsive\": true}\n",
       "                    ).then(function(){\n",
       "                            \n",
       "var gd = document.getElementById('5553bd3e-f77a-4e95-aa8a-5d744fc05cfc');\n",
       "var x = new MutationObserver(function (mutations, observer) {{\n",
       "        var display = window.getComputedStyle(gd).display;\n",
       "        if (!display || display === 'none') {{\n",
       "            console.log([gd, 'removed!']);\n",
       "            Plotly.purge(gd);\n",
       "            observer.disconnect();\n",
       "        }}\n",
       "}});\n",
       "\n",
       "// Listen for the removal of the full notebook cells\n",
       "var notebookContainer = gd.closest('#notebook-container');\n",
       "if (notebookContainer) {{\n",
       "    x.observe(notebookContainer, {childList: true});\n",
       "}}\n",
       "\n",
       "// Listen for the clearing of the current output cell\n",
       "var outputEl = gd.closest('.output');\n",
       "if (outputEl) {{\n",
       "    x.observe(outputEl, {childList: true});\n",
       "}}\n",
       "\n",
       "                        })\n",
       "                };\n",
       "                });\n",
       "            </script>\n",
       "        </div>"
      ]
     },
     "metadata": {},
     "output_type": "display_data"
    }
   ],
   "source": [
    "df3.iplot(kind='surface')"
   ]
  },
  {
   "cell_type": "code",
   "execution_count": 29,
   "metadata": {},
   "outputs": [
    {
     "data": {
      "application/vnd.plotly.v1+json": {
       "config": {
        "linkText": "Export to plot.ly",
        "plotlyServerURL": "https://plot.ly",
        "showLink": true
       },
       "data": [
        {
         "colorscale": [
          [
           0,
           "rgb(165,0,38)"
          ],
          [
           0.1,
           "rgb(215,48,39)"
          ],
          [
           0.2,
           "rgb(244,109,67)"
          ],
          [
           0.3,
           "rgb(253,174,97)"
          ],
          [
           0.4,
           "rgb(254,224,144)"
          ],
          [
           0.5,
           "rgb(255,255,191)"
          ],
          [
           0.6,
           "rgb(224,243,248)"
          ],
          [
           0.7,
           "rgb(171,217,233)"
          ],
          [
           0.8,
           "rgb(116,173,209)"
          ],
          [
           0.9,
           "rgb(69,117,180)"
          ],
          [
           1,
           "rgb(49,54,149)"
          ]
         ],
         "type": "surface",
         "x": [
          0,
          1,
          2,
          3,
          4
         ],
         "y": [
          "x",
          "y",
          "z"
         ],
         "z": [
          [
           1,
           2,
           3,
           4,
           5
          ],
          [
           10,
           20,
           30,
           20,
           25
          ],
          [
           500,
           400,
           100,
           610,
           300
          ]
         ]
        }
       ],
       "layout": {
        "legend": {
         "bgcolor": "#F5F6F9",
         "font": {
          "color": "#4D5663"
         }
        },
        "paper_bgcolor": "#F5F6F9",
        "plot_bgcolor": "#F5F6F9",
        "template": {
         "data": {
          "bar": [
           {
            "error_x": {
             "color": "#2a3f5f"
            },
            "error_y": {
             "color": "#2a3f5f"
            },
            "marker": {
             "line": {
              "color": "#E5ECF6",
              "width": 0.5
             }
            },
            "type": "bar"
           }
          ],
          "barpolar": [
           {
            "marker": {
             "line": {
              "color": "#E5ECF6",
              "width": 0.5
             }
            },
            "type": "barpolar"
           }
          ],
          "carpet": [
           {
            "aaxis": {
             "endlinecolor": "#2a3f5f",
             "gridcolor": "white",
             "linecolor": "white",
             "minorgridcolor": "white",
             "startlinecolor": "#2a3f5f"
            },
            "baxis": {
             "endlinecolor": "#2a3f5f",
             "gridcolor": "white",
             "linecolor": "white",
             "minorgridcolor": "white",
             "startlinecolor": "#2a3f5f"
            },
            "type": "carpet"
           }
          ],
          "choropleth": [
           {
            "colorbar": {
             "outlinewidth": 0,
             "ticks": ""
            },
            "type": "choropleth"
           }
          ],
          "contour": [
           {
            "colorbar": {
             "outlinewidth": 0,
             "ticks": ""
            },
            "colorscale": [
             [
              0,
              "#0d0887"
             ],
             [
              0.1111111111111111,
              "#46039f"
             ],
             [
              0.2222222222222222,
              "#7201a8"
             ],
             [
              0.3333333333333333,
              "#9c179e"
             ],
             [
              0.4444444444444444,
              "#bd3786"
             ],
             [
              0.5555555555555556,
              "#d8576b"
             ],
             [
              0.6666666666666666,
              "#ed7953"
             ],
             [
              0.7777777777777778,
              "#fb9f3a"
             ],
             [
              0.8888888888888888,
              "#fdca26"
             ],
             [
              1,
              "#f0f921"
             ]
            ],
            "type": "contour"
           }
          ],
          "contourcarpet": [
           {
            "colorbar": {
             "outlinewidth": 0,
             "ticks": ""
            },
            "type": "contourcarpet"
           }
          ],
          "heatmap": [
           {
            "colorbar": {
             "outlinewidth": 0,
             "ticks": ""
            },
            "colorscale": [
             [
              0,
              "#0d0887"
             ],
             [
              0.1111111111111111,
              "#46039f"
             ],
             [
              0.2222222222222222,
              "#7201a8"
             ],
             [
              0.3333333333333333,
              "#9c179e"
             ],
             [
              0.4444444444444444,
              "#bd3786"
             ],
             [
              0.5555555555555556,
              "#d8576b"
             ],
             [
              0.6666666666666666,
              "#ed7953"
             ],
             [
              0.7777777777777778,
              "#fb9f3a"
             ],
             [
              0.8888888888888888,
              "#fdca26"
             ],
             [
              1,
              "#f0f921"
             ]
            ],
            "type": "heatmap"
           }
          ],
          "heatmapgl": [
           {
            "colorbar": {
             "outlinewidth": 0,
             "ticks": ""
            },
            "colorscale": [
             [
              0,
              "#0d0887"
             ],
             [
              0.1111111111111111,
              "#46039f"
             ],
             [
              0.2222222222222222,
              "#7201a8"
             ],
             [
              0.3333333333333333,
              "#9c179e"
             ],
             [
              0.4444444444444444,
              "#bd3786"
             ],
             [
              0.5555555555555556,
              "#d8576b"
             ],
             [
              0.6666666666666666,
              "#ed7953"
             ],
             [
              0.7777777777777778,
              "#fb9f3a"
             ],
             [
              0.8888888888888888,
              "#fdca26"
             ],
             [
              1,
              "#f0f921"
             ]
            ],
            "type": "heatmapgl"
           }
          ],
          "histogram": [
           {
            "marker": {
             "colorbar": {
              "outlinewidth": 0,
              "ticks": ""
             }
            },
            "type": "histogram"
           }
          ],
          "histogram2d": [
           {
            "colorbar": {
             "outlinewidth": 0,
             "ticks": ""
            },
            "colorscale": [
             [
              0,
              "#0d0887"
             ],
             [
              0.1111111111111111,
              "#46039f"
             ],
             [
              0.2222222222222222,
              "#7201a8"
             ],
             [
              0.3333333333333333,
              "#9c179e"
             ],
             [
              0.4444444444444444,
              "#bd3786"
             ],
             [
              0.5555555555555556,
              "#d8576b"
             ],
             [
              0.6666666666666666,
              "#ed7953"
             ],
             [
              0.7777777777777778,
              "#fb9f3a"
             ],
             [
              0.8888888888888888,
              "#fdca26"
             ],
             [
              1,
              "#f0f921"
             ]
            ],
            "type": "histogram2d"
           }
          ],
          "histogram2dcontour": [
           {
            "colorbar": {
             "outlinewidth": 0,
             "ticks": ""
            },
            "colorscale": [
             [
              0,
              "#0d0887"
             ],
             [
              0.1111111111111111,
              "#46039f"
             ],
             [
              0.2222222222222222,
              "#7201a8"
             ],
             [
              0.3333333333333333,
              "#9c179e"
             ],
             [
              0.4444444444444444,
              "#bd3786"
             ],
             [
              0.5555555555555556,
              "#d8576b"
             ],
             [
              0.6666666666666666,
              "#ed7953"
             ],
             [
              0.7777777777777778,
              "#fb9f3a"
             ],
             [
              0.8888888888888888,
              "#fdca26"
             ],
             [
              1,
              "#f0f921"
             ]
            ],
            "type": "histogram2dcontour"
           }
          ],
          "mesh3d": [
           {
            "colorbar": {
             "outlinewidth": 0,
             "ticks": ""
            },
            "type": "mesh3d"
           }
          ],
          "parcoords": [
           {
            "line": {
             "colorbar": {
              "outlinewidth": 0,
              "ticks": ""
             }
            },
            "type": "parcoords"
           }
          ],
          "pie": [
           {
            "automargin": true,
            "type": "pie"
           }
          ],
          "scatter": [
           {
            "marker": {
             "colorbar": {
              "outlinewidth": 0,
              "ticks": ""
             }
            },
            "type": "scatter"
           }
          ],
          "scatter3d": [
           {
            "line": {
             "colorbar": {
              "outlinewidth": 0,
              "ticks": ""
             }
            },
            "marker": {
             "colorbar": {
              "outlinewidth": 0,
              "ticks": ""
             }
            },
            "type": "scatter3d"
           }
          ],
          "scattercarpet": [
           {
            "marker": {
             "colorbar": {
              "outlinewidth": 0,
              "ticks": ""
             }
            },
            "type": "scattercarpet"
           }
          ],
          "scattergeo": [
           {
            "marker": {
             "colorbar": {
              "outlinewidth": 0,
              "ticks": ""
             }
            },
            "type": "scattergeo"
           }
          ],
          "scattergl": [
           {
            "marker": {
             "colorbar": {
              "outlinewidth": 0,
              "ticks": ""
             }
            },
            "type": "scattergl"
           }
          ],
          "scattermapbox": [
           {
            "marker": {
             "colorbar": {
              "outlinewidth": 0,
              "ticks": ""
             }
            },
            "type": "scattermapbox"
           }
          ],
          "scatterpolar": [
           {
            "marker": {
             "colorbar": {
              "outlinewidth": 0,
              "ticks": ""
             }
            },
            "type": "scatterpolar"
           }
          ],
          "scatterpolargl": [
           {
            "marker": {
             "colorbar": {
              "outlinewidth": 0,
              "ticks": ""
             }
            },
            "type": "scatterpolargl"
           }
          ],
          "scatterternary": [
           {
            "marker": {
             "colorbar": {
              "outlinewidth": 0,
              "ticks": ""
             }
            },
            "type": "scatterternary"
           }
          ],
          "surface": [
           {
            "colorbar": {
             "outlinewidth": 0,
             "ticks": ""
            },
            "colorscale": [
             [
              0,
              "#0d0887"
             ],
             [
              0.1111111111111111,
              "#46039f"
             ],
             [
              0.2222222222222222,
              "#7201a8"
             ],
             [
              0.3333333333333333,
              "#9c179e"
             ],
             [
              0.4444444444444444,
              "#bd3786"
             ],
             [
              0.5555555555555556,
              "#d8576b"
             ],
             [
              0.6666666666666666,
              "#ed7953"
             ],
             [
              0.7777777777777778,
              "#fb9f3a"
             ],
             [
              0.8888888888888888,
              "#fdca26"
             ],
             [
              1,
              "#f0f921"
             ]
            ],
            "type": "surface"
           }
          ],
          "table": [
           {
            "cells": {
             "fill": {
              "color": "#EBF0F8"
             },
             "line": {
              "color": "white"
             }
            },
            "header": {
             "fill": {
              "color": "#C8D4E3"
             },
             "line": {
              "color": "white"
             }
            },
            "type": "table"
           }
          ]
         },
         "layout": {
          "annotationdefaults": {
           "arrowcolor": "#2a3f5f",
           "arrowhead": 0,
           "arrowwidth": 1
          },
          "coloraxis": {
           "colorbar": {
            "outlinewidth": 0,
            "ticks": ""
           }
          },
          "colorscale": {
           "diverging": [
            [
             0,
             "#8e0152"
            ],
            [
             0.1,
             "#c51b7d"
            ],
            [
             0.2,
             "#de77ae"
            ],
            [
             0.3,
             "#f1b6da"
            ],
            [
             0.4,
             "#fde0ef"
            ],
            [
             0.5,
             "#f7f7f7"
            ],
            [
             0.6,
             "#e6f5d0"
            ],
            [
             0.7,
             "#b8e186"
            ],
            [
             0.8,
             "#7fbc41"
            ],
            [
             0.9,
             "#4d9221"
            ],
            [
             1,
             "#276419"
            ]
           ],
           "sequential": [
            [
             0,
             "#0d0887"
            ],
            [
             0.1111111111111111,
             "#46039f"
            ],
            [
             0.2222222222222222,
             "#7201a8"
            ],
            [
             0.3333333333333333,
             "#9c179e"
            ],
            [
             0.4444444444444444,
             "#bd3786"
            ],
            [
             0.5555555555555556,
             "#d8576b"
            ],
            [
             0.6666666666666666,
             "#ed7953"
            ],
            [
             0.7777777777777778,
             "#fb9f3a"
            ],
            [
             0.8888888888888888,
             "#fdca26"
            ],
            [
             1,
             "#f0f921"
            ]
           ],
           "sequentialminus": [
            [
             0,
             "#0d0887"
            ],
            [
             0.1111111111111111,
             "#46039f"
            ],
            [
             0.2222222222222222,
             "#7201a8"
            ],
            [
             0.3333333333333333,
             "#9c179e"
            ],
            [
             0.4444444444444444,
             "#bd3786"
            ],
            [
             0.5555555555555556,
             "#d8576b"
            ],
            [
             0.6666666666666666,
             "#ed7953"
            ],
            [
             0.7777777777777778,
             "#fb9f3a"
            ],
            [
             0.8888888888888888,
             "#fdca26"
            ],
            [
             1,
             "#f0f921"
            ]
           ]
          },
          "colorway": [
           "#636efa",
           "#EF553B",
           "#00cc96",
           "#ab63fa",
           "#FFA15A",
           "#19d3f3",
           "#FF6692",
           "#B6E880",
           "#FF97FF",
           "#FECB52"
          ],
          "font": {
           "color": "#2a3f5f"
          },
          "geo": {
           "bgcolor": "white",
           "lakecolor": "white",
           "landcolor": "#E5ECF6",
           "showlakes": true,
           "showland": true,
           "subunitcolor": "white"
          },
          "hoverlabel": {
           "align": "left"
          },
          "hovermode": "closest",
          "mapbox": {
           "style": "light"
          },
          "paper_bgcolor": "white",
          "plot_bgcolor": "#E5ECF6",
          "polar": {
           "angularaxis": {
            "gridcolor": "white",
            "linecolor": "white",
            "ticks": ""
           },
           "bgcolor": "#E5ECF6",
           "radialaxis": {
            "gridcolor": "white",
            "linecolor": "white",
            "ticks": ""
           }
          },
          "scene": {
           "xaxis": {
            "backgroundcolor": "#E5ECF6",
            "gridcolor": "white",
            "gridwidth": 2,
            "linecolor": "white",
            "showbackground": true,
            "ticks": "",
            "zerolinecolor": "white"
           },
           "yaxis": {
            "backgroundcolor": "#E5ECF6",
            "gridcolor": "white",
            "gridwidth": 2,
            "linecolor": "white",
            "showbackground": true,
            "ticks": "",
            "zerolinecolor": "white"
           },
           "zaxis": {
            "backgroundcolor": "#E5ECF6",
            "gridcolor": "white",
            "gridwidth": 2,
            "linecolor": "white",
            "showbackground": true,
            "ticks": "",
            "zerolinecolor": "white"
           }
          },
          "shapedefaults": {
           "line": {
            "color": "#2a3f5f"
           }
          },
          "ternary": {
           "aaxis": {
            "gridcolor": "white",
            "linecolor": "white",
            "ticks": ""
           },
           "baxis": {
            "gridcolor": "white",
            "linecolor": "white",
            "ticks": ""
           },
           "bgcolor": "#E5ECF6",
           "caxis": {
            "gridcolor": "white",
            "linecolor": "white",
            "ticks": ""
           }
          },
          "title": {
           "x": 0.05
          },
          "xaxis": {
           "automargin": true,
           "gridcolor": "white",
           "linecolor": "white",
           "ticks": "",
           "title": {
            "standoff": 15
           },
           "zerolinecolor": "white",
           "zerolinewidth": 2
          },
          "yaxis": {
           "automargin": true,
           "gridcolor": "white",
           "linecolor": "white",
           "ticks": "",
           "title": {
            "standoff": 15
           },
           "zerolinecolor": "white",
           "zerolinewidth": 2
          }
         }
        },
        "title": {
         "font": {
          "color": "#4D5663"
         }
        },
        "xaxis": {
         "gridcolor": "#E1E5ED",
         "showgrid": true,
         "tickfont": {
          "color": "#4D5663"
         },
         "title": {
          "font": {
           "color": "#4D5663"
          },
          "text": ""
         },
         "zerolinecolor": "#E1E5ED"
        },
        "yaxis": {
         "gridcolor": "#E1E5ED",
         "showgrid": true,
         "tickfont": {
          "color": "#4D5663"
         },
         "title": {
          "font": {
           "color": "#4D5663"
          },
          "text": ""
         },
         "zerolinecolor": "#E1E5ED"
        }
       }
      },
      "text/html": [
       "<div>\n",
       "        \n",
       "        \n",
       "            <div id=\"5d988858-2453-4b14-af4f-e43417df1924\" class=\"plotly-graph-div\" style=\"height:525px; width:100%;\"></div>\n",
       "            <script type=\"text/javascript\">\n",
       "                require([\"plotly\"], function(Plotly) {\n",
       "                    window.PLOTLYENV=window.PLOTLYENV || {};\n",
       "                    window.PLOTLYENV.BASE_URL='https://plot.ly';\n",
       "                    \n",
       "                if (document.getElementById(\"5d988858-2453-4b14-af4f-e43417df1924\")) {\n",
       "                    Plotly.newPlot(\n",
       "                        '5d988858-2453-4b14-af4f-e43417df1924',\n",
       "                        [{\"colorscale\": [[0.0, \"rgb(165,0,38)\"], [0.1, \"rgb(215,48,39)\"], [0.2, \"rgb(244,109,67)\"], [0.3, \"rgb(253,174,97)\"], [0.4, \"rgb(254,224,144)\"], [0.5, \"rgb(255,255,191)\"], [0.6, \"rgb(224,243,248)\"], [0.7, \"rgb(171,217,233)\"], [0.8, \"rgb(116,173,209)\"], [0.9, \"rgb(69,117,180)\"], [1.0, \"rgb(49,54,149)\"]], \"type\": \"surface\", \"x\": [0, 1, 2, 3, 4], \"y\": [\"x\", \"y\", \"z\"], \"z\": [[1, 2, 3, 4, 5], [10, 20, 30, 20, 25], [500, 400, 100, 610, 300]]}],\n",
       "                        {\"legend\": {\"bgcolor\": \"#F5F6F9\", \"font\": {\"color\": \"#4D5663\"}}, \"paper_bgcolor\": \"#F5F6F9\", \"plot_bgcolor\": \"#F5F6F9\", \"template\": {\"data\": {\"bar\": [{\"error_x\": {\"color\": \"#2a3f5f\"}, \"error_y\": {\"color\": \"#2a3f5f\"}, \"marker\": {\"line\": {\"color\": \"#E5ECF6\", \"width\": 0.5}}, \"type\": \"bar\"}], \"barpolar\": [{\"marker\": {\"line\": {\"color\": \"#E5ECF6\", \"width\": 0.5}}, \"type\": \"barpolar\"}], \"carpet\": [{\"aaxis\": {\"endlinecolor\": \"#2a3f5f\", \"gridcolor\": \"white\", \"linecolor\": \"white\", \"minorgridcolor\": \"white\", \"startlinecolor\": \"#2a3f5f\"}, \"baxis\": {\"endlinecolor\": \"#2a3f5f\", \"gridcolor\": \"white\", \"linecolor\": \"white\", \"minorgridcolor\": \"white\", \"startlinecolor\": \"#2a3f5f\"}, \"type\": \"carpet\"}], \"choropleth\": [{\"colorbar\": {\"outlinewidth\": 0, \"ticks\": \"\"}, \"type\": \"choropleth\"}], \"contour\": [{\"colorbar\": {\"outlinewidth\": 0, \"ticks\": \"\"}, \"colorscale\": [[0.0, \"#0d0887\"], [0.1111111111111111, \"#46039f\"], [0.2222222222222222, \"#7201a8\"], [0.3333333333333333, \"#9c179e\"], [0.4444444444444444, \"#bd3786\"], [0.5555555555555556, \"#d8576b\"], [0.6666666666666666, \"#ed7953\"], [0.7777777777777778, \"#fb9f3a\"], [0.8888888888888888, \"#fdca26\"], [1.0, \"#f0f921\"]], \"type\": \"contour\"}], \"contourcarpet\": [{\"colorbar\": {\"outlinewidth\": 0, \"ticks\": \"\"}, \"type\": \"contourcarpet\"}], \"heatmap\": [{\"colorbar\": {\"outlinewidth\": 0, \"ticks\": \"\"}, \"colorscale\": [[0.0, \"#0d0887\"], [0.1111111111111111, \"#46039f\"], [0.2222222222222222, \"#7201a8\"], [0.3333333333333333, \"#9c179e\"], [0.4444444444444444, \"#bd3786\"], [0.5555555555555556, \"#d8576b\"], [0.6666666666666666, \"#ed7953\"], [0.7777777777777778, \"#fb9f3a\"], [0.8888888888888888, \"#fdca26\"], [1.0, \"#f0f921\"]], \"type\": \"heatmap\"}], \"heatmapgl\": [{\"colorbar\": {\"outlinewidth\": 0, \"ticks\": \"\"}, \"colorscale\": [[0.0, \"#0d0887\"], [0.1111111111111111, \"#46039f\"], [0.2222222222222222, \"#7201a8\"], [0.3333333333333333, \"#9c179e\"], [0.4444444444444444, \"#bd3786\"], [0.5555555555555556, \"#d8576b\"], [0.6666666666666666, \"#ed7953\"], [0.7777777777777778, \"#fb9f3a\"], [0.8888888888888888, \"#fdca26\"], [1.0, \"#f0f921\"]], \"type\": \"heatmapgl\"}], \"histogram\": [{\"marker\": {\"colorbar\": {\"outlinewidth\": 0, \"ticks\": \"\"}}, \"type\": \"histogram\"}], \"histogram2d\": [{\"colorbar\": {\"outlinewidth\": 0, \"ticks\": \"\"}, \"colorscale\": [[0.0, \"#0d0887\"], [0.1111111111111111, \"#46039f\"], [0.2222222222222222, \"#7201a8\"], [0.3333333333333333, \"#9c179e\"], [0.4444444444444444, \"#bd3786\"], [0.5555555555555556, \"#d8576b\"], [0.6666666666666666, \"#ed7953\"], [0.7777777777777778, \"#fb9f3a\"], [0.8888888888888888, \"#fdca26\"], [1.0, \"#f0f921\"]], \"type\": \"histogram2d\"}], \"histogram2dcontour\": [{\"colorbar\": {\"outlinewidth\": 0, \"ticks\": \"\"}, \"colorscale\": [[0.0, \"#0d0887\"], [0.1111111111111111, \"#46039f\"], [0.2222222222222222, \"#7201a8\"], [0.3333333333333333, \"#9c179e\"], [0.4444444444444444, \"#bd3786\"], [0.5555555555555556, \"#d8576b\"], [0.6666666666666666, \"#ed7953\"], [0.7777777777777778, \"#fb9f3a\"], [0.8888888888888888, \"#fdca26\"], [1.0, \"#f0f921\"]], \"type\": \"histogram2dcontour\"}], \"mesh3d\": [{\"colorbar\": {\"outlinewidth\": 0, \"ticks\": \"\"}, \"type\": \"mesh3d\"}], \"parcoords\": [{\"line\": {\"colorbar\": {\"outlinewidth\": 0, \"ticks\": \"\"}}, \"type\": \"parcoords\"}], \"pie\": [{\"automargin\": true, \"type\": \"pie\"}], \"scatter\": [{\"marker\": {\"colorbar\": {\"outlinewidth\": 0, \"ticks\": \"\"}}, \"type\": \"scatter\"}], \"scatter3d\": [{\"line\": {\"colorbar\": {\"outlinewidth\": 0, \"ticks\": \"\"}}, \"marker\": {\"colorbar\": {\"outlinewidth\": 0, \"ticks\": \"\"}}, \"type\": \"scatter3d\"}], \"scattercarpet\": [{\"marker\": {\"colorbar\": {\"outlinewidth\": 0, \"ticks\": \"\"}}, \"type\": \"scattercarpet\"}], \"scattergeo\": [{\"marker\": {\"colorbar\": {\"outlinewidth\": 0, \"ticks\": \"\"}}, \"type\": \"scattergeo\"}], \"scattergl\": [{\"marker\": {\"colorbar\": {\"outlinewidth\": 0, \"ticks\": \"\"}}, \"type\": \"scattergl\"}], \"scattermapbox\": [{\"marker\": {\"colorbar\": {\"outlinewidth\": 0, \"ticks\": \"\"}}, \"type\": \"scattermapbox\"}], \"scatterpolar\": [{\"marker\": {\"colorbar\": {\"outlinewidth\": 0, \"ticks\": \"\"}}, \"type\": \"scatterpolar\"}], \"scatterpolargl\": [{\"marker\": {\"colorbar\": {\"outlinewidth\": 0, \"ticks\": \"\"}}, \"type\": \"scatterpolargl\"}], \"scatterternary\": [{\"marker\": {\"colorbar\": {\"outlinewidth\": 0, \"ticks\": \"\"}}, \"type\": \"scatterternary\"}], \"surface\": [{\"colorbar\": {\"outlinewidth\": 0, \"ticks\": \"\"}, \"colorscale\": [[0.0, \"#0d0887\"], [0.1111111111111111, \"#46039f\"], [0.2222222222222222, \"#7201a8\"], [0.3333333333333333, \"#9c179e\"], [0.4444444444444444, \"#bd3786\"], [0.5555555555555556, \"#d8576b\"], [0.6666666666666666, \"#ed7953\"], [0.7777777777777778, \"#fb9f3a\"], [0.8888888888888888, \"#fdca26\"], [1.0, \"#f0f921\"]], \"type\": \"surface\"}], \"table\": [{\"cells\": {\"fill\": {\"color\": \"#EBF0F8\"}, \"line\": {\"color\": \"white\"}}, \"header\": {\"fill\": {\"color\": \"#C8D4E3\"}, \"line\": {\"color\": \"white\"}}, \"type\": \"table\"}]}, \"layout\": {\"annotationdefaults\": {\"arrowcolor\": \"#2a3f5f\", \"arrowhead\": 0, \"arrowwidth\": 1}, \"coloraxis\": {\"colorbar\": {\"outlinewidth\": 0, \"ticks\": \"\"}}, \"colorscale\": {\"diverging\": [[0, \"#8e0152\"], [0.1, \"#c51b7d\"], [0.2, \"#de77ae\"], [0.3, \"#f1b6da\"], [0.4, \"#fde0ef\"], [0.5, \"#f7f7f7\"], [0.6, \"#e6f5d0\"], [0.7, \"#b8e186\"], [0.8, \"#7fbc41\"], [0.9, \"#4d9221\"], [1, \"#276419\"]], \"sequential\": [[0.0, \"#0d0887\"], [0.1111111111111111, \"#46039f\"], [0.2222222222222222, \"#7201a8\"], [0.3333333333333333, \"#9c179e\"], [0.4444444444444444, \"#bd3786\"], [0.5555555555555556, \"#d8576b\"], [0.6666666666666666, \"#ed7953\"], [0.7777777777777778, \"#fb9f3a\"], [0.8888888888888888, \"#fdca26\"], [1.0, \"#f0f921\"]], \"sequentialminus\": [[0.0, \"#0d0887\"], [0.1111111111111111, \"#46039f\"], [0.2222222222222222, \"#7201a8\"], [0.3333333333333333, \"#9c179e\"], [0.4444444444444444, \"#bd3786\"], [0.5555555555555556, \"#d8576b\"], [0.6666666666666666, \"#ed7953\"], [0.7777777777777778, \"#fb9f3a\"], [0.8888888888888888, \"#fdca26\"], [1.0, \"#f0f921\"]]}, \"colorway\": [\"#636efa\", \"#EF553B\", \"#00cc96\", \"#ab63fa\", \"#FFA15A\", \"#19d3f3\", \"#FF6692\", \"#B6E880\", \"#FF97FF\", \"#FECB52\"], \"font\": {\"color\": \"#2a3f5f\"}, \"geo\": {\"bgcolor\": \"white\", \"lakecolor\": \"white\", \"landcolor\": \"#E5ECF6\", \"showlakes\": true, \"showland\": true, \"subunitcolor\": \"white\"}, \"hoverlabel\": {\"align\": \"left\"}, \"hovermode\": \"closest\", \"mapbox\": {\"style\": \"light\"}, \"paper_bgcolor\": \"white\", \"plot_bgcolor\": \"#E5ECF6\", \"polar\": {\"angularaxis\": {\"gridcolor\": \"white\", \"linecolor\": \"white\", \"ticks\": \"\"}, \"bgcolor\": \"#E5ECF6\", \"radialaxis\": {\"gridcolor\": \"white\", \"linecolor\": \"white\", \"ticks\": \"\"}}, \"scene\": {\"xaxis\": {\"backgroundcolor\": \"#E5ECF6\", \"gridcolor\": \"white\", \"gridwidth\": 2, \"linecolor\": \"white\", \"showbackground\": true, \"ticks\": \"\", \"zerolinecolor\": \"white\"}, \"yaxis\": {\"backgroundcolor\": \"#E5ECF6\", \"gridcolor\": \"white\", \"gridwidth\": 2, \"linecolor\": \"white\", \"showbackground\": true, \"ticks\": \"\", \"zerolinecolor\": \"white\"}, \"zaxis\": {\"backgroundcolor\": \"#E5ECF6\", \"gridcolor\": \"white\", \"gridwidth\": 2, \"linecolor\": \"white\", \"showbackground\": true, \"ticks\": \"\", \"zerolinecolor\": \"white\"}}, \"shapedefaults\": {\"line\": {\"color\": \"#2a3f5f\"}}, \"ternary\": {\"aaxis\": {\"gridcolor\": \"white\", \"linecolor\": \"white\", \"ticks\": \"\"}, \"baxis\": {\"gridcolor\": \"white\", \"linecolor\": \"white\", \"ticks\": \"\"}, \"bgcolor\": \"#E5ECF6\", \"caxis\": {\"gridcolor\": \"white\", \"linecolor\": \"white\", \"ticks\": \"\"}}, \"title\": {\"x\": 0.05}, \"xaxis\": {\"automargin\": true, \"gridcolor\": \"white\", \"linecolor\": \"white\", \"ticks\": \"\", \"title\": {\"standoff\": 15}, \"zerolinecolor\": \"white\", \"zerolinewidth\": 2}, \"yaxis\": {\"automargin\": true, \"gridcolor\": \"white\", \"linecolor\": \"white\", \"ticks\": \"\", \"title\": {\"standoff\": 15}, \"zerolinecolor\": \"white\", \"zerolinewidth\": 2}}}, \"title\": {\"font\": {\"color\": \"#4D5663\"}}, \"xaxis\": {\"gridcolor\": \"#E1E5ED\", \"showgrid\": true, \"tickfont\": {\"color\": \"#4D5663\"}, \"title\": {\"font\": {\"color\": \"#4D5663\"}, \"text\": \"\"}, \"zerolinecolor\": \"#E1E5ED\"}, \"yaxis\": {\"gridcolor\": \"#E1E5ED\", \"showgrid\": true, \"tickfont\": {\"color\": \"#4D5663\"}, \"title\": {\"font\": {\"color\": \"#4D5663\"}, \"text\": \"\"}, \"zerolinecolor\": \"#E1E5ED\"}},\n",
       "                        {\"showLink\": true, \"linkText\": \"Export to plot.ly\", \"plotlyServerURL\": \"https://plot.ly\", \"responsive\": true}\n",
       "                    ).then(function(){\n",
       "                            \n",
       "var gd = document.getElementById('5d988858-2453-4b14-af4f-e43417df1924');\n",
       "var x = new MutationObserver(function (mutations, observer) {{\n",
       "        var display = window.getComputedStyle(gd).display;\n",
       "        if (!display || display === 'none') {{\n",
       "            console.log([gd, 'removed!']);\n",
       "            Plotly.purge(gd);\n",
       "            observer.disconnect();\n",
       "        }}\n",
       "}});\n",
       "\n",
       "// Listen for the removal of the full notebook cells\n",
       "var notebookContainer = gd.closest('#notebook-container');\n",
       "if (notebookContainer) {{\n",
       "    x.observe(notebookContainer, {childList: true});\n",
       "}}\n",
       "\n",
       "// Listen for the clearing of the current output cell\n",
       "var outputEl = gd.closest('.output');\n",
       "if (outputEl) {{\n",
       "    x.observe(outputEl, {childList: true});\n",
       "}}\n",
       "\n",
       "                        })\n",
       "                };\n",
       "                });\n",
       "            </script>\n",
       "        </div>"
      ]
     },
     "metadata": {},
     "output_type": "display_data"
    }
   ],
   "source": [
    "df3.iplot(kind='surface', colorscale='rdylbu')"
   ]
  },
  {
   "cell_type": "code",
   "execution_count": 25,
   "metadata": {},
   "outputs": [
    {
     "data": {
      "application/vnd.plotly.v1+json": {
       "config": {
        "linkText": "Export to plot.ly",
        "plotlyServerURL": "https://plot.ly",
        "showLink": true
       },
       "data": [
        {
         "histfunc": "count",
         "histnorm": "",
         "marker": {
          "color": "rgba(255, 153, 51, 1.0)",
          "line": {
           "color": "#4D5663",
           "width": 1.3
          }
         },
         "name": "A",
         "opacity": 0.8,
         "orientation": "v",
         "type": "histogram",
         "x": [
          -0.3528362464153668,
          -0.284490578588392,
          2.203326375137168,
          1.1914906229339413,
          -0.5643907599811814,
          2.7798718153014357,
          1.1392230478947218,
          -0.3969084492198873,
          -0.8431354506721372,
          -1.2113706937321673,
          -1.1232328854452367,
          0.4518665654795515,
          0.15108658835894914,
          -1.7197708096350655,
          -0.07078563077906978,
          -0.980891266191066,
          -2.0065915820068994,
          0.04405074044947059,
          -0.1816391125056839,
          0.7598049797859753,
          -1.096012407090366,
          -1.4973956161707278,
          -2.2293808754538005,
          -0.15494190096890462,
          -0.8404676595449304,
          -1.5864444840611043,
          -1.271828143859151,
          0.233536485699503,
          0.32955043668175693,
          1.1595295612279588,
          -0.5278554404367857,
          -0.16303045205008881,
          -1.7674739515583324,
          0.33892658874933296,
          0.19685617323938542,
          0.33023853338745474,
          0.03730643652616613,
          0.32496894629056994,
          0.23244779523287074,
          -0.01842197648227652,
          -1.1672830340101563,
          -0.40440266128609065,
          2.07759282848088,
          0.14020699314040225,
          0.11670666187449041,
          -1.3759216802724983,
          2.3270704249878746,
          0.3972406311737788,
          0.17442023752997537,
          -0.2800525759529055,
          0.4506210148099999,
          2.6202326404140677,
          1.0653150560571336,
          1.7095140209602646,
          0.7990198343521421,
          -0.8281912607199876,
          -0.806280334150687,
          1.6979095908090678,
          -0.8672712204039527,
          1.1005741543620384,
          -0.6546095261109552,
          0.9048167986183359,
          -0.7100506115690377,
          0.648084430407177,
          0.9447881732500704,
          -0.4713552039565896,
          0.21402616654041448,
          -0.935151045365892,
          1.2150495379117552,
          -0.43140919672950967,
          -1.1891048756132958,
          0.9847206464209383,
          0.40945681494002684,
          -0.8066269723088334,
          -0.6687296314674605,
          -1.0238807147882825,
          -0.2700469623402802,
          0.5690651238713944,
          0.6865219970682781,
          0.6483901625701793,
          1.2905559982270822,
          0.8178639588042602,
          1.1575135611917569,
          -2.0984711888019745,
          -1.7762476161655396,
          -0.6748575307003194,
          -0.21849196898810175,
          -0.5753702112145309,
          -0.3920858562314582,
          0.6970390930379042,
          -1.4429250467452353,
          -0.3166115618643759,
          -0.3519621812877541,
          -0.4525464016079805,
          0.5423829440734289,
          -0.36691990004214553,
          -0.7611303390249726,
          2.0511135768496143,
          -0.9598352743683791,
          -0.37398827024180453
         ]
        }
       ],
       "layout": {
        "barmode": "overlay",
        "legend": {
         "bgcolor": "#F5F6F9",
         "font": {
          "color": "#4D5663"
         }
        },
        "paper_bgcolor": "#F5F6F9",
        "plot_bgcolor": "#F5F6F9",
        "template": {
         "data": {
          "bar": [
           {
            "error_x": {
             "color": "#2a3f5f"
            },
            "error_y": {
             "color": "#2a3f5f"
            },
            "marker": {
             "line": {
              "color": "#E5ECF6",
              "width": 0.5
             }
            },
            "type": "bar"
           }
          ],
          "barpolar": [
           {
            "marker": {
             "line": {
              "color": "#E5ECF6",
              "width": 0.5
             }
            },
            "type": "barpolar"
           }
          ],
          "carpet": [
           {
            "aaxis": {
             "endlinecolor": "#2a3f5f",
             "gridcolor": "white",
             "linecolor": "white",
             "minorgridcolor": "white",
             "startlinecolor": "#2a3f5f"
            },
            "baxis": {
             "endlinecolor": "#2a3f5f",
             "gridcolor": "white",
             "linecolor": "white",
             "minorgridcolor": "white",
             "startlinecolor": "#2a3f5f"
            },
            "type": "carpet"
           }
          ],
          "choropleth": [
           {
            "colorbar": {
             "outlinewidth": 0,
             "ticks": ""
            },
            "type": "choropleth"
           }
          ],
          "contour": [
           {
            "colorbar": {
             "outlinewidth": 0,
             "ticks": ""
            },
            "colorscale": [
             [
              0,
              "#0d0887"
             ],
             [
              0.1111111111111111,
              "#46039f"
             ],
             [
              0.2222222222222222,
              "#7201a8"
             ],
             [
              0.3333333333333333,
              "#9c179e"
             ],
             [
              0.4444444444444444,
              "#bd3786"
             ],
             [
              0.5555555555555556,
              "#d8576b"
             ],
             [
              0.6666666666666666,
              "#ed7953"
             ],
             [
              0.7777777777777778,
              "#fb9f3a"
             ],
             [
              0.8888888888888888,
              "#fdca26"
             ],
             [
              1,
              "#f0f921"
             ]
            ],
            "type": "contour"
           }
          ],
          "contourcarpet": [
           {
            "colorbar": {
             "outlinewidth": 0,
             "ticks": ""
            },
            "type": "contourcarpet"
           }
          ],
          "heatmap": [
           {
            "colorbar": {
             "outlinewidth": 0,
             "ticks": ""
            },
            "colorscale": [
             [
              0,
              "#0d0887"
             ],
             [
              0.1111111111111111,
              "#46039f"
             ],
             [
              0.2222222222222222,
              "#7201a8"
             ],
             [
              0.3333333333333333,
              "#9c179e"
             ],
             [
              0.4444444444444444,
              "#bd3786"
             ],
             [
              0.5555555555555556,
              "#d8576b"
             ],
             [
              0.6666666666666666,
              "#ed7953"
             ],
             [
              0.7777777777777778,
              "#fb9f3a"
             ],
             [
              0.8888888888888888,
              "#fdca26"
             ],
             [
              1,
              "#f0f921"
             ]
            ],
            "type": "heatmap"
           }
          ],
          "heatmapgl": [
           {
            "colorbar": {
             "outlinewidth": 0,
             "ticks": ""
            },
            "colorscale": [
             [
              0,
              "#0d0887"
             ],
             [
              0.1111111111111111,
              "#46039f"
             ],
             [
              0.2222222222222222,
              "#7201a8"
             ],
             [
              0.3333333333333333,
              "#9c179e"
             ],
             [
              0.4444444444444444,
              "#bd3786"
             ],
             [
              0.5555555555555556,
              "#d8576b"
             ],
             [
              0.6666666666666666,
              "#ed7953"
             ],
             [
              0.7777777777777778,
              "#fb9f3a"
             ],
             [
              0.8888888888888888,
              "#fdca26"
             ],
             [
              1,
              "#f0f921"
             ]
            ],
            "type": "heatmapgl"
           }
          ],
          "histogram": [
           {
            "marker": {
             "colorbar": {
              "outlinewidth": 0,
              "ticks": ""
             }
            },
            "type": "histogram"
           }
          ],
          "histogram2d": [
           {
            "colorbar": {
             "outlinewidth": 0,
             "ticks": ""
            },
            "colorscale": [
             [
              0,
              "#0d0887"
             ],
             [
              0.1111111111111111,
              "#46039f"
             ],
             [
              0.2222222222222222,
              "#7201a8"
             ],
             [
              0.3333333333333333,
              "#9c179e"
             ],
             [
              0.4444444444444444,
              "#bd3786"
             ],
             [
              0.5555555555555556,
              "#d8576b"
             ],
             [
              0.6666666666666666,
              "#ed7953"
             ],
             [
              0.7777777777777778,
              "#fb9f3a"
             ],
             [
              0.8888888888888888,
              "#fdca26"
             ],
             [
              1,
              "#f0f921"
             ]
            ],
            "type": "histogram2d"
           }
          ],
          "histogram2dcontour": [
           {
            "colorbar": {
             "outlinewidth": 0,
             "ticks": ""
            },
            "colorscale": [
             [
              0,
              "#0d0887"
             ],
             [
              0.1111111111111111,
              "#46039f"
             ],
             [
              0.2222222222222222,
              "#7201a8"
             ],
             [
              0.3333333333333333,
              "#9c179e"
             ],
             [
              0.4444444444444444,
              "#bd3786"
             ],
             [
              0.5555555555555556,
              "#d8576b"
             ],
             [
              0.6666666666666666,
              "#ed7953"
             ],
             [
              0.7777777777777778,
              "#fb9f3a"
             ],
             [
              0.8888888888888888,
              "#fdca26"
             ],
             [
              1,
              "#f0f921"
             ]
            ],
            "type": "histogram2dcontour"
           }
          ],
          "mesh3d": [
           {
            "colorbar": {
             "outlinewidth": 0,
             "ticks": ""
            },
            "type": "mesh3d"
           }
          ],
          "parcoords": [
           {
            "line": {
             "colorbar": {
              "outlinewidth": 0,
              "ticks": ""
             }
            },
            "type": "parcoords"
           }
          ],
          "pie": [
           {
            "automargin": true,
            "type": "pie"
           }
          ],
          "scatter": [
           {
            "marker": {
             "colorbar": {
              "outlinewidth": 0,
              "ticks": ""
             }
            },
            "type": "scatter"
           }
          ],
          "scatter3d": [
           {
            "line": {
             "colorbar": {
              "outlinewidth": 0,
              "ticks": ""
             }
            },
            "marker": {
             "colorbar": {
              "outlinewidth": 0,
              "ticks": ""
             }
            },
            "type": "scatter3d"
           }
          ],
          "scattercarpet": [
           {
            "marker": {
             "colorbar": {
              "outlinewidth": 0,
              "ticks": ""
             }
            },
            "type": "scattercarpet"
           }
          ],
          "scattergeo": [
           {
            "marker": {
             "colorbar": {
              "outlinewidth": 0,
              "ticks": ""
             }
            },
            "type": "scattergeo"
           }
          ],
          "scattergl": [
           {
            "marker": {
             "colorbar": {
              "outlinewidth": 0,
              "ticks": ""
             }
            },
            "type": "scattergl"
           }
          ],
          "scattermapbox": [
           {
            "marker": {
             "colorbar": {
              "outlinewidth": 0,
              "ticks": ""
             }
            },
            "type": "scattermapbox"
           }
          ],
          "scatterpolar": [
           {
            "marker": {
             "colorbar": {
              "outlinewidth": 0,
              "ticks": ""
             }
            },
            "type": "scatterpolar"
           }
          ],
          "scatterpolargl": [
           {
            "marker": {
             "colorbar": {
              "outlinewidth": 0,
              "ticks": ""
             }
            },
            "type": "scatterpolargl"
           }
          ],
          "scatterternary": [
           {
            "marker": {
             "colorbar": {
              "outlinewidth": 0,
              "ticks": ""
             }
            },
            "type": "scatterternary"
           }
          ],
          "surface": [
           {
            "colorbar": {
             "outlinewidth": 0,
             "ticks": ""
            },
            "colorscale": [
             [
              0,
              "#0d0887"
             ],
             [
              0.1111111111111111,
              "#46039f"
             ],
             [
              0.2222222222222222,
              "#7201a8"
             ],
             [
              0.3333333333333333,
              "#9c179e"
             ],
             [
              0.4444444444444444,
              "#bd3786"
             ],
             [
              0.5555555555555556,
              "#d8576b"
             ],
             [
              0.6666666666666666,
              "#ed7953"
             ],
             [
              0.7777777777777778,
              "#fb9f3a"
             ],
             [
              0.8888888888888888,
              "#fdca26"
             ],
             [
              1,
              "#f0f921"
             ]
            ],
            "type": "surface"
           }
          ],
          "table": [
           {
            "cells": {
             "fill": {
              "color": "#EBF0F8"
             },
             "line": {
              "color": "white"
             }
            },
            "header": {
             "fill": {
              "color": "#C8D4E3"
             },
             "line": {
              "color": "white"
             }
            },
            "type": "table"
           }
          ]
         },
         "layout": {
          "annotationdefaults": {
           "arrowcolor": "#2a3f5f",
           "arrowhead": 0,
           "arrowwidth": 1
          },
          "coloraxis": {
           "colorbar": {
            "outlinewidth": 0,
            "ticks": ""
           }
          },
          "colorscale": {
           "diverging": [
            [
             0,
             "#8e0152"
            ],
            [
             0.1,
             "#c51b7d"
            ],
            [
             0.2,
             "#de77ae"
            ],
            [
             0.3,
             "#f1b6da"
            ],
            [
             0.4,
             "#fde0ef"
            ],
            [
             0.5,
             "#f7f7f7"
            ],
            [
             0.6,
             "#e6f5d0"
            ],
            [
             0.7,
             "#b8e186"
            ],
            [
             0.8,
             "#7fbc41"
            ],
            [
             0.9,
             "#4d9221"
            ],
            [
             1,
             "#276419"
            ]
           ],
           "sequential": [
            [
             0,
             "#0d0887"
            ],
            [
             0.1111111111111111,
             "#46039f"
            ],
            [
             0.2222222222222222,
             "#7201a8"
            ],
            [
             0.3333333333333333,
             "#9c179e"
            ],
            [
             0.4444444444444444,
             "#bd3786"
            ],
            [
             0.5555555555555556,
             "#d8576b"
            ],
            [
             0.6666666666666666,
             "#ed7953"
            ],
            [
             0.7777777777777778,
             "#fb9f3a"
            ],
            [
             0.8888888888888888,
             "#fdca26"
            ],
            [
             1,
             "#f0f921"
            ]
           ],
           "sequentialminus": [
            [
             0,
             "#0d0887"
            ],
            [
             0.1111111111111111,
             "#46039f"
            ],
            [
             0.2222222222222222,
             "#7201a8"
            ],
            [
             0.3333333333333333,
             "#9c179e"
            ],
            [
             0.4444444444444444,
             "#bd3786"
            ],
            [
             0.5555555555555556,
             "#d8576b"
            ],
            [
             0.6666666666666666,
             "#ed7953"
            ],
            [
             0.7777777777777778,
             "#fb9f3a"
            ],
            [
             0.8888888888888888,
             "#fdca26"
            ],
            [
             1,
             "#f0f921"
            ]
           ]
          },
          "colorway": [
           "#636efa",
           "#EF553B",
           "#00cc96",
           "#ab63fa",
           "#FFA15A",
           "#19d3f3",
           "#FF6692",
           "#B6E880",
           "#FF97FF",
           "#FECB52"
          ],
          "font": {
           "color": "#2a3f5f"
          },
          "geo": {
           "bgcolor": "white",
           "lakecolor": "white",
           "landcolor": "#E5ECF6",
           "showlakes": true,
           "showland": true,
           "subunitcolor": "white"
          },
          "hoverlabel": {
           "align": "left"
          },
          "hovermode": "closest",
          "mapbox": {
           "style": "light"
          },
          "paper_bgcolor": "white",
          "plot_bgcolor": "#E5ECF6",
          "polar": {
           "angularaxis": {
            "gridcolor": "white",
            "linecolor": "white",
            "ticks": ""
           },
           "bgcolor": "#E5ECF6",
           "radialaxis": {
            "gridcolor": "white",
            "linecolor": "white",
            "ticks": ""
           }
          },
          "scene": {
           "xaxis": {
            "backgroundcolor": "#E5ECF6",
            "gridcolor": "white",
            "gridwidth": 2,
            "linecolor": "white",
            "showbackground": true,
            "ticks": "",
            "zerolinecolor": "white"
           },
           "yaxis": {
            "backgroundcolor": "#E5ECF6",
            "gridcolor": "white",
            "gridwidth": 2,
            "linecolor": "white",
            "showbackground": true,
            "ticks": "",
            "zerolinecolor": "white"
           },
           "zaxis": {
            "backgroundcolor": "#E5ECF6",
            "gridcolor": "white",
            "gridwidth": 2,
            "linecolor": "white",
            "showbackground": true,
            "ticks": "",
            "zerolinecolor": "white"
           }
          },
          "shapedefaults": {
           "line": {
            "color": "#2a3f5f"
           }
          },
          "ternary": {
           "aaxis": {
            "gridcolor": "white",
            "linecolor": "white",
            "ticks": ""
           },
           "baxis": {
            "gridcolor": "white",
            "linecolor": "white",
            "ticks": ""
           },
           "bgcolor": "#E5ECF6",
           "caxis": {
            "gridcolor": "white",
            "linecolor": "white",
            "ticks": ""
           }
          },
          "title": {
           "x": 0.05
          },
          "xaxis": {
           "automargin": true,
           "gridcolor": "white",
           "linecolor": "white",
           "ticks": "",
           "title": {
            "standoff": 15
           },
           "zerolinecolor": "white",
           "zerolinewidth": 2
          },
          "yaxis": {
           "automargin": true,
           "gridcolor": "white",
           "linecolor": "white",
           "ticks": "",
           "title": {
            "standoff": 15
           },
           "zerolinecolor": "white",
           "zerolinewidth": 2
          }
         }
        },
        "title": {
         "font": {
          "color": "#4D5663"
         }
        },
        "xaxis": {
         "gridcolor": "#E1E5ED",
         "showgrid": true,
         "tickfont": {
          "color": "#4D5663"
         },
         "title": {
          "font": {
           "color": "#4D5663"
          },
          "text": ""
         },
         "zerolinecolor": "#E1E5ED"
        },
        "yaxis": {
         "gridcolor": "#E1E5ED",
         "showgrid": true,
         "tickfont": {
          "color": "#4D5663"
         },
         "title": {
          "font": {
           "color": "#4D5663"
          },
          "text": ""
         },
         "zerolinecolor": "#E1E5ED"
        }
       }
      },
      "text/html": [
       "<div>\n",
       "        \n",
       "        \n",
       "            <div id=\"ed578062-cbd2-4495-b581-e323f9e49fa8\" class=\"plotly-graph-div\" style=\"height:525px; width:100%;\"></div>\n",
       "            <script type=\"text/javascript\">\n",
       "                require([\"plotly\"], function(Plotly) {\n",
       "                    window.PLOTLYENV=window.PLOTLYENV || {};\n",
       "                    window.PLOTLYENV.BASE_URL='https://plot.ly';\n",
       "                    \n",
       "                if (document.getElementById(\"ed578062-cbd2-4495-b581-e323f9e49fa8\")) {\n",
       "                    Plotly.newPlot(\n",
       "                        'ed578062-cbd2-4495-b581-e323f9e49fa8',\n",
       "                        [{\"histfunc\": \"count\", \"histnorm\": \"\", \"marker\": {\"color\": \"rgba(255, 153, 51, 1.0)\", \"line\": {\"color\": \"#4D5663\", \"width\": 1.3}}, \"name\": \"A\", \"opacity\": 0.8, \"orientation\": \"v\", \"type\": \"histogram\", \"x\": [-0.3528362464153668, -0.284490578588392, 2.203326375137168, 1.1914906229339413, -0.5643907599811814, 2.7798718153014357, 1.1392230478947218, -0.3969084492198873, -0.8431354506721372, -1.2113706937321673, -1.1232328854452367, 0.4518665654795515, 0.15108658835894914, -1.7197708096350655, -0.07078563077906978, -0.980891266191066, -2.0065915820068994, 0.04405074044947059, -0.1816391125056839, 0.7598049797859753, -1.096012407090366, -1.4973956161707278, -2.2293808754538005, -0.15494190096890462, -0.8404676595449304, -1.5864444840611043, -1.271828143859151, 0.233536485699503, 0.32955043668175693, 1.1595295612279588, -0.5278554404367857, -0.16303045205008881, -1.7674739515583324, 0.33892658874933296, 0.19685617323938542, 0.33023853338745474, 0.03730643652616613, 0.32496894629056994, 0.23244779523287074, -0.01842197648227652, -1.1672830340101563, -0.40440266128609065, 2.07759282848088, 0.14020699314040225, 0.11670666187449041, -1.3759216802724983, 2.3270704249878746, 0.3972406311737788, 0.17442023752997537, -0.2800525759529055, 0.4506210148099999, 2.6202326404140677, 1.0653150560571336, 1.7095140209602646, 0.7990198343521421, -0.8281912607199876, -0.806280334150687, 1.6979095908090678, -0.8672712204039527, 1.1005741543620384, -0.6546095261109552, 0.9048167986183359, -0.7100506115690377, 0.648084430407177, 0.9447881732500704, -0.4713552039565896, 0.21402616654041448, -0.935151045365892, 1.2150495379117552, -0.43140919672950967, -1.1891048756132958, 0.9847206464209383, 0.40945681494002684, -0.8066269723088334, -0.6687296314674605, -1.0238807147882825, -0.2700469623402802, 0.5690651238713944, 0.6865219970682781, 0.6483901625701793, 1.2905559982270822, 0.8178639588042602, 1.1575135611917569, -2.0984711888019745, -1.7762476161655396, -0.6748575307003194, -0.21849196898810175, -0.5753702112145309, -0.3920858562314582, 0.6970390930379042, -1.4429250467452353, -0.3166115618643759, -0.3519621812877541, -0.4525464016079805, 0.5423829440734289, -0.36691990004214553, -0.7611303390249726, 2.0511135768496143, -0.9598352743683791, -0.37398827024180453]}],\n",
       "                        {\"barmode\": \"overlay\", \"legend\": {\"bgcolor\": \"#F5F6F9\", \"font\": {\"color\": \"#4D5663\"}}, \"paper_bgcolor\": \"#F5F6F9\", \"plot_bgcolor\": \"#F5F6F9\", \"template\": {\"data\": {\"bar\": [{\"error_x\": {\"color\": \"#2a3f5f\"}, \"error_y\": {\"color\": \"#2a3f5f\"}, \"marker\": {\"line\": {\"color\": \"#E5ECF6\", \"width\": 0.5}}, \"type\": \"bar\"}], \"barpolar\": [{\"marker\": {\"line\": {\"color\": \"#E5ECF6\", \"width\": 0.5}}, \"type\": \"barpolar\"}], \"carpet\": [{\"aaxis\": {\"endlinecolor\": \"#2a3f5f\", \"gridcolor\": \"white\", \"linecolor\": \"white\", \"minorgridcolor\": \"white\", \"startlinecolor\": \"#2a3f5f\"}, \"baxis\": {\"endlinecolor\": \"#2a3f5f\", \"gridcolor\": \"white\", \"linecolor\": \"white\", \"minorgridcolor\": \"white\", \"startlinecolor\": \"#2a3f5f\"}, \"type\": \"carpet\"}], \"choropleth\": [{\"colorbar\": {\"outlinewidth\": 0, \"ticks\": \"\"}, \"type\": \"choropleth\"}], \"contour\": [{\"colorbar\": {\"outlinewidth\": 0, \"ticks\": \"\"}, \"colorscale\": [[0.0, \"#0d0887\"], [0.1111111111111111, \"#46039f\"], [0.2222222222222222, \"#7201a8\"], [0.3333333333333333, \"#9c179e\"], [0.4444444444444444, \"#bd3786\"], [0.5555555555555556, \"#d8576b\"], [0.6666666666666666, \"#ed7953\"], [0.7777777777777778, \"#fb9f3a\"], [0.8888888888888888, \"#fdca26\"], [1.0, \"#f0f921\"]], \"type\": \"contour\"}], \"contourcarpet\": [{\"colorbar\": {\"outlinewidth\": 0, \"ticks\": \"\"}, \"type\": \"contourcarpet\"}], \"heatmap\": [{\"colorbar\": {\"outlinewidth\": 0, \"ticks\": \"\"}, \"colorscale\": [[0.0, \"#0d0887\"], [0.1111111111111111, \"#46039f\"], [0.2222222222222222, \"#7201a8\"], [0.3333333333333333, \"#9c179e\"], [0.4444444444444444, \"#bd3786\"], [0.5555555555555556, \"#d8576b\"], [0.6666666666666666, \"#ed7953\"], [0.7777777777777778, \"#fb9f3a\"], [0.8888888888888888, \"#fdca26\"], [1.0, \"#f0f921\"]], \"type\": \"heatmap\"}], \"heatmapgl\": [{\"colorbar\": {\"outlinewidth\": 0, \"ticks\": \"\"}, \"colorscale\": [[0.0, \"#0d0887\"], [0.1111111111111111, \"#46039f\"], [0.2222222222222222, \"#7201a8\"], [0.3333333333333333, \"#9c179e\"], [0.4444444444444444, \"#bd3786\"], [0.5555555555555556, \"#d8576b\"], [0.6666666666666666, \"#ed7953\"], [0.7777777777777778, \"#fb9f3a\"], [0.8888888888888888, \"#fdca26\"], [1.0, \"#f0f921\"]], \"type\": \"heatmapgl\"}], \"histogram\": [{\"marker\": {\"colorbar\": {\"outlinewidth\": 0, \"ticks\": \"\"}}, \"type\": \"histogram\"}], \"histogram2d\": [{\"colorbar\": {\"outlinewidth\": 0, \"ticks\": \"\"}, \"colorscale\": [[0.0, \"#0d0887\"], [0.1111111111111111, \"#46039f\"], [0.2222222222222222, \"#7201a8\"], [0.3333333333333333, \"#9c179e\"], [0.4444444444444444, \"#bd3786\"], [0.5555555555555556, \"#d8576b\"], [0.6666666666666666, \"#ed7953\"], [0.7777777777777778, \"#fb9f3a\"], [0.8888888888888888, \"#fdca26\"], [1.0, \"#f0f921\"]], \"type\": \"histogram2d\"}], \"histogram2dcontour\": [{\"colorbar\": {\"outlinewidth\": 0, \"ticks\": \"\"}, \"colorscale\": [[0.0, \"#0d0887\"], [0.1111111111111111, \"#46039f\"], [0.2222222222222222, \"#7201a8\"], [0.3333333333333333, \"#9c179e\"], [0.4444444444444444, \"#bd3786\"], [0.5555555555555556, \"#d8576b\"], [0.6666666666666666, \"#ed7953\"], [0.7777777777777778, \"#fb9f3a\"], [0.8888888888888888, \"#fdca26\"], [1.0, \"#f0f921\"]], \"type\": \"histogram2dcontour\"}], \"mesh3d\": [{\"colorbar\": {\"outlinewidth\": 0, \"ticks\": \"\"}, \"type\": \"mesh3d\"}], \"parcoords\": [{\"line\": {\"colorbar\": {\"outlinewidth\": 0, \"ticks\": \"\"}}, \"type\": \"parcoords\"}], \"pie\": [{\"automargin\": true, \"type\": \"pie\"}], \"scatter\": [{\"marker\": {\"colorbar\": {\"outlinewidth\": 0, \"ticks\": \"\"}}, \"type\": \"scatter\"}], \"scatter3d\": [{\"line\": {\"colorbar\": {\"outlinewidth\": 0, \"ticks\": \"\"}}, \"marker\": {\"colorbar\": {\"outlinewidth\": 0, \"ticks\": \"\"}}, \"type\": \"scatter3d\"}], \"scattercarpet\": [{\"marker\": {\"colorbar\": {\"outlinewidth\": 0, \"ticks\": \"\"}}, \"type\": \"scattercarpet\"}], \"scattergeo\": [{\"marker\": {\"colorbar\": {\"outlinewidth\": 0, \"ticks\": \"\"}}, \"type\": \"scattergeo\"}], \"scattergl\": [{\"marker\": {\"colorbar\": {\"outlinewidth\": 0, \"ticks\": \"\"}}, \"type\": \"scattergl\"}], \"scattermapbox\": [{\"marker\": {\"colorbar\": {\"outlinewidth\": 0, \"ticks\": \"\"}}, \"type\": \"scattermapbox\"}], \"scatterpolar\": [{\"marker\": {\"colorbar\": {\"outlinewidth\": 0, \"ticks\": \"\"}}, \"type\": \"scatterpolar\"}], \"scatterpolargl\": [{\"marker\": {\"colorbar\": {\"outlinewidth\": 0, \"ticks\": \"\"}}, \"type\": \"scatterpolargl\"}], \"scatterternary\": [{\"marker\": {\"colorbar\": {\"outlinewidth\": 0, \"ticks\": \"\"}}, \"type\": \"scatterternary\"}], \"surface\": [{\"colorbar\": {\"outlinewidth\": 0, \"ticks\": \"\"}, \"colorscale\": [[0.0, \"#0d0887\"], [0.1111111111111111, \"#46039f\"], [0.2222222222222222, \"#7201a8\"], [0.3333333333333333, \"#9c179e\"], [0.4444444444444444, \"#bd3786\"], [0.5555555555555556, \"#d8576b\"], [0.6666666666666666, \"#ed7953\"], [0.7777777777777778, \"#fb9f3a\"], [0.8888888888888888, \"#fdca26\"], [1.0, \"#f0f921\"]], \"type\": \"surface\"}], \"table\": [{\"cells\": {\"fill\": {\"color\": \"#EBF0F8\"}, \"line\": {\"color\": \"white\"}}, \"header\": {\"fill\": {\"color\": \"#C8D4E3\"}, \"line\": {\"color\": \"white\"}}, \"type\": \"table\"}]}, \"layout\": {\"annotationdefaults\": {\"arrowcolor\": \"#2a3f5f\", \"arrowhead\": 0, \"arrowwidth\": 1}, \"coloraxis\": {\"colorbar\": {\"outlinewidth\": 0, \"ticks\": \"\"}}, \"colorscale\": {\"diverging\": [[0, \"#8e0152\"], [0.1, \"#c51b7d\"], [0.2, \"#de77ae\"], [0.3, \"#f1b6da\"], [0.4, \"#fde0ef\"], [0.5, \"#f7f7f7\"], [0.6, \"#e6f5d0\"], [0.7, \"#b8e186\"], [0.8, \"#7fbc41\"], [0.9, \"#4d9221\"], [1, \"#276419\"]], \"sequential\": [[0.0, \"#0d0887\"], [0.1111111111111111, \"#46039f\"], [0.2222222222222222, \"#7201a8\"], [0.3333333333333333, \"#9c179e\"], [0.4444444444444444, \"#bd3786\"], [0.5555555555555556, \"#d8576b\"], [0.6666666666666666, \"#ed7953\"], [0.7777777777777778, \"#fb9f3a\"], [0.8888888888888888, \"#fdca26\"], [1.0, \"#f0f921\"]], \"sequentialminus\": [[0.0, \"#0d0887\"], [0.1111111111111111, \"#46039f\"], [0.2222222222222222, \"#7201a8\"], [0.3333333333333333, \"#9c179e\"], [0.4444444444444444, \"#bd3786\"], [0.5555555555555556, \"#d8576b\"], [0.6666666666666666, \"#ed7953\"], [0.7777777777777778, \"#fb9f3a\"], [0.8888888888888888, \"#fdca26\"], [1.0, \"#f0f921\"]]}, \"colorway\": [\"#636efa\", \"#EF553B\", \"#00cc96\", \"#ab63fa\", \"#FFA15A\", \"#19d3f3\", \"#FF6692\", \"#B6E880\", \"#FF97FF\", \"#FECB52\"], \"font\": {\"color\": \"#2a3f5f\"}, \"geo\": {\"bgcolor\": \"white\", \"lakecolor\": \"white\", \"landcolor\": \"#E5ECF6\", \"showlakes\": true, \"showland\": true, \"subunitcolor\": \"white\"}, \"hoverlabel\": {\"align\": \"left\"}, \"hovermode\": \"closest\", \"mapbox\": {\"style\": \"light\"}, \"paper_bgcolor\": \"white\", \"plot_bgcolor\": \"#E5ECF6\", \"polar\": {\"angularaxis\": {\"gridcolor\": \"white\", \"linecolor\": \"white\", \"ticks\": \"\"}, \"bgcolor\": \"#E5ECF6\", \"radialaxis\": {\"gridcolor\": \"white\", \"linecolor\": \"white\", \"ticks\": \"\"}}, \"scene\": {\"xaxis\": {\"backgroundcolor\": \"#E5ECF6\", \"gridcolor\": \"white\", \"gridwidth\": 2, \"linecolor\": \"white\", \"showbackground\": true, \"ticks\": \"\", \"zerolinecolor\": \"white\"}, \"yaxis\": {\"backgroundcolor\": \"#E5ECF6\", \"gridcolor\": \"white\", \"gridwidth\": 2, \"linecolor\": \"white\", \"showbackground\": true, \"ticks\": \"\", \"zerolinecolor\": \"white\"}, \"zaxis\": {\"backgroundcolor\": \"#E5ECF6\", \"gridcolor\": \"white\", \"gridwidth\": 2, \"linecolor\": \"white\", \"showbackground\": true, \"ticks\": \"\", \"zerolinecolor\": \"white\"}}, \"shapedefaults\": {\"line\": {\"color\": \"#2a3f5f\"}}, \"ternary\": {\"aaxis\": {\"gridcolor\": \"white\", \"linecolor\": \"white\", \"ticks\": \"\"}, \"baxis\": {\"gridcolor\": \"white\", \"linecolor\": \"white\", \"ticks\": \"\"}, \"bgcolor\": \"#E5ECF6\", \"caxis\": {\"gridcolor\": \"white\", \"linecolor\": \"white\", \"ticks\": \"\"}}, \"title\": {\"x\": 0.05}, \"xaxis\": {\"automargin\": true, \"gridcolor\": \"white\", \"linecolor\": \"white\", \"ticks\": \"\", \"title\": {\"standoff\": 15}, \"zerolinecolor\": \"white\", \"zerolinewidth\": 2}, \"yaxis\": {\"automargin\": true, \"gridcolor\": \"white\", \"linecolor\": \"white\", \"ticks\": \"\", \"title\": {\"standoff\": 15}, \"zerolinecolor\": \"white\", \"zerolinewidth\": 2}}}, \"title\": {\"font\": {\"color\": \"#4D5663\"}}, \"xaxis\": {\"gridcolor\": \"#E1E5ED\", \"showgrid\": true, \"tickfont\": {\"color\": \"#4D5663\"}, \"title\": {\"font\": {\"color\": \"#4D5663\"}, \"text\": \"\"}, \"zerolinecolor\": \"#E1E5ED\"}, \"yaxis\": {\"gridcolor\": \"#E1E5ED\", \"showgrid\": true, \"tickfont\": {\"color\": \"#4D5663\"}, \"title\": {\"font\": {\"color\": \"#4D5663\"}, \"text\": \"\"}, \"zerolinecolor\": \"#E1E5ED\"}},\n",
       "                        {\"showLink\": true, \"linkText\": \"Export to plot.ly\", \"plotlyServerURL\": \"https://plot.ly\", \"responsive\": true}\n",
       "                    ).then(function(){\n",
       "                            \n",
       "var gd = document.getElementById('ed578062-cbd2-4495-b581-e323f9e49fa8');\n",
       "var x = new MutationObserver(function (mutations, observer) {{\n",
       "        var display = window.getComputedStyle(gd).display;\n",
       "        if (!display || display === 'none') {{\n",
       "            console.log([gd, 'removed!']);\n",
       "            Plotly.purge(gd);\n",
       "            observer.disconnect();\n",
       "        }}\n",
       "}});\n",
       "\n",
       "// Listen for the removal of the full notebook cells\n",
       "var notebookContainer = gd.closest('#notebook-container');\n",
       "if (notebookContainer) {{\n",
       "    x.observe(notebookContainer, {childList: true});\n",
       "}}\n",
       "\n",
       "// Listen for the clearing of the current output cell\n",
       "var outputEl = gd.closest('.output');\n",
       "if (outputEl) {{\n",
       "    x.observe(outputEl, {childList: true});\n",
       "}}\n",
       "\n",
       "                        })\n",
       "                };\n",
       "                });\n",
       "            </script>\n",
       "        </div>"
      ]
     },
     "metadata": {},
     "output_type": "display_data"
    }
   ],
   "source": [
    "df['A'].iplot(kind='hist')"
   ]
  },
  {
   "cell_type": "code",
   "execution_count": 27,
   "metadata": {},
   "outputs": [
    {
     "data": {
      "application/vnd.plotly.v1+json": {
       "config": {
        "linkText": "Export to plot.ly",
        "plotlyServerURL": "https://plot.ly",
        "showLink": true
       },
       "data": [
        {
         "histfunc": "count",
         "histnorm": "",
         "marker": {
          "color": "rgba(255, 153, 51, 1.0)",
          "line": {
           "color": "#4D5663",
           "width": 1.3
          }
         },
         "name": "A",
         "opacity": 0.8,
         "orientation": "v",
         "type": "histogram",
         "x": [
          -0.3528362464153668,
          -0.284490578588392,
          2.203326375137168,
          1.1914906229339413,
          -0.5643907599811814,
          2.7798718153014357,
          1.1392230478947218,
          -0.3969084492198873,
          -0.8431354506721372,
          -1.2113706937321673,
          -1.1232328854452367,
          0.4518665654795515,
          0.15108658835894914,
          -1.7197708096350655,
          -0.07078563077906978,
          -0.980891266191066,
          -2.0065915820068994,
          0.04405074044947059,
          -0.1816391125056839,
          0.7598049797859753,
          -1.096012407090366,
          -1.4973956161707278,
          -2.2293808754538005,
          -0.15494190096890462,
          -0.8404676595449304,
          -1.5864444840611043,
          -1.271828143859151,
          0.233536485699503,
          0.32955043668175693,
          1.1595295612279588,
          -0.5278554404367857,
          -0.16303045205008881,
          -1.7674739515583324,
          0.33892658874933296,
          0.19685617323938542,
          0.33023853338745474,
          0.03730643652616613,
          0.32496894629056994,
          0.23244779523287074,
          -0.01842197648227652,
          -1.1672830340101563,
          -0.40440266128609065,
          2.07759282848088,
          0.14020699314040225,
          0.11670666187449041,
          -1.3759216802724983,
          2.3270704249878746,
          0.3972406311737788,
          0.17442023752997537,
          -0.2800525759529055,
          0.4506210148099999,
          2.6202326404140677,
          1.0653150560571336,
          1.7095140209602646,
          0.7990198343521421,
          -0.8281912607199876,
          -0.806280334150687,
          1.6979095908090678,
          -0.8672712204039527,
          1.1005741543620384,
          -0.6546095261109552,
          0.9048167986183359,
          -0.7100506115690377,
          0.648084430407177,
          0.9447881732500704,
          -0.4713552039565896,
          0.21402616654041448,
          -0.935151045365892,
          1.2150495379117552,
          -0.43140919672950967,
          -1.1891048756132958,
          0.9847206464209383,
          0.40945681494002684,
          -0.8066269723088334,
          -0.6687296314674605,
          -1.0238807147882825,
          -0.2700469623402802,
          0.5690651238713944,
          0.6865219970682781,
          0.6483901625701793,
          1.2905559982270822,
          0.8178639588042602,
          1.1575135611917569,
          -2.0984711888019745,
          -1.7762476161655396,
          -0.6748575307003194,
          -0.21849196898810175,
          -0.5753702112145309,
          -0.3920858562314582,
          0.6970390930379042,
          -1.4429250467452353,
          -0.3166115618643759,
          -0.3519621812877541,
          -0.4525464016079805,
          0.5423829440734289,
          -0.36691990004214553,
          -0.7611303390249726,
          2.0511135768496143,
          -0.9598352743683791,
          -0.37398827024180453
         ]
        },
        {
         "histfunc": "count",
         "histnorm": "",
         "marker": {
          "color": "rgba(55, 128, 191, 1.0)",
          "line": {
           "color": "#4D5663",
           "width": 1.3
          }
         },
         "name": "B",
         "opacity": 0.8,
         "orientation": "v",
         "type": "histogram",
         "x": [
          -1.5145455118176767,
          -0.01367326820150052,
          -0.7829236033971367,
          2.1758105864782173,
          0.014005493606606743,
          -0.408817628815818,
          -1.9692976906687827,
          0.7934251922172569,
          -0.10928246963521912,
          -1.8675911342151044,
          -0.291350381007704,
          -0.2861757143497499,
          0.45182196198038505,
          -1.3540852014076956,
          0.11849633147728272,
          -1.4831515290012542,
          -0.15594664619415652,
          0.8218005891800004,
          -1.3196893908390053,
          0.9516245220412897,
          1.0245182381659395,
          -0.9086606060000463,
          0.3667342867629603,
          2.1748246081996387,
          -1.4412403414461203,
          1.3547356288206962,
          0.07448038483912717,
          -2.0463557158127803,
          -0.2466438968154346,
          0.7427704569505088,
          0.7393827811394357,
          0.3470737898934057,
          -0.21339715374304669,
          -0.29843604210654695,
          -0.26984569594619834,
          -0.7380914719749732,
          0.085445841445681,
          -0.03377606407086046,
          -0.20658488335554978,
          -0.2320627365179663,
          0.6895012608888704,
          -1.9625798027603658,
          -1.3809616631815926,
          1.270026636907869,
          -1.1676750826700475,
          0.6835442102993022,
          -0.10819067203435048,
          -0.38848646939043074,
          -1.3146096093947917,
          1.2343026179645644,
          -1.1578924940873192,
          0.9311809476907813,
          -0.9408852209315937,
          0.2777851236373851,
          -0.2792794125675632,
          0.5699172325515569,
          1.1815215185447847,
          -0.4101575978585351,
          -1.3520086334848345,
          -0.2206896804793058,
          -0.635846746095747,
          -2.2801475925723,
          -0.13273463837665134,
          -1.4357460149388654,
          -2.0947528958618142,
          -1.4043908765273556,
          1.235437712356553,
          -0.2961297710843259,
          0.712446862050636,
          -0.5733163055127384,
          0.8724480526635303,
          0.34296687693318517,
          -1.8772458375662273,
          0.04838875314046682,
          1.1439410329456652,
          -1.4074872363653521,
          -0.41353126423716985,
          -1.2891804111532066,
          -0.8016211831893039,
          -1.1778852829324677,
          0.8601306959837082,
          -0.7846632368352668,
          0.8951888056616729,
          -0.1209386568012941,
          0.3507332670458818,
          0.40839273692365535,
          1.3923988082070355,
          0.5898704076273781,
          1.4937796385060818,
          0.9554951083022206,
          -0.12453902532811652,
          -1.280101497255287,
          -0.8670228686188641,
          -0.6542483247746392,
          -0.27107332066291734,
          1.7482116014051732,
          1.6179167104189263,
          -0.627179728211577,
          0.7520281731249727,
          -0.5689711239929849
         ]
        },
        {
         "histfunc": "count",
         "histnorm": "",
         "marker": {
          "color": "rgba(50, 171, 96, 1.0)",
          "line": {
           "color": "#4D5663",
           "width": 1.3
          }
         },
         "name": "C",
         "opacity": 0.8,
         "orientation": "v",
         "type": "histogram",
         "x": [
          -2.3704016563776555,
          0.710914398419287,
          0.6309631659503724,
          -2.8442861967365327,
          -0.0037811628578325435,
          -0.6382947031932034,
          -0.5832920116811756,
          1.1026000251690178,
          -0.4489180991658564,
          1.05520211811089,
          1.1082161681792269,
          0.046435857114627235,
          -0.2510267408961941,
          -0.4371164022967774,
          -0.5726351450065652,
          -0.4558868992851681,
          0.8045657127614613,
          -0.6143361630344545,
          -1.6160987259954223,
          1.3057845255800853,
          -0.7461470247736539,
          0.1750160823313732,
          -1.1067051377260886,
          -0.5204797459819671,
          -1.4376613633318407,
          -0.46334884147883815,
          0.9571971280775794,
          0.10750091380559694,
          0.2999155740381957,
          0.2185691512067851,
          -0.2579678098624532,
          1.3217142621895663,
          0.4953794816082393,
          -0.024538641741287965,
          -0.07153303580223697,
          -0.1793581282707107,
          -0.06729147187170058,
          -2.557307701474324,
          -0.1060324200332444,
          0.31169871316192516,
          1.3348243165181144,
          -1.9852327530302238,
          -0.5047144315416485,
          2.0115813901704973,
          0.7134892560485943,
          0.5484249921365187,
          0.11248846492915397,
          0.08333088334699466,
          -1.3682499335799407,
          -0.6974724359103268,
          0.37716037785946616,
          0.17044734212634838,
          0.12590105794568657,
          0.7343765332029945,
          -1.4006553322902726,
          1.0398357714966402,
          1.1634583514551176,
          1.58060380206921,
          -1.2613190243691939,
          1.2877452491185823,
          1.2460599997934427,
          0.3613975529675301,
          0.21462586530124092,
          -0.6090968319472858,
          0.23882620428736073,
          0.00036416526394703947,
          -1.2276092246013988,
          -0.8340878876745745,
          -0.08872398862382311,
          -0.061588045991439896,
          0.07524987023586598,
          1.153665247704061,
          -0.10204239551389348,
          1.3361090973740046,
          -0.5740083415431523,
          -0.8577488708805439,
          -0.4261175399792977,
          0.9653094704371724,
          -0.8173212555447603,
          1.0639239966446306,
          1.4278115423329014,
          0.7042444273074215,
          0.22693524735557136,
          -0.7652187063502671,
          -0.2502387171320374,
          0.5676968944730754,
          0.5943365371060254,
          0.6837008990404221,
          0.45789611494130283,
          -0.35489134846406123,
          -0.4914581973149613,
          -0.4131351259857275,
          -1.023404819406341,
          0.1370090793966986,
          0.961244139221754,
          0.007385617385094512,
          1.0517038093011737,
          -1.3085422591568026,
          -0.11633946117127415,
          -1.8454019863290603
         ]
        },
        {
         "histfunc": "count",
         "histnorm": "",
         "marker": {
          "color": "rgba(128, 0, 128, 1.0)",
          "line": {
           "color": "#4D5663",
           "width": 1.3
          }
         },
         "name": "D",
         "opacity": 0.8,
         "orientation": "v",
         "type": "histogram",
         "x": [
          0.5537390638675553,
          1.7275733675276843,
          1.216431303443142,
          -0.35761928337126386,
          -0.2766384153037906,
          0.9175563269542514,
          0.7913703760222024,
          0.6220956147817989,
          -0.9831544551054343,
          1.0285919896520503,
          -0.31358613968988003,
          -0.775285515456309,
          0.9121360708078701,
          -1.3392510286273374,
          -0.2247116800768073,
          0.9541268394764304,
          -1.2930827345554905,
          -0.1794147558476305,
          -0.204389594528781,
          -0.5649726476650159,
          -0.22933740132582756,
          -0.12357211924056424,
          0.4077407006940749,
          2.043079024269626,
          -1.8966506055913155,
          0.37506058424840283,
          -0.3557237502946604,
          -1.1658294796761153,
          -0.3314174317554599,
          0.5145784433956135,
          -0.17837855724679227,
          0.5819743037137235,
          -0.2170352844294026,
          -1.5008635117509095,
          0.4430612675009117,
          -0.5607325848055742,
          -0.8927402578611204,
          -1.00706359189859,
          0.7062444360618905,
          0.37532512452690064,
          -0.60918430290378,
          -0.3994943366348986,
          0.17679870439558548,
          -1.174429900552088,
          -1.3649070274623116,
          0.8110181135624027,
          1.2204650689075098,
          -0.04066020848211326,
          -0.798661941308709,
          -0.9230544760455293,
          2.48660459433927,
          -0.06274331502043014,
          -1.1079901104727323,
          0.149286669555233,
          -0.41689930404468056,
          -1.2000400022790192,
          -0.5385790202389502,
          -0.9264732450946596,
          0.34937348613737107,
          -0.38320883769824815,
          1.3675813627800308,
          0.3696598404405374,
          0.31873612059708706,
          0.8654078552911361,
          -1.5376213372959873,
          -0.1947903323528216,
          -1.1909326220751137,
          0.10457430890020339,
          0.6050940987273143,
          -0.5132853593327287,
          -0.7755845604958479,
          1.7023984579456823,
          0.38754335554690883,
          -0.9282832799462417,
          -0.5055032937398403,
          -0.05673078953268362,
          0.7475335009747427,
          -0.06210187278705163,
          1.5377080899458013,
          -0.6697979120234541,
          0.29250646337732666,
          -0.157303460931491,
          1.2745952342564728,
          -2.0248042313737624,
          -0.09095499158177012,
          0.330332051144852,
          -1.421859288088006,
          0.8450082617292108,
          -0.5335434113230583,
          -0.2855092868899809,
          -0.0021180714025973127,
          -0.3188647510560923,
          0.7484749193984869,
          1.2867921778713245,
          0.13640248363414795,
          0.6299953592964012,
          0.33263293241450487,
          0.1985242742168156,
          0.5004590278283447,
          -0.33700623860984585
         ]
        }
       ],
       "layout": {
        "barmode": "overlay",
        "legend": {
         "bgcolor": "#F5F6F9",
         "font": {
          "color": "#4D5663"
         }
        },
        "paper_bgcolor": "#F5F6F9",
        "plot_bgcolor": "#F5F6F9",
        "template": {
         "data": {
          "bar": [
           {
            "error_x": {
             "color": "#2a3f5f"
            },
            "error_y": {
             "color": "#2a3f5f"
            },
            "marker": {
             "line": {
              "color": "#E5ECF6",
              "width": 0.5
             }
            },
            "type": "bar"
           }
          ],
          "barpolar": [
           {
            "marker": {
             "line": {
              "color": "#E5ECF6",
              "width": 0.5
             }
            },
            "type": "barpolar"
           }
          ],
          "carpet": [
           {
            "aaxis": {
             "endlinecolor": "#2a3f5f",
             "gridcolor": "white",
             "linecolor": "white",
             "minorgridcolor": "white",
             "startlinecolor": "#2a3f5f"
            },
            "baxis": {
             "endlinecolor": "#2a3f5f",
             "gridcolor": "white",
             "linecolor": "white",
             "minorgridcolor": "white",
             "startlinecolor": "#2a3f5f"
            },
            "type": "carpet"
           }
          ],
          "choropleth": [
           {
            "colorbar": {
             "outlinewidth": 0,
             "ticks": ""
            },
            "type": "choropleth"
           }
          ],
          "contour": [
           {
            "colorbar": {
             "outlinewidth": 0,
             "ticks": ""
            },
            "colorscale": [
             [
              0,
              "#0d0887"
             ],
             [
              0.1111111111111111,
              "#46039f"
             ],
             [
              0.2222222222222222,
              "#7201a8"
             ],
             [
              0.3333333333333333,
              "#9c179e"
             ],
             [
              0.4444444444444444,
              "#bd3786"
             ],
             [
              0.5555555555555556,
              "#d8576b"
             ],
             [
              0.6666666666666666,
              "#ed7953"
             ],
             [
              0.7777777777777778,
              "#fb9f3a"
             ],
             [
              0.8888888888888888,
              "#fdca26"
             ],
             [
              1,
              "#f0f921"
             ]
            ],
            "type": "contour"
           }
          ],
          "contourcarpet": [
           {
            "colorbar": {
             "outlinewidth": 0,
             "ticks": ""
            },
            "type": "contourcarpet"
           }
          ],
          "heatmap": [
           {
            "colorbar": {
             "outlinewidth": 0,
             "ticks": ""
            },
            "colorscale": [
             [
              0,
              "#0d0887"
             ],
             [
              0.1111111111111111,
              "#46039f"
             ],
             [
              0.2222222222222222,
              "#7201a8"
             ],
             [
              0.3333333333333333,
              "#9c179e"
             ],
             [
              0.4444444444444444,
              "#bd3786"
             ],
             [
              0.5555555555555556,
              "#d8576b"
             ],
             [
              0.6666666666666666,
              "#ed7953"
             ],
             [
              0.7777777777777778,
              "#fb9f3a"
             ],
             [
              0.8888888888888888,
              "#fdca26"
             ],
             [
              1,
              "#f0f921"
             ]
            ],
            "type": "heatmap"
           }
          ],
          "heatmapgl": [
           {
            "colorbar": {
             "outlinewidth": 0,
             "ticks": ""
            },
            "colorscale": [
             [
              0,
              "#0d0887"
             ],
             [
              0.1111111111111111,
              "#46039f"
             ],
             [
              0.2222222222222222,
              "#7201a8"
             ],
             [
              0.3333333333333333,
              "#9c179e"
             ],
             [
              0.4444444444444444,
              "#bd3786"
             ],
             [
              0.5555555555555556,
              "#d8576b"
             ],
             [
              0.6666666666666666,
              "#ed7953"
             ],
             [
              0.7777777777777778,
              "#fb9f3a"
             ],
             [
              0.8888888888888888,
              "#fdca26"
             ],
             [
              1,
              "#f0f921"
             ]
            ],
            "type": "heatmapgl"
           }
          ],
          "histogram": [
           {
            "marker": {
             "colorbar": {
              "outlinewidth": 0,
              "ticks": ""
             }
            },
            "type": "histogram"
           }
          ],
          "histogram2d": [
           {
            "colorbar": {
             "outlinewidth": 0,
             "ticks": ""
            },
            "colorscale": [
             [
              0,
              "#0d0887"
             ],
             [
              0.1111111111111111,
              "#46039f"
             ],
             [
              0.2222222222222222,
              "#7201a8"
             ],
             [
              0.3333333333333333,
              "#9c179e"
             ],
             [
              0.4444444444444444,
              "#bd3786"
             ],
             [
              0.5555555555555556,
              "#d8576b"
             ],
             [
              0.6666666666666666,
              "#ed7953"
             ],
             [
              0.7777777777777778,
              "#fb9f3a"
             ],
             [
              0.8888888888888888,
              "#fdca26"
             ],
             [
              1,
              "#f0f921"
             ]
            ],
            "type": "histogram2d"
           }
          ],
          "histogram2dcontour": [
           {
            "colorbar": {
             "outlinewidth": 0,
             "ticks": ""
            },
            "colorscale": [
             [
              0,
              "#0d0887"
             ],
             [
              0.1111111111111111,
              "#46039f"
             ],
             [
              0.2222222222222222,
              "#7201a8"
             ],
             [
              0.3333333333333333,
              "#9c179e"
             ],
             [
              0.4444444444444444,
              "#bd3786"
             ],
             [
              0.5555555555555556,
              "#d8576b"
             ],
             [
              0.6666666666666666,
              "#ed7953"
             ],
             [
              0.7777777777777778,
              "#fb9f3a"
             ],
             [
              0.8888888888888888,
              "#fdca26"
             ],
             [
              1,
              "#f0f921"
             ]
            ],
            "type": "histogram2dcontour"
           }
          ],
          "mesh3d": [
           {
            "colorbar": {
             "outlinewidth": 0,
             "ticks": ""
            },
            "type": "mesh3d"
           }
          ],
          "parcoords": [
           {
            "line": {
             "colorbar": {
              "outlinewidth": 0,
              "ticks": ""
             }
            },
            "type": "parcoords"
           }
          ],
          "pie": [
           {
            "automargin": true,
            "type": "pie"
           }
          ],
          "scatter": [
           {
            "marker": {
             "colorbar": {
              "outlinewidth": 0,
              "ticks": ""
             }
            },
            "type": "scatter"
           }
          ],
          "scatter3d": [
           {
            "line": {
             "colorbar": {
              "outlinewidth": 0,
              "ticks": ""
             }
            },
            "marker": {
             "colorbar": {
              "outlinewidth": 0,
              "ticks": ""
             }
            },
            "type": "scatter3d"
           }
          ],
          "scattercarpet": [
           {
            "marker": {
             "colorbar": {
              "outlinewidth": 0,
              "ticks": ""
             }
            },
            "type": "scattercarpet"
           }
          ],
          "scattergeo": [
           {
            "marker": {
             "colorbar": {
              "outlinewidth": 0,
              "ticks": ""
             }
            },
            "type": "scattergeo"
           }
          ],
          "scattergl": [
           {
            "marker": {
             "colorbar": {
              "outlinewidth": 0,
              "ticks": ""
             }
            },
            "type": "scattergl"
           }
          ],
          "scattermapbox": [
           {
            "marker": {
             "colorbar": {
              "outlinewidth": 0,
              "ticks": ""
             }
            },
            "type": "scattermapbox"
           }
          ],
          "scatterpolar": [
           {
            "marker": {
             "colorbar": {
              "outlinewidth": 0,
              "ticks": ""
             }
            },
            "type": "scatterpolar"
           }
          ],
          "scatterpolargl": [
           {
            "marker": {
             "colorbar": {
              "outlinewidth": 0,
              "ticks": ""
             }
            },
            "type": "scatterpolargl"
           }
          ],
          "scatterternary": [
           {
            "marker": {
             "colorbar": {
              "outlinewidth": 0,
              "ticks": ""
             }
            },
            "type": "scatterternary"
           }
          ],
          "surface": [
           {
            "colorbar": {
             "outlinewidth": 0,
             "ticks": ""
            },
            "colorscale": [
             [
              0,
              "#0d0887"
             ],
             [
              0.1111111111111111,
              "#46039f"
             ],
             [
              0.2222222222222222,
              "#7201a8"
             ],
             [
              0.3333333333333333,
              "#9c179e"
             ],
             [
              0.4444444444444444,
              "#bd3786"
             ],
             [
              0.5555555555555556,
              "#d8576b"
             ],
             [
              0.6666666666666666,
              "#ed7953"
             ],
             [
              0.7777777777777778,
              "#fb9f3a"
             ],
             [
              0.8888888888888888,
              "#fdca26"
             ],
             [
              1,
              "#f0f921"
             ]
            ],
            "type": "surface"
           }
          ],
          "table": [
           {
            "cells": {
             "fill": {
              "color": "#EBF0F8"
             },
             "line": {
              "color": "white"
             }
            },
            "header": {
             "fill": {
              "color": "#C8D4E3"
             },
             "line": {
              "color": "white"
             }
            },
            "type": "table"
           }
          ]
         },
         "layout": {
          "annotationdefaults": {
           "arrowcolor": "#2a3f5f",
           "arrowhead": 0,
           "arrowwidth": 1
          },
          "coloraxis": {
           "colorbar": {
            "outlinewidth": 0,
            "ticks": ""
           }
          },
          "colorscale": {
           "diverging": [
            [
             0,
             "#8e0152"
            ],
            [
             0.1,
             "#c51b7d"
            ],
            [
             0.2,
             "#de77ae"
            ],
            [
             0.3,
             "#f1b6da"
            ],
            [
             0.4,
             "#fde0ef"
            ],
            [
             0.5,
             "#f7f7f7"
            ],
            [
             0.6,
             "#e6f5d0"
            ],
            [
             0.7,
             "#b8e186"
            ],
            [
             0.8,
             "#7fbc41"
            ],
            [
             0.9,
             "#4d9221"
            ],
            [
             1,
             "#276419"
            ]
           ],
           "sequential": [
            [
             0,
             "#0d0887"
            ],
            [
             0.1111111111111111,
             "#46039f"
            ],
            [
             0.2222222222222222,
             "#7201a8"
            ],
            [
             0.3333333333333333,
             "#9c179e"
            ],
            [
             0.4444444444444444,
             "#bd3786"
            ],
            [
             0.5555555555555556,
             "#d8576b"
            ],
            [
             0.6666666666666666,
             "#ed7953"
            ],
            [
             0.7777777777777778,
             "#fb9f3a"
            ],
            [
             0.8888888888888888,
             "#fdca26"
            ],
            [
             1,
             "#f0f921"
            ]
           ],
           "sequentialminus": [
            [
             0,
             "#0d0887"
            ],
            [
             0.1111111111111111,
             "#46039f"
            ],
            [
             0.2222222222222222,
             "#7201a8"
            ],
            [
             0.3333333333333333,
             "#9c179e"
            ],
            [
             0.4444444444444444,
             "#bd3786"
            ],
            [
             0.5555555555555556,
             "#d8576b"
            ],
            [
             0.6666666666666666,
             "#ed7953"
            ],
            [
             0.7777777777777778,
             "#fb9f3a"
            ],
            [
             0.8888888888888888,
             "#fdca26"
            ],
            [
             1,
             "#f0f921"
            ]
           ]
          },
          "colorway": [
           "#636efa",
           "#EF553B",
           "#00cc96",
           "#ab63fa",
           "#FFA15A",
           "#19d3f3",
           "#FF6692",
           "#B6E880",
           "#FF97FF",
           "#FECB52"
          ],
          "font": {
           "color": "#2a3f5f"
          },
          "geo": {
           "bgcolor": "white",
           "lakecolor": "white",
           "landcolor": "#E5ECF6",
           "showlakes": true,
           "showland": true,
           "subunitcolor": "white"
          },
          "hoverlabel": {
           "align": "left"
          },
          "hovermode": "closest",
          "mapbox": {
           "style": "light"
          },
          "paper_bgcolor": "white",
          "plot_bgcolor": "#E5ECF6",
          "polar": {
           "angularaxis": {
            "gridcolor": "white",
            "linecolor": "white",
            "ticks": ""
           },
           "bgcolor": "#E5ECF6",
           "radialaxis": {
            "gridcolor": "white",
            "linecolor": "white",
            "ticks": ""
           }
          },
          "scene": {
           "xaxis": {
            "backgroundcolor": "#E5ECF6",
            "gridcolor": "white",
            "gridwidth": 2,
            "linecolor": "white",
            "showbackground": true,
            "ticks": "",
            "zerolinecolor": "white"
           },
           "yaxis": {
            "backgroundcolor": "#E5ECF6",
            "gridcolor": "white",
            "gridwidth": 2,
            "linecolor": "white",
            "showbackground": true,
            "ticks": "",
            "zerolinecolor": "white"
           },
           "zaxis": {
            "backgroundcolor": "#E5ECF6",
            "gridcolor": "white",
            "gridwidth": 2,
            "linecolor": "white",
            "showbackground": true,
            "ticks": "",
            "zerolinecolor": "white"
           }
          },
          "shapedefaults": {
           "line": {
            "color": "#2a3f5f"
           }
          },
          "ternary": {
           "aaxis": {
            "gridcolor": "white",
            "linecolor": "white",
            "ticks": ""
           },
           "baxis": {
            "gridcolor": "white",
            "linecolor": "white",
            "ticks": ""
           },
           "bgcolor": "#E5ECF6",
           "caxis": {
            "gridcolor": "white",
            "linecolor": "white",
            "ticks": ""
           }
          },
          "title": {
           "x": 0.05
          },
          "xaxis": {
           "automargin": true,
           "gridcolor": "white",
           "linecolor": "white",
           "ticks": "",
           "title": {
            "standoff": 15
           },
           "zerolinecolor": "white",
           "zerolinewidth": 2
          },
          "yaxis": {
           "automargin": true,
           "gridcolor": "white",
           "linecolor": "white",
           "ticks": "",
           "title": {
            "standoff": 15
           },
           "zerolinecolor": "white",
           "zerolinewidth": 2
          }
         }
        },
        "title": {
         "font": {
          "color": "#4D5663"
         }
        },
        "xaxis": {
         "gridcolor": "#E1E5ED",
         "showgrid": true,
         "tickfont": {
          "color": "#4D5663"
         },
         "title": {
          "font": {
           "color": "#4D5663"
          },
          "text": ""
         },
         "zerolinecolor": "#E1E5ED"
        },
        "yaxis": {
         "gridcolor": "#E1E5ED",
         "showgrid": true,
         "tickfont": {
          "color": "#4D5663"
         },
         "title": {
          "font": {
           "color": "#4D5663"
          },
          "text": ""
         },
         "zerolinecolor": "#E1E5ED"
        }
       }
      },
      "text/html": [
       "<div>\n",
       "        \n",
       "        \n",
       "            <div id=\"7084f48f-547f-4af3-93be-8e69a2692e5b\" class=\"plotly-graph-div\" style=\"height:525px; width:100%;\"></div>\n",
       "            <script type=\"text/javascript\">\n",
       "                require([\"plotly\"], function(Plotly) {\n",
       "                    window.PLOTLYENV=window.PLOTLYENV || {};\n",
       "                    window.PLOTLYENV.BASE_URL='https://plot.ly';\n",
       "                    \n",
       "                if (document.getElementById(\"7084f48f-547f-4af3-93be-8e69a2692e5b\")) {\n",
       "                    Plotly.newPlot(\n",
       "                        '7084f48f-547f-4af3-93be-8e69a2692e5b',\n",
       "                        [{\"histfunc\": \"count\", \"histnorm\": \"\", \"marker\": {\"color\": \"rgba(255, 153, 51, 1.0)\", \"line\": {\"color\": \"#4D5663\", \"width\": 1.3}}, \"name\": \"A\", \"opacity\": 0.8, \"orientation\": \"v\", \"type\": \"histogram\", \"x\": [-0.3528362464153668, -0.284490578588392, 2.203326375137168, 1.1914906229339413, -0.5643907599811814, 2.7798718153014357, 1.1392230478947218, -0.3969084492198873, -0.8431354506721372, -1.2113706937321673, -1.1232328854452367, 0.4518665654795515, 0.15108658835894914, -1.7197708096350655, -0.07078563077906978, -0.980891266191066, -2.0065915820068994, 0.04405074044947059, -0.1816391125056839, 0.7598049797859753, -1.096012407090366, -1.4973956161707278, -2.2293808754538005, -0.15494190096890462, -0.8404676595449304, -1.5864444840611043, -1.271828143859151, 0.233536485699503, 0.32955043668175693, 1.1595295612279588, -0.5278554404367857, -0.16303045205008881, -1.7674739515583324, 0.33892658874933296, 0.19685617323938542, 0.33023853338745474, 0.03730643652616613, 0.32496894629056994, 0.23244779523287074, -0.01842197648227652, -1.1672830340101563, -0.40440266128609065, 2.07759282848088, 0.14020699314040225, 0.11670666187449041, -1.3759216802724983, 2.3270704249878746, 0.3972406311737788, 0.17442023752997537, -0.2800525759529055, 0.4506210148099999, 2.6202326404140677, 1.0653150560571336, 1.7095140209602646, 0.7990198343521421, -0.8281912607199876, -0.806280334150687, 1.6979095908090678, -0.8672712204039527, 1.1005741543620384, -0.6546095261109552, 0.9048167986183359, -0.7100506115690377, 0.648084430407177, 0.9447881732500704, -0.4713552039565896, 0.21402616654041448, -0.935151045365892, 1.2150495379117552, -0.43140919672950967, -1.1891048756132958, 0.9847206464209383, 0.40945681494002684, -0.8066269723088334, -0.6687296314674605, -1.0238807147882825, -0.2700469623402802, 0.5690651238713944, 0.6865219970682781, 0.6483901625701793, 1.2905559982270822, 0.8178639588042602, 1.1575135611917569, -2.0984711888019745, -1.7762476161655396, -0.6748575307003194, -0.21849196898810175, -0.5753702112145309, -0.3920858562314582, 0.6970390930379042, -1.4429250467452353, -0.3166115618643759, -0.3519621812877541, -0.4525464016079805, 0.5423829440734289, -0.36691990004214553, -0.7611303390249726, 2.0511135768496143, -0.9598352743683791, -0.37398827024180453]}, {\"histfunc\": \"count\", \"histnorm\": \"\", \"marker\": {\"color\": \"rgba(55, 128, 191, 1.0)\", \"line\": {\"color\": \"#4D5663\", \"width\": 1.3}}, \"name\": \"B\", \"opacity\": 0.8, \"orientation\": \"v\", \"type\": \"histogram\", \"x\": [-1.5145455118176767, -0.01367326820150052, -0.7829236033971367, 2.1758105864782173, 0.014005493606606743, -0.408817628815818, -1.9692976906687827, 0.7934251922172569, -0.10928246963521912, -1.8675911342151044, -0.291350381007704, -0.2861757143497499, 0.45182196198038505, -1.3540852014076956, 0.11849633147728272, -1.4831515290012542, -0.15594664619415652, 0.8218005891800004, -1.3196893908390053, 0.9516245220412897, 1.0245182381659395, -0.9086606060000463, 0.3667342867629603, 2.1748246081996387, -1.4412403414461203, 1.3547356288206962, 0.07448038483912717, -2.0463557158127803, -0.2466438968154346, 0.7427704569505088, 0.7393827811394357, 0.3470737898934057, -0.21339715374304669, -0.29843604210654695, -0.26984569594619834, -0.7380914719749732, 0.085445841445681, -0.03377606407086046, -0.20658488335554978, -0.2320627365179663, 0.6895012608888704, -1.9625798027603658, -1.3809616631815926, 1.270026636907869, -1.1676750826700475, 0.6835442102993022, -0.10819067203435048, -0.38848646939043074, -1.3146096093947917, 1.2343026179645644, -1.1578924940873192, 0.9311809476907813, -0.9408852209315937, 0.2777851236373851, -0.2792794125675632, 0.5699172325515569, 1.1815215185447847, -0.4101575978585351, -1.3520086334848345, -0.2206896804793058, -0.635846746095747, -2.2801475925723, -0.13273463837665134, -1.4357460149388654, -2.0947528958618142, -1.4043908765273556, 1.235437712356553, -0.2961297710843259, 0.712446862050636, -0.5733163055127384, 0.8724480526635303, 0.34296687693318517, -1.8772458375662273, 0.04838875314046682, 1.1439410329456652, -1.4074872363653521, -0.41353126423716985, -1.2891804111532066, -0.8016211831893039, -1.1778852829324677, 0.8601306959837082, -0.7846632368352668, 0.8951888056616729, -0.1209386568012941, 0.3507332670458818, 0.40839273692365535, 1.3923988082070355, 0.5898704076273781, 1.4937796385060818, 0.9554951083022206, -0.12453902532811652, -1.280101497255287, -0.8670228686188641, -0.6542483247746392, -0.27107332066291734, 1.7482116014051732, 1.6179167104189263, -0.627179728211577, 0.7520281731249727, -0.5689711239929849]}, {\"histfunc\": \"count\", \"histnorm\": \"\", \"marker\": {\"color\": \"rgba(50, 171, 96, 1.0)\", \"line\": {\"color\": \"#4D5663\", \"width\": 1.3}}, \"name\": \"C\", \"opacity\": 0.8, \"orientation\": \"v\", \"type\": \"histogram\", \"x\": [-2.3704016563776555, 0.710914398419287, 0.6309631659503724, -2.8442861967365327, -0.0037811628578325435, -0.6382947031932034, -0.5832920116811756, 1.1026000251690178, -0.4489180991658564, 1.05520211811089, 1.1082161681792269, 0.046435857114627235, -0.2510267408961941, -0.4371164022967774, -0.5726351450065652, -0.4558868992851681, 0.8045657127614613, -0.6143361630344545, -1.6160987259954223, 1.3057845255800853, -0.7461470247736539, 0.1750160823313732, -1.1067051377260886, -0.5204797459819671, -1.4376613633318407, -0.46334884147883815, 0.9571971280775794, 0.10750091380559694, 0.2999155740381957, 0.2185691512067851, -0.2579678098624532, 1.3217142621895663, 0.4953794816082393, -0.024538641741287965, -0.07153303580223697, -0.1793581282707107, -0.06729147187170058, -2.557307701474324, -0.1060324200332444, 0.31169871316192516, 1.3348243165181144, -1.9852327530302238, -0.5047144315416485, 2.0115813901704973, 0.7134892560485943, 0.5484249921365187, 0.11248846492915397, 0.08333088334699466, -1.3682499335799407, -0.6974724359103268, 0.37716037785946616, 0.17044734212634838, 0.12590105794568657, 0.7343765332029945, -1.4006553322902726, 1.0398357714966402, 1.1634583514551176, 1.58060380206921, -1.2613190243691939, 1.2877452491185823, 1.2460599997934427, 0.3613975529675301, 0.21462586530124092, -0.6090968319472858, 0.23882620428736073, 0.00036416526394703947, -1.2276092246013988, -0.8340878876745745, -0.08872398862382311, -0.061588045991439896, 0.07524987023586598, 1.153665247704061, -0.10204239551389348, 1.3361090973740046, -0.5740083415431523, -0.8577488708805439, -0.4261175399792977, 0.9653094704371724, -0.8173212555447603, 1.0639239966446306, 1.4278115423329014, 0.7042444273074215, 0.22693524735557136, -0.7652187063502671, -0.2502387171320374, 0.5676968944730754, 0.5943365371060254, 0.6837008990404221, 0.45789611494130283, -0.35489134846406123, -0.4914581973149613, -0.4131351259857275, -1.023404819406341, 0.1370090793966986, 0.961244139221754, 0.007385617385094512, 1.0517038093011737, -1.3085422591568026, -0.11633946117127415, -1.8454019863290603]}, {\"histfunc\": \"count\", \"histnorm\": \"\", \"marker\": {\"color\": \"rgba(128, 0, 128, 1.0)\", \"line\": {\"color\": \"#4D5663\", \"width\": 1.3}}, \"name\": \"D\", \"opacity\": 0.8, \"orientation\": \"v\", \"type\": \"histogram\", \"x\": [0.5537390638675553, 1.7275733675276843, 1.216431303443142, -0.35761928337126386, -0.2766384153037906, 0.9175563269542514, 0.7913703760222024, 0.6220956147817989, -0.9831544551054343, 1.0285919896520503, -0.31358613968988003, -0.775285515456309, 0.9121360708078701, -1.3392510286273374, -0.2247116800768073, 0.9541268394764304, -1.2930827345554905, -0.1794147558476305, -0.204389594528781, -0.5649726476650159, -0.22933740132582756, -0.12357211924056424, 0.4077407006940749, 2.043079024269626, -1.8966506055913155, 0.37506058424840283, -0.3557237502946604, -1.1658294796761153, -0.3314174317554599, 0.5145784433956135, -0.17837855724679227, 0.5819743037137235, -0.2170352844294026, -1.5008635117509095, 0.4430612675009117, -0.5607325848055742, -0.8927402578611204, -1.00706359189859, 0.7062444360618905, 0.37532512452690064, -0.60918430290378, -0.3994943366348986, 0.17679870439558548, -1.174429900552088, -1.3649070274623116, 0.8110181135624027, 1.2204650689075098, -0.04066020848211326, -0.798661941308709, -0.9230544760455293, 2.48660459433927, -0.06274331502043014, -1.1079901104727323, 0.149286669555233, -0.41689930404468056, -1.2000400022790192, -0.5385790202389502, -0.9264732450946596, 0.34937348613737107, -0.38320883769824815, 1.3675813627800308, 0.3696598404405374, 0.31873612059708706, 0.8654078552911361, -1.5376213372959873, -0.1947903323528216, -1.1909326220751137, 0.10457430890020339, 0.6050940987273143, -0.5132853593327287, -0.7755845604958479, 1.7023984579456823, 0.38754335554690883, -0.9282832799462417, -0.5055032937398403, -0.05673078953268362, 0.7475335009747427, -0.06210187278705163, 1.5377080899458013, -0.6697979120234541, 0.29250646337732666, -0.157303460931491, 1.2745952342564728, -2.0248042313737624, -0.09095499158177012, 0.330332051144852, -1.421859288088006, 0.8450082617292108, -0.5335434113230583, -0.2855092868899809, -0.0021180714025973127, -0.3188647510560923, 0.7484749193984869, 1.2867921778713245, 0.13640248363414795, 0.6299953592964012, 0.33263293241450487, 0.1985242742168156, 0.5004590278283447, -0.33700623860984585]}],\n",
       "                        {\"barmode\": \"overlay\", \"legend\": {\"bgcolor\": \"#F5F6F9\", \"font\": {\"color\": \"#4D5663\"}}, \"paper_bgcolor\": \"#F5F6F9\", \"plot_bgcolor\": \"#F5F6F9\", \"template\": {\"data\": {\"bar\": [{\"error_x\": {\"color\": \"#2a3f5f\"}, \"error_y\": {\"color\": \"#2a3f5f\"}, \"marker\": {\"line\": {\"color\": \"#E5ECF6\", \"width\": 0.5}}, \"type\": \"bar\"}], \"barpolar\": [{\"marker\": {\"line\": {\"color\": \"#E5ECF6\", \"width\": 0.5}}, \"type\": \"barpolar\"}], \"carpet\": [{\"aaxis\": {\"endlinecolor\": \"#2a3f5f\", \"gridcolor\": \"white\", \"linecolor\": \"white\", \"minorgridcolor\": \"white\", \"startlinecolor\": \"#2a3f5f\"}, \"baxis\": {\"endlinecolor\": \"#2a3f5f\", \"gridcolor\": \"white\", \"linecolor\": \"white\", \"minorgridcolor\": \"white\", \"startlinecolor\": \"#2a3f5f\"}, \"type\": \"carpet\"}], \"choropleth\": [{\"colorbar\": {\"outlinewidth\": 0, \"ticks\": \"\"}, \"type\": \"choropleth\"}], \"contour\": [{\"colorbar\": {\"outlinewidth\": 0, \"ticks\": \"\"}, \"colorscale\": [[0.0, \"#0d0887\"], [0.1111111111111111, \"#46039f\"], [0.2222222222222222, \"#7201a8\"], [0.3333333333333333, \"#9c179e\"], [0.4444444444444444, \"#bd3786\"], [0.5555555555555556, \"#d8576b\"], [0.6666666666666666, \"#ed7953\"], [0.7777777777777778, \"#fb9f3a\"], [0.8888888888888888, \"#fdca26\"], [1.0, \"#f0f921\"]], \"type\": \"contour\"}], \"contourcarpet\": [{\"colorbar\": {\"outlinewidth\": 0, \"ticks\": \"\"}, \"type\": \"contourcarpet\"}], \"heatmap\": [{\"colorbar\": {\"outlinewidth\": 0, \"ticks\": \"\"}, \"colorscale\": [[0.0, \"#0d0887\"], [0.1111111111111111, \"#46039f\"], [0.2222222222222222, \"#7201a8\"], [0.3333333333333333, \"#9c179e\"], [0.4444444444444444, \"#bd3786\"], [0.5555555555555556, \"#d8576b\"], [0.6666666666666666, \"#ed7953\"], [0.7777777777777778, \"#fb9f3a\"], [0.8888888888888888, \"#fdca26\"], [1.0, \"#f0f921\"]], \"type\": \"heatmap\"}], \"heatmapgl\": [{\"colorbar\": {\"outlinewidth\": 0, \"ticks\": \"\"}, \"colorscale\": [[0.0, \"#0d0887\"], [0.1111111111111111, \"#46039f\"], [0.2222222222222222, \"#7201a8\"], [0.3333333333333333, \"#9c179e\"], [0.4444444444444444, \"#bd3786\"], [0.5555555555555556, \"#d8576b\"], [0.6666666666666666, \"#ed7953\"], [0.7777777777777778, \"#fb9f3a\"], [0.8888888888888888, \"#fdca26\"], [1.0, \"#f0f921\"]], \"type\": \"heatmapgl\"}], \"histogram\": [{\"marker\": {\"colorbar\": {\"outlinewidth\": 0, \"ticks\": \"\"}}, \"type\": \"histogram\"}], \"histogram2d\": [{\"colorbar\": {\"outlinewidth\": 0, \"ticks\": \"\"}, \"colorscale\": [[0.0, \"#0d0887\"], [0.1111111111111111, \"#46039f\"], [0.2222222222222222, \"#7201a8\"], [0.3333333333333333, \"#9c179e\"], [0.4444444444444444, \"#bd3786\"], [0.5555555555555556, \"#d8576b\"], [0.6666666666666666, \"#ed7953\"], [0.7777777777777778, \"#fb9f3a\"], [0.8888888888888888, \"#fdca26\"], [1.0, \"#f0f921\"]], \"type\": \"histogram2d\"}], \"histogram2dcontour\": [{\"colorbar\": {\"outlinewidth\": 0, \"ticks\": \"\"}, \"colorscale\": [[0.0, \"#0d0887\"], [0.1111111111111111, \"#46039f\"], [0.2222222222222222, \"#7201a8\"], [0.3333333333333333, \"#9c179e\"], [0.4444444444444444, \"#bd3786\"], [0.5555555555555556, \"#d8576b\"], [0.6666666666666666, \"#ed7953\"], [0.7777777777777778, \"#fb9f3a\"], [0.8888888888888888, \"#fdca26\"], [1.0, \"#f0f921\"]], \"type\": \"histogram2dcontour\"}], \"mesh3d\": [{\"colorbar\": {\"outlinewidth\": 0, \"ticks\": \"\"}, \"type\": \"mesh3d\"}], \"parcoords\": [{\"line\": {\"colorbar\": {\"outlinewidth\": 0, \"ticks\": \"\"}}, \"type\": \"parcoords\"}], \"pie\": [{\"automargin\": true, \"type\": \"pie\"}], \"scatter\": [{\"marker\": {\"colorbar\": {\"outlinewidth\": 0, \"ticks\": \"\"}}, \"type\": \"scatter\"}], \"scatter3d\": [{\"line\": {\"colorbar\": {\"outlinewidth\": 0, \"ticks\": \"\"}}, \"marker\": {\"colorbar\": {\"outlinewidth\": 0, \"ticks\": \"\"}}, \"type\": \"scatter3d\"}], \"scattercarpet\": [{\"marker\": {\"colorbar\": {\"outlinewidth\": 0, \"ticks\": \"\"}}, \"type\": \"scattercarpet\"}], \"scattergeo\": [{\"marker\": {\"colorbar\": {\"outlinewidth\": 0, \"ticks\": \"\"}}, \"type\": \"scattergeo\"}], \"scattergl\": [{\"marker\": {\"colorbar\": {\"outlinewidth\": 0, \"ticks\": \"\"}}, \"type\": \"scattergl\"}], \"scattermapbox\": [{\"marker\": {\"colorbar\": {\"outlinewidth\": 0, \"ticks\": \"\"}}, \"type\": \"scattermapbox\"}], \"scatterpolar\": [{\"marker\": {\"colorbar\": {\"outlinewidth\": 0, \"ticks\": \"\"}}, \"type\": \"scatterpolar\"}], \"scatterpolargl\": [{\"marker\": {\"colorbar\": {\"outlinewidth\": 0, \"ticks\": \"\"}}, \"type\": \"scatterpolargl\"}], \"scatterternary\": [{\"marker\": {\"colorbar\": {\"outlinewidth\": 0, \"ticks\": \"\"}}, \"type\": \"scatterternary\"}], \"surface\": [{\"colorbar\": {\"outlinewidth\": 0, \"ticks\": \"\"}, \"colorscale\": [[0.0, \"#0d0887\"], [0.1111111111111111, \"#46039f\"], [0.2222222222222222, \"#7201a8\"], [0.3333333333333333, \"#9c179e\"], [0.4444444444444444, \"#bd3786\"], [0.5555555555555556, \"#d8576b\"], [0.6666666666666666, \"#ed7953\"], [0.7777777777777778, \"#fb9f3a\"], [0.8888888888888888, \"#fdca26\"], [1.0, \"#f0f921\"]], \"type\": \"surface\"}], \"table\": [{\"cells\": {\"fill\": {\"color\": \"#EBF0F8\"}, \"line\": {\"color\": \"white\"}}, \"header\": {\"fill\": {\"color\": \"#C8D4E3\"}, \"line\": {\"color\": \"white\"}}, \"type\": \"table\"}]}, \"layout\": {\"annotationdefaults\": {\"arrowcolor\": \"#2a3f5f\", \"arrowhead\": 0, \"arrowwidth\": 1}, \"coloraxis\": {\"colorbar\": {\"outlinewidth\": 0, \"ticks\": \"\"}}, \"colorscale\": {\"diverging\": [[0, \"#8e0152\"], [0.1, \"#c51b7d\"], [0.2, \"#de77ae\"], [0.3, \"#f1b6da\"], [0.4, \"#fde0ef\"], [0.5, \"#f7f7f7\"], [0.6, \"#e6f5d0\"], [0.7, \"#b8e186\"], [0.8, \"#7fbc41\"], [0.9, \"#4d9221\"], [1, \"#276419\"]], \"sequential\": [[0.0, \"#0d0887\"], [0.1111111111111111, \"#46039f\"], [0.2222222222222222, \"#7201a8\"], [0.3333333333333333, \"#9c179e\"], [0.4444444444444444, \"#bd3786\"], [0.5555555555555556, \"#d8576b\"], [0.6666666666666666, \"#ed7953\"], [0.7777777777777778, \"#fb9f3a\"], [0.8888888888888888, \"#fdca26\"], [1.0, \"#f0f921\"]], \"sequentialminus\": [[0.0, \"#0d0887\"], [0.1111111111111111, \"#46039f\"], [0.2222222222222222, \"#7201a8\"], [0.3333333333333333, \"#9c179e\"], [0.4444444444444444, \"#bd3786\"], [0.5555555555555556, \"#d8576b\"], [0.6666666666666666, \"#ed7953\"], [0.7777777777777778, \"#fb9f3a\"], [0.8888888888888888, \"#fdca26\"], [1.0, \"#f0f921\"]]}, \"colorway\": [\"#636efa\", \"#EF553B\", \"#00cc96\", \"#ab63fa\", \"#FFA15A\", \"#19d3f3\", \"#FF6692\", \"#B6E880\", \"#FF97FF\", \"#FECB52\"], \"font\": {\"color\": \"#2a3f5f\"}, \"geo\": {\"bgcolor\": \"white\", \"lakecolor\": \"white\", \"landcolor\": \"#E5ECF6\", \"showlakes\": true, \"showland\": true, \"subunitcolor\": \"white\"}, \"hoverlabel\": {\"align\": \"left\"}, \"hovermode\": \"closest\", \"mapbox\": {\"style\": \"light\"}, \"paper_bgcolor\": \"white\", \"plot_bgcolor\": \"#E5ECF6\", \"polar\": {\"angularaxis\": {\"gridcolor\": \"white\", \"linecolor\": \"white\", \"ticks\": \"\"}, \"bgcolor\": \"#E5ECF6\", \"radialaxis\": {\"gridcolor\": \"white\", \"linecolor\": \"white\", \"ticks\": \"\"}}, \"scene\": {\"xaxis\": {\"backgroundcolor\": \"#E5ECF6\", \"gridcolor\": \"white\", \"gridwidth\": 2, \"linecolor\": \"white\", \"showbackground\": true, \"ticks\": \"\", \"zerolinecolor\": \"white\"}, \"yaxis\": {\"backgroundcolor\": \"#E5ECF6\", \"gridcolor\": \"white\", \"gridwidth\": 2, \"linecolor\": \"white\", \"showbackground\": true, \"ticks\": \"\", \"zerolinecolor\": \"white\"}, \"zaxis\": {\"backgroundcolor\": \"#E5ECF6\", \"gridcolor\": \"white\", \"gridwidth\": 2, \"linecolor\": \"white\", \"showbackground\": true, \"ticks\": \"\", \"zerolinecolor\": \"white\"}}, \"shapedefaults\": {\"line\": {\"color\": \"#2a3f5f\"}}, \"ternary\": {\"aaxis\": {\"gridcolor\": \"white\", \"linecolor\": \"white\", \"ticks\": \"\"}, \"baxis\": {\"gridcolor\": \"white\", \"linecolor\": \"white\", \"ticks\": \"\"}, \"bgcolor\": \"#E5ECF6\", \"caxis\": {\"gridcolor\": \"white\", \"linecolor\": \"white\", \"ticks\": \"\"}}, \"title\": {\"x\": 0.05}, \"xaxis\": {\"automargin\": true, \"gridcolor\": \"white\", \"linecolor\": \"white\", \"ticks\": \"\", \"title\": {\"standoff\": 15}, \"zerolinecolor\": \"white\", \"zerolinewidth\": 2}, \"yaxis\": {\"automargin\": true, \"gridcolor\": \"white\", \"linecolor\": \"white\", \"ticks\": \"\", \"title\": {\"standoff\": 15}, \"zerolinecolor\": \"white\", \"zerolinewidth\": 2}}}, \"title\": {\"font\": {\"color\": \"#4D5663\"}}, \"xaxis\": {\"gridcolor\": \"#E1E5ED\", \"showgrid\": true, \"tickfont\": {\"color\": \"#4D5663\"}, \"title\": {\"font\": {\"color\": \"#4D5663\"}, \"text\": \"\"}, \"zerolinecolor\": \"#E1E5ED\"}, \"yaxis\": {\"gridcolor\": \"#E1E5ED\", \"showgrid\": true, \"tickfont\": {\"color\": \"#4D5663\"}, \"title\": {\"font\": {\"color\": \"#4D5663\"}, \"text\": \"\"}, \"zerolinecolor\": \"#E1E5ED\"}},\n",
       "                        {\"showLink\": true, \"linkText\": \"Export to plot.ly\", \"plotlyServerURL\": \"https://plot.ly\", \"responsive\": true}\n",
       "                    ).then(function(){\n",
       "                            \n",
       "var gd = document.getElementById('7084f48f-547f-4af3-93be-8e69a2692e5b');\n",
       "var x = new MutationObserver(function (mutations, observer) {{\n",
       "        var display = window.getComputedStyle(gd).display;\n",
       "        if (!display || display === 'none') {{\n",
       "            console.log([gd, 'removed!']);\n",
       "            Plotly.purge(gd);\n",
       "            observer.disconnect();\n",
       "        }}\n",
       "}});\n",
       "\n",
       "// Listen for the removal of the full notebook cells\n",
       "var notebookContainer = gd.closest('#notebook-container');\n",
       "if (notebookContainer) {{\n",
       "    x.observe(notebookContainer, {childList: true});\n",
       "}}\n",
       "\n",
       "// Listen for the clearing of the current output cell\n",
       "var outputEl = gd.closest('.output');\n",
       "if (outputEl) {{\n",
       "    x.observe(outputEl, {childList: true});\n",
       "}}\n",
       "\n",
       "                        })\n",
       "                };\n",
       "                });\n",
       "            </script>\n",
       "        </div>"
      ]
     },
     "metadata": {},
     "output_type": "display_data"
    }
   ],
   "source": [
    "df.iplot(kind='hist')"
   ]
  },
  {
   "cell_type": "code",
   "execution_count": 30,
   "metadata": {},
   "outputs": [
    {
     "name": "stderr",
     "output_type": "stream",
     "text": [
      "C:\\Installed\\IDE\\anaconda3\\lib\\site-packages\\cufflinks\\plotlytools.py:849: FutureWarning:\n",
      "\n",
      "The pandas.np module is deprecated and will be removed from pandas in a future version. Import numpy directly instead\n",
      "\n",
      "C:\\Installed\\IDE\\anaconda3\\lib\\site-packages\\cufflinks\\plotlytools.py:850: FutureWarning:\n",
      "\n",
      "The pandas.np module is deprecated and will be removed from pandas in a future version. Import numpy directly instead\n",
      "\n"
     ]
    },
    {
     "data": {
      "application/vnd.plotly.v1+json": {
       "config": {
        "linkText": "Export to plot.ly",
        "plotlyServerURL": "https://plot.ly",
        "showLink": true
       },
       "data": [
        {
         "line": {
          "color": "rgba(255, 153, 51, 1.0)",
          "dash": "solid",
          "shape": "linear",
          "width": 1.3
         },
         "mode": "lines",
         "name": "A",
         "text": "",
         "type": "scatter",
         "x": [
          0,
          1,
          2,
          3,
          4,
          5,
          6,
          7,
          8,
          9,
          10,
          11,
          12,
          13,
          14,
          15,
          16,
          17,
          18,
          19,
          20,
          21,
          22,
          23,
          24,
          25,
          26,
          27,
          28,
          29,
          30,
          31,
          32,
          33,
          34,
          35,
          36,
          37,
          38,
          39,
          40,
          41,
          42,
          43,
          44,
          45,
          46,
          47,
          48,
          49,
          50,
          51,
          52,
          53,
          54,
          55,
          56,
          57,
          58,
          59,
          60,
          61,
          62,
          63,
          64,
          65,
          66,
          67,
          68,
          69,
          70,
          71,
          72,
          73,
          74,
          75,
          76,
          77,
          78,
          79,
          80,
          81,
          82,
          83,
          84,
          85,
          86,
          87,
          88,
          89,
          90,
          91,
          92,
          93,
          94,
          95,
          96,
          97,
          98,
          99
         ],
         "y": [
          -0.3528362464153668,
          -0.284490578588392,
          2.203326375137168,
          1.1914906229339413,
          -0.5643907599811814,
          2.7798718153014357,
          1.1392230478947218,
          -0.3969084492198873,
          -0.8431354506721372,
          -1.2113706937321673,
          -1.1232328854452367,
          0.4518665654795515,
          0.15108658835894914,
          -1.7197708096350655,
          -0.07078563077906978,
          -0.980891266191066,
          -2.0065915820068994,
          0.04405074044947059,
          -0.1816391125056839,
          0.7598049797859753,
          -1.096012407090366,
          -1.4973956161707278,
          -2.2293808754538005,
          -0.15494190096890462,
          -0.8404676595449304,
          -1.5864444840611043,
          -1.271828143859151,
          0.233536485699503,
          0.32955043668175693,
          1.1595295612279588,
          -0.5278554404367857,
          -0.16303045205008881,
          -1.7674739515583324,
          0.33892658874933296,
          0.19685617323938542,
          0.33023853338745474,
          0.03730643652616613,
          0.32496894629056994,
          0.23244779523287074,
          -0.01842197648227652,
          -1.1672830340101563,
          -0.40440266128609065,
          2.07759282848088,
          0.14020699314040225,
          0.11670666187449041,
          -1.3759216802724983,
          2.3270704249878746,
          0.3972406311737788,
          0.17442023752997537,
          -0.2800525759529055,
          0.4506210148099999,
          2.6202326404140677,
          1.0653150560571336,
          1.7095140209602646,
          0.7990198343521421,
          -0.8281912607199876,
          -0.806280334150687,
          1.6979095908090678,
          -0.8672712204039527,
          1.1005741543620384,
          -0.6546095261109552,
          0.9048167986183359,
          -0.7100506115690377,
          0.648084430407177,
          0.9447881732500704,
          -0.4713552039565896,
          0.21402616654041448,
          -0.935151045365892,
          1.2150495379117552,
          -0.43140919672950967,
          -1.1891048756132958,
          0.9847206464209383,
          0.40945681494002684,
          -0.8066269723088334,
          -0.6687296314674605,
          -1.0238807147882825,
          -0.2700469623402802,
          0.5690651238713944,
          0.6865219970682781,
          0.6483901625701793,
          1.2905559982270822,
          0.8178639588042602,
          1.1575135611917569,
          -2.0984711888019745,
          -1.7762476161655396,
          -0.6748575307003194,
          -0.21849196898810175,
          -0.5753702112145309,
          -0.3920858562314582,
          0.6970390930379042,
          -1.4429250467452353,
          -0.3166115618643759,
          -0.3519621812877541,
          -0.4525464016079805,
          0.5423829440734289,
          -0.36691990004214553,
          -0.7611303390249726,
          2.0511135768496143,
          -0.9598352743683791,
          -0.37398827024180453
         ]
        },
        {
         "line": {
          "color": "rgba(55, 128, 191, 1.0)",
          "dash": "solid",
          "shape": "linear",
          "width": 1.3
         },
         "mode": "lines",
         "name": "B",
         "text": "",
         "type": "scatter",
         "x": [
          0,
          1,
          2,
          3,
          4,
          5,
          6,
          7,
          8,
          9,
          10,
          11,
          12,
          13,
          14,
          15,
          16,
          17,
          18,
          19,
          20,
          21,
          22,
          23,
          24,
          25,
          26,
          27,
          28,
          29,
          30,
          31,
          32,
          33,
          34,
          35,
          36,
          37,
          38,
          39,
          40,
          41,
          42,
          43,
          44,
          45,
          46,
          47,
          48,
          49,
          50,
          51,
          52,
          53,
          54,
          55,
          56,
          57,
          58,
          59,
          60,
          61,
          62,
          63,
          64,
          65,
          66,
          67,
          68,
          69,
          70,
          71,
          72,
          73,
          74,
          75,
          76,
          77,
          78,
          79,
          80,
          81,
          82,
          83,
          84,
          85,
          86,
          87,
          88,
          89,
          90,
          91,
          92,
          93,
          94,
          95,
          96,
          97,
          98,
          99
         ],
         "y": [
          -1.5145455118176767,
          -0.01367326820150052,
          -0.7829236033971367,
          2.1758105864782173,
          0.014005493606606743,
          -0.408817628815818,
          -1.9692976906687827,
          0.7934251922172569,
          -0.10928246963521912,
          -1.8675911342151044,
          -0.291350381007704,
          -0.2861757143497499,
          0.45182196198038505,
          -1.3540852014076956,
          0.11849633147728272,
          -1.4831515290012542,
          -0.15594664619415652,
          0.8218005891800004,
          -1.3196893908390053,
          0.9516245220412897,
          1.0245182381659395,
          -0.9086606060000463,
          0.3667342867629603,
          2.1748246081996387,
          -1.4412403414461203,
          1.3547356288206962,
          0.07448038483912717,
          -2.0463557158127803,
          -0.2466438968154346,
          0.7427704569505088,
          0.7393827811394357,
          0.3470737898934057,
          -0.21339715374304669,
          -0.29843604210654695,
          -0.26984569594619834,
          -0.7380914719749732,
          0.085445841445681,
          -0.03377606407086046,
          -0.20658488335554978,
          -0.2320627365179663,
          0.6895012608888704,
          -1.9625798027603658,
          -1.3809616631815926,
          1.270026636907869,
          -1.1676750826700475,
          0.6835442102993022,
          -0.10819067203435048,
          -0.38848646939043074,
          -1.3146096093947917,
          1.2343026179645644,
          -1.1578924940873192,
          0.9311809476907813,
          -0.9408852209315937,
          0.2777851236373851,
          -0.2792794125675632,
          0.5699172325515569,
          1.1815215185447847,
          -0.4101575978585351,
          -1.3520086334848345,
          -0.2206896804793058,
          -0.635846746095747,
          -2.2801475925723,
          -0.13273463837665134,
          -1.4357460149388654,
          -2.0947528958618142,
          -1.4043908765273556,
          1.235437712356553,
          -0.2961297710843259,
          0.712446862050636,
          -0.5733163055127384,
          0.8724480526635303,
          0.34296687693318517,
          -1.8772458375662273,
          0.04838875314046682,
          1.1439410329456652,
          -1.4074872363653521,
          -0.41353126423716985,
          -1.2891804111532066,
          -0.8016211831893039,
          -1.1778852829324677,
          0.8601306959837082,
          -0.7846632368352668,
          0.8951888056616729,
          -0.1209386568012941,
          0.3507332670458818,
          0.40839273692365535,
          1.3923988082070355,
          0.5898704076273781,
          1.4937796385060818,
          0.9554951083022206,
          -0.12453902532811652,
          -1.280101497255287,
          -0.8670228686188641,
          -0.6542483247746392,
          -0.27107332066291734,
          1.7482116014051732,
          1.6179167104189263,
          -0.627179728211577,
          0.7520281731249727,
          -0.5689711239929849
         ]
        },
        {
         "connectgaps": false,
         "fill": "tozeroy",
         "line": {
          "color": "green",
          "dash": "solid",
          "shape": "linear",
          "width": 0.5
         },
         "mode": "lines",
         "name": "Spread",
         "showlegend": false,
         "type": "scatter",
         "x": [
          0,
          1,
          2,
          3,
          4,
          5,
          6,
          7,
          8,
          9,
          10,
          11,
          12,
          13,
          14,
          15,
          16,
          17,
          18,
          19,
          20,
          21,
          22,
          23,
          24,
          25,
          26,
          27,
          28,
          29,
          30,
          31,
          32,
          33,
          34,
          35,
          36,
          37,
          38,
          39,
          40,
          41,
          42,
          43,
          44,
          45,
          46,
          47,
          48,
          49,
          50,
          51,
          52,
          53,
          54,
          55,
          56,
          57,
          58,
          59,
          60,
          61,
          62,
          63,
          64,
          65,
          66,
          67,
          68,
          69,
          70,
          71,
          72,
          73,
          74,
          75,
          76,
          77,
          78,
          79,
          80,
          81,
          82,
          83,
          84,
          85,
          86,
          87,
          88,
          89,
          90,
          91,
          92,
          93,
          94,
          95,
          96,
          97,
          98,
          99
         ],
         "xaxis": "x2",
         "y": [
          1.16170926540231,
          "",
          2.986249978534305,
          "",
          "",
          3.1886894441172537,
          3.1085207385635045,
          "",
          "",
          0.656220440482937,
          "",
          0.7380422798293014,
          "",
          "",
          "",
          0.5022602628101882,
          "",
          "",
          1.1380502783333213,
          "",
          "",
          "",
          "",
          "",
          0.6007726819011899,
          "",
          "",
          2.279892201512283,
          0.5761943334971915,
          0.41675910427745,
          "",
          "",
          "",
          0.63736263085588,
          0.46670186918558376,
          1.0683300053624278,
          "",
          0.3587450103614304,
          0.43903267858842054,
          0.21364076003568977,
          "",
          1.558177141474275,
          3.458554491662473,
          "",
          1.2843817445445378,
          "",
          2.435261097022225,
          0.7857271005642095,
          1.4890298469247671,
          "",
          1.608513508897319,
          1.6890516927232864,
          2.0062002769887273,
          1.4317288973228794,
          1.0782992469197052,
          "",
          "",
          2.108067188667603,
          0.4847374130808818,
          1.3212638348413441,
          "",
          3.184964391190636,
          "",
          2.0838304453460426,
          3.0395410691118845,
          0.933035672570766,
          "",
          "",
          0.5026026758611192,
          0.1419071087832287,
          "",
          0.6417537694877531,
          2.2867026525062544,
          "",
          "",
          0.38360652157706965,
          0.14348430189688965,
          1.858245535024601,
          1.488143180257582,
          1.826275445502647,
          0.43042530224337405,
          1.602527195639527,
          0.26232475553008394,
          "",
          "",
          "",
          "",
          "",
          "",
          "",
          "",
          0.9634899353909112,
          0.5150606873311101,
          0.20170192316665875,
          0.8134562647363462,
          "",
          "",
          2.6782933050611915,
          "",
          0.19498285375118035
         ],
         "yaxis": "y2"
        },
        {
         "connectgaps": false,
         "fill": "tozeroy",
         "line": {
          "color": "red",
          "dash": "solid",
          "shape": "linear",
          "width": 0.5
         },
         "mode": "lines",
         "name": "Spread",
         "showlegend": false,
         "type": "scatter",
         "x": [
          0,
          1,
          2,
          3,
          4,
          5,
          6,
          7,
          8,
          9,
          10,
          11,
          12,
          13,
          14,
          15,
          16,
          17,
          18,
          19,
          20,
          21,
          22,
          23,
          24,
          25,
          26,
          27,
          28,
          29,
          30,
          31,
          32,
          33,
          34,
          35,
          36,
          37,
          38,
          39,
          40,
          41,
          42,
          43,
          44,
          45,
          46,
          47,
          48,
          49,
          50,
          51,
          52,
          53,
          54,
          55,
          56,
          57,
          58,
          59,
          60,
          61,
          62,
          63,
          64,
          65,
          66,
          67,
          68,
          69,
          70,
          71,
          72,
          73,
          74,
          75,
          76,
          77,
          78,
          79,
          80,
          81,
          82,
          83,
          84,
          85,
          86,
          87,
          88,
          89,
          90,
          91,
          92,
          93,
          94,
          95,
          96,
          97,
          98,
          99
         ],
         "xaxis": "x2",
         "y": [
          "",
          -0.2708173103868915,
          "",
          -0.9843199635442761,
          -0.5783962535877881,
          "",
          "",
          -1.1903336414371442,
          -0.7338529810369181,
          "",
          -0.8318825044375326,
          "",
          -0.3007353736214359,
          -0.36568560822736984,
          -0.18928196225635252,
          "",
          -1.8506449358127428,
          -0.7777498487305299,
          "",
          -0.1918195422553144,
          -2.1205306452563057,
          -0.5887350101706815,
          -2.5961151622167606,
          -2.3297665091685436,
          "",
          -2.9411801128818005,
          -1.346308528698278,
          "",
          "",
          "",
          -1.2672382215762212,
          -0.5101042419434945,
          -1.5540767978152856,
          "",
          "",
          "",
          -0.04813940491951487,
          "",
          "",
          "",
          -1.8567842948990267,
          "",
          "",
          -1.1298196437674668,
          "",
          -2.0594658905718006,
          "",
          "",
          "",
          -1.51435519391747,
          "",
          "",
          "",
          "",
          "",
          -1.3981084932715446,
          -1.9878018526954717,
          "",
          "",
          "",
          -0.018762780015208258,
          "",
          -0.5773159731923864,
          "",
          "",
          "",
          -1.0214115458161386,
          -0.6390212742815661,
          "",
          "",
          -2.061552928276826,
          "",
          "",
          -0.8550157254493003,
          -1.8126706644131256,
          "",
          "",
          "",
          "",
          "",
          "",
          "",
          "",
          -1.9775325320006805,
          -2.1269808832114214,
          -1.0832502676239748,
          -1.6108907771951373,
          -1.165240618841909,
          -1.88586549473754,
          -0.2584560152643164,
          -1.3183860214171188,
          "",
          "",
          "",
          "",
          -2.1151315014473187,
          -2.3790470494438987,
          "",
          -1.7118634474933518,
          ""
         ],
         "yaxis": "y2"
        }
       ],
       "layout": {
        "hovermode": "x",
        "legend": {
         "bgcolor": "#F5F6F9",
         "font": {
          "color": "#4D5663"
         }
        },
        "paper_bgcolor": "#F5F6F9",
        "plot_bgcolor": "#F5F6F9",
        "template": {
         "data": {
          "bar": [
           {
            "error_x": {
             "color": "#2a3f5f"
            },
            "error_y": {
             "color": "#2a3f5f"
            },
            "marker": {
             "line": {
              "color": "#E5ECF6",
              "width": 0.5
             }
            },
            "type": "bar"
           }
          ],
          "barpolar": [
           {
            "marker": {
             "line": {
              "color": "#E5ECF6",
              "width": 0.5
             }
            },
            "type": "barpolar"
           }
          ],
          "carpet": [
           {
            "aaxis": {
             "endlinecolor": "#2a3f5f",
             "gridcolor": "white",
             "linecolor": "white",
             "minorgridcolor": "white",
             "startlinecolor": "#2a3f5f"
            },
            "baxis": {
             "endlinecolor": "#2a3f5f",
             "gridcolor": "white",
             "linecolor": "white",
             "minorgridcolor": "white",
             "startlinecolor": "#2a3f5f"
            },
            "type": "carpet"
           }
          ],
          "choropleth": [
           {
            "colorbar": {
             "outlinewidth": 0,
             "ticks": ""
            },
            "type": "choropleth"
           }
          ],
          "contour": [
           {
            "colorbar": {
             "outlinewidth": 0,
             "ticks": ""
            },
            "colorscale": [
             [
              0,
              "#0d0887"
             ],
             [
              0.1111111111111111,
              "#46039f"
             ],
             [
              0.2222222222222222,
              "#7201a8"
             ],
             [
              0.3333333333333333,
              "#9c179e"
             ],
             [
              0.4444444444444444,
              "#bd3786"
             ],
             [
              0.5555555555555556,
              "#d8576b"
             ],
             [
              0.6666666666666666,
              "#ed7953"
             ],
             [
              0.7777777777777778,
              "#fb9f3a"
             ],
             [
              0.8888888888888888,
              "#fdca26"
             ],
             [
              1,
              "#f0f921"
             ]
            ],
            "type": "contour"
           }
          ],
          "contourcarpet": [
           {
            "colorbar": {
             "outlinewidth": 0,
             "ticks": ""
            },
            "type": "contourcarpet"
           }
          ],
          "heatmap": [
           {
            "colorbar": {
             "outlinewidth": 0,
             "ticks": ""
            },
            "colorscale": [
             [
              0,
              "#0d0887"
             ],
             [
              0.1111111111111111,
              "#46039f"
             ],
             [
              0.2222222222222222,
              "#7201a8"
             ],
             [
              0.3333333333333333,
              "#9c179e"
             ],
             [
              0.4444444444444444,
              "#bd3786"
             ],
             [
              0.5555555555555556,
              "#d8576b"
             ],
             [
              0.6666666666666666,
              "#ed7953"
             ],
             [
              0.7777777777777778,
              "#fb9f3a"
             ],
             [
              0.8888888888888888,
              "#fdca26"
             ],
             [
              1,
              "#f0f921"
             ]
            ],
            "type": "heatmap"
           }
          ],
          "heatmapgl": [
           {
            "colorbar": {
             "outlinewidth": 0,
             "ticks": ""
            },
            "colorscale": [
             [
              0,
              "#0d0887"
             ],
             [
              0.1111111111111111,
              "#46039f"
             ],
             [
              0.2222222222222222,
              "#7201a8"
             ],
             [
              0.3333333333333333,
              "#9c179e"
             ],
             [
              0.4444444444444444,
              "#bd3786"
             ],
             [
              0.5555555555555556,
              "#d8576b"
             ],
             [
              0.6666666666666666,
              "#ed7953"
             ],
             [
              0.7777777777777778,
              "#fb9f3a"
             ],
             [
              0.8888888888888888,
              "#fdca26"
             ],
             [
              1,
              "#f0f921"
             ]
            ],
            "type": "heatmapgl"
           }
          ],
          "histogram": [
           {
            "marker": {
             "colorbar": {
              "outlinewidth": 0,
              "ticks": ""
             }
            },
            "type": "histogram"
           }
          ],
          "histogram2d": [
           {
            "colorbar": {
             "outlinewidth": 0,
             "ticks": ""
            },
            "colorscale": [
             [
              0,
              "#0d0887"
             ],
             [
              0.1111111111111111,
              "#46039f"
             ],
             [
              0.2222222222222222,
              "#7201a8"
             ],
             [
              0.3333333333333333,
              "#9c179e"
             ],
             [
              0.4444444444444444,
              "#bd3786"
             ],
             [
              0.5555555555555556,
              "#d8576b"
             ],
             [
              0.6666666666666666,
              "#ed7953"
             ],
             [
              0.7777777777777778,
              "#fb9f3a"
             ],
             [
              0.8888888888888888,
              "#fdca26"
             ],
             [
              1,
              "#f0f921"
             ]
            ],
            "type": "histogram2d"
           }
          ],
          "histogram2dcontour": [
           {
            "colorbar": {
             "outlinewidth": 0,
             "ticks": ""
            },
            "colorscale": [
             [
              0,
              "#0d0887"
             ],
             [
              0.1111111111111111,
              "#46039f"
             ],
             [
              0.2222222222222222,
              "#7201a8"
             ],
             [
              0.3333333333333333,
              "#9c179e"
             ],
             [
              0.4444444444444444,
              "#bd3786"
             ],
             [
              0.5555555555555556,
              "#d8576b"
             ],
             [
              0.6666666666666666,
              "#ed7953"
             ],
             [
              0.7777777777777778,
              "#fb9f3a"
             ],
             [
              0.8888888888888888,
              "#fdca26"
             ],
             [
              1,
              "#f0f921"
             ]
            ],
            "type": "histogram2dcontour"
           }
          ],
          "mesh3d": [
           {
            "colorbar": {
             "outlinewidth": 0,
             "ticks": ""
            },
            "type": "mesh3d"
           }
          ],
          "parcoords": [
           {
            "line": {
             "colorbar": {
              "outlinewidth": 0,
              "ticks": ""
             }
            },
            "type": "parcoords"
           }
          ],
          "pie": [
           {
            "automargin": true,
            "type": "pie"
           }
          ],
          "scatter": [
           {
            "marker": {
             "colorbar": {
              "outlinewidth": 0,
              "ticks": ""
             }
            },
            "type": "scatter"
           }
          ],
          "scatter3d": [
           {
            "line": {
             "colorbar": {
              "outlinewidth": 0,
              "ticks": ""
             }
            },
            "marker": {
             "colorbar": {
              "outlinewidth": 0,
              "ticks": ""
             }
            },
            "type": "scatter3d"
           }
          ],
          "scattercarpet": [
           {
            "marker": {
             "colorbar": {
              "outlinewidth": 0,
              "ticks": ""
             }
            },
            "type": "scattercarpet"
           }
          ],
          "scattergeo": [
           {
            "marker": {
             "colorbar": {
              "outlinewidth": 0,
              "ticks": ""
             }
            },
            "type": "scattergeo"
           }
          ],
          "scattergl": [
           {
            "marker": {
             "colorbar": {
              "outlinewidth": 0,
              "ticks": ""
             }
            },
            "type": "scattergl"
           }
          ],
          "scattermapbox": [
           {
            "marker": {
             "colorbar": {
              "outlinewidth": 0,
              "ticks": ""
             }
            },
            "type": "scattermapbox"
           }
          ],
          "scatterpolar": [
           {
            "marker": {
             "colorbar": {
              "outlinewidth": 0,
              "ticks": ""
             }
            },
            "type": "scatterpolar"
           }
          ],
          "scatterpolargl": [
           {
            "marker": {
             "colorbar": {
              "outlinewidth": 0,
              "ticks": ""
             }
            },
            "type": "scatterpolargl"
           }
          ],
          "scatterternary": [
           {
            "marker": {
             "colorbar": {
              "outlinewidth": 0,
              "ticks": ""
             }
            },
            "type": "scatterternary"
           }
          ],
          "surface": [
           {
            "colorbar": {
             "outlinewidth": 0,
             "ticks": ""
            },
            "colorscale": [
             [
              0,
              "#0d0887"
             ],
             [
              0.1111111111111111,
              "#46039f"
             ],
             [
              0.2222222222222222,
              "#7201a8"
             ],
             [
              0.3333333333333333,
              "#9c179e"
             ],
             [
              0.4444444444444444,
              "#bd3786"
             ],
             [
              0.5555555555555556,
              "#d8576b"
             ],
             [
              0.6666666666666666,
              "#ed7953"
             ],
             [
              0.7777777777777778,
              "#fb9f3a"
             ],
             [
              0.8888888888888888,
              "#fdca26"
             ],
             [
              1,
              "#f0f921"
             ]
            ],
            "type": "surface"
           }
          ],
          "table": [
           {
            "cells": {
             "fill": {
              "color": "#EBF0F8"
             },
             "line": {
              "color": "white"
             }
            },
            "header": {
             "fill": {
              "color": "#C8D4E3"
             },
             "line": {
              "color": "white"
             }
            },
            "type": "table"
           }
          ]
         },
         "layout": {
          "annotationdefaults": {
           "arrowcolor": "#2a3f5f",
           "arrowhead": 0,
           "arrowwidth": 1
          },
          "coloraxis": {
           "colorbar": {
            "outlinewidth": 0,
            "ticks": ""
           }
          },
          "colorscale": {
           "diverging": [
            [
             0,
             "#8e0152"
            ],
            [
             0.1,
             "#c51b7d"
            ],
            [
             0.2,
             "#de77ae"
            ],
            [
             0.3,
             "#f1b6da"
            ],
            [
             0.4,
             "#fde0ef"
            ],
            [
             0.5,
             "#f7f7f7"
            ],
            [
             0.6,
             "#e6f5d0"
            ],
            [
             0.7,
             "#b8e186"
            ],
            [
             0.8,
             "#7fbc41"
            ],
            [
             0.9,
             "#4d9221"
            ],
            [
             1,
             "#276419"
            ]
           ],
           "sequential": [
            [
             0,
             "#0d0887"
            ],
            [
             0.1111111111111111,
             "#46039f"
            ],
            [
             0.2222222222222222,
             "#7201a8"
            ],
            [
             0.3333333333333333,
             "#9c179e"
            ],
            [
             0.4444444444444444,
             "#bd3786"
            ],
            [
             0.5555555555555556,
             "#d8576b"
            ],
            [
             0.6666666666666666,
             "#ed7953"
            ],
            [
             0.7777777777777778,
             "#fb9f3a"
            ],
            [
             0.8888888888888888,
             "#fdca26"
            ],
            [
             1,
             "#f0f921"
            ]
           ],
           "sequentialminus": [
            [
             0,
             "#0d0887"
            ],
            [
             0.1111111111111111,
             "#46039f"
            ],
            [
             0.2222222222222222,
             "#7201a8"
            ],
            [
             0.3333333333333333,
             "#9c179e"
            ],
            [
             0.4444444444444444,
             "#bd3786"
            ],
            [
             0.5555555555555556,
             "#d8576b"
            ],
            [
             0.6666666666666666,
             "#ed7953"
            ],
            [
             0.7777777777777778,
             "#fb9f3a"
            ],
            [
             0.8888888888888888,
             "#fdca26"
            ],
            [
             1,
             "#f0f921"
            ]
           ]
          },
          "colorway": [
           "#636efa",
           "#EF553B",
           "#00cc96",
           "#ab63fa",
           "#FFA15A",
           "#19d3f3",
           "#FF6692",
           "#B6E880",
           "#FF97FF",
           "#FECB52"
          ],
          "font": {
           "color": "#2a3f5f"
          },
          "geo": {
           "bgcolor": "white",
           "lakecolor": "white",
           "landcolor": "#E5ECF6",
           "showlakes": true,
           "showland": true,
           "subunitcolor": "white"
          },
          "hoverlabel": {
           "align": "left"
          },
          "hovermode": "closest",
          "mapbox": {
           "style": "light"
          },
          "paper_bgcolor": "white",
          "plot_bgcolor": "#E5ECF6",
          "polar": {
           "angularaxis": {
            "gridcolor": "white",
            "linecolor": "white",
            "ticks": ""
           },
           "bgcolor": "#E5ECF6",
           "radialaxis": {
            "gridcolor": "white",
            "linecolor": "white",
            "ticks": ""
           }
          },
          "scene": {
           "xaxis": {
            "backgroundcolor": "#E5ECF6",
            "gridcolor": "white",
            "gridwidth": 2,
            "linecolor": "white",
            "showbackground": true,
            "ticks": "",
            "zerolinecolor": "white"
           },
           "yaxis": {
            "backgroundcolor": "#E5ECF6",
            "gridcolor": "white",
            "gridwidth": 2,
            "linecolor": "white",
            "showbackground": true,
            "ticks": "",
            "zerolinecolor": "white"
           },
           "zaxis": {
            "backgroundcolor": "#E5ECF6",
            "gridcolor": "white",
            "gridwidth": 2,
            "linecolor": "white",
            "showbackground": true,
            "ticks": "",
            "zerolinecolor": "white"
           }
          },
          "shapedefaults": {
           "line": {
            "color": "#2a3f5f"
           }
          },
          "ternary": {
           "aaxis": {
            "gridcolor": "white",
            "linecolor": "white",
            "ticks": ""
           },
           "baxis": {
            "gridcolor": "white",
            "linecolor": "white",
            "ticks": ""
           },
           "bgcolor": "#E5ECF6",
           "caxis": {
            "gridcolor": "white",
            "linecolor": "white",
            "ticks": ""
           }
          },
          "title": {
           "x": 0.05
          },
          "xaxis": {
           "automargin": true,
           "gridcolor": "white",
           "linecolor": "white",
           "ticks": "",
           "title": {
            "standoff": 15
           },
           "zerolinecolor": "white",
           "zerolinewidth": 2
          },
          "yaxis": {
           "automargin": true,
           "gridcolor": "white",
           "linecolor": "white",
           "ticks": "",
           "title": {
            "standoff": 15
           },
           "zerolinecolor": "white",
           "zerolinewidth": 2
          }
         }
        },
        "title": {
         "font": {
          "color": "#4D5663"
         }
        },
        "xaxis": {
         "gridcolor": "#E1E5ED",
         "showgrid": true,
         "tickfont": {
          "color": "#4D5663"
         },
         "title": {
          "font": {
           "color": "#4D5663"
          },
          "text": ""
         },
         "zerolinecolor": "#E1E5ED"
        },
        "xaxis2": {
         "anchor": "y2",
         "gridcolor": "#E1E5ED",
         "showgrid": true,
         "showticklabels": false,
         "tickfont": {
          "color": "#4D5663"
         },
         "title": {
          "font": {
           "color": "#4D5663"
          },
          "text": ""
         },
         "zerolinecolor": "#E1E5ED"
        },
        "yaxis": {
         "domain": [
          0.3,
          1
         ],
         "gridcolor": "#E1E5ED",
         "showgrid": true,
         "tickfont": {
          "color": "#4D5663"
         },
         "title": {
          "font": {
           "color": "#4D5663"
          },
          "text": ""
         },
         "zerolinecolor": "#E1E5ED"
        },
        "yaxis2": {
         "domain": [
          0,
          0.25
         ],
         "gridcolor": "#E1E5ED",
         "showgrid": true,
         "tickfont": {
          "color": "#4D5663"
         },
         "title": {
          "font": {
           "color": "#4D5663"
          },
          "text": "Spread"
         },
         "zerolinecolor": "#E1E5ED"
        }
       }
      },
      "text/html": [
       "<div>\n",
       "        \n",
       "        \n",
       "            <div id=\"20b20ee1-5367-4457-8c99-7a70f5ee03fe\" class=\"plotly-graph-div\" style=\"height:525px; width:100%;\"></div>\n",
       "            <script type=\"text/javascript\">\n",
       "                require([\"plotly\"], function(Plotly) {\n",
       "                    window.PLOTLYENV=window.PLOTLYENV || {};\n",
       "                    window.PLOTLYENV.BASE_URL='https://plot.ly';\n",
       "                    \n",
       "                if (document.getElementById(\"20b20ee1-5367-4457-8c99-7a70f5ee03fe\")) {\n",
       "                    Plotly.newPlot(\n",
       "                        '20b20ee1-5367-4457-8c99-7a70f5ee03fe',\n",
       "                        [{\"line\": {\"color\": \"rgba(255, 153, 51, 1.0)\", \"dash\": \"solid\", \"shape\": \"linear\", \"width\": 1.3}, \"mode\": \"lines\", \"name\": \"A\", \"text\": \"\", \"type\": \"scatter\", \"x\": [0, 1, 2, 3, 4, 5, 6, 7, 8, 9, 10, 11, 12, 13, 14, 15, 16, 17, 18, 19, 20, 21, 22, 23, 24, 25, 26, 27, 28, 29, 30, 31, 32, 33, 34, 35, 36, 37, 38, 39, 40, 41, 42, 43, 44, 45, 46, 47, 48, 49, 50, 51, 52, 53, 54, 55, 56, 57, 58, 59, 60, 61, 62, 63, 64, 65, 66, 67, 68, 69, 70, 71, 72, 73, 74, 75, 76, 77, 78, 79, 80, 81, 82, 83, 84, 85, 86, 87, 88, 89, 90, 91, 92, 93, 94, 95, 96, 97, 98, 99], \"y\": [-0.3528362464153668, -0.284490578588392, 2.203326375137168, 1.1914906229339413, -0.5643907599811814, 2.7798718153014357, 1.1392230478947218, -0.3969084492198873, -0.8431354506721372, -1.2113706937321673, -1.1232328854452367, 0.4518665654795515, 0.15108658835894914, -1.7197708096350655, -0.07078563077906978, -0.980891266191066, -2.0065915820068994, 0.04405074044947059, -0.1816391125056839, 0.7598049797859753, -1.096012407090366, -1.4973956161707278, -2.2293808754538005, -0.15494190096890462, -0.8404676595449304, -1.5864444840611043, -1.271828143859151, 0.233536485699503, 0.32955043668175693, 1.1595295612279588, -0.5278554404367857, -0.16303045205008881, -1.7674739515583324, 0.33892658874933296, 0.19685617323938542, 0.33023853338745474, 0.03730643652616613, 0.32496894629056994, 0.23244779523287074, -0.01842197648227652, -1.1672830340101563, -0.40440266128609065, 2.07759282848088, 0.14020699314040225, 0.11670666187449041, -1.3759216802724983, 2.3270704249878746, 0.3972406311737788, 0.17442023752997537, -0.2800525759529055, 0.4506210148099999, 2.6202326404140677, 1.0653150560571336, 1.7095140209602646, 0.7990198343521421, -0.8281912607199876, -0.806280334150687, 1.6979095908090678, -0.8672712204039527, 1.1005741543620384, -0.6546095261109552, 0.9048167986183359, -0.7100506115690377, 0.648084430407177, 0.9447881732500704, -0.4713552039565896, 0.21402616654041448, -0.935151045365892, 1.2150495379117552, -0.43140919672950967, -1.1891048756132958, 0.9847206464209383, 0.40945681494002684, -0.8066269723088334, -0.6687296314674605, -1.0238807147882825, -0.2700469623402802, 0.5690651238713944, 0.6865219970682781, 0.6483901625701793, 1.2905559982270822, 0.8178639588042602, 1.1575135611917569, -2.0984711888019745, -1.7762476161655396, -0.6748575307003194, -0.21849196898810175, -0.5753702112145309, -0.3920858562314582, 0.6970390930379042, -1.4429250467452353, -0.3166115618643759, -0.3519621812877541, -0.4525464016079805, 0.5423829440734289, -0.36691990004214553, -0.7611303390249726, 2.0511135768496143, -0.9598352743683791, -0.37398827024180453]}, {\"line\": {\"color\": \"rgba(55, 128, 191, 1.0)\", \"dash\": \"solid\", \"shape\": \"linear\", \"width\": 1.3}, \"mode\": \"lines\", \"name\": \"B\", \"text\": \"\", \"type\": \"scatter\", \"x\": [0, 1, 2, 3, 4, 5, 6, 7, 8, 9, 10, 11, 12, 13, 14, 15, 16, 17, 18, 19, 20, 21, 22, 23, 24, 25, 26, 27, 28, 29, 30, 31, 32, 33, 34, 35, 36, 37, 38, 39, 40, 41, 42, 43, 44, 45, 46, 47, 48, 49, 50, 51, 52, 53, 54, 55, 56, 57, 58, 59, 60, 61, 62, 63, 64, 65, 66, 67, 68, 69, 70, 71, 72, 73, 74, 75, 76, 77, 78, 79, 80, 81, 82, 83, 84, 85, 86, 87, 88, 89, 90, 91, 92, 93, 94, 95, 96, 97, 98, 99], \"y\": [-1.5145455118176767, -0.01367326820150052, -0.7829236033971367, 2.1758105864782173, 0.014005493606606743, -0.408817628815818, -1.9692976906687827, 0.7934251922172569, -0.10928246963521912, -1.8675911342151044, -0.291350381007704, -0.2861757143497499, 0.45182196198038505, -1.3540852014076956, 0.11849633147728272, -1.4831515290012542, -0.15594664619415652, 0.8218005891800004, -1.3196893908390053, 0.9516245220412897, 1.0245182381659395, -0.9086606060000463, 0.3667342867629603, 2.1748246081996387, -1.4412403414461203, 1.3547356288206962, 0.07448038483912717, -2.0463557158127803, -0.2466438968154346, 0.7427704569505088, 0.7393827811394357, 0.3470737898934057, -0.21339715374304669, -0.29843604210654695, -0.26984569594619834, -0.7380914719749732, 0.085445841445681, -0.03377606407086046, -0.20658488335554978, -0.2320627365179663, 0.6895012608888704, -1.9625798027603658, -1.3809616631815926, 1.270026636907869, -1.1676750826700475, 0.6835442102993022, -0.10819067203435048, -0.38848646939043074, -1.3146096093947917, 1.2343026179645644, -1.1578924940873192, 0.9311809476907813, -0.9408852209315937, 0.2777851236373851, -0.2792794125675632, 0.5699172325515569, 1.1815215185447847, -0.4101575978585351, -1.3520086334848345, -0.2206896804793058, -0.635846746095747, -2.2801475925723, -0.13273463837665134, -1.4357460149388654, -2.0947528958618142, -1.4043908765273556, 1.235437712356553, -0.2961297710843259, 0.712446862050636, -0.5733163055127384, 0.8724480526635303, 0.34296687693318517, -1.8772458375662273, 0.04838875314046682, 1.1439410329456652, -1.4074872363653521, -0.41353126423716985, -1.2891804111532066, -0.8016211831893039, -1.1778852829324677, 0.8601306959837082, -0.7846632368352668, 0.8951888056616729, -0.1209386568012941, 0.3507332670458818, 0.40839273692365535, 1.3923988082070355, 0.5898704076273781, 1.4937796385060818, 0.9554951083022206, -0.12453902532811652, -1.280101497255287, -0.8670228686188641, -0.6542483247746392, -0.27107332066291734, 1.7482116014051732, 1.6179167104189263, -0.627179728211577, 0.7520281731249727, -0.5689711239929849]}, {\"connectgaps\": false, \"fill\": \"tozeroy\", \"line\": {\"color\": \"green\", \"dash\": \"solid\", \"shape\": \"linear\", \"width\": 0.5}, \"mode\": \"lines\", \"name\": \"Spread\", \"showlegend\": false, \"type\": \"scatter\", \"x\": [0, 1, 2, 3, 4, 5, 6, 7, 8, 9, 10, 11, 12, 13, 14, 15, 16, 17, 18, 19, 20, 21, 22, 23, 24, 25, 26, 27, 28, 29, 30, 31, 32, 33, 34, 35, 36, 37, 38, 39, 40, 41, 42, 43, 44, 45, 46, 47, 48, 49, 50, 51, 52, 53, 54, 55, 56, 57, 58, 59, 60, 61, 62, 63, 64, 65, 66, 67, 68, 69, 70, 71, 72, 73, 74, 75, 76, 77, 78, 79, 80, 81, 82, 83, 84, 85, 86, 87, 88, 89, 90, 91, 92, 93, 94, 95, 96, 97, 98, 99], \"xaxis\": \"x2\", \"y\": [1.16170926540231, \"\", 2.986249978534305, \"\", \"\", 3.1886894441172537, 3.1085207385635045, \"\", \"\", 0.656220440482937, \"\", 0.7380422798293014, \"\", \"\", \"\", 0.5022602628101882, \"\", \"\", 1.1380502783333213, \"\", \"\", \"\", \"\", \"\", 0.6007726819011899, \"\", \"\", 2.279892201512283, 0.5761943334971915, 0.41675910427745, \"\", \"\", \"\", 0.63736263085588, 0.46670186918558376, 1.0683300053624278, \"\", 0.3587450103614304, 0.43903267858842054, 0.21364076003568977, \"\", 1.558177141474275, 3.458554491662473, \"\", 1.2843817445445378, \"\", 2.435261097022225, 0.7857271005642095, 1.4890298469247671, \"\", 1.608513508897319, 1.6890516927232864, 2.0062002769887273, 1.4317288973228794, 1.0782992469197052, \"\", \"\", 2.108067188667603, 0.4847374130808818, 1.3212638348413441, \"\", 3.184964391190636, \"\", 2.0838304453460426, 3.0395410691118845, 0.933035672570766, \"\", \"\", 0.5026026758611192, 0.1419071087832287, \"\", 0.6417537694877531, 2.2867026525062544, \"\", \"\", 0.38360652157706965, 0.14348430189688965, 1.858245535024601, 1.488143180257582, 1.826275445502647, 0.43042530224337405, 1.602527195639527, 0.26232475553008394, \"\", \"\", \"\", \"\", \"\", \"\", \"\", \"\", 0.9634899353909112, 0.5150606873311101, 0.20170192316665875, 0.8134562647363462, \"\", \"\", 2.6782933050611915, \"\", 0.19498285375118035], \"yaxis\": \"y2\"}, {\"connectgaps\": false, \"fill\": \"tozeroy\", \"line\": {\"color\": \"red\", \"dash\": \"solid\", \"shape\": \"linear\", \"width\": 0.5}, \"mode\": \"lines\", \"name\": \"Spread\", \"showlegend\": false, \"type\": \"scatter\", \"x\": [0, 1, 2, 3, 4, 5, 6, 7, 8, 9, 10, 11, 12, 13, 14, 15, 16, 17, 18, 19, 20, 21, 22, 23, 24, 25, 26, 27, 28, 29, 30, 31, 32, 33, 34, 35, 36, 37, 38, 39, 40, 41, 42, 43, 44, 45, 46, 47, 48, 49, 50, 51, 52, 53, 54, 55, 56, 57, 58, 59, 60, 61, 62, 63, 64, 65, 66, 67, 68, 69, 70, 71, 72, 73, 74, 75, 76, 77, 78, 79, 80, 81, 82, 83, 84, 85, 86, 87, 88, 89, 90, 91, 92, 93, 94, 95, 96, 97, 98, 99], \"xaxis\": \"x2\", \"y\": [\"\", -0.2708173103868915, \"\", -0.9843199635442761, -0.5783962535877881, \"\", \"\", -1.1903336414371442, -0.7338529810369181, \"\", -0.8318825044375326, \"\", -0.3007353736214359, -0.36568560822736984, -0.18928196225635252, \"\", -1.8506449358127428, -0.7777498487305299, \"\", -0.1918195422553144, -2.1205306452563057, -0.5887350101706815, -2.5961151622167606, -2.3297665091685436, \"\", -2.9411801128818005, -1.346308528698278, \"\", \"\", \"\", -1.2672382215762212, -0.5101042419434945, -1.5540767978152856, \"\", \"\", \"\", -0.04813940491951487, \"\", \"\", \"\", -1.8567842948990267, \"\", \"\", -1.1298196437674668, \"\", -2.0594658905718006, \"\", \"\", \"\", -1.51435519391747, \"\", \"\", \"\", \"\", \"\", -1.3981084932715446, -1.9878018526954717, \"\", \"\", \"\", -0.018762780015208258, \"\", -0.5773159731923864, \"\", \"\", \"\", -1.0214115458161386, -0.6390212742815661, \"\", \"\", -2.061552928276826, \"\", \"\", -0.8550157254493003, -1.8126706644131256, \"\", \"\", \"\", \"\", \"\", \"\", \"\", \"\", -1.9775325320006805, -2.1269808832114214, -1.0832502676239748, -1.6108907771951373, -1.165240618841909, -1.88586549473754, -0.2584560152643164, -1.3183860214171188, \"\", \"\", \"\", \"\", -2.1151315014473187, -2.3790470494438987, \"\", -1.7118634474933518, \"\"], \"yaxis\": \"y2\"}],\n",
       "                        {\"hovermode\": \"x\", \"legend\": {\"bgcolor\": \"#F5F6F9\", \"font\": {\"color\": \"#4D5663\"}}, \"paper_bgcolor\": \"#F5F6F9\", \"plot_bgcolor\": \"#F5F6F9\", \"template\": {\"data\": {\"bar\": [{\"error_x\": {\"color\": \"#2a3f5f\"}, \"error_y\": {\"color\": \"#2a3f5f\"}, \"marker\": {\"line\": {\"color\": \"#E5ECF6\", \"width\": 0.5}}, \"type\": \"bar\"}], \"barpolar\": [{\"marker\": {\"line\": {\"color\": \"#E5ECF6\", \"width\": 0.5}}, \"type\": \"barpolar\"}], \"carpet\": [{\"aaxis\": {\"endlinecolor\": \"#2a3f5f\", \"gridcolor\": \"white\", \"linecolor\": \"white\", \"minorgridcolor\": \"white\", \"startlinecolor\": \"#2a3f5f\"}, \"baxis\": {\"endlinecolor\": \"#2a3f5f\", \"gridcolor\": \"white\", \"linecolor\": \"white\", \"minorgridcolor\": \"white\", \"startlinecolor\": \"#2a3f5f\"}, \"type\": \"carpet\"}], \"choropleth\": [{\"colorbar\": {\"outlinewidth\": 0, \"ticks\": \"\"}, \"type\": \"choropleth\"}], \"contour\": [{\"colorbar\": {\"outlinewidth\": 0, \"ticks\": \"\"}, \"colorscale\": [[0.0, \"#0d0887\"], [0.1111111111111111, \"#46039f\"], [0.2222222222222222, \"#7201a8\"], [0.3333333333333333, \"#9c179e\"], [0.4444444444444444, \"#bd3786\"], [0.5555555555555556, \"#d8576b\"], [0.6666666666666666, \"#ed7953\"], [0.7777777777777778, \"#fb9f3a\"], [0.8888888888888888, \"#fdca26\"], [1.0, \"#f0f921\"]], \"type\": \"contour\"}], \"contourcarpet\": [{\"colorbar\": {\"outlinewidth\": 0, \"ticks\": \"\"}, \"type\": \"contourcarpet\"}], \"heatmap\": [{\"colorbar\": {\"outlinewidth\": 0, \"ticks\": \"\"}, \"colorscale\": [[0.0, \"#0d0887\"], [0.1111111111111111, \"#46039f\"], [0.2222222222222222, \"#7201a8\"], [0.3333333333333333, \"#9c179e\"], [0.4444444444444444, \"#bd3786\"], [0.5555555555555556, \"#d8576b\"], [0.6666666666666666, \"#ed7953\"], [0.7777777777777778, \"#fb9f3a\"], [0.8888888888888888, \"#fdca26\"], [1.0, \"#f0f921\"]], \"type\": \"heatmap\"}], \"heatmapgl\": [{\"colorbar\": {\"outlinewidth\": 0, \"ticks\": \"\"}, \"colorscale\": [[0.0, \"#0d0887\"], [0.1111111111111111, \"#46039f\"], [0.2222222222222222, \"#7201a8\"], [0.3333333333333333, \"#9c179e\"], [0.4444444444444444, \"#bd3786\"], [0.5555555555555556, \"#d8576b\"], [0.6666666666666666, \"#ed7953\"], [0.7777777777777778, \"#fb9f3a\"], [0.8888888888888888, \"#fdca26\"], [1.0, \"#f0f921\"]], \"type\": \"heatmapgl\"}], \"histogram\": [{\"marker\": {\"colorbar\": {\"outlinewidth\": 0, \"ticks\": \"\"}}, \"type\": \"histogram\"}], \"histogram2d\": [{\"colorbar\": {\"outlinewidth\": 0, \"ticks\": \"\"}, \"colorscale\": [[0.0, \"#0d0887\"], [0.1111111111111111, \"#46039f\"], [0.2222222222222222, \"#7201a8\"], [0.3333333333333333, \"#9c179e\"], [0.4444444444444444, \"#bd3786\"], [0.5555555555555556, \"#d8576b\"], [0.6666666666666666, \"#ed7953\"], [0.7777777777777778, \"#fb9f3a\"], [0.8888888888888888, \"#fdca26\"], [1.0, \"#f0f921\"]], \"type\": \"histogram2d\"}], \"histogram2dcontour\": [{\"colorbar\": {\"outlinewidth\": 0, \"ticks\": \"\"}, \"colorscale\": [[0.0, \"#0d0887\"], [0.1111111111111111, \"#46039f\"], [0.2222222222222222, \"#7201a8\"], [0.3333333333333333, \"#9c179e\"], [0.4444444444444444, \"#bd3786\"], [0.5555555555555556, \"#d8576b\"], [0.6666666666666666, \"#ed7953\"], [0.7777777777777778, \"#fb9f3a\"], [0.8888888888888888, \"#fdca26\"], [1.0, \"#f0f921\"]], \"type\": \"histogram2dcontour\"}], \"mesh3d\": [{\"colorbar\": {\"outlinewidth\": 0, \"ticks\": \"\"}, \"type\": \"mesh3d\"}], \"parcoords\": [{\"line\": {\"colorbar\": {\"outlinewidth\": 0, \"ticks\": \"\"}}, \"type\": \"parcoords\"}], \"pie\": [{\"automargin\": true, \"type\": \"pie\"}], \"scatter\": [{\"marker\": {\"colorbar\": {\"outlinewidth\": 0, \"ticks\": \"\"}}, \"type\": \"scatter\"}], \"scatter3d\": [{\"line\": {\"colorbar\": {\"outlinewidth\": 0, \"ticks\": \"\"}}, \"marker\": {\"colorbar\": {\"outlinewidth\": 0, \"ticks\": \"\"}}, \"type\": \"scatter3d\"}], \"scattercarpet\": [{\"marker\": {\"colorbar\": {\"outlinewidth\": 0, \"ticks\": \"\"}}, \"type\": \"scattercarpet\"}], \"scattergeo\": [{\"marker\": {\"colorbar\": {\"outlinewidth\": 0, \"ticks\": \"\"}}, \"type\": \"scattergeo\"}], \"scattergl\": [{\"marker\": {\"colorbar\": {\"outlinewidth\": 0, \"ticks\": \"\"}}, \"type\": \"scattergl\"}], \"scattermapbox\": [{\"marker\": {\"colorbar\": {\"outlinewidth\": 0, \"ticks\": \"\"}}, \"type\": \"scattermapbox\"}], \"scatterpolar\": [{\"marker\": {\"colorbar\": {\"outlinewidth\": 0, \"ticks\": \"\"}}, \"type\": \"scatterpolar\"}], \"scatterpolargl\": [{\"marker\": {\"colorbar\": {\"outlinewidth\": 0, \"ticks\": \"\"}}, \"type\": \"scatterpolargl\"}], \"scatterternary\": [{\"marker\": {\"colorbar\": {\"outlinewidth\": 0, \"ticks\": \"\"}}, \"type\": \"scatterternary\"}], \"surface\": [{\"colorbar\": {\"outlinewidth\": 0, \"ticks\": \"\"}, \"colorscale\": [[0.0, \"#0d0887\"], [0.1111111111111111, \"#46039f\"], [0.2222222222222222, \"#7201a8\"], [0.3333333333333333, \"#9c179e\"], [0.4444444444444444, \"#bd3786\"], [0.5555555555555556, \"#d8576b\"], [0.6666666666666666, \"#ed7953\"], [0.7777777777777778, \"#fb9f3a\"], [0.8888888888888888, \"#fdca26\"], [1.0, \"#f0f921\"]], \"type\": \"surface\"}], \"table\": [{\"cells\": {\"fill\": {\"color\": \"#EBF0F8\"}, \"line\": {\"color\": \"white\"}}, \"header\": {\"fill\": {\"color\": \"#C8D4E3\"}, \"line\": {\"color\": \"white\"}}, \"type\": \"table\"}]}, \"layout\": {\"annotationdefaults\": {\"arrowcolor\": \"#2a3f5f\", \"arrowhead\": 0, \"arrowwidth\": 1}, \"coloraxis\": {\"colorbar\": {\"outlinewidth\": 0, \"ticks\": \"\"}}, \"colorscale\": {\"diverging\": [[0, \"#8e0152\"], [0.1, \"#c51b7d\"], [0.2, \"#de77ae\"], [0.3, \"#f1b6da\"], [0.4, \"#fde0ef\"], [0.5, \"#f7f7f7\"], [0.6, \"#e6f5d0\"], [0.7, \"#b8e186\"], [0.8, \"#7fbc41\"], [0.9, \"#4d9221\"], [1, \"#276419\"]], \"sequential\": [[0.0, \"#0d0887\"], [0.1111111111111111, \"#46039f\"], [0.2222222222222222, \"#7201a8\"], [0.3333333333333333, \"#9c179e\"], [0.4444444444444444, \"#bd3786\"], [0.5555555555555556, \"#d8576b\"], [0.6666666666666666, \"#ed7953\"], [0.7777777777777778, \"#fb9f3a\"], [0.8888888888888888, \"#fdca26\"], [1.0, \"#f0f921\"]], \"sequentialminus\": [[0.0, \"#0d0887\"], [0.1111111111111111, \"#46039f\"], [0.2222222222222222, \"#7201a8\"], [0.3333333333333333, \"#9c179e\"], [0.4444444444444444, \"#bd3786\"], [0.5555555555555556, \"#d8576b\"], [0.6666666666666666, \"#ed7953\"], [0.7777777777777778, \"#fb9f3a\"], [0.8888888888888888, \"#fdca26\"], [1.0, \"#f0f921\"]]}, \"colorway\": [\"#636efa\", \"#EF553B\", \"#00cc96\", \"#ab63fa\", \"#FFA15A\", \"#19d3f3\", \"#FF6692\", \"#B6E880\", \"#FF97FF\", \"#FECB52\"], \"font\": {\"color\": \"#2a3f5f\"}, \"geo\": {\"bgcolor\": \"white\", \"lakecolor\": \"white\", \"landcolor\": \"#E5ECF6\", \"showlakes\": true, \"showland\": true, \"subunitcolor\": \"white\"}, \"hoverlabel\": {\"align\": \"left\"}, \"hovermode\": \"closest\", \"mapbox\": {\"style\": \"light\"}, \"paper_bgcolor\": \"white\", \"plot_bgcolor\": \"#E5ECF6\", \"polar\": {\"angularaxis\": {\"gridcolor\": \"white\", \"linecolor\": \"white\", \"ticks\": \"\"}, \"bgcolor\": \"#E5ECF6\", \"radialaxis\": {\"gridcolor\": \"white\", \"linecolor\": \"white\", \"ticks\": \"\"}}, \"scene\": {\"xaxis\": {\"backgroundcolor\": \"#E5ECF6\", \"gridcolor\": \"white\", \"gridwidth\": 2, \"linecolor\": \"white\", \"showbackground\": true, \"ticks\": \"\", \"zerolinecolor\": \"white\"}, \"yaxis\": {\"backgroundcolor\": \"#E5ECF6\", \"gridcolor\": \"white\", \"gridwidth\": 2, \"linecolor\": \"white\", \"showbackground\": true, \"ticks\": \"\", \"zerolinecolor\": \"white\"}, \"zaxis\": {\"backgroundcolor\": \"#E5ECF6\", \"gridcolor\": \"white\", \"gridwidth\": 2, \"linecolor\": \"white\", \"showbackground\": true, \"ticks\": \"\", \"zerolinecolor\": \"white\"}}, \"shapedefaults\": {\"line\": {\"color\": \"#2a3f5f\"}}, \"ternary\": {\"aaxis\": {\"gridcolor\": \"white\", \"linecolor\": \"white\", \"ticks\": \"\"}, \"baxis\": {\"gridcolor\": \"white\", \"linecolor\": \"white\", \"ticks\": \"\"}, \"bgcolor\": \"#E5ECF6\", \"caxis\": {\"gridcolor\": \"white\", \"linecolor\": \"white\", \"ticks\": \"\"}}, \"title\": {\"x\": 0.05}, \"xaxis\": {\"automargin\": true, \"gridcolor\": \"white\", \"linecolor\": \"white\", \"ticks\": \"\", \"title\": {\"standoff\": 15}, \"zerolinecolor\": \"white\", \"zerolinewidth\": 2}, \"yaxis\": {\"automargin\": true, \"gridcolor\": \"white\", \"linecolor\": \"white\", \"ticks\": \"\", \"title\": {\"standoff\": 15}, \"zerolinecolor\": \"white\", \"zerolinewidth\": 2}}}, \"title\": {\"font\": {\"color\": \"#4D5663\"}}, \"xaxis\": {\"gridcolor\": \"#E1E5ED\", \"showgrid\": true, \"tickfont\": {\"color\": \"#4D5663\"}, \"title\": {\"font\": {\"color\": \"#4D5663\"}, \"text\": \"\"}, \"zerolinecolor\": \"#E1E5ED\"}, \"xaxis2\": {\"anchor\": \"y2\", \"gridcolor\": \"#E1E5ED\", \"showgrid\": true, \"showticklabels\": false, \"tickfont\": {\"color\": \"#4D5663\"}, \"title\": {\"font\": {\"color\": \"#4D5663\"}, \"text\": \"\"}, \"zerolinecolor\": \"#E1E5ED\"}, \"yaxis\": {\"domain\": [0.3, 1], \"gridcolor\": \"#E1E5ED\", \"showgrid\": true, \"tickfont\": {\"color\": \"#4D5663\"}, \"title\": {\"font\": {\"color\": \"#4D5663\"}, \"text\": \"\"}, \"zerolinecolor\": \"#E1E5ED\"}, \"yaxis2\": {\"domain\": [0, 0.25], \"gridcolor\": \"#E1E5ED\", \"showgrid\": true, \"tickfont\": {\"color\": \"#4D5663\"}, \"title\": {\"font\": {\"color\": \"#4D5663\"}, \"text\": \"Spread\"}, \"zerolinecolor\": \"#E1E5ED\"}},\n",
       "                        {\"showLink\": true, \"linkText\": \"Export to plot.ly\", \"plotlyServerURL\": \"https://plot.ly\", \"responsive\": true}\n",
       "                    ).then(function(){\n",
       "                            \n",
       "var gd = document.getElementById('20b20ee1-5367-4457-8c99-7a70f5ee03fe');\n",
       "var x = new MutationObserver(function (mutations, observer) {{\n",
       "        var display = window.getComputedStyle(gd).display;\n",
       "        if (!display || display === 'none') {{\n",
       "            console.log([gd, 'removed!']);\n",
       "            Plotly.purge(gd);\n",
       "            observer.disconnect();\n",
       "        }}\n",
       "}});\n",
       "\n",
       "// Listen for the removal of the full notebook cells\n",
       "var notebookContainer = gd.closest('#notebook-container');\n",
       "if (notebookContainer) {{\n",
       "    x.observe(notebookContainer, {childList: true});\n",
       "}}\n",
       "\n",
       "// Listen for the clearing of the current output cell\n",
       "var outputEl = gd.closest('.output');\n",
       "if (outputEl) {{\n",
       "    x.observe(outputEl, {childList: true});\n",
       "}}\n",
       "\n",
       "                        })\n",
       "                };\n",
       "                });\n",
       "            </script>\n",
       "        </div>"
      ]
     },
     "metadata": {},
     "output_type": "display_data"
    }
   ],
   "source": [
    "# for stocks we use spread\n",
    "df[['A','B']].iplot(kind='spread')"
   ]
  },
  {
   "cell_type": "code",
   "execution_count": 33,
   "metadata": {},
   "outputs": [
    {
     "data": {
      "application/vnd.plotly.v1+json": {
       "config": {
        "linkText": "Export to plot.ly",
        "plotlyServerURL": "https://plot.ly",
        "showLink": true
       },
       "data": [
        {
         "marker": {
          "color": [
           "rgb(255, 153, 51)",
           "rgb(55, 128, 191)",
           "rgb(50, 171, 96)",
           "rgb(128, 0, 128)",
           "rgb(219, 64, 82)",
           "rgb(0, 128, 128)",
           "rgb(255, 255, 51)",
           "rgb(128, 128, 0)",
           "rgb(251, 128, 114)",
           "rgb(128, 177, 211)"
          ],
          "line": {
           "width": 1.3
          },
          "size": [
           21,
           85,
           83,
           12,
           70,
           57,
           58,
           93,
           61,
           92,
           93,
           71,
           65,
           61,
           58,
           61,
           87,
           57,
           37,
           97,
           55,
           74,
           47,
           59,
           40,
           61,
           90,
           72,
           76,
           75,
           65,
           97,
           80,
           70,
           69,
           66,
           69,
           17,
           68,
           76,
           98,
           29,
           60,
           112,
           85,
           81,
           72,
           72,
           42,
           56,
           78,
           74,
           73,
           85,
           41,
           91,
           94,
           103,
           44,
           97,
           96,
           78,
           74,
           58,
           75,
           70,
           45,
           53,
           68,
           69,
           72,
           94,
           68,
           98,
           58,
           52,
           61,
           90,
           53,
           92,
           99,
           85,
           75,
           54,
           65,
           82,
           82,
           84,
           80,
           63,
           60,
           62,
           49,
           73,
           90,
           70,
           92,
           43,
           68,
           32
          ],
          "symbol": "circle"
         },
         "mode": "markers",
         "text": "",
         "type": "scatter",
         "x": [
          -0.3528362464153668,
          -0.284490578588392,
          2.203326375137168,
          1.1914906229339413,
          -0.5643907599811814,
          2.7798718153014357,
          1.1392230478947218,
          -0.3969084492198873,
          -0.8431354506721372,
          -1.2113706937321673,
          -1.1232328854452367,
          0.4518665654795515,
          0.15108658835894914,
          -1.7197708096350655,
          -0.07078563077906978,
          -0.980891266191066,
          -2.0065915820068994,
          0.04405074044947059,
          -0.1816391125056839,
          0.7598049797859753,
          -1.096012407090366,
          -1.4973956161707278,
          -2.2293808754538005,
          -0.15494190096890462,
          -0.8404676595449304,
          -1.5864444840611043,
          -1.271828143859151,
          0.233536485699503,
          0.32955043668175693,
          1.1595295612279588,
          -0.5278554404367857,
          -0.16303045205008881,
          -1.7674739515583324,
          0.33892658874933296,
          0.19685617323938542,
          0.33023853338745474,
          0.03730643652616613,
          0.32496894629056994,
          0.23244779523287074,
          -0.01842197648227652,
          -1.1672830340101563,
          -0.40440266128609065,
          2.07759282848088,
          0.14020699314040225,
          0.11670666187449041,
          -1.3759216802724983,
          2.3270704249878746,
          0.3972406311737788,
          0.17442023752997537,
          -0.2800525759529055,
          0.4506210148099999,
          2.6202326404140677,
          1.0653150560571336,
          1.7095140209602646,
          0.7990198343521421,
          -0.8281912607199876,
          -0.806280334150687,
          1.6979095908090678,
          -0.8672712204039527,
          1.1005741543620384,
          -0.6546095261109552,
          0.9048167986183359,
          -0.7100506115690377,
          0.648084430407177,
          0.9447881732500704,
          -0.4713552039565896,
          0.21402616654041448,
          -0.935151045365892,
          1.2150495379117552,
          -0.43140919672950967,
          -1.1891048756132958,
          0.9847206464209383,
          0.40945681494002684,
          -0.8066269723088334,
          -0.6687296314674605,
          -1.0238807147882825,
          -0.2700469623402802,
          0.5690651238713944,
          0.6865219970682781,
          0.6483901625701793,
          1.2905559982270822,
          0.8178639588042602,
          1.1575135611917569,
          -2.0984711888019745,
          -1.7762476161655396,
          -0.6748575307003194,
          -0.21849196898810175,
          -0.5753702112145309,
          -0.3920858562314582,
          0.6970390930379042,
          -1.4429250467452353,
          -0.3166115618643759,
          -0.3519621812877541,
          -0.4525464016079805,
          0.5423829440734289,
          -0.36691990004214553,
          -0.7611303390249726,
          2.0511135768496143,
          -0.9598352743683791,
          -0.37398827024180453
         ],
         "y": [
          -1.5145455118176767,
          -0.01367326820150052,
          -0.7829236033971367,
          2.1758105864782173,
          0.014005493606606743,
          -0.408817628815818,
          -1.9692976906687827,
          0.7934251922172569,
          -0.10928246963521912,
          -1.8675911342151044,
          -0.291350381007704,
          -0.2861757143497499,
          0.45182196198038505,
          -1.3540852014076956,
          0.11849633147728272,
          -1.4831515290012542,
          -0.15594664619415652,
          0.8218005891800004,
          -1.3196893908390053,
          0.9516245220412897,
          1.0245182381659395,
          -0.9086606060000463,
          0.3667342867629603,
          2.1748246081996387,
          -1.4412403414461203,
          1.3547356288206962,
          0.07448038483912717,
          -2.0463557158127803,
          -0.2466438968154346,
          0.7427704569505088,
          0.7393827811394357,
          0.3470737898934057,
          -0.21339715374304669,
          -0.29843604210654695,
          -0.26984569594619834,
          -0.7380914719749732,
          0.085445841445681,
          -0.03377606407086046,
          -0.20658488335554978,
          -0.2320627365179663,
          0.6895012608888704,
          -1.9625798027603658,
          -1.3809616631815926,
          1.270026636907869,
          -1.1676750826700475,
          0.6835442102993022,
          -0.10819067203435048,
          -0.38848646939043074,
          -1.3146096093947917,
          1.2343026179645644,
          -1.1578924940873192,
          0.9311809476907813,
          -0.9408852209315937,
          0.2777851236373851,
          -0.2792794125675632,
          0.5699172325515569,
          1.1815215185447847,
          -0.4101575978585351,
          -1.3520086334848345,
          -0.2206896804793058,
          -0.635846746095747,
          -2.2801475925723,
          -0.13273463837665134,
          -1.4357460149388654,
          -2.0947528958618142,
          -1.4043908765273556,
          1.235437712356553,
          -0.2961297710843259,
          0.712446862050636,
          -0.5733163055127384,
          0.8724480526635303,
          0.34296687693318517,
          -1.8772458375662273,
          0.04838875314046682,
          1.1439410329456652,
          -1.4074872363653521,
          -0.41353126423716985,
          -1.2891804111532066,
          -0.8016211831893039,
          -1.1778852829324677,
          0.8601306959837082,
          -0.7846632368352668,
          0.8951888056616729,
          -0.1209386568012941,
          0.3507332670458818,
          0.40839273692365535,
          1.3923988082070355,
          0.5898704076273781,
          1.4937796385060818,
          0.9554951083022206,
          -0.12453902532811652,
          -1.280101497255287,
          -0.8670228686188641,
          -0.6542483247746392,
          -0.27107332066291734,
          1.7482116014051732,
          1.6179167104189263,
          -0.627179728211577,
          0.7520281731249727,
          -0.5689711239929849
         ]
        }
       ],
       "layout": {
        "legend": {
         "bgcolor": "#F5F6F9",
         "font": {
          "color": "#4D5663"
         }
        },
        "paper_bgcolor": "#F5F6F9",
        "plot_bgcolor": "#F5F6F9",
        "template": {
         "data": {
          "bar": [
           {
            "error_x": {
             "color": "#2a3f5f"
            },
            "error_y": {
             "color": "#2a3f5f"
            },
            "marker": {
             "line": {
              "color": "#E5ECF6",
              "width": 0.5
             }
            },
            "type": "bar"
           }
          ],
          "barpolar": [
           {
            "marker": {
             "line": {
              "color": "#E5ECF6",
              "width": 0.5
             }
            },
            "type": "barpolar"
           }
          ],
          "carpet": [
           {
            "aaxis": {
             "endlinecolor": "#2a3f5f",
             "gridcolor": "white",
             "linecolor": "white",
             "minorgridcolor": "white",
             "startlinecolor": "#2a3f5f"
            },
            "baxis": {
             "endlinecolor": "#2a3f5f",
             "gridcolor": "white",
             "linecolor": "white",
             "minorgridcolor": "white",
             "startlinecolor": "#2a3f5f"
            },
            "type": "carpet"
           }
          ],
          "choropleth": [
           {
            "colorbar": {
             "outlinewidth": 0,
             "ticks": ""
            },
            "type": "choropleth"
           }
          ],
          "contour": [
           {
            "colorbar": {
             "outlinewidth": 0,
             "ticks": ""
            },
            "colorscale": [
             [
              0,
              "#0d0887"
             ],
             [
              0.1111111111111111,
              "#46039f"
             ],
             [
              0.2222222222222222,
              "#7201a8"
             ],
             [
              0.3333333333333333,
              "#9c179e"
             ],
             [
              0.4444444444444444,
              "#bd3786"
             ],
             [
              0.5555555555555556,
              "#d8576b"
             ],
             [
              0.6666666666666666,
              "#ed7953"
             ],
             [
              0.7777777777777778,
              "#fb9f3a"
             ],
             [
              0.8888888888888888,
              "#fdca26"
             ],
             [
              1,
              "#f0f921"
             ]
            ],
            "type": "contour"
           }
          ],
          "contourcarpet": [
           {
            "colorbar": {
             "outlinewidth": 0,
             "ticks": ""
            },
            "type": "contourcarpet"
           }
          ],
          "heatmap": [
           {
            "colorbar": {
             "outlinewidth": 0,
             "ticks": ""
            },
            "colorscale": [
             [
              0,
              "#0d0887"
             ],
             [
              0.1111111111111111,
              "#46039f"
             ],
             [
              0.2222222222222222,
              "#7201a8"
             ],
             [
              0.3333333333333333,
              "#9c179e"
             ],
             [
              0.4444444444444444,
              "#bd3786"
             ],
             [
              0.5555555555555556,
              "#d8576b"
             ],
             [
              0.6666666666666666,
              "#ed7953"
             ],
             [
              0.7777777777777778,
              "#fb9f3a"
             ],
             [
              0.8888888888888888,
              "#fdca26"
             ],
             [
              1,
              "#f0f921"
             ]
            ],
            "type": "heatmap"
           }
          ],
          "heatmapgl": [
           {
            "colorbar": {
             "outlinewidth": 0,
             "ticks": ""
            },
            "colorscale": [
             [
              0,
              "#0d0887"
             ],
             [
              0.1111111111111111,
              "#46039f"
             ],
             [
              0.2222222222222222,
              "#7201a8"
             ],
             [
              0.3333333333333333,
              "#9c179e"
             ],
             [
              0.4444444444444444,
              "#bd3786"
             ],
             [
              0.5555555555555556,
              "#d8576b"
             ],
             [
              0.6666666666666666,
              "#ed7953"
             ],
             [
              0.7777777777777778,
              "#fb9f3a"
             ],
             [
              0.8888888888888888,
              "#fdca26"
             ],
             [
              1,
              "#f0f921"
             ]
            ],
            "type": "heatmapgl"
           }
          ],
          "histogram": [
           {
            "marker": {
             "colorbar": {
              "outlinewidth": 0,
              "ticks": ""
             }
            },
            "type": "histogram"
           }
          ],
          "histogram2d": [
           {
            "colorbar": {
             "outlinewidth": 0,
             "ticks": ""
            },
            "colorscale": [
             [
              0,
              "#0d0887"
             ],
             [
              0.1111111111111111,
              "#46039f"
             ],
             [
              0.2222222222222222,
              "#7201a8"
             ],
             [
              0.3333333333333333,
              "#9c179e"
             ],
             [
              0.4444444444444444,
              "#bd3786"
             ],
             [
              0.5555555555555556,
              "#d8576b"
             ],
             [
              0.6666666666666666,
              "#ed7953"
             ],
             [
              0.7777777777777778,
              "#fb9f3a"
             ],
             [
              0.8888888888888888,
              "#fdca26"
             ],
             [
              1,
              "#f0f921"
             ]
            ],
            "type": "histogram2d"
           }
          ],
          "histogram2dcontour": [
           {
            "colorbar": {
             "outlinewidth": 0,
             "ticks": ""
            },
            "colorscale": [
             [
              0,
              "#0d0887"
             ],
             [
              0.1111111111111111,
              "#46039f"
             ],
             [
              0.2222222222222222,
              "#7201a8"
             ],
             [
              0.3333333333333333,
              "#9c179e"
             ],
             [
              0.4444444444444444,
              "#bd3786"
             ],
             [
              0.5555555555555556,
              "#d8576b"
             ],
             [
              0.6666666666666666,
              "#ed7953"
             ],
             [
              0.7777777777777778,
              "#fb9f3a"
             ],
             [
              0.8888888888888888,
              "#fdca26"
             ],
             [
              1,
              "#f0f921"
             ]
            ],
            "type": "histogram2dcontour"
           }
          ],
          "mesh3d": [
           {
            "colorbar": {
             "outlinewidth": 0,
             "ticks": ""
            },
            "type": "mesh3d"
           }
          ],
          "parcoords": [
           {
            "line": {
             "colorbar": {
              "outlinewidth": 0,
              "ticks": ""
             }
            },
            "type": "parcoords"
           }
          ],
          "pie": [
           {
            "automargin": true,
            "type": "pie"
           }
          ],
          "scatter": [
           {
            "marker": {
             "colorbar": {
              "outlinewidth": 0,
              "ticks": ""
             }
            },
            "type": "scatter"
           }
          ],
          "scatter3d": [
           {
            "line": {
             "colorbar": {
              "outlinewidth": 0,
              "ticks": ""
             }
            },
            "marker": {
             "colorbar": {
              "outlinewidth": 0,
              "ticks": ""
             }
            },
            "type": "scatter3d"
           }
          ],
          "scattercarpet": [
           {
            "marker": {
             "colorbar": {
              "outlinewidth": 0,
              "ticks": ""
             }
            },
            "type": "scattercarpet"
           }
          ],
          "scattergeo": [
           {
            "marker": {
             "colorbar": {
              "outlinewidth": 0,
              "ticks": ""
             }
            },
            "type": "scattergeo"
           }
          ],
          "scattergl": [
           {
            "marker": {
             "colorbar": {
              "outlinewidth": 0,
              "ticks": ""
             }
            },
            "type": "scattergl"
           }
          ],
          "scattermapbox": [
           {
            "marker": {
             "colorbar": {
              "outlinewidth": 0,
              "ticks": ""
             }
            },
            "type": "scattermapbox"
           }
          ],
          "scatterpolar": [
           {
            "marker": {
             "colorbar": {
              "outlinewidth": 0,
              "ticks": ""
             }
            },
            "type": "scatterpolar"
           }
          ],
          "scatterpolargl": [
           {
            "marker": {
             "colorbar": {
              "outlinewidth": 0,
              "ticks": ""
             }
            },
            "type": "scatterpolargl"
           }
          ],
          "scatterternary": [
           {
            "marker": {
             "colorbar": {
              "outlinewidth": 0,
              "ticks": ""
             }
            },
            "type": "scatterternary"
           }
          ],
          "surface": [
           {
            "colorbar": {
             "outlinewidth": 0,
             "ticks": ""
            },
            "colorscale": [
             [
              0,
              "#0d0887"
             ],
             [
              0.1111111111111111,
              "#46039f"
             ],
             [
              0.2222222222222222,
              "#7201a8"
             ],
             [
              0.3333333333333333,
              "#9c179e"
             ],
             [
              0.4444444444444444,
              "#bd3786"
             ],
             [
              0.5555555555555556,
              "#d8576b"
             ],
             [
              0.6666666666666666,
              "#ed7953"
             ],
             [
              0.7777777777777778,
              "#fb9f3a"
             ],
             [
              0.8888888888888888,
              "#fdca26"
             ],
             [
              1,
              "#f0f921"
             ]
            ],
            "type": "surface"
           }
          ],
          "table": [
           {
            "cells": {
             "fill": {
              "color": "#EBF0F8"
             },
             "line": {
              "color": "white"
             }
            },
            "header": {
             "fill": {
              "color": "#C8D4E3"
             },
             "line": {
              "color": "white"
             }
            },
            "type": "table"
           }
          ]
         },
         "layout": {
          "annotationdefaults": {
           "arrowcolor": "#2a3f5f",
           "arrowhead": 0,
           "arrowwidth": 1
          },
          "coloraxis": {
           "colorbar": {
            "outlinewidth": 0,
            "ticks": ""
           }
          },
          "colorscale": {
           "diverging": [
            [
             0,
             "#8e0152"
            ],
            [
             0.1,
             "#c51b7d"
            ],
            [
             0.2,
             "#de77ae"
            ],
            [
             0.3,
             "#f1b6da"
            ],
            [
             0.4,
             "#fde0ef"
            ],
            [
             0.5,
             "#f7f7f7"
            ],
            [
             0.6,
             "#e6f5d0"
            ],
            [
             0.7,
             "#b8e186"
            ],
            [
             0.8,
             "#7fbc41"
            ],
            [
             0.9,
             "#4d9221"
            ],
            [
             1,
             "#276419"
            ]
           ],
           "sequential": [
            [
             0,
             "#0d0887"
            ],
            [
             0.1111111111111111,
             "#46039f"
            ],
            [
             0.2222222222222222,
             "#7201a8"
            ],
            [
             0.3333333333333333,
             "#9c179e"
            ],
            [
             0.4444444444444444,
             "#bd3786"
            ],
            [
             0.5555555555555556,
             "#d8576b"
            ],
            [
             0.6666666666666666,
             "#ed7953"
            ],
            [
             0.7777777777777778,
             "#fb9f3a"
            ],
            [
             0.8888888888888888,
             "#fdca26"
            ],
            [
             1,
             "#f0f921"
            ]
           ],
           "sequentialminus": [
            [
             0,
             "#0d0887"
            ],
            [
             0.1111111111111111,
             "#46039f"
            ],
            [
             0.2222222222222222,
             "#7201a8"
            ],
            [
             0.3333333333333333,
             "#9c179e"
            ],
            [
             0.4444444444444444,
             "#bd3786"
            ],
            [
             0.5555555555555556,
             "#d8576b"
            ],
            [
             0.6666666666666666,
             "#ed7953"
            ],
            [
             0.7777777777777778,
             "#fb9f3a"
            ],
            [
             0.8888888888888888,
             "#fdca26"
            ],
            [
             1,
             "#f0f921"
            ]
           ]
          },
          "colorway": [
           "#636efa",
           "#EF553B",
           "#00cc96",
           "#ab63fa",
           "#FFA15A",
           "#19d3f3",
           "#FF6692",
           "#B6E880",
           "#FF97FF",
           "#FECB52"
          ],
          "font": {
           "color": "#2a3f5f"
          },
          "geo": {
           "bgcolor": "white",
           "lakecolor": "white",
           "landcolor": "#E5ECF6",
           "showlakes": true,
           "showland": true,
           "subunitcolor": "white"
          },
          "hoverlabel": {
           "align": "left"
          },
          "hovermode": "closest",
          "mapbox": {
           "style": "light"
          },
          "paper_bgcolor": "white",
          "plot_bgcolor": "#E5ECF6",
          "polar": {
           "angularaxis": {
            "gridcolor": "white",
            "linecolor": "white",
            "ticks": ""
           },
           "bgcolor": "#E5ECF6",
           "radialaxis": {
            "gridcolor": "white",
            "linecolor": "white",
            "ticks": ""
           }
          },
          "scene": {
           "xaxis": {
            "backgroundcolor": "#E5ECF6",
            "gridcolor": "white",
            "gridwidth": 2,
            "linecolor": "white",
            "showbackground": true,
            "ticks": "",
            "zerolinecolor": "white"
           },
           "yaxis": {
            "backgroundcolor": "#E5ECF6",
            "gridcolor": "white",
            "gridwidth": 2,
            "linecolor": "white",
            "showbackground": true,
            "ticks": "",
            "zerolinecolor": "white"
           },
           "zaxis": {
            "backgroundcolor": "#E5ECF6",
            "gridcolor": "white",
            "gridwidth": 2,
            "linecolor": "white",
            "showbackground": true,
            "ticks": "",
            "zerolinecolor": "white"
           }
          },
          "shapedefaults": {
           "line": {
            "color": "#2a3f5f"
           }
          },
          "ternary": {
           "aaxis": {
            "gridcolor": "white",
            "linecolor": "white",
            "ticks": ""
           },
           "baxis": {
            "gridcolor": "white",
            "linecolor": "white",
            "ticks": ""
           },
           "bgcolor": "#E5ECF6",
           "caxis": {
            "gridcolor": "white",
            "linecolor": "white",
            "ticks": ""
           }
          },
          "title": {
           "x": 0.05
          },
          "xaxis": {
           "automargin": true,
           "gridcolor": "white",
           "linecolor": "white",
           "ticks": "",
           "title": {
            "standoff": 15
           },
           "zerolinecolor": "white",
           "zerolinewidth": 2
          },
          "yaxis": {
           "automargin": true,
           "gridcolor": "white",
           "linecolor": "white",
           "ticks": "",
           "title": {
            "standoff": 15
           },
           "zerolinecolor": "white",
           "zerolinewidth": 2
          }
         }
        },
        "title": {
         "font": {
          "color": "#4D5663"
         }
        },
        "xaxis": {
         "gridcolor": "#E1E5ED",
         "showgrid": true,
         "tickfont": {
          "color": "#4D5663"
         },
         "title": {
          "font": {
           "color": "#4D5663"
          },
          "text": ""
         },
         "zerolinecolor": "#E1E5ED"
        },
        "yaxis": {
         "gridcolor": "#E1E5ED",
         "showgrid": true,
         "tickfont": {
          "color": "#4D5663"
         },
         "title": {
          "font": {
           "color": "#4D5663"
          },
          "text": ""
         },
         "zerolinecolor": "#E1E5ED"
        }
       }
      },
      "text/html": [
       "<div>\n",
       "        \n",
       "        \n",
       "            <div id=\"6fcabda3-c565-4813-b195-833cc7d033ac\" class=\"plotly-graph-div\" style=\"height:525px; width:100%;\"></div>\n",
       "            <script type=\"text/javascript\">\n",
       "                require([\"plotly\"], function(Plotly) {\n",
       "                    window.PLOTLYENV=window.PLOTLYENV || {};\n",
       "                    window.PLOTLYENV.BASE_URL='https://plot.ly';\n",
       "                    \n",
       "                if (document.getElementById(\"6fcabda3-c565-4813-b195-833cc7d033ac\")) {\n",
       "                    Plotly.newPlot(\n",
       "                        '6fcabda3-c565-4813-b195-833cc7d033ac',\n",
       "                        [{\"marker\": {\"color\": [\"rgb(255, 153, 51)\", \"rgb(55, 128, 191)\", \"rgb(50, 171, 96)\", \"rgb(128, 0, 128)\", \"rgb(219, 64, 82)\", \"rgb(0, 128, 128)\", \"rgb(255, 255, 51)\", \"rgb(128, 128, 0)\", \"rgb(251, 128, 114)\", \"rgb(128, 177, 211)\"], \"line\": {\"width\": 1.3}, \"size\": [21, 85, 83, 12, 70, 57, 58, 93, 61, 92, 93, 71, 65, 61, 58, 61, 87, 57, 37, 97, 55, 74, 47, 59, 40, 61, 90, 72, 76, 75, 65, 97, 80, 70, 69, 66, 69, 17, 68, 76, 98, 29, 60, 112, 85, 81, 72, 72, 42, 56, 78, 74, 73, 85, 41, 91, 94, 103, 44, 97, 96, 78, 74, 58, 75, 70, 45, 53, 68, 69, 72, 94, 68, 98, 58, 52, 61, 90, 53, 92, 99, 85, 75, 54, 65, 82, 82, 84, 80, 63, 60, 62, 49, 73, 90, 70, 92, 43, 68, 32], \"symbol\": \"circle\"}, \"mode\": \"markers\", \"text\": \"\", \"type\": \"scatter\", \"x\": [-0.3528362464153668, -0.284490578588392, 2.203326375137168, 1.1914906229339413, -0.5643907599811814, 2.7798718153014357, 1.1392230478947218, -0.3969084492198873, -0.8431354506721372, -1.2113706937321673, -1.1232328854452367, 0.4518665654795515, 0.15108658835894914, -1.7197708096350655, -0.07078563077906978, -0.980891266191066, -2.0065915820068994, 0.04405074044947059, -0.1816391125056839, 0.7598049797859753, -1.096012407090366, -1.4973956161707278, -2.2293808754538005, -0.15494190096890462, -0.8404676595449304, -1.5864444840611043, -1.271828143859151, 0.233536485699503, 0.32955043668175693, 1.1595295612279588, -0.5278554404367857, -0.16303045205008881, -1.7674739515583324, 0.33892658874933296, 0.19685617323938542, 0.33023853338745474, 0.03730643652616613, 0.32496894629056994, 0.23244779523287074, -0.01842197648227652, -1.1672830340101563, -0.40440266128609065, 2.07759282848088, 0.14020699314040225, 0.11670666187449041, -1.3759216802724983, 2.3270704249878746, 0.3972406311737788, 0.17442023752997537, -0.2800525759529055, 0.4506210148099999, 2.6202326404140677, 1.0653150560571336, 1.7095140209602646, 0.7990198343521421, -0.8281912607199876, -0.806280334150687, 1.6979095908090678, -0.8672712204039527, 1.1005741543620384, -0.6546095261109552, 0.9048167986183359, -0.7100506115690377, 0.648084430407177, 0.9447881732500704, -0.4713552039565896, 0.21402616654041448, -0.935151045365892, 1.2150495379117552, -0.43140919672950967, -1.1891048756132958, 0.9847206464209383, 0.40945681494002684, -0.8066269723088334, -0.6687296314674605, -1.0238807147882825, -0.2700469623402802, 0.5690651238713944, 0.6865219970682781, 0.6483901625701793, 1.2905559982270822, 0.8178639588042602, 1.1575135611917569, -2.0984711888019745, -1.7762476161655396, -0.6748575307003194, -0.21849196898810175, -0.5753702112145309, -0.3920858562314582, 0.6970390930379042, -1.4429250467452353, -0.3166115618643759, -0.3519621812877541, -0.4525464016079805, 0.5423829440734289, -0.36691990004214553, -0.7611303390249726, 2.0511135768496143, -0.9598352743683791, -0.37398827024180453], \"y\": [-1.5145455118176767, -0.01367326820150052, -0.7829236033971367, 2.1758105864782173, 0.014005493606606743, -0.408817628815818, -1.9692976906687827, 0.7934251922172569, -0.10928246963521912, -1.8675911342151044, -0.291350381007704, -0.2861757143497499, 0.45182196198038505, -1.3540852014076956, 0.11849633147728272, -1.4831515290012542, -0.15594664619415652, 0.8218005891800004, -1.3196893908390053, 0.9516245220412897, 1.0245182381659395, -0.9086606060000463, 0.3667342867629603, 2.1748246081996387, -1.4412403414461203, 1.3547356288206962, 0.07448038483912717, -2.0463557158127803, -0.2466438968154346, 0.7427704569505088, 0.7393827811394357, 0.3470737898934057, -0.21339715374304669, -0.29843604210654695, -0.26984569594619834, -0.7380914719749732, 0.085445841445681, -0.03377606407086046, -0.20658488335554978, -0.2320627365179663, 0.6895012608888704, -1.9625798027603658, -1.3809616631815926, 1.270026636907869, -1.1676750826700475, 0.6835442102993022, -0.10819067203435048, -0.38848646939043074, -1.3146096093947917, 1.2343026179645644, -1.1578924940873192, 0.9311809476907813, -0.9408852209315937, 0.2777851236373851, -0.2792794125675632, 0.5699172325515569, 1.1815215185447847, -0.4101575978585351, -1.3520086334848345, -0.2206896804793058, -0.635846746095747, -2.2801475925723, -0.13273463837665134, -1.4357460149388654, -2.0947528958618142, -1.4043908765273556, 1.235437712356553, -0.2961297710843259, 0.712446862050636, -0.5733163055127384, 0.8724480526635303, 0.34296687693318517, -1.8772458375662273, 0.04838875314046682, 1.1439410329456652, -1.4074872363653521, -0.41353126423716985, -1.2891804111532066, -0.8016211831893039, -1.1778852829324677, 0.8601306959837082, -0.7846632368352668, 0.8951888056616729, -0.1209386568012941, 0.3507332670458818, 0.40839273692365535, 1.3923988082070355, 0.5898704076273781, 1.4937796385060818, 0.9554951083022206, -0.12453902532811652, -1.280101497255287, -0.8670228686188641, -0.6542483247746392, -0.27107332066291734, 1.7482116014051732, 1.6179167104189263, -0.627179728211577, 0.7520281731249727, -0.5689711239929849]}],\n",
       "                        {\"legend\": {\"bgcolor\": \"#F5F6F9\", \"font\": {\"color\": \"#4D5663\"}}, \"paper_bgcolor\": \"#F5F6F9\", \"plot_bgcolor\": \"#F5F6F9\", \"template\": {\"data\": {\"bar\": [{\"error_x\": {\"color\": \"#2a3f5f\"}, \"error_y\": {\"color\": \"#2a3f5f\"}, \"marker\": {\"line\": {\"color\": \"#E5ECF6\", \"width\": 0.5}}, \"type\": \"bar\"}], \"barpolar\": [{\"marker\": {\"line\": {\"color\": \"#E5ECF6\", \"width\": 0.5}}, \"type\": \"barpolar\"}], \"carpet\": [{\"aaxis\": {\"endlinecolor\": \"#2a3f5f\", \"gridcolor\": \"white\", \"linecolor\": \"white\", \"minorgridcolor\": \"white\", \"startlinecolor\": \"#2a3f5f\"}, \"baxis\": {\"endlinecolor\": \"#2a3f5f\", \"gridcolor\": \"white\", \"linecolor\": \"white\", \"minorgridcolor\": \"white\", \"startlinecolor\": \"#2a3f5f\"}, \"type\": \"carpet\"}], \"choropleth\": [{\"colorbar\": {\"outlinewidth\": 0, \"ticks\": \"\"}, \"type\": \"choropleth\"}], \"contour\": [{\"colorbar\": {\"outlinewidth\": 0, \"ticks\": \"\"}, \"colorscale\": [[0.0, \"#0d0887\"], [0.1111111111111111, \"#46039f\"], [0.2222222222222222, \"#7201a8\"], [0.3333333333333333, \"#9c179e\"], [0.4444444444444444, \"#bd3786\"], [0.5555555555555556, \"#d8576b\"], [0.6666666666666666, \"#ed7953\"], [0.7777777777777778, \"#fb9f3a\"], [0.8888888888888888, \"#fdca26\"], [1.0, \"#f0f921\"]], \"type\": \"contour\"}], \"contourcarpet\": [{\"colorbar\": {\"outlinewidth\": 0, \"ticks\": \"\"}, \"type\": \"contourcarpet\"}], \"heatmap\": [{\"colorbar\": {\"outlinewidth\": 0, \"ticks\": \"\"}, \"colorscale\": [[0.0, \"#0d0887\"], [0.1111111111111111, \"#46039f\"], [0.2222222222222222, \"#7201a8\"], [0.3333333333333333, \"#9c179e\"], [0.4444444444444444, \"#bd3786\"], [0.5555555555555556, \"#d8576b\"], [0.6666666666666666, \"#ed7953\"], [0.7777777777777778, \"#fb9f3a\"], [0.8888888888888888, \"#fdca26\"], [1.0, \"#f0f921\"]], \"type\": \"heatmap\"}], \"heatmapgl\": [{\"colorbar\": {\"outlinewidth\": 0, \"ticks\": \"\"}, \"colorscale\": [[0.0, \"#0d0887\"], [0.1111111111111111, \"#46039f\"], [0.2222222222222222, \"#7201a8\"], [0.3333333333333333, \"#9c179e\"], [0.4444444444444444, \"#bd3786\"], [0.5555555555555556, \"#d8576b\"], [0.6666666666666666, \"#ed7953\"], [0.7777777777777778, \"#fb9f3a\"], [0.8888888888888888, \"#fdca26\"], [1.0, \"#f0f921\"]], \"type\": \"heatmapgl\"}], \"histogram\": [{\"marker\": {\"colorbar\": {\"outlinewidth\": 0, \"ticks\": \"\"}}, \"type\": \"histogram\"}], \"histogram2d\": [{\"colorbar\": {\"outlinewidth\": 0, \"ticks\": \"\"}, \"colorscale\": [[0.0, \"#0d0887\"], [0.1111111111111111, \"#46039f\"], [0.2222222222222222, \"#7201a8\"], [0.3333333333333333, \"#9c179e\"], [0.4444444444444444, \"#bd3786\"], [0.5555555555555556, \"#d8576b\"], [0.6666666666666666, \"#ed7953\"], [0.7777777777777778, \"#fb9f3a\"], [0.8888888888888888, \"#fdca26\"], [1.0, \"#f0f921\"]], \"type\": \"histogram2d\"}], \"histogram2dcontour\": [{\"colorbar\": {\"outlinewidth\": 0, \"ticks\": \"\"}, \"colorscale\": [[0.0, \"#0d0887\"], [0.1111111111111111, \"#46039f\"], [0.2222222222222222, \"#7201a8\"], [0.3333333333333333, \"#9c179e\"], [0.4444444444444444, \"#bd3786\"], [0.5555555555555556, \"#d8576b\"], [0.6666666666666666, \"#ed7953\"], [0.7777777777777778, \"#fb9f3a\"], [0.8888888888888888, \"#fdca26\"], [1.0, \"#f0f921\"]], \"type\": \"histogram2dcontour\"}], \"mesh3d\": [{\"colorbar\": {\"outlinewidth\": 0, \"ticks\": \"\"}, \"type\": \"mesh3d\"}], \"parcoords\": [{\"line\": {\"colorbar\": {\"outlinewidth\": 0, \"ticks\": \"\"}}, \"type\": \"parcoords\"}], \"pie\": [{\"automargin\": true, \"type\": \"pie\"}], \"scatter\": [{\"marker\": {\"colorbar\": {\"outlinewidth\": 0, \"ticks\": \"\"}}, \"type\": \"scatter\"}], \"scatter3d\": [{\"line\": {\"colorbar\": {\"outlinewidth\": 0, \"ticks\": \"\"}}, \"marker\": {\"colorbar\": {\"outlinewidth\": 0, \"ticks\": \"\"}}, \"type\": \"scatter3d\"}], \"scattercarpet\": [{\"marker\": {\"colorbar\": {\"outlinewidth\": 0, \"ticks\": \"\"}}, \"type\": \"scattercarpet\"}], \"scattergeo\": [{\"marker\": {\"colorbar\": {\"outlinewidth\": 0, \"ticks\": \"\"}}, \"type\": \"scattergeo\"}], \"scattergl\": [{\"marker\": {\"colorbar\": {\"outlinewidth\": 0, \"ticks\": \"\"}}, \"type\": \"scattergl\"}], \"scattermapbox\": [{\"marker\": {\"colorbar\": {\"outlinewidth\": 0, \"ticks\": \"\"}}, \"type\": \"scattermapbox\"}], \"scatterpolar\": [{\"marker\": {\"colorbar\": {\"outlinewidth\": 0, \"ticks\": \"\"}}, \"type\": \"scatterpolar\"}], \"scatterpolargl\": [{\"marker\": {\"colorbar\": {\"outlinewidth\": 0, \"ticks\": \"\"}}, \"type\": \"scatterpolargl\"}], \"scatterternary\": [{\"marker\": {\"colorbar\": {\"outlinewidth\": 0, \"ticks\": \"\"}}, \"type\": \"scatterternary\"}], \"surface\": [{\"colorbar\": {\"outlinewidth\": 0, \"ticks\": \"\"}, \"colorscale\": [[0.0, \"#0d0887\"], [0.1111111111111111, \"#46039f\"], [0.2222222222222222, \"#7201a8\"], [0.3333333333333333, \"#9c179e\"], [0.4444444444444444, \"#bd3786\"], [0.5555555555555556, \"#d8576b\"], [0.6666666666666666, \"#ed7953\"], [0.7777777777777778, \"#fb9f3a\"], [0.8888888888888888, \"#fdca26\"], [1.0, \"#f0f921\"]], \"type\": \"surface\"}], \"table\": [{\"cells\": {\"fill\": {\"color\": \"#EBF0F8\"}, \"line\": {\"color\": \"white\"}}, \"header\": {\"fill\": {\"color\": \"#C8D4E3\"}, \"line\": {\"color\": \"white\"}}, \"type\": \"table\"}]}, \"layout\": {\"annotationdefaults\": {\"arrowcolor\": \"#2a3f5f\", \"arrowhead\": 0, \"arrowwidth\": 1}, \"coloraxis\": {\"colorbar\": {\"outlinewidth\": 0, \"ticks\": \"\"}}, \"colorscale\": {\"diverging\": [[0, \"#8e0152\"], [0.1, \"#c51b7d\"], [0.2, \"#de77ae\"], [0.3, \"#f1b6da\"], [0.4, \"#fde0ef\"], [0.5, \"#f7f7f7\"], [0.6, \"#e6f5d0\"], [0.7, \"#b8e186\"], [0.8, \"#7fbc41\"], [0.9, \"#4d9221\"], [1, \"#276419\"]], \"sequential\": [[0.0, \"#0d0887\"], [0.1111111111111111, \"#46039f\"], [0.2222222222222222, \"#7201a8\"], [0.3333333333333333, \"#9c179e\"], [0.4444444444444444, \"#bd3786\"], [0.5555555555555556, \"#d8576b\"], [0.6666666666666666, \"#ed7953\"], [0.7777777777777778, \"#fb9f3a\"], [0.8888888888888888, \"#fdca26\"], [1.0, \"#f0f921\"]], \"sequentialminus\": [[0.0, \"#0d0887\"], [0.1111111111111111, \"#46039f\"], [0.2222222222222222, \"#7201a8\"], [0.3333333333333333, \"#9c179e\"], [0.4444444444444444, \"#bd3786\"], [0.5555555555555556, \"#d8576b\"], [0.6666666666666666, \"#ed7953\"], [0.7777777777777778, \"#fb9f3a\"], [0.8888888888888888, \"#fdca26\"], [1.0, \"#f0f921\"]]}, \"colorway\": [\"#636efa\", \"#EF553B\", \"#00cc96\", \"#ab63fa\", \"#FFA15A\", \"#19d3f3\", \"#FF6692\", \"#B6E880\", \"#FF97FF\", \"#FECB52\"], \"font\": {\"color\": \"#2a3f5f\"}, \"geo\": {\"bgcolor\": \"white\", \"lakecolor\": \"white\", \"landcolor\": \"#E5ECF6\", \"showlakes\": true, \"showland\": true, \"subunitcolor\": \"white\"}, \"hoverlabel\": {\"align\": \"left\"}, \"hovermode\": \"closest\", \"mapbox\": {\"style\": \"light\"}, \"paper_bgcolor\": \"white\", \"plot_bgcolor\": \"#E5ECF6\", \"polar\": {\"angularaxis\": {\"gridcolor\": \"white\", \"linecolor\": \"white\", \"ticks\": \"\"}, \"bgcolor\": \"#E5ECF6\", \"radialaxis\": {\"gridcolor\": \"white\", \"linecolor\": \"white\", \"ticks\": \"\"}}, \"scene\": {\"xaxis\": {\"backgroundcolor\": \"#E5ECF6\", \"gridcolor\": \"white\", \"gridwidth\": 2, \"linecolor\": \"white\", \"showbackground\": true, \"ticks\": \"\", \"zerolinecolor\": \"white\"}, \"yaxis\": {\"backgroundcolor\": \"#E5ECF6\", \"gridcolor\": \"white\", \"gridwidth\": 2, \"linecolor\": \"white\", \"showbackground\": true, \"ticks\": \"\", \"zerolinecolor\": \"white\"}, \"zaxis\": {\"backgroundcolor\": \"#E5ECF6\", \"gridcolor\": \"white\", \"gridwidth\": 2, \"linecolor\": \"white\", \"showbackground\": true, \"ticks\": \"\", \"zerolinecolor\": \"white\"}}, \"shapedefaults\": {\"line\": {\"color\": \"#2a3f5f\"}}, \"ternary\": {\"aaxis\": {\"gridcolor\": \"white\", \"linecolor\": \"white\", \"ticks\": \"\"}, \"baxis\": {\"gridcolor\": \"white\", \"linecolor\": \"white\", \"ticks\": \"\"}, \"bgcolor\": \"#E5ECF6\", \"caxis\": {\"gridcolor\": \"white\", \"linecolor\": \"white\", \"ticks\": \"\"}}, \"title\": {\"x\": 0.05}, \"xaxis\": {\"automargin\": true, \"gridcolor\": \"white\", \"linecolor\": \"white\", \"ticks\": \"\", \"title\": {\"standoff\": 15}, \"zerolinecolor\": \"white\", \"zerolinewidth\": 2}, \"yaxis\": {\"automargin\": true, \"gridcolor\": \"white\", \"linecolor\": \"white\", \"ticks\": \"\", \"title\": {\"standoff\": 15}, \"zerolinecolor\": \"white\", \"zerolinewidth\": 2}}}, \"title\": {\"font\": {\"color\": \"#4D5663\"}}, \"xaxis\": {\"gridcolor\": \"#E1E5ED\", \"showgrid\": true, \"tickfont\": {\"color\": \"#4D5663\"}, \"title\": {\"font\": {\"color\": \"#4D5663\"}, \"text\": \"\"}, \"zerolinecolor\": \"#E1E5ED\"}, \"yaxis\": {\"gridcolor\": \"#E1E5ED\", \"showgrid\": true, \"tickfont\": {\"color\": \"#4D5663\"}, \"title\": {\"font\": {\"color\": \"#4D5663\"}, \"text\": \"\"}, \"zerolinecolor\": \"#E1E5ED\"}},\n",
       "                        {\"showLink\": true, \"linkText\": \"Export to plot.ly\", \"plotlyServerURL\": \"https://plot.ly\", \"responsive\": true}\n",
       "                    ).then(function(){\n",
       "                            \n",
       "var gd = document.getElementById('6fcabda3-c565-4813-b195-833cc7d033ac');\n",
       "var x = new MutationObserver(function (mutations, observer) {{\n",
       "        var display = window.getComputedStyle(gd).display;\n",
       "        if (!display || display === 'none') {{\n",
       "            console.log([gd, 'removed!']);\n",
       "            Plotly.purge(gd);\n",
       "            observer.disconnect();\n",
       "        }}\n",
       "}});\n",
       "\n",
       "// Listen for the removal of the full notebook cells\n",
       "var notebookContainer = gd.closest('#notebook-container');\n",
       "if (notebookContainer) {{\n",
       "    x.observe(notebookContainer, {childList: true});\n",
       "}}\n",
       "\n",
       "// Listen for the clearing of the current output cell\n",
       "var outputEl = gd.closest('.output');\n",
       "if (outputEl) {{\n",
       "    x.observe(outputEl, {childList: true});\n",
       "}}\n",
       "\n",
       "                        })\n",
       "                };\n",
       "                });\n",
       "            </script>\n",
       "        </div>"
      ]
     },
     "metadata": {},
     "output_type": "display_data"
    }
   ],
   "source": [
    "df.iplot(kind='bubble', x='A', y='B', size='C')"
   ]
  },
  {
   "cell_type": "code",
   "execution_count": 34,
   "metadata": {},
   "outputs": [
    {
     "data": {
      "application/vnd.plotly.v1+json": {
       "config": {
        "linkText": "Export to plot.ly",
        "plotlyServerURL": "https://plot.ly",
        "showLink": true
       },
       "data": [
        {
         "histfunc": "count",
         "histnorm": "",
         "marker": {
          "color": "rgba(255, 153, 51, 1.0)",
          "line": {
           "color": "#4D5663",
           "width": 1.3
          }
         },
         "name": "A",
         "nbinsx": 10,
         "opacity": 0.8,
         "orientation": "v",
         "type": "histogram",
         "x": [
          -0.3528362464153668,
          -0.284490578588392,
          2.203326375137168,
          1.1914906229339413,
          -0.5643907599811814,
          2.7798718153014357,
          1.1392230478947218,
          -0.3969084492198873,
          -0.8431354506721372,
          -1.2113706937321673,
          -1.1232328854452367,
          0.4518665654795515,
          0.15108658835894914,
          -1.7197708096350655,
          -0.07078563077906978,
          -0.980891266191066,
          -2.0065915820068994,
          0.04405074044947059,
          -0.1816391125056839,
          0.7598049797859753,
          -1.096012407090366,
          -1.4973956161707278,
          -2.2293808754538005,
          -0.15494190096890462,
          -0.8404676595449304,
          -1.5864444840611043,
          -1.271828143859151,
          0.233536485699503,
          0.32955043668175693,
          1.1595295612279588,
          -0.5278554404367857,
          -0.16303045205008881,
          -1.7674739515583324,
          0.33892658874933296,
          0.19685617323938542,
          0.33023853338745474,
          0.03730643652616613,
          0.32496894629056994,
          0.23244779523287074,
          -0.01842197648227652,
          -1.1672830340101563,
          -0.40440266128609065,
          2.07759282848088,
          0.14020699314040225,
          0.11670666187449041,
          -1.3759216802724983,
          2.3270704249878746,
          0.3972406311737788,
          0.17442023752997537,
          -0.2800525759529055,
          0.4506210148099999,
          2.6202326404140677,
          1.0653150560571336,
          1.7095140209602646,
          0.7990198343521421,
          -0.8281912607199876,
          -0.806280334150687,
          1.6979095908090678,
          -0.8672712204039527,
          1.1005741543620384,
          -0.6546095261109552,
          0.9048167986183359,
          -0.7100506115690377,
          0.648084430407177,
          0.9447881732500704,
          -0.4713552039565896,
          0.21402616654041448,
          -0.935151045365892,
          1.2150495379117552,
          -0.43140919672950967,
          -1.1891048756132958,
          0.9847206464209383,
          0.40945681494002684,
          -0.8066269723088334,
          -0.6687296314674605,
          -1.0238807147882825,
          -0.2700469623402802,
          0.5690651238713944,
          0.6865219970682781,
          0.6483901625701793,
          1.2905559982270822,
          0.8178639588042602,
          1.1575135611917569,
          -2.0984711888019745,
          -1.7762476161655396,
          -0.6748575307003194,
          -0.21849196898810175,
          -0.5753702112145309,
          -0.3920858562314582,
          0.6970390930379042,
          -1.4429250467452353,
          -0.3166115618643759,
          -0.3519621812877541,
          -0.4525464016079805,
          0.5423829440734289,
          -0.36691990004214553,
          -0.7611303390249726,
          2.0511135768496143,
          -0.9598352743683791,
          -0.37398827024180453
         ],
         "xaxis": "x",
         "yaxis": "y"
        },
        {
         "line": {
          "color": "rgba(128, 128, 128, 1.0)",
          "dash": "solid",
          "shape": "linear",
          "width": 1.3
         },
         "marker": {
          "size": 2,
          "symbol": "circle"
         },
         "mode": "markers",
         "name": "A",
         "text": "",
         "type": "scatter",
         "x": [
          -1.5145455118176767,
          -0.01367326820150052,
          -0.7829236033971367,
          2.1758105864782173,
          0.014005493606606743,
          -0.408817628815818,
          -1.9692976906687827,
          0.7934251922172569,
          -0.10928246963521912,
          -1.8675911342151044,
          -0.291350381007704,
          -0.2861757143497499,
          0.45182196198038505,
          -1.3540852014076956,
          0.11849633147728272,
          -1.4831515290012542,
          -0.15594664619415652,
          0.8218005891800004,
          -1.3196893908390053,
          0.9516245220412897,
          1.0245182381659395,
          -0.9086606060000463,
          0.3667342867629603,
          2.1748246081996387,
          -1.4412403414461203,
          1.3547356288206962,
          0.07448038483912717,
          -2.0463557158127803,
          -0.2466438968154346,
          0.7427704569505088,
          0.7393827811394357,
          0.3470737898934057,
          -0.21339715374304669,
          -0.29843604210654695,
          -0.26984569594619834,
          -0.7380914719749732,
          0.085445841445681,
          -0.03377606407086046,
          -0.20658488335554978,
          -0.2320627365179663,
          0.6895012608888704,
          -1.9625798027603658,
          -1.3809616631815926,
          1.270026636907869,
          -1.1676750826700475,
          0.6835442102993022,
          -0.10819067203435048,
          -0.38848646939043074,
          -1.3146096093947917,
          1.2343026179645644,
          -1.1578924940873192,
          0.9311809476907813,
          -0.9408852209315937,
          0.2777851236373851,
          -0.2792794125675632,
          0.5699172325515569,
          1.1815215185447847,
          -0.4101575978585351,
          -1.3520086334848345,
          -0.2206896804793058,
          -0.635846746095747,
          -2.2801475925723,
          -0.13273463837665134,
          -1.4357460149388654,
          -2.0947528958618142,
          -1.4043908765273556,
          1.235437712356553,
          -0.2961297710843259,
          0.712446862050636,
          -0.5733163055127384,
          0.8724480526635303,
          0.34296687693318517,
          -1.8772458375662273,
          0.04838875314046682,
          1.1439410329456652,
          -1.4074872363653521,
          -0.41353126423716985,
          -1.2891804111532066,
          -0.8016211831893039,
          -1.1778852829324677,
          0.8601306959837082,
          -0.7846632368352668,
          0.8951888056616729,
          -0.1209386568012941,
          0.3507332670458818,
          0.40839273692365535,
          1.3923988082070355,
          0.5898704076273781,
          1.4937796385060818,
          0.9554951083022206,
          -0.12453902532811652,
          -1.280101497255287,
          -0.8670228686188641,
          -0.6542483247746392,
          -0.27107332066291734,
          1.7482116014051732,
          1.6179167104189263,
          -0.627179728211577,
          0.7520281731249727,
          -0.5689711239929849
         ],
         "xaxis": "x2",
         "y": [
          -0.3528362464153668,
          -0.284490578588392,
          2.203326375137168,
          1.1914906229339413,
          -0.5643907599811814,
          2.7798718153014357,
          1.1392230478947218,
          -0.3969084492198873,
          -0.8431354506721372,
          -1.2113706937321673,
          -1.1232328854452367,
          0.4518665654795515,
          0.15108658835894914,
          -1.7197708096350655,
          -0.07078563077906978,
          -0.980891266191066,
          -2.0065915820068994,
          0.04405074044947059,
          -0.1816391125056839,
          0.7598049797859753,
          -1.096012407090366,
          -1.4973956161707278,
          -2.2293808754538005,
          -0.15494190096890462,
          -0.8404676595449304,
          -1.5864444840611043,
          -1.271828143859151,
          0.233536485699503,
          0.32955043668175693,
          1.1595295612279588,
          -0.5278554404367857,
          -0.16303045205008881,
          -1.7674739515583324,
          0.33892658874933296,
          0.19685617323938542,
          0.33023853338745474,
          0.03730643652616613,
          0.32496894629056994,
          0.23244779523287074,
          -0.01842197648227652,
          -1.1672830340101563,
          -0.40440266128609065,
          2.07759282848088,
          0.14020699314040225,
          0.11670666187449041,
          -1.3759216802724983,
          2.3270704249878746,
          0.3972406311737788,
          0.17442023752997537,
          -0.2800525759529055,
          0.4506210148099999,
          2.6202326404140677,
          1.0653150560571336,
          1.7095140209602646,
          0.7990198343521421,
          -0.8281912607199876,
          -0.806280334150687,
          1.6979095908090678,
          -0.8672712204039527,
          1.1005741543620384,
          -0.6546095261109552,
          0.9048167986183359,
          -0.7100506115690377,
          0.648084430407177,
          0.9447881732500704,
          -0.4713552039565896,
          0.21402616654041448,
          -0.935151045365892,
          1.2150495379117552,
          -0.43140919672950967,
          -1.1891048756132958,
          0.9847206464209383,
          0.40945681494002684,
          -0.8066269723088334,
          -0.6687296314674605,
          -1.0238807147882825,
          -0.2700469623402802,
          0.5690651238713944,
          0.6865219970682781,
          0.6483901625701793,
          1.2905559982270822,
          0.8178639588042602,
          1.1575135611917569,
          -2.0984711888019745,
          -1.7762476161655396,
          -0.6748575307003194,
          -0.21849196898810175,
          -0.5753702112145309,
          -0.3920858562314582,
          0.6970390930379042,
          -1.4429250467452353,
          -0.3166115618643759,
          -0.3519621812877541,
          -0.4525464016079805,
          0.5423829440734289,
          -0.36691990004214553,
          -0.7611303390249726,
          2.0511135768496143,
          -0.9598352743683791,
          -0.37398827024180453
         ],
         "yaxis": "y2"
        },
        {
         "line": {
          "color": "rgba(128, 128, 128, 1.0)",
          "dash": "solid",
          "shape": "linear",
          "width": 1.3
         },
         "marker": {
          "size": 2,
          "symbol": "circle"
         },
         "mode": "markers",
         "name": "A",
         "text": "",
         "type": "scatter",
         "x": [
          -2.3704016563776555,
          0.710914398419287,
          0.6309631659503724,
          -2.8442861967365327,
          -0.0037811628578325435,
          -0.6382947031932034,
          -0.5832920116811756,
          1.1026000251690178,
          -0.4489180991658564,
          1.05520211811089,
          1.1082161681792269,
          0.046435857114627235,
          -0.2510267408961941,
          -0.4371164022967774,
          -0.5726351450065652,
          -0.4558868992851681,
          0.8045657127614613,
          -0.6143361630344545,
          -1.6160987259954223,
          1.3057845255800853,
          -0.7461470247736539,
          0.1750160823313732,
          -1.1067051377260886,
          -0.5204797459819671,
          -1.4376613633318407,
          -0.46334884147883815,
          0.9571971280775794,
          0.10750091380559694,
          0.2999155740381957,
          0.2185691512067851,
          -0.2579678098624532,
          1.3217142621895663,
          0.4953794816082393,
          -0.024538641741287965,
          -0.07153303580223697,
          -0.1793581282707107,
          -0.06729147187170058,
          -2.557307701474324,
          -0.1060324200332444,
          0.31169871316192516,
          1.3348243165181144,
          -1.9852327530302238,
          -0.5047144315416485,
          2.0115813901704973,
          0.7134892560485943,
          0.5484249921365187,
          0.11248846492915397,
          0.08333088334699466,
          -1.3682499335799407,
          -0.6974724359103268,
          0.37716037785946616,
          0.17044734212634838,
          0.12590105794568657,
          0.7343765332029945,
          -1.4006553322902726,
          1.0398357714966402,
          1.1634583514551176,
          1.58060380206921,
          -1.2613190243691939,
          1.2877452491185823,
          1.2460599997934427,
          0.3613975529675301,
          0.21462586530124092,
          -0.6090968319472858,
          0.23882620428736073,
          0.00036416526394703947,
          -1.2276092246013988,
          -0.8340878876745745,
          -0.08872398862382311,
          -0.061588045991439896,
          0.07524987023586598,
          1.153665247704061,
          -0.10204239551389348,
          1.3361090973740046,
          -0.5740083415431523,
          -0.8577488708805439,
          -0.4261175399792977,
          0.9653094704371724,
          -0.8173212555447603,
          1.0639239966446306,
          1.4278115423329014,
          0.7042444273074215,
          0.22693524735557136,
          -0.7652187063502671,
          -0.2502387171320374,
          0.5676968944730754,
          0.5943365371060254,
          0.6837008990404221,
          0.45789611494130283,
          -0.35489134846406123,
          -0.4914581973149613,
          -0.4131351259857275,
          -1.023404819406341,
          0.1370090793966986,
          0.961244139221754,
          0.007385617385094512,
          1.0517038093011737,
          -1.3085422591568026,
          -0.11633946117127415,
          -1.8454019863290603
         ],
         "xaxis": "x3",
         "y": [
          -0.3528362464153668,
          -0.284490578588392,
          2.203326375137168,
          1.1914906229339413,
          -0.5643907599811814,
          2.7798718153014357,
          1.1392230478947218,
          -0.3969084492198873,
          -0.8431354506721372,
          -1.2113706937321673,
          -1.1232328854452367,
          0.4518665654795515,
          0.15108658835894914,
          -1.7197708096350655,
          -0.07078563077906978,
          -0.980891266191066,
          -2.0065915820068994,
          0.04405074044947059,
          -0.1816391125056839,
          0.7598049797859753,
          -1.096012407090366,
          -1.4973956161707278,
          -2.2293808754538005,
          -0.15494190096890462,
          -0.8404676595449304,
          -1.5864444840611043,
          -1.271828143859151,
          0.233536485699503,
          0.32955043668175693,
          1.1595295612279588,
          -0.5278554404367857,
          -0.16303045205008881,
          -1.7674739515583324,
          0.33892658874933296,
          0.19685617323938542,
          0.33023853338745474,
          0.03730643652616613,
          0.32496894629056994,
          0.23244779523287074,
          -0.01842197648227652,
          -1.1672830340101563,
          -0.40440266128609065,
          2.07759282848088,
          0.14020699314040225,
          0.11670666187449041,
          -1.3759216802724983,
          2.3270704249878746,
          0.3972406311737788,
          0.17442023752997537,
          -0.2800525759529055,
          0.4506210148099999,
          2.6202326404140677,
          1.0653150560571336,
          1.7095140209602646,
          0.7990198343521421,
          -0.8281912607199876,
          -0.806280334150687,
          1.6979095908090678,
          -0.8672712204039527,
          1.1005741543620384,
          -0.6546095261109552,
          0.9048167986183359,
          -0.7100506115690377,
          0.648084430407177,
          0.9447881732500704,
          -0.4713552039565896,
          0.21402616654041448,
          -0.935151045365892,
          1.2150495379117552,
          -0.43140919672950967,
          -1.1891048756132958,
          0.9847206464209383,
          0.40945681494002684,
          -0.8066269723088334,
          -0.6687296314674605,
          -1.0238807147882825,
          -0.2700469623402802,
          0.5690651238713944,
          0.6865219970682781,
          0.6483901625701793,
          1.2905559982270822,
          0.8178639588042602,
          1.1575135611917569,
          -2.0984711888019745,
          -1.7762476161655396,
          -0.6748575307003194,
          -0.21849196898810175,
          -0.5753702112145309,
          -0.3920858562314582,
          0.6970390930379042,
          -1.4429250467452353,
          -0.3166115618643759,
          -0.3519621812877541,
          -0.4525464016079805,
          0.5423829440734289,
          -0.36691990004214553,
          -0.7611303390249726,
          2.0511135768496143,
          -0.9598352743683791,
          -0.37398827024180453
         ],
         "yaxis": "y3"
        },
        {
         "line": {
          "color": "rgba(128, 128, 128, 1.0)",
          "dash": "solid",
          "shape": "linear",
          "width": 1.3
         },
         "marker": {
          "size": 2,
          "symbol": "circle"
         },
         "mode": "markers",
         "name": "A",
         "text": "",
         "type": "scatter",
         "x": [
          0.5537390638675553,
          1.7275733675276843,
          1.216431303443142,
          -0.35761928337126386,
          -0.2766384153037906,
          0.9175563269542514,
          0.7913703760222024,
          0.6220956147817989,
          -0.9831544551054343,
          1.0285919896520503,
          -0.31358613968988003,
          -0.775285515456309,
          0.9121360708078701,
          -1.3392510286273374,
          -0.2247116800768073,
          0.9541268394764304,
          -1.2930827345554905,
          -0.1794147558476305,
          -0.204389594528781,
          -0.5649726476650159,
          -0.22933740132582756,
          -0.12357211924056424,
          0.4077407006940749,
          2.043079024269626,
          -1.8966506055913155,
          0.37506058424840283,
          -0.3557237502946604,
          -1.1658294796761153,
          -0.3314174317554599,
          0.5145784433956135,
          -0.17837855724679227,
          0.5819743037137235,
          -0.2170352844294026,
          -1.5008635117509095,
          0.4430612675009117,
          -0.5607325848055742,
          -0.8927402578611204,
          -1.00706359189859,
          0.7062444360618905,
          0.37532512452690064,
          -0.60918430290378,
          -0.3994943366348986,
          0.17679870439558548,
          -1.174429900552088,
          -1.3649070274623116,
          0.8110181135624027,
          1.2204650689075098,
          -0.04066020848211326,
          -0.798661941308709,
          -0.9230544760455293,
          2.48660459433927,
          -0.06274331502043014,
          -1.1079901104727323,
          0.149286669555233,
          -0.41689930404468056,
          -1.2000400022790192,
          -0.5385790202389502,
          -0.9264732450946596,
          0.34937348613737107,
          -0.38320883769824815,
          1.3675813627800308,
          0.3696598404405374,
          0.31873612059708706,
          0.8654078552911361,
          -1.5376213372959873,
          -0.1947903323528216,
          -1.1909326220751137,
          0.10457430890020339,
          0.6050940987273143,
          -0.5132853593327287,
          -0.7755845604958479,
          1.7023984579456823,
          0.38754335554690883,
          -0.9282832799462417,
          -0.5055032937398403,
          -0.05673078953268362,
          0.7475335009747427,
          -0.06210187278705163,
          1.5377080899458013,
          -0.6697979120234541,
          0.29250646337732666,
          -0.157303460931491,
          1.2745952342564728,
          -2.0248042313737624,
          -0.09095499158177012,
          0.330332051144852,
          -1.421859288088006,
          0.8450082617292108,
          -0.5335434113230583,
          -0.2855092868899809,
          -0.0021180714025973127,
          -0.3188647510560923,
          0.7484749193984869,
          1.2867921778713245,
          0.13640248363414795,
          0.6299953592964012,
          0.33263293241450487,
          0.1985242742168156,
          0.5004590278283447,
          -0.33700623860984585
         ],
         "xaxis": "x4",
         "y": [
          -0.3528362464153668,
          -0.284490578588392,
          2.203326375137168,
          1.1914906229339413,
          -0.5643907599811814,
          2.7798718153014357,
          1.1392230478947218,
          -0.3969084492198873,
          -0.8431354506721372,
          -1.2113706937321673,
          -1.1232328854452367,
          0.4518665654795515,
          0.15108658835894914,
          -1.7197708096350655,
          -0.07078563077906978,
          -0.980891266191066,
          -2.0065915820068994,
          0.04405074044947059,
          -0.1816391125056839,
          0.7598049797859753,
          -1.096012407090366,
          -1.4973956161707278,
          -2.2293808754538005,
          -0.15494190096890462,
          -0.8404676595449304,
          -1.5864444840611043,
          -1.271828143859151,
          0.233536485699503,
          0.32955043668175693,
          1.1595295612279588,
          -0.5278554404367857,
          -0.16303045205008881,
          -1.7674739515583324,
          0.33892658874933296,
          0.19685617323938542,
          0.33023853338745474,
          0.03730643652616613,
          0.32496894629056994,
          0.23244779523287074,
          -0.01842197648227652,
          -1.1672830340101563,
          -0.40440266128609065,
          2.07759282848088,
          0.14020699314040225,
          0.11670666187449041,
          -1.3759216802724983,
          2.3270704249878746,
          0.3972406311737788,
          0.17442023752997537,
          -0.2800525759529055,
          0.4506210148099999,
          2.6202326404140677,
          1.0653150560571336,
          1.7095140209602646,
          0.7990198343521421,
          -0.8281912607199876,
          -0.806280334150687,
          1.6979095908090678,
          -0.8672712204039527,
          1.1005741543620384,
          -0.6546095261109552,
          0.9048167986183359,
          -0.7100506115690377,
          0.648084430407177,
          0.9447881732500704,
          -0.4713552039565896,
          0.21402616654041448,
          -0.935151045365892,
          1.2150495379117552,
          -0.43140919672950967,
          -1.1891048756132958,
          0.9847206464209383,
          0.40945681494002684,
          -0.8066269723088334,
          -0.6687296314674605,
          -1.0238807147882825,
          -0.2700469623402802,
          0.5690651238713944,
          0.6865219970682781,
          0.6483901625701793,
          1.2905559982270822,
          0.8178639588042602,
          1.1575135611917569,
          -2.0984711888019745,
          -1.7762476161655396,
          -0.6748575307003194,
          -0.21849196898810175,
          -0.5753702112145309,
          -0.3920858562314582,
          0.6970390930379042,
          -1.4429250467452353,
          -0.3166115618643759,
          -0.3519621812877541,
          -0.4525464016079805,
          0.5423829440734289,
          -0.36691990004214553,
          -0.7611303390249726,
          2.0511135768496143,
          -0.9598352743683791,
          -0.37398827024180453
         ],
         "yaxis": "y4"
        },
        {
         "line": {
          "color": "rgba(128, 128, 128, 1.0)",
          "dash": "solid",
          "shape": "linear",
          "width": 1.3
         },
         "marker": {
          "size": 2,
          "symbol": "circle"
         },
         "mode": "markers",
         "name": "B",
         "text": "",
         "type": "scatter",
         "x": [
          -0.3528362464153668,
          -0.284490578588392,
          2.203326375137168,
          1.1914906229339413,
          -0.5643907599811814,
          2.7798718153014357,
          1.1392230478947218,
          -0.3969084492198873,
          -0.8431354506721372,
          -1.2113706937321673,
          -1.1232328854452367,
          0.4518665654795515,
          0.15108658835894914,
          -1.7197708096350655,
          -0.07078563077906978,
          -0.980891266191066,
          -2.0065915820068994,
          0.04405074044947059,
          -0.1816391125056839,
          0.7598049797859753,
          -1.096012407090366,
          -1.4973956161707278,
          -2.2293808754538005,
          -0.15494190096890462,
          -0.8404676595449304,
          -1.5864444840611043,
          -1.271828143859151,
          0.233536485699503,
          0.32955043668175693,
          1.1595295612279588,
          -0.5278554404367857,
          -0.16303045205008881,
          -1.7674739515583324,
          0.33892658874933296,
          0.19685617323938542,
          0.33023853338745474,
          0.03730643652616613,
          0.32496894629056994,
          0.23244779523287074,
          -0.01842197648227652,
          -1.1672830340101563,
          -0.40440266128609065,
          2.07759282848088,
          0.14020699314040225,
          0.11670666187449041,
          -1.3759216802724983,
          2.3270704249878746,
          0.3972406311737788,
          0.17442023752997537,
          -0.2800525759529055,
          0.4506210148099999,
          2.6202326404140677,
          1.0653150560571336,
          1.7095140209602646,
          0.7990198343521421,
          -0.8281912607199876,
          -0.806280334150687,
          1.6979095908090678,
          -0.8672712204039527,
          1.1005741543620384,
          -0.6546095261109552,
          0.9048167986183359,
          -0.7100506115690377,
          0.648084430407177,
          0.9447881732500704,
          -0.4713552039565896,
          0.21402616654041448,
          -0.935151045365892,
          1.2150495379117552,
          -0.43140919672950967,
          -1.1891048756132958,
          0.9847206464209383,
          0.40945681494002684,
          -0.8066269723088334,
          -0.6687296314674605,
          -1.0238807147882825,
          -0.2700469623402802,
          0.5690651238713944,
          0.6865219970682781,
          0.6483901625701793,
          1.2905559982270822,
          0.8178639588042602,
          1.1575135611917569,
          -2.0984711888019745,
          -1.7762476161655396,
          -0.6748575307003194,
          -0.21849196898810175,
          -0.5753702112145309,
          -0.3920858562314582,
          0.6970390930379042,
          -1.4429250467452353,
          -0.3166115618643759,
          -0.3519621812877541,
          -0.4525464016079805,
          0.5423829440734289,
          -0.36691990004214553,
          -0.7611303390249726,
          2.0511135768496143,
          -0.9598352743683791,
          -0.37398827024180453
         ],
         "xaxis": "x5",
         "y": [
          -1.5145455118176767,
          -0.01367326820150052,
          -0.7829236033971367,
          2.1758105864782173,
          0.014005493606606743,
          -0.408817628815818,
          -1.9692976906687827,
          0.7934251922172569,
          -0.10928246963521912,
          -1.8675911342151044,
          -0.291350381007704,
          -0.2861757143497499,
          0.45182196198038505,
          -1.3540852014076956,
          0.11849633147728272,
          -1.4831515290012542,
          -0.15594664619415652,
          0.8218005891800004,
          -1.3196893908390053,
          0.9516245220412897,
          1.0245182381659395,
          -0.9086606060000463,
          0.3667342867629603,
          2.1748246081996387,
          -1.4412403414461203,
          1.3547356288206962,
          0.07448038483912717,
          -2.0463557158127803,
          -0.2466438968154346,
          0.7427704569505088,
          0.7393827811394357,
          0.3470737898934057,
          -0.21339715374304669,
          -0.29843604210654695,
          -0.26984569594619834,
          -0.7380914719749732,
          0.085445841445681,
          -0.03377606407086046,
          -0.20658488335554978,
          -0.2320627365179663,
          0.6895012608888704,
          -1.9625798027603658,
          -1.3809616631815926,
          1.270026636907869,
          -1.1676750826700475,
          0.6835442102993022,
          -0.10819067203435048,
          -0.38848646939043074,
          -1.3146096093947917,
          1.2343026179645644,
          -1.1578924940873192,
          0.9311809476907813,
          -0.9408852209315937,
          0.2777851236373851,
          -0.2792794125675632,
          0.5699172325515569,
          1.1815215185447847,
          -0.4101575978585351,
          -1.3520086334848345,
          -0.2206896804793058,
          -0.635846746095747,
          -2.2801475925723,
          -0.13273463837665134,
          -1.4357460149388654,
          -2.0947528958618142,
          -1.4043908765273556,
          1.235437712356553,
          -0.2961297710843259,
          0.712446862050636,
          -0.5733163055127384,
          0.8724480526635303,
          0.34296687693318517,
          -1.8772458375662273,
          0.04838875314046682,
          1.1439410329456652,
          -1.4074872363653521,
          -0.41353126423716985,
          -1.2891804111532066,
          -0.8016211831893039,
          -1.1778852829324677,
          0.8601306959837082,
          -0.7846632368352668,
          0.8951888056616729,
          -0.1209386568012941,
          0.3507332670458818,
          0.40839273692365535,
          1.3923988082070355,
          0.5898704076273781,
          1.4937796385060818,
          0.9554951083022206,
          -0.12453902532811652,
          -1.280101497255287,
          -0.8670228686188641,
          -0.6542483247746392,
          -0.27107332066291734,
          1.7482116014051732,
          1.6179167104189263,
          -0.627179728211577,
          0.7520281731249727,
          -0.5689711239929849
         ],
         "yaxis": "y5"
        },
        {
         "histfunc": "count",
         "histnorm": "",
         "marker": {
          "color": "rgba(55, 128, 191, 1.0)",
          "line": {
           "color": "#4D5663",
           "width": 1.3
          }
         },
         "name": "B",
         "nbinsx": 10,
         "opacity": 0.8,
         "orientation": "v",
         "type": "histogram",
         "x": [
          -1.5145455118176767,
          -0.01367326820150052,
          -0.7829236033971367,
          2.1758105864782173,
          0.014005493606606743,
          -0.408817628815818,
          -1.9692976906687827,
          0.7934251922172569,
          -0.10928246963521912,
          -1.8675911342151044,
          -0.291350381007704,
          -0.2861757143497499,
          0.45182196198038505,
          -1.3540852014076956,
          0.11849633147728272,
          -1.4831515290012542,
          -0.15594664619415652,
          0.8218005891800004,
          -1.3196893908390053,
          0.9516245220412897,
          1.0245182381659395,
          -0.9086606060000463,
          0.3667342867629603,
          2.1748246081996387,
          -1.4412403414461203,
          1.3547356288206962,
          0.07448038483912717,
          -2.0463557158127803,
          -0.2466438968154346,
          0.7427704569505088,
          0.7393827811394357,
          0.3470737898934057,
          -0.21339715374304669,
          -0.29843604210654695,
          -0.26984569594619834,
          -0.7380914719749732,
          0.085445841445681,
          -0.03377606407086046,
          -0.20658488335554978,
          -0.2320627365179663,
          0.6895012608888704,
          -1.9625798027603658,
          -1.3809616631815926,
          1.270026636907869,
          -1.1676750826700475,
          0.6835442102993022,
          -0.10819067203435048,
          -0.38848646939043074,
          -1.3146096093947917,
          1.2343026179645644,
          -1.1578924940873192,
          0.9311809476907813,
          -0.9408852209315937,
          0.2777851236373851,
          -0.2792794125675632,
          0.5699172325515569,
          1.1815215185447847,
          -0.4101575978585351,
          -1.3520086334848345,
          -0.2206896804793058,
          -0.635846746095747,
          -2.2801475925723,
          -0.13273463837665134,
          -1.4357460149388654,
          -2.0947528958618142,
          -1.4043908765273556,
          1.235437712356553,
          -0.2961297710843259,
          0.712446862050636,
          -0.5733163055127384,
          0.8724480526635303,
          0.34296687693318517,
          -1.8772458375662273,
          0.04838875314046682,
          1.1439410329456652,
          -1.4074872363653521,
          -0.41353126423716985,
          -1.2891804111532066,
          -0.8016211831893039,
          -1.1778852829324677,
          0.8601306959837082,
          -0.7846632368352668,
          0.8951888056616729,
          -0.1209386568012941,
          0.3507332670458818,
          0.40839273692365535,
          1.3923988082070355,
          0.5898704076273781,
          1.4937796385060818,
          0.9554951083022206,
          -0.12453902532811652,
          -1.280101497255287,
          -0.8670228686188641,
          -0.6542483247746392,
          -0.27107332066291734,
          1.7482116014051732,
          1.6179167104189263,
          -0.627179728211577,
          0.7520281731249727,
          -0.5689711239929849
         ],
         "xaxis": "x6",
         "yaxis": "y6"
        },
        {
         "line": {
          "color": "rgba(128, 128, 128, 1.0)",
          "dash": "solid",
          "shape": "linear",
          "width": 1.3
         },
         "marker": {
          "size": 2,
          "symbol": "circle"
         },
         "mode": "markers",
         "name": "B",
         "text": "",
         "type": "scatter",
         "x": [
          -2.3704016563776555,
          0.710914398419287,
          0.6309631659503724,
          -2.8442861967365327,
          -0.0037811628578325435,
          -0.6382947031932034,
          -0.5832920116811756,
          1.1026000251690178,
          -0.4489180991658564,
          1.05520211811089,
          1.1082161681792269,
          0.046435857114627235,
          -0.2510267408961941,
          -0.4371164022967774,
          -0.5726351450065652,
          -0.4558868992851681,
          0.8045657127614613,
          -0.6143361630344545,
          -1.6160987259954223,
          1.3057845255800853,
          -0.7461470247736539,
          0.1750160823313732,
          -1.1067051377260886,
          -0.5204797459819671,
          -1.4376613633318407,
          -0.46334884147883815,
          0.9571971280775794,
          0.10750091380559694,
          0.2999155740381957,
          0.2185691512067851,
          -0.2579678098624532,
          1.3217142621895663,
          0.4953794816082393,
          -0.024538641741287965,
          -0.07153303580223697,
          -0.1793581282707107,
          -0.06729147187170058,
          -2.557307701474324,
          -0.1060324200332444,
          0.31169871316192516,
          1.3348243165181144,
          -1.9852327530302238,
          -0.5047144315416485,
          2.0115813901704973,
          0.7134892560485943,
          0.5484249921365187,
          0.11248846492915397,
          0.08333088334699466,
          -1.3682499335799407,
          -0.6974724359103268,
          0.37716037785946616,
          0.17044734212634838,
          0.12590105794568657,
          0.7343765332029945,
          -1.4006553322902726,
          1.0398357714966402,
          1.1634583514551176,
          1.58060380206921,
          -1.2613190243691939,
          1.2877452491185823,
          1.2460599997934427,
          0.3613975529675301,
          0.21462586530124092,
          -0.6090968319472858,
          0.23882620428736073,
          0.00036416526394703947,
          -1.2276092246013988,
          -0.8340878876745745,
          -0.08872398862382311,
          -0.061588045991439896,
          0.07524987023586598,
          1.153665247704061,
          -0.10204239551389348,
          1.3361090973740046,
          -0.5740083415431523,
          -0.8577488708805439,
          -0.4261175399792977,
          0.9653094704371724,
          -0.8173212555447603,
          1.0639239966446306,
          1.4278115423329014,
          0.7042444273074215,
          0.22693524735557136,
          -0.7652187063502671,
          -0.2502387171320374,
          0.5676968944730754,
          0.5943365371060254,
          0.6837008990404221,
          0.45789611494130283,
          -0.35489134846406123,
          -0.4914581973149613,
          -0.4131351259857275,
          -1.023404819406341,
          0.1370090793966986,
          0.961244139221754,
          0.007385617385094512,
          1.0517038093011737,
          -1.3085422591568026,
          -0.11633946117127415,
          -1.8454019863290603
         ],
         "xaxis": "x7",
         "y": [
          -1.5145455118176767,
          -0.01367326820150052,
          -0.7829236033971367,
          2.1758105864782173,
          0.014005493606606743,
          -0.408817628815818,
          -1.9692976906687827,
          0.7934251922172569,
          -0.10928246963521912,
          -1.8675911342151044,
          -0.291350381007704,
          -0.2861757143497499,
          0.45182196198038505,
          -1.3540852014076956,
          0.11849633147728272,
          -1.4831515290012542,
          -0.15594664619415652,
          0.8218005891800004,
          -1.3196893908390053,
          0.9516245220412897,
          1.0245182381659395,
          -0.9086606060000463,
          0.3667342867629603,
          2.1748246081996387,
          -1.4412403414461203,
          1.3547356288206962,
          0.07448038483912717,
          -2.0463557158127803,
          -0.2466438968154346,
          0.7427704569505088,
          0.7393827811394357,
          0.3470737898934057,
          -0.21339715374304669,
          -0.29843604210654695,
          -0.26984569594619834,
          -0.7380914719749732,
          0.085445841445681,
          -0.03377606407086046,
          -0.20658488335554978,
          -0.2320627365179663,
          0.6895012608888704,
          -1.9625798027603658,
          -1.3809616631815926,
          1.270026636907869,
          -1.1676750826700475,
          0.6835442102993022,
          -0.10819067203435048,
          -0.38848646939043074,
          -1.3146096093947917,
          1.2343026179645644,
          -1.1578924940873192,
          0.9311809476907813,
          -0.9408852209315937,
          0.2777851236373851,
          -0.2792794125675632,
          0.5699172325515569,
          1.1815215185447847,
          -0.4101575978585351,
          -1.3520086334848345,
          -0.2206896804793058,
          -0.635846746095747,
          -2.2801475925723,
          -0.13273463837665134,
          -1.4357460149388654,
          -2.0947528958618142,
          -1.4043908765273556,
          1.235437712356553,
          -0.2961297710843259,
          0.712446862050636,
          -0.5733163055127384,
          0.8724480526635303,
          0.34296687693318517,
          -1.8772458375662273,
          0.04838875314046682,
          1.1439410329456652,
          -1.4074872363653521,
          -0.41353126423716985,
          -1.2891804111532066,
          -0.8016211831893039,
          -1.1778852829324677,
          0.8601306959837082,
          -0.7846632368352668,
          0.8951888056616729,
          -0.1209386568012941,
          0.3507332670458818,
          0.40839273692365535,
          1.3923988082070355,
          0.5898704076273781,
          1.4937796385060818,
          0.9554951083022206,
          -0.12453902532811652,
          -1.280101497255287,
          -0.8670228686188641,
          -0.6542483247746392,
          -0.27107332066291734,
          1.7482116014051732,
          1.6179167104189263,
          -0.627179728211577,
          0.7520281731249727,
          -0.5689711239929849
         ],
         "yaxis": "y7"
        },
        {
         "line": {
          "color": "rgba(128, 128, 128, 1.0)",
          "dash": "solid",
          "shape": "linear",
          "width": 1.3
         },
         "marker": {
          "size": 2,
          "symbol": "circle"
         },
         "mode": "markers",
         "name": "B",
         "text": "",
         "type": "scatter",
         "x": [
          0.5537390638675553,
          1.7275733675276843,
          1.216431303443142,
          -0.35761928337126386,
          -0.2766384153037906,
          0.9175563269542514,
          0.7913703760222024,
          0.6220956147817989,
          -0.9831544551054343,
          1.0285919896520503,
          -0.31358613968988003,
          -0.775285515456309,
          0.9121360708078701,
          -1.3392510286273374,
          -0.2247116800768073,
          0.9541268394764304,
          -1.2930827345554905,
          -0.1794147558476305,
          -0.204389594528781,
          -0.5649726476650159,
          -0.22933740132582756,
          -0.12357211924056424,
          0.4077407006940749,
          2.043079024269626,
          -1.8966506055913155,
          0.37506058424840283,
          -0.3557237502946604,
          -1.1658294796761153,
          -0.3314174317554599,
          0.5145784433956135,
          -0.17837855724679227,
          0.5819743037137235,
          -0.2170352844294026,
          -1.5008635117509095,
          0.4430612675009117,
          -0.5607325848055742,
          -0.8927402578611204,
          -1.00706359189859,
          0.7062444360618905,
          0.37532512452690064,
          -0.60918430290378,
          -0.3994943366348986,
          0.17679870439558548,
          -1.174429900552088,
          -1.3649070274623116,
          0.8110181135624027,
          1.2204650689075098,
          -0.04066020848211326,
          -0.798661941308709,
          -0.9230544760455293,
          2.48660459433927,
          -0.06274331502043014,
          -1.1079901104727323,
          0.149286669555233,
          -0.41689930404468056,
          -1.2000400022790192,
          -0.5385790202389502,
          -0.9264732450946596,
          0.34937348613737107,
          -0.38320883769824815,
          1.3675813627800308,
          0.3696598404405374,
          0.31873612059708706,
          0.8654078552911361,
          -1.5376213372959873,
          -0.1947903323528216,
          -1.1909326220751137,
          0.10457430890020339,
          0.6050940987273143,
          -0.5132853593327287,
          -0.7755845604958479,
          1.7023984579456823,
          0.38754335554690883,
          -0.9282832799462417,
          -0.5055032937398403,
          -0.05673078953268362,
          0.7475335009747427,
          -0.06210187278705163,
          1.5377080899458013,
          -0.6697979120234541,
          0.29250646337732666,
          -0.157303460931491,
          1.2745952342564728,
          -2.0248042313737624,
          -0.09095499158177012,
          0.330332051144852,
          -1.421859288088006,
          0.8450082617292108,
          -0.5335434113230583,
          -0.2855092868899809,
          -0.0021180714025973127,
          -0.3188647510560923,
          0.7484749193984869,
          1.2867921778713245,
          0.13640248363414795,
          0.6299953592964012,
          0.33263293241450487,
          0.1985242742168156,
          0.5004590278283447,
          -0.33700623860984585
         ],
         "xaxis": "x8",
         "y": [
          -1.5145455118176767,
          -0.01367326820150052,
          -0.7829236033971367,
          2.1758105864782173,
          0.014005493606606743,
          -0.408817628815818,
          -1.9692976906687827,
          0.7934251922172569,
          -0.10928246963521912,
          -1.8675911342151044,
          -0.291350381007704,
          -0.2861757143497499,
          0.45182196198038505,
          -1.3540852014076956,
          0.11849633147728272,
          -1.4831515290012542,
          -0.15594664619415652,
          0.8218005891800004,
          -1.3196893908390053,
          0.9516245220412897,
          1.0245182381659395,
          -0.9086606060000463,
          0.3667342867629603,
          2.1748246081996387,
          -1.4412403414461203,
          1.3547356288206962,
          0.07448038483912717,
          -2.0463557158127803,
          -0.2466438968154346,
          0.7427704569505088,
          0.7393827811394357,
          0.3470737898934057,
          -0.21339715374304669,
          -0.29843604210654695,
          -0.26984569594619834,
          -0.7380914719749732,
          0.085445841445681,
          -0.03377606407086046,
          -0.20658488335554978,
          -0.2320627365179663,
          0.6895012608888704,
          -1.9625798027603658,
          -1.3809616631815926,
          1.270026636907869,
          -1.1676750826700475,
          0.6835442102993022,
          -0.10819067203435048,
          -0.38848646939043074,
          -1.3146096093947917,
          1.2343026179645644,
          -1.1578924940873192,
          0.9311809476907813,
          -0.9408852209315937,
          0.2777851236373851,
          -0.2792794125675632,
          0.5699172325515569,
          1.1815215185447847,
          -0.4101575978585351,
          -1.3520086334848345,
          -0.2206896804793058,
          -0.635846746095747,
          -2.2801475925723,
          -0.13273463837665134,
          -1.4357460149388654,
          -2.0947528958618142,
          -1.4043908765273556,
          1.235437712356553,
          -0.2961297710843259,
          0.712446862050636,
          -0.5733163055127384,
          0.8724480526635303,
          0.34296687693318517,
          -1.8772458375662273,
          0.04838875314046682,
          1.1439410329456652,
          -1.4074872363653521,
          -0.41353126423716985,
          -1.2891804111532066,
          -0.8016211831893039,
          -1.1778852829324677,
          0.8601306959837082,
          -0.7846632368352668,
          0.8951888056616729,
          -0.1209386568012941,
          0.3507332670458818,
          0.40839273692365535,
          1.3923988082070355,
          0.5898704076273781,
          1.4937796385060818,
          0.9554951083022206,
          -0.12453902532811652,
          -1.280101497255287,
          -0.8670228686188641,
          -0.6542483247746392,
          -0.27107332066291734,
          1.7482116014051732,
          1.6179167104189263,
          -0.627179728211577,
          0.7520281731249727,
          -0.5689711239929849
         ],
         "yaxis": "y8"
        },
        {
         "line": {
          "color": "rgba(128, 128, 128, 1.0)",
          "dash": "solid",
          "shape": "linear",
          "width": 1.3
         },
         "marker": {
          "size": 2,
          "symbol": "circle"
         },
         "mode": "markers",
         "name": "C",
         "text": "",
         "type": "scatter",
         "x": [
          -0.3528362464153668,
          -0.284490578588392,
          2.203326375137168,
          1.1914906229339413,
          -0.5643907599811814,
          2.7798718153014357,
          1.1392230478947218,
          -0.3969084492198873,
          -0.8431354506721372,
          -1.2113706937321673,
          -1.1232328854452367,
          0.4518665654795515,
          0.15108658835894914,
          -1.7197708096350655,
          -0.07078563077906978,
          -0.980891266191066,
          -2.0065915820068994,
          0.04405074044947059,
          -0.1816391125056839,
          0.7598049797859753,
          -1.096012407090366,
          -1.4973956161707278,
          -2.2293808754538005,
          -0.15494190096890462,
          -0.8404676595449304,
          -1.5864444840611043,
          -1.271828143859151,
          0.233536485699503,
          0.32955043668175693,
          1.1595295612279588,
          -0.5278554404367857,
          -0.16303045205008881,
          -1.7674739515583324,
          0.33892658874933296,
          0.19685617323938542,
          0.33023853338745474,
          0.03730643652616613,
          0.32496894629056994,
          0.23244779523287074,
          -0.01842197648227652,
          -1.1672830340101563,
          -0.40440266128609065,
          2.07759282848088,
          0.14020699314040225,
          0.11670666187449041,
          -1.3759216802724983,
          2.3270704249878746,
          0.3972406311737788,
          0.17442023752997537,
          -0.2800525759529055,
          0.4506210148099999,
          2.6202326404140677,
          1.0653150560571336,
          1.7095140209602646,
          0.7990198343521421,
          -0.8281912607199876,
          -0.806280334150687,
          1.6979095908090678,
          -0.8672712204039527,
          1.1005741543620384,
          -0.6546095261109552,
          0.9048167986183359,
          -0.7100506115690377,
          0.648084430407177,
          0.9447881732500704,
          -0.4713552039565896,
          0.21402616654041448,
          -0.935151045365892,
          1.2150495379117552,
          -0.43140919672950967,
          -1.1891048756132958,
          0.9847206464209383,
          0.40945681494002684,
          -0.8066269723088334,
          -0.6687296314674605,
          -1.0238807147882825,
          -0.2700469623402802,
          0.5690651238713944,
          0.6865219970682781,
          0.6483901625701793,
          1.2905559982270822,
          0.8178639588042602,
          1.1575135611917569,
          -2.0984711888019745,
          -1.7762476161655396,
          -0.6748575307003194,
          -0.21849196898810175,
          -0.5753702112145309,
          -0.3920858562314582,
          0.6970390930379042,
          -1.4429250467452353,
          -0.3166115618643759,
          -0.3519621812877541,
          -0.4525464016079805,
          0.5423829440734289,
          -0.36691990004214553,
          -0.7611303390249726,
          2.0511135768496143,
          -0.9598352743683791,
          -0.37398827024180453
         ],
         "xaxis": "x9",
         "y": [
          -2.3704016563776555,
          0.710914398419287,
          0.6309631659503724,
          -2.8442861967365327,
          -0.0037811628578325435,
          -0.6382947031932034,
          -0.5832920116811756,
          1.1026000251690178,
          -0.4489180991658564,
          1.05520211811089,
          1.1082161681792269,
          0.046435857114627235,
          -0.2510267408961941,
          -0.4371164022967774,
          -0.5726351450065652,
          -0.4558868992851681,
          0.8045657127614613,
          -0.6143361630344545,
          -1.6160987259954223,
          1.3057845255800853,
          -0.7461470247736539,
          0.1750160823313732,
          -1.1067051377260886,
          -0.5204797459819671,
          -1.4376613633318407,
          -0.46334884147883815,
          0.9571971280775794,
          0.10750091380559694,
          0.2999155740381957,
          0.2185691512067851,
          -0.2579678098624532,
          1.3217142621895663,
          0.4953794816082393,
          -0.024538641741287965,
          -0.07153303580223697,
          -0.1793581282707107,
          -0.06729147187170058,
          -2.557307701474324,
          -0.1060324200332444,
          0.31169871316192516,
          1.3348243165181144,
          -1.9852327530302238,
          -0.5047144315416485,
          2.0115813901704973,
          0.7134892560485943,
          0.5484249921365187,
          0.11248846492915397,
          0.08333088334699466,
          -1.3682499335799407,
          -0.6974724359103268,
          0.37716037785946616,
          0.17044734212634838,
          0.12590105794568657,
          0.7343765332029945,
          -1.4006553322902726,
          1.0398357714966402,
          1.1634583514551176,
          1.58060380206921,
          -1.2613190243691939,
          1.2877452491185823,
          1.2460599997934427,
          0.3613975529675301,
          0.21462586530124092,
          -0.6090968319472858,
          0.23882620428736073,
          0.00036416526394703947,
          -1.2276092246013988,
          -0.8340878876745745,
          -0.08872398862382311,
          -0.061588045991439896,
          0.07524987023586598,
          1.153665247704061,
          -0.10204239551389348,
          1.3361090973740046,
          -0.5740083415431523,
          -0.8577488708805439,
          -0.4261175399792977,
          0.9653094704371724,
          -0.8173212555447603,
          1.0639239966446306,
          1.4278115423329014,
          0.7042444273074215,
          0.22693524735557136,
          -0.7652187063502671,
          -0.2502387171320374,
          0.5676968944730754,
          0.5943365371060254,
          0.6837008990404221,
          0.45789611494130283,
          -0.35489134846406123,
          -0.4914581973149613,
          -0.4131351259857275,
          -1.023404819406341,
          0.1370090793966986,
          0.961244139221754,
          0.007385617385094512,
          1.0517038093011737,
          -1.3085422591568026,
          -0.11633946117127415,
          -1.8454019863290603
         ],
         "yaxis": "y9"
        },
        {
         "line": {
          "color": "rgba(128, 128, 128, 1.0)",
          "dash": "solid",
          "shape": "linear",
          "width": 1.3
         },
         "marker": {
          "size": 2,
          "symbol": "circle"
         },
         "mode": "markers",
         "name": "C",
         "text": "",
         "type": "scatter",
         "x": [
          -1.5145455118176767,
          -0.01367326820150052,
          -0.7829236033971367,
          2.1758105864782173,
          0.014005493606606743,
          -0.408817628815818,
          -1.9692976906687827,
          0.7934251922172569,
          -0.10928246963521912,
          -1.8675911342151044,
          -0.291350381007704,
          -0.2861757143497499,
          0.45182196198038505,
          -1.3540852014076956,
          0.11849633147728272,
          -1.4831515290012542,
          -0.15594664619415652,
          0.8218005891800004,
          -1.3196893908390053,
          0.9516245220412897,
          1.0245182381659395,
          -0.9086606060000463,
          0.3667342867629603,
          2.1748246081996387,
          -1.4412403414461203,
          1.3547356288206962,
          0.07448038483912717,
          -2.0463557158127803,
          -0.2466438968154346,
          0.7427704569505088,
          0.7393827811394357,
          0.3470737898934057,
          -0.21339715374304669,
          -0.29843604210654695,
          -0.26984569594619834,
          -0.7380914719749732,
          0.085445841445681,
          -0.03377606407086046,
          -0.20658488335554978,
          -0.2320627365179663,
          0.6895012608888704,
          -1.9625798027603658,
          -1.3809616631815926,
          1.270026636907869,
          -1.1676750826700475,
          0.6835442102993022,
          -0.10819067203435048,
          -0.38848646939043074,
          -1.3146096093947917,
          1.2343026179645644,
          -1.1578924940873192,
          0.9311809476907813,
          -0.9408852209315937,
          0.2777851236373851,
          -0.2792794125675632,
          0.5699172325515569,
          1.1815215185447847,
          -0.4101575978585351,
          -1.3520086334848345,
          -0.2206896804793058,
          -0.635846746095747,
          -2.2801475925723,
          -0.13273463837665134,
          -1.4357460149388654,
          -2.0947528958618142,
          -1.4043908765273556,
          1.235437712356553,
          -0.2961297710843259,
          0.712446862050636,
          -0.5733163055127384,
          0.8724480526635303,
          0.34296687693318517,
          -1.8772458375662273,
          0.04838875314046682,
          1.1439410329456652,
          -1.4074872363653521,
          -0.41353126423716985,
          -1.2891804111532066,
          -0.8016211831893039,
          -1.1778852829324677,
          0.8601306959837082,
          -0.7846632368352668,
          0.8951888056616729,
          -0.1209386568012941,
          0.3507332670458818,
          0.40839273692365535,
          1.3923988082070355,
          0.5898704076273781,
          1.4937796385060818,
          0.9554951083022206,
          -0.12453902532811652,
          -1.280101497255287,
          -0.8670228686188641,
          -0.6542483247746392,
          -0.27107332066291734,
          1.7482116014051732,
          1.6179167104189263,
          -0.627179728211577,
          0.7520281731249727,
          -0.5689711239929849
         ],
         "xaxis": "x10",
         "y": [
          -2.3704016563776555,
          0.710914398419287,
          0.6309631659503724,
          -2.8442861967365327,
          -0.0037811628578325435,
          -0.6382947031932034,
          -0.5832920116811756,
          1.1026000251690178,
          -0.4489180991658564,
          1.05520211811089,
          1.1082161681792269,
          0.046435857114627235,
          -0.2510267408961941,
          -0.4371164022967774,
          -0.5726351450065652,
          -0.4558868992851681,
          0.8045657127614613,
          -0.6143361630344545,
          -1.6160987259954223,
          1.3057845255800853,
          -0.7461470247736539,
          0.1750160823313732,
          -1.1067051377260886,
          -0.5204797459819671,
          -1.4376613633318407,
          -0.46334884147883815,
          0.9571971280775794,
          0.10750091380559694,
          0.2999155740381957,
          0.2185691512067851,
          -0.2579678098624532,
          1.3217142621895663,
          0.4953794816082393,
          -0.024538641741287965,
          -0.07153303580223697,
          -0.1793581282707107,
          -0.06729147187170058,
          -2.557307701474324,
          -0.1060324200332444,
          0.31169871316192516,
          1.3348243165181144,
          -1.9852327530302238,
          -0.5047144315416485,
          2.0115813901704973,
          0.7134892560485943,
          0.5484249921365187,
          0.11248846492915397,
          0.08333088334699466,
          -1.3682499335799407,
          -0.6974724359103268,
          0.37716037785946616,
          0.17044734212634838,
          0.12590105794568657,
          0.7343765332029945,
          -1.4006553322902726,
          1.0398357714966402,
          1.1634583514551176,
          1.58060380206921,
          -1.2613190243691939,
          1.2877452491185823,
          1.2460599997934427,
          0.3613975529675301,
          0.21462586530124092,
          -0.6090968319472858,
          0.23882620428736073,
          0.00036416526394703947,
          -1.2276092246013988,
          -0.8340878876745745,
          -0.08872398862382311,
          -0.061588045991439896,
          0.07524987023586598,
          1.153665247704061,
          -0.10204239551389348,
          1.3361090973740046,
          -0.5740083415431523,
          -0.8577488708805439,
          -0.4261175399792977,
          0.9653094704371724,
          -0.8173212555447603,
          1.0639239966446306,
          1.4278115423329014,
          0.7042444273074215,
          0.22693524735557136,
          -0.7652187063502671,
          -0.2502387171320374,
          0.5676968944730754,
          0.5943365371060254,
          0.6837008990404221,
          0.45789611494130283,
          -0.35489134846406123,
          -0.4914581973149613,
          -0.4131351259857275,
          -1.023404819406341,
          0.1370090793966986,
          0.961244139221754,
          0.007385617385094512,
          1.0517038093011737,
          -1.3085422591568026,
          -0.11633946117127415,
          -1.8454019863290603
         ],
         "yaxis": "y10"
        },
        {
         "histfunc": "count",
         "histnorm": "",
         "marker": {
          "color": "rgba(50, 171, 96, 1.0)",
          "line": {
           "color": "#4D5663",
           "width": 1.3
          }
         },
         "name": "C",
         "nbinsx": 10,
         "opacity": 0.8,
         "orientation": "v",
         "type": "histogram",
         "x": [
          -2.3704016563776555,
          0.710914398419287,
          0.6309631659503724,
          -2.8442861967365327,
          -0.0037811628578325435,
          -0.6382947031932034,
          -0.5832920116811756,
          1.1026000251690178,
          -0.4489180991658564,
          1.05520211811089,
          1.1082161681792269,
          0.046435857114627235,
          -0.2510267408961941,
          -0.4371164022967774,
          -0.5726351450065652,
          -0.4558868992851681,
          0.8045657127614613,
          -0.6143361630344545,
          -1.6160987259954223,
          1.3057845255800853,
          -0.7461470247736539,
          0.1750160823313732,
          -1.1067051377260886,
          -0.5204797459819671,
          -1.4376613633318407,
          -0.46334884147883815,
          0.9571971280775794,
          0.10750091380559694,
          0.2999155740381957,
          0.2185691512067851,
          -0.2579678098624532,
          1.3217142621895663,
          0.4953794816082393,
          -0.024538641741287965,
          -0.07153303580223697,
          -0.1793581282707107,
          -0.06729147187170058,
          -2.557307701474324,
          -0.1060324200332444,
          0.31169871316192516,
          1.3348243165181144,
          -1.9852327530302238,
          -0.5047144315416485,
          2.0115813901704973,
          0.7134892560485943,
          0.5484249921365187,
          0.11248846492915397,
          0.08333088334699466,
          -1.3682499335799407,
          -0.6974724359103268,
          0.37716037785946616,
          0.17044734212634838,
          0.12590105794568657,
          0.7343765332029945,
          -1.4006553322902726,
          1.0398357714966402,
          1.1634583514551176,
          1.58060380206921,
          -1.2613190243691939,
          1.2877452491185823,
          1.2460599997934427,
          0.3613975529675301,
          0.21462586530124092,
          -0.6090968319472858,
          0.23882620428736073,
          0.00036416526394703947,
          -1.2276092246013988,
          -0.8340878876745745,
          -0.08872398862382311,
          -0.061588045991439896,
          0.07524987023586598,
          1.153665247704061,
          -0.10204239551389348,
          1.3361090973740046,
          -0.5740083415431523,
          -0.8577488708805439,
          -0.4261175399792977,
          0.9653094704371724,
          -0.8173212555447603,
          1.0639239966446306,
          1.4278115423329014,
          0.7042444273074215,
          0.22693524735557136,
          -0.7652187063502671,
          -0.2502387171320374,
          0.5676968944730754,
          0.5943365371060254,
          0.6837008990404221,
          0.45789611494130283,
          -0.35489134846406123,
          -0.4914581973149613,
          -0.4131351259857275,
          -1.023404819406341,
          0.1370090793966986,
          0.961244139221754,
          0.007385617385094512,
          1.0517038093011737,
          -1.3085422591568026,
          -0.11633946117127415,
          -1.8454019863290603
         ],
         "xaxis": "x11",
         "yaxis": "y11"
        },
        {
         "line": {
          "color": "rgba(128, 128, 128, 1.0)",
          "dash": "solid",
          "shape": "linear",
          "width": 1.3
         },
         "marker": {
          "size": 2,
          "symbol": "circle"
         },
         "mode": "markers",
         "name": "C",
         "text": "",
         "type": "scatter",
         "x": [
          0.5537390638675553,
          1.7275733675276843,
          1.216431303443142,
          -0.35761928337126386,
          -0.2766384153037906,
          0.9175563269542514,
          0.7913703760222024,
          0.6220956147817989,
          -0.9831544551054343,
          1.0285919896520503,
          -0.31358613968988003,
          -0.775285515456309,
          0.9121360708078701,
          -1.3392510286273374,
          -0.2247116800768073,
          0.9541268394764304,
          -1.2930827345554905,
          -0.1794147558476305,
          -0.204389594528781,
          -0.5649726476650159,
          -0.22933740132582756,
          -0.12357211924056424,
          0.4077407006940749,
          2.043079024269626,
          -1.8966506055913155,
          0.37506058424840283,
          -0.3557237502946604,
          -1.1658294796761153,
          -0.3314174317554599,
          0.5145784433956135,
          -0.17837855724679227,
          0.5819743037137235,
          -0.2170352844294026,
          -1.5008635117509095,
          0.4430612675009117,
          -0.5607325848055742,
          -0.8927402578611204,
          -1.00706359189859,
          0.7062444360618905,
          0.37532512452690064,
          -0.60918430290378,
          -0.3994943366348986,
          0.17679870439558548,
          -1.174429900552088,
          -1.3649070274623116,
          0.8110181135624027,
          1.2204650689075098,
          -0.04066020848211326,
          -0.798661941308709,
          -0.9230544760455293,
          2.48660459433927,
          -0.06274331502043014,
          -1.1079901104727323,
          0.149286669555233,
          -0.41689930404468056,
          -1.2000400022790192,
          -0.5385790202389502,
          -0.9264732450946596,
          0.34937348613737107,
          -0.38320883769824815,
          1.3675813627800308,
          0.3696598404405374,
          0.31873612059708706,
          0.8654078552911361,
          -1.5376213372959873,
          -0.1947903323528216,
          -1.1909326220751137,
          0.10457430890020339,
          0.6050940987273143,
          -0.5132853593327287,
          -0.7755845604958479,
          1.7023984579456823,
          0.38754335554690883,
          -0.9282832799462417,
          -0.5055032937398403,
          -0.05673078953268362,
          0.7475335009747427,
          -0.06210187278705163,
          1.5377080899458013,
          -0.6697979120234541,
          0.29250646337732666,
          -0.157303460931491,
          1.2745952342564728,
          -2.0248042313737624,
          -0.09095499158177012,
          0.330332051144852,
          -1.421859288088006,
          0.8450082617292108,
          -0.5335434113230583,
          -0.2855092868899809,
          -0.0021180714025973127,
          -0.3188647510560923,
          0.7484749193984869,
          1.2867921778713245,
          0.13640248363414795,
          0.6299953592964012,
          0.33263293241450487,
          0.1985242742168156,
          0.5004590278283447,
          -0.33700623860984585
         ],
         "xaxis": "x12",
         "y": [
          -2.3704016563776555,
          0.710914398419287,
          0.6309631659503724,
          -2.8442861967365327,
          -0.0037811628578325435,
          -0.6382947031932034,
          -0.5832920116811756,
          1.1026000251690178,
          -0.4489180991658564,
          1.05520211811089,
          1.1082161681792269,
          0.046435857114627235,
          -0.2510267408961941,
          -0.4371164022967774,
          -0.5726351450065652,
          -0.4558868992851681,
          0.8045657127614613,
          -0.6143361630344545,
          -1.6160987259954223,
          1.3057845255800853,
          -0.7461470247736539,
          0.1750160823313732,
          -1.1067051377260886,
          -0.5204797459819671,
          -1.4376613633318407,
          -0.46334884147883815,
          0.9571971280775794,
          0.10750091380559694,
          0.2999155740381957,
          0.2185691512067851,
          -0.2579678098624532,
          1.3217142621895663,
          0.4953794816082393,
          -0.024538641741287965,
          -0.07153303580223697,
          -0.1793581282707107,
          -0.06729147187170058,
          -2.557307701474324,
          -0.1060324200332444,
          0.31169871316192516,
          1.3348243165181144,
          -1.9852327530302238,
          -0.5047144315416485,
          2.0115813901704973,
          0.7134892560485943,
          0.5484249921365187,
          0.11248846492915397,
          0.08333088334699466,
          -1.3682499335799407,
          -0.6974724359103268,
          0.37716037785946616,
          0.17044734212634838,
          0.12590105794568657,
          0.7343765332029945,
          -1.4006553322902726,
          1.0398357714966402,
          1.1634583514551176,
          1.58060380206921,
          -1.2613190243691939,
          1.2877452491185823,
          1.2460599997934427,
          0.3613975529675301,
          0.21462586530124092,
          -0.6090968319472858,
          0.23882620428736073,
          0.00036416526394703947,
          -1.2276092246013988,
          -0.8340878876745745,
          -0.08872398862382311,
          -0.061588045991439896,
          0.07524987023586598,
          1.153665247704061,
          -0.10204239551389348,
          1.3361090973740046,
          -0.5740083415431523,
          -0.8577488708805439,
          -0.4261175399792977,
          0.9653094704371724,
          -0.8173212555447603,
          1.0639239966446306,
          1.4278115423329014,
          0.7042444273074215,
          0.22693524735557136,
          -0.7652187063502671,
          -0.2502387171320374,
          0.5676968944730754,
          0.5943365371060254,
          0.6837008990404221,
          0.45789611494130283,
          -0.35489134846406123,
          -0.4914581973149613,
          -0.4131351259857275,
          -1.023404819406341,
          0.1370090793966986,
          0.961244139221754,
          0.007385617385094512,
          1.0517038093011737,
          -1.3085422591568026,
          -0.11633946117127415,
          -1.8454019863290603
         ],
         "yaxis": "y12"
        },
        {
         "line": {
          "color": "rgba(128, 128, 128, 1.0)",
          "dash": "solid",
          "shape": "linear",
          "width": 1.3
         },
         "marker": {
          "size": 2,
          "symbol": "circle"
         },
         "mode": "markers",
         "name": "D",
         "text": "",
         "type": "scatter",
         "x": [
          -0.3528362464153668,
          -0.284490578588392,
          2.203326375137168,
          1.1914906229339413,
          -0.5643907599811814,
          2.7798718153014357,
          1.1392230478947218,
          -0.3969084492198873,
          -0.8431354506721372,
          -1.2113706937321673,
          -1.1232328854452367,
          0.4518665654795515,
          0.15108658835894914,
          -1.7197708096350655,
          -0.07078563077906978,
          -0.980891266191066,
          -2.0065915820068994,
          0.04405074044947059,
          -0.1816391125056839,
          0.7598049797859753,
          -1.096012407090366,
          -1.4973956161707278,
          -2.2293808754538005,
          -0.15494190096890462,
          -0.8404676595449304,
          -1.5864444840611043,
          -1.271828143859151,
          0.233536485699503,
          0.32955043668175693,
          1.1595295612279588,
          -0.5278554404367857,
          -0.16303045205008881,
          -1.7674739515583324,
          0.33892658874933296,
          0.19685617323938542,
          0.33023853338745474,
          0.03730643652616613,
          0.32496894629056994,
          0.23244779523287074,
          -0.01842197648227652,
          -1.1672830340101563,
          -0.40440266128609065,
          2.07759282848088,
          0.14020699314040225,
          0.11670666187449041,
          -1.3759216802724983,
          2.3270704249878746,
          0.3972406311737788,
          0.17442023752997537,
          -0.2800525759529055,
          0.4506210148099999,
          2.6202326404140677,
          1.0653150560571336,
          1.7095140209602646,
          0.7990198343521421,
          -0.8281912607199876,
          -0.806280334150687,
          1.6979095908090678,
          -0.8672712204039527,
          1.1005741543620384,
          -0.6546095261109552,
          0.9048167986183359,
          -0.7100506115690377,
          0.648084430407177,
          0.9447881732500704,
          -0.4713552039565896,
          0.21402616654041448,
          -0.935151045365892,
          1.2150495379117552,
          -0.43140919672950967,
          -1.1891048756132958,
          0.9847206464209383,
          0.40945681494002684,
          -0.8066269723088334,
          -0.6687296314674605,
          -1.0238807147882825,
          -0.2700469623402802,
          0.5690651238713944,
          0.6865219970682781,
          0.6483901625701793,
          1.2905559982270822,
          0.8178639588042602,
          1.1575135611917569,
          -2.0984711888019745,
          -1.7762476161655396,
          -0.6748575307003194,
          -0.21849196898810175,
          -0.5753702112145309,
          -0.3920858562314582,
          0.6970390930379042,
          -1.4429250467452353,
          -0.3166115618643759,
          -0.3519621812877541,
          -0.4525464016079805,
          0.5423829440734289,
          -0.36691990004214553,
          -0.7611303390249726,
          2.0511135768496143,
          -0.9598352743683791,
          -0.37398827024180453
         ],
         "xaxis": "x13",
         "y": [
          0.5537390638675553,
          1.7275733675276843,
          1.216431303443142,
          -0.35761928337126386,
          -0.2766384153037906,
          0.9175563269542514,
          0.7913703760222024,
          0.6220956147817989,
          -0.9831544551054343,
          1.0285919896520503,
          -0.31358613968988003,
          -0.775285515456309,
          0.9121360708078701,
          -1.3392510286273374,
          -0.2247116800768073,
          0.9541268394764304,
          -1.2930827345554905,
          -0.1794147558476305,
          -0.204389594528781,
          -0.5649726476650159,
          -0.22933740132582756,
          -0.12357211924056424,
          0.4077407006940749,
          2.043079024269626,
          -1.8966506055913155,
          0.37506058424840283,
          -0.3557237502946604,
          -1.1658294796761153,
          -0.3314174317554599,
          0.5145784433956135,
          -0.17837855724679227,
          0.5819743037137235,
          -0.2170352844294026,
          -1.5008635117509095,
          0.4430612675009117,
          -0.5607325848055742,
          -0.8927402578611204,
          -1.00706359189859,
          0.7062444360618905,
          0.37532512452690064,
          -0.60918430290378,
          -0.3994943366348986,
          0.17679870439558548,
          -1.174429900552088,
          -1.3649070274623116,
          0.8110181135624027,
          1.2204650689075098,
          -0.04066020848211326,
          -0.798661941308709,
          -0.9230544760455293,
          2.48660459433927,
          -0.06274331502043014,
          -1.1079901104727323,
          0.149286669555233,
          -0.41689930404468056,
          -1.2000400022790192,
          -0.5385790202389502,
          -0.9264732450946596,
          0.34937348613737107,
          -0.38320883769824815,
          1.3675813627800308,
          0.3696598404405374,
          0.31873612059708706,
          0.8654078552911361,
          -1.5376213372959873,
          -0.1947903323528216,
          -1.1909326220751137,
          0.10457430890020339,
          0.6050940987273143,
          -0.5132853593327287,
          -0.7755845604958479,
          1.7023984579456823,
          0.38754335554690883,
          -0.9282832799462417,
          -0.5055032937398403,
          -0.05673078953268362,
          0.7475335009747427,
          -0.06210187278705163,
          1.5377080899458013,
          -0.6697979120234541,
          0.29250646337732666,
          -0.157303460931491,
          1.2745952342564728,
          -2.0248042313737624,
          -0.09095499158177012,
          0.330332051144852,
          -1.421859288088006,
          0.8450082617292108,
          -0.5335434113230583,
          -0.2855092868899809,
          -0.0021180714025973127,
          -0.3188647510560923,
          0.7484749193984869,
          1.2867921778713245,
          0.13640248363414795,
          0.6299953592964012,
          0.33263293241450487,
          0.1985242742168156,
          0.5004590278283447,
          -0.33700623860984585
         ],
         "yaxis": "y13"
        },
        {
         "line": {
          "color": "rgba(128, 128, 128, 1.0)",
          "dash": "solid",
          "shape": "linear",
          "width": 1.3
         },
         "marker": {
          "size": 2,
          "symbol": "circle"
         },
         "mode": "markers",
         "name": "D",
         "text": "",
         "type": "scatter",
         "x": [
          -1.5145455118176767,
          -0.01367326820150052,
          -0.7829236033971367,
          2.1758105864782173,
          0.014005493606606743,
          -0.408817628815818,
          -1.9692976906687827,
          0.7934251922172569,
          -0.10928246963521912,
          -1.8675911342151044,
          -0.291350381007704,
          -0.2861757143497499,
          0.45182196198038505,
          -1.3540852014076956,
          0.11849633147728272,
          -1.4831515290012542,
          -0.15594664619415652,
          0.8218005891800004,
          -1.3196893908390053,
          0.9516245220412897,
          1.0245182381659395,
          -0.9086606060000463,
          0.3667342867629603,
          2.1748246081996387,
          -1.4412403414461203,
          1.3547356288206962,
          0.07448038483912717,
          -2.0463557158127803,
          -0.2466438968154346,
          0.7427704569505088,
          0.7393827811394357,
          0.3470737898934057,
          -0.21339715374304669,
          -0.29843604210654695,
          -0.26984569594619834,
          -0.7380914719749732,
          0.085445841445681,
          -0.03377606407086046,
          -0.20658488335554978,
          -0.2320627365179663,
          0.6895012608888704,
          -1.9625798027603658,
          -1.3809616631815926,
          1.270026636907869,
          -1.1676750826700475,
          0.6835442102993022,
          -0.10819067203435048,
          -0.38848646939043074,
          -1.3146096093947917,
          1.2343026179645644,
          -1.1578924940873192,
          0.9311809476907813,
          -0.9408852209315937,
          0.2777851236373851,
          -0.2792794125675632,
          0.5699172325515569,
          1.1815215185447847,
          -0.4101575978585351,
          -1.3520086334848345,
          -0.2206896804793058,
          -0.635846746095747,
          -2.2801475925723,
          -0.13273463837665134,
          -1.4357460149388654,
          -2.0947528958618142,
          -1.4043908765273556,
          1.235437712356553,
          -0.2961297710843259,
          0.712446862050636,
          -0.5733163055127384,
          0.8724480526635303,
          0.34296687693318517,
          -1.8772458375662273,
          0.04838875314046682,
          1.1439410329456652,
          -1.4074872363653521,
          -0.41353126423716985,
          -1.2891804111532066,
          -0.8016211831893039,
          -1.1778852829324677,
          0.8601306959837082,
          -0.7846632368352668,
          0.8951888056616729,
          -0.1209386568012941,
          0.3507332670458818,
          0.40839273692365535,
          1.3923988082070355,
          0.5898704076273781,
          1.4937796385060818,
          0.9554951083022206,
          -0.12453902532811652,
          -1.280101497255287,
          -0.8670228686188641,
          -0.6542483247746392,
          -0.27107332066291734,
          1.7482116014051732,
          1.6179167104189263,
          -0.627179728211577,
          0.7520281731249727,
          -0.5689711239929849
         ],
         "xaxis": "x14",
         "y": [
          0.5537390638675553,
          1.7275733675276843,
          1.216431303443142,
          -0.35761928337126386,
          -0.2766384153037906,
          0.9175563269542514,
          0.7913703760222024,
          0.6220956147817989,
          -0.9831544551054343,
          1.0285919896520503,
          -0.31358613968988003,
          -0.775285515456309,
          0.9121360708078701,
          -1.3392510286273374,
          -0.2247116800768073,
          0.9541268394764304,
          -1.2930827345554905,
          -0.1794147558476305,
          -0.204389594528781,
          -0.5649726476650159,
          -0.22933740132582756,
          -0.12357211924056424,
          0.4077407006940749,
          2.043079024269626,
          -1.8966506055913155,
          0.37506058424840283,
          -0.3557237502946604,
          -1.1658294796761153,
          -0.3314174317554599,
          0.5145784433956135,
          -0.17837855724679227,
          0.5819743037137235,
          -0.2170352844294026,
          -1.5008635117509095,
          0.4430612675009117,
          -0.5607325848055742,
          -0.8927402578611204,
          -1.00706359189859,
          0.7062444360618905,
          0.37532512452690064,
          -0.60918430290378,
          -0.3994943366348986,
          0.17679870439558548,
          -1.174429900552088,
          -1.3649070274623116,
          0.8110181135624027,
          1.2204650689075098,
          -0.04066020848211326,
          -0.798661941308709,
          -0.9230544760455293,
          2.48660459433927,
          -0.06274331502043014,
          -1.1079901104727323,
          0.149286669555233,
          -0.41689930404468056,
          -1.2000400022790192,
          -0.5385790202389502,
          -0.9264732450946596,
          0.34937348613737107,
          -0.38320883769824815,
          1.3675813627800308,
          0.3696598404405374,
          0.31873612059708706,
          0.8654078552911361,
          -1.5376213372959873,
          -0.1947903323528216,
          -1.1909326220751137,
          0.10457430890020339,
          0.6050940987273143,
          -0.5132853593327287,
          -0.7755845604958479,
          1.7023984579456823,
          0.38754335554690883,
          -0.9282832799462417,
          -0.5055032937398403,
          -0.05673078953268362,
          0.7475335009747427,
          -0.06210187278705163,
          1.5377080899458013,
          -0.6697979120234541,
          0.29250646337732666,
          -0.157303460931491,
          1.2745952342564728,
          -2.0248042313737624,
          -0.09095499158177012,
          0.330332051144852,
          -1.421859288088006,
          0.8450082617292108,
          -0.5335434113230583,
          -0.2855092868899809,
          -0.0021180714025973127,
          -0.3188647510560923,
          0.7484749193984869,
          1.2867921778713245,
          0.13640248363414795,
          0.6299953592964012,
          0.33263293241450487,
          0.1985242742168156,
          0.5004590278283447,
          -0.33700623860984585
         ],
         "yaxis": "y14"
        },
        {
         "line": {
          "color": "rgba(128, 128, 128, 1.0)",
          "dash": "solid",
          "shape": "linear",
          "width": 1.3
         },
         "marker": {
          "size": 2,
          "symbol": "circle"
         },
         "mode": "markers",
         "name": "D",
         "text": "",
         "type": "scatter",
         "x": [
          -2.3704016563776555,
          0.710914398419287,
          0.6309631659503724,
          -2.8442861967365327,
          -0.0037811628578325435,
          -0.6382947031932034,
          -0.5832920116811756,
          1.1026000251690178,
          -0.4489180991658564,
          1.05520211811089,
          1.1082161681792269,
          0.046435857114627235,
          -0.2510267408961941,
          -0.4371164022967774,
          -0.5726351450065652,
          -0.4558868992851681,
          0.8045657127614613,
          -0.6143361630344545,
          -1.6160987259954223,
          1.3057845255800853,
          -0.7461470247736539,
          0.1750160823313732,
          -1.1067051377260886,
          -0.5204797459819671,
          -1.4376613633318407,
          -0.46334884147883815,
          0.9571971280775794,
          0.10750091380559694,
          0.2999155740381957,
          0.2185691512067851,
          -0.2579678098624532,
          1.3217142621895663,
          0.4953794816082393,
          -0.024538641741287965,
          -0.07153303580223697,
          -0.1793581282707107,
          -0.06729147187170058,
          -2.557307701474324,
          -0.1060324200332444,
          0.31169871316192516,
          1.3348243165181144,
          -1.9852327530302238,
          -0.5047144315416485,
          2.0115813901704973,
          0.7134892560485943,
          0.5484249921365187,
          0.11248846492915397,
          0.08333088334699466,
          -1.3682499335799407,
          -0.6974724359103268,
          0.37716037785946616,
          0.17044734212634838,
          0.12590105794568657,
          0.7343765332029945,
          -1.4006553322902726,
          1.0398357714966402,
          1.1634583514551176,
          1.58060380206921,
          -1.2613190243691939,
          1.2877452491185823,
          1.2460599997934427,
          0.3613975529675301,
          0.21462586530124092,
          -0.6090968319472858,
          0.23882620428736073,
          0.00036416526394703947,
          -1.2276092246013988,
          -0.8340878876745745,
          -0.08872398862382311,
          -0.061588045991439896,
          0.07524987023586598,
          1.153665247704061,
          -0.10204239551389348,
          1.3361090973740046,
          -0.5740083415431523,
          -0.8577488708805439,
          -0.4261175399792977,
          0.9653094704371724,
          -0.8173212555447603,
          1.0639239966446306,
          1.4278115423329014,
          0.7042444273074215,
          0.22693524735557136,
          -0.7652187063502671,
          -0.2502387171320374,
          0.5676968944730754,
          0.5943365371060254,
          0.6837008990404221,
          0.45789611494130283,
          -0.35489134846406123,
          -0.4914581973149613,
          -0.4131351259857275,
          -1.023404819406341,
          0.1370090793966986,
          0.961244139221754,
          0.007385617385094512,
          1.0517038093011737,
          -1.3085422591568026,
          -0.11633946117127415,
          -1.8454019863290603
         ],
         "xaxis": "x15",
         "y": [
          0.5537390638675553,
          1.7275733675276843,
          1.216431303443142,
          -0.35761928337126386,
          -0.2766384153037906,
          0.9175563269542514,
          0.7913703760222024,
          0.6220956147817989,
          -0.9831544551054343,
          1.0285919896520503,
          -0.31358613968988003,
          -0.775285515456309,
          0.9121360708078701,
          -1.3392510286273374,
          -0.2247116800768073,
          0.9541268394764304,
          -1.2930827345554905,
          -0.1794147558476305,
          -0.204389594528781,
          -0.5649726476650159,
          -0.22933740132582756,
          -0.12357211924056424,
          0.4077407006940749,
          2.043079024269626,
          -1.8966506055913155,
          0.37506058424840283,
          -0.3557237502946604,
          -1.1658294796761153,
          -0.3314174317554599,
          0.5145784433956135,
          -0.17837855724679227,
          0.5819743037137235,
          -0.2170352844294026,
          -1.5008635117509095,
          0.4430612675009117,
          -0.5607325848055742,
          -0.8927402578611204,
          -1.00706359189859,
          0.7062444360618905,
          0.37532512452690064,
          -0.60918430290378,
          -0.3994943366348986,
          0.17679870439558548,
          -1.174429900552088,
          -1.3649070274623116,
          0.8110181135624027,
          1.2204650689075098,
          -0.04066020848211326,
          -0.798661941308709,
          -0.9230544760455293,
          2.48660459433927,
          -0.06274331502043014,
          -1.1079901104727323,
          0.149286669555233,
          -0.41689930404468056,
          -1.2000400022790192,
          -0.5385790202389502,
          -0.9264732450946596,
          0.34937348613737107,
          -0.38320883769824815,
          1.3675813627800308,
          0.3696598404405374,
          0.31873612059708706,
          0.8654078552911361,
          -1.5376213372959873,
          -0.1947903323528216,
          -1.1909326220751137,
          0.10457430890020339,
          0.6050940987273143,
          -0.5132853593327287,
          -0.7755845604958479,
          1.7023984579456823,
          0.38754335554690883,
          -0.9282832799462417,
          -0.5055032937398403,
          -0.05673078953268362,
          0.7475335009747427,
          -0.06210187278705163,
          1.5377080899458013,
          -0.6697979120234541,
          0.29250646337732666,
          -0.157303460931491,
          1.2745952342564728,
          -2.0248042313737624,
          -0.09095499158177012,
          0.330332051144852,
          -1.421859288088006,
          0.8450082617292108,
          -0.5335434113230583,
          -0.2855092868899809,
          -0.0021180714025973127,
          -0.3188647510560923,
          0.7484749193984869,
          1.2867921778713245,
          0.13640248363414795,
          0.6299953592964012,
          0.33263293241450487,
          0.1985242742168156,
          0.5004590278283447,
          -0.33700623860984585
         ],
         "yaxis": "y15"
        },
        {
         "histfunc": "count",
         "histnorm": "",
         "marker": {
          "color": "rgba(128, 0, 128, 1.0)",
          "line": {
           "color": "#4D5663",
           "width": 1.3
          }
         },
         "name": "D",
         "nbinsx": 10,
         "opacity": 0.8,
         "orientation": "v",
         "type": "histogram",
         "x": [
          0.5537390638675553,
          1.7275733675276843,
          1.216431303443142,
          -0.35761928337126386,
          -0.2766384153037906,
          0.9175563269542514,
          0.7913703760222024,
          0.6220956147817989,
          -0.9831544551054343,
          1.0285919896520503,
          -0.31358613968988003,
          -0.775285515456309,
          0.9121360708078701,
          -1.3392510286273374,
          -0.2247116800768073,
          0.9541268394764304,
          -1.2930827345554905,
          -0.1794147558476305,
          -0.204389594528781,
          -0.5649726476650159,
          -0.22933740132582756,
          -0.12357211924056424,
          0.4077407006940749,
          2.043079024269626,
          -1.8966506055913155,
          0.37506058424840283,
          -0.3557237502946604,
          -1.1658294796761153,
          -0.3314174317554599,
          0.5145784433956135,
          -0.17837855724679227,
          0.5819743037137235,
          -0.2170352844294026,
          -1.5008635117509095,
          0.4430612675009117,
          -0.5607325848055742,
          -0.8927402578611204,
          -1.00706359189859,
          0.7062444360618905,
          0.37532512452690064,
          -0.60918430290378,
          -0.3994943366348986,
          0.17679870439558548,
          -1.174429900552088,
          -1.3649070274623116,
          0.8110181135624027,
          1.2204650689075098,
          -0.04066020848211326,
          -0.798661941308709,
          -0.9230544760455293,
          2.48660459433927,
          -0.06274331502043014,
          -1.1079901104727323,
          0.149286669555233,
          -0.41689930404468056,
          -1.2000400022790192,
          -0.5385790202389502,
          -0.9264732450946596,
          0.34937348613737107,
          -0.38320883769824815,
          1.3675813627800308,
          0.3696598404405374,
          0.31873612059708706,
          0.8654078552911361,
          -1.5376213372959873,
          -0.1947903323528216,
          -1.1909326220751137,
          0.10457430890020339,
          0.6050940987273143,
          -0.5132853593327287,
          -0.7755845604958479,
          1.7023984579456823,
          0.38754335554690883,
          -0.9282832799462417,
          -0.5055032937398403,
          -0.05673078953268362,
          0.7475335009747427,
          -0.06210187278705163,
          1.5377080899458013,
          -0.6697979120234541,
          0.29250646337732666,
          -0.157303460931491,
          1.2745952342564728,
          -2.0248042313737624,
          -0.09095499158177012,
          0.330332051144852,
          -1.421859288088006,
          0.8450082617292108,
          -0.5335434113230583,
          -0.2855092868899809,
          -0.0021180714025973127,
          -0.3188647510560923,
          0.7484749193984869,
          1.2867921778713245,
          0.13640248363414795,
          0.6299953592964012,
          0.33263293241450487,
          0.1985242742168156,
          0.5004590278283447,
          -0.33700623860984585
         ],
         "xaxis": "x16",
         "yaxis": "y16"
        }
       ],
       "layout": {
        "bargap": 0.02,
        "legend": {
         "bgcolor": "#F5F6F9",
         "font": {
          "color": "#4D5663"
         }
        },
        "paper_bgcolor": "#F5F6F9",
        "plot_bgcolor": "#F5F6F9",
        "showlegend": false,
        "template": {
         "data": {
          "bar": [
           {
            "error_x": {
             "color": "#2a3f5f"
            },
            "error_y": {
             "color": "#2a3f5f"
            },
            "marker": {
             "line": {
              "color": "#E5ECF6",
              "width": 0.5
             }
            },
            "type": "bar"
           }
          ],
          "barpolar": [
           {
            "marker": {
             "line": {
              "color": "#E5ECF6",
              "width": 0.5
             }
            },
            "type": "barpolar"
           }
          ],
          "carpet": [
           {
            "aaxis": {
             "endlinecolor": "#2a3f5f",
             "gridcolor": "white",
             "linecolor": "white",
             "minorgridcolor": "white",
             "startlinecolor": "#2a3f5f"
            },
            "baxis": {
             "endlinecolor": "#2a3f5f",
             "gridcolor": "white",
             "linecolor": "white",
             "minorgridcolor": "white",
             "startlinecolor": "#2a3f5f"
            },
            "type": "carpet"
           }
          ],
          "choropleth": [
           {
            "colorbar": {
             "outlinewidth": 0,
             "ticks": ""
            },
            "type": "choropleth"
           }
          ],
          "contour": [
           {
            "colorbar": {
             "outlinewidth": 0,
             "ticks": ""
            },
            "colorscale": [
             [
              0,
              "#0d0887"
             ],
             [
              0.1111111111111111,
              "#46039f"
             ],
             [
              0.2222222222222222,
              "#7201a8"
             ],
             [
              0.3333333333333333,
              "#9c179e"
             ],
             [
              0.4444444444444444,
              "#bd3786"
             ],
             [
              0.5555555555555556,
              "#d8576b"
             ],
             [
              0.6666666666666666,
              "#ed7953"
             ],
             [
              0.7777777777777778,
              "#fb9f3a"
             ],
             [
              0.8888888888888888,
              "#fdca26"
             ],
             [
              1,
              "#f0f921"
             ]
            ],
            "type": "contour"
           }
          ],
          "contourcarpet": [
           {
            "colorbar": {
             "outlinewidth": 0,
             "ticks": ""
            },
            "type": "contourcarpet"
           }
          ],
          "heatmap": [
           {
            "colorbar": {
             "outlinewidth": 0,
             "ticks": ""
            },
            "colorscale": [
             [
              0,
              "#0d0887"
             ],
             [
              0.1111111111111111,
              "#46039f"
             ],
             [
              0.2222222222222222,
              "#7201a8"
             ],
             [
              0.3333333333333333,
              "#9c179e"
             ],
             [
              0.4444444444444444,
              "#bd3786"
             ],
             [
              0.5555555555555556,
              "#d8576b"
             ],
             [
              0.6666666666666666,
              "#ed7953"
             ],
             [
              0.7777777777777778,
              "#fb9f3a"
             ],
             [
              0.8888888888888888,
              "#fdca26"
             ],
             [
              1,
              "#f0f921"
             ]
            ],
            "type": "heatmap"
           }
          ],
          "heatmapgl": [
           {
            "colorbar": {
             "outlinewidth": 0,
             "ticks": ""
            },
            "colorscale": [
             [
              0,
              "#0d0887"
             ],
             [
              0.1111111111111111,
              "#46039f"
             ],
             [
              0.2222222222222222,
              "#7201a8"
             ],
             [
              0.3333333333333333,
              "#9c179e"
             ],
             [
              0.4444444444444444,
              "#bd3786"
             ],
             [
              0.5555555555555556,
              "#d8576b"
             ],
             [
              0.6666666666666666,
              "#ed7953"
             ],
             [
              0.7777777777777778,
              "#fb9f3a"
             ],
             [
              0.8888888888888888,
              "#fdca26"
             ],
             [
              1,
              "#f0f921"
             ]
            ],
            "type": "heatmapgl"
           }
          ],
          "histogram": [
           {
            "marker": {
             "colorbar": {
              "outlinewidth": 0,
              "ticks": ""
             }
            },
            "type": "histogram"
           }
          ],
          "histogram2d": [
           {
            "colorbar": {
             "outlinewidth": 0,
             "ticks": ""
            },
            "colorscale": [
             [
              0,
              "#0d0887"
             ],
             [
              0.1111111111111111,
              "#46039f"
             ],
             [
              0.2222222222222222,
              "#7201a8"
             ],
             [
              0.3333333333333333,
              "#9c179e"
             ],
             [
              0.4444444444444444,
              "#bd3786"
             ],
             [
              0.5555555555555556,
              "#d8576b"
             ],
             [
              0.6666666666666666,
              "#ed7953"
             ],
             [
              0.7777777777777778,
              "#fb9f3a"
             ],
             [
              0.8888888888888888,
              "#fdca26"
             ],
             [
              1,
              "#f0f921"
             ]
            ],
            "type": "histogram2d"
           }
          ],
          "histogram2dcontour": [
           {
            "colorbar": {
             "outlinewidth": 0,
             "ticks": ""
            },
            "colorscale": [
             [
              0,
              "#0d0887"
             ],
             [
              0.1111111111111111,
              "#46039f"
             ],
             [
              0.2222222222222222,
              "#7201a8"
             ],
             [
              0.3333333333333333,
              "#9c179e"
             ],
             [
              0.4444444444444444,
              "#bd3786"
             ],
             [
              0.5555555555555556,
              "#d8576b"
             ],
             [
              0.6666666666666666,
              "#ed7953"
             ],
             [
              0.7777777777777778,
              "#fb9f3a"
             ],
             [
              0.8888888888888888,
              "#fdca26"
             ],
             [
              1,
              "#f0f921"
             ]
            ],
            "type": "histogram2dcontour"
           }
          ],
          "mesh3d": [
           {
            "colorbar": {
             "outlinewidth": 0,
             "ticks": ""
            },
            "type": "mesh3d"
           }
          ],
          "parcoords": [
           {
            "line": {
             "colorbar": {
              "outlinewidth": 0,
              "ticks": ""
             }
            },
            "type": "parcoords"
           }
          ],
          "pie": [
           {
            "automargin": true,
            "type": "pie"
           }
          ],
          "scatter": [
           {
            "marker": {
             "colorbar": {
              "outlinewidth": 0,
              "ticks": ""
             }
            },
            "type": "scatter"
           }
          ],
          "scatter3d": [
           {
            "line": {
             "colorbar": {
              "outlinewidth": 0,
              "ticks": ""
             }
            },
            "marker": {
             "colorbar": {
              "outlinewidth": 0,
              "ticks": ""
             }
            },
            "type": "scatter3d"
           }
          ],
          "scattercarpet": [
           {
            "marker": {
             "colorbar": {
              "outlinewidth": 0,
              "ticks": ""
             }
            },
            "type": "scattercarpet"
           }
          ],
          "scattergeo": [
           {
            "marker": {
             "colorbar": {
              "outlinewidth": 0,
              "ticks": ""
             }
            },
            "type": "scattergeo"
           }
          ],
          "scattergl": [
           {
            "marker": {
             "colorbar": {
              "outlinewidth": 0,
              "ticks": ""
             }
            },
            "type": "scattergl"
           }
          ],
          "scattermapbox": [
           {
            "marker": {
             "colorbar": {
              "outlinewidth": 0,
              "ticks": ""
             }
            },
            "type": "scattermapbox"
           }
          ],
          "scatterpolar": [
           {
            "marker": {
             "colorbar": {
              "outlinewidth": 0,
              "ticks": ""
             }
            },
            "type": "scatterpolar"
           }
          ],
          "scatterpolargl": [
           {
            "marker": {
             "colorbar": {
              "outlinewidth": 0,
              "ticks": ""
             }
            },
            "type": "scatterpolargl"
           }
          ],
          "scatterternary": [
           {
            "marker": {
             "colorbar": {
              "outlinewidth": 0,
              "ticks": ""
             }
            },
            "type": "scatterternary"
           }
          ],
          "surface": [
           {
            "colorbar": {
             "outlinewidth": 0,
             "ticks": ""
            },
            "colorscale": [
             [
              0,
              "#0d0887"
             ],
             [
              0.1111111111111111,
              "#46039f"
             ],
             [
              0.2222222222222222,
              "#7201a8"
             ],
             [
              0.3333333333333333,
              "#9c179e"
             ],
             [
              0.4444444444444444,
              "#bd3786"
             ],
             [
              0.5555555555555556,
              "#d8576b"
             ],
             [
              0.6666666666666666,
              "#ed7953"
             ],
             [
              0.7777777777777778,
              "#fb9f3a"
             ],
             [
              0.8888888888888888,
              "#fdca26"
             ],
             [
              1,
              "#f0f921"
             ]
            ],
            "type": "surface"
           }
          ],
          "table": [
           {
            "cells": {
             "fill": {
              "color": "#EBF0F8"
             },
             "line": {
              "color": "white"
             }
            },
            "header": {
             "fill": {
              "color": "#C8D4E3"
             },
             "line": {
              "color": "white"
             }
            },
            "type": "table"
           }
          ]
         },
         "layout": {
          "annotationdefaults": {
           "arrowcolor": "#2a3f5f",
           "arrowhead": 0,
           "arrowwidth": 1
          },
          "coloraxis": {
           "colorbar": {
            "outlinewidth": 0,
            "ticks": ""
           }
          },
          "colorscale": {
           "diverging": [
            [
             0,
             "#8e0152"
            ],
            [
             0.1,
             "#c51b7d"
            ],
            [
             0.2,
             "#de77ae"
            ],
            [
             0.3,
             "#f1b6da"
            ],
            [
             0.4,
             "#fde0ef"
            ],
            [
             0.5,
             "#f7f7f7"
            ],
            [
             0.6,
             "#e6f5d0"
            ],
            [
             0.7,
             "#b8e186"
            ],
            [
             0.8,
             "#7fbc41"
            ],
            [
             0.9,
             "#4d9221"
            ],
            [
             1,
             "#276419"
            ]
           ],
           "sequential": [
            [
             0,
             "#0d0887"
            ],
            [
             0.1111111111111111,
             "#46039f"
            ],
            [
             0.2222222222222222,
             "#7201a8"
            ],
            [
             0.3333333333333333,
             "#9c179e"
            ],
            [
             0.4444444444444444,
             "#bd3786"
            ],
            [
             0.5555555555555556,
             "#d8576b"
            ],
            [
             0.6666666666666666,
             "#ed7953"
            ],
            [
             0.7777777777777778,
             "#fb9f3a"
            ],
            [
             0.8888888888888888,
             "#fdca26"
            ],
            [
             1,
             "#f0f921"
            ]
           ],
           "sequentialminus": [
            [
             0,
             "#0d0887"
            ],
            [
             0.1111111111111111,
             "#46039f"
            ],
            [
             0.2222222222222222,
             "#7201a8"
            ],
            [
             0.3333333333333333,
             "#9c179e"
            ],
            [
             0.4444444444444444,
             "#bd3786"
            ],
            [
             0.5555555555555556,
             "#d8576b"
            ],
            [
             0.6666666666666666,
             "#ed7953"
            ],
            [
             0.7777777777777778,
             "#fb9f3a"
            ],
            [
             0.8888888888888888,
             "#fdca26"
            ],
            [
             1,
             "#f0f921"
            ]
           ]
          },
          "colorway": [
           "#636efa",
           "#EF553B",
           "#00cc96",
           "#ab63fa",
           "#FFA15A",
           "#19d3f3",
           "#FF6692",
           "#B6E880",
           "#FF97FF",
           "#FECB52"
          ],
          "font": {
           "color": "#2a3f5f"
          },
          "geo": {
           "bgcolor": "white",
           "lakecolor": "white",
           "landcolor": "#E5ECF6",
           "showlakes": true,
           "showland": true,
           "subunitcolor": "white"
          },
          "hoverlabel": {
           "align": "left"
          },
          "hovermode": "closest",
          "mapbox": {
           "style": "light"
          },
          "paper_bgcolor": "white",
          "plot_bgcolor": "#E5ECF6",
          "polar": {
           "angularaxis": {
            "gridcolor": "white",
            "linecolor": "white",
            "ticks": ""
           },
           "bgcolor": "#E5ECF6",
           "radialaxis": {
            "gridcolor": "white",
            "linecolor": "white",
            "ticks": ""
           }
          },
          "scene": {
           "xaxis": {
            "backgroundcolor": "#E5ECF6",
            "gridcolor": "white",
            "gridwidth": 2,
            "linecolor": "white",
            "showbackground": true,
            "ticks": "",
            "zerolinecolor": "white"
           },
           "yaxis": {
            "backgroundcolor": "#E5ECF6",
            "gridcolor": "white",
            "gridwidth": 2,
            "linecolor": "white",
            "showbackground": true,
            "ticks": "",
            "zerolinecolor": "white"
           },
           "zaxis": {
            "backgroundcolor": "#E5ECF6",
            "gridcolor": "white",
            "gridwidth": 2,
            "linecolor": "white",
            "showbackground": true,
            "ticks": "",
            "zerolinecolor": "white"
           }
          },
          "shapedefaults": {
           "line": {
            "color": "#2a3f5f"
           }
          },
          "ternary": {
           "aaxis": {
            "gridcolor": "white",
            "linecolor": "white",
            "ticks": ""
           },
           "baxis": {
            "gridcolor": "white",
            "linecolor": "white",
            "ticks": ""
           },
           "bgcolor": "#E5ECF6",
           "caxis": {
            "gridcolor": "white",
            "linecolor": "white",
            "ticks": ""
           }
          },
          "title": {
           "x": 0.05
          },
          "xaxis": {
           "automargin": true,
           "gridcolor": "white",
           "linecolor": "white",
           "ticks": "",
           "title": {
            "standoff": 15
           },
           "zerolinecolor": "white",
           "zerolinewidth": 2
          },
          "yaxis": {
           "automargin": true,
           "gridcolor": "white",
           "linecolor": "white",
           "ticks": "",
           "title": {
            "standoff": 15
           },
           "zerolinecolor": "white",
           "zerolinewidth": 2
          }
         }
        },
        "title": {
         "font": {
          "color": "#4D5663"
         }
        },
        "xaxis": {
         "anchor": "y",
         "domain": [
          0,
          0.2125
         ],
         "gridcolor": "#E1E5ED",
         "showgrid": false,
         "tickfont": {
          "color": "#4D5663"
         },
         "title": {
          "font": {
           "color": "#4D5663"
          },
          "text": ""
         },
         "zerolinecolor": "#E1E5ED"
        },
        "xaxis10": {
         "anchor": "y10",
         "domain": [
          0.2625,
          0.475
         ],
         "gridcolor": "#E1E5ED",
         "showgrid": false,
         "tickfont": {
          "color": "#4D5663"
         },
         "title": {
          "font": {
           "color": "#4D5663"
          },
          "text": ""
         },
         "zerolinecolor": "#E1E5ED"
        },
        "xaxis11": {
         "anchor": "y11",
         "domain": [
          0.525,
          0.7375
         ],
         "gridcolor": "#E1E5ED",
         "showgrid": false,
         "tickfont": {
          "color": "#4D5663"
         },
         "title": {
          "font": {
           "color": "#4D5663"
          },
          "text": ""
         },
         "zerolinecolor": "#E1E5ED"
        },
        "xaxis12": {
         "anchor": "y12",
         "domain": [
          0.7875,
          1
         ],
         "gridcolor": "#E1E5ED",
         "showgrid": false,
         "tickfont": {
          "color": "#4D5663"
         },
         "title": {
          "font": {
           "color": "#4D5663"
          },
          "text": ""
         },
         "zerolinecolor": "#E1E5ED"
        },
        "xaxis13": {
         "anchor": "y13",
         "domain": [
          0,
          0.2125
         ],
         "gridcolor": "#E1E5ED",
         "showgrid": false,
         "tickfont": {
          "color": "#4D5663"
         },
         "title": {
          "font": {
           "color": "#4D5663"
          },
          "text": ""
         },
         "zerolinecolor": "#E1E5ED"
        },
        "xaxis14": {
         "anchor": "y14",
         "domain": [
          0.2625,
          0.475
         ],
         "gridcolor": "#E1E5ED",
         "showgrid": false,
         "tickfont": {
          "color": "#4D5663"
         },
         "title": {
          "font": {
           "color": "#4D5663"
          },
          "text": ""
         },
         "zerolinecolor": "#E1E5ED"
        },
        "xaxis15": {
         "anchor": "y15",
         "domain": [
          0.525,
          0.7375
         ],
         "gridcolor": "#E1E5ED",
         "showgrid": false,
         "tickfont": {
          "color": "#4D5663"
         },
         "title": {
          "font": {
           "color": "#4D5663"
          },
          "text": ""
         },
         "zerolinecolor": "#E1E5ED"
        },
        "xaxis16": {
         "anchor": "y16",
         "domain": [
          0.7875,
          1
         ],
         "gridcolor": "#E1E5ED",
         "showgrid": false,
         "tickfont": {
          "color": "#4D5663"
         },
         "title": {
          "font": {
           "color": "#4D5663"
          },
          "text": ""
         },
         "zerolinecolor": "#E1E5ED"
        },
        "xaxis2": {
         "anchor": "y2",
         "domain": [
          0.2625,
          0.475
         ],
         "gridcolor": "#E1E5ED",
         "showgrid": false,
         "tickfont": {
          "color": "#4D5663"
         },
         "title": {
          "font": {
           "color": "#4D5663"
          },
          "text": ""
         },
         "zerolinecolor": "#E1E5ED"
        },
        "xaxis3": {
         "anchor": "y3",
         "domain": [
          0.525,
          0.7375
         ],
         "gridcolor": "#E1E5ED",
         "showgrid": false,
         "tickfont": {
          "color": "#4D5663"
         },
         "title": {
          "font": {
           "color": "#4D5663"
          },
          "text": ""
         },
         "zerolinecolor": "#E1E5ED"
        },
        "xaxis4": {
         "anchor": "y4",
         "domain": [
          0.7875,
          1
         ],
         "gridcolor": "#E1E5ED",
         "showgrid": false,
         "tickfont": {
          "color": "#4D5663"
         },
         "title": {
          "font": {
           "color": "#4D5663"
          },
          "text": ""
         },
         "zerolinecolor": "#E1E5ED"
        },
        "xaxis5": {
         "anchor": "y5",
         "domain": [
          0,
          0.2125
         ],
         "gridcolor": "#E1E5ED",
         "showgrid": false,
         "tickfont": {
          "color": "#4D5663"
         },
         "title": {
          "font": {
           "color": "#4D5663"
          },
          "text": ""
         },
         "zerolinecolor": "#E1E5ED"
        },
        "xaxis6": {
         "anchor": "y6",
         "domain": [
          0.2625,
          0.475
         ],
         "gridcolor": "#E1E5ED",
         "showgrid": false,
         "tickfont": {
          "color": "#4D5663"
         },
         "title": {
          "font": {
           "color": "#4D5663"
          },
          "text": ""
         },
         "zerolinecolor": "#E1E5ED"
        },
        "xaxis7": {
         "anchor": "y7",
         "domain": [
          0.525,
          0.7375
         ],
         "gridcolor": "#E1E5ED",
         "showgrid": false,
         "tickfont": {
          "color": "#4D5663"
         },
         "title": {
          "font": {
           "color": "#4D5663"
          },
          "text": ""
         },
         "zerolinecolor": "#E1E5ED"
        },
        "xaxis8": {
         "anchor": "y8",
         "domain": [
          0.7875,
          1
         ],
         "gridcolor": "#E1E5ED",
         "showgrid": false,
         "tickfont": {
          "color": "#4D5663"
         },
         "title": {
          "font": {
           "color": "#4D5663"
          },
          "text": ""
         },
         "zerolinecolor": "#E1E5ED"
        },
        "xaxis9": {
         "anchor": "y9",
         "domain": [
          0,
          0.2125
         ],
         "gridcolor": "#E1E5ED",
         "showgrid": false,
         "tickfont": {
          "color": "#4D5663"
         },
         "title": {
          "font": {
           "color": "#4D5663"
          },
          "text": ""
         },
         "zerolinecolor": "#E1E5ED"
        },
        "yaxis": {
         "anchor": "x",
         "domain": [
          0.8025,
          1
         ],
         "gridcolor": "#E1E5ED",
         "showgrid": false,
         "tickfont": {
          "color": "#4D5663"
         },
         "title": {
          "font": {
           "color": "#4D5663"
          },
          "text": ""
         },
         "zerolinecolor": "#E1E5ED"
        },
        "yaxis10": {
         "anchor": "x10",
         "domain": [
          0.2675,
          0.465
         ],
         "gridcolor": "#E1E5ED",
         "showgrid": false,
         "tickfont": {
          "color": "#4D5663"
         },
         "title": {
          "font": {
           "color": "#4D5663"
          },
          "text": ""
         },
         "zerolinecolor": "#E1E5ED"
        },
        "yaxis11": {
         "anchor": "x11",
         "domain": [
          0.2675,
          0.465
         ],
         "gridcolor": "#E1E5ED",
         "showgrid": false,
         "tickfont": {
          "color": "#4D5663"
         },
         "title": {
          "font": {
           "color": "#4D5663"
          },
          "text": ""
         },
         "zerolinecolor": "#E1E5ED"
        },
        "yaxis12": {
         "anchor": "x12",
         "domain": [
          0.2675,
          0.465
         ],
         "gridcolor": "#E1E5ED",
         "showgrid": false,
         "tickfont": {
          "color": "#4D5663"
         },
         "title": {
          "font": {
           "color": "#4D5663"
          },
          "text": ""
         },
         "zerolinecolor": "#E1E5ED"
        },
        "yaxis13": {
         "anchor": "x13",
         "domain": [
          0,
          0.1975
         ],
         "gridcolor": "#E1E5ED",
         "showgrid": false,
         "tickfont": {
          "color": "#4D5663"
         },
         "title": {
          "font": {
           "color": "#4D5663"
          },
          "text": ""
         },
         "zerolinecolor": "#E1E5ED"
        },
        "yaxis14": {
         "anchor": "x14",
         "domain": [
          0,
          0.1975
         ],
         "gridcolor": "#E1E5ED",
         "showgrid": false,
         "tickfont": {
          "color": "#4D5663"
         },
         "title": {
          "font": {
           "color": "#4D5663"
          },
          "text": ""
         },
         "zerolinecolor": "#E1E5ED"
        },
        "yaxis15": {
         "anchor": "x15",
         "domain": [
          0,
          0.1975
         ],
         "gridcolor": "#E1E5ED",
         "showgrid": false,
         "tickfont": {
          "color": "#4D5663"
         },
         "title": {
          "font": {
           "color": "#4D5663"
          },
          "text": ""
         },
         "zerolinecolor": "#E1E5ED"
        },
        "yaxis16": {
         "anchor": "x16",
         "domain": [
          0,
          0.1975
         ],
         "gridcolor": "#E1E5ED",
         "showgrid": false,
         "tickfont": {
          "color": "#4D5663"
         },
         "title": {
          "font": {
           "color": "#4D5663"
          },
          "text": ""
         },
         "zerolinecolor": "#E1E5ED"
        },
        "yaxis2": {
         "anchor": "x2",
         "domain": [
          0.8025,
          1
         ],
         "gridcolor": "#E1E5ED",
         "showgrid": false,
         "tickfont": {
          "color": "#4D5663"
         },
         "title": {
          "font": {
           "color": "#4D5663"
          },
          "text": ""
         },
         "zerolinecolor": "#E1E5ED"
        },
        "yaxis3": {
         "anchor": "x3",
         "domain": [
          0.8025,
          1
         ],
         "gridcolor": "#E1E5ED",
         "showgrid": false,
         "tickfont": {
          "color": "#4D5663"
         },
         "title": {
          "font": {
           "color": "#4D5663"
          },
          "text": ""
         },
         "zerolinecolor": "#E1E5ED"
        },
        "yaxis4": {
         "anchor": "x4",
         "domain": [
          0.8025,
          1
         ],
         "gridcolor": "#E1E5ED",
         "showgrid": false,
         "tickfont": {
          "color": "#4D5663"
         },
         "title": {
          "font": {
           "color": "#4D5663"
          },
          "text": ""
         },
         "zerolinecolor": "#E1E5ED"
        },
        "yaxis5": {
         "anchor": "x5",
         "domain": [
          0.535,
          0.7325
         ],
         "gridcolor": "#E1E5ED",
         "showgrid": false,
         "tickfont": {
          "color": "#4D5663"
         },
         "title": {
          "font": {
           "color": "#4D5663"
          },
          "text": ""
         },
         "zerolinecolor": "#E1E5ED"
        },
        "yaxis6": {
         "anchor": "x6",
         "domain": [
          0.535,
          0.7325
         ],
         "gridcolor": "#E1E5ED",
         "showgrid": false,
         "tickfont": {
          "color": "#4D5663"
         },
         "title": {
          "font": {
           "color": "#4D5663"
          },
          "text": ""
         },
         "zerolinecolor": "#E1E5ED"
        },
        "yaxis7": {
         "anchor": "x7",
         "domain": [
          0.535,
          0.7325
         ],
         "gridcolor": "#E1E5ED",
         "showgrid": false,
         "tickfont": {
          "color": "#4D5663"
         },
         "title": {
          "font": {
           "color": "#4D5663"
          },
          "text": ""
         },
         "zerolinecolor": "#E1E5ED"
        },
        "yaxis8": {
         "anchor": "x8",
         "domain": [
          0.535,
          0.7325
         ],
         "gridcolor": "#E1E5ED",
         "showgrid": false,
         "tickfont": {
          "color": "#4D5663"
         },
         "title": {
          "font": {
           "color": "#4D5663"
          },
          "text": ""
         },
         "zerolinecolor": "#E1E5ED"
        },
        "yaxis9": {
         "anchor": "x9",
         "domain": [
          0.2675,
          0.465
         ],
         "gridcolor": "#E1E5ED",
         "showgrid": false,
         "tickfont": {
          "color": "#4D5663"
         },
         "title": {
          "font": {
           "color": "#4D5663"
          },
          "text": ""
         },
         "zerolinecolor": "#E1E5ED"
        }
       }
      },
      "text/html": [
       "<div>\n",
       "        \n",
       "        \n",
       "            <div id=\"0a41bd43-8e4a-428a-a6b8-92b4b542cca7\" class=\"plotly-graph-div\" style=\"height:525px; width:100%;\"></div>\n",
       "            <script type=\"text/javascript\">\n",
       "                require([\"plotly\"], function(Plotly) {\n",
       "                    window.PLOTLYENV=window.PLOTLYENV || {};\n",
       "                    window.PLOTLYENV.BASE_URL='https://plot.ly';\n",
       "                    \n",
       "                if (document.getElementById(\"0a41bd43-8e4a-428a-a6b8-92b4b542cca7\")) {\n",
       "                    Plotly.newPlot(\n",
       "                        '0a41bd43-8e4a-428a-a6b8-92b4b542cca7',\n",
       "                        [{\"histfunc\": \"count\", \"histnorm\": \"\", \"marker\": {\"color\": \"rgba(255, 153, 51, 1.0)\", \"line\": {\"color\": \"#4D5663\", \"width\": 1.3}}, \"name\": \"A\", \"nbinsx\": 10, \"opacity\": 0.8, \"orientation\": \"v\", \"type\": \"histogram\", \"x\": [-0.3528362464153668, -0.284490578588392, 2.203326375137168, 1.1914906229339413, -0.5643907599811814, 2.7798718153014357, 1.1392230478947218, -0.3969084492198873, -0.8431354506721372, -1.2113706937321673, -1.1232328854452367, 0.4518665654795515, 0.15108658835894914, -1.7197708096350655, -0.07078563077906978, -0.980891266191066, -2.0065915820068994, 0.04405074044947059, -0.1816391125056839, 0.7598049797859753, -1.096012407090366, -1.4973956161707278, -2.2293808754538005, -0.15494190096890462, -0.8404676595449304, -1.5864444840611043, -1.271828143859151, 0.233536485699503, 0.32955043668175693, 1.1595295612279588, -0.5278554404367857, -0.16303045205008881, -1.7674739515583324, 0.33892658874933296, 0.19685617323938542, 0.33023853338745474, 0.03730643652616613, 0.32496894629056994, 0.23244779523287074, -0.01842197648227652, -1.1672830340101563, -0.40440266128609065, 2.07759282848088, 0.14020699314040225, 0.11670666187449041, -1.3759216802724983, 2.3270704249878746, 0.3972406311737788, 0.17442023752997537, -0.2800525759529055, 0.4506210148099999, 2.6202326404140677, 1.0653150560571336, 1.7095140209602646, 0.7990198343521421, -0.8281912607199876, -0.806280334150687, 1.6979095908090678, -0.8672712204039527, 1.1005741543620384, -0.6546095261109552, 0.9048167986183359, -0.7100506115690377, 0.648084430407177, 0.9447881732500704, -0.4713552039565896, 0.21402616654041448, -0.935151045365892, 1.2150495379117552, -0.43140919672950967, -1.1891048756132958, 0.9847206464209383, 0.40945681494002684, -0.8066269723088334, -0.6687296314674605, -1.0238807147882825, -0.2700469623402802, 0.5690651238713944, 0.6865219970682781, 0.6483901625701793, 1.2905559982270822, 0.8178639588042602, 1.1575135611917569, -2.0984711888019745, -1.7762476161655396, -0.6748575307003194, -0.21849196898810175, -0.5753702112145309, -0.3920858562314582, 0.6970390930379042, -1.4429250467452353, -0.3166115618643759, -0.3519621812877541, -0.4525464016079805, 0.5423829440734289, -0.36691990004214553, -0.7611303390249726, 2.0511135768496143, -0.9598352743683791, -0.37398827024180453], \"xaxis\": \"x\", \"yaxis\": \"y\"}, {\"line\": {\"color\": \"rgba(128, 128, 128, 1.0)\", \"dash\": \"solid\", \"shape\": \"linear\", \"width\": 1.3}, \"marker\": {\"size\": 2, \"symbol\": \"circle\"}, \"mode\": \"markers\", \"name\": \"A\", \"text\": \"\", \"type\": \"scatter\", \"x\": [-1.5145455118176767, -0.01367326820150052, -0.7829236033971367, 2.1758105864782173, 0.014005493606606743, -0.408817628815818, -1.9692976906687827, 0.7934251922172569, -0.10928246963521912, -1.8675911342151044, -0.291350381007704, -0.2861757143497499, 0.45182196198038505, -1.3540852014076956, 0.11849633147728272, -1.4831515290012542, -0.15594664619415652, 0.8218005891800004, -1.3196893908390053, 0.9516245220412897, 1.0245182381659395, -0.9086606060000463, 0.3667342867629603, 2.1748246081996387, -1.4412403414461203, 1.3547356288206962, 0.07448038483912717, -2.0463557158127803, -0.2466438968154346, 0.7427704569505088, 0.7393827811394357, 0.3470737898934057, -0.21339715374304669, -0.29843604210654695, -0.26984569594619834, -0.7380914719749732, 0.085445841445681, -0.03377606407086046, -0.20658488335554978, -0.2320627365179663, 0.6895012608888704, -1.9625798027603658, -1.3809616631815926, 1.270026636907869, -1.1676750826700475, 0.6835442102993022, -0.10819067203435048, -0.38848646939043074, -1.3146096093947917, 1.2343026179645644, -1.1578924940873192, 0.9311809476907813, -0.9408852209315937, 0.2777851236373851, -0.2792794125675632, 0.5699172325515569, 1.1815215185447847, -0.4101575978585351, -1.3520086334848345, -0.2206896804793058, -0.635846746095747, -2.2801475925723, -0.13273463837665134, -1.4357460149388654, -2.0947528958618142, -1.4043908765273556, 1.235437712356553, -0.2961297710843259, 0.712446862050636, -0.5733163055127384, 0.8724480526635303, 0.34296687693318517, -1.8772458375662273, 0.04838875314046682, 1.1439410329456652, -1.4074872363653521, -0.41353126423716985, -1.2891804111532066, -0.8016211831893039, -1.1778852829324677, 0.8601306959837082, -0.7846632368352668, 0.8951888056616729, -0.1209386568012941, 0.3507332670458818, 0.40839273692365535, 1.3923988082070355, 0.5898704076273781, 1.4937796385060818, 0.9554951083022206, -0.12453902532811652, -1.280101497255287, -0.8670228686188641, -0.6542483247746392, -0.27107332066291734, 1.7482116014051732, 1.6179167104189263, -0.627179728211577, 0.7520281731249727, -0.5689711239929849], \"xaxis\": \"x2\", \"y\": [-0.3528362464153668, -0.284490578588392, 2.203326375137168, 1.1914906229339413, -0.5643907599811814, 2.7798718153014357, 1.1392230478947218, -0.3969084492198873, -0.8431354506721372, -1.2113706937321673, -1.1232328854452367, 0.4518665654795515, 0.15108658835894914, -1.7197708096350655, -0.07078563077906978, -0.980891266191066, -2.0065915820068994, 0.04405074044947059, -0.1816391125056839, 0.7598049797859753, -1.096012407090366, -1.4973956161707278, -2.2293808754538005, -0.15494190096890462, -0.8404676595449304, -1.5864444840611043, -1.271828143859151, 0.233536485699503, 0.32955043668175693, 1.1595295612279588, -0.5278554404367857, -0.16303045205008881, -1.7674739515583324, 0.33892658874933296, 0.19685617323938542, 0.33023853338745474, 0.03730643652616613, 0.32496894629056994, 0.23244779523287074, -0.01842197648227652, -1.1672830340101563, -0.40440266128609065, 2.07759282848088, 0.14020699314040225, 0.11670666187449041, -1.3759216802724983, 2.3270704249878746, 0.3972406311737788, 0.17442023752997537, -0.2800525759529055, 0.4506210148099999, 2.6202326404140677, 1.0653150560571336, 1.7095140209602646, 0.7990198343521421, -0.8281912607199876, -0.806280334150687, 1.6979095908090678, -0.8672712204039527, 1.1005741543620384, -0.6546095261109552, 0.9048167986183359, -0.7100506115690377, 0.648084430407177, 0.9447881732500704, -0.4713552039565896, 0.21402616654041448, -0.935151045365892, 1.2150495379117552, -0.43140919672950967, -1.1891048756132958, 0.9847206464209383, 0.40945681494002684, -0.8066269723088334, -0.6687296314674605, -1.0238807147882825, -0.2700469623402802, 0.5690651238713944, 0.6865219970682781, 0.6483901625701793, 1.2905559982270822, 0.8178639588042602, 1.1575135611917569, -2.0984711888019745, -1.7762476161655396, -0.6748575307003194, -0.21849196898810175, -0.5753702112145309, -0.3920858562314582, 0.6970390930379042, -1.4429250467452353, -0.3166115618643759, -0.3519621812877541, -0.4525464016079805, 0.5423829440734289, -0.36691990004214553, -0.7611303390249726, 2.0511135768496143, -0.9598352743683791, -0.37398827024180453], \"yaxis\": \"y2\"}, {\"line\": {\"color\": \"rgba(128, 128, 128, 1.0)\", \"dash\": \"solid\", \"shape\": \"linear\", \"width\": 1.3}, \"marker\": {\"size\": 2, \"symbol\": \"circle\"}, \"mode\": \"markers\", \"name\": \"A\", \"text\": \"\", \"type\": \"scatter\", \"x\": [-2.3704016563776555, 0.710914398419287, 0.6309631659503724, -2.8442861967365327, -0.0037811628578325435, -0.6382947031932034, -0.5832920116811756, 1.1026000251690178, -0.4489180991658564, 1.05520211811089, 1.1082161681792269, 0.046435857114627235, -0.2510267408961941, -0.4371164022967774, -0.5726351450065652, -0.4558868992851681, 0.8045657127614613, -0.6143361630344545, -1.6160987259954223, 1.3057845255800853, -0.7461470247736539, 0.1750160823313732, -1.1067051377260886, -0.5204797459819671, -1.4376613633318407, -0.46334884147883815, 0.9571971280775794, 0.10750091380559694, 0.2999155740381957, 0.2185691512067851, -0.2579678098624532, 1.3217142621895663, 0.4953794816082393, -0.024538641741287965, -0.07153303580223697, -0.1793581282707107, -0.06729147187170058, -2.557307701474324, -0.1060324200332444, 0.31169871316192516, 1.3348243165181144, -1.9852327530302238, -0.5047144315416485, 2.0115813901704973, 0.7134892560485943, 0.5484249921365187, 0.11248846492915397, 0.08333088334699466, -1.3682499335799407, -0.6974724359103268, 0.37716037785946616, 0.17044734212634838, 0.12590105794568657, 0.7343765332029945, -1.4006553322902726, 1.0398357714966402, 1.1634583514551176, 1.58060380206921, -1.2613190243691939, 1.2877452491185823, 1.2460599997934427, 0.3613975529675301, 0.21462586530124092, -0.6090968319472858, 0.23882620428736073, 0.00036416526394703947, -1.2276092246013988, -0.8340878876745745, -0.08872398862382311, -0.061588045991439896, 0.07524987023586598, 1.153665247704061, -0.10204239551389348, 1.3361090973740046, -0.5740083415431523, -0.8577488708805439, -0.4261175399792977, 0.9653094704371724, -0.8173212555447603, 1.0639239966446306, 1.4278115423329014, 0.7042444273074215, 0.22693524735557136, -0.7652187063502671, -0.2502387171320374, 0.5676968944730754, 0.5943365371060254, 0.6837008990404221, 0.45789611494130283, -0.35489134846406123, -0.4914581973149613, -0.4131351259857275, -1.023404819406341, 0.1370090793966986, 0.961244139221754, 0.007385617385094512, 1.0517038093011737, -1.3085422591568026, -0.11633946117127415, -1.8454019863290603], \"xaxis\": \"x3\", \"y\": [-0.3528362464153668, -0.284490578588392, 2.203326375137168, 1.1914906229339413, -0.5643907599811814, 2.7798718153014357, 1.1392230478947218, -0.3969084492198873, -0.8431354506721372, -1.2113706937321673, -1.1232328854452367, 0.4518665654795515, 0.15108658835894914, -1.7197708096350655, -0.07078563077906978, -0.980891266191066, -2.0065915820068994, 0.04405074044947059, -0.1816391125056839, 0.7598049797859753, -1.096012407090366, -1.4973956161707278, -2.2293808754538005, -0.15494190096890462, -0.8404676595449304, -1.5864444840611043, -1.271828143859151, 0.233536485699503, 0.32955043668175693, 1.1595295612279588, -0.5278554404367857, -0.16303045205008881, -1.7674739515583324, 0.33892658874933296, 0.19685617323938542, 0.33023853338745474, 0.03730643652616613, 0.32496894629056994, 0.23244779523287074, -0.01842197648227652, -1.1672830340101563, -0.40440266128609065, 2.07759282848088, 0.14020699314040225, 0.11670666187449041, -1.3759216802724983, 2.3270704249878746, 0.3972406311737788, 0.17442023752997537, -0.2800525759529055, 0.4506210148099999, 2.6202326404140677, 1.0653150560571336, 1.7095140209602646, 0.7990198343521421, -0.8281912607199876, -0.806280334150687, 1.6979095908090678, -0.8672712204039527, 1.1005741543620384, -0.6546095261109552, 0.9048167986183359, -0.7100506115690377, 0.648084430407177, 0.9447881732500704, -0.4713552039565896, 0.21402616654041448, -0.935151045365892, 1.2150495379117552, -0.43140919672950967, -1.1891048756132958, 0.9847206464209383, 0.40945681494002684, -0.8066269723088334, -0.6687296314674605, -1.0238807147882825, -0.2700469623402802, 0.5690651238713944, 0.6865219970682781, 0.6483901625701793, 1.2905559982270822, 0.8178639588042602, 1.1575135611917569, -2.0984711888019745, -1.7762476161655396, -0.6748575307003194, -0.21849196898810175, -0.5753702112145309, -0.3920858562314582, 0.6970390930379042, -1.4429250467452353, -0.3166115618643759, -0.3519621812877541, -0.4525464016079805, 0.5423829440734289, -0.36691990004214553, -0.7611303390249726, 2.0511135768496143, -0.9598352743683791, -0.37398827024180453], \"yaxis\": \"y3\"}, {\"line\": {\"color\": \"rgba(128, 128, 128, 1.0)\", \"dash\": \"solid\", \"shape\": \"linear\", \"width\": 1.3}, \"marker\": {\"size\": 2, \"symbol\": \"circle\"}, \"mode\": \"markers\", \"name\": \"A\", \"text\": \"\", \"type\": \"scatter\", \"x\": [0.5537390638675553, 1.7275733675276843, 1.216431303443142, -0.35761928337126386, -0.2766384153037906, 0.9175563269542514, 0.7913703760222024, 0.6220956147817989, -0.9831544551054343, 1.0285919896520503, -0.31358613968988003, -0.775285515456309, 0.9121360708078701, -1.3392510286273374, -0.2247116800768073, 0.9541268394764304, -1.2930827345554905, -0.1794147558476305, -0.204389594528781, -0.5649726476650159, -0.22933740132582756, -0.12357211924056424, 0.4077407006940749, 2.043079024269626, -1.8966506055913155, 0.37506058424840283, -0.3557237502946604, -1.1658294796761153, -0.3314174317554599, 0.5145784433956135, -0.17837855724679227, 0.5819743037137235, -0.2170352844294026, -1.5008635117509095, 0.4430612675009117, -0.5607325848055742, -0.8927402578611204, -1.00706359189859, 0.7062444360618905, 0.37532512452690064, -0.60918430290378, -0.3994943366348986, 0.17679870439558548, -1.174429900552088, -1.3649070274623116, 0.8110181135624027, 1.2204650689075098, -0.04066020848211326, -0.798661941308709, -0.9230544760455293, 2.48660459433927, -0.06274331502043014, -1.1079901104727323, 0.149286669555233, -0.41689930404468056, -1.2000400022790192, -0.5385790202389502, -0.9264732450946596, 0.34937348613737107, -0.38320883769824815, 1.3675813627800308, 0.3696598404405374, 0.31873612059708706, 0.8654078552911361, -1.5376213372959873, -0.1947903323528216, -1.1909326220751137, 0.10457430890020339, 0.6050940987273143, -0.5132853593327287, -0.7755845604958479, 1.7023984579456823, 0.38754335554690883, -0.9282832799462417, -0.5055032937398403, -0.05673078953268362, 0.7475335009747427, -0.06210187278705163, 1.5377080899458013, -0.6697979120234541, 0.29250646337732666, -0.157303460931491, 1.2745952342564728, -2.0248042313737624, -0.09095499158177012, 0.330332051144852, -1.421859288088006, 0.8450082617292108, -0.5335434113230583, -0.2855092868899809, -0.0021180714025973127, -0.3188647510560923, 0.7484749193984869, 1.2867921778713245, 0.13640248363414795, 0.6299953592964012, 0.33263293241450487, 0.1985242742168156, 0.5004590278283447, -0.33700623860984585], \"xaxis\": \"x4\", \"y\": [-0.3528362464153668, -0.284490578588392, 2.203326375137168, 1.1914906229339413, -0.5643907599811814, 2.7798718153014357, 1.1392230478947218, -0.3969084492198873, -0.8431354506721372, -1.2113706937321673, -1.1232328854452367, 0.4518665654795515, 0.15108658835894914, -1.7197708096350655, -0.07078563077906978, -0.980891266191066, -2.0065915820068994, 0.04405074044947059, -0.1816391125056839, 0.7598049797859753, -1.096012407090366, -1.4973956161707278, -2.2293808754538005, -0.15494190096890462, -0.8404676595449304, -1.5864444840611043, -1.271828143859151, 0.233536485699503, 0.32955043668175693, 1.1595295612279588, -0.5278554404367857, -0.16303045205008881, -1.7674739515583324, 0.33892658874933296, 0.19685617323938542, 0.33023853338745474, 0.03730643652616613, 0.32496894629056994, 0.23244779523287074, -0.01842197648227652, -1.1672830340101563, -0.40440266128609065, 2.07759282848088, 0.14020699314040225, 0.11670666187449041, -1.3759216802724983, 2.3270704249878746, 0.3972406311737788, 0.17442023752997537, -0.2800525759529055, 0.4506210148099999, 2.6202326404140677, 1.0653150560571336, 1.7095140209602646, 0.7990198343521421, -0.8281912607199876, -0.806280334150687, 1.6979095908090678, -0.8672712204039527, 1.1005741543620384, -0.6546095261109552, 0.9048167986183359, -0.7100506115690377, 0.648084430407177, 0.9447881732500704, -0.4713552039565896, 0.21402616654041448, -0.935151045365892, 1.2150495379117552, -0.43140919672950967, -1.1891048756132958, 0.9847206464209383, 0.40945681494002684, -0.8066269723088334, -0.6687296314674605, -1.0238807147882825, -0.2700469623402802, 0.5690651238713944, 0.6865219970682781, 0.6483901625701793, 1.2905559982270822, 0.8178639588042602, 1.1575135611917569, -2.0984711888019745, -1.7762476161655396, -0.6748575307003194, -0.21849196898810175, -0.5753702112145309, -0.3920858562314582, 0.6970390930379042, -1.4429250467452353, -0.3166115618643759, -0.3519621812877541, -0.4525464016079805, 0.5423829440734289, -0.36691990004214553, -0.7611303390249726, 2.0511135768496143, -0.9598352743683791, -0.37398827024180453], \"yaxis\": \"y4\"}, {\"line\": {\"color\": \"rgba(128, 128, 128, 1.0)\", \"dash\": \"solid\", \"shape\": \"linear\", \"width\": 1.3}, \"marker\": {\"size\": 2, \"symbol\": \"circle\"}, \"mode\": \"markers\", \"name\": \"B\", \"text\": \"\", \"type\": \"scatter\", \"x\": [-0.3528362464153668, -0.284490578588392, 2.203326375137168, 1.1914906229339413, -0.5643907599811814, 2.7798718153014357, 1.1392230478947218, -0.3969084492198873, -0.8431354506721372, -1.2113706937321673, -1.1232328854452367, 0.4518665654795515, 0.15108658835894914, -1.7197708096350655, -0.07078563077906978, -0.980891266191066, -2.0065915820068994, 0.04405074044947059, -0.1816391125056839, 0.7598049797859753, -1.096012407090366, -1.4973956161707278, -2.2293808754538005, -0.15494190096890462, -0.8404676595449304, -1.5864444840611043, -1.271828143859151, 0.233536485699503, 0.32955043668175693, 1.1595295612279588, -0.5278554404367857, -0.16303045205008881, -1.7674739515583324, 0.33892658874933296, 0.19685617323938542, 0.33023853338745474, 0.03730643652616613, 0.32496894629056994, 0.23244779523287074, -0.01842197648227652, -1.1672830340101563, -0.40440266128609065, 2.07759282848088, 0.14020699314040225, 0.11670666187449041, -1.3759216802724983, 2.3270704249878746, 0.3972406311737788, 0.17442023752997537, -0.2800525759529055, 0.4506210148099999, 2.6202326404140677, 1.0653150560571336, 1.7095140209602646, 0.7990198343521421, -0.8281912607199876, -0.806280334150687, 1.6979095908090678, -0.8672712204039527, 1.1005741543620384, -0.6546095261109552, 0.9048167986183359, -0.7100506115690377, 0.648084430407177, 0.9447881732500704, -0.4713552039565896, 0.21402616654041448, -0.935151045365892, 1.2150495379117552, -0.43140919672950967, -1.1891048756132958, 0.9847206464209383, 0.40945681494002684, -0.8066269723088334, -0.6687296314674605, -1.0238807147882825, -0.2700469623402802, 0.5690651238713944, 0.6865219970682781, 0.6483901625701793, 1.2905559982270822, 0.8178639588042602, 1.1575135611917569, -2.0984711888019745, -1.7762476161655396, -0.6748575307003194, -0.21849196898810175, -0.5753702112145309, -0.3920858562314582, 0.6970390930379042, -1.4429250467452353, -0.3166115618643759, -0.3519621812877541, -0.4525464016079805, 0.5423829440734289, -0.36691990004214553, -0.7611303390249726, 2.0511135768496143, -0.9598352743683791, -0.37398827024180453], \"xaxis\": \"x5\", \"y\": [-1.5145455118176767, -0.01367326820150052, -0.7829236033971367, 2.1758105864782173, 0.014005493606606743, -0.408817628815818, -1.9692976906687827, 0.7934251922172569, -0.10928246963521912, -1.8675911342151044, -0.291350381007704, -0.2861757143497499, 0.45182196198038505, -1.3540852014076956, 0.11849633147728272, -1.4831515290012542, -0.15594664619415652, 0.8218005891800004, -1.3196893908390053, 0.9516245220412897, 1.0245182381659395, -0.9086606060000463, 0.3667342867629603, 2.1748246081996387, -1.4412403414461203, 1.3547356288206962, 0.07448038483912717, -2.0463557158127803, -0.2466438968154346, 0.7427704569505088, 0.7393827811394357, 0.3470737898934057, -0.21339715374304669, -0.29843604210654695, -0.26984569594619834, -0.7380914719749732, 0.085445841445681, -0.03377606407086046, -0.20658488335554978, -0.2320627365179663, 0.6895012608888704, -1.9625798027603658, -1.3809616631815926, 1.270026636907869, -1.1676750826700475, 0.6835442102993022, -0.10819067203435048, -0.38848646939043074, -1.3146096093947917, 1.2343026179645644, -1.1578924940873192, 0.9311809476907813, -0.9408852209315937, 0.2777851236373851, -0.2792794125675632, 0.5699172325515569, 1.1815215185447847, -0.4101575978585351, -1.3520086334848345, -0.2206896804793058, -0.635846746095747, -2.2801475925723, -0.13273463837665134, -1.4357460149388654, -2.0947528958618142, -1.4043908765273556, 1.235437712356553, -0.2961297710843259, 0.712446862050636, -0.5733163055127384, 0.8724480526635303, 0.34296687693318517, -1.8772458375662273, 0.04838875314046682, 1.1439410329456652, -1.4074872363653521, -0.41353126423716985, -1.2891804111532066, -0.8016211831893039, -1.1778852829324677, 0.8601306959837082, -0.7846632368352668, 0.8951888056616729, -0.1209386568012941, 0.3507332670458818, 0.40839273692365535, 1.3923988082070355, 0.5898704076273781, 1.4937796385060818, 0.9554951083022206, -0.12453902532811652, -1.280101497255287, -0.8670228686188641, -0.6542483247746392, -0.27107332066291734, 1.7482116014051732, 1.6179167104189263, -0.627179728211577, 0.7520281731249727, -0.5689711239929849], \"yaxis\": \"y5\"}, {\"histfunc\": \"count\", \"histnorm\": \"\", \"marker\": {\"color\": \"rgba(55, 128, 191, 1.0)\", \"line\": {\"color\": \"#4D5663\", \"width\": 1.3}}, \"name\": \"B\", \"nbinsx\": 10, \"opacity\": 0.8, \"orientation\": \"v\", \"type\": \"histogram\", \"x\": [-1.5145455118176767, -0.01367326820150052, -0.7829236033971367, 2.1758105864782173, 0.014005493606606743, -0.408817628815818, -1.9692976906687827, 0.7934251922172569, -0.10928246963521912, -1.8675911342151044, -0.291350381007704, -0.2861757143497499, 0.45182196198038505, -1.3540852014076956, 0.11849633147728272, -1.4831515290012542, -0.15594664619415652, 0.8218005891800004, -1.3196893908390053, 0.9516245220412897, 1.0245182381659395, -0.9086606060000463, 0.3667342867629603, 2.1748246081996387, -1.4412403414461203, 1.3547356288206962, 0.07448038483912717, -2.0463557158127803, -0.2466438968154346, 0.7427704569505088, 0.7393827811394357, 0.3470737898934057, -0.21339715374304669, -0.29843604210654695, -0.26984569594619834, -0.7380914719749732, 0.085445841445681, -0.03377606407086046, -0.20658488335554978, -0.2320627365179663, 0.6895012608888704, -1.9625798027603658, -1.3809616631815926, 1.270026636907869, -1.1676750826700475, 0.6835442102993022, -0.10819067203435048, -0.38848646939043074, -1.3146096093947917, 1.2343026179645644, -1.1578924940873192, 0.9311809476907813, -0.9408852209315937, 0.2777851236373851, -0.2792794125675632, 0.5699172325515569, 1.1815215185447847, -0.4101575978585351, -1.3520086334848345, -0.2206896804793058, -0.635846746095747, -2.2801475925723, -0.13273463837665134, -1.4357460149388654, -2.0947528958618142, -1.4043908765273556, 1.235437712356553, -0.2961297710843259, 0.712446862050636, -0.5733163055127384, 0.8724480526635303, 0.34296687693318517, -1.8772458375662273, 0.04838875314046682, 1.1439410329456652, -1.4074872363653521, -0.41353126423716985, -1.2891804111532066, -0.8016211831893039, -1.1778852829324677, 0.8601306959837082, -0.7846632368352668, 0.8951888056616729, -0.1209386568012941, 0.3507332670458818, 0.40839273692365535, 1.3923988082070355, 0.5898704076273781, 1.4937796385060818, 0.9554951083022206, -0.12453902532811652, -1.280101497255287, -0.8670228686188641, -0.6542483247746392, -0.27107332066291734, 1.7482116014051732, 1.6179167104189263, -0.627179728211577, 0.7520281731249727, -0.5689711239929849], \"xaxis\": \"x6\", \"yaxis\": \"y6\"}, {\"line\": {\"color\": \"rgba(128, 128, 128, 1.0)\", \"dash\": \"solid\", \"shape\": \"linear\", \"width\": 1.3}, \"marker\": {\"size\": 2, \"symbol\": \"circle\"}, \"mode\": \"markers\", \"name\": \"B\", \"text\": \"\", \"type\": \"scatter\", \"x\": [-2.3704016563776555, 0.710914398419287, 0.6309631659503724, -2.8442861967365327, -0.0037811628578325435, -0.6382947031932034, -0.5832920116811756, 1.1026000251690178, -0.4489180991658564, 1.05520211811089, 1.1082161681792269, 0.046435857114627235, -0.2510267408961941, -0.4371164022967774, -0.5726351450065652, -0.4558868992851681, 0.8045657127614613, -0.6143361630344545, -1.6160987259954223, 1.3057845255800853, -0.7461470247736539, 0.1750160823313732, -1.1067051377260886, -0.5204797459819671, -1.4376613633318407, -0.46334884147883815, 0.9571971280775794, 0.10750091380559694, 0.2999155740381957, 0.2185691512067851, -0.2579678098624532, 1.3217142621895663, 0.4953794816082393, -0.024538641741287965, -0.07153303580223697, -0.1793581282707107, -0.06729147187170058, -2.557307701474324, -0.1060324200332444, 0.31169871316192516, 1.3348243165181144, -1.9852327530302238, -0.5047144315416485, 2.0115813901704973, 0.7134892560485943, 0.5484249921365187, 0.11248846492915397, 0.08333088334699466, -1.3682499335799407, -0.6974724359103268, 0.37716037785946616, 0.17044734212634838, 0.12590105794568657, 0.7343765332029945, -1.4006553322902726, 1.0398357714966402, 1.1634583514551176, 1.58060380206921, -1.2613190243691939, 1.2877452491185823, 1.2460599997934427, 0.3613975529675301, 0.21462586530124092, -0.6090968319472858, 0.23882620428736073, 0.00036416526394703947, -1.2276092246013988, -0.8340878876745745, -0.08872398862382311, -0.061588045991439896, 0.07524987023586598, 1.153665247704061, -0.10204239551389348, 1.3361090973740046, -0.5740083415431523, -0.8577488708805439, -0.4261175399792977, 0.9653094704371724, -0.8173212555447603, 1.0639239966446306, 1.4278115423329014, 0.7042444273074215, 0.22693524735557136, -0.7652187063502671, -0.2502387171320374, 0.5676968944730754, 0.5943365371060254, 0.6837008990404221, 0.45789611494130283, -0.35489134846406123, -0.4914581973149613, -0.4131351259857275, -1.023404819406341, 0.1370090793966986, 0.961244139221754, 0.007385617385094512, 1.0517038093011737, -1.3085422591568026, -0.11633946117127415, -1.8454019863290603], \"xaxis\": \"x7\", \"y\": [-1.5145455118176767, -0.01367326820150052, -0.7829236033971367, 2.1758105864782173, 0.014005493606606743, -0.408817628815818, -1.9692976906687827, 0.7934251922172569, -0.10928246963521912, -1.8675911342151044, -0.291350381007704, -0.2861757143497499, 0.45182196198038505, -1.3540852014076956, 0.11849633147728272, -1.4831515290012542, -0.15594664619415652, 0.8218005891800004, -1.3196893908390053, 0.9516245220412897, 1.0245182381659395, -0.9086606060000463, 0.3667342867629603, 2.1748246081996387, -1.4412403414461203, 1.3547356288206962, 0.07448038483912717, -2.0463557158127803, -0.2466438968154346, 0.7427704569505088, 0.7393827811394357, 0.3470737898934057, -0.21339715374304669, -0.29843604210654695, -0.26984569594619834, -0.7380914719749732, 0.085445841445681, -0.03377606407086046, -0.20658488335554978, -0.2320627365179663, 0.6895012608888704, -1.9625798027603658, -1.3809616631815926, 1.270026636907869, -1.1676750826700475, 0.6835442102993022, -0.10819067203435048, -0.38848646939043074, -1.3146096093947917, 1.2343026179645644, -1.1578924940873192, 0.9311809476907813, -0.9408852209315937, 0.2777851236373851, -0.2792794125675632, 0.5699172325515569, 1.1815215185447847, -0.4101575978585351, -1.3520086334848345, -0.2206896804793058, -0.635846746095747, -2.2801475925723, -0.13273463837665134, -1.4357460149388654, -2.0947528958618142, -1.4043908765273556, 1.235437712356553, -0.2961297710843259, 0.712446862050636, -0.5733163055127384, 0.8724480526635303, 0.34296687693318517, -1.8772458375662273, 0.04838875314046682, 1.1439410329456652, -1.4074872363653521, -0.41353126423716985, -1.2891804111532066, -0.8016211831893039, -1.1778852829324677, 0.8601306959837082, -0.7846632368352668, 0.8951888056616729, -0.1209386568012941, 0.3507332670458818, 0.40839273692365535, 1.3923988082070355, 0.5898704076273781, 1.4937796385060818, 0.9554951083022206, -0.12453902532811652, -1.280101497255287, -0.8670228686188641, -0.6542483247746392, -0.27107332066291734, 1.7482116014051732, 1.6179167104189263, -0.627179728211577, 0.7520281731249727, -0.5689711239929849], \"yaxis\": \"y7\"}, {\"line\": {\"color\": \"rgba(128, 128, 128, 1.0)\", \"dash\": \"solid\", \"shape\": \"linear\", \"width\": 1.3}, \"marker\": {\"size\": 2, \"symbol\": \"circle\"}, \"mode\": \"markers\", \"name\": \"B\", \"text\": \"\", \"type\": \"scatter\", \"x\": [0.5537390638675553, 1.7275733675276843, 1.216431303443142, -0.35761928337126386, -0.2766384153037906, 0.9175563269542514, 0.7913703760222024, 0.6220956147817989, -0.9831544551054343, 1.0285919896520503, -0.31358613968988003, -0.775285515456309, 0.9121360708078701, -1.3392510286273374, -0.2247116800768073, 0.9541268394764304, -1.2930827345554905, -0.1794147558476305, -0.204389594528781, -0.5649726476650159, -0.22933740132582756, -0.12357211924056424, 0.4077407006940749, 2.043079024269626, -1.8966506055913155, 0.37506058424840283, -0.3557237502946604, -1.1658294796761153, -0.3314174317554599, 0.5145784433956135, -0.17837855724679227, 0.5819743037137235, -0.2170352844294026, -1.5008635117509095, 0.4430612675009117, -0.5607325848055742, -0.8927402578611204, -1.00706359189859, 0.7062444360618905, 0.37532512452690064, -0.60918430290378, -0.3994943366348986, 0.17679870439558548, -1.174429900552088, -1.3649070274623116, 0.8110181135624027, 1.2204650689075098, -0.04066020848211326, -0.798661941308709, -0.9230544760455293, 2.48660459433927, -0.06274331502043014, -1.1079901104727323, 0.149286669555233, -0.41689930404468056, -1.2000400022790192, -0.5385790202389502, -0.9264732450946596, 0.34937348613737107, -0.38320883769824815, 1.3675813627800308, 0.3696598404405374, 0.31873612059708706, 0.8654078552911361, -1.5376213372959873, -0.1947903323528216, -1.1909326220751137, 0.10457430890020339, 0.6050940987273143, -0.5132853593327287, -0.7755845604958479, 1.7023984579456823, 0.38754335554690883, -0.9282832799462417, -0.5055032937398403, -0.05673078953268362, 0.7475335009747427, -0.06210187278705163, 1.5377080899458013, -0.6697979120234541, 0.29250646337732666, -0.157303460931491, 1.2745952342564728, -2.0248042313737624, -0.09095499158177012, 0.330332051144852, -1.421859288088006, 0.8450082617292108, -0.5335434113230583, -0.2855092868899809, -0.0021180714025973127, -0.3188647510560923, 0.7484749193984869, 1.2867921778713245, 0.13640248363414795, 0.6299953592964012, 0.33263293241450487, 0.1985242742168156, 0.5004590278283447, -0.33700623860984585], \"xaxis\": \"x8\", \"y\": [-1.5145455118176767, -0.01367326820150052, -0.7829236033971367, 2.1758105864782173, 0.014005493606606743, -0.408817628815818, -1.9692976906687827, 0.7934251922172569, -0.10928246963521912, -1.8675911342151044, -0.291350381007704, -0.2861757143497499, 0.45182196198038505, -1.3540852014076956, 0.11849633147728272, -1.4831515290012542, -0.15594664619415652, 0.8218005891800004, -1.3196893908390053, 0.9516245220412897, 1.0245182381659395, -0.9086606060000463, 0.3667342867629603, 2.1748246081996387, -1.4412403414461203, 1.3547356288206962, 0.07448038483912717, -2.0463557158127803, -0.2466438968154346, 0.7427704569505088, 0.7393827811394357, 0.3470737898934057, -0.21339715374304669, -0.29843604210654695, -0.26984569594619834, -0.7380914719749732, 0.085445841445681, -0.03377606407086046, -0.20658488335554978, -0.2320627365179663, 0.6895012608888704, -1.9625798027603658, -1.3809616631815926, 1.270026636907869, -1.1676750826700475, 0.6835442102993022, -0.10819067203435048, -0.38848646939043074, -1.3146096093947917, 1.2343026179645644, -1.1578924940873192, 0.9311809476907813, -0.9408852209315937, 0.2777851236373851, -0.2792794125675632, 0.5699172325515569, 1.1815215185447847, -0.4101575978585351, -1.3520086334848345, -0.2206896804793058, -0.635846746095747, -2.2801475925723, -0.13273463837665134, -1.4357460149388654, -2.0947528958618142, -1.4043908765273556, 1.235437712356553, -0.2961297710843259, 0.712446862050636, -0.5733163055127384, 0.8724480526635303, 0.34296687693318517, -1.8772458375662273, 0.04838875314046682, 1.1439410329456652, -1.4074872363653521, -0.41353126423716985, -1.2891804111532066, -0.8016211831893039, -1.1778852829324677, 0.8601306959837082, -0.7846632368352668, 0.8951888056616729, -0.1209386568012941, 0.3507332670458818, 0.40839273692365535, 1.3923988082070355, 0.5898704076273781, 1.4937796385060818, 0.9554951083022206, -0.12453902532811652, -1.280101497255287, -0.8670228686188641, -0.6542483247746392, -0.27107332066291734, 1.7482116014051732, 1.6179167104189263, -0.627179728211577, 0.7520281731249727, -0.5689711239929849], \"yaxis\": \"y8\"}, {\"line\": {\"color\": \"rgba(128, 128, 128, 1.0)\", \"dash\": \"solid\", \"shape\": \"linear\", \"width\": 1.3}, \"marker\": {\"size\": 2, \"symbol\": \"circle\"}, \"mode\": \"markers\", \"name\": \"C\", \"text\": \"\", \"type\": \"scatter\", \"x\": [-0.3528362464153668, -0.284490578588392, 2.203326375137168, 1.1914906229339413, -0.5643907599811814, 2.7798718153014357, 1.1392230478947218, -0.3969084492198873, -0.8431354506721372, -1.2113706937321673, -1.1232328854452367, 0.4518665654795515, 0.15108658835894914, -1.7197708096350655, -0.07078563077906978, -0.980891266191066, -2.0065915820068994, 0.04405074044947059, -0.1816391125056839, 0.7598049797859753, -1.096012407090366, -1.4973956161707278, -2.2293808754538005, -0.15494190096890462, -0.8404676595449304, -1.5864444840611043, -1.271828143859151, 0.233536485699503, 0.32955043668175693, 1.1595295612279588, -0.5278554404367857, -0.16303045205008881, -1.7674739515583324, 0.33892658874933296, 0.19685617323938542, 0.33023853338745474, 0.03730643652616613, 0.32496894629056994, 0.23244779523287074, -0.01842197648227652, -1.1672830340101563, -0.40440266128609065, 2.07759282848088, 0.14020699314040225, 0.11670666187449041, -1.3759216802724983, 2.3270704249878746, 0.3972406311737788, 0.17442023752997537, -0.2800525759529055, 0.4506210148099999, 2.6202326404140677, 1.0653150560571336, 1.7095140209602646, 0.7990198343521421, -0.8281912607199876, -0.806280334150687, 1.6979095908090678, -0.8672712204039527, 1.1005741543620384, -0.6546095261109552, 0.9048167986183359, -0.7100506115690377, 0.648084430407177, 0.9447881732500704, -0.4713552039565896, 0.21402616654041448, -0.935151045365892, 1.2150495379117552, -0.43140919672950967, -1.1891048756132958, 0.9847206464209383, 0.40945681494002684, -0.8066269723088334, -0.6687296314674605, -1.0238807147882825, -0.2700469623402802, 0.5690651238713944, 0.6865219970682781, 0.6483901625701793, 1.2905559982270822, 0.8178639588042602, 1.1575135611917569, -2.0984711888019745, -1.7762476161655396, -0.6748575307003194, -0.21849196898810175, -0.5753702112145309, -0.3920858562314582, 0.6970390930379042, -1.4429250467452353, -0.3166115618643759, -0.3519621812877541, -0.4525464016079805, 0.5423829440734289, -0.36691990004214553, -0.7611303390249726, 2.0511135768496143, -0.9598352743683791, -0.37398827024180453], \"xaxis\": \"x9\", \"y\": [-2.3704016563776555, 0.710914398419287, 0.6309631659503724, -2.8442861967365327, -0.0037811628578325435, -0.6382947031932034, -0.5832920116811756, 1.1026000251690178, -0.4489180991658564, 1.05520211811089, 1.1082161681792269, 0.046435857114627235, -0.2510267408961941, -0.4371164022967774, -0.5726351450065652, -0.4558868992851681, 0.8045657127614613, -0.6143361630344545, -1.6160987259954223, 1.3057845255800853, -0.7461470247736539, 0.1750160823313732, -1.1067051377260886, -0.5204797459819671, -1.4376613633318407, -0.46334884147883815, 0.9571971280775794, 0.10750091380559694, 0.2999155740381957, 0.2185691512067851, -0.2579678098624532, 1.3217142621895663, 0.4953794816082393, -0.024538641741287965, -0.07153303580223697, -0.1793581282707107, -0.06729147187170058, -2.557307701474324, -0.1060324200332444, 0.31169871316192516, 1.3348243165181144, -1.9852327530302238, -0.5047144315416485, 2.0115813901704973, 0.7134892560485943, 0.5484249921365187, 0.11248846492915397, 0.08333088334699466, -1.3682499335799407, -0.6974724359103268, 0.37716037785946616, 0.17044734212634838, 0.12590105794568657, 0.7343765332029945, -1.4006553322902726, 1.0398357714966402, 1.1634583514551176, 1.58060380206921, -1.2613190243691939, 1.2877452491185823, 1.2460599997934427, 0.3613975529675301, 0.21462586530124092, -0.6090968319472858, 0.23882620428736073, 0.00036416526394703947, -1.2276092246013988, -0.8340878876745745, -0.08872398862382311, -0.061588045991439896, 0.07524987023586598, 1.153665247704061, -0.10204239551389348, 1.3361090973740046, -0.5740083415431523, -0.8577488708805439, -0.4261175399792977, 0.9653094704371724, -0.8173212555447603, 1.0639239966446306, 1.4278115423329014, 0.7042444273074215, 0.22693524735557136, -0.7652187063502671, -0.2502387171320374, 0.5676968944730754, 0.5943365371060254, 0.6837008990404221, 0.45789611494130283, -0.35489134846406123, -0.4914581973149613, -0.4131351259857275, -1.023404819406341, 0.1370090793966986, 0.961244139221754, 0.007385617385094512, 1.0517038093011737, -1.3085422591568026, -0.11633946117127415, -1.8454019863290603], \"yaxis\": \"y9\"}, {\"line\": {\"color\": \"rgba(128, 128, 128, 1.0)\", \"dash\": \"solid\", \"shape\": \"linear\", \"width\": 1.3}, \"marker\": {\"size\": 2, \"symbol\": \"circle\"}, \"mode\": \"markers\", \"name\": \"C\", \"text\": \"\", \"type\": \"scatter\", \"x\": [-1.5145455118176767, -0.01367326820150052, -0.7829236033971367, 2.1758105864782173, 0.014005493606606743, -0.408817628815818, -1.9692976906687827, 0.7934251922172569, -0.10928246963521912, -1.8675911342151044, -0.291350381007704, -0.2861757143497499, 0.45182196198038505, -1.3540852014076956, 0.11849633147728272, -1.4831515290012542, -0.15594664619415652, 0.8218005891800004, -1.3196893908390053, 0.9516245220412897, 1.0245182381659395, -0.9086606060000463, 0.3667342867629603, 2.1748246081996387, -1.4412403414461203, 1.3547356288206962, 0.07448038483912717, -2.0463557158127803, -0.2466438968154346, 0.7427704569505088, 0.7393827811394357, 0.3470737898934057, -0.21339715374304669, -0.29843604210654695, -0.26984569594619834, -0.7380914719749732, 0.085445841445681, -0.03377606407086046, -0.20658488335554978, -0.2320627365179663, 0.6895012608888704, -1.9625798027603658, -1.3809616631815926, 1.270026636907869, -1.1676750826700475, 0.6835442102993022, -0.10819067203435048, -0.38848646939043074, -1.3146096093947917, 1.2343026179645644, -1.1578924940873192, 0.9311809476907813, -0.9408852209315937, 0.2777851236373851, -0.2792794125675632, 0.5699172325515569, 1.1815215185447847, -0.4101575978585351, -1.3520086334848345, -0.2206896804793058, -0.635846746095747, -2.2801475925723, -0.13273463837665134, -1.4357460149388654, -2.0947528958618142, -1.4043908765273556, 1.235437712356553, -0.2961297710843259, 0.712446862050636, -0.5733163055127384, 0.8724480526635303, 0.34296687693318517, -1.8772458375662273, 0.04838875314046682, 1.1439410329456652, -1.4074872363653521, -0.41353126423716985, -1.2891804111532066, -0.8016211831893039, -1.1778852829324677, 0.8601306959837082, -0.7846632368352668, 0.8951888056616729, -0.1209386568012941, 0.3507332670458818, 0.40839273692365535, 1.3923988082070355, 0.5898704076273781, 1.4937796385060818, 0.9554951083022206, -0.12453902532811652, -1.280101497255287, -0.8670228686188641, -0.6542483247746392, -0.27107332066291734, 1.7482116014051732, 1.6179167104189263, -0.627179728211577, 0.7520281731249727, -0.5689711239929849], \"xaxis\": \"x10\", \"y\": [-2.3704016563776555, 0.710914398419287, 0.6309631659503724, -2.8442861967365327, -0.0037811628578325435, -0.6382947031932034, -0.5832920116811756, 1.1026000251690178, -0.4489180991658564, 1.05520211811089, 1.1082161681792269, 0.046435857114627235, -0.2510267408961941, -0.4371164022967774, -0.5726351450065652, -0.4558868992851681, 0.8045657127614613, -0.6143361630344545, -1.6160987259954223, 1.3057845255800853, -0.7461470247736539, 0.1750160823313732, -1.1067051377260886, -0.5204797459819671, -1.4376613633318407, -0.46334884147883815, 0.9571971280775794, 0.10750091380559694, 0.2999155740381957, 0.2185691512067851, -0.2579678098624532, 1.3217142621895663, 0.4953794816082393, -0.024538641741287965, -0.07153303580223697, -0.1793581282707107, -0.06729147187170058, -2.557307701474324, -0.1060324200332444, 0.31169871316192516, 1.3348243165181144, -1.9852327530302238, -0.5047144315416485, 2.0115813901704973, 0.7134892560485943, 0.5484249921365187, 0.11248846492915397, 0.08333088334699466, -1.3682499335799407, -0.6974724359103268, 0.37716037785946616, 0.17044734212634838, 0.12590105794568657, 0.7343765332029945, -1.4006553322902726, 1.0398357714966402, 1.1634583514551176, 1.58060380206921, -1.2613190243691939, 1.2877452491185823, 1.2460599997934427, 0.3613975529675301, 0.21462586530124092, -0.6090968319472858, 0.23882620428736073, 0.00036416526394703947, -1.2276092246013988, -0.8340878876745745, -0.08872398862382311, -0.061588045991439896, 0.07524987023586598, 1.153665247704061, -0.10204239551389348, 1.3361090973740046, -0.5740083415431523, -0.8577488708805439, -0.4261175399792977, 0.9653094704371724, -0.8173212555447603, 1.0639239966446306, 1.4278115423329014, 0.7042444273074215, 0.22693524735557136, -0.7652187063502671, -0.2502387171320374, 0.5676968944730754, 0.5943365371060254, 0.6837008990404221, 0.45789611494130283, -0.35489134846406123, -0.4914581973149613, -0.4131351259857275, -1.023404819406341, 0.1370090793966986, 0.961244139221754, 0.007385617385094512, 1.0517038093011737, -1.3085422591568026, -0.11633946117127415, -1.8454019863290603], \"yaxis\": \"y10\"}, {\"histfunc\": \"count\", \"histnorm\": \"\", \"marker\": {\"color\": \"rgba(50, 171, 96, 1.0)\", \"line\": {\"color\": \"#4D5663\", \"width\": 1.3}}, \"name\": \"C\", \"nbinsx\": 10, \"opacity\": 0.8, \"orientation\": \"v\", \"type\": \"histogram\", \"x\": [-2.3704016563776555, 0.710914398419287, 0.6309631659503724, -2.8442861967365327, -0.0037811628578325435, -0.6382947031932034, -0.5832920116811756, 1.1026000251690178, -0.4489180991658564, 1.05520211811089, 1.1082161681792269, 0.046435857114627235, -0.2510267408961941, -0.4371164022967774, -0.5726351450065652, -0.4558868992851681, 0.8045657127614613, -0.6143361630344545, -1.6160987259954223, 1.3057845255800853, -0.7461470247736539, 0.1750160823313732, -1.1067051377260886, -0.5204797459819671, -1.4376613633318407, -0.46334884147883815, 0.9571971280775794, 0.10750091380559694, 0.2999155740381957, 0.2185691512067851, -0.2579678098624532, 1.3217142621895663, 0.4953794816082393, -0.024538641741287965, -0.07153303580223697, -0.1793581282707107, -0.06729147187170058, -2.557307701474324, -0.1060324200332444, 0.31169871316192516, 1.3348243165181144, -1.9852327530302238, -0.5047144315416485, 2.0115813901704973, 0.7134892560485943, 0.5484249921365187, 0.11248846492915397, 0.08333088334699466, -1.3682499335799407, -0.6974724359103268, 0.37716037785946616, 0.17044734212634838, 0.12590105794568657, 0.7343765332029945, -1.4006553322902726, 1.0398357714966402, 1.1634583514551176, 1.58060380206921, -1.2613190243691939, 1.2877452491185823, 1.2460599997934427, 0.3613975529675301, 0.21462586530124092, -0.6090968319472858, 0.23882620428736073, 0.00036416526394703947, -1.2276092246013988, -0.8340878876745745, -0.08872398862382311, -0.061588045991439896, 0.07524987023586598, 1.153665247704061, -0.10204239551389348, 1.3361090973740046, -0.5740083415431523, -0.8577488708805439, -0.4261175399792977, 0.9653094704371724, -0.8173212555447603, 1.0639239966446306, 1.4278115423329014, 0.7042444273074215, 0.22693524735557136, -0.7652187063502671, -0.2502387171320374, 0.5676968944730754, 0.5943365371060254, 0.6837008990404221, 0.45789611494130283, -0.35489134846406123, -0.4914581973149613, -0.4131351259857275, -1.023404819406341, 0.1370090793966986, 0.961244139221754, 0.007385617385094512, 1.0517038093011737, -1.3085422591568026, -0.11633946117127415, -1.8454019863290603], \"xaxis\": \"x11\", \"yaxis\": \"y11\"}, {\"line\": {\"color\": \"rgba(128, 128, 128, 1.0)\", \"dash\": \"solid\", \"shape\": \"linear\", \"width\": 1.3}, \"marker\": {\"size\": 2, \"symbol\": \"circle\"}, \"mode\": \"markers\", \"name\": \"C\", \"text\": \"\", \"type\": \"scatter\", \"x\": [0.5537390638675553, 1.7275733675276843, 1.216431303443142, -0.35761928337126386, -0.2766384153037906, 0.9175563269542514, 0.7913703760222024, 0.6220956147817989, -0.9831544551054343, 1.0285919896520503, -0.31358613968988003, -0.775285515456309, 0.9121360708078701, -1.3392510286273374, -0.2247116800768073, 0.9541268394764304, -1.2930827345554905, -0.1794147558476305, -0.204389594528781, -0.5649726476650159, -0.22933740132582756, -0.12357211924056424, 0.4077407006940749, 2.043079024269626, -1.8966506055913155, 0.37506058424840283, -0.3557237502946604, -1.1658294796761153, -0.3314174317554599, 0.5145784433956135, -0.17837855724679227, 0.5819743037137235, -0.2170352844294026, -1.5008635117509095, 0.4430612675009117, -0.5607325848055742, -0.8927402578611204, -1.00706359189859, 0.7062444360618905, 0.37532512452690064, -0.60918430290378, -0.3994943366348986, 0.17679870439558548, -1.174429900552088, -1.3649070274623116, 0.8110181135624027, 1.2204650689075098, -0.04066020848211326, -0.798661941308709, -0.9230544760455293, 2.48660459433927, -0.06274331502043014, -1.1079901104727323, 0.149286669555233, -0.41689930404468056, -1.2000400022790192, -0.5385790202389502, -0.9264732450946596, 0.34937348613737107, -0.38320883769824815, 1.3675813627800308, 0.3696598404405374, 0.31873612059708706, 0.8654078552911361, -1.5376213372959873, -0.1947903323528216, -1.1909326220751137, 0.10457430890020339, 0.6050940987273143, -0.5132853593327287, -0.7755845604958479, 1.7023984579456823, 0.38754335554690883, -0.9282832799462417, -0.5055032937398403, -0.05673078953268362, 0.7475335009747427, -0.06210187278705163, 1.5377080899458013, -0.6697979120234541, 0.29250646337732666, -0.157303460931491, 1.2745952342564728, -2.0248042313737624, -0.09095499158177012, 0.330332051144852, -1.421859288088006, 0.8450082617292108, -0.5335434113230583, -0.2855092868899809, -0.0021180714025973127, -0.3188647510560923, 0.7484749193984869, 1.2867921778713245, 0.13640248363414795, 0.6299953592964012, 0.33263293241450487, 0.1985242742168156, 0.5004590278283447, -0.33700623860984585], \"xaxis\": \"x12\", \"y\": [-2.3704016563776555, 0.710914398419287, 0.6309631659503724, -2.8442861967365327, -0.0037811628578325435, -0.6382947031932034, -0.5832920116811756, 1.1026000251690178, -0.4489180991658564, 1.05520211811089, 1.1082161681792269, 0.046435857114627235, -0.2510267408961941, -0.4371164022967774, -0.5726351450065652, -0.4558868992851681, 0.8045657127614613, -0.6143361630344545, -1.6160987259954223, 1.3057845255800853, -0.7461470247736539, 0.1750160823313732, -1.1067051377260886, -0.5204797459819671, -1.4376613633318407, -0.46334884147883815, 0.9571971280775794, 0.10750091380559694, 0.2999155740381957, 0.2185691512067851, -0.2579678098624532, 1.3217142621895663, 0.4953794816082393, -0.024538641741287965, -0.07153303580223697, -0.1793581282707107, -0.06729147187170058, -2.557307701474324, -0.1060324200332444, 0.31169871316192516, 1.3348243165181144, -1.9852327530302238, -0.5047144315416485, 2.0115813901704973, 0.7134892560485943, 0.5484249921365187, 0.11248846492915397, 0.08333088334699466, -1.3682499335799407, -0.6974724359103268, 0.37716037785946616, 0.17044734212634838, 0.12590105794568657, 0.7343765332029945, -1.4006553322902726, 1.0398357714966402, 1.1634583514551176, 1.58060380206921, -1.2613190243691939, 1.2877452491185823, 1.2460599997934427, 0.3613975529675301, 0.21462586530124092, -0.6090968319472858, 0.23882620428736073, 0.00036416526394703947, -1.2276092246013988, -0.8340878876745745, -0.08872398862382311, -0.061588045991439896, 0.07524987023586598, 1.153665247704061, -0.10204239551389348, 1.3361090973740046, -0.5740083415431523, -0.8577488708805439, -0.4261175399792977, 0.9653094704371724, -0.8173212555447603, 1.0639239966446306, 1.4278115423329014, 0.7042444273074215, 0.22693524735557136, -0.7652187063502671, -0.2502387171320374, 0.5676968944730754, 0.5943365371060254, 0.6837008990404221, 0.45789611494130283, -0.35489134846406123, -0.4914581973149613, -0.4131351259857275, -1.023404819406341, 0.1370090793966986, 0.961244139221754, 0.007385617385094512, 1.0517038093011737, -1.3085422591568026, -0.11633946117127415, -1.8454019863290603], \"yaxis\": \"y12\"}, {\"line\": {\"color\": \"rgba(128, 128, 128, 1.0)\", \"dash\": \"solid\", \"shape\": \"linear\", \"width\": 1.3}, \"marker\": {\"size\": 2, \"symbol\": \"circle\"}, \"mode\": \"markers\", \"name\": \"D\", \"text\": \"\", \"type\": \"scatter\", \"x\": [-0.3528362464153668, -0.284490578588392, 2.203326375137168, 1.1914906229339413, -0.5643907599811814, 2.7798718153014357, 1.1392230478947218, -0.3969084492198873, -0.8431354506721372, -1.2113706937321673, -1.1232328854452367, 0.4518665654795515, 0.15108658835894914, -1.7197708096350655, -0.07078563077906978, -0.980891266191066, -2.0065915820068994, 0.04405074044947059, -0.1816391125056839, 0.7598049797859753, -1.096012407090366, -1.4973956161707278, -2.2293808754538005, -0.15494190096890462, -0.8404676595449304, -1.5864444840611043, -1.271828143859151, 0.233536485699503, 0.32955043668175693, 1.1595295612279588, -0.5278554404367857, -0.16303045205008881, -1.7674739515583324, 0.33892658874933296, 0.19685617323938542, 0.33023853338745474, 0.03730643652616613, 0.32496894629056994, 0.23244779523287074, -0.01842197648227652, -1.1672830340101563, -0.40440266128609065, 2.07759282848088, 0.14020699314040225, 0.11670666187449041, -1.3759216802724983, 2.3270704249878746, 0.3972406311737788, 0.17442023752997537, -0.2800525759529055, 0.4506210148099999, 2.6202326404140677, 1.0653150560571336, 1.7095140209602646, 0.7990198343521421, -0.8281912607199876, -0.806280334150687, 1.6979095908090678, -0.8672712204039527, 1.1005741543620384, -0.6546095261109552, 0.9048167986183359, -0.7100506115690377, 0.648084430407177, 0.9447881732500704, -0.4713552039565896, 0.21402616654041448, -0.935151045365892, 1.2150495379117552, -0.43140919672950967, -1.1891048756132958, 0.9847206464209383, 0.40945681494002684, -0.8066269723088334, -0.6687296314674605, -1.0238807147882825, -0.2700469623402802, 0.5690651238713944, 0.6865219970682781, 0.6483901625701793, 1.2905559982270822, 0.8178639588042602, 1.1575135611917569, -2.0984711888019745, -1.7762476161655396, -0.6748575307003194, -0.21849196898810175, -0.5753702112145309, -0.3920858562314582, 0.6970390930379042, -1.4429250467452353, -0.3166115618643759, -0.3519621812877541, -0.4525464016079805, 0.5423829440734289, -0.36691990004214553, -0.7611303390249726, 2.0511135768496143, -0.9598352743683791, -0.37398827024180453], \"xaxis\": \"x13\", \"y\": [0.5537390638675553, 1.7275733675276843, 1.216431303443142, -0.35761928337126386, -0.2766384153037906, 0.9175563269542514, 0.7913703760222024, 0.6220956147817989, -0.9831544551054343, 1.0285919896520503, -0.31358613968988003, -0.775285515456309, 0.9121360708078701, -1.3392510286273374, -0.2247116800768073, 0.9541268394764304, -1.2930827345554905, -0.1794147558476305, -0.204389594528781, -0.5649726476650159, -0.22933740132582756, -0.12357211924056424, 0.4077407006940749, 2.043079024269626, -1.8966506055913155, 0.37506058424840283, -0.3557237502946604, -1.1658294796761153, -0.3314174317554599, 0.5145784433956135, -0.17837855724679227, 0.5819743037137235, -0.2170352844294026, -1.5008635117509095, 0.4430612675009117, -0.5607325848055742, -0.8927402578611204, -1.00706359189859, 0.7062444360618905, 0.37532512452690064, -0.60918430290378, -0.3994943366348986, 0.17679870439558548, -1.174429900552088, -1.3649070274623116, 0.8110181135624027, 1.2204650689075098, -0.04066020848211326, -0.798661941308709, -0.9230544760455293, 2.48660459433927, -0.06274331502043014, -1.1079901104727323, 0.149286669555233, -0.41689930404468056, -1.2000400022790192, -0.5385790202389502, -0.9264732450946596, 0.34937348613737107, -0.38320883769824815, 1.3675813627800308, 0.3696598404405374, 0.31873612059708706, 0.8654078552911361, -1.5376213372959873, -0.1947903323528216, -1.1909326220751137, 0.10457430890020339, 0.6050940987273143, -0.5132853593327287, -0.7755845604958479, 1.7023984579456823, 0.38754335554690883, -0.9282832799462417, -0.5055032937398403, -0.05673078953268362, 0.7475335009747427, -0.06210187278705163, 1.5377080899458013, -0.6697979120234541, 0.29250646337732666, -0.157303460931491, 1.2745952342564728, -2.0248042313737624, -0.09095499158177012, 0.330332051144852, -1.421859288088006, 0.8450082617292108, -0.5335434113230583, -0.2855092868899809, -0.0021180714025973127, -0.3188647510560923, 0.7484749193984869, 1.2867921778713245, 0.13640248363414795, 0.6299953592964012, 0.33263293241450487, 0.1985242742168156, 0.5004590278283447, -0.33700623860984585], \"yaxis\": \"y13\"}, {\"line\": {\"color\": \"rgba(128, 128, 128, 1.0)\", \"dash\": \"solid\", \"shape\": \"linear\", \"width\": 1.3}, \"marker\": {\"size\": 2, \"symbol\": \"circle\"}, \"mode\": \"markers\", \"name\": \"D\", \"text\": \"\", \"type\": \"scatter\", \"x\": [-1.5145455118176767, -0.01367326820150052, -0.7829236033971367, 2.1758105864782173, 0.014005493606606743, -0.408817628815818, -1.9692976906687827, 0.7934251922172569, -0.10928246963521912, -1.8675911342151044, -0.291350381007704, -0.2861757143497499, 0.45182196198038505, -1.3540852014076956, 0.11849633147728272, -1.4831515290012542, -0.15594664619415652, 0.8218005891800004, -1.3196893908390053, 0.9516245220412897, 1.0245182381659395, -0.9086606060000463, 0.3667342867629603, 2.1748246081996387, -1.4412403414461203, 1.3547356288206962, 0.07448038483912717, -2.0463557158127803, -0.2466438968154346, 0.7427704569505088, 0.7393827811394357, 0.3470737898934057, -0.21339715374304669, -0.29843604210654695, -0.26984569594619834, -0.7380914719749732, 0.085445841445681, -0.03377606407086046, -0.20658488335554978, -0.2320627365179663, 0.6895012608888704, -1.9625798027603658, -1.3809616631815926, 1.270026636907869, -1.1676750826700475, 0.6835442102993022, -0.10819067203435048, -0.38848646939043074, -1.3146096093947917, 1.2343026179645644, -1.1578924940873192, 0.9311809476907813, -0.9408852209315937, 0.2777851236373851, -0.2792794125675632, 0.5699172325515569, 1.1815215185447847, -0.4101575978585351, -1.3520086334848345, -0.2206896804793058, -0.635846746095747, -2.2801475925723, -0.13273463837665134, -1.4357460149388654, -2.0947528958618142, -1.4043908765273556, 1.235437712356553, -0.2961297710843259, 0.712446862050636, -0.5733163055127384, 0.8724480526635303, 0.34296687693318517, -1.8772458375662273, 0.04838875314046682, 1.1439410329456652, -1.4074872363653521, -0.41353126423716985, -1.2891804111532066, -0.8016211831893039, -1.1778852829324677, 0.8601306959837082, -0.7846632368352668, 0.8951888056616729, -0.1209386568012941, 0.3507332670458818, 0.40839273692365535, 1.3923988082070355, 0.5898704076273781, 1.4937796385060818, 0.9554951083022206, -0.12453902532811652, -1.280101497255287, -0.8670228686188641, -0.6542483247746392, -0.27107332066291734, 1.7482116014051732, 1.6179167104189263, -0.627179728211577, 0.7520281731249727, -0.5689711239929849], \"xaxis\": \"x14\", \"y\": [0.5537390638675553, 1.7275733675276843, 1.216431303443142, -0.35761928337126386, -0.2766384153037906, 0.9175563269542514, 0.7913703760222024, 0.6220956147817989, -0.9831544551054343, 1.0285919896520503, -0.31358613968988003, -0.775285515456309, 0.9121360708078701, -1.3392510286273374, -0.2247116800768073, 0.9541268394764304, -1.2930827345554905, -0.1794147558476305, -0.204389594528781, -0.5649726476650159, -0.22933740132582756, -0.12357211924056424, 0.4077407006940749, 2.043079024269626, -1.8966506055913155, 0.37506058424840283, -0.3557237502946604, -1.1658294796761153, -0.3314174317554599, 0.5145784433956135, -0.17837855724679227, 0.5819743037137235, -0.2170352844294026, -1.5008635117509095, 0.4430612675009117, -0.5607325848055742, -0.8927402578611204, -1.00706359189859, 0.7062444360618905, 0.37532512452690064, -0.60918430290378, -0.3994943366348986, 0.17679870439558548, -1.174429900552088, -1.3649070274623116, 0.8110181135624027, 1.2204650689075098, -0.04066020848211326, -0.798661941308709, -0.9230544760455293, 2.48660459433927, -0.06274331502043014, -1.1079901104727323, 0.149286669555233, -0.41689930404468056, -1.2000400022790192, -0.5385790202389502, -0.9264732450946596, 0.34937348613737107, -0.38320883769824815, 1.3675813627800308, 0.3696598404405374, 0.31873612059708706, 0.8654078552911361, -1.5376213372959873, -0.1947903323528216, -1.1909326220751137, 0.10457430890020339, 0.6050940987273143, -0.5132853593327287, -0.7755845604958479, 1.7023984579456823, 0.38754335554690883, -0.9282832799462417, -0.5055032937398403, -0.05673078953268362, 0.7475335009747427, -0.06210187278705163, 1.5377080899458013, -0.6697979120234541, 0.29250646337732666, -0.157303460931491, 1.2745952342564728, -2.0248042313737624, -0.09095499158177012, 0.330332051144852, -1.421859288088006, 0.8450082617292108, -0.5335434113230583, -0.2855092868899809, -0.0021180714025973127, -0.3188647510560923, 0.7484749193984869, 1.2867921778713245, 0.13640248363414795, 0.6299953592964012, 0.33263293241450487, 0.1985242742168156, 0.5004590278283447, -0.33700623860984585], \"yaxis\": \"y14\"}, {\"line\": {\"color\": \"rgba(128, 128, 128, 1.0)\", \"dash\": \"solid\", \"shape\": \"linear\", \"width\": 1.3}, \"marker\": {\"size\": 2, \"symbol\": \"circle\"}, \"mode\": \"markers\", \"name\": \"D\", \"text\": \"\", \"type\": \"scatter\", \"x\": [-2.3704016563776555, 0.710914398419287, 0.6309631659503724, -2.8442861967365327, -0.0037811628578325435, -0.6382947031932034, -0.5832920116811756, 1.1026000251690178, -0.4489180991658564, 1.05520211811089, 1.1082161681792269, 0.046435857114627235, -0.2510267408961941, -0.4371164022967774, -0.5726351450065652, -0.4558868992851681, 0.8045657127614613, -0.6143361630344545, -1.6160987259954223, 1.3057845255800853, -0.7461470247736539, 0.1750160823313732, -1.1067051377260886, -0.5204797459819671, -1.4376613633318407, -0.46334884147883815, 0.9571971280775794, 0.10750091380559694, 0.2999155740381957, 0.2185691512067851, -0.2579678098624532, 1.3217142621895663, 0.4953794816082393, -0.024538641741287965, -0.07153303580223697, -0.1793581282707107, -0.06729147187170058, -2.557307701474324, -0.1060324200332444, 0.31169871316192516, 1.3348243165181144, -1.9852327530302238, -0.5047144315416485, 2.0115813901704973, 0.7134892560485943, 0.5484249921365187, 0.11248846492915397, 0.08333088334699466, -1.3682499335799407, -0.6974724359103268, 0.37716037785946616, 0.17044734212634838, 0.12590105794568657, 0.7343765332029945, -1.4006553322902726, 1.0398357714966402, 1.1634583514551176, 1.58060380206921, -1.2613190243691939, 1.2877452491185823, 1.2460599997934427, 0.3613975529675301, 0.21462586530124092, -0.6090968319472858, 0.23882620428736073, 0.00036416526394703947, -1.2276092246013988, -0.8340878876745745, -0.08872398862382311, -0.061588045991439896, 0.07524987023586598, 1.153665247704061, -0.10204239551389348, 1.3361090973740046, -0.5740083415431523, -0.8577488708805439, -0.4261175399792977, 0.9653094704371724, -0.8173212555447603, 1.0639239966446306, 1.4278115423329014, 0.7042444273074215, 0.22693524735557136, -0.7652187063502671, -0.2502387171320374, 0.5676968944730754, 0.5943365371060254, 0.6837008990404221, 0.45789611494130283, -0.35489134846406123, -0.4914581973149613, -0.4131351259857275, -1.023404819406341, 0.1370090793966986, 0.961244139221754, 0.007385617385094512, 1.0517038093011737, -1.3085422591568026, -0.11633946117127415, -1.8454019863290603], \"xaxis\": \"x15\", \"y\": [0.5537390638675553, 1.7275733675276843, 1.216431303443142, -0.35761928337126386, -0.2766384153037906, 0.9175563269542514, 0.7913703760222024, 0.6220956147817989, -0.9831544551054343, 1.0285919896520503, -0.31358613968988003, -0.775285515456309, 0.9121360708078701, -1.3392510286273374, -0.2247116800768073, 0.9541268394764304, -1.2930827345554905, -0.1794147558476305, -0.204389594528781, -0.5649726476650159, -0.22933740132582756, -0.12357211924056424, 0.4077407006940749, 2.043079024269626, -1.8966506055913155, 0.37506058424840283, -0.3557237502946604, -1.1658294796761153, -0.3314174317554599, 0.5145784433956135, -0.17837855724679227, 0.5819743037137235, -0.2170352844294026, -1.5008635117509095, 0.4430612675009117, -0.5607325848055742, -0.8927402578611204, -1.00706359189859, 0.7062444360618905, 0.37532512452690064, -0.60918430290378, -0.3994943366348986, 0.17679870439558548, -1.174429900552088, -1.3649070274623116, 0.8110181135624027, 1.2204650689075098, -0.04066020848211326, -0.798661941308709, -0.9230544760455293, 2.48660459433927, -0.06274331502043014, -1.1079901104727323, 0.149286669555233, -0.41689930404468056, -1.2000400022790192, -0.5385790202389502, -0.9264732450946596, 0.34937348613737107, -0.38320883769824815, 1.3675813627800308, 0.3696598404405374, 0.31873612059708706, 0.8654078552911361, -1.5376213372959873, -0.1947903323528216, -1.1909326220751137, 0.10457430890020339, 0.6050940987273143, -0.5132853593327287, -0.7755845604958479, 1.7023984579456823, 0.38754335554690883, -0.9282832799462417, -0.5055032937398403, -0.05673078953268362, 0.7475335009747427, -0.06210187278705163, 1.5377080899458013, -0.6697979120234541, 0.29250646337732666, -0.157303460931491, 1.2745952342564728, -2.0248042313737624, -0.09095499158177012, 0.330332051144852, -1.421859288088006, 0.8450082617292108, -0.5335434113230583, -0.2855092868899809, -0.0021180714025973127, -0.3188647510560923, 0.7484749193984869, 1.2867921778713245, 0.13640248363414795, 0.6299953592964012, 0.33263293241450487, 0.1985242742168156, 0.5004590278283447, -0.33700623860984585], \"yaxis\": \"y15\"}, {\"histfunc\": \"count\", \"histnorm\": \"\", \"marker\": {\"color\": \"rgba(128, 0, 128, 1.0)\", \"line\": {\"color\": \"#4D5663\", \"width\": 1.3}}, \"name\": \"D\", \"nbinsx\": 10, \"opacity\": 0.8, \"orientation\": \"v\", \"type\": \"histogram\", \"x\": [0.5537390638675553, 1.7275733675276843, 1.216431303443142, -0.35761928337126386, -0.2766384153037906, 0.9175563269542514, 0.7913703760222024, 0.6220956147817989, -0.9831544551054343, 1.0285919896520503, -0.31358613968988003, -0.775285515456309, 0.9121360708078701, -1.3392510286273374, -0.2247116800768073, 0.9541268394764304, -1.2930827345554905, -0.1794147558476305, -0.204389594528781, -0.5649726476650159, -0.22933740132582756, -0.12357211924056424, 0.4077407006940749, 2.043079024269626, -1.8966506055913155, 0.37506058424840283, -0.3557237502946604, -1.1658294796761153, -0.3314174317554599, 0.5145784433956135, -0.17837855724679227, 0.5819743037137235, -0.2170352844294026, -1.5008635117509095, 0.4430612675009117, -0.5607325848055742, -0.8927402578611204, -1.00706359189859, 0.7062444360618905, 0.37532512452690064, -0.60918430290378, -0.3994943366348986, 0.17679870439558548, -1.174429900552088, -1.3649070274623116, 0.8110181135624027, 1.2204650689075098, -0.04066020848211326, -0.798661941308709, -0.9230544760455293, 2.48660459433927, -0.06274331502043014, -1.1079901104727323, 0.149286669555233, -0.41689930404468056, -1.2000400022790192, -0.5385790202389502, -0.9264732450946596, 0.34937348613737107, -0.38320883769824815, 1.3675813627800308, 0.3696598404405374, 0.31873612059708706, 0.8654078552911361, -1.5376213372959873, -0.1947903323528216, -1.1909326220751137, 0.10457430890020339, 0.6050940987273143, -0.5132853593327287, -0.7755845604958479, 1.7023984579456823, 0.38754335554690883, -0.9282832799462417, -0.5055032937398403, -0.05673078953268362, 0.7475335009747427, -0.06210187278705163, 1.5377080899458013, -0.6697979120234541, 0.29250646337732666, -0.157303460931491, 1.2745952342564728, -2.0248042313737624, -0.09095499158177012, 0.330332051144852, -1.421859288088006, 0.8450082617292108, -0.5335434113230583, -0.2855092868899809, -0.0021180714025973127, -0.3188647510560923, 0.7484749193984869, 1.2867921778713245, 0.13640248363414795, 0.6299953592964012, 0.33263293241450487, 0.1985242742168156, 0.5004590278283447, -0.33700623860984585], \"xaxis\": \"x16\", \"yaxis\": \"y16\"}],\n",
       "                        {\"bargap\": 0.02, \"legend\": {\"bgcolor\": \"#F5F6F9\", \"font\": {\"color\": \"#4D5663\"}}, \"paper_bgcolor\": \"#F5F6F9\", \"plot_bgcolor\": \"#F5F6F9\", \"showlegend\": false, \"template\": {\"data\": {\"bar\": [{\"error_x\": {\"color\": \"#2a3f5f\"}, \"error_y\": {\"color\": \"#2a3f5f\"}, \"marker\": {\"line\": {\"color\": \"#E5ECF6\", \"width\": 0.5}}, \"type\": \"bar\"}], \"barpolar\": [{\"marker\": {\"line\": {\"color\": \"#E5ECF6\", \"width\": 0.5}}, \"type\": \"barpolar\"}], \"carpet\": [{\"aaxis\": {\"endlinecolor\": \"#2a3f5f\", \"gridcolor\": \"white\", \"linecolor\": \"white\", \"minorgridcolor\": \"white\", \"startlinecolor\": \"#2a3f5f\"}, \"baxis\": {\"endlinecolor\": \"#2a3f5f\", \"gridcolor\": \"white\", \"linecolor\": \"white\", \"minorgridcolor\": \"white\", \"startlinecolor\": \"#2a3f5f\"}, \"type\": \"carpet\"}], \"choropleth\": [{\"colorbar\": {\"outlinewidth\": 0, \"ticks\": \"\"}, \"type\": \"choropleth\"}], \"contour\": [{\"colorbar\": {\"outlinewidth\": 0, \"ticks\": \"\"}, \"colorscale\": [[0.0, \"#0d0887\"], [0.1111111111111111, \"#46039f\"], [0.2222222222222222, \"#7201a8\"], [0.3333333333333333, \"#9c179e\"], [0.4444444444444444, \"#bd3786\"], [0.5555555555555556, \"#d8576b\"], [0.6666666666666666, \"#ed7953\"], [0.7777777777777778, \"#fb9f3a\"], [0.8888888888888888, \"#fdca26\"], [1.0, \"#f0f921\"]], \"type\": \"contour\"}], \"contourcarpet\": [{\"colorbar\": {\"outlinewidth\": 0, \"ticks\": \"\"}, \"type\": \"contourcarpet\"}], \"heatmap\": [{\"colorbar\": {\"outlinewidth\": 0, \"ticks\": \"\"}, \"colorscale\": [[0.0, \"#0d0887\"], [0.1111111111111111, \"#46039f\"], [0.2222222222222222, \"#7201a8\"], [0.3333333333333333, \"#9c179e\"], [0.4444444444444444, \"#bd3786\"], [0.5555555555555556, \"#d8576b\"], [0.6666666666666666, \"#ed7953\"], [0.7777777777777778, \"#fb9f3a\"], [0.8888888888888888, \"#fdca26\"], [1.0, \"#f0f921\"]], \"type\": \"heatmap\"}], \"heatmapgl\": [{\"colorbar\": {\"outlinewidth\": 0, \"ticks\": \"\"}, \"colorscale\": [[0.0, \"#0d0887\"], [0.1111111111111111, \"#46039f\"], [0.2222222222222222, \"#7201a8\"], [0.3333333333333333, \"#9c179e\"], [0.4444444444444444, \"#bd3786\"], [0.5555555555555556, \"#d8576b\"], [0.6666666666666666, \"#ed7953\"], [0.7777777777777778, \"#fb9f3a\"], [0.8888888888888888, \"#fdca26\"], [1.0, \"#f0f921\"]], \"type\": \"heatmapgl\"}], \"histogram\": [{\"marker\": {\"colorbar\": {\"outlinewidth\": 0, \"ticks\": \"\"}}, \"type\": \"histogram\"}], \"histogram2d\": [{\"colorbar\": {\"outlinewidth\": 0, \"ticks\": \"\"}, \"colorscale\": [[0.0, \"#0d0887\"], [0.1111111111111111, \"#46039f\"], [0.2222222222222222, \"#7201a8\"], [0.3333333333333333, \"#9c179e\"], [0.4444444444444444, \"#bd3786\"], [0.5555555555555556, \"#d8576b\"], [0.6666666666666666, \"#ed7953\"], [0.7777777777777778, \"#fb9f3a\"], [0.8888888888888888, \"#fdca26\"], [1.0, \"#f0f921\"]], \"type\": \"histogram2d\"}], \"histogram2dcontour\": [{\"colorbar\": {\"outlinewidth\": 0, \"ticks\": \"\"}, \"colorscale\": [[0.0, \"#0d0887\"], [0.1111111111111111, \"#46039f\"], [0.2222222222222222, \"#7201a8\"], [0.3333333333333333, \"#9c179e\"], [0.4444444444444444, \"#bd3786\"], [0.5555555555555556, \"#d8576b\"], [0.6666666666666666, \"#ed7953\"], [0.7777777777777778, \"#fb9f3a\"], [0.8888888888888888, \"#fdca26\"], [1.0, \"#f0f921\"]], \"type\": \"histogram2dcontour\"}], \"mesh3d\": [{\"colorbar\": {\"outlinewidth\": 0, \"ticks\": \"\"}, \"type\": \"mesh3d\"}], \"parcoords\": [{\"line\": {\"colorbar\": {\"outlinewidth\": 0, \"ticks\": \"\"}}, \"type\": \"parcoords\"}], \"pie\": [{\"automargin\": true, \"type\": \"pie\"}], \"scatter\": [{\"marker\": {\"colorbar\": {\"outlinewidth\": 0, \"ticks\": \"\"}}, \"type\": \"scatter\"}], \"scatter3d\": [{\"line\": {\"colorbar\": {\"outlinewidth\": 0, \"ticks\": \"\"}}, \"marker\": {\"colorbar\": {\"outlinewidth\": 0, \"ticks\": \"\"}}, \"type\": \"scatter3d\"}], \"scattercarpet\": [{\"marker\": {\"colorbar\": {\"outlinewidth\": 0, \"ticks\": \"\"}}, \"type\": \"scattercarpet\"}], \"scattergeo\": [{\"marker\": {\"colorbar\": {\"outlinewidth\": 0, \"ticks\": \"\"}}, \"type\": \"scattergeo\"}], \"scattergl\": [{\"marker\": {\"colorbar\": {\"outlinewidth\": 0, \"ticks\": \"\"}}, \"type\": \"scattergl\"}], \"scattermapbox\": [{\"marker\": {\"colorbar\": {\"outlinewidth\": 0, \"ticks\": \"\"}}, \"type\": \"scattermapbox\"}], \"scatterpolar\": [{\"marker\": {\"colorbar\": {\"outlinewidth\": 0, \"ticks\": \"\"}}, \"type\": \"scatterpolar\"}], \"scatterpolargl\": [{\"marker\": {\"colorbar\": {\"outlinewidth\": 0, \"ticks\": \"\"}}, \"type\": \"scatterpolargl\"}], \"scatterternary\": [{\"marker\": {\"colorbar\": {\"outlinewidth\": 0, \"ticks\": \"\"}}, \"type\": \"scatterternary\"}], \"surface\": [{\"colorbar\": {\"outlinewidth\": 0, \"ticks\": \"\"}, \"colorscale\": [[0.0, \"#0d0887\"], [0.1111111111111111, \"#46039f\"], [0.2222222222222222, \"#7201a8\"], [0.3333333333333333, \"#9c179e\"], [0.4444444444444444, \"#bd3786\"], [0.5555555555555556, \"#d8576b\"], [0.6666666666666666, \"#ed7953\"], [0.7777777777777778, \"#fb9f3a\"], [0.8888888888888888, \"#fdca26\"], [1.0, \"#f0f921\"]], \"type\": \"surface\"}], \"table\": [{\"cells\": {\"fill\": {\"color\": \"#EBF0F8\"}, \"line\": {\"color\": \"white\"}}, \"header\": {\"fill\": {\"color\": \"#C8D4E3\"}, \"line\": {\"color\": \"white\"}}, \"type\": \"table\"}]}, \"layout\": {\"annotationdefaults\": {\"arrowcolor\": \"#2a3f5f\", \"arrowhead\": 0, \"arrowwidth\": 1}, \"coloraxis\": {\"colorbar\": {\"outlinewidth\": 0, \"ticks\": \"\"}}, \"colorscale\": {\"diverging\": [[0, \"#8e0152\"], [0.1, \"#c51b7d\"], [0.2, \"#de77ae\"], [0.3, \"#f1b6da\"], [0.4, \"#fde0ef\"], [0.5, \"#f7f7f7\"], [0.6, \"#e6f5d0\"], [0.7, \"#b8e186\"], [0.8, \"#7fbc41\"], [0.9, \"#4d9221\"], [1, \"#276419\"]], \"sequential\": [[0.0, \"#0d0887\"], [0.1111111111111111, \"#46039f\"], [0.2222222222222222, \"#7201a8\"], [0.3333333333333333, \"#9c179e\"], [0.4444444444444444, \"#bd3786\"], [0.5555555555555556, \"#d8576b\"], [0.6666666666666666, \"#ed7953\"], [0.7777777777777778, \"#fb9f3a\"], [0.8888888888888888, \"#fdca26\"], [1.0, \"#f0f921\"]], \"sequentialminus\": [[0.0, \"#0d0887\"], [0.1111111111111111, \"#46039f\"], [0.2222222222222222, \"#7201a8\"], [0.3333333333333333, \"#9c179e\"], [0.4444444444444444, \"#bd3786\"], [0.5555555555555556, \"#d8576b\"], [0.6666666666666666, \"#ed7953\"], [0.7777777777777778, \"#fb9f3a\"], [0.8888888888888888, \"#fdca26\"], [1.0, \"#f0f921\"]]}, \"colorway\": [\"#636efa\", \"#EF553B\", \"#00cc96\", \"#ab63fa\", \"#FFA15A\", \"#19d3f3\", \"#FF6692\", \"#B6E880\", \"#FF97FF\", \"#FECB52\"], \"font\": {\"color\": \"#2a3f5f\"}, \"geo\": {\"bgcolor\": \"white\", \"lakecolor\": \"white\", \"landcolor\": \"#E5ECF6\", \"showlakes\": true, \"showland\": true, \"subunitcolor\": \"white\"}, \"hoverlabel\": {\"align\": \"left\"}, \"hovermode\": \"closest\", \"mapbox\": {\"style\": \"light\"}, \"paper_bgcolor\": \"white\", \"plot_bgcolor\": \"#E5ECF6\", \"polar\": {\"angularaxis\": {\"gridcolor\": \"white\", \"linecolor\": \"white\", \"ticks\": \"\"}, \"bgcolor\": \"#E5ECF6\", \"radialaxis\": {\"gridcolor\": \"white\", \"linecolor\": \"white\", \"ticks\": \"\"}}, \"scene\": {\"xaxis\": {\"backgroundcolor\": \"#E5ECF6\", \"gridcolor\": \"white\", \"gridwidth\": 2, \"linecolor\": \"white\", \"showbackground\": true, \"ticks\": \"\", \"zerolinecolor\": \"white\"}, \"yaxis\": {\"backgroundcolor\": \"#E5ECF6\", \"gridcolor\": \"white\", \"gridwidth\": 2, \"linecolor\": \"white\", \"showbackground\": true, \"ticks\": \"\", \"zerolinecolor\": \"white\"}, \"zaxis\": {\"backgroundcolor\": \"#E5ECF6\", \"gridcolor\": \"white\", \"gridwidth\": 2, \"linecolor\": \"white\", \"showbackground\": true, \"ticks\": \"\", \"zerolinecolor\": \"white\"}}, \"shapedefaults\": {\"line\": {\"color\": \"#2a3f5f\"}}, \"ternary\": {\"aaxis\": {\"gridcolor\": \"white\", \"linecolor\": \"white\", \"ticks\": \"\"}, \"baxis\": {\"gridcolor\": \"white\", \"linecolor\": \"white\", \"ticks\": \"\"}, \"bgcolor\": \"#E5ECF6\", \"caxis\": {\"gridcolor\": \"white\", \"linecolor\": \"white\", \"ticks\": \"\"}}, \"title\": {\"x\": 0.05}, \"xaxis\": {\"automargin\": true, \"gridcolor\": \"white\", \"linecolor\": \"white\", \"ticks\": \"\", \"title\": {\"standoff\": 15}, \"zerolinecolor\": \"white\", \"zerolinewidth\": 2}, \"yaxis\": {\"automargin\": true, \"gridcolor\": \"white\", \"linecolor\": \"white\", \"ticks\": \"\", \"title\": {\"standoff\": 15}, \"zerolinecolor\": \"white\", \"zerolinewidth\": 2}}}, \"title\": {\"font\": {\"color\": \"#4D5663\"}}, \"xaxis\": {\"anchor\": \"y\", \"domain\": [0.0, 0.2125], \"gridcolor\": \"#E1E5ED\", \"showgrid\": false, \"tickfont\": {\"color\": \"#4D5663\"}, \"title\": {\"font\": {\"color\": \"#4D5663\"}, \"text\": \"\"}, \"zerolinecolor\": \"#E1E5ED\"}, \"xaxis10\": {\"anchor\": \"y10\", \"domain\": [0.2625, 0.475], \"gridcolor\": \"#E1E5ED\", \"showgrid\": false, \"tickfont\": {\"color\": \"#4D5663\"}, \"title\": {\"font\": {\"color\": \"#4D5663\"}, \"text\": \"\"}, \"zerolinecolor\": \"#E1E5ED\"}, \"xaxis11\": {\"anchor\": \"y11\", \"domain\": [0.525, 0.7375], \"gridcolor\": \"#E1E5ED\", \"showgrid\": false, \"tickfont\": {\"color\": \"#4D5663\"}, \"title\": {\"font\": {\"color\": \"#4D5663\"}, \"text\": \"\"}, \"zerolinecolor\": \"#E1E5ED\"}, \"xaxis12\": {\"anchor\": \"y12\", \"domain\": [0.7875, 1.0], \"gridcolor\": \"#E1E5ED\", \"showgrid\": false, \"tickfont\": {\"color\": \"#4D5663\"}, \"title\": {\"font\": {\"color\": \"#4D5663\"}, \"text\": \"\"}, \"zerolinecolor\": \"#E1E5ED\"}, \"xaxis13\": {\"anchor\": \"y13\", \"domain\": [0.0, 0.2125], \"gridcolor\": \"#E1E5ED\", \"showgrid\": false, \"tickfont\": {\"color\": \"#4D5663\"}, \"title\": {\"font\": {\"color\": \"#4D5663\"}, \"text\": \"\"}, \"zerolinecolor\": \"#E1E5ED\"}, \"xaxis14\": {\"anchor\": \"y14\", \"domain\": [0.2625, 0.475], \"gridcolor\": \"#E1E5ED\", \"showgrid\": false, \"tickfont\": {\"color\": \"#4D5663\"}, \"title\": {\"font\": {\"color\": \"#4D5663\"}, \"text\": \"\"}, \"zerolinecolor\": \"#E1E5ED\"}, \"xaxis15\": {\"anchor\": \"y15\", \"domain\": [0.525, 0.7375], \"gridcolor\": \"#E1E5ED\", \"showgrid\": false, \"tickfont\": {\"color\": \"#4D5663\"}, \"title\": {\"font\": {\"color\": \"#4D5663\"}, \"text\": \"\"}, \"zerolinecolor\": \"#E1E5ED\"}, \"xaxis16\": {\"anchor\": \"y16\", \"domain\": [0.7875, 1.0], \"gridcolor\": \"#E1E5ED\", \"showgrid\": false, \"tickfont\": {\"color\": \"#4D5663\"}, \"title\": {\"font\": {\"color\": \"#4D5663\"}, \"text\": \"\"}, \"zerolinecolor\": \"#E1E5ED\"}, \"xaxis2\": {\"anchor\": \"y2\", \"domain\": [0.2625, 0.475], \"gridcolor\": \"#E1E5ED\", \"showgrid\": false, \"tickfont\": {\"color\": \"#4D5663\"}, \"title\": {\"font\": {\"color\": \"#4D5663\"}, \"text\": \"\"}, \"zerolinecolor\": \"#E1E5ED\"}, \"xaxis3\": {\"anchor\": \"y3\", \"domain\": [0.525, 0.7375], \"gridcolor\": \"#E1E5ED\", \"showgrid\": false, \"tickfont\": {\"color\": \"#4D5663\"}, \"title\": {\"font\": {\"color\": \"#4D5663\"}, \"text\": \"\"}, \"zerolinecolor\": \"#E1E5ED\"}, \"xaxis4\": {\"anchor\": \"y4\", \"domain\": [0.7875, 1.0], \"gridcolor\": \"#E1E5ED\", \"showgrid\": false, \"tickfont\": {\"color\": \"#4D5663\"}, \"title\": {\"font\": {\"color\": \"#4D5663\"}, \"text\": \"\"}, \"zerolinecolor\": \"#E1E5ED\"}, \"xaxis5\": {\"anchor\": \"y5\", \"domain\": [0.0, 0.2125], \"gridcolor\": \"#E1E5ED\", \"showgrid\": false, \"tickfont\": {\"color\": \"#4D5663\"}, \"title\": {\"font\": {\"color\": \"#4D5663\"}, \"text\": \"\"}, \"zerolinecolor\": \"#E1E5ED\"}, \"xaxis6\": {\"anchor\": \"y6\", \"domain\": [0.2625, 0.475], \"gridcolor\": \"#E1E5ED\", \"showgrid\": false, \"tickfont\": {\"color\": \"#4D5663\"}, \"title\": {\"font\": {\"color\": \"#4D5663\"}, \"text\": \"\"}, \"zerolinecolor\": \"#E1E5ED\"}, \"xaxis7\": {\"anchor\": \"y7\", \"domain\": [0.525, 0.7375], \"gridcolor\": \"#E1E5ED\", \"showgrid\": false, \"tickfont\": {\"color\": \"#4D5663\"}, \"title\": {\"font\": {\"color\": \"#4D5663\"}, \"text\": \"\"}, \"zerolinecolor\": \"#E1E5ED\"}, \"xaxis8\": {\"anchor\": \"y8\", \"domain\": [0.7875, 1.0], \"gridcolor\": \"#E1E5ED\", \"showgrid\": false, \"tickfont\": {\"color\": \"#4D5663\"}, \"title\": {\"font\": {\"color\": \"#4D5663\"}, \"text\": \"\"}, \"zerolinecolor\": \"#E1E5ED\"}, \"xaxis9\": {\"anchor\": \"y9\", \"domain\": [0.0, 0.2125], \"gridcolor\": \"#E1E5ED\", \"showgrid\": false, \"tickfont\": {\"color\": \"#4D5663\"}, \"title\": {\"font\": {\"color\": \"#4D5663\"}, \"text\": \"\"}, \"zerolinecolor\": \"#E1E5ED\"}, \"yaxis\": {\"anchor\": \"x\", \"domain\": [0.8025, 1.0], \"gridcolor\": \"#E1E5ED\", \"showgrid\": false, \"tickfont\": {\"color\": \"#4D5663\"}, \"title\": {\"font\": {\"color\": \"#4D5663\"}, \"text\": \"\"}, \"zerolinecolor\": \"#E1E5ED\"}, \"yaxis10\": {\"anchor\": \"x10\", \"domain\": [0.2675, 0.465], \"gridcolor\": \"#E1E5ED\", \"showgrid\": false, \"tickfont\": {\"color\": \"#4D5663\"}, \"title\": {\"font\": {\"color\": \"#4D5663\"}, \"text\": \"\"}, \"zerolinecolor\": \"#E1E5ED\"}, \"yaxis11\": {\"anchor\": \"x11\", \"domain\": [0.2675, 0.465], \"gridcolor\": \"#E1E5ED\", \"showgrid\": false, \"tickfont\": {\"color\": \"#4D5663\"}, \"title\": {\"font\": {\"color\": \"#4D5663\"}, \"text\": \"\"}, \"zerolinecolor\": \"#E1E5ED\"}, \"yaxis12\": {\"anchor\": \"x12\", \"domain\": [0.2675, 0.465], \"gridcolor\": \"#E1E5ED\", \"showgrid\": false, \"tickfont\": {\"color\": \"#4D5663\"}, \"title\": {\"font\": {\"color\": \"#4D5663\"}, \"text\": \"\"}, \"zerolinecolor\": \"#E1E5ED\"}, \"yaxis13\": {\"anchor\": \"x13\", \"domain\": [0.0, 0.1975], \"gridcolor\": \"#E1E5ED\", \"showgrid\": false, \"tickfont\": {\"color\": \"#4D5663\"}, \"title\": {\"font\": {\"color\": \"#4D5663\"}, \"text\": \"\"}, \"zerolinecolor\": \"#E1E5ED\"}, \"yaxis14\": {\"anchor\": \"x14\", \"domain\": [0.0, 0.1975], \"gridcolor\": \"#E1E5ED\", \"showgrid\": false, \"tickfont\": {\"color\": \"#4D5663\"}, \"title\": {\"font\": {\"color\": \"#4D5663\"}, \"text\": \"\"}, \"zerolinecolor\": \"#E1E5ED\"}, \"yaxis15\": {\"anchor\": \"x15\", \"domain\": [0.0, 0.1975], \"gridcolor\": \"#E1E5ED\", \"showgrid\": false, \"tickfont\": {\"color\": \"#4D5663\"}, \"title\": {\"font\": {\"color\": \"#4D5663\"}, \"text\": \"\"}, \"zerolinecolor\": \"#E1E5ED\"}, \"yaxis16\": {\"anchor\": \"x16\", \"domain\": [0.0, 0.1975], \"gridcolor\": \"#E1E5ED\", \"showgrid\": false, \"tickfont\": {\"color\": \"#4D5663\"}, \"title\": {\"font\": {\"color\": \"#4D5663\"}, \"text\": \"\"}, \"zerolinecolor\": \"#E1E5ED\"}, \"yaxis2\": {\"anchor\": \"x2\", \"domain\": [0.8025, 1.0], \"gridcolor\": \"#E1E5ED\", \"showgrid\": false, \"tickfont\": {\"color\": \"#4D5663\"}, \"title\": {\"font\": {\"color\": \"#4D5663\"}, \"text\": \"\"}, \"zerolinecolor\": \"#E1E5ED\"}, \"yaxis3\": {\"anchor\": \"x3\", \"domain\": [0.8025, 1.0], \"gridcolor\": \"#E1E5ED\", \"showgrid\": false, \"tickfont\": {\"color\": \"#4D5663\"}, \"title\": {\"font\": {\"color\": \"#4D5663\"}, \"text\": \"\"}, \"zerolinecolor\": \"#E1E5ED\"}, \"yaxis4\": {\"anchor\": \"x4\", \"domain\": [0.8025, 1.0], \"gridcolor\": \"#E1E5ED\", \"showgrid\": false, \"tickfont\": {\"color\": \"#4D5663\"}, \"title\": {\"font\": {\"color\": \"#4D5663\"}, \"text\": \"\"}, \"zerolinecolor\": \"#E1E5ED\"}, \"yaxis5\": {\"anchor\": \"x5\", \"domain\": [0.535, 0.7325], \"gridcolor\": \"#E1E5ED\", \"showgrid\": false, \"tickfont\": {\"color\": \"#4D5663\"}, \"title\": {\"font\": {\"color\": \"#4D5663\"}, \"text\": \"\"}, \"zerolinecolor\": \"#E1E5ED\"}, \"yaxis6\": {\"anchor\": \"x6\", \"domain\": [0.535, 0.7325], \"gridcolor\": \"#E1E5ED\", \"showgrid\": false, \"tickfont\": {\"color\": \"#4D5663\"}, \"title\": {\"font\": {\"color\": \"#4D5663\"}, \"text\": \"\"}, \"zerolinecolor\": \"#E1E5ED\"}, \"yaxis7\": {\"anchor\": \"x7\", \"domain\": [0.535, 0.7325], \"gridcolor\": \"#E1E5ED\", \"showgrid\": false, \"tickfont\": {\"color\": \"#4D5663\"}, \"title\": {\"font\": {\"color\": \"#4D5663\"}, \"text\": \"\"}, \"zerolinecolor\": \"#E1E5ED\"}, \"yaxis8\": {\"anchor\": \"x8\", \"domain\": [0.535, 0.7325], \"gridcolor\": \"#E1E5ED\", \"showgrid\": false, \"tickfont\": {\"color\": \"#4D5663\"}, \"title\": {\"font\": {\"color\": \"#4D5663\"}, \"text\": \"\"}, \"zerolinecolor\": \"#E1E5ED\"}, \"yaxis9\": {\"anchor\": \"x9\", \"domain\": [0.2675, 0.465], \"gridcolor\": \"#E1E5ED\", \"showgrid\": false, \"tickfont\": {\"color\": \"#4D5663\"}, \"title\": {\"font\": {\"color\": \"#4D5663\"}, \"text\": \"\"}, \"zerolinecolor\": \"#E1E5ED\"}},\n",
       "                        {\"showLink\": true, \"linkText\": \"Export to plot.ly\", \"plotlyServerURL\": \"https://plot.ly\", \"responsive\": true}\n",
       "                    ).then(function(){\n",
       "                            \n",
       "var gd = document.getElementById('0a41bd43-8e4a-428a-a6b8-92b4b542cca7');\n",
       "var x = new MutationObserver(function (mutations, observer) {{\n",
       "        var display = window.getComputedStyle(gd).display;\n",
       "        if (!display || display === 'none') {{\n",
       "            console.log([gd, 'removed!']);\n",
       "            Plotly.purge(gd);\n",
       "            observer.disconnect();\n",
       "        }}\n",
       "}});\n",
       "\n",
       "// Listen for the removal of the full notebook cells\n",
       "var notebookContainer = gd.closest('#notebook-container');\n",
       "if (notebookContainer) {{\n",
       "    x.observe(notebookContainer, {childList: true});\n",
       "}}\n",
       "\n",
       "// Listen for the clearing of the current output cell\n",
       "var outputEl = gd.closest('.output');\n",
       "if (outputEl) {{\n",
       "    x.observe(outputEl, {childList: true});\n",
       "}}\n",
       "\n",
       "                        })\n",
       "                };\n",
       "                });\n",
       "            </script>\n",
       "        </div>"
      ]
     },
     "metadata": {},
     "output_type": "display_data"
    }
   ],
   "source": [
    "# kinda like pairplot\n",
    "df.scatter_matrix()"
   ]
  },
  {
   "cell_type": "code",
   "execution_count": null,
   "metadata": {},
   "outputs": [],
   "source": []
  }
 ],
 "metadata": {
  "kernelspec": {
   "display_name": "Python 3",
   "language": "python",
   "name": "python3"
  },
  "language_info": {
   "codemirror_mode": {
    "name": "ipython",
    "version": 3
   },
   "file_extension": ".py",
   "mimetype": "text/x-python",
   "name": "python",
   "nbconvert_exporter": "python",
   "pygments_lexer": "ipython3",
   "version": "3.7.6"
  }
 },
 "nbformat": 4,
 "nbformat_minor": 4
}
