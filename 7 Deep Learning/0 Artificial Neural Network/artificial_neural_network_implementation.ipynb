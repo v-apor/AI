{
 "cells": [
  {
   "cell_type": "code",
   "execution_count": 2,
   "metadata": {},
   "outputs": [],
   "source": [
    "# Importing Libraries\n",
    "import pandas as pd\n",
    "import tensorflow as tf\n",
    "import numpy as np"
   ]
  },
  {
   "cell_type": "code",
   "execution_count": 3,
   "metadata": {},
   "outputs": [
    {
     "data": {
      "text/html": [
       "<div>\n",
       "<style scoped>\n",
       "    .dataframe tbody tr th:only-of-type {\n",
       "        vertical-align: middle;\n",
       "    }\n",
       "\n",
       "    .dataframe tbody tr th {\n",
       "        vertical-align: top;\n",
       "    }\n",
       "\n",
       "    .dataframe thead th {\n",
       "        text-align: right;\n",
       "    }\n",
       "</style>\n",
       "<table border=\"1\" class=\"dataframe\">\n",
       "  <thead>\n",
       "    <tr style=\"text-align: right;\">\n",
       "      <th></th>\n",
       "      <th>RowNumber</th>\n",
       "      <th>CustomerId</th>\n",
       "      <th>Surname</th>\n",
       "      <th>CreditScore</th>\n",
       "      <th>Geography</th>\n",
       "      <th>Gender</th>\n",
       "      <th>Age</th>\n",
       "      <th>Tenure</th>\n",
       "      <th>Balance</th>\n",
       "      <th>NumOfProducts</th>\n",
       "      <th>HasCrCard</th>\n",
       "      <th>IsActiveMember</th>\n",
       "      <th>EstimatedSalary</th>\n",
       "      <th>Exited</th>\n",
       "    </tr>\n",
       "  </thead>\n",
       "  <tbody>\n",
       "    <tr>\n",
       "      <th>0</th>\n",
       "      <td>1</td>\n",
       "      <td>15634602</td>\n",
       "      <td>Hargrave</td>\n",
       "      <td>619</td>\n",
       "      <td>France</td>\n",
       "      <td>Female</td>\n",
       "      <td>42</td>\n",
       "      <td>2</td>\n",
       "      <td>0.00</td>\n",
       "      <td>1</td>\n",
       "      <td>1</td>\n",
       "      <td>1</td>\n",
       "      <td>101348.88</td>\n",
       "      <td>1</td>\n",
       "    </tr>\n",
       "    <tr>\n",
       "      <th>1</th>\n",
       "      <td>2</td>\n",
       "      <td>15647311</td>\n",
       "      <td>Hill</td>\n",
       "      <td>608</td>\n",
       "      <td>Spain</td>\n",
       "      <td>Female</td>\n",
       "      <td>41</td>\n",
       "      <td>1</td>\n",
       "      <td>83807.86</td>\n",
       "      <td>1</td>\n",
       "      <td>0</td>\n",
       "      <td>1</td>\n",
       "      <td>112542.58</td>\n",
       "      <td>0</td>\n",
       "    </tr>\n",
       "    <tr>\n",
       "      <th>2</th>\n",
       "      <td>3</td>\n",
       "      <td>15619304</td>\n",
       "      <td>Onio</td>\n",
       "      <td>502</td>\n",
       "      <td>France</td>\n",
       "      <td>Female</td>\n",
       "      <td>42</td>\n",
       "      <td>8</td>\n",
       "      <td>159660.80</td>\n",
       "      <td>3</td>\n",
       "      <td>1</td>\n",
       "      <td>0</td>\n",
       "      <td>113931.57</td>\n",
       "      <td>1</td>\n",
       "    </tr>\n",
       "    <tr>\n",
       "      <th>3</th>\n",
       "      <td>4</td>\n",
       "      <td>15701354</td>\n",
       "      <td>Boni</td>\n",
       "      <td>699</td>\n",
       "      <td>France</td>\n",
       "      <td>Female</td>\n",
       "      <td>39</td>\n",
       "      <td>1</td>\n",
       "      <td>0.00</td>\n",
       "      <td>2</td>\n",
       "      <td>0</td>\n",
       "      <td>0</td>\n",
       "      <td>93826.63</td>\n",
       "      <td>0</td>\n",
       "    </tr>\n",
       "    <tr>\n",
       "      <th>4</th>\n",
       "      <td>5</td>\n",
       "      <td>15737888</td>\n",
       "      <td>Mitchell</td>\n",
       "      <td>850</td>\n",
       "      <td>Spain</td>\n",
       "      <td>Female</td>\n",
       "      <td>43</td>\n",
       "      <td>2</td>\n",
       "      <td>125510.82</td>\n",
       "      <td>1</td>\n",
       "      <td>1</td>\n",
       "      <td>1</td>\n",
       "      <td>79084.10</td>\n",
       "      <td>0</td>\n",
       "    </tr>\n",
       "  </tbody>\n",
       "</table>\n",
       "</div>"
      ],
      "text/plain": [
       "   RowNumber  CustomerId   Surname  CreditScore Geography  Gender  Age  \\\n",
       "0          1    15634602  Hargrave          619    France  Female   42   \n",
       "1          2    15647311      Hill          608     Spain  Female   41   \n",
       "2          3    15619304      Onio          502    France  Female   42   \n",
       "3          4    15701354      Boni          699    France  Female   39   \n",
       "4          5    15737888  Mitchell          850     Spain  Female   43   \n",
       "\n",
       "   Tenure    Balance  NumOfProducts  HasCrCard  IsActiveMember  \\\n",
       "0       2       0.00              1          1               1   \n",
       "1       1   83807.86              1          0               1   \n",
       "2       8  159660.80              3          1               0   \n",
       "3       1       0.00              2          0               0   \n",
       "4       2  125510.82              1          1               1   \n",
       "\n",
       "   EstimatedSalary  Exited  \n",
       "0        101348.88       1  \n",
       "1        112542.58       0  \n",
       "2        113931.57       1  \n",
       "3         93826.63       0  \n",
       "4         79084.10       0  "
      ]
     },
     "execution_count": 3,
     "metadata": {},
     "output_type": "execute_result"
    }
   ],
   "source": [
    "# Importing dataset\n",
    "dataset = pd.read_csv(\"Churn_Modelling.csv\")\n",
    "dataset.head()"
   ]
  },
  {
   "cell_type": "code",
   "execution_count": 4,
   "metadata": {},
   "outputs": [],
   "source": [
    "# Preprocessing data\n",
    "X = dataset.iloc[:, 3:-1].values  # Removing customerid and surname from feature\n",
    "y = dataset.iloc[:, -1].values"
   ]
  },
  {
   "cell_type": "code",
   "execution_count": 5,
   "metadata": {},
   "outputs": [
    {
     "name": "stdout",
     "output_type": "stream",
     "text": [
      "[[619 'France' 'Female' ... 1 1 101348.88]\n",
      " [608 'Spain' 'Female' ... 0 1 112542.58]\n",
      " [502 'France' 'Female' ... 1 0 113931.57]\n",
      " ...\n",
      " [709 'France' 'Female' ... 0 1 42085.58]\n",
      " [772 'Germany' 'Male' ... 1 0 92888.52]\n",
      " [792 'France' 'Female' ... 1 0 38190.78]]\n"
     ]
    }
   ],
   "source": [
    "print(X)"
   ]
  },
  {
   "cell_type": "code",
   "execution_count": 6,
   "metadata": {},
   "outputs": [
    {
     "name": "stdout",
     "output_type": "stream",
     "text": [
      "[1 0 1 ... 1 1 0]\n"
     ]
    }
   ],
   "source": [
    "print(y)"
   ]
  },
  {
   "cell_type": "code",
   "execution_count": 7,
   "metadata": {},
   "outputs": [],
   "source": [
    "# Encoding categorical data"
   ]
  },
  {
   "cell_type": "code",
   "execution_count": 8,
   "metadata": {},
   "outputs": [
    {
     "name": "stdout",
     "output_type": "stream",
     "text": [
      "[[619 'France' 0 ... 1 1 101348.88]\n",
      " [608 'Spain' 0 ... 0 1 112542.58]\n",
      " [502 'France' 0 ... 1 0 113931.57]\n",
      " ...\n",
      " [709 'France' 0 ... 0 1 42085.58]\n",
      " [772 'Germany' 1 ... 1 0 92888.52]\n",
      " [792 'France' 0 ... 1 0 38190.78]]\n"
     ]
    }
   ],
   "source": [
    "# for gender\n",
    "from sklearn.preprocessing import LabelEncoder\n",
    "le = LabelEncoder()\n",
    "X[:, 2] = le.fit_transform(X[:, 2])\n",
    "print(X)"
   ]
  },
  {
   "cell_type": "code",
   "execution_count": 9,
   "metadata": {},
   "outputs": [
    {
     "name": "stdout",
     "output_type": "stream",
     "text": [
      "[[1.0 0.0 0.0 ... 1 1 101348.88]\n",
      " [0.0 0.0 1.0 ... 0 1 112542.58]\n",
      " [1.0 0.0 0.0 ... 1 0 113931.57]\n",
      " ...\n",
      " [1.0 0.0 0.0 ... 0 1 42085.58]\n",
      " [0.0 1.0 0.0 ... 1 0 92888.52]\n",
      " [1.0 0.0 0.0 ... 1 0 38190.78]]\n"
     ]
    }
   ],
   "source": [
    "# One hot encoding for geography\n",
    "from sklearn.compose import ColumnTransformer\n",
    "from sklearn.preprocessing import OneHotEncoder\n",
    "ct = ColumnTransformer(transformers=[('encoder', OneHotEncoder(), [1])], remainder=\"passthrough\")\n",
    "X = np.array(ct.fit_transform(X))\n",
    "print(X)"
   ]
  },
  {
   "cell_type": "code",
   "execution_count": 10,
   "metadata": {},
   "outputs": [],
   "source": [
    "# Splitting to train and test set\n",
    "from sklearn.model_selection import train_test_split\n",
    "X_train, X_test, y_train, y_test = train_test_split(X, y, test_size=0.2)"
   ]
  },
  {
   "cell_type": "code",
   "execution_count": 11,
   "metadata": {},
   "outputs": [
    {
     "name": "stdout",
     "output_type": "stream",
     "text": [
      "[[ 0.99252792 -0.57369368 -0.57523331 ...  0.65114845 -1.02429504\n",
      "  -0.28884592]\n",
      " [ 0.99252792 -0.57369368 -0.57523331 ... -1.53574811 -1.02429504\n",
      "  -0.63940387]\n",
      " [-1.00752834 -0.57369368  1.73842505 ...  0.65114845 -1.02429504\n",
      "  -1.49125989]\n",
      " ...\n",
      " [-1.00752834 -0.57369368  1.73842505 ...  0.65114845 -1.02429504\n",
      "   0.20361912]\n",
      " [-1.00752834  1.74309049 -0.57523331 ...  0.65114845  0.97628121\n",
      "  -0.39428193]\n",
      " [-1.00752834 -0.57369368  1.73842505 ... -1.53574811  0.97628121\n",
      "  -0.69863788]]\n"
     ]
    }
   ],
   "source": [
    "# Feature Scale\n",
    "# Note: it is very important to scale the features while using ANNs\n",
    "from sklearn.preprocessing import StandardScaler\n",
    "sc = StandardScaler()\n",
    "X_train = sc.fit_transform(X_train)\n",
    "X_test = sc.fit_transform(X_test)\n",
    "print(X_train)"
   ]
  },
  {
   "cell_type": "code",
   "execution_count": 12,
   "metadata": {},
   "outputs": [],
   "source": [
    "# Building the ANN"
   ]
  },
  {
   "cell_type": "code",
   "execution_count": 13,
   "metadata": {},
   "outputs": [],
   "source": [
    "# Initializing the ANN\n",
    "ann = tf.keras.models.Sequential()"
   ]
  },
  {
   "cell_type": "code",
   "execution_count": 14,
   "metadata": {},
   "outputs": [],
   "source": [
    "# Adding the input layer and first hidden layer\n",
    "ann.add(tf.keras.layers.Dense(units=6, activation=\"relu\"))"
   ]
  },
  {
   "cell_type": "code",
   "execution_count": 15,
   "metadata": {},
   "outputs": [],
   "source": [
    "# Adding second hidden layer\n",
    "ann.add(tf.keras.layers.Dense(units=6, activation=\"relu\")) # hidden layer "
   ]
  },
  {
   "cell_type": "code",
   "execution_count": 16,
   "metadata": {},
   "outputs": [],
   "source": [
    "# Adding the output layer\n",
    "ann.add(tf.keras.layers.Dense(units=1, activation=\"sigmoid\")) # units = 1 for binary output and sigmoid for probability of output"
   ]
  },
  {
   "cell_type": "code",
   "execution_count": 17,
   "metadata": {},
   "outputs": [],
   "source": [
    "# Training the ANN"
   ]
  },
  {
   "cell_type": "code",
   "execution_count": 18,
   "metadata": {},
   "outputs": [],
   "source": [
    "# compiling the ANN\n",
    "ann.compile(optimizer=\"adam\", loss=\"binary_crossentropy\", metrics=['accuracy'])"
   ]
  },
  {
   "cell_type": "code",
   "execution_count": 19,
   "metadata": {},
   "outputs": [
    {
     "name": "stdout",
     "output_type": "stream",
     "text": [
      "Epoch 1/50\n",
      "250/250 [==============================] - 0s 783us/step - loss: 0.5259 - accuracy: 0.7970\n",
      "Epoch 2/50\n",
      "250/250 [==============================] - 0s 632us/step - loss: 0.4624 - accuracy: 0.7970\n",
      "Epoch 3/50\n",
      "250/250 [==============================] - 0s 652us/step - loss: 0.4378 - accuracy: 0.7997\n",
      "Epoch 4/50\n",
      "250/250 [==============================] - 0s 820us/step - loss: 0.4226 - accuracy: 0.8176\n",
      "Epoch 5/50\n",
      "250/250 [==============================] - 0s 644us/step - loss: 0.4146 - accuracy: 0.8191\n",
      "Epoch 6/50\n",
      "250/250 [==============================] - 0s 676us/step - loss: 0.4090 - accuracy: 0.8202\n",
      "Epoch 7/50\n",
      "250/250 [==============================] - 0s 724us/step - loss: 0.4051 - accuracy: 0.8221\n",
      "Epoch 8/50\n",
      "250/250 [==============================] - 0s 915us/step - loss: 0.4018 - accuracy: 0.8239\n",
      "Epoch 9/50\n",
      "250/250 [==============================] - 0s 927us/step - loss: 0.3989 - accuracy: 0.8255\n",
      "Epoch 10/50\n",
      "250/250 [==============================] - 0s 860us/step - loss: 0.3952 - accuracy: 0.8298\n",
      "Epoch 11/50\n",
      "250/250 [==============================] - 0s 1ms/step - loss: 0.3913 - accuracy: 0.8314\n",
      "Epoch 12/50\n",
      "250/250 [==============================] - 0s 724us/step - loss: 0.3877 - accuracy: 0.8335\n",
      "Epoch 13/50\n",
      "250/250 [==============================] - 0s 908us/step - loss: 0.3842 - accuracy: 0.8366\n",
      "Epoch 14/50\n",
      "250/250 [==============================] - 0s 967us/step - loss: 0.3809 - accuracy: 0.8356\n",
      "Epoch 15/50\n",
      "250/250 [==============================] - 0s 716us/step - loss: 0.3774 - accuracy: 0.8365\n",
      "Epoch 16/50\n",
      "250/250 [==============================] - 0s 688us/step - loss: 0.3744 - accuracy: 0.8366\n",
      "Epoch 17/50\n",
      "250/250 [==============================] - 0s 716us/step - loss: 0.3707 - accuracy: 0.8363\n",
      "Epoch 18/50\n",
      "250/250 [==============================] - 0s 768us/step - loss: 0.3687 - accuracy: 0.8457\n",
      "Epoch 19/50\n",
      "250/250 [==============================] - 0s 736us/step - loss: 0.3652 - accuracy: 0.8508\n",
      "Epoch 20/50\n",
      "250/250 [==============================] - 0s 732us/step - loss: 0.3628 - accuracy: 0.85210s - loss: 0.3746 - accuracy: \n",
      "Epoch 21/50\n",
      "250/250 [==============================] - 0s 688us/step - loss: 0.3603 - accuracy: 0.8558\n",
      "Epoch 22/50\n",
      "250/250 [==============================] - 0s 748us/step - loss: 0.3582 - accuracy: 0.8565\n",
      "Epoch 23/50\n",
      "250/250 [==============================] - 0s 676us/step - loss: 0.3564 - accuracy: 0.8587\n",
      "Epoch 24/50\n",
      "250/250 [==============================] - 0s 660us/step - loss: 0.3544 - accuracy: 0.8591\n",
      "Epoch 25/50\n",
      "250/250 [==============================] - 0s 764us/step - loss: 0.3531 - accuracy: 0.8586\n",
      "Epoch 26/50\n",
      "250/250 [==============================] - 0s 668us/step - loss: 0.3521 - accuracy: 0.8612\n",
      "Epoch 27/50\n",
      "250/250 [==============================] - 0s 680us/step - loss: 0.3508 - accuracy: 0.8608\n",
      "Epoch 28/50\n",
      "250/250 [==============================] - 0s 720us/step - loss: 0.3491 - accuracy: 0.8610\n",
      "Epoch 29/50\n",
      "250/250 [==============================] - 0s 656us/step - loss: 0.3485 - accuracy: 0.8600\n",
      "Epoch 30/50\n",
      "250/250 [==============================] - 0s 740us/step - loss: 0.3468 - accuracy: 0.8601\n",
      "Epoch 31/50\n",
      "250/250 [==============================] - 0s 680us/step - loss: 0.3457 - accuracy: 0.8629\n",
      "Epoch 32/50\n",
      "250/250 [==============================] - 0s 852us/step - loss: 0.3444 - accuracy: 0.8634\n",
      "Epoch 33/50\n",
      "250/250 [==============================] - 0s 860us/step - loss: 0.3442 - accuracy: 0.8636\n",
      "Epoch 34/50\n",
      "250/250 [==============================] - 0s 664us/step - loss: 0.3436 - accuracy: 0.8629\n",
      "Epoch 35/50\n",
      "250/250 [==============================] - 0s 788us/step - loss: 0.3427 - accuracy: 0.8635\n",
      "Epoch 36/50\n",
      "250/250 [==============================] - 0s 696us/step - loss: 0.3420 - accuracy: 0.8646\n",
      "Epoch 37/50\n",
      "250/250 [==============================] - 0s 632us/step - loss: 0.3409 - accuracy: 0.8635\n",
      "Epoch 38/50\n",
      "250/250 [==============================] - 0s 612us/step - loss: 0.3408 - accuracy: 0.8634\n",
      "Epoch 39/50\n",
      "250/250 [==============================] - 0s 660us/step - loss: 0.3404 - accuracy: 0.8633\n",
      "Epoch 40/50\n",
      "250/250 [==============================] - 0s 600us/step - loss: 0.3398 - accuracy: 0.8639\n",
      "Epoch 41/50\n",
      "250/250 [==============================] - 0s 1ms/step - loss: 0.3397 - accuracy: 0.8641\n",
      "Epoch 42/50\n",
      "250/250 [==============================] - 0s 688us/step - loss: 0.3388 - accuracy: 0.8643\n",
      "Epoch 43/50\n",
      "250/250 [==============================] - 0s 768us/step - loss: 0.3393 - accuracy: 0.8652\n",
      "Epoch 44/50\n",
      "250/250 [==============================] - 0s 955us/step - loss: 0.3382 - accuracy: 0.8640\n",
      "Epoch 45/50\n",
      "250/250 [==============================] - 0s 756us/step - loss: 0.3380 - accuracy: 0.8641\n",
      "Epoch 46/50\n",
      "250/250 [==============================] - 0s 756us/step - loss: 0.3377 - accuracy: 0.8643\n",
      "Epoch 47/50\n",
      "250/250 [==============================] - 0s 724us/step - loss: 0.3374 - accuracy: 0.8636\n",
      "Epoch 48/50\n",
      "250/250 [==============================] - 0s 748us/step - loss: 0.3371 - accuracy: 0.8655\n",
      "Epoch 49/50\n",
      "250/250 [==============================] - 0s 752us/step - loss: 0.3362 - accuracy: 0.8650\n",
      "Epoch 50/50\n",
      "250/250 [==============================] - 0s 720us/step - loss: 0.3361 - accuracy: 0.8634\n"
     ]
    },
    {
     "data": {
      "text/plain": [
       "<tensorflow.python.keras.callbacks.History at 0x23aac712e50>"
      ]
     },
     "execution_count": 19,
     "metadata": {},
     "output_type": "execute_result"
    }
   ],
   "source": [
    "# Training the ANN\n",
    "ann.fit(X_train, y_train, batch_size=32, epochs=50)"
   ]
  },
  {
   "cell_type": "code",
   "execution_count": 20,
   "metadata": {},
   "outputs": [],
   "source": [
    "# Predictions"
   ]
  },
  {
   "cell_type": "code",
   "execution_count": 21,
   "metadata": {},
   "outputs": [
    {
     "name": "stdout",
     "output_type": "stream",
     "text": [
      "[[0.05192649]]\n"
     ]
    }
   ],
   "source": [
    "# Single Prediction\n",
    "print(ann.predict(sc.transform([[1.0, 0.0, 0.0, 600, 1, 40, 3, 60000, 2, 1, 1, 50000]])))"
   ]
  },
  {
   "cell_type": "code",
   "execution_count": 22,
   "metadata": {},
   "outputs": [],
   "source": [
    "# We can see that the probablity is very low (above) for customer to leave the bank"
   ]
  },
  {
   "cell_type": "code",
   "execution_count": 23,
   "metadata": {},
   "outputs": [
    {
     "name": "stdout",
     "output_type": "stream",
     "text": [
      "[[0 0]\n",
      " [0 0]\n",
      " [0 0]\n",
      " ...\n",
      " [0 0]\n",
      " [0 0]\n",
      " [0 0]]\n"
     ]
    }
   ],
   "source": [
    "# Predicting on test\n",
    "y_pred = ann.predict(X_test)\n",
    "y_pred = (y_pred > 0.5)\n",
    "print(np.concatenate((y_pred.reshape(len(y_pred),1),y_test.reshape(len(y_test),1)),1))"
   ]
  },
  {
   "cell_type": "code",
   "execution_count": 24,
   "metadata": {},
   "outputs": [
    {
     "name": "stdout",
     "output_type": "stream",
     "text": [
      "[[1514   73]\n",
      " [ 232  181]]\n"
     ]
    },
    {
     "data": {
      "text/plain": [
       "0.8475"
      ]
     },
     "execution_count": 24,
     "metadata": {},
     "output_type": "execute_result"
    }
   ],
   "source": [
    "# Confusion Matrix\n",
    "from sklearn.metrics import confusion_matrix, accuracy_score\n",
    "cm = confusion_matrix(y_test, y_pred)\n",
    "print(cm)\n",
    "accuracy_score(y_test, y_pred)"
   ]
  },
  {
   "cell_type": "code",
   "execution_count": null,
   "metadata": {},
   "outputs": [],
   "source": []
  }
 ],
 "metadata": {
  "kernelspec": {
   "display_name": "Python 3",
   "language": "python",
   "name": "python3"
  },
  "language_info": {
   "codemirror_mode": {
    "name": "ipython",
    "version": 3
   },
   "file_extension": ".py",
   "mimetype": "text/x-python",
   "name": "python",
   "nbconvert_exporter": "python",
   "pygments_lexer": "ipython3",
   "version": "3.8.3"
  }
 },
 "nbformat": 4,
 "nbformat_minor": 4
}
