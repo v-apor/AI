{
 "cells": [
  {
   "cell_type": "code",
   "execution_count": 1,
   "metadata": {},
   "outputs": [],
   "source": [
    "import pandas as pd\n",
    "import numpy as np\n",
    "import matplotlib.pyplot as plt"
   ]
  },
  {
   "cell_type": "code",
   "execution_count": 2,
   "metadata": {},
   "outputs": [
    {
     "name": "stdout",
     "output_type": "stream",
     "text": [
      "     Age  EstimatedSalary  Purchased\n",
      "0     19            19000          0\n",
      "1     35            20000          0\n",
      "2     26            43000          0\n",
      "3     27            57000          0\n",
      "4     19            76000          0\n",
      "..   ...              ...        ...\n",
      "395   46            41000          1\n",
      "396   51            23000          1\n",
      "397   50            20000          1\n",
      "398   36            33000          0\n",
      "399   49            36000          1\n",
      "\n",
      "[400 rows x 3 columns]\n"
     ]
    }
   ],
   "source": [
    "data = pd.read_csv(\"Social_Network_Ads.csv\")\n",
    "print(data)"
   ]
  },
  {
   "cell_type": "code",
   "execution_count": 3,
   "metadata": {},
   "outputs": [
    {
     "name": "stdout",
     "output_type": "stream",
     "text": [
      "     Age  EstimatedSalary\n",
      "0     19            19000\n",
      "1     35            20000\n",
      "2     26            43000\n",
      "3     27            57000\n",
      "4     19            76000\n",
      "..   ...              ...\n",
      "395   46            41000\n",
      "396   51            23000\n",
      "397   50            20000\n",
      "398   36            33000\n",
      "399   49            36000\n",
      "\n",
      "[400 rows x 2 columns] 0      0\n",
      "1      0\n",
      "2      0\n",
      "3      0\n",
      "4      0\n",
      "      ..\n",
      "395    1\n",
      "396    1\n",
      "397    1\n",
      "398    0\n",
      "399    1\n",
      "Name: Purchased, Length: 400, dtype: int64\n"
     ]
    }
   ],
   "source": [
    "X = data.iloc[:, :-1]\n",
    "y = data.iloc[:, -1]\n",
    "print(X,y)"
   ]
  },
  {
   "cell_type": "code",
   "execution_count": 4,
   "metadata": {},
   "outputs": [],
   "source": [
    "from sklearn.model_selection import train_test_split\n",
    "X_train, X_test, y_train, y_test = train_test_split(X,y,test_size=0.2)"
   ]
  },
  {
   "cell_type": "code",
   "execution_count": 5,
   "metadata": {},
   "outputs": [
    {
     "name": "stdout",
     "output_type": "stream",
     "text": [
      "293    0\n",
      "181    0\n",
      "15     0\n",
      "296    1\n",
      "241    0\n",
      "      ..\n",
      "179    0\n",
      "204    1\n",
      "110    0\n",
      "360    1\n",
      "184    0\n",
      "Name: Purchased, Length: 320, dtype: int64\n"
     ]
    }
   ],
   "source": [
    "print(y_train)"
   ]
  },
  {
   "cell_type": "code",
   "execution_count": 12,
   "metadata": {},
   "outputs": [],
   "source": [
    "# Feature Scaling\n",
    "from sklearn.preprocessing import StandardScaler\n",
    "scaler = StandardScaler()\n",
    "scaler.fit(X_train)\n",
    "#print(scaler.mean_)\n",
    "X_train = scaler.transform(X_train)\n",
    "X_test = scaler.transform(X_test)"
   ]
  },
  {
   "cell_type": "code",
   "execution_count": 13,
   "metadata": {},
   "outputs": [
    {
     "name": "stdout",
     "output_type": "stream",
     "text": [
      "[[-0.84452761 -0.79885014]\n",
      " [-0.27856146 -1.2600717 ]\n",
      " [-0.27856146 -1.37537708]\n",
      " [-0.08990608  0.2677247 ]\n",
      " [ 0.38173237 -0.51058667]\n",
      " [-0.84452761 -0.2799759 ]\n",
      " [ 0.38173237 -0.48176033]\n",
      " [ 0.19307699  0.03711392]\n",
      " [-0.27856146 -1.31772439]\n",
      " [-0.08990608  0.210072  ]\n",
      " [-1.31616606  0.52716182]\n",
      " [ 0.19307699 -0.30880224]\n",
      " [-0.75019991  0.23889835]\n",
      " [-1.31616606 -0.45293398]\n",
      " [ 0.00442161  0.00828757]\n",
      " [-1.78780451 -1.43302978]\n",
      " [ 0.19307699 -0.33762859]\n",
      " [-0.65587222 -1.51950882]\n",
      " [ 0.75904314 -1.23124535]\n",
      " [-1.12751068  0.2677247 ]\n",
      " [-1.12751068 -0.53941302]\n",
      " [-0.08990608  2.17026361]\n",
      " [ 0.94769852 -0.85650284]\n",
      " [-1.50482144 -1.51950882]\n",
      " [-0.27856146  0.12359296]\n",
      " [ 1.89097542 -0.94298188]\n",
      " [ 0.38173237 -0.16467051]\n",
      " [ 0.28740468  0.03711392]\n",
      " [ 0.00442161 -0.45293398]\n",
      " [ 1.04202621 -0.16467051]\n",
      " [-0.27856146  0.23889835]\n",
      " [ 0.0987493  -0.2799759 ]\n",
      " [-0.46721684  1.21899415]\n",
      " [ 0.19307699  2.05495822]\n",
      " [ 0.19307699 -0.39528128]\n",
      " [-0.27856146 -0.45293398]\n",
      " [-1.69347682  0.09476662]\n",
      " [-0.18423377 -0.2223232 ]\n",
      " [ 0.57038775  1.96847918]\n",
      " [ 0.38173237  0.2677247 ]\n",
      " [-1.31616606 -1.37537708]\n",
      " [ 0.0987493   1.01720972]\n",
      " [-0.37288915  1.27664685]\n",
      " [-0.56154453 -1.51950882]\n",
      " [-1.22183837 -1.40420343]\n",
      " [ 0.85337083 -1.46185613]\n",
      " [-0.27856146  0.03711392]\n",
      " [-1.41049375 -0.65471841]\n",
      " [ 0.0987493  -0.82767649]\n",
      " [-1.78780451  0.41185643]\n",
      " [-0.27856146  0.12359296]\n",
      " [ 0.00442161 -0.2799759 ]\n",
      " [-0.9388553   1.50725762]\n",
      " [ 0.00442161 -0.16467051]\n",
      " [-0.9388553   0.41185643]\n",
      " [-1.78780451 -0.02053877]\n",
      " [-0.27856146  0.49833548]\n",
      " [ 1.79664773 -1.08711361]\n",
      " [-1.12751068 -0.79885014]\n",
      " [ 1.89097542 -0.68354476]\n",
      " [ 0.66471545 -1.40420343]\n",
      " [-0.08990608  0.2677247 ]\n",
      " [-0.27856146 -0.91415553]\n",
      " [-0.84452761 -0.68354476]\n",
      " [ 1.70232004  1.79552109]\n",
      " [ 0.94769852  0.09476662]\n",
      " [ 0.85337083 -0.56823937]\n",
      " [ 0.94769852 -1.08711361]\n",
      " [ 0.85337083  1.04603607]\n",
      " [-0.9388553   0.23889835]\n",
      " [ 1.60799235  1.70904205]\n",
      " [ 1.41933697  0.32537739]\n",
      " [-1.03318299  0.38303009]\n",
      " [-1.22183837 -1.08711361]\n",
      " [-1.03318299 -0.36645494]\n",
      " [ 0.28740468 -0.2223232 ]\n",
      " [-0.65587222  0.09476662]\n",
      " [ 1.51366466 -0.02053877]\n",
      " [ 0.75904314  1.33429954]\n",
      " [-1.69347682  0.44068278]]\n"
     ]
    }
   ],
   "source": [
    "print(X_test)"
   ]
  },
  {
   "cell_type": "code",
   "execution_count": 14,
   "metadata": {},
   "outputs": [
    {
     "data": {
      "text/plain": [
       "<matplotlib.collections.PathCollection at 0x2157725d3a0>"
      ]
     },
     "execution_count": 14,
     "metadata": {},
     "output_type": "execute_result"
    },
    {
     "data": {
      "image/png": "[encoded data removed]",
      "text/plain": [
       "<Figure size 432x288 with 1 Axes>"
      ]
     },
     "metadata": {
      "needs_background": "light"
     },
     "output_type": "display_data"
    }
   ],
   "source": [
    "plt.scatter(data['Age'],data[\"EstimatedSalary\"])"
   ]
  },
  {
   "cell_type": "code",
   "execution_count": 17,
   "metadata": {},
   "outputs": [
    {
     "data": {
      "text/plain": [
       "KNeighborsClassifier()"
      ]
     },
     "execution_count": 17,
     "metadata": {},
     "output_type": "execute_result"
    }
   ],
   "source": [
    "# Importing KNN \n",
    "from sklearn.neighbors import KNeighborsClassifier\n",
    "classifier = KNeighborsClassifier(n_neighbors=5, metric='minkowski', p=2)\n",
    "classifier.fit(X_train, y_train)"
   ]
  },
  {
   "cell_type": "code",
   "execution_count": 23,
   "metadata": {},
   "outputs": [
    {
     "name": "stdout",
     "output_type": "stream",
     "text": [
      "[1]\n"
     ]
    }
   ],
   "source": [
    "print(classifier.predict(scaler.transform([[50, 50000]])))"
   ]
  },
  {
   "cell_type": "code",
   "execution_count": 24,
   "metadata": {},
   "outputs": [
    {
     "name": "stdout",
     "output_type": "stream",
     "text": [
      "[0]\n"
     ]
    }
   ],
   "source": [
    "print(classifier.predict(scaler.transform([[28, 80000]])))"
   ]
  },
  {
   "cell_type": "code",
   "execution_count": 32,
   "metadata": {},
   "outputs": [],
   "source": [
    "y_pred = classifier.predict(X_test)"
   ]
  },
  {
   "cell_type": "code",
   "execution_count": 38,
   "metadata": {},
   "outputs": [
    {
     "name": "stdout",
     "output_type": "stream",
     "text": [
      "[[0 0]\n",
      " [0 0]\n",
      " [0 0]\n",
      " [0 0]\n",
      " [0 0]\n",
      " [0 0]\n",
      " [0 0]\n",
      " [0 0]\n",
      " [0 0]\n",
      " [0 1]\n",
      " [0 0]\n",
      " [0 0]\n",
      " [0 0]\n",
      " [0 0]\n",
      " [0 0]\n",
      " [0 0]\n",
      " [0 0]\n",
      " [0 0]\n",
      " [1 1]\n",
      " [0 0]\n",
      " [0 0]\n",
      " [1 1]\n",
      " [1 1]\n",
      " [0 0]\n",
      " [0 0]\n",
      " [1 1]\n",
      " [0 0]\n",
      " [0 0]\n",
      " [0 0]\n",
      " [0 0]\n",
      " [0 0]\n",
      " [0 0]\n",
      " [1 0]\n",
      " [1 1]\n",
      " [0 0]\n",
      " [0 0]\n",
      " [0 0]\n",
      " [0 0]\n",
      " [1 1]\n",
      " [0 0]\n",
      " [0 0]\n",
      " [1 1]\n",
      " [1 0]\n",
      " [0 0]\n",
      " [0 0]\n",
      " [1 1]\n",
      " [0 0]\n",
      " [0 0]\n",
      " [0 0]\n",
      " [0 0]\n",
      " [0 0]\n",
      " [0 0]\n",
      " [1 1]\n",
      " [0 0]\n",
      " [0 0]\n",
      " [0 0]\n",
      " [1 0]\n",
      " [1 1]\n",
      " [0 0]\n",
      " [1 1]\n",
      " [1 1]\n",
      " [0 0]\n",
      " [0 0]\n",
      " [0 0]\n",
      " [1 1]\n",
      " [0 1]\n",
      " [0 1]\n",
      " [1 1]\n",
      " [1 1]\n",
      " [0 0]\n",
      " [1 1]\n",
      " [1 1]\n",
      " [0 0]\n",
      " [0 0]\n",
      " [0 0]\n",
      " [0 0]\n",
      " [0 0]\n",
      " [1 1]\n",
      " [1 1]\n",
      " [0 0]]\n"
     ]
    }
   ],
   "source": [
    "print(np.concatenate((y_pred.reshape(-1,1), y_test.values.reshape(-1,1)),1))`"
   ]
  },
  {
   "cell_type": "code",
   "execution_count": 39,
   "metadata": {},
   "outputs": [
    {
     "name": "stdout",
     "output_type": "stream",
     "text": [
      "[[55  3]\n",
      " [ 3 19]]\n",
      "0.925\n"
     ]
    }
   ],
   "source": [
    "# Confusion Matrix\n",
    "from sklearn.metrics import confusion_matrix, accuracy_score\n",
    "cm = confusion_matrix(y_test, y_pred)\n",
    "print(cm)\n",
    "print(accuracy_score(y_test, y_pred))"
   ]
  },
  {
   "cell_type": "code",
   "execution_count": null,
   "metadata": {},
   "outputs": [],
   "source": []
  }
 ],
 "metadata": {
  "kernelspec": {
   "display_name": "Python 3",
   "language": "python",
   "name": "python3"
  },
  "language_info": {
   "codemirror_mode": {
    "name": "ipython",
    "version": 3
   },
   "file_extension": ".py",
   "mimetype": "text/x-python",
   "name": "python",
   "nbconvert_exporter": "python",
   "pygments_lexer": "ipython3",
   "version": "3.8.3"
  }
 },
 "nbformat": 4,
 "nbformat_minor": 4
}
