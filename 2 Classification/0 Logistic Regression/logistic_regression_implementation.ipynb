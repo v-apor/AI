{
 "cells": [
  {
   "cell_type": "code",
   "execution_count": 1,
   "metadata": {},
   "outputs": [],
   "source": [
    "# importing libraries\n",
    "import pandas as pd\n",
    "import numpy as np\n",
    "import matplotlib.pyplot as plt"
   ]
  },
  {
   "cell_type": "code",
   "execution_count": 2,
   "metadata": {},
   "outputs": [],
   "source": [
    "# importing dataset"
   ]
  },
  {
   "cell_type": "code",
   "execution_count": 26,
   "metadata": {},
   "outputs": [],
   "source": [
    "data = pd.read_csv(\"Social_Network_Ads.csv\")\n",
    "X = data.iloc[:, :-1]\n",
    "y = data.iloc[:, -1]"
   ]
  },
  {
   "cell_type": "code",
   "execution_count": 27,
   "metadata": {},
   "outputs": [
    {
     "name": "stdout",
     "output_type": "stream",
     "text": [
      "     Age  EstimatedSalary  Purchased\n",
      "0     19            19000          0\n",
      "1     35            20000          0\n",
      "2     26            43000          0\n",
      "3     27            57000          0\n",
      "4     19            76000          0\n",
      "..   ...              ...        ...\n",
      "395   46            41000          1\n",
      "396   51            23000          1\n",
      "397   50            20000          1\n",
      "398   36            33000          0\n",
      "399   49            36000          1\n",
      "\n",
      "[400 rows x 3 columns]\n",
      "     Age  EstimatedSalary\n",
      "0     19            19000\n",
      "1     35            20000\n",
      "2     26            43000\n",
      "3     27            57000\n",
      "4     19            76000\n",
      "..   ...              ...\n",
      "395   46            41000\n",
      "396   51            23000\n",
      "397   50            20000\n",
      "398   36            33000\n",
      "399   49            36000\n",
      "\n",
      "[400 rows x 2 columns]\n",
      "0      0\n",
      "1      0\n",
      "2      0\n",
      "3      0\n",
      "4      0\n",
      "      ..\n",
      "395    1\n",
      "396    1\n",
      "397    1\n",
      "398    0\n",
      "399    1\n",
      "Name: Purchased, Length: 400, dtype: int64\n"
     ]
    }
   ],
   "source": [
    "print(data)\n",
    "print(X)\n",
    "print(y)"
   ]
  },
  {
   "cell_type": "code",
   "execution_count": 28,
   "metadata": {},
   "outputs": [],
   "source": [
    "# splitting to train and test set"
   ]
  },
  {
   "cell_type": "code",
   "execution_count": 30,
   "metadata": {},
   "outputs": [],
   "source": [
    "from sklearn.model_selection import train_test_split\n",
    "X_train, X_test, y_train, y_test = train_test_split(X,y,test_size=0.25)"
   ]
  },
  {
   "cell_type": "code",
   "execution_count": 31,
   "metadata": {},
   "outputs": [],
   "source": [
    "# Scaling the salary and age\n",
    "from sklearn.preprocessing import StandardScaler\n",
    "sc = StandardScaler()\n",
    "X_train = sc.fit_transform(X_train)\n",
    "X_test = sc.transform(X_test)"
   ]
  },
  {
   "cell_type": "code",
   "execution_count": 37,
   "metadata": {},
   "outputs": [
    {
     "name": "stdout",
     "output_type": "stream",
     "text": [
      "[[-0.70230411  1.30752418]\n",
      " [ 0.81073886  0.72986826]\n",
      " [ 0.43247812 -0.16549842]\n",
      " [-0.41860856 -0.3099124 ]\n",
      " [ 0.33791293 -0.22326401]\n",
      " [ 0.99986923 -1.0897479 ]\n",
      " [ 0.71617367  1.74076612]\n",
      " [-0.04034781  0.00779835]\n",
      " [-0.41860856 -0.56985757]\n",
      " [-0.22947818  0.18109513]]\n"
     ]
    }
   ],
   "source": [
    "print(X_test[-10:])\n",
    "# age/estimated salary"
   ]
  },
  {
   "cell_type": "code",
   "execution_count": 38,
   "metadata": {},
   "outputs": [],
   "source": [
    "# Importing Logistic Regression lib\n",
    "from sklearn.linear_model import LogisticRegression\n",
    "classifier = LogisticRegression()"
   ]
  },
  {
   "cell_type": "code",
   "execution_count": 50,
   "metadata": {},
   "outputs": [
    {
     "data": {
      "text/plain": [
       "LogisticRegression()"
      ]
     },
     "execution_count": 50,
     "metadata": {},
     "output_type": "execute_result"
    }
   ],
   "source": [
    "# Training the model\n",
    "classifier.fit(X_train, y_train)"
   ]
  },
  {
   "cell_type": "code",
   "execution_count": 56,
   "metadata": {},
   "outputs": [
    {
     "data": {
      "text/plain": [
       "array([[0.28888154, 0.71111846],\n",
       "       [0.90462754, 0.09537246],\n",
       "       [0.76035608, 0.23964392],\n",
       "       [0.78674834, 0.21325166],\n",
       "       [0.97124577, 0.02875423],\n",
       "       [0.02979803, 0.97020197],\n",
       "       [0.81847027, 0.18152973],\n",
       "       [0.91293618, 0.08706382],\n",
       "       [0.74169191, 0.25830809],\n",
       "       [0.35062387, 0.64937613],\n",
       "       [0.47539651, 0.52460349],\n",
       "       [0.11201726, 0.88798274],\n",
       "       [0.99027083, 0.00972917],\n",
       "       [0.75587254, 0.24412746],\n",
       "       [0.39345859, 0.60654141],\n",
       "       [0.34487882, 0.65512118],\n",
       "       [0.59127502, 0.40872498],\n",
       "       [0.5234065 , 0.4765935 ],\n",
       "       [0.11200269, 0.88799731],\n",
       "       [0.14871911, 0.85128089],\n",
       "       [0.95150178, 0.04849822],\n",
       "       [0.03890022, 0.96109978],\n",
       "       [0.15300134, 0.84699866],\n",
       "       [0.99815646, 0.00184354],\n",
       "       [0.99789325, 0.00210675],\n",
       "       [0.96674011, 0.03325989],\n",
       "       [0.99253798, 0.00746202],\n",
       "       [0.77967223, 0.22032777],\n",
       "       [0.99432494, 0.00567506],\n",
       "       [0.95340879, 0.04659121],\n",
       "       [0.59141658, 0.40858342],\n",
       "       [0.50678125, 0.49321875],\n",
       "       [0.99572237, 0.00427763],\n",
       "       [0.09216154, 0.90783846],\n",
       "       [0.70498152, 0.29501848],\n",
       "       [0.35445589, 0.64554411],\n",
       "       [0.98308977, 0.01691023],\n",
       "       [0.68367144, 0.31632856],\n",
       "       [0.68545243, 0.31454757],\n",
       "       [0.66340522, 0.33659478],\n",
       "       [0.84854593, 0.15145407],\n",
       "       [0.96335999, 0.03664001],\n",
       "       [0.8363538 , 0.1636462 ],\n",
       "       [0.98505835, 0.01494165],\n",
       "       [0.81217316, 0.18782684],\n",
       "       [0.71693471, 0.28306529],\n",
       "       [0.88919864, 0.11080136],\n",
       "       [0.26055529, 0.73944471],\n",
       "       [0.93250756, 0.06749244],\n",
       "       [0.98517712, 0.01482288],\n",
       "       [0.9898595 , 0.0101405 ],\n",
       "       [0.96029578, 0.03970422],\n",
       "       [0.66156104, 0.33843896],\n",
       "       [0.21960486, 0.78039514],\n",
       "       [0.72534503, 0.27465497],\n",
       "       [0.11279631, 0.88720369],\n",
       "       [0.39342364, 0.60657636],\n",
       "       [0.99486446, 0.00513554],\n",
       "       [0.72698509, 0.27301491],\n",
       "       [0.87801332, 0.12198668],\n",
       "       [0.87162793, 0.12837207],\n",
       "       [0.94494494, 0.05505506],\n",
       "       [0.98308977, 0.01691023],\n",
       "       [0.62515824, 0.37484176],\n",
       "       [0.84633762, 0.15366238],\n",
       "       [0.85796585, 0.14203415],\n",
       "       [0.57311448, 0.42688552],\n",
       "       [0.09216154, 0.90783846],\n",
       "       [0.87892512, 0.12107488],\n",
       "       [0.25257816, 0.74742184],\n",
       "       [0.83518151, 0.16481849],\n",
       "       [0.93248913, 0.06751087],\n",
       "       [0.226831  , 0.773169  ],\n",
       "       [0.60536056, 0.39463944],\n",
       "       [0.99827548, 0.00172452],\n",
       "       [0.10315636, 0.89684364],\n",
       "       [0.20416665, 0.79583335],\n",
       "       [0.40344794, 0.59655206],\n",
       "       [0.49422723, 0.50577277],\n",
       "       [0.14350147, 0.85649853],\n",
       "       [0.82458068, 0.17541932],\n",
       "       [0.55868087, 0.44131913],\n",
       "       [0.73851904, 0.26148096],\n",
       "       [0.78674834, 0.21325166],\n",
       "       [0.09284161, 0.90715839],\n",
       "       [0.53382801, 0.46617199],\n",
       "       [0.7432689 , 0.2567311 ],\n",
       "       [0.00644998, 0.99355002],\n",
       "       [0.4588281 , 0.5411719 ],\n",
       "       [0.9881372 , 0.0118628 ],\n",
       "       [0.73189713, 0.26810287],\n",
       "       [0.19747811, 0.80252189],\n",
       "       [0.5993991 , 0.4006009 ],\n",
       "       [0.90886095, 0.09113905],\n",
       "       [0.65971193, 0.34028807],\n",
       "       [0.57922817, 0.42077183],\n",
       "       [0.08471008, 0.91528992],\n",
       "       [0.76193541, 0.23806459],\n",
       "       [0.93090527, 0.06909473],\n",
       "       [0.79365733, 0.20634267]])"
      ]
     },
     "execution_count": 56,
     "metadata": {},
     "output_type": "execute_result"
    }
   ],
   "source": [
    "# Predicting the result probability\n",
    "classifier.predict_proba(X_test)"
   ]
  },
  {
   "cell_type": "code",
   "execution_count": 51,
   "metadata": {},
   "outputs": [
    {
     "data": {
      "text/plain": [
       "array([1, 0, 0, 0, 0, 1, 0, 0, 0, 1, 1, 1, 0, 0, 1, 1, 0, 0, 1, 1, 0, 1,\n",
       "       1, 0, 0, 0, 0, 0, 0, 0, 0, 0, 0, 1, 0, 1, 0, 0, 0, 0, 0, 0, 0, 0,\n",
       "       0, 0, 0, 1, 0, 0, 0, 0, 0, 1, 0, 1, 1, 0, 0, 0, 0, 0, 0, 0, 0, 0,\n",
       "       0, 1, 0, 1, 0, 0, 1, 0, 0, 1, 1, 1, 1, 1, 0, 0, 0, 0, 1, 0, 0, 1,\n",
       "       1, 0, 0, 1, 0, 0, 0, 0, 1, 0, 0, 0], dtype=int64)"
      ]
     },
     "execution_count": 51,
     "metadata": {},
     "output_type": "execute_result"
    }
   ],
   "source": [
    "# Predicting the result classify\n",
    "classifier.predict(X_test)"
   ]
  },
  {
   "cell_type": "code",
   "execution_count": 55,
   "metadata": {},
   "outputs": [
    {
     "name": "stdout",
     "output_type": "stream",
     "text": [
      "[[-0.134913  -1.0897479]]\n"
     ]
    },
    {
     "data": {
      "text/plain": [
       "array([0], dtype=int64)"
      ]
     },
     "execution_count": 55,
     "metadata": {},
     "output_type": "execute_result"
    }
   ],
   "source": [
    "print(sc.transform([[36,33000]]))\n",
    "classifier.predict(sc.transform([[36,33000]]))"
   ]
  },
  {
   "cell_type": "code",
   "execution_count": 78,
   "metadata": {},
   "outputs": [
    {
     "name": "stdout",
     "output_type": "stream",
     "text": [
      "[[1 1]\n",
      " [0 0]\n",
      " [0 1]\n",
      " [0 0]\n",
      " [0 0]\n",
      " [1 1]\n",
      " [0 0]\n",
      " [0 0]\n",
      " [0 0]\n",
      " [1 1]\n",
      " [1 0]\n",
      " [1 1]\n",
      " [0 0]\n",
      " [0 1]\n",
      " [1 1]\n",
      " [1 0]\n",
      " [0 1]\n",
      " [0 0]\n",
      " [1 1]\n",
      " [1 1]\n",
      " [0 0]\n",
      " [1 1]\n",
      " [1 1]\n",
      " [0 0]\n",
      " [0 0]\n",
      " [0 0]\n",
      " [0 0]\n",
      " [0 0]\n",
      " [0 0]\n",
      " [0 0]\n",
      " [0 1]\n",
      " [0 1]\n",
      " [0 0]\n",
      " [1 1]\n",
      " [0 1]\n",
      " [1 1]\n",
      " [0 0]\n",
      " [0 0]\n",
      " [0 0]\n",
      " [0 1]\n",
      " [0 0]\n",
      " [0 0]\n",
      " [0 0]\n",
      " [0 0]\n",
      " [0 0]\n",
      " [0 1]\n",
      " [0 0]\n",
      " [1 1]\n",
      " [0 0]\n",
      " [0 0]\n",
      " [0 0]\n",
      " [0 0]\n",
      " [0 0]\n",
      " [1 1]\n",
      " [0 0]\n",
      " [1 0]\n",
      " [1 1]\n",
      " [0 0]\n",
      " [0 0]\n",
      " [0 0]\n",
      " [0 0]\n",
      " [0 0]\n",
      " [0 0]\n",
      " [0 0]\n",
      " [0 0]\n",
      " [0 0]\n",
      " [0 1]\n",
      " [1 1]\n",
      " [0 0]\n",
      " [1 1]\n",
      " [0 0]\n",
      " [0 0]\n",
      " [1 1]\n",
      " [0 1]\n",
      " [0 0]\n",
      " [1 1]\n",
      " [1 1]\n",
      " [1 1]\n",
      " [1 1]\n",
      " [1 1]\n",
      " [0 0]\n",
      " [0 0]\n",
      " [0 1]\n",
      " [0 0]\n",
      " [1 1]\n",
      " [0 1]\n",
      " [0 0]\n",
      " [1 1]\n",
      " [1 1]\n",
      " [0 0]\n",
      " [0 0]\n",
      " [1 0]\n",
      " [0 0]\n",
      " [0 0]\n",
      " [0 0]\n",
      " [0 1]\n",
      " [1 1]\n",
      " [0 0]\n",
      " [0 0]\n",
      " [0 0]]\n"
     ]
    }
   ],
   "source": [
    "# Predicted vs Real results\n",
    "y_pred = classifier.predict(X_test)\n",
    "y_pred = classifier.predict(X_test)\n",
    "print(np.concatenate((y_pred.reshape(-1, 1),y_test.values.reshape(-1, 1)),1))"
   ]
  },
  {
   "cell_type": "code",
   "execution_count": 80,
   "metadata": {},
   "outputs": [],
   "source": [
    "# Make the confusion matrix (matrix to show no of correct vs incorrect)"
   ]
  },
  {
   "cell_type": "code",
   "execution_count": 85,
   "metadata": {},
   "outputs": [
    {
     "name": "stdout",
     "output_type": "stream",
     "text": [
      "[[57  4]\n",
      " [13 26]]\n"
     ]
    },
    {
     "data": {
      "text/plain": [
       "0.83"
      ]
     },
     "execution_count": 85,
     "metadata": {},
     "output_type": "execute_result"
    }
   ],
   "source": [
    "from sklearn.metrics import confusion_matrix, accuracy_score\n",
    "cm = confusion_matrix(y_test, y_pred)\n",
    "print(cm)\n",
    "accuracy_score(y_test, y_pred)"
   ]
  }
 ],
 "metadata": {
  "kernelspec": {
   "display_name": "Python 3",
   "language": "python",
   "name": "python3"
  },
  "language_info": {
   "codemirror_mode": {
    "name": "ipython",
    "version": 3
   },
   "file_extension": ".py",
   "mimetype": "text/x-python",
   "name": "python",
   "nbconvert_exporter": "python",
   "pygments_lexer": "ipython3",
   "version": "3.8.3"
  }
 },
 "nbformat": 4,
 "nbformat_minor": 4
}
